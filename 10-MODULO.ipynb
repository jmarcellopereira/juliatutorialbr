{
 "cells": [
  {
   "cell_type": "markdown",
   "metadata": {},
   "source": [
    "# MÓDULO\n",
    "\n",
    "Os módulos na linguagem Julia são `workspace` de variáveis separadas, isto é, eles introduzem um novo escopo global. Isso é interessnte e serve para separar as definições de variáveis de outros módulos, e dessa forma evitar conflitos de nome. Dentro de um módulo é possível controlar quais nomes de outros módulos são visíveis (por meio de importação) e especificar quais de seus nomes pretendem ser públicos (por meio da exportação). Um bom exemplo de conflito de nomes ocorre quando usamos os pacotes gráficos Pyplot e GR. Ambos possuem a função `plot` para gerar um gráfico e quando usamos `plot(vetor_x, vetor_y)` `Julia` informa que há um conflito com relação ao nome. Com o uso de um módulo definindo corretamente a função `plot` para os pacotes, é possivel utilza-los simultaneamente sem conflito. Além disso um modulo é o \"embrião\" de um pacote personalizado."
   ]
  },
  {
   "cell_type": "code",
   "execution_count": 1,
   "metadata": {
    "collapsed": false,
    "scrolled": true
   },
   "outputs": [],
   "source": [
    "# importando dois pacotes gráficos\n",
    "using GR, PyPlot"
   ]
  },
  {
   "cell_type": "code",
   "execution_count": 2,
   "metadata": {
    "collapsed": false
   },
   "outputs": [
    {
     "data": {
      "text/plain": [
       "f (generic function with 1 method)"
      ]
     },
     "execution_count": 2,
     "metadata": {},
     "output_type": "execute_result"
    }
   ],
   "source": [
    "# definindo um vetor e uma função\n",
    "x = linspace(0, 2*pi, 30)\n",
    "f(x) = sin(x)"
   ]
  },
  {
   "cell_type": "code",
   "execution_count": 3,
   "metadata": {
    "collapsed": false,
    "scrolled": true
   },
   "outputs": [
    {
     "name": "stderr",
     "output_type": "stream",
     "text": [
      "WARNING: both PyPlot and GR export \"plot\"; uses of it in module Main must be qualified\n"
     ]
    },
    {
     "ename": "LoadError",
     "evalue": "\u001b[91mUndefVarError: plot not defined\u001b[39m",
     "output_type": "error",
     "traceback": [
      "\u001b[91mUndefVarError: plot not defined\u001b[39m",
      "",
      "Stacktrace:",
      " [1] \u001b[1minclude_string\u001b[22m\u001b[22m\u001b[1m(\u001b[22m\u001b[22m::String, ::String\u001b[1m)\u001b[22m\u001b[22m at \u001b[1m./loading.jl:522\u001b[22m\u001b[22m"
     ]
    }
   ],
   "source": [
    "# executando a função plot para gerar o gráfico\n",
    "plot(x, f(x))"
   ]
  },
  {
   "cell_type": "markdown",
   "metadata": {},
   "source": [
    "Veja que ocorreu erro com o seguinte aviso: \n",
    "\n",
    "> `WARNING: both PyPlot and GR export \"plot\"; uses of it in module Main must be qualified`.\n",
    "\n",
    "Isto acontece devido os pacotes apresentare uma função com o mesmo nome e aí Julia não sabe qual pacote deverá utilizar. Para resolver esse problema, criaremos um módulo que permite executar a função `plot` de acordo com o pacote passado como argumento de uma função."
   ]
  },
  {
   "cell_type": "markdown",
   "metadata": {},
   "source": [
    "**Anatomia de um Módulo**\n",
    "\n",
    "\n",
    "```julia\n",
    "# -----------------------------------------------------#\n",
    "module NomeModule\n",
    "\n",
    "global variável = valor\n",
    "\n",
    "const constantes\n",
    "\n",
    "using Pacotes\n",
    "\n",
    "import ou importall nome_pacote\n",
    "\n",
    "export função1_módulo, função2_módulo,...\n",
    "\n",
    "include(\"script.jl\")\n",
    "\n",
    "type MeuTipo\n",
    "    #\n",
    "end\n",
    "\n",
    "function função1_módulo\n",
    "    # código\n",
    "end\n",
    "\n",
    "end\n",
    "# -----------------------------------------------------#\n",
    "\n",
    "```\n",
    "- `module`: É usado para trazer outro módulo para o módulo atual\n",
    "- `global`: Define variáveis globais\n",
    "- `const`: Define uma constante\n",
    "- `using`: Permite usar um pacote (PyPlot, SymPy, Calculus, etc) \n",
    "- `import ou importall`: É usado para trazer tipos específicos/funções/variáveis de outros módulos para o módulo; atual.\n",
    "- `export`: Exporta as funções definidas no módulo;\n",
    "- `include`: permite incluir scripts e todas as funções existentes neles;\n",
    "- `type`: Permite definir um tipo de dado específico;\n",
    "- `função1_módulo`: Função definida pelo desenvolvedor."
   ]
  },
  {
   "cell_type": "markdown",
   "metadata": {},
   "source": [
    "**Exemplo de um Módulo para resolver conflito de gráfico**"
   ]
  },
  {
   "cell_type": "code",
   "execution_count": 26,
   "metadata": {
    "collapsed": false,
    "scrolled": true
   },
   "outputs": [
    {
     "name": "stderr",
     "output_type": "stream",
     "text": [
      "WARNING: replacing module Grafico\n"
     ]
    },
    {
     "data": {
      "text/plain": [
       "Grafico"
      ]
     },
     "execution_count": 26,
     "metadata": {},
     "output_type": "execute_result"
    }
   ],
   "source": [
    "module Grafico\n",
    "\n",
    "# Carrega os pacotes gráficos\n",
    "using PyPlot\n",
    "using GR\n",
    "\n",
    "# Função exportada\n",
    "export plot_grafico\n",
    "\n",
    "# Função para gerenciar os pacotes\n",
    "function plot_grafico(x, y, pacote)\n",
    "    \n",
    "    if pacote == \"PyPlot\"\n",
    "        println(\"Usando o PyPlot\")\n",
    "        return fig = PyPlot.figure(figsize = (4,3)), PyPlot.plot(x , y);\n",
    "        \n",
    "    elseif pacote == \"GR\"\n",
    "        println(\"Usando o GR\")\n",
    "        return GR.plot(x , y)\n",
    "    end\n",
    "    \n",
    "end # fim função\n",
    "\n",
    "end # fim modulo"
   ]
  },
  {
   "cell_type": "markdown",
   "metadata": {},
   "source": [
    "Uma vez criado o módulo e executado, basta agora utilizá-lo. "
   ]
  },
  {
   "cell_type": "code",
   "execution_count": 27,
   "metadata": {
    "collapsed": false
   },
   "outputs": [
    {
     "name": "stderr",
     "output_type": "stream",
     "text": [
      "WARNING: using Grafico.plot_grafico in module Main conflicts with an existing identifier.\n"
     ]
    }
   ],
   "source": [
    "using Grafico"
   ]
  },
  {
   "cell_type": "code",
   "execution_count": 28,
   "metadata": {
    "collapsed": false
   },
   "outputs": [
    {
     "data": {
      "image/png": "[encoded data removed]",
      "text/plain": [
       "PyPlot.Figure(PyObject <matplotlib.figure.Figure object at 0x7f3bb5605eb8>)"
      ]
     },
     "metadata": {},
     "output_type": "display_data"
    },
    {
     "name": "stdout",
     "output_type": "stream",
     "text": [
      "Usando o PyPlot\n"
     ]
    },
    {
     "data": {
      "text/plain": [
       "(PyPlot.Figure(PyObject <matplotlib.figure.Figure object at 0x7f3bb5605eb8>), PyCall.PyObject[PyObject <matplotlib.lines.Line2D object at 0x7f3bb38b0eb8>])"
      ]
     },
     "execution_count": 28,
     "metadata": {},
     "output_type": "execute_result"
    }
   ],
   "source": [
    "# Plotar a função f(x) com o pacote PyPlot\n",
    "plot_grafico(x, f.(x), \"PyPlot\")"
   ]
  },
  {
   "cell_type": "code",
   "execution_count": 30,
   "metadata": {
    "collapsed": false,
    "scrolled": false
   },
   "outputs": [],
   "source": [
    "# Plotar a função f(x) com o pacote GR\n",
    "plot_grafico(x, f.(x), \"GR\")"
   ]
  },
  {
   "cell_type": "markdown",
   "metadata": {},
   "source": [
    "**Módulo xx**"
   ]
  },
  {
   "cell_type": "code",
   "execution_count": null,
   "metadata": {
    "collapsed": true
   },
   "outputs": [],
   "source": []
  },
  {
   "cell_type": "markdown",
   "metadata": {},
   "source": [
    "## BIBLIOGRAFIA\n",
    "\n",
    "* Sebesta, Robert W.Conceitos de linguagens de programação [recurso eletrônico] /Robert W. Sebesta; tradução técnica: Eduardo Kessler Piveta. – 9. ed. – Dados eletrônicos. – Porto Alegre : Bookman, 2011.\n",
    "\n",
    "* Vieira, Francisco. Programação Funcional usando Haskell. Teresina, 2005. \n",
    "\n"
   ]
  },
  {
   "cell_type": "code",
   "execution_count": null,
   "metadata": {
    "collapsed": true
   },
   "outputs": [],
   "source": []
  }
 ],
 "metadata": {
  "anaconda-cloud": {},
  "kernelspec": {
   "display_name": "Julia 0.6.2",
   "language": "julia",
   "name": "julia-0.6"
  },
  "language_info": {
   "file_extension": ".jl",
   "mimetype": "application/julia",
   "name": "julia",
   "version": "0.6.2"
  },
  "latex_envs": {
   "LaTeX_envs_menu_present": true,
   "autocomplete": true,
   "bibliofile": "biblio.bib",
   "cite_by": "apalike",
   "current_citInitial": 1,
   "eqLabelWithNumbers": true,
   "eqNumInitial": 1,
   "hotkeys": {
    "equation": "Ctrl-E",
    "itemize": "Ctrl-I"
   },
   "labels_anchors": false,
   "latex_user_defs": false,
   "report_style_numbering": false,
   "user_envs_cfg": false
  },
  "name": "_merged"
 },
 "nbformat": 4,
 "nbformat_minor": 2
}
