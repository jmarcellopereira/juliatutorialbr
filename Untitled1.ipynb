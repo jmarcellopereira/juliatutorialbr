{
 "cells": [
  {
   "cell_type": "code",
   "execution_count": 1,
   "metadata": {
    "collapsed": true
   },
   "outputs": [],
   "source": [
    "using Pkg"
   ]
  },
  {
   "cell_type": "code",
   "execution_count": 3,
   "metadata": {
    "collapsed": false,
    "scrolled": true
   },
   "outputs": [
    {
     "name": "stdout",
     "output_type": "stream",
     "text": [
      "\u001b[32m\u001b[1m Resolving\u001b[22m\u001b[39m package versions...\n"
     ]
    },
    {
     "ename": "Pkg.Types.ResolverError",
     "evalue": "Unsatisfiable requirements detected for package BuildExecutable [eaca7b4f]:\n BuildExecutable [eaca7b4f] log:\n ├─possible versions are: [0.0.1-0.0.3, 0.1.0-0.1.2] or uninstalled\n ├─restricted to versions * by an explicit requirement, leaving only versions [0.0.1-0.0.3, 0.1.0-0.1.2]\n └─restricted by julia compatibility requirements to versions: uninstalled — no versions left",
     "output_type": "error",
     "traceback": [
      "Unsatisfiable requirements detected for package BuildExecutable [eaca7b4f]:\n BuildExecutable [eaca7b4f] log:\n ├─possible versions are: [0.0.1-0.0.3, 0.1.0-0.1.2] or uninstalled\n ├─restricted to versions * by an explicit requirement, leaving only versions [0.0.1-0.0.3, 0.1.0-0.1.2]\n └─restricted by julia compatibility requirements to versions: uninstalled — no versions left",
      "",
      "Stacktrace:",
      " [1] #propagate_constraints!#61(::Bool, ::Function, ::Pkg.GraphType.Graph, ::Set{Int64}) at /buildworker/worker/package_linux64/build/usr/share/julia/stdlib/v1.0/Pkg/src/GraphType.jl:1005",
      " [2] propagate_constraints! at /buildworker/worker/package_linux64/build/usr/share/julia/stdlib/v1.0/Pkg/src/GraphType.jl:946 [inlined]",
      " [3] #simplify_graph!#121(::Bool, ::Function, ::Pkg.GraphType.Graph, ::Set{Int64}) at /buildworker/worker/package_linux64/build/usr/share/julia/stdlib/v1.0/Pkg/src/GraphType.jl:1460",
      " [4] simplify_graph! at /buildworker/worker/package_linux64/build/usr/share/julia/stdlib/v1.0/Pkg/src/GraphType.jl:1460 [inlined]",
      " [5] macro expansion at ./logging.jl:319 [inlined]",
      " [6] resolve_versions!(::Pkg.Types.Context, ::Array{Pkg.Types.PackageSpec,1}) at /buildworker/worker/package_linux64/build/usr/share/julia/stdlib/v1.0/Pkg/src/Operations.jl:338",
      " [7] #add_or_develop#58(::Array{Base.UUID,1}, ::Function, ::Pkg.Types.Context, ::Array{Pkg.Types.PackageSpec,1}) at /buildworker/worker/package_linux64/build/usr/share/julia/stdlib/v1.0/Pkg/src/Operations.jl:1164",
      " [8] #add_or_develop at ./none:0 [inlined]",
      " [9] #add_or_develop#13(::Symbol, ::Bool, ::Base.Iterators.Pairs{Union{},Union{},Tuple{},NamedTuple{(),Tuple{}}}, ::Function, ::Pkg.Types.Context, ::Array{Pkg.Types.PackageSpec,1}) at /buildworker/worker/package_linux64/build/usr/share/julia/stdlib/v1.0/Pkg/src/API.jl:64",
      " [10] #add_or_develop at ./none:0 [inlined]",
      " [11] #add_or_develop#12 at /buildworker/worker/package_linux64/build/usr/share/julia/stdlib/v1.0/Pkg/src/API.jl:29 [inlined]",
      " [12] #add_or_develop at ./none:0 [inlined]",
      " [13] #add_or_develop#11 at /buildworker/worker/package_linux64/build/usr/share/julia/stdlib/v1.0/Pkg/src/API.jl:28 [inlined]",
      " [14] #add_or_develop at ./none:0 [inlined]",
      " [15] #add_or_develop#10 at /buildworker/worker/package_linux64/build/usr/share/julia/stdlib/v1.0/Pkg/src/API.jl:27 [inlined]",
      " [16] #add_or_develop at ./none:0 [inlined]",
      " [17] #add#18 at /buildworker/worker/package_linux64/build/usr/share/julia/stdlib/v1.0/Pkg/src/API.jl:69 [inlined]",
      " [18] add(::String) at /buildworker/worker/package_linux64/build/usr/share/julia/stdlib/v1.0/Pkg/src/API.jl:69",
      " [19] top-level scope at In[3]:1"
     ]
    }
   ],
   "source": [
    "Pkg.add(\"BuildExecutable\")"
   ]
  },
  {
   "cell_type": "code",
   "execution_count": null,
   "metadata": {
    "collapsed": true
   },
   "outputs": [],
   "source": []
  },
  {
   "cell_type": "code",
   "execution_count": 4,
   "metadata": {
    "collapsed": false
   },
   "outputs": [
    {
     "ename": "ArgumentError",
     "evalue": "ArgumentError: Package BuildExecutable not found in current path:\n- Run `import Pkg; Pkg.add(\"BuildExecutable\")` to install the BuildExecutable package.\n",
     "output_type": "error",
     "traceback": [
      "ArgumentError: Package BuildExecutable not found in current path:\n- Run `import Pkg; Pkg.add(\"BuildExecutable\")` to install the BuildExecutable package.\n",
      "",
      "Stacktrace:",
      " [1] require(::Module, ::Symbol) at ./loading.jl:820",
      " [2] top-level scope at In[4]:1"
     ]
    }
   ],
   "source": [
    "using BuildExecutable"
   ]
  },
  {
   "cell_type": "code",
   "execution_count": 3,
   "metadata": {
    "collapsed": false
   },
   "outputs": [
    {
     "ename": "LoadError",
     "evalue": "\u001b[91mUndefVarError: build_executable not defined\u001b[39m",
     "output_type": "error",
     "traceback": [
      "\u001b[91mUndefVarError: build_executable not defined\u001b[39m",
      ""
     ]
    }
   ],
   "source": [
    "build_executable(\"script_julia\", \"script_julia.jl\", \"native\")"
   ]
  },
  {
   "cell_type": "code",
   "execution_count": 21,
   "metadata": {
    "collapsed": false
   },
   "outputs": [
    {
     "name": "stderr",
     "output_type": "stream",
     "text": [
      "INFO: Computing test dependencies for BuildExecutable...\n",
      "INFO: No packages to install, update or remove\n",
      "INFO: Testing BuildExecutable\n",
      "WARNING: `@windows_only` is deprecated, use `@static if is_windows()` instead\n",
      " in depwarn(::String, ::Symbol) at ./deprecated.jl:64\n",
      " in @windows_only(::Any) at ./deprecated.jl:488\n",
      " in include_from_node1(::String) at ./loading.jl:488\n",
      " in eval(::Module, ::Any) at ./boot.jl:234\n",
      " in require(::Symbol) at ./loading.jl:415\n",
      " in include_from_node1(::String) at ./loading.jl:488\n",
      " in process_options(::Base.JLOptions) at ./client.jl:262\n",
      " in _start() at ./client.jl:318\n",
      "while loading /home/jmarcellopereira/.julia/v0.5/BuildExecutable/src/BuildExecutable.jl, in expression starting on line 3\n",
      "WARNING: Base.OS_NAME is deprecated.\n",
      "  likely near /home/jmarcellopereira/.julia/v0.5/BuildExecutable/test/runtests.jl:8\n",
      "WARNING: Base.OS_NAME is deprecated.\n",
      "  likely near /home/jmarcellopereira/.julia/v0.5/BuildExecutable/test/runtests.jl:8\n",
      "WARNING: Base.OS_NAME is deprecated.\n",
      "  likely near /home/jmarcellopereira/.julia/v0.5/BuildExecutable/test/runtests.jl:8\n",
      "WARNING: Base.OS_NAME is deprecated.\n",
      "  likely near /home/jmarcellopereira/.julia/v0.5/BuildExecutable/test/runtests.jl:8\n",
      "WARNING: Base.OS_NAME is deprecated.\n",
      "  likely near /home/jmarcellopereira/.julia/v0.5/BuildExecutable/test/runtests.jl:8\n",
      "WARNING: Base.OS_NAME is deprecated.\n",
      "  likely near /home/jmarcellopereira/.julia/v0.5/BuildExecutable/test/runtests.jl:8\n",
      "WARNING: Base.OS_NAME is deprecated.\n",
      "  likely near /home/jmarcellopereira/.julia/v0.5/BuildExecutable/test/runtests.jl:8\n",
      "WARNING: Base.OS_NAME is deprecated.\n",
      "  likely near /home/jmarcellopereira/.julia/v0.5/BuildExecutable/test/runtests.jl:8\n",
      "WARNING: Base.OS_NAME is deprecated.\n",
      "  likely near /home/jmarcellopereira/.julia/v0.5/BuildExecutable/test/runtests.jl:8\n",
      "WARNING: Base.OS_NAME is deprecated.\n",
      "  likely near /home/jmarcellopereira/.julia/v0.5/BuildExecutable/test/runtests.jl:8\n",
      "in #build_executable#1 at /home/jmarcellopereira/.julia/v0.5/BuildExecutable/src/BuildExecutable.jl\n"
     ]
    },
    {
     "name": "stdout",
     "output_type": "stream",
     "text": [
      "running: /usr/bin/julia /home/jmarcellopereira/.julia/v0.5/BuildExecutable/src/build_sysimg.jl /usr/lib/x86_64-linux-gnu/libtest_executable native /tmp/tmpldjkdw/userimg.jl --force\n"
     ]
    },
    {
     "name": "stderr",
     "output_type": "stream",
     "text": [
      "WARNING: `@unix_only` is deprecated, use `@static if is_unix()` instead\n",
      " in depwarn(::String, ::Symbol) at ./deprecated.jl:64\n",
      " in @unix_only(::Any) at ./deprecated.jl:492\n",
      " in include_from_node1(::String) at ./loading.jl:488\n",
      " in process_options(::Base.JLOptions) at ./client.jl:262\n",
      " in _start() at ./client.jl:318\n",
      "while loading /home/jmarcellopereira/.julia/v0.5/BuildExecutable/src/build_sysimg.jl, in expression starting on line 8\n",
      "ERROR: LoadError: Unable to modify /usr/lib/x86_64-linux-gnu/libtest_executable.ji, ensure parent directory exists and is writable. Absolute paths work best.)\n",
      " in (::##2#3{Bool,String})() at /home/jmarcellopereira/.julia/v0.5/BuildExecutable/src/build_sysimg.jl:48\n",
      " in cd(::##2#3{Bool,String}, ::String) at ./file.jl:59\n",
      " in #build_sysimg#1(::Bool, ::Bool, ::Function, ::String, ::String, ::String) at /home/jmarcellopereira/.julia/v0.5/BuildExecutable/src/build_sysimg.jl:38\n",
      " in (::#kw##build_sysimg)(::Array{Any,1}, ::#build_sysimg, ::String, ::String, ::String) at ./<missing>:0\n",
      " in include_from_node1(::String) at ./loading.jl:488\n",
      " in process_options(::Base.JLOptions) at ./client.jl:262\n",
      " in _start() at ./client.jl:318\n",
      "while loading /home/jmarcellopereira/.julia/v0.5/BuildExecutable/src/build_sysimg.jl, in expression starting on line 187\n"
     ]
    },
    {
     "name": "stdout",
     "output_type": "stream",
     "text": [
      "Error During Test\n",
      "  Test threw an exception of type ErrorException\n",
      "  Expression: build_executable(exename,script,targetdir,\"native\"; force=false) == 0\n",
      "  failed process: Process(`/usr/bin/julia /home/jmarcellopereira/.julia/v0.5/BuildExecutable/src/build_sysimg.jl /usr/lib/x86_64-linux-gnu/libtest_executable native /tmp/tmpldjkdw/userimg.jl --force`, ProcessExited(1)) [1]\n",
      "   in pipeline_error(::Base.Process) at ./process.jl:616\n",
      "   in run at ./process.jl:592 [inlined]\n",
      "   in #build_executable#1(::Bool, ::Bool, ::Function, ::String, ::String, ::String, ::String) at /home/jmarcellopereira/.julia/v0.5/BuildExecutable/src/BuildExecutable.jl:116\n",
      "   in (::BuildExecutable.#kw##build_executable)(::Array{Any,1}, ::BuildExecutable.#build_executable, ::String, ::String, ::String, ::String) at ./<missing>:0\n",
      "   in macro expansion; at /home/jmarcellopereira/.julia/v0.5/BuildExecutable/test/runtests.jl:9 [inlined]\n",
      "   in anonymous at ./<missing>:?\n",
      "   in include_from_node1(::String) at ./loading.jl:488\n",
      "   in process_options(::Base.JLOptions) at ./client.jl:262\n",
      "   in _start() at ./client.jl:318\n"
     ]
    },
    {
     "name": "stderr",
     "output_type": "stream",
     "text": [
      "ERROR: LoadError: There was an error during testing\n",
      " in record(::Base.Test.FallbackTestSet, ::Base.Test.Error) at ./test.jl:397\n",
      " in do_test(::Base.Test.Threw, ::Expr) at ./test.jl:281\n",
      " in macro expansion; at /home/jmarcellopereira/.julia/v0.5/BuildExecutable/test/runtests.jl:9 [inlined]\n",
      " in anonymous at ./<missing>:?\n",
      " in include_from_node1(::String) at ./loading.jl:488\n",
      " in process_options(::Base.JLOptions) at ./client.jl:262\n",
      " in _start() at ./client.jl:318\n",
      "while loading /home/jmarcellopereira/.julia/v0.5/BuildExecutable/test/runtests.jl, in expression starting on line 8\n",
      "===========================[ ERROR: BuildExecutable ]===========================\n",
      "\n",
      "failed process: Process(`/usr/bin/julia -Cx86-64 -J/usr/lib/x86_64-linux-gnu/julia/sys.so --compile=yes --depwarn=yes --check-bounds=yes --code-coverage=none --color=no --compilecache=yes /home/jmarcellopereira/.julia/v0.5/BuildExecutable/test/runtests.jl`, ProcessExited(1)) [1]\n",
      "\n",
      "================================================================================\n",
      "INFO: No packages to install, update or remove\n"
     ]
    },
    {
     "ename": "LoadError",
     "evalue": "LoadError: BuildExecutable had test errors\nwhile loading In[21], in expression starting on line 1",
     "output_type": "error",
     "traceback": [
      "LoadError: BuildExecutable had test errors\nwhile loading In[21], in expression starting on line 1",
      "",
      " in #test#61(::Bool, ::Function, ::Array{AbstractString,1}) at ./pkg/entry.jl:740",
      " in (::Base.Pkg.Entry.#kw##test)(::Array{Any,1}, ::Base.Pkg.Entry.#test, ::Array{AbstractString,1}) at ./<missing>:0",
      " in (::Base.Pkg.Dir.##2#3{Array{Any,1},Base.Pkg.Entry.#test,Tuple{Array{AbstractString,1}}})() at ./pkg/dir.jl:31",
      " in cd(::Base.Pkg.Dir.##2#3{Array{Any,1},Base.Pkg.Entry.#test,Tuple{Array{AbstractString,1}}}, ::String) at ./file.jl:59",
      " in #cd#1(::Array{Any,1}, ::Function, ::Function, ::Array{AbstractString,1}, ::Vararg{Array{AbstractString,1},N}) at ./pkg/dir.jl:31",
      " in (::Base.Pkg.Dir.#kw##cd)(::Array{Any,1}, ::Base.Pkg.Dir.#cd, ::Function, ::Array{AbstractString,1}, ::Vararg{Array{AbstractString,1},N}) at ./<missing>:0",
      " in #test#3(::Bool, ::Function, ::String, ::Vararg{String,N}) at ./pkg/pkg.jl:258",
      " in test(::String, ::Vararg{String,N}) at ./pkg/pkg.jl:258"
     ]
    }
   ],
   "source": [
    "Pkg.test(\"BuildExecutable\")"
   ]
  },
  {
   "cell_type": "code",
   "execution_count": 2,
   "metadata": {
    "collapsed": false,
    "scrolled": true
   },
   "outputs": [
    {
     "name": "stderr",
     "output_type": "stream",
     "text": [
      "INFO: Initializing package repository /home/jmarcellopereira/.julia/v0.5\n",
      "INFO: Package directory /home/jmarcellopereira/.julia/v0.5 is already initialized.\n"
     ]
    }
   ],
   "source": [
    "Pkg.init(\"ArrayFire\")"
   ]
  },
  {
   "cell_type": "code",
   "execution_count": 10,
   "metadata": {
    "collapsed": false
   },
   "outputs": [
    {
     "name": "stdout",
     "output_type": "stream",
     "text": [
      "\u001b[32m\u001b[1m Resolving\u001b[22m\u001b[39m package versions...\n",
      "\u001b[32m\u001b[1m Installed\u001b[22m\u001b[39m ImageMagick ─ v0.7.1\n",
      "\u001b[32m\u001b[1m  Updating\u001b[22m\u001b[39m `~/.julia/environments/v1.0/Project.toml`\n",
      " \u001b[90m [6218d12a]\u001b[39m\u001b[92m + ImageMagick v0.7.1\u001b[39m\n",
      "\u001b[32m\u001b[1m  Updating\u001b[22m\u001b[39m `~/.julia/environments/v1.0/Manifest.toml`\n",
      " \u001b[90m [6218d12a]\u001b[39m\u001b[92m + ImageMagick v0.7.1\u001b[39m\n",
      "\u001b[32m\u001b[1m  Building\u001b[22m\u001b[39m ImageMagick → `~/.julia/packages/ImageMagick/d5KBL/deps/build.log`\n"
     ]
    }
   ],
   "source": [
    "Pkg.add(\"ImageMagick\")"
   ]
  },
  {
   "cell_type": "code",
   "execution_count": 11,
   "metadata": {
    "collapsed": false
   },
   "outputs": [],
   "source": [
    "using Images, FileIO, Colors;"
   ]
  },
  {
   "cell_type": "code",
   "execution_count": 13,
   "metadata": {
    "collapsed": false,
    "scrolled": false
   },
   "outputs": [
    {
     "data": {
      "image/png": "[encoded data removed]",
      "text/plain": [
       "295×527 Array{RGB{N0f8},2} with eltype RGB{Normed{UInt8,8}}:\n",
       " RGB{N0f8}(1.0,1.0,1.0)     …  RGB{N0f8}(1.0,1.0,1.0)\n",
       " RGB{N0f8}(1.0,1.0,1.0)        RGB{N0f8}(1.0,1.0,1.0)\n",
       " RGB{N0f8}(1.0,1.0,1.0)        RGB{N0f8}(1.0,1.0,1.0)\n",
       " RGB{N0f8}(1.0,1.0,1.0)        RGB{N0f8}(1.0,1.0,1.0)\n",
       " RGB{N0f8}(1.0,1.0,1.0)        RGB{N0f8}(1.0,1.0,1.0)\n",
       " RGB{N0f8}(1.0,1.0,1.0)     …  RGB{N0f8}(1.0,1.0,1.0)\n",
       " RGB{N0f8}(1.0,1.0,1.0)        RGB{N0f8}(1.0,1.0,1.0)\n",
       " RGB{N0f8}(1.0,1.0,1.0)        RGB{N0f8}(1.0,1.0,1.0)\n",
       " RGB{N0f8}(1.0,1.0,1.0)        RGB{N0f8}(1.0,1.0,1.0)\n",
       " RGB{N0f8}(1.0,1.0,1.0)        RGB{N0f8}(1.0,1.0,1.0)\n",
       " RGB{N0f8}(1.0,1.0,1.0)     …  RGB{N0f8}(1.0,1.0,1.0)\n",
       " RGB{N0f8}(1.0,1.0,1.0)        RGB{N0f8}(1.0,1.0,1.0)\n",
       " RGB{N0f8}(1.0,1.0,1.0)        RGB{N0f8}(1.0,1.0,1.0)\n",
       " ⋮                          ⋱                        \n",
       " RGB{N0f8}(0.91,0.91,0.91)     RGB{N0f8}(1.0,1.0,1.0)\n",
       " RGB{N0f8}(0.91,0.91,0.91)     RGB{N0f8}(1.0,1.0,1.0)\n",
       " RGB{N0f8}(0.91,0.91,0.91)  …  RGB{N0f8}(1.0,1.0,1.0)\n",
       " RGB{N0f8}(0.91,0.91,0.91)     RGB{N0f8}(1.0,1.0,1.0)\n",
       " RGB{N0f8}(0.91,0.91,0.91)     RGB{N0f8}(1.0,1.0,1.0)\n",
       " RGB{N0f8}(0.91,0.91,0.91)     RGB{N0f8}(1.0,1.0,1.0)\n",
       " RGB{N0f8}(0.91,0.91,0.91)     RGB{N0f8}(1.0,1.0,1.0)\n",
       " RGB{N0f8}(0.91,0.91,0.91)  …  RGB{N0f8}(1.0,1.0,1.0)\n",
       " RGB{N0f8}(0.91,0.91,0.91)     RGB{N0f8}(1.0,1.0,1.0)\n",
       " RGB{N0f8}(0.91,0.91,0.91)     RGB{N0f8}(1.0,1.0,1.0)\n",
       " RGB{N0f8}(0.91,0.91,0.91)     RGB{N0f8}(1.0,1.0,1.0)\n",
       " RGB{N0f8}(0.91,0.91,0.91)     RGB{N0f8}(1.0,1.0,1.0)"
      ]
     },
     "execution_count": 13,
     "metadata": {},
     "output_type": "execute_result"
    }
   ],
   "source": [
    "img = load(\"Figuras/arquivo_csv.png\")"
   ]
  },
  {
   "cell_type": "code",
   "execution_count": 14,
   "metadata": {
    "collapsed": false
   },
   "outputs": [
    {
     "ename": "ErrorException",
     "evalue": "type Array has no field properties",
     "output_type": "error",
     "traceback": [
      "type Array has no field properties",
      "",
      "Stacktrace:",
      " [1] getproperty(::Any, ::Symbol) at ./sysimg.jl:18",
      " [2] top-level scope at In[14]:1"
     ]
    }
   ],
   "source": [
    "img."
   ]
  },
  {
   "cell_type": "code",
   "execution_count": 23,
   "metadata": {
    "collapsed": false
   },
   "outputs": [
    {
     "data": {
      "image/png": "[encoded data removed]",
      "text/plain": [
       "295×527 Array{Gray{N0f8},2} with eltype Gray{Normed{UInt8,8}}:\n",
       " Gray{N0f8}(1.0)   Gray{N0f8}(1.0)    …  Gray{N0f8}(1.0)  Gray{N0f8}(1.0)\n",
       " Gray{N0f8}(1.0)   Gray{N0f8}(1.0)       Gray{N0f8}(1.0)  Gray{N0f8}(1.0)\n",
       " Gray{N0f8}(1.0)   Gray{N0f8}(1.0)       Gray{N0f8}(1.0)  Gray{N0f8}(1.0)\n",
       " Gray{N0f8}(1.0)   Gray{N0f8}(1.0)       Gray{N0f8}(1.0)  Gray{N0f8}(1.0)\n",
       " Gray{N0f8}(1.0)   Gray{N0f8}(1.0)       Gray{N0f8}(1.0)  Gray{N0f8}(1.0)\n",
       " Gray{N0f8}(1.0)   Gray{N0f8}(1.0)    …  Gray{N0f8}(1.0)  Gray{N0f8}(1.0)\n",
       " Gray{N0f8}(1.0)   Gray{N0f8}(1.0)       Gray{N0f8}(1.0)  Gray{N0f8}(1.0)\n",
       " Gray{N0f8}(1.0)   Gray{N0f8}(1.0)       Gray{N0f8}(1.0)  Gray{N0f8}(1.0)\n",
       " Gray{N0f8}(1.0)   Gray{N0f8}(1.0)       Gray{N0f8}(1.0)  Gray{N0f8}(1.0)\n",
       " Gray{N0f8}(1.0)   Gray{N0f8}(1.0)       Gray{N0f8}(1.0)  Gray{N0f8}(1.0)\n",
       " Gray{N0f8}(1.0)   Gray{N0f8}(1.0)    …  Gray{N0f8}(1.0)  Gray{N0f8}(1.0)\n",
       " Gray{N0f8}(1.0)   Gray{N0f8}(1.0)       Gray{N0f8}(1.0)  Gray{N0f8}(1.0)\n",
       " Gray{N0f8}(1.0)   Gray{N0f8}(1.0)       Gray{N0f8}(1.0)  Gray{N0f8}(1.0)\n",
       " ⋮                                    ⋱  ⋮                               \n",
       " Gray{N0f8}(0.91)  Gray{N0f8}(0.906)     Gray{N0f8}(1.0)  Gray{N0f8}(1.0)\n",
       " Gray{N0f8}(0.91)  Gray{N0f8}(0.906)     Gray{N0f8}(1.0)  Gray{N0f8}(1.0)\n",
       " Gray{N0f8}(0.91)  Gray{N0f8}(0.906)  …  Gray{N0f8}(1.0)  Gray{N0f8}(1.0)\n",
       " Gray{N0f8}(0.91)  Gray{N0f8}(0.906)     Gray{N0f8}(1.0)  Gray{N0f8}(1.0)\n",
       " Gray{N0f8}(0.91)  Gray{N0f8}(0.906)     Gray{N0f8}(1.0)  Gray{N0f8}(1.0)\n",
       " Gray{N0f8}(0.91)  Gray{N0f8}(0.906)     Gray{N0f8}(1.0)  Gray{N0f8}(1.0)\n",
       " Gray{N0f8}(0.91)  Gray{N0f8}(0.906)     Gray{N0f8}(1.0)  Gray{N0f8}(1.0)\n",
       " Gray{N0f8}(0.91)  Gray{N0f8}(0.906)  …  Gray{N0f8}(1.0)  Gray{N0f8}(1.0)\n",
       " Gray{N0f8}(0.91)  Gray{N0f8}(0.906)     Gray{N0f8}(1.0)  Gray{N0f8}(1.0)\n",
       " Gray{N0f8}(0.91)  Gray{N0f8}(0.906)     Gray{N0f8}(1.0)  Gray{N0f8}(1.0)\n",
       " Gray{N0f8}(0.91)  Gray{N0f8}(0.906)     Gray{N0f8}(1.0)  Gray{N0f8}(1.0)\n",
       " Gray{N0f8}(0.91)  Gray{N0f8}(0.906)     Gray{N0f8}(1.0)  Gray{N0f8}(1.0)"
      ]
     },
     "execution_count": 23,
     "metadata": {},
     "output_type": "execute_result"
    }
   ],
   "source": [
    "Gray.(img)"
   ]
  },
  {
   "cell_type": "code",
   "execution_count": 24,
   "metadata": {
    "collapsed": false
   },
   "outputs": [
    {
     "ename": "UndefVarError",
     "evalue": "UndefVarError: listen not defined",
     "output_type": "error",
     "traceback": [
      "UndefVarError: listen not defined",
      "",
      "Stacktrace:",
      " [1] top-level scope at In[24]:1"
     ]
    }
   ],
   "source": [
    "listen(8080)"
   ]
  },
  {
   "cell_type": "code",
   "execution_count": 2,
   "metadata": {
    "collapsed": false
   },
   "outputs": [
    {
     "data": {
      "text/plain": [
       "pvs (generic function with 1 method)"
      ]
     },
     "execution_count": 2,
     "metadata": {},
     "output_type": "execute_result"
    }
   ],
   "source": [
    "pvs(T) = 6*10^25/(1000*T^5)*exp(-6800/T)"
   ]
  },
  {
   "cell_type": "code",
   "execution_count": 34,
   "metadata": {
    "collapsed": false
   },
   "outputs": [
    {
     "data": {
      "text/plain": [
       "Plots.GRBackend()"
      ]
     },
     "execution_count": 34,
     "metadata": {},
     "output_type": "execute_result"
    }
   ],
   "source": [
    "using Plots\n",
    "gr()"
   ]
  },
  {
   "cell_type": "code",
   "execution_count": 36,
   "metadata": {
    "collapsed": false
   },
   "outputs": [
    {
     "data": {
      "text/html": [
       "<?xml version=\"1.0\" encoding=\"utf-8\"?>\n",
       "<svg xmlns=\"http://www.w3.org/2000/svg\" xmlns:xlink=\"http://www.w3.org/1999/xlink\" width=\"600\" height=\"400\" viewBox=\"0 0 600 400\">\n",
       "<defs>\n",
       "  <clipPath id=\"clip00\">\n",
       "    <rect x=\"0\" y=\"0\" width=\"600\" height=\"400\"/>\n",
       "  </clipPath>\n",
       "</defs>\n",
       "<polygon clip-path=\"url(#clip00)\" points=\"\n",
       "0,400 600,400 600,0 0,0 \n",
       "  \" fill=\"#ffffff\" fill-opacity=\"1\"/>\n",
       "<defs>\n",
       "  <clipPath id=\"clip01\">\n",
       "    <rect x=\"120\" y=\"0\" width=\"421\" height=\"400\"/>\n",
       "  </clipPath>\n",
       "</defs>\n",
       "<polygon clip-path=\"url(#clip00)\" points=\"\n",
       "96.7629,181.015 296.063,181.015 296.063,3.93701 96.7629,3.93701 \n",
       "  \" fill=\"#ffffff\" fill-opacity=\"1\"/>\n",
       "<defs>\n",
       "  <clipPath id=\"clip02\">\n",
       "    <rect x=\"96\" y=\"3\" width=\"200\" height=\"178\"/>\n",
       "  </clipPath>\n",
       "</defs>\n",
       "<polyline clip-path=\"url(#clip02)\" style=\"stroke:#00002d; stroke-width:0.8; stroke-opacity:0.5; fill:none\" stroke-dasharray=\"1, 2\" points=\"\n",
       "  151.149,178.359 151.149,6.59318 \n",
       "  \"/>\n",
       "<polyline clip-path=\"url(#clip02)\" style=\"stroke:#00002d; stroke-width:0.8; stroke-opacity:0.5; fill:none\" stroke-dasharray=\"1, 2\" points=\"\n",
       "  220.786,178.359 220.786,6.59318 \n",
       "  \"/>\n",
       "<polyline clip-path=\"url(#clip02)\" style=\"stroke:#00002d; stroke-width:0.8; stroke-opacity:0.5; fill:none\" stroke-dasharray=\"1, 2\" points=\"\n",
       "  290.422,178.359 290.422,6.59318 \n",
       "  \"/>\n",
       "<polyline clip-path=\"url(#clip02)\" style=\"stroke:#00002d; stroke-width:0.8; stroke-opacity:0.5; fill:none\" stroke-dasharray=\"1, 2\" points=\"\n",
       "  99.7524,166.556 293.073,166.556 \n",
       "  \"/>\n",
       "<polyline clip-path=\"url(#clip02)\" style=\"stroke:#00002d; stroke-width:0.8; stroke-opacity:0.5; fill:none\" stroke-dasharray=\"1, 2\" points=\"\n",
       "  99.7524,128.177 293.073,128.177 \n",
       "  \"/>\n",
       "<polyline clip-path=\"url(#clip02)\" style=\"stroke:#00002d; stroke-width:0.8; stroke-opacity:0.5; fill:none\" stroke-dasharray=\"1, 2\" points=\"\n",
       "  99.7524,89.7976 293.073,89.7976 \n",
       "  \"/>\n",
       "<polyline clip-path=\"url(#clip02)\" style=\"stroke:#00002d; stroke-width:0.8; stroke-opacity:0.5; fill:none\" stroke-dasharray=\"1, 2\" points=\"\n",
       "  99.7524,51.4185 293.073,51.4185 \n",
       "  \"/>\n",
       "<polyline clip-path=\"url(#clip02)\" style=\"stroke:#00002d; stroke-width:0.8; stroke-opacity:0.5; fill:none\" stroke-dasharray=\"1, 2\" points=\"\n",
       "  99.7524,13.0394 293.073,13.0394 \n",
       "  \"/>\n",
       "<polyline clip-path=\"url(#clip02)\" style=\"stroke:#00002d; stroke-width:0.8; stroke-opacity:1; fill:none\" points=\"\n",
       "  96.7629,181.015 296.063,181.015 \n",
       "  \"/>\n",
       "<polyline clip-path=\"url(#clip02)\" style=\"stroke:#00002d; stroke-width:0.8; stroke-opacity:1; fill:none\" points=\"\n",
       "  151.149,181.015 151.149,178.359 \n",
       "  \"/>\n",
       "<polyline clip-path=\"url(#clip02)\" style=\"stroke:#00002d; stroke-width:0.8; stroke-opacity:1; fill:none\" points=\"\n",
       "  220.786,181.015 220.786,178.359 \n",
       "  \"/>\n",
       "<polyline clip-path=\"url(#clip02)\" style=\"stroke:#00002d; stroke-width:0.8; stroke-opacity:1; fill:none\" points=\"\n",
       "  290.422,181.015 290.422,178.359 \n",
       "  \"/>\n",
       "<polyline clip-path=\"url(#clip02)\" style=\"stroke:#00002d; stroke-width:0.8; stroke-opacity:1; fill:none\" points=\"\n",
       "  96.7629,181.015 96.7629,3.93701 \n",
       "  \"/>\n",
       "<polyline clip-path=\"url(#clip02)\" style=\"stroke:#00002d; stroke-width:0.8; stroke-opacity:1; fill:none\" points=\"\n",
       "  96.7629,166.556 99.7524,166.556 \n",
       "  \"/>\n",
       "<polyline clip-path=\"url(#clip02)\" style=\"stroke:#00002d; stroke-width:0.8; stroke-opacity:1; fill:none\" points=\"\n",
       "  96.7629,128.177 99.7524,128.177 \n",
       "  \"/>\n",
       "<polyline clip-path=\"url(#clip02)\" style=\"stroke:#00002d; stroke-width:0.8; stroke-opacity:1; fill:none\" points=\"\n",
       "  96.7629,89.7976 99.7524,89.7976 \n",
       "  \"/>\n",
       "<polyline clip-path=\"url(#clip02)\" style=\"stroke:#00002d; stroke-width:0.8; stroke-opacity:1; fill:none\" points=\"\n",
       "  96.7629,51.4185 99.7524,51.4185 \n",
       "  \"/>\n",
       "<polyline clip-path=\"url(#clip02)\" style=\"stroke:#00002d; stroke-width:0.8; stroke-opacity:1; fill:none\" points=\"\n",
       "  96.7629,13.0394 99.7524,13.0394 \n",
       "  \"/>\n",
       "<g clip-path=\"url(#clip00)\">\n",
       "<text style=\"fill:#00002d; fill-opacity:1; font-family:Arial,Helvetica Neue,Helvetica,sans-serif; font-size:12; text-anchor:middle;\" transform=\"rotate(0, 151.149, 193.015)\" x=\"151.149\" y=\"193.015\">280</text>\n",
       "</g>\n",
       "<g clip-path=\"url(#clip00)\">\n",
       "<text style=\"fill:#00002d; fill-opacity:1; font-family:Arial,Helvetica Neue,Helvetica,sans-serif; font-size:12; text-anchor:middle;\" transform=\"rotate(0, 220.786, 193.015)\" x=\"220.786\" y=\"193.015\">290</text>\n",
       "</g>\n",
       "<g clip-path=\"url(#clip00)\">\n",
       "<text style=\"fill:#00002d; fill-opacity:1; font-family:Arial,Helvetica Neue,Helvetica,sans-serif; font-size:12; text-anchor:middle;\" transform=\"rotate(0, 290.422, 193.015)\" x=\"290.422\" y=\"193.015\">300</text>\n",
       "</g>\n",
       "<g clip-path=\"url(#clip00)\">\n",
       "<text style=\"fill:#00002d; fill-opacity:1; font-family:Arial,Helvetica Neue,Helvetica,sans-serif; font-size:12; text-anchor:end;\" transform=\"rotate(0, 95.5629, 171.056)\" x=\"95.5629\" y=\"171.056\">-0.0000005</text>\n",
       "</g>\n",
       "<g clip-path=\"url(#clip00)\">\n",
       "<text style=\"fill:#00002d; fill-opacity:1; font-family:Arial,Helvetica Neue,Helvetica,sans-serif; font-size:12; text-anchor:end;\" transform=\"rotate(0, 95.5629, 132.677)\" x=\"95.5629\" y=\"132.677\">-0.0000004</text>\n",
       "</g>\n",
       "<g clip-path=\"url(#clip00)\">\n",
       "<text style=\"fill:#00002d; fill-opacity:1; font-family:Arial,Helvetica Neue,Helvetica,sans-serif; font-size:12; text-anchor:end;\" transform=\"rotate(0, 95.5629, 94.2976)\" x=\"95.5629\" y=\"94.2976\">-0.0000003</text>\n",
       "</g>\n",
       "<g clip-path=\"url(#clip00)\">\n",
       "<text style=\"fill:#00002d; fill-opacity:1; font-family:Arial,Helvetica Neue,Helvetica,sans-serif; font-size:12; text-anchor:end;\" transform=\"rotate(0, 95.5629, 55.9185)\" x=\"95.5629\" y=\"55.9185\">-0.0000002</text>\n",
       "</g>\n",
       "<g clip-path=\"url(#clip00)\">\n",
       "<text style=\"fill:#00002d; fill-opacity:1; font-family:Arial,Helvetica Neue,Helvetica,sans-serif; font-size:12; text-anchor:end;\" transform=\"rotate(0, 95.5629, 17.5394)\" x=\"95.5629\" y=\"17.5394\">-0.0000001</text>\n",
       "</g>\n",
       "<polyline clip-path=\"url(#clip02)\" style=\"stroke:#0099ff; stroke-width:0.8; stroke-opacity:1; fill:none\" points=\"\n",
       "  102.403,8.94865 109.367,11.5315 116.331,14.2853 123.294,17.2198 130.258,20.3451 137.222,23.6716 144.185,27.2106 151.149,30.9734 158.113,34.9721 165.076,39.2192 \n",
       "  172.04,43.7279 179.004,48.5118 185.967,53.585 192.931,58.9623 199.895,64.6592 206.858,70.6917 213.822,77.0764 220.786,83.8305 227.749,90.9721 234.713,98.5199 \n",
       "  241.677,106.493 248.64,114.912 255.604,123.797 262.568,133.17 269.531,143.054 276.495,153.471 283.459,164.446 290.422,176.003 \n",
       "  \"/>\n",
       "<circle clip-path=\"url(#clip02)\" style=\"fill:#00002d; stroke:none; fill-opacity:1\" cx=\"102.403\" cy=\"8.94865\" r=\"1\"/>\n",
       "<line clip-path=\"url(#clip02)\" x1=\"102.403\" y1=\"8.94865\" x2=\"103.403\" y2=\"8.94865\" style=\"stroke:#0099ff; stroke-opacity:1\"/>\n",
       "<circle clip-path=\"url(#clip02)\" style=\"fill:#00002d; stroke:none; fill-opacity:1\" cx=\"109.367\" cy=\"11.5315\" r=\"1\"/>\n",
       "<line clip-path=\"url(#clip02)\" x1=\"109.367\" y1=\"11.5315\" x2=\"110.367\" y2=\"11.5315\" style=\"stroke:#0099ff; stroke-opacity:1\"/>\n",
       "<circle clip-path=\"url(#clip02)\" style=\"fill:#00002d; stroke:none; fill-opacity:1\" cx=\"116.331\" cy=\"14.2853\" r=\"1\"/>\n",
       "<line clip-path=\"url(#clip02)\" x1=\"116.331\" y1=\"14.2853\" x2=\"117.331\" y2=\"14.2853\" style=\"stroke:#0099ff; stroke-opacity:1\"/>\n",
       "<circle clip-path=\"url(#clip02)\" style=\"fill:#00002d; stroke:none; fill-opacity:1\" cx=\"123.294\" cy=\"17.2198\" r=\"1\"/>\n",
       "<line clip-path=\"url(#clip02)\" x1=\"123.294\" y1=\"17.2198\" x2=\"124.294\" y2=\"17.2198\" style=\"stroke:#0099ff; stroke-opacity:1\"/>\n",
       "<circle clip-path=\"url(#clip02)\" style=\"fill:#00002d; stroke:none; fill-opacity:1\" cx=\"130.258\" cy=\"20.3451\" r=\"1\"/>\n",
       "<line clip-path=\"url(#clip02)\" x1=\"130.258\" y1=\"20.3451\" x2=\"131.258\" y2=\"20.3451\" style=\"stroke:#0099ff; stroke-opacity:1\"/>\n",
       "<circle clip-path=\"url(#clip02)\" style=\"fill:#00002d; stroke:none; fill-opacity:1\" cx=\"137.222\" cy=\"23.6716\" r=\"1\"/>\n",
       "<line clip-path=\"url(#clip02)\" x1=\"137.222\" y1=\"23.6716\" x2=\"138.222\" y2=\"23.6716\" style=\"stroke:#0099ff; stroke-opacity:1\"/>\n",
       "<circle clip-path=\"url(#clip02)\" style=\"fill:#00002d; stroke:none; fill-opacity:1\" cx=\"144.185\" cy=\"27.2106\" r=\"1\"/>\n",
       "<line clip-path=\"url(#clip02)\" x1=\"144.185\" y1=\"27.2106\" x2=\"145.185\" y2=\"27.2106\" style=\"stroke:#0099ff; stroke-opacity:1\"/>\n",
       "<circle clip-path=\"url(#clip02)\" style=\"fill:#00002d; stroke:none; fill-opacity:1\" cx=\"151.149\" cy=\"30.9734\" r=\"1\"/>\n",
       "<line clip-path=\"url(#clip02)\" x1=\"151.149\" y1=\"30.9734\" x2=\"152.149\" y2=\"30.9734\" style=\"stroke:#0099ff; stroke-opacity:1\"/>\n",
       "<circle clip-path=\"url(#clip02)\" style=\"fill:#00002d; stroke:none; fill-opacity:1\" cx=\"158.113\" cy=\"34.9721\" r=\"1\"/>\n",
       "<line clip-path=\"url(#clip02)\" x1=\"158.113\" y1=\"34.9721\" x2=\"159.113\" y2=\"34.9721\" style=\"stroke:#0099ff; stroke-opacity:1\"/>\n",
       "<circle clip-path=\"url(#clip02)\" style=\"fill:#00002d; stroke:none; fill-opacity:1\" cx=\"165.076\" cy=\"39.2192\" r=\"1\"/>\n",
       "<line clip-path=\"url(#clip02)\" x1=\"165.076\" y1=\"39.2192\" x2=\"166.076\" y2=\"39.2192\" style=\"stroke:#0099ff; stroke-opacity:1\"/>\n",
       "<circle clip-path=\"url(#clip02)\" style=\"fill:#00002d; stroke:none; fill-opacity:1\" cx=\"172.04\" cy=\"43.7279\" r=\"1\"/>\n",
       "<line clip-path=\"url(#clip02)\" x1=\"172.04\" y1=\"43.7279\" x2=\"173.04\" y2=\"43.7279\" style=\"stroke:#0099ff; stroke-opacity:1\"/>\n",
       "<circle clip-path=\"url(#clip02)\" style=\"fill:#00002d; stroke:none; fill-opacity:1\" cx=\"179.004\" cy=\"48.5118\" r=\"1\"/>\n",
       "<line clip-path=\"url(#clip02)\" x1=\"179.004\" y1=\"48.5118\" x2=\"180.004\" y2=\"48.5118\" style=\"stroke:#0099ff; stroke-opacity:1\"/>\n",
       "<circle clip-path=\"url(#clip02)\" style=\"fill:#00002d; stroke:none; fill-opacity:1\" cx=\"185.967\" cy=\"53.585\" r=\"1\"/>\n",
       "<line clip-path=\"url(#clip02)\" x1=\"185.967\" y1=\"53.585\" x2=\"186.967\" y2=\"53.585\" style=\"stroke:#0099ff; stroke-opacity:1\"/>\n",
       "<circle clip-path=\"url(#clip02)\" style=\"fill:#00002d; stroke:none; fill-opacity:1\" cx=\"192.931\" cy=\"58.9623\" r=\"1\"/>\n",
       "<line clip-path=\"url(#clip02)\" x1=\"192.931\" y1=\"58.9623\" x2=\"193.931\" y2=\"58.9623\" style=\"stroke:#0099ff; stroke-opacity:1\"/>\n",
       "<circle clip-path=\"url(#clip02)\" style=\"fill:#00002d; stroke:none; fill-opacity:1\" cx=\"199.895\" cy=\"64.6592\" r=\"1\"/>\n",
       "<line clip-path=\"url(#clip02)\" x1=\"199.895\" y1=\"64.6592\" x2=\"200.895\" y2=\"64.6592\" style=\"stroke:#0099ff; stroke-opacity:1\"/>\n",
       "<circle clip-path=\"url(#clip02)\" style=\"fill:#00002d; stroke:none; fill-opacity:1\" cx=\"206.858\" cy=\"70.6917\" r=\"1\"/>\n",
       "<line clip-path=\"url(#clip02)\" x1=\"206.858\" y1=\"70.6917\" x2=\"207.858\" y2=\"70.6917\" style=\"stroke:#0099ff; stroke-opacity:1\"/>\n",
       "<circle clip-path=\"url(#clip02)\" style=\"fill:#00002d; stroke:none; fill-opacity:1\" cx=\"213.822\" cy=\"77.0764\" r=\"1\"/>\n",
       "<line clip-path=\"url(#clip02)\" x1=\"213.822\" y1=\"77.0764\" x2=\"214.822\" y2=\"77.0764\" style=\"stroke:#0099ff; stroke-opacity:1\"/>\n",
       "<circle clip-path=\"url(#clip02)\" style=\"fill:#00002d; stroke:none; fill-opacity:1\" cx=\"220.786\" cy=\"83.8305\" r=\"1\"/>\n",
       "<line clip-path=\"url(#clip02)\" x1=\"220.786\" y1=\"83.8305\" x2=\"221.786\" y2=\"83.8305\" style=\"stroke:#0099ff; stroke-opacity:1\"/>\n",
       "<circle clip-path=\"url(#clip02)\" style=\"fill:#00002d; stroke:none; fill-opacity:1\" cx=\"227.749\" cy=\"90.9721\" r=\"1\"/>\n",
       "<line clip-path=\"url(#clip02)\" x1=\"227.749\" y1=\"90.9721\" x2=\"228.749\" y2=\"90.9721\" style=\"stroke:#0099ff; stroke-opacity:1\"/>\n",
       "<circle clip-path=\"url(#clip02)\" style=\"fill:#00002d; stroke:none; fill-opacity:1\" cx=\"234.713\" cy=\"98.5199\" r=\"1\"/>\n",
       "<line clip-path=\"url(#clip02)\" x1=\"234.713\" y1=\"98.5199\" x2=\"235.713\" y2=\"98.5199\" style=\"stroke:#0099ff; stroke-opacity:1\"/>\n",
       "<circle clip-path=\"url(#clip02)\" style=\"fill:#00002d; stroke:none; fill-opacity:1\" cx=\"241.677\" cy=\"106.493\" r=\"1\"/>\n",
       "<line clip-path=\"url(#clip02)\" x1=\"241.677\" y1=\"106.493\" x2=\"242.677\" y2=\"106.493\" style=\"stroke:#0099ff; stroke-opacity:1\"/>\n",
       "<circle clip-path=\"url(#clip02)\" style=\"fill:#00002d; stroke:none; fill-opacity:1\" cx=\"248.64\" cy=\"114.912\" r=\"1\"/>\n",
       "<line clip-path=\"url(#clip02)\" x1=\"248.64\" y1=\"114.912\" x2=\"249.64\" y2=\"114.912\" style=\"stroke:#0099ff; stroke-opacity:1\"/>\n",
       "<circle clip-path=\"url(#clip02)\" style=\"fill:#00002d; stroke:none; fill-opacity:1\" cx=\"255.604\" cy=\"123.797\" r=\"1\"/>\n",
       "<line clip-path=\"url(#clip02)\" x1=\"255.604\" y1=\"123.797\" x2=\"256.604\" y2=\"123.797\" style=\"stroke:#0099ff; stroke-opacity:1\"/>\n",
       "<circle clip-path=\"url(#clip02)\" style=\"fill:#00002d; stroke:none; fill-opacity:1\" cx=\"262.568\" cy=\"133.17\" r=\"1\"/>\n",
       "<line clip-path=\"url(#clip02)\" x1=\"262.568\" y1=\"133.17\" x2=\"263.568\" y2=\"133.17\" style=\"stroke:#0099ff; stroke-opacity:1\"/>\n",
       "<circle clip-path=\"url(#clip02)\" style=\"fill:#00002d; stroke:none; fill-opacity:1\" cx=\"269.531\" cy=\"143.054\" r=\"1\"/>\n",
       "<line clip-path=\"url(#clip02)\" x1=\"269.531\" y1=\"143.054\" x2=\"270.531\" y2=\"143.054\" style=\"stroke:#0099ff; stroke-opacity:1\"/>\n",
       "<circle clip-path=\"url(#clip02)\" style=\"fill:#00002d; stroke:none; fill-opacity:1\" cx=\"276.495\" cy=\"153.471\" r=\"1\"/>\n",
       "<line clip-path=\"url(#clip02)\" x1=\"276.495\" y1=\"153.471\" x2=\"277.495\" y2=\"153.471\" style=\"stroke:#0099ff; stroke-opacity:1\"/>\n",
       "<circle clip-path=\"url(#clip02)\" style=\"fill:#00002d; stroke:none; fill-opacity:1\" cx=\"283.459\" cy=\"164.446\" r=\"1\"/>\n",
       "<line clip-path=\"url(#clip02)\" x1=\"283.459\" y1=\"164.446\" x2=\"284.459\" y2=\"164.446\" style=\"stroke:#0099ff; stroke-opacity:1\"/>\n",
       "<circle clip-path=\"url(#clip02)\" style=\"fill:#00002d; stroke:none; fill-opacity:1\" cx=\"290.422\" cy=\"176.003\" r=\"1\"/>\n",
       "<line clip-path=\"url(#clip02)\" x1=\"290.422\" y1=\"176.003\" x2=\"291.422\" y2=\"176.003\" style=\"stroke:#0099ff; stroke-opacity:1\"/>\n",
       "<polygon clip-path=\"url(#clip00)\" points=\"\n",
       "205.547,55.057 278.063,55.057 278.063,24.817 205.547,24.817 \n",
       "  \" fill=\"#ffffff\" fill-opacity=\"1\"/>\n",
       "<polyline clip-path=\"url(#clip00)\" style=\"stroke:#00002d; stroke-width:0.8; stroke-opacity:1; fill:none\" points=\"\n",
       "  205.547,55.057 278.063,55.057 278.063,24.817 205.547,24.817 205.547,55.057 \n",
       "  \"/>\n",
       "<polyline clip-path=\"url(#clip00)\" style=\"stroke:#0099ff; stroke-width:0.8; stroke-opacity:1; fill:none\" points=\"\n",
       "  211.547,39.937 247.547,39.937 \n",
       "  \"/>\n",
       "<circle clip-path=\"url(#clip00)\" style=\"fill:#00002d; stroke:none; fill-opacity:1\" cx=\"217.547\" cy=\"39.937\" r=\"7\"/>\n",
       "<circle clip-path=\"url(#clip00)\" style=\"fill:#0099ff; stroke:none; fill-opacity:1\" cx=\"217.547\" cy=\"39.937\" r=\"7\"/>\n",
       "<circle clip-path=\"url(#clip00)\" style=\"fill:#00002d; stroke:none; fill-opacity:1\" cx=\"241.547\" cy=\"39.937\" r=\"7\"/>\n",
       "<circle clip-path=\"url(#clip00)\" style=\"fill:#0099ff; stroke:none; fill-opacity:1\" cx=\"241.547\" cy=\"39.937\" r=\"7\"/>\n",
       "<g clip-path=\"url(#clip00)\">\n",
       "<text style=\"fill:#00002d; fill-opacity:1; font-family:Arial,Helvetica Neue,Helvetica,sans-serif; font-size:12; text-anchor:start;\" transform=\"rotate(0, 253.547, 44.437)\" x=\"253.547\" y=\"44.437\">y1</text>\n",
       "</g>\n",
       "<polygon clip-path=\"url(#clip00)\" points=\"\n",
       "396.763,181.015 596.063,181.015 596.063,3.93701 396.763,3.93701 \n",
       "  \" fill=\"#ffffff\" fill-opacity=\"1\"/>\n",
       "<defs>\n",
       "  <clipPath id=\"clip03\">\n",
       "    <rect x=\"396\" y=\"3\" width=\"200\" height=\"178\"/>\n",
       "  </clipPath>\n",
       "</defs>\n",
       "<polyline clip-path=\"url(#clip03)\" style=\"stroke:#00002d; stroke-width:0.8; stroke-opacity:0.5; fill:none\" stroke-dasharray=\"1, 2\" points=\"\n",
       "  455.236,178.359 455.236,6.59318 \n",
       "  \"/>\n",
       "<polyline clip-path=\"url(#clip03)\" style=\"stroke:#00002d; stroke-width:0.8; stroke-opacity:0.5; fill:none\" stroke-dasharray=\"1, 2\" points=\"\n",
       "  518.585,178.359 518.585,6.59318 \n",
       "  \"/>\n",
       "<polyline clip-path=\"url(#clip03)\" style=\"stroke:#00002d; stroke-width:0.8; stroke-opacity:0.5; fill:none\" stroke-dasharray=\"1, 2\" points=\"\n",
       "  581.934,178.359 581.934,6.59318 \n",
       "  \"/>\n",
       "<polyline clip-path=\"url(#clip03)\" style=\"stroke:#00002d; stroke-width:0.8; stroke-opacity:0.5; fill:none\" stroke-dasharray=\"1, 2\" points=\"\n",
       "  399.752,136.321 593.073,136.321 \n",
       "  \"/>\n",
       "<polyline clip-path=\"url(#clip03)\" style=\"stroke:#00002d; stroke-width:0.8; stroke-opacity:0.5; fill:none\" stroke-dasharray=\"1, 2\" points=\"\n",
       "  399.752,72.6351 593.073,72.6351 \n",
       "  \"/>\n",
       "<polyline clip-path=\"url(#clip03)\" style=\"stroke:#00002d; stroke-width:0.8; stroke-opacity:0.5; fill:none\" stroke-dasharray=\"1, 2\" points=\"\n",
       "  399.752,8.94865 593.073,8.94865 \n",
       "  \"/>\n",
       "<polyline clip-path=\"url(#clip03)\" style=\"stroke:#00002d; stroke-width:0.8; stroke-opacity:1; fill:none\" points=\"\n",
       "  396.763,181.015 596.063,181.015 \n",
       "  \"/>\n",
       "<polyline clip-path=\"url(#clip03)\" style=\"stroke:#00002d; stroke-width:0.8; stroke-opacity:1; fill:none\" points=\"\n",
       "  455.236,181.015 455.236,178.359 \n",
       "  \"/>\n",
       "<polyline clip-path=\"url(#clip03)\" style=\"stroke:#00002d; stroke-width:0.8; stroke-opacity:1; fill:none\" points=\"\n",
       "  518.585,181.015 518.585,178.359 \n",
       "  \"/>\n",
       "<polyline clip-path=\"url(#clip03)\" style=\"stroke:#00002d; stroke-width:0.8; stroke-opacity:1; fill:none\" points=\"\n",
       "  581.934,181.015 581.934,178.359 \n",
       "  \"/>\n",
       "<polyline clip-path=\"url(#clip03)\" style=\"stroke:#00002d; stroke-width:0.8; stroke-opacity:1; fill:none\" points=\"\n",
       "  396.763,181.015 396.763,3.93701 \n",
       "  \"/>\n",
       "<polyline clip-path=\"url(#clip03)\" style=\"stroke:#00002d; stroke-width:0.8; stroke-opacity:1; fill:none\" points=\"\n",
       "  396.763,136.321 399.752,136.321 \n",
       "  \"/>\n",
       "<polyline clip-path=\"url(#clip03)\" style=\"stroke:#00002d; stroke-width:0.8; stroke-opacity:1; fill:none\" points=\"\n",
       "  396.763,72.6351 399.752,72.6351 \n",
       "  \"/>\n",
       "<polyline clip-path=\"url(#clip03)\" style=\"stroke:#00002d; stroke-width:0.8; stroke-opacity:1; fill:none\" points=\"\n",
       "  396.763,8.94865 399.752,8.94865 \n",
       "  \"/>\n",
       "<g clip-path=\"url(#clip00)\">\n",
       "<text style=\"fill:#00002d; fill-opacity:1; font-family:Arial,Helvetica Neue,Helvetica,sans-serif; font-size:12; text-anchor:middle;\" transform=\"rotate(0, 455.236, 193.015)\" x=\"455.236\" y=\"193.015\">280</text>\n",
       "</g>\n",
       "<g clip-path=\"url(#clip00)\">\n",
       "<text style=\"fill:#00002d; fill-opacity:1; font-family:Arial,Helvetica Neue,Helvetica,sans-serif; font-size:12; text-anchor:middle;\" transform=\"rotate(0, 518.585, 193.015)\" x=\"518.585\" y=\"193.015\">290</text>\n",
       "</g>\n",
       "<g clip-path=\"url(#clip00)\">\n",
       "<text style=\"fill:#00002d; fill-opacity:1; font-family:Arial,Helvetica Neue,Helvetica,sans-serif; font-size:12; text-anchor:middle;\" transform=\"rotate(0, 581.934, 193.015)\" x=\"581.934\" y=\"193.015\">300</text>\n",
       "</g>\n",
       "<g clip-path=\"url(#clip00)\">\n",
       "<text style=\"fill:#00002d; fill-opacity:1; font-family:Arial,Helvetica Neue,Helvetica,sans-serif; font-size:12; text-anchor:end;\" transform=\"rotate(0, 395.563, 140.821)\" x=\"395.563\" y=\"140.821\">-0.0000004</text>\n",
       "</g>\n",
       "<g clip-path=\"url(#clip00)\">\n",
       "<text style=\"fill:#00002d; fill-opacity:1; font-family:Arial,Helvetica Neue,Helvetica,sans-serif; font-size:12; text-anchor:end;\" transform=\"rotate(0, 395.563, 77.1351)\" x=\"395.563\" y=\"77.1351\">-0.0000002</text>\n",
       "</g>\n",
       "<g clip-path=\"url(#clip00)\">\n",
       "<text style=\"fill:#00002d; fill-opacity:1; font-family:Arial,Helvetica Neue,Helvetica,sans-serif; font-size:12; text-anchor:end;\" transform=\"rotate(0, 395.563, 13.4486)\" x=\"395.563\" y=\"13.4486\">0.0000000</text>\n",
       "</g>\n",
       "<polygon clip-path=\"url(#clip03)\" points=\"\n",
       "407.725,37.3977 407.725,8.94865 414.06,8.94865 414.06,37.3977 407.725,37.3977 407.725,37.3977 \n",
       "  \" fill=\"#0099ff\" fill-opacity=\"1\"/>\n",
       "<polyline clip-path=\"url(#clip03)\" style=\"stroke:#00002d; stroke-width:0.8; stroke-opacity:1; fill:none\" points=\"\n",
       "  407.725,37.3977 407.725,8.94865 414.06,8.94865 414.06,37.3977 407.725,37.3977 \n",
       "  \"/>\n",
       "<polygon clip-path=\"url(#clip03)\" points=\"\n",
       "414.06,39.5407 414.06,8.94865 420.395,8.94865 420.395,39.5407 414.06,39.5407 414.06,39.5407 \n",
       "  \" fill=\"#0099ff\" fill-opacity=\"1\"/>\n",
       "<polyline clip-path=\"url(#clip03)\" style=\"stroke:#00002d; stroke-width:0.8; stroke-opacity:1; fill:none\" points=\"\n",
       "  414.06,39.5407 414.06,8.94865 420.395,8.94865 420.395,39.5407 414.06,39.5407 \n",
       "  \"/>\n",
       "<polygon clip-path=\"url(#clip03)\" points=\"\n",
       "420.395,41.8256 420.395,8.94865 426.729,8.94865 426.729,41.8256 420.395,41.8256 420.395,41.8256 \n",
       "  \" fill=\"#0099ff\" fill-opacity=\"1\"/>\n",
       "<polyline clip-path=\"url(#clip03)\" style=\"stroke:#00002d; stroke-width:0.8; stroke-opacity:1; fill:none\" points=\"\n",
       "  420.395,41.8256 420.395,8.94865 426.729,8.94865 426.729,41.8256 420.395,41.8256 \n",
       "  \"/>\n",
       "<polygon clip-path=\"url(#clip03)\" points=\"\n",
       "426.729,44.2603 426.729,8.94865 433.064,8.94865 433.064,44.2603 426.729,44.2603 426.729,44.2603 \n",
       "  \" fill=\"#0099ff\" fill-opacity=\"1\"/>\n",
       "<polyline clip-path=\"url(#clip03)\" style=\"stroke:#00002d; stroke-width:0.8; stroke-opacity:1; fill:none\" points=\"\n",
       "  426.729,44.2603 426.729,8.94865 433.064,8.94865 433.064,44.2603 426.729,44.2603 \n",
       "  \"/>\n",
       "<polygon clip-path=\"url(#clip03)\" points=\"\n",
       "433.064,46.8534 433.064,8.94865 439.399,8.94865 439.399,46.8534 433.064,46.8534 433.064,46.8534 \n",
       "  \" fill=\"#0099ff\" fill-opacity=\"1\"/>\n",
       "<polyline clip-path=\"url(#clip03)\" style=\"stroke:#00002d; stroke-width:0.8; stroke-opacity:1; fill:none\" points=\"\n",
       "  433.064,46.8534 433.064,8.94865 439.399,8.94865 439.399,46.8534 433.064,46.8534 \n",
       "  \"/>\n",
       "<polygon clip-path=\"url(#clip03)\" points=\"\n",
       "439.399,49.6134 439.399,8.94865 445.734,8.94865 445.734,49.6134 439.399,49.6134 439.399,49.6134 \n",
       "  \" fill=\"#0099ff\" fill-opacity=\"1\"/>\n",
       "<polyline clip-path=\"url(#clip03)\" style=\"stroke:#00002d; stroke-width:0.8; stroke-opacity:1; fill:none\" points=\"\n",
       "  439.399,49.6134 439.399,8.94865 445.734,8.94865 445.734,49.6134 439.399,49.6134 \n",
       "  \"/>\n",
       "<polygon clip-path=\"url(#clip03)\" points=\"\n",
       "445.734,52.5497 445.734,8.94865 452.069,8.94865 452.069,52.5497 445.734,52.5497 445.734,52.5497 \n",
       "  \" fill=\"#0099ff\" fill-opacity=\"1\"/>\n",
       "<polyline clip-path=\"url(#clip03)\" style=\"stroke:#00002d; stroke-width:0.8; stroke-opacity:1; fill:none\" points=\"\n",
       "  445.734,52.5497 445.734,8.94865 452.069,8.94865 452.069,52.5497 445.734,52.5497 \n",
       "  \"/>\n",
       "<polygon clip-path=\"url(#clip03)\" points=\"\n",
       "452.069,55.6717 452.069,8.94865 458.404,8.94865 458.404,55.6717 452.069,55.6717 452.069,55.6717 \n",
       "  \" fill=\"#0099ff\" fill-opacity=\"1\"/>\n",
       "<polyline clip-path=\"url(#clip03)\" style=\"stroke:#00002d; stroke-width:0.8; stroke-opacity:1; fill:none\" points=\"\n",
       "  452.069,55.6717 452.069,8.94865 458.404,8.94865 458.404,55.6717 452.069,55.6717 \n",
       "  \"/>\n",
       "<polygon clip-path=\"url(#clip03)\" points=\"\n",
       "458.404,58.9894 458.404,8.94865 464.739,8.94865 464.739,58.9894 458.404,58.9894 458.404,58.9894 \n",
       "  \" fill=\"#0099ff\" fill-opacity=\"1\"/>\n",
       "<polyline clip-path=\"url(#clip03)\" style=\"stroke:#00002d; stroke-width:0.8; stroke-opacity:1; fill:none\" points=\"\n",
       "  458.404,58.9894 458.404,8.94865 464.739,8.94865 464.739,58.9894 458.404,58.9894 \n",
       "  \"/>\n",
       "<polygon clip-path=\"url(#clip03)\" points=\"\n",
       "464.739,62.5133 464.739,8.94865 471.073,8.94865 471.073,62.5133 464.739,62.5133 464.739,62.5133 \n",
       "  \" fill=\"#0099ff\" fill-opacity=\"1\"/>\n",
       "<polyline clip-path=\"url(#clip03)\" style=\"stroke:#00002d; stroke-width:0.8; stroke-opacity:1; fill:none\" points=\"\n",
       "  464.739,62.5133 464.739,8.94865 471.073,8.94865 471.073,62.5133 464.739,62.5133 \n",
       "  \"/>\n",
       "<polygon clip-path=\"url(#clip03)\" points=\"\n",
       "471.073,66.2541 471.073,8.94865 477.408,8.94865 477.408,66.2541 471.073,66.2541 471.073,66.2541 \n",
       "  \" fill=\"#0099ff\" fill-opacity=\"1\"/>\n",
       "<polyline clip-path=\"url(#clip03)\" style=\"stroke:#00002d; stroke-width:0.8; stroke-opacity:1; fill:none\" points=\"\n",
       "  471.073,66.2541 471.073,8.94865 477.408,8.94865 477.408,66.2541 471.073,66.2541 \n",
       "  \"/>\n",
       "<polygon clip-path=\"url(#clip03)\" points=\"\n",
       "477.408,70.2233 477.408,8.94865 483.743,8.94865 483.743,70.2233 477.408,70.2233 477.408,70.2233 \n",
       "  \" fill=\"#0099ff\" fill-opacity=\"1\"/>\n",
       "<polyline clip-path=\"url(#clip03)\" style=\"stroke:#00002d; stroke-width:0.8; stroke-opacity:1; fill:none\" points=\"\n",
       "  477.408,70.2233 477.408,8.94865 483.743,8.94865 483.743,70.2233 477.408,70.2233 \n",
       "  \"/>\n",
       "<polygon clip-path=\"url(#clip03)\" points=\"\n",
       "483.743,74.4326 483.743,8.94865 490.078,8.94865 490.078,74.4326 483.743,74.4326 483.743,74.4326 \n",
       "  \" fill=\"#0099ff\" fill-opacity=\"1\"/>\n",
       "<polyline clip-path=\"url(#clip03)\" style=\"stroke:#00002d; stroke-width:0.8; stroke-opacity:1; fill:none\" points=\"\n",
       "  483.743,74.4326 483.743,8.94865 490.078,8.94865 490.078,74.4326 483.743,74.4326 \n",
       "  \"/>\n",
       "<polygon clip-path=\"url(#clip03)\" points=\"\n",
       "490.078,78.8942 490.078,8.94865 496.413,8.94865 496.413,78.8942 490.078,78.8942 490.078,78.8942 \n",
       "  \" fill=\"#0099ff\" fill-opacity=\"1\"/>\n",
       "<polyline clip-path=\"url(#clip03)\" style=\"stroke:#00002d; stroke-width:0.8; stroke-opacity:1; fill:none\" points=\"\n",
       "  490.078,78.8942 490.078,8.94865 496.413,8.94865 496.413,78.8942 490.078,78.8942 \n",
       "  \"/>\n",
       "<polygon clip-path=\"url(#clip03)\" points=\"\n",
       "496.413,83.6209 496.413,8.94865 502.748,8.94865 502.748,83.6209 496.413,83.6209 496.413,83.6209 \n",
       "  \" fill=\"#0099ff\" fill-opacity=\"1\"/>\n",
       "<polyline clip-path=\"url(#clip03)\" style=\"stroke:#00002d; stroke-width:0.8; stroke-opacity:1; fill:none\" points=\"\n",
       "  496.413,83.6209 496.413,8.94865 502.748,8.94865 502.748,83.6209 496.413,83.6209 \n",
       "  \"/>\n",
       "<polygon clip-path=\"url(#clip03)\" points=\"\n",
       "502.748,88.6261 502.748,8.94865 509.083,8.94865 509.083,88.6261 502.748,88.6261 502.748,88.6261 \n",
       "  \" fill=\"#0099ff\" fill-opacity=\"1\"/>\n",
       "<polyline clip-path=\"url(#clip03)\" style=\"stroke:#00002d; stroke-width:0.8; stroke-opacity:1; fill:none\" points=\"\n",
       "  502.748,88.6261 502.748,8.94865 509.083,8.94865 509.083,88.6261 502.748,88.6261 \n",
       "  \"/>\n",
       "<polygon clip-path=\"url(#clip03)\" points=\"\n",
       "509.083,93.9234 509.083,8.94865 515.418,8.94865 515.418,93.9234 509.083,93.9234 509.083,93.9234 \n",
       "  \" fill=\"#0099ff\" fill-opacity=\"1\"/>\n",
       "<polyline clip-path=\"url(#clip03)\" style=\"stroke:#00002d; stroke-width:0.8; stroke-opacity:1; fill:none\" points=\"\n",
       "  509.083,93.9234 509.083,8.94865 515.418,8.94865 515.418,93.9234 509.083,93.9234 \n",
       "  \"/>\n",
       "<polygon clip-path=\"url(#clip03)\" points=\"\n",
       "515.418,99.5274 515.418,8.94865 521.752,8.94865 521.752,99.5274 515.418,99.5274 515.418,99.5274 \n",
       "  \" fill=\"#0099ff\" fill-opacity=\"1\"/>\n",
       "<polyline clip-path=\"url(#clip03)\" style=\"stroke:#00002d; stroke-width:0.8; stroke-opacity:1; fill:none\" points=\"\n",
       "  515.418,99.5274 515.418,8.94865 521.752,8.94865 521.752,99.5274 515.418,99.5274 \n",
       "  \"/>\n",
       "<polygon clip-path=\"url(#clip03)\" points=\"\n",
       "521.752,105.453 521.752,8.94865 528.087,8.94865 528.087,105.453 521.752,105.453 521.752,105.453 \n",
       "  \" fill=\"#0099ff\" fill-opacity=\"1\"/>\n",
       "<polyline clip-path=\"url(#clip03)\" style=\"stroke:#00002d; stroke-width:0.8; stroke-opacity:1; fill:none\" points=\"\n",
       "  521.752,105.453 521.752,8.94865 528.087,8.94865 528.087,105.453 521.752,105.453 \n",
       "  \"/>\n",
       "<polygon clip-path=\"url(#clip03)\" points=\"\n",
       "528.087,111.715 528.087,8.94865 534.422,8.94865 534.422,111.715 528.087,111.715 528.087,111.715 \n",
       "  \" fill=\"#0099ff\" fill-opacity=\"1\"/>\n",
       "<polyline clip-path=\"url(#clip03)\" style=\"stroke:#00002d; stroke-width:0.8; stroke-opacity:1; fill:none\" points=\"\n",
       "  528.087,111.715 528.087,8.94865 534.422,8.94865 534.422,111.715 528.087,111.715 \n",
       "  \"/>\n",
       "<polygon clip-path=\"url(#clip03)\" points=\"\n",
       "534.422,118.331 534.422,8.94865 540.757,8.94865 540.757,118.331 534.422,118.331 534.422,118.331 \n",
       "  \" fill=\"#0099ff\" fill-opacity=\"1\"/>\n",
       "<polyline clip-path=\"url(#clip03)\" style=\"stroke:#00002d; stroke-width:0.8; stroke-opacity:1; fill:none\" points=\"\n",
       "  534.422,118.331 534.422,8.94865 540.757,8.94865 540.757,118.331 534.422,118.331 \n",
       "  \"/>\n",
       "<polygon clip-path=\"url(#clip03)\" points=\"\n",
       "540.757,125.316 540.757,8.94865 547.092,8.94865 547.092,125.316 540.757,125.316 540.757,125.316 \n",
       "  \" fill=\"#0099ff\" fill-opacity=\"1\"/>\n",
       "<polyline clip-path=\"url(#clip03)\" style=\"stroke:#00002d; stroke-width:0.8; stroke-opacity:1; fill:none\" points=\"\n",
       "  540.757,125.316 540.757,8.94865 547.092,8.94865 547.092,125.316 540.757,125.316 \n",
       "  \"/>\n",
       "<polygon clip-path=\"url(#clip03)\" points=\"\n",
       "547.092,132.688 547.092,8.94865 553.427,8.94865 553.427,132.688 547.092,132.688 547.092,132.688 \n",
       "  \" fill=\"#0099ff\" fill-opacity=\"1\"/>\n",
       "<polyline clip-path=\"url(#clip03)\" style=\"stroke:#00002d; stroke-width:0.8; stroke-opacity:1; fill:none\" points=\"\n",
       "  547.092,132.688 547.092,8.94865 553.427,8.94865 553.427,132.688 547.092,132.688 \n",
       "  \"/>\n",
       "<polygon clip-path=\"url(#clip03)\" points=\"\n",
       "553.427,140.465 553.427,8.94865 559.762,8.94865 559.762,140.465 553.427,140.465 553.427,140.465 \n",
       "  \" fill=\"#0099ff\" fill-opacity=\"1\"/>\n",
       "<polyline clip-path=\"url(#clip03)\" style=\"stroke:#00002d; stroke-width:0.8; stroke-opacity:1; fill:none\" points=\"\n",
       "  553.427,140.465 553.427,8.94865 559.762,8.94865 559.762,140.465 553.427,140.465 \n",
       "  \"/>\n",
       "<polygon clip-path=\"url(#clip03)\" points=\"\n",
       "559.762,148.665 559.762,8.94865 566.097,8.94865 566.097,148.665 559.762,148.665 559.762,148.665 \n",
       "  \" fill=\"#0099ff\" fill-opacity=\"1\"/>\n",
       "<polyline clip-path=\"url(#clip03)\" style=\"stroke:#00002d; stroke-width:0.8; stroke-opacity:1; fill:none\" points=\"\n",
       "  559.762,148.665 559.762,8.94865 566.097,8.94865 566.097,148.665 559.762,148.665 \n",
       "  \"/>\n",
       "<polygon clip-path=\"url(#clip03)\" points=\"\n",
       "566.097,157.308 566.097,8.94865 572.431,8.94865 572.431,157.308 566.097,157.308 566.097,157.308 \n",
       "  \" fill=\"#0099ff\" fill-opacity=\"1\"/>\n",
       "<polyline clip-path=\"url(#clip03)\" style=\"stroke:#00002d; stroke-width:0.8; stroke-opacity:1; fill:none\" points=\"\n",
       "  566.097,157.308 566.097,8.94865 572.431,8.94865 572.431,157.308 566.097,157.308 \n",
       "  \"/>\n",
       "<polygon clip-path=\"url(#clip03)\" points=\"\n",
       "572.431,166.414 572.431,8.94865 578.766,8.94865 578.766,166.414 572.431,166.414 572.431,166.414 \n",
       "  \" fill=\"#0099ff\" fill-opacity=\"1\"/>\n",
       "<polyline clip-path=\"url(#clip03)\" style=\"stroke:#00002d; stroke-width:0.8; stroke-opacity:1; fill:none\" points=\"\n",
       "  572.431,166.414 572.431,8.94865 578.766,8.94865 578.766,166.414 572.431,166.414 \n",
       "  \"/>\n",
       "<polygon clip-path=\"url(#clip03)\" points=\"\n",
       "578.766,176.003 578.766,8.94865 585.101,8.94865 585.101,176.003 578.766,176.003 578.766,176.003 \n",
       "  \" fill=\"#0099ff\" fill-opacity=\"1\"/>\n",
       "<polyline clip-path=\"url(#clip03)\" style=\"stroke:#00002d; stroke-width:0.8; stroke-opacity:1; fill:none\" points=\"\n",
       "  578.766,176.003 578.766,8.94865 585.101,8.94865 585.101,176.003 578.766,176.003 \n",
       "  \"/>\n",
       "<polygon clip-path=\"url(#clip00)\" points=\"\n",
       "505.547,55.057 578.063,55.057 578.063,24.817 505.547,24.817 \n",
       "  \" fill=\"#ffffff\" fill-opacity=\"1\"/>\n",
       "<polyline clip-path=\"url(#clip00)\" style=\"stroke:#00002d; stroke-width:0.8; stroke-opacity:1; fill:none\" points=\"\n",
       "  505.547,55.057 578.063,55.057 578.063,24.817 505.547,24.817 505.547,55.057 \n",
       "  \"/>\n",
       "<polygon clip-path=\"url(#clip00)\" points=\"\n",
       "511.547,45.985 547.547,45.985 547.547,33.889 511.547,33.889 511.547,45.985 \n",
       "  \" fill=\"#0099ff\" fill-opacity=\"1\"/>\n",
       "<polyline clip-path=\"url(#clip00)\" style=\"stroke:#00002d; stroke-width:0.8; stroke-opacity:1; fill:none\" points=\"\n",
       "  511.547,45.985 547.547,45.985 547.547,33.889 511.547,33.889 511.547,45.985 \n",
       "  \"/>\n",
       "<circle clip-path=\"url(#clip00)\" style=\"fill:#00002d; stroke:none; fill-opacity:1\" cx=\"517.547\" cy=\"39.937\" r=\"7\"/>\n",
       "<circle clip-path=\"url(#clip00)\" style=\"fill:#0099ff; stroke:none; fill-opacity:1\" cx=\"517.547\" cy=\"39.937\" r=\"7\"/>\n",
       "<circle clip-path=\"url(#clip00)\" style=\"fill:#00002d; stroke:none; fill-opacity:1\" cx=\"541.547\" cy=\"39.937\" r=\"7\"/>\n",
       "<circle clip-path=\"url(#clip00)\" style=\"fill:#0099ff; stroke:none; fill-opacity:1\" cx=\"541.547\" cy=\"39.937\" r=\"7\"/>\n",
       "<g clip-path=\"url(#clip00)\">\n",
       "<text style=\"fill:#00002d; fill-opacity:1; font-family:Arial,Helvetica Neue,Helvetica,sans-serif; font-size:12; text-anchor:start;\" transform=\"rotate(0, 553.547, 44.437)\" x=\"553.547\" y=\"44.437\">y2</text>\n",
       "</g>\n",
       "<polygon clip-path=\"url(#clip00)\" points=\"\n",
       "96.7629,381.015 296.063,381.015 296.063,203.937 96.7629,203.937 \n",
       "  \" fill=\"#ffffff\" fill-opacity=\"1\"/>\n",
       "<defs>\n",
       "  <clipPath id=\"clip04\">\n",
       "    <rect x=\"96\" y=\"203\" width=\"200\" height=\"178\"/>\n",
       "  </clipPath>\n",
       "</defs>\n",
       "<polyline clip-path=\"url(#clip04)\" style=\"stroke:#00002d; stroke-width:0.8; stroke-opacity:0.5; fill:none\" stroke-dasharray=\"1, 2\" points=\"\n",
       "  151.149,378.359 151.149,206.593 \n",
       "  \"/>\n",
       "<polyline clip-path=\"url(#clip04)\" style=\"stroke:#00002d; stroke-width:0.8; stroke-opacity:0.5; fill:none\" stroke-dasharray=\"1, 2\" points=\"\n",
       "  220.786,378.359 220.786,206.593 \n",
       "  \"/>\n",
       "<polyline clip-path=\"url(#clip04)\" style=\"stroke:#00002d; stroke-width:0.8; stroke-opacity:0.5; fill:none\" stroke-dasharray=\"1, 2\" points=\"\n",
       "  290.422,378.359 290.422,206.593 \n",
       "  \"/>\n",
       "<polyline clip-path=\"url(#clip04)\" style=\"stroke:#00002d; stroke-width:0.8; stroke-opacity:0.5; fill:none\" stroke-dasharray=\"1, 2\" points=\"\n",
       "  99.7524,366.556 293.073,366.556 \n",
       "  \"/>\n",
       "<polyline clip-path=\"url(#clip04)\" style=\"stroke:#00002d; stroke-width:0.8; stroke-opacity:0.5; fill:none\" stroke-dasharray=\"1, 2\" points=\"\n",
       "  99.7524,328.177 293.073,328.177 \n",
       "  \"/>\n",
       "<polyline clip-path=\"url(#clip04)\" style=\"stroke:#00002d; stroke-width:0.8; stroke-opacity:0.5; fill:none\" stroke-dasharray=\"1, 2\" points=\"\n",
       "  99.7524,289.798 293.073,289.798 \n",
       "  \"/>\n",
       "<polyline clip-path=\"url(#clip04)\" style=\"stroke:#00002d; stroke-width:0.8; stroke-opacity:0.5; fill:none\" stroke-dasharray=\"1, 2\" points=\"\n",
       "  99.7524,251.419 293.073,251.419 \n",
       "  \"/>\n",
       "<polyline clip-path=\"url(#clip04)\" style=\"stroke:#00002d; stroke-width:0.8; stroke-opacity:0.5; fill:none\" stroke-dasharray=\"1, 2\" points=\"\n",
       "  99.7524,213.039 293.073,213.039 \n",
       "  \"/>\n",
       "<polyline clip-path=\"url(#clip04)\" style=\"stroke:#00002d; stroke-width:0.8; stroke-opacity:1; fill:none\" points=\"\n",
       "  96.7629,381.015 296.063,381.015 \n",
       "  \"/>\n",
       "<polyline clip-path=\"url(#clip04)\" style=\"stroke:#00002d; stroke-width:0.8; stroke-opacity:1; fill:none\" points=\"\n",
       "  151.149,381.015 151.149,378.359 \n",
       "  \"/>\n",
       "<polyline clip-path=\"url(#clip04)\" style=\"stroke:#00002d; stroke-width:0.8; stroke-opacity:1; fill:none\" points=\"\n",
       "  220.786,381.015 220.786,378.359 \n",
       "  \"/>\n",
       "<polyline clip-path=\"url(#clip04)\" style=\"stroke:#00002d; stroke-width:0.8; stroke-opacity:1; fill:none\" points=\"\n",
       "  290.422,381.015 290.422,378.359 \n",
       "  \"/>\n",
       "<polyline clip-path=\"url(#clip04)\" style=\"stroke:#00002d; stroke-width:0.8; stroke-opacity:1; fill:none\" points=\"\n",
       "  96.7629,381.015 96.7629,203.937 \n",
       "  \"/>\n",
       "<polyline clip-path=\"url(#clip04)\" style=\"stroke:#00002d; stroke-width:0.8; stroke-opacity:1; fill:none\" points=\"\n",
       "  96.7629,366.556 99.7524,366.556 \n",
       "  \"/>\n",
       "<polyline clip-path=\"url(#clip04)\" style=\"stroke:#00002d; stroke-width:0.8; stroke-opacity:1; fill:none\" points=\"\n",
       "  96.7629,328.177 99.7524,328.177 \n",
       "  \"/>\n",
       "<polyline clip-path=\"url(#clip04)\" style=\"stroke:#00002d; stroke-width:0.8; stroke-opacity:1; fill:none\" points=\"\n",
       "  96.7629,289.798 99.7524,289.798 \n",
       "  \"/>\n",
       "<polyline clip-path=\"url(#clip04)\" style=\"stroke:#00002d; stroke-width:0.8; stroke-opacity:1; fill:none\" points=\"\n",
       "  96.7629,251.419 99.7524,251.419 \n",
       "  \"/>\n",
       "<polyline clip-path=\"url(#clip04)\" style=\"stroke:#00002d; stroke-width:0.8; stroke-opacity:1; fill:none\" points=\"\n",
       "  96.7629,213.039 99.7524,213.039 \n",
       "  \"/>\n",
       "<g clip-path=\"url(#clip00)\">\n",
       "<text style=\"fill:#00002d; fill-opacity:1; font-family:Arial,Helvetica Neue,Helvetica,sans-serif; font-size:12; text-anchor:middle;\" transform=\"rotate(0, 151.149, 393.015)\" x=\"151.149\" y=\"393.015\">280</text>\n",
       "</g>\n",
       "<g clip-path=\"url(#clip00)\">\n",
       "<text style=\"fill:#00002d; fill-opacity:1; font-family:Arial,Helvetica Neue,Helvetica,sans-serif; font-size:12; text-anchor:middle;\" transform=\"rotate(0, 220.786, 393.015)\" x=\"220.786\" y=\"393.015\">290</text>\n",
       "</g>\n",
       "<g clip-path=\"url(#clip00)\">\n",
       "<text style=\"fill:#00002d; fill-opacity:1; font-family:Arial,Helvetica Neue,Helvetica,sans-serif; font-size:12; text-anchor:middle;\" transform=\"rotate(0, 290.422, 393.015)\" x=\"290.422\" y=\"393.015\">300</text>\n",
       "</g>\n",
       "<g clip-path=\"url(#clip00)\">\n",
       "<text style=\"fill:#00002d; fill-opacity:1; font-family:Arial,Helvetica Neue,Helvetica,sans-serif; font-size:12; text-anchor:end;\" transform=\"rotate(0, 95.5629, 371.056)\" x=\"95.5629\" y=\"371.056\">-0.0000005</text>\n",
       "</g>\n",
       "<g clip-path=\"url(#clip00)\">\n",
       "<text style=\"fill:#00002d; fill-opacity:1; font-family:Arial,Helvetica Neue,Helvetica,sans-serif; font-size:12; text-anchor:end;\" transform=\"rotate(0, 95.5629, 332.677)\" x=\"95.5629\" y=\"332.677\">-0.0000004</text>\n",
       "</g>\n",
       "<g clip-path=\"url(#clip00)\">\n",
       "<text style=\"fill:#00002d; fill-opacity:1; font-family:Arial,Helvetica Neue,Helvetica,sans-serif; font-size:12; text-anchor:end;\" transform=\"rotate(0, 95.5629, 294.298)\" x=\"95.5629\" y=\"294.298\">-0.0000003</text>\n",
       "</g>\n",
       "<g clip-path=\"url(#clip00)\">\n",
       "<text style=\"fill:#00002d; fill-opacity:1; font-family:Arial,Helvetica Neue,Helvetica,sans-serif; font-size:12; text-anchor:end;\" transform=\"rotate(0, 95.5629, 255.919)\" x=\"95.5629\" y=\"255.919\">-0.0000002</text>\n",
       "</g>\n",
       "<g clip-path=\"url(#clip00)\">\n",
       "<text style=\"fill:#00002d; fill-opacity:1; font-family:Arial,Helvetica Neue,Helvetica,sans-serif; font-size:12; text-anchor:end;\" transform=\"rotate(0, 95.5629, 217.539)\" x=\"95.5629\" y=\"217.539\">-0.0000001</text>\n",
       "</g>\n",
       "<circle clip-path=\"url(#clip04)\" style=\"fill:#00002d; stroke:none; fill-opacity:1\" cx=\"102.403\" cy=\"208.949\" r=\"1\"/>\n",
       "<line clip-path=\"url(#clip04)\" x1=\"102.403\" y1=\"208.949\" x2=\"103.403\" y2=\"208.949\" style=\"stroke:#0099ff; stroke-opacity:1\"/>\n",
       "<circle clip-path=\"url(#clip04)\" style=\"fill:#00002d; stroke:none; fill-opacity:1\" cx=\"109.367\" cy=\"211.531\" r=\"1\"/>\n",
       "<line clip-path=\"url(#clip04)\" x1=\"109.367\" y1=\"211.531\" x2=\"110.367\" y2=\"211.531\" style=\"stroke:#0099ff; stroke-opacity:1\"/>\n",
       "<circle clip-path=\"url(#clip04)\" style=\"fill:#00002d; stroke:none; fill-opacity:1\" cx=\"116.331\" cy=\"214.285\" r=\"1\"/>\n",
       "<line clip-path=\"url(#clip04)\" x1=\"116.331\" y1=\"214.285\" x2=\"117.331\" y2=\"214.285\" style=\"stroke:#0099ff; stroke-opacity:1\"/>\n",
       "<circle clip-path=\"url(#clip04)\" style=\"fill:#00002d; stroke:none; fill-opacity:1\" cx=\"123.294\" cy=\"217.22\" r=\"1\"/>\n",
       "<line clip-path=\"url(#clip04)\" x1=\"123.294\" y1=\"217.22\" x2=\"124.294\" y2=\"217.22\" style=\"stroke:#0099ff; stroke-opacity:1\"/>\n",
       "<circle clip-path=\"url(#clip04)\" style=\"fill:#00002d; stroke:none; fill-opacity:1\" cx=\"130.258\" cy=\"220.345\" r=\"1\"/>\n",
       "<line clip-path=\"url(#clip04)\" x1=\"130.258\" y1=\"220.345\" x2=\"131.258\" y2=\"220.345\" style=\"stroke:#0099ff; stroke-opacity:1\"/>\n",
       "<circle clip-path=\"url(#clip04)\" style=\"fill:#00002d; stroke:none; fill-opacity:1\" cx=\"137.222\" cy=\"223.672\" r=\"1\"/>\n",
       "<line clip-path=\"url(#clip04)\" x1=\"137.222\" y1=\"223.672\" x2=\"138.222\" y2=\"223.672\" style=\"stroke:#0099ff; stroke-opacity:1\"/>\n",
       "<circle clip-path=\"url(#clip04)\" style=\"fill:#00002d; stroke:none; fill-opacity:1\" cx=\"144.185\" cy=\"227.211\" r=\"1\"/>\n",
       "<line clip-path=\"url(#clip04)\" x1=\"144.185\" y1=\"227.211\" x2=\"145.185\" y2=\"227.211\" style=\"stroke:#0099ff; stroke-opacity:1\"/>\n",
       "<circle clip-path=\"url(#clip04)\" style=\"fill:#00002d; stroke:none; fill-opacity:1\" cx=\"151.149\" cy=\"230.973\" r=\"1\"/>\n",
       "<line clip-path=\"url(#clip04)\" x1=\"151.149\" y1=\"230.973\" x2=\"152.149\" y2=\"230.973\" style=\"stroke:#0099ff; stroke-opacity:1\"/>\n",
       "<circle clip-path=\"url(#clip04)\" style=\"fill:#00002d; stroke:none; fill-opacity:1\" cx=\"158.113\" cy=\"234.972\" r=\"1\"/>\n",
       "<line clip-path=\"url(#clip04)\" x1=\"158.113\" y1=\"234.972\" x2=\"159.113\" y2=\"234.972\" style=\"stroke:#0099ff; stroke-opacity:1\"/>\n",
       "<circle clip-path=\"url(#clip04)\" style=\"fill:#00002d; stroke:none; fill-opacity:1\" cx=\"165.076\" cy=\"239.219\" r=\"1\"/>\n",
       "<line clip-path=\"url(#clip04)\" x1=\"165.076\" y1=\"239.219\" x2=\"166.076\" y2=\"239.219\" style=\"stroke:#0099ff; stroke-opacity:1\"/>\n",
       "<circle clip-path=\"url(#clip04)\" style=\"fill:#00002d; stroke:none; fill-opacity:1\" cx=\"172.04\" cy=\"243.728\" r=\"1\"/>\n",
       "<line clip-path=\"url(#clip04)\" x1=\"172.04\" y1=\"243.728\" x2=\"173.04\" y2=\"243.728\" style=\"stroke:#0099ff; stroke-opacity:1\"/>\n",
       "<circle clip-path=\"url(#clip04)\" style=\"fill:#00002d; stroke:none; fill-opacity:1\" cx=\"179.004\" cy=\"248.512\" r=\"1\"/>\n",
       "<line clip-path=\"url(#clip04)\" x1=\"179.004\" y1=\"248.512\" x2=\"180.004\" y2=\"248.512\" style=\"stroke:#0099ff; stroke-opacity:1\"/>\n",
       "<circle clip-path=\"url(#clip04)\" style=\"fill:#00002d; stroke:none; fill-opacity:1\" cx=\"185.967\" cy=\"253.585\" r=\"1\"/>\n",
       "<line clip-path=\"url(#clip04)\" x1=\"185.967\" y1=\"253.585\" x2=\"186.967\" y2=\"253.585\" style=\"stroke:#0099ff; stroke-opacity:1\"/>\n",
       "<circle clip-path=\"url(#clip04)\" style=\"fill:#00002d; stroke:none; fill-opacity:1\" cx=\"192.931\" cy=\"258.962\" r=\"1\"/>\n",
       "<line clip-path=\"url(#clip04)\" x1=\"192.931\" y1=\"258.962\" x2=\"193.931\" y2=\"258.962\" style=\"stroke:#0099ff; stroke-opacity:1\"/>\n",
       "<circle clip-path=\"url(#clip04)\" style=\"fill:#00002d; stroke:none; fill-opacity:1\" cx=\"199.895\" cy=\"264.659\" r=\"1\"/>\n",
       "<line clip-path=\"url(#clip04)\" x1=\"199.895\" y1=\"264.659\" x2=\"200.895\" y2=\"264.659\" style=\"stroke:#0099ff; stroke-opacity:1\"/>\n",
       "<circle clip-path=\"url(#clip04)\" style=\"fill:#00002d; stroke:none; fill-opacity:1\" cx=\"206.858\" cy=\"270.692\" r=\"1\"/>\n",
       "<line clip-path=\"url(#clip04)\" x1=\"206.858\" y1=\"270.692\" x2=\"207.858\" y2=\"270.692\" style=\"stroke:#0099ff; stroke-opacity:1\"/>\n",
       "<circle clip-path=\"url(#clip04)\" style=\"fill:#00002d; stroke:none; fill-opacity:1\" cx=\"213.822\" cy=\"277.076\" r=\"1\"/>\n",
       "<line clip-path=\"url(#clip04)\" x1=\"213.822\" y1=\"277.076\" x2=\"214.822\" y2=\"277.076\" style=\"stroke:#0099ff; stroke-opacity:1\"/>\n",
       "<circle clip-path=\"url(#clip04)\" style=\"fill:#00002d; stroke:none; fill-opacity:1\" cx=\"220.786\" cy=\"283.831\" r=\"1\"/>\n",
       "<line clip-path=\"url(#clip04)\" x1=\"220.786\" y1=\"283.831\" x2=\"221.786\" y2=\"283.831\" style=\"stroke:#0099ff; stroke-opacity:1\"/>\n",
       "<circle clip-path=\"url(#clip04)\" style=\"fill:#00002d; stroke:none; fill-opacity:1\" cx=\"227.749\" cy=\"290.972\" r=\"1\"/>\n",
       "<line clip-path=\"url(#clip04)\" x1=\"227.749\" y1=\"290.972\" x2=\"228.749\" y2=\"290.972\" style=\"stroke:#0099ff; stroke-opacity:1\"/>\n",
       "<circle clip-path=\"url(#clip04)\" style=\"fill:#00002d; stroke:none; fill-opacity:1\" cx=\"234.713\" cy=\"298.52\" r=\"1\"/>\n",
       "<line clip-path=\"url(#clip04)\" x1=\"234.713\" y1=\"298.52\" x2=\"235.713\" y2=\"298.52\" style=\"stroke:#0099ff; stroke-opacity:1\"/>\n",
       "<circle clip-path=\"url(#clip04)\" style=\"fill:#00002d; stroke:none; fill-opacity:1\" cx=\"241.677\" cy=\"306.493\" r=\"1\"/>\n",
       "<line clip-path=\"url(#clip04)\" x1=\"241.677\" y1=\"306.493\" x2=\"242.677\" y2=\"306.493\" style=\"stroke:#0099ff; stroke-opacity:1\"/>\n",
       "<circle clip-path=\"url(#clip04)\" style=\"fill:#00002d; stroke:none; fill-opacity:1\" cx=\"248.64\" cy=\"314.912\" r=\"1\"/>\n",
       "<line clip-path=\"url(#clip04)\" x1=\"248.64\" y1=\"314.912\" x2=\"249.64\" y2=\"314.912\" style=\"stroke:#0099ff; stroke-opacity:1\"/>\n",
       "<circle clip-path=\"url(#clip04)\" style=\"fill:#00002d; stroke:none; fill-opacity:1\" cx=\"255.604\" cy=\"323.797\" r=\"1\"/>\n",
       "<line clip-path=\"url(#clip04)\" x1=\"255.604\" y1=\"323.797\" x2=\"256.604\" y2=\"323.797\" style=\"stroke:#0099ff; stroke-opacity:1\"/>\n",
       "<circle clip-path=\"url(#clip04)\" style=\"fill:#00002d; stroke:none; fill-opacity:1\" cx=\"262.568\" cy=\"333.17\" r=\"1\"/>\n",
       "<line clip-path=\"url(#clip04)\" x1=\"262.568\" y1=\"333.17\" x2=\"263.568\" y2=\"333.17\" style=\"stroke:#0099ff; stroke-opacity:1\"/>\n",
       "<circle clip-path=\"url(#clip04)\" style=\"fill:#00002d; stroke:none; fill-opacity:1\" cx=\"269.531\" cy=\"343.054\" r=\"1\"/>\n",
       "<line clip-path=\"url(#clip04)\" x1=\"269.531\" y1=\"343.054\" x2=\"270.531\" y2=\"343.054\" style=\"stroke:#0099ff; stroke-opacity:1\"/>\n",
       "<circle clip-path=\"url(#clip04)\" style=\"fill:#00002d; stroke:none; fill-opacity:1\" cx=\"276.495\" cy=\"353.471\" r=\"1\"/>\n",
       "<line clip-path=\"url(#clip04)\" x1=\"276.495\" y1=\"353.471\" x2=\"277.495\" y2=\"353.471\" style=\"stroke:#0099ff; stroke-opacity:1\"/>\n",
       "<circle clip-path=\"url(#clip04)\" style=\"fill:#00002d; stroke:none; fill-opacity:1\" cx=\"283.459\" cy=\"364.446\" r=\"1\"/>\n",
       "<line clip-path=\"url(#clip04)\" x1=\"283.459\" y1=\"364.446\" x2=\"284.459\" y2=\"364.446\" style=\"stroke:#0099ff; stroke-opacity:1\"/>\n",
       "<circle clip-path=\"url(#clip04)\" style=\"fill:#00002d; stroke:none; fill-opacity:1\" cx=\"290.422\" cy=\"376.003\" r=\"1\"/>\n",
       "<line clip-path=\"url(#clip04)\" x1=\"290.422\" y1=\"376.003\" x2=\"291.422\" y2=\"376.003\" style=\"stroke:#0099ff; stroke-opacity:1\"/>\n",
       "<polygon clip-path=\"url(#clip00)\" points=\"\n",
       "205.547,255.057 278.063,255.057 278.063,224.817 205.547,224.817 \n",
       "  \" fill=\"#ffffff\" fill-opacity=\"1\"/>\n",
       "<polyline clip-path=\"url(#clip00)\" style=\"stroke:#00002d; stroke-width:0.8; stroke-opacity:1; fill:none\" points=\"\n",
       "  205.547,255.057 278.063,255.057 278.063,224.817 205.547,224.817 205.547,255.057 \n",
       "  \"/>\n",
       "<circle clip-path=\"url(#clip00)\" style=\"fill:#00002d; stroke:none; fill-opacity:1\" cx=\"217.547\" cy=\"239.937\" r=\"7\"/>\n",
       "<circle clip-path=\"url(#clip00)\" style=\"fill:#0099ff; stroke:none; fill-opacity:1\" cx=\"217.547\" cy=\"239.937\" r=\"7\"/>\n",
       "<circle clip-path=\"url(#clip00)\" style=\"fill:#00002d; stroke:none; fill-opacity:1\" cx=\"241.547\" cy=\"239.937\" r=\"7\"/>\n",
       "<circle clip-path=\"url(#clip00)\" style=\"fill:#0099ff; stroke:none; fill-opacity:1\" cx=\"241.547\" cy=\"239.937\" r=\"7\"/>\n",
       "<g clip-path=\"url(#clip00)\">\n",
       "<text style=\"fill:#00002d; fill-opacity:1; font-family:Arial,Helvetica Neue,Helvetica,sans-serif; font-size:12; text-anchor:start;\" transform=\"rotate(0, 253.547, 244.437)\" x=\"253.547\" y=\"244.437\">y3</text>\n",
       "</g>\n",
       "</svg>\n"
      ]
     },
     "execution_count": 36,
     "metadata": {},
     "output_type": "execute_result"
    }
   ],
   "source": [
    "stypes = [:path, :bar, :scatter]\n",
    "plot(pvs, 273:300, st = stypes, layout = length(stypes), w = 1, m = 1)"
   ]
  },
  {
   "cell_type": "code",
   "execution_count": 26,
   "metadata": {
    "collapsed": false,
    "scrolled": true
   },
   "outputs": [
    {
     "name": "stderr",
     "output_type": "stream",
     "text": [
      "INFO: Cloning MetaPkg from https://github.com/tbreloff/MetaPkg.jl\n",
      "INFO: Computing changes...\n",
      "INFO: No packages to install, update or remove\n"
     ]
    }
   ],
   "source": [
    "Pkg.clone(\"https://github.com/tbreloff/MetaPkg.jl\")"
   ]
  },
  {
   "cell_type": "code",
   "execution_count": null,
   "metadata": {
    "collapsed": true
   },
   "outputs": [],
   "source": []
  }
 ],
 "metadata": {
  "anaconda-cloud": {},
  "kernelspec": {
   "display_name": "Julia 1.0.1",
   "language": "julia",
   "name": "julia-1.0"
  },
  "language_info": {
   "file_extension": ".jl",
   "mimetype": "application/julia",
   "name": "julia",
   "version": "1.0.1"
  }
 },
 "nbformat": 4,
 "nbformat_minor": 1
}
