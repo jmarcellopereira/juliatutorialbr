{
 "cells": [
  {
   "cell_type": "markdown",
   "metadata": {},
   "source": [
    "# ESTATÍSTICA E ANÁLISE DE DADOS#"
   ]
  },
  {
   "cell_type": "markdown",
   "metadata": {},
   "source": [
    "**DataFrame**"
   ]
  },
  {
   "cell_type": "code",
   "execution_count": 4,
   "metadata": {
    "collapsed": false
   },
   "outputs": [
    {
     "name": "stderr",
     "output_type": "stream",
     "text": [
      "┌ Info: Recompiling stale cache file /home/jmarcellopereira/.julia/compiled/v1.0/CSV/HHBkp.ji for CSV [336ed68f-0bac-5ca0-87d4-7b16caf5d00b]\n",
      "└ @ Base loading.jl:1190\n"
     ]
    }
   ],
   "source": [
    "using DataFrames, CSV"
   ]
  },
  {
   "cell_type": "code",
   "execution_count": 2,
   "metadata": {
    "collapsed": false,
    "scrolled": false
   },
   "outputs": [
    {
     "data": {
      "text/html": [
       "<table class=\"data-frame\"><thead><tr><th></th><th>Altura</th><th>Massa</th><th>Idade</th><th>Sexo</th></tr><tr><th></th><th>Float64</th><th>Float64</th><th>Int64</th><th>Int64</th></tr></thead><tbody><tr><th>1</th><td>1.55</td><td>50.3</td><td>20</td><td>1</td></tr><tr><th>2</th><td>1.68</td><td>65.5</td><td>18</td><td>1</td></tr><tr><th>3</th><td>1.57</td><td>55.0</td><td>18</td><td>2</td></tr><tr><th>4</th><td>1.6</td><td>78.3</td><td>17</td><td>1</td></tr><tr><th>5</th><td>1.63</td><td>45.1</td><td>19</td><td>2</td></tr><tr><th>6</th><td>1.64</td><td>90.0</td><td>21</td><td>2</td></tr><tr><th>7</th><td>1.65</td><td>80.0</td><td>17</td><td>1</td></tr><tr><th>8</th><td>1.65</td><td>75.3</td><td>18</td><td>2</td></tr><tr><th>9</th><td>1.7</td><td>60.9</td><td>19</td><td>1</td></tr><tr><th>10</th><td>1.72</td><td>83.0</td><td>19</td><td>1</td></tr><tr><th>11</th><td>1.72</td><td>72.0</td><td>18</td><td>1</td></tr><tr><th>12</th><td>1.74</td><td>65.0</td><td>20</td><td>2</td></tr><tr><th>13</th><td>1.8</td><td>82.0</td><td>22</td><td>1</td></tr><tr><th>14</th><td>1.92</td><td>91.0</td><td>18</td><td>2</td></tr></tbody></table>"
      ],
      "text/latex": [
       "\\begin{tabular}{r|cccc}\n",
       "\t& Altura & Massa & Idade & Sexo\\\\\n",
       "\t\\hline\n",
       "\t1 & 1.55 & 50.3 & 20 & 1 \\\\\n",
       "\t2 & 1.68 & 65.5 & 18 & 1 \\\\\n",
       "\t3 & 1.57 & 55.0 & 18 & 2 \\\\\n",
       "\t4 & 1.6 & 78.3 & 17 & 1 \\\\\n",
       "\t5 & 1.63 & 45.1 & 19 & 2 \\\\\n",
       "\t6 & 1.64 & 90.0 & 21 & 2 \\\\\n",
       "\t7 & 1.65 & 80.0 & 17 & 1 \\\\\n",
       "\t8 & 1.65 & 75.3 & 18 & 2 \\\\\n",
       "\t9 & 1.7 & 60.9 & 19 & 1 \\\\\n",
       "\t10 & 1.72 & 83.0 & 19 & 1 \\\\\n",
       "\t11 & 1.72 & 72.0 & 18 & 1 \\\\\n",
       "\t12 & 1.74 & 65.0 & 20 & 2 \\\\\n",
       "\t13 & 1.8 & 82.0 & 22 & 1 \\\\\n",
       "\t14 & 1.92 & 91.0 & 18 & 2 \\\\\n",
       "\\end{tabular}\n"
      ],
      "text/plain": [
       "14×4 DataFrame\n",
       "│ Row │ Altura  │ Massa   │ Idade │ Sexo  │\n",
       "│     │ \u001b[90mFloat64\u001b[39m │ \u001b[90mFloat64\u001b[39m │ \u001b[90mInt64\u001b[39m │ \u001b[90mInt64\u001b[39m │\n",
       "├─────┼─────────┼─────────┼───────┼───────┤\n",
       "│ 1   │ 1.55    │ 50.3    │ 20    │ 1     │\n",
       "│ 2   │ 1.68    │ 65.5    │ 18    │ 1     │\n",
       "│ 3   │ 1.57    │ 55.0    │ 18    │ 2     │\n",
       "│ 4   │ 1.6     │ 78.3    │ 17    │ 1     │\n",
       "│ 5   │ 1.63    │ 45.1    │ 19    │ 2     │\n",
       "│ 6   │ 1.64    │ 90.0    │ 21    │ 2     │\n",
       "│ 7   │ 1.65    │ 80.0    │ 17    │ 1     │\n",
       "│ 8   │ 1.65    │ 75.3    │ 18    │ 2     │\n",
       "│ 9   │ 1.7     │ 60.9    │ 19    │ 1     │\n",
       "│ 10  │ 1.72    │ 83.0    │ 19    │ 1     │\n",
       "│ 11  │ 1.72    │ 72.0    │ 18    │ 1     │\n",
       "│ 12  │ 1.74    │ 65.0    │ 20    │ 2     │\n",
       "│ 13  │ 1.8     │ 82.0    │ 22    │ 1     │\n",
       "│ 14  │ 1.92    │ 91.0    │ 18    │ 2     │"
      ]
     },
     "execution_count": 2,
     "metadata": {},
     "output_type": "execute_result"
    }
   ],
   "source": [
    "dados_alunos = DataFrame()\n",
    "dados_alunos.Altura = [1.55, 1.68, 1.57, 1.60, 1.63, 1.64, 1.65, 1.65, 1.70, 1.72, 1.72, 1.74, 1.80, 1.92]\n",
    "dados_alunos.Massa  = [50.3, 65.5, 55.0, 78.3, 45.1, 90.0, 80.0, 75.3, 60.9, 83.0, 72.0, 65.0, 82.0, 91.0] \n",
    "dados_alunos.Idade  = [20,   18,   18,   17,   19,   21,   17,   18,   19,   19,   18,   20,   22,   18]\n",
    "dados_alunos[:Sexo]   = [1, 1, 2, 1,  2,  2,  1,  2,  1,  1,  1,  2, 1, 2]\n",
    "dados_alunos"
   ]
  },
  {
   "cell_type": "code",
   "execution_count": 9,
   "metadata": {
    "collapsed": false,
    "scrolled": true
   },
   "outputs": [
    {
     "data": {
      "text/plain": [
       "\"Dados_alunos.csv\""
      ]
     },
     "execution_count": 9,
     "metadata": {},
     "output_type": "execute_result"
    }
   ],
   "source": [
    "CSV.write(\"Dados_alunos.csv\", dados_alunos)"
   ]
  },
  {
   "cell_type": "markdown",
   "metadata": {},
   "source": [
    "## ESTATÍSTICA DESCRITIVA\n",
    "\n",
    "A estatística descritiva ocupa-se da organização, apresentação e sintetização dos dados. "
   ]
  },
  {
   "cell_type": "markdown",
   "metadata": {},
   "source": [
    "**Gráfico**\n",
    "\n",
    "Histogramas são gráficos de barras verticais justapostas em um eixo contínuo. Neles, o eixo x recebe a variável em estudo, ou seja, abriga as classes. A largura das colunas representa a amplitude das classes. O eixo y recebe as freqüências (absolutas, relativas, percentuais ou densidades de freqüência).\n"
   ]
  },
  {
   "cell_type": "code",
   "execution_count": 10,
   "metadata": {
    "collapsed": false
   },
   "outputs": [
    {
     "data": {
      "text/plain": [
       "Plots.GRBackend()"
      ]
     },
     "execution_count": 10,
     "metadata": {},
     "output_type": "execute_result"
    }
   ],
   "source": [
    "using Plots\n",
    "gr()"
   ]
  },
  {
   "cell_type": "code",
   "execution_count": 32,
   "metadata": {
    "collapsed": false,
    "scrolled": false
   },
   "outputs": [
    {
     "data": {
      "image/svg+xml": [
       "<?xml version=\"1.0\" encoding=\"utf-8\"?>\n",
       "<svg xmlns=\"http://www.w3.org/2000/svg\" xmlns:xlink=\"http://www.w3.org/1999/xlink\" width=\"600\" height=\"400\" viewBox=\"0 0 2400 1600\">\n",
       "<defs>\n",
       "  <clipPath id=\"clip4800\">\n",
       "    <rect x=\"0\" y=\"0\" width=\"2000\" height=\"2000\"/>\n",
       "  </clipPath>\n",
       "</defs>\n",
       "<defs>\n",
       "  <clipPath id=\"clip4801\">\n",
       "    <rect x=\"0\" y=\"0\" width=\"2400\" height=\"1600\"/>\n",
       "  </clipPath>\n",
       "</defs>\n",
       "<polygon clip-path=\"url(#clip4801)\" points=\"\n",
       "0,1600 2400,1600 2400,0 0,0 \n",
       "  \" fill=\"#ffffff\" fill-rule=\"evenodd\" fill-opacity=\"1\"/>\n",
       "<defs>\n",
       "  <clipPath id=\"clip4802\">\n",
       "    <rect x=\"480\" y=\"0\" width=\"1681\" height=\"1600\"/>\n",
       "  </clipPath>\n",
       "</defs>\n",
       "<polygon clip-path=\"url(#clip4801)\" points=\"\n",
       "121.251,1503.47 2321.26,1503.47 2321.26,47.2441 121.251,47.2441 \n",
       "  \" fill=\"#ffffff\" fill-rule=\"evenodd\" fill-opacity=\"1\"/>\n",
       "<defs>\n",
       "  <clipPath id=\"clip4803\">\n",
       "    <rect x=\"121\" y=\"47\" width=\"2201\" height=\"1457\"/>\n",
       "  </clipPath>\n",
       "</defs>\n",
       "<polyline clip-path=\"url(#clip4803)\" style=\"stroke:#000000; stroke-width:2; stroke-opacity:0.1; fill:none\" points=\"\n",
       "  242.255,1503.47 242.255,47.2441 \n",
       "  \"/>\n",
       "<polyline clip-path=\"url(#clip4803)\" style=\"stroke:#000000; stroke-width:2; stroke-opacity:0.1; fill:none\" points=\"\n",
       "  633.855,1503.47 633.855,47.2441 \n",
       "  \"/>\n",
       "<polyline clip-path=\"url(#clip4803)\" style=\"stroke:#000000; stroke-width:2; stroke-opacity:0.1; fill:none\" points=\"\n",
       "  1025.46,1503.47 1025.46,47.2441 \n",
       "  \"/>\n",
       "<polyline clip-path=\"url(#clip4803)\" style=\"stroke:#000000; stroke-width:2; stroke-opacity:0.1; fill:none\" points=\"\n",
       "  1417.06,1503.47 1417.06,47.2441 \n",
       "  \"/>\n",
       "<polyline clip-path=\"url(#clip4803)\" style=\"stroke:#000000; stroke-width:2; stroke-opacity:0.1; fill:none\" points=\"\n",
       "  1808.66,1503.47 1808.66,47.2441 \n",
       "  \"/>\n",
       "<polyline clip-path=\"url(#clip4803)\" style=\"stroke:#000000; stroke-width:2; stroke-opacity:0.1; fill:none\" points=\"\n",
       "  2200.26,1503.47 2200.26,47.2441 \n",
       "  \"/>\n",
       "<polyline clip-path=\"url(#clip4803)\" style=\"stroke:#000000; stroke-width:2; stroke-opacity:0.1; fill:none\" points=\"\n",
       "  121.251,1462.26 2321.26,1462.26 \n",
       "  \"/>\n",
       "<polyline clip-path=\"url(#clip4803)\" style=\"stroke:#000000; stroke-width:2; stroke-opacity:0.1; fill:none\" points=\"\n",
       "  121.251,1233.29 2321.26,1233.29 \n",
       "  \"/>\n",
       "<polyline clip-path=\"url(#clip4803)\" style=\"stroke:#000000; stroke-width:2; stroke-opacity:0.1; fill:none\" points=\"\n",
       "  121.251,1004.33 2321.26,1004.33 \n",
       "  \"/>\n",
       "<polyline clip-path=\"url(#clip4803)\" style=\"stroke:#000000; stroke-width:2; stroke-opacity:0.1; fill:none\" points=\"\n",
       "  121.251,775.359 2321.26,775.359 \n",
       "  \"/>\n",
       "<polyline clip-path=\"url(#clip4803)\" style=\"stroke:#000000; stroke-width:2; stroke-opacity:0.1; fill:none\" points=\"\n",
       "  121.251,546.392 2321.26,546.392 \n",
       "  \"/>\n",
       "<polyline clip-path=\"url(#clip4803)\" style=\"stroke:#000000; stroke-width:2; stroke-opacity:0.1; fill:none\" points=\"\n",
       "  121.251,317.425 2321.26,317.425 \n",
       "  \"/>\n",
       "<polyline clip-path=\"url(#clip4803)\" style=\"stroke:#000000; stroke-width:2; stroke-opacity:0.1; fill:none\" points=\"\n",
       "  121.251,88.4582 2321.26,88.4582 \n",
       "  \"/>\n",
       "<polyline clip-path=\"url(#clip4801)\" style=\"stroke:#000000; stroke-width:4; stroke-opacity:1; fill:none\" points=\"\n",
       "  121.251,1503.47 2321.26,1503.47 \n",
       "  \"/>\n",
       "<polyline clip-path=\"url(#clip4801)\" style=\"stroke:#000000; stroke-width:4; stroke-opacity:1; fill:none\" points=\"\n",
       "  121.251,1503.47 121.251,47.2441 \n",
       "  \"/>\n",
       "<polyline clip-path=\"url(#clip4801)\" style=\"stroke:#000000; stroke-width:4; stroke-opacity:1; fill:none\" points=\"\n",
       "  242.255,1503.47 242.255,1481.63 \n",
       "  \"/>\n",
       "<polyline clip-path=\"url(#clip4801)\" style=\"stroke:#000000; stroke-width:4; stroke-opacity:1; fill:none\" points=\"\n",
       "  633.855,1503.47 633.855,1481.63 \n",
       "  \"/>\n",
       "<polyline clip-path=\"url(#clip4801)\" style=\"stroke:#000000; stroke-width:4; stroke-opacity:1; fill:none\" points=\"\n",
       "  1025.46,1503.47 1025.46,1481.63 \n",
       "  \"/>\n",
       "<polyline clip-path=\"url(#clip4801)\" style=\"stroke:#000000; stroke-width:4; stroke-opacity:1; fill:none\" points=\"\n",
       "  1417.06,1503.47 1417.06,1481.63 \n",
       "  \"/>\n",
       "<polyline clip-path=\"url(#clip4801)\" style=\"stroke:#000000; stroke-width:4; stroke-opacity:1; fill:none\" points=\"\n",
       "  1808.66,1503.47 1808.66,1481.63 \n",
       "  \"/>\n",
       "<polyline clip-path=\"url(#clip4801)\" style=\"stroke:#000000; stroke-width:4; stroke-opacity:1; fill:none\" points=\"\n",
       "  2200.26,1503.47 2200.26,1481.63 \n",
       "  \"/>\n",
       "<polyline clip-path=\"url(#clip4801)\" style=\"stroke:#000000; stroke-width:4; stroke-opacity:1; fill:none\" points=\"\n",
       "  121.251,1462.26 154.251,1462.26 \n",
       "  \"/>\n",
       "<polyline clip-path=\"url(#clip4801)\" style=\"stroke:#000000; stroke-width:4; stroke-opacity:1; fill:none\" points=\"\n",
       "  121.251,1233.29 154.251,1233.29 \n",
       "  \"/>\n",
       "<polyline clip-path=\"url(#clip4801)\" style=\"stroke:#000000; stroke-width:4; stroke-opacity:1; fill:none\" points=\"\n",
       "  121.251,1004.33 154.251,1004.33 \n",
       "  \"/>\n",
       "<polyline clip-path=\"url(#clip4801)\" style=\"stroke:#000000; stroke-width:4; stroke-opacity:1; fill:none\" points=\"\n",
       "  121.251,775.359 154.251,775.359 \n",
       "  \"/>\n",
       "<polyline clip-path=\"url(#clip4801)\" style=\"stroke:#000000; stroke-width:4; stroke-opacity:1; fill:none\" points=\"\n",
       "  121.251,546.392 154.251,546.392 \n",
       "  \"/>\n",
       "<polyline clip-path=\"url(#clip4801)\" style=\"stroke:#000000; stroke-width:4; stroke-opacity:1; fill:none\" points=\"\n",
       "  121.251,317.425 154.251,317.425 \n",
       "  \"/>\n",
       "<polyline clip-path=\"url(#clip4801)\" style=\"stroke:#000000; stroke-width:4; stroke-opacity:1; fill:none\" points=\"\n",
       "  121.251,88.4582 154.251,88.4582 \n",
       "  \"/>\n",
       "<g clip-path=\"url(#clip4801)\">\n",
       "<text style=\"fill:#000000; fill-opacity:1; font-family:Arial,Helvetica Neue,Helvetica,sans-serif; font-size:48px; text-anchor:middle;\" transform=\"rotate(0, 242.255, 1557.47)\" x=\"242.255\" y=\"1557.47\">1.5</text>\n",
       "</g>\n",
       "<g clip-path=\"url(#clip4801)\">\n",
       "<text style=\"fill:#000000; fill-opacity:1; font-family:Arial,Helvetica Neue,Helvetica,sans-serif; font-size:48px; text-anchor:middle;\" transform=\"rotate(0, 633.855, 1557.47)\" x=\"633.855\" y=\"1557.47\">1.6</text>\n",
       "</g>\n",
       "<g clip-path=\"url(#clip4801)\">\n",
       "<text style=\"fill:#000000; fill-opacity:1; font-family:Arial,Helvetica Neue,Helvetica,sans-serif; font-size:48px; text-anchor:middle;\" transform=\"rotate(0, 1025.46, 1557.47)\" x=\"1025.46\" y=\"1557.47\">1.7</text>\n",
       "</g>\n",
       "<g clip-path=\"url(#clip4801)\">\n",
       "<text style=\"fill:#000000; fill-opacity:1; font-family:Arial,Helvetica Neue,Helvetica,sans-serif; font-size:48px; text-anchor:middle;\" transform=\"rotate(0, 1417.06, 1557.47)\" x=\"1417.06\" y=\"1557.47\">1.8</text>\n",
       "</g>\n",
       "<g clip-path=\"url(#clip4801)\">\n",
       "<text style=\"fill:#000000; fill-opacity:1; font-family:Arial,Helvetica Neue,Helvetica,sans-serif; font-size:48px; text-anchor:middle;\" transform=\"rotate(0, 1808.66, 1557.47)\" x=\"1808.66\" y=\"1557.47\">1.9</text>\n",
       "</g>\n",
       "<g clip-path=\"url(#clip4801)\">\n",
       "<text style=\"fill:#000000; fill-opacity:1; font-family:Arial,Helvetica Neue,Helvetica,sans-serif; font-size:48px; text-anchor:middle;\" transform=\"rotate(0, 2200.26, 1557.47)\" x=\"2200.26\" y=\"1557.47\">2.0</text>\n",
       "</g>\n",
       "<g clip-path=\"url(#clip4801)\">\n",
       "<text style=\"fill:#000000; fill-opacity:1; font-family:Arial,Helvetica Neue,Helvetica,sans-serif; font-size:48px; text-anchor:end;\" transform=\"rotate(0, 97.2505, 1479.76)\" x=\"97.2505\" y=\"1479.76\">0</text>\n",
       "</g>\n",
       "<g clip-path=\"url(#clip4801)\">\n",
       "<text style=\"fill:#000000; fill-opacity:1; font-family:Arial,Helvetica Neue,Helvetica,sans-serif; font-size:48px; text-anchor:end;\" transform=\"rotate(0, 97.2505, 1250.79)\" x=\"97.2505\" y=\"1250.79\">1</text>\n",
       "</g>\n",
       "<g clip-path=\"url(#clip4801)\">\n",
       "<text style=\"fill:#000000; fill-opacity:1; font-family:Arial,Helvetica Neue,Helvetica,sans-serif; font-size:48px; text-anchor:end;\" transform=\"rotate(0, 97.2505, 1021.83)\" x=\"97.2505\" y=\"1021.83\">2</text>\n",
       "</g>\n",
       "<g clip-path=\"url(#clip4801)\">\n",
       "<text style=\"fill:#000000; fill-opacity:1; font-family:Arial,Helvetica Neue,Helvetica,sans-serif; font-size:48px; text-anchor:end;\" transform=\"rotate(0, 97.2505, 792.859)\" x=\"97.2505\" y=\"792.859\">3</text>\n",
       "</g>\n",
       "<g clip-path=\"url(#clip4801)\">\n",
       "<text style=\"fill:#000000; fill-opacity:1; font-family:Arial,Helvetica Neue,Helvetica,sans-serif; font-size:48px; text-anchor:end;\" transform=\"rotate(0, 97.2505, 563.892)\" x=\"97.2505\" y=\"563.892\">4</text>\n",
       "</g>\n",
       "<g clip-path=\"url(#clip4801)\">\n",
       "<text style=\"fill:#000000; fill-opacity:1; font-family:Arial,Helvetica Neue,Helvetica,sans-serif; font-size:48px; text-anchor:end;\" transform=\"rotate(0, 97.2505, 334.925)\" x=\"97.2505\" y=\"334.925\">5</text>\n",
       "</g>\n",
       "<g clip-path=\"url(#clip4801)\">\n",
       "<text style=\"fill:#000000; fill-opacity:1; font-family:Arial,Helvetica Neue,Helvetica,sans-serif; font-size:48px; text-anchor:end;\" transform=\"rotate(0, 97.2505, 105.958)\" x=\"97.2505\" y=\"105.958\">6</text>\n",
       "</g>\n",
       "<polygon clip-path=\"url(#clip4803)\" points=\"\n",
       "242.255,1004.33 242.255,1462.26 633.855,1462.26 633.855,1004.33 242.255,1004.33 242.255,1004.33 \n",
       "  \" fill=\"#009af9\" fill-rule=\"evenodd\" fill-opacity=\"1\"/>\n",
       "<polyline clip-path=\"url(#clip4803)\" style=\"stroke:#000000; stroke-width:4; stroke-opacity:1; fill:none\" points=\"\n",
       "  242.255,1004.33 242.255,1462.26 633.855,1462.26 633.855,1004.33 242.255,1004.33 \n",
       "  \"/>\n",
       "<polygon clip-path=\"url(#clip4803)\" points=\"\n",
       "633.855,88.4582 633.855,1462.26 1025.46,1462.26 1025.46,88.4582 633.855,88.4582 633.855,88.4582 \n",
       "  \" fill=\"#009af9\" fill-rule=\"evenodd\" fill-opacity=\"1\"/>\n",
       "<polyline clip-path=\"url(#clip4803)\" style=\"stroke:#000000; stroke-width:4; stroke-opacity:1; fill:none\" points=\"\n",
       "  633.855,88.4582 633.855,1462.26 1025.46,1462.26 1025.46,88.4582 633.855,88.4582 \n",
       "  \"/>\n",
       "<polygon clip-path=\"url(#clip4803)\" points=\"\n",
       "1025.46,546.392 1025.46,1462.26 1417.06,1462.26 1417.06,546.392 1025.46,546.392 1025.46,546.392 \n",
       "  \" fill=\"#009af9\" fill-rule=\"evenodd\" fill-opacity=\"1\"/>\n",
       "<polyline clip-path=\"url(#clip4803)\" style=\"stroke:#000000; stroke-width:4; stroke-opacity:1; fill:none\" points=\"\n",
       "  1025.46,546.392 1025.46,1462.26 1417.06,1462.26 1417.06,546.392 1025.46,546.392 \n",
       "  \"/>\n",
       "<polygon clip-path=\"url(#clip4803)\" points=\"\n",
       "1417.06,1233.29 1417.06,1462.26 1808.66,1462.26 1808.66,1233.29 1417.06,1233.29 1417.06,1233.29 \n",
       "  \" fill=\"#009af9\" fill-rule=\"evenodd\" fill-opacity=\"1\"/>\n",
       "<polyline clip-path=\"url(#clip4803)\" style=\"stroke:#000000; stroke-width:4; stroke-opacity:1; fill:none\" points=\"\n",
       "  1417.06,1233.29 1417.06,1462.26 1808.66,1462.26 1808.66,1233.29 1417.06,1233.29 \n",
       "  \"/>\n",
       "<polygon clip-path=\"url(#clip4803)\" points=\"\n",
       "1808.66,1233.29 1808.66,1462.26 2200.26,1462.26 2200.26,1233.29 1808.66,1233.29 1808.66,1233.29 \n",
       "  \" fill=\"#009af9\" fill-rule=\"evenodd\" fill-opacity=\"1\"/>\n",
       "<polyline clip-path=\"url(#clip4803)\" style=\"stroke:#000000; stroke-width:4; stroke-opacity:1; fill:none\" points=\"\n",
       "  1808.66,1233.29 1808.66,1462.26 2200.26,1462.26 2200.26,1233.29 1808.66,1233.29 \n",
       "  \"/>\n",
       "<polygon clip-path=\"url(#clip4801)\" points=\"\n",
       "1883.53,251.724 2249.26,251.724 2249.26,130.764 1883.53,130.764 \n",
       "  \" fill=\"#ffffff\" fill-rule=\"evenodd\" fill-opacity=\"1\"/>\n",
       "<polyline clip-path=\"url(#clip4801)\" style=\"stroke:#000000; stroke-width:4; stroke-opacity:1; fill:none\" points=\"\n",
       "  1883.53,251.724 2249.26,251.724 2249.26,130.764 1883.53,130.764 1883.53,251.724 \n",
       "  \"/>\n",
       "<polygon clip-path=\"url(#clip4801)\" points=\"\n",
       "1907.53,215.436 2051.53,215.436 2051.53,167.052 1907.53,167.052 1907.53,215.436 \n",
       "  \" fill=\"#009af9\" fill-rule=\"evenodd\" fill-opacity=\"1\"/>\n",
       "<polyline clip-path=\"url(#clip4801)\" style=\"stroke:#000000; stroke-width:4; stroke-opacity:1; fill:none\" points=\"\n",
       "  1907.53,215.436 2051.53,215.436 2051.53,167.052 1907.53,167.052 1907.53,215.436 \n",
       "  \"/>\n",
       "<g clip-path=\"url(#clip4801)\">\n",
       "<text style=\"fill:#000000; fill-opacity:1; font-family:Arial,Helvetica Neue,Helvetica,sans-serif; font-size:48px; text-anchor:start;\" transform=\"rotate(0, 2075.53, 208.744)\" x=\"2075.53\" y=\"208.744\">Altura</text>\n",
       "</g>\n",
       "</svg>\n"
      ]
     },
     "execution_count": 32,
     "metadata": {},
     "output_type": "execute_result"
    }
   ],
   "source": [
    "histogram(dados_alunos.Altura, label = \"Altura\", xticks = 0:0.1:2)"
   ]
  },
  {
   "cell_type": "code",
   "execution_count": 31,
   "metadata": {
    "collapsed": false,
    "scrolled": false
   },
   "outputs": [
    {
     "data": {
      "image/svg+xml": [
       "<?xml version=\"1.0\" encoding=\"utf-8\"?>\n",
       "<svg xmlns=\"http://www.w3.org/2000/svg\" xmlns:xlink=\"http://www.w3.org/1999/xlink\" width=\"600\" height=\"400\" viewBox=\"0 0 2400 1600\">\n",
       "<defs>\n",
       "  <clipPath id=\"clip4600\">\n",
       "    <rect x=\"0\" y=\"0\" width=\"2000\" height=\"2000\"/>\n",
       "  </clipPath>\n",
       "</defs>\n",
       "<defs>\n",
       "  <clipPath id=\"clip4601\">\n",
       "    <rect x=\"0\" y=\"0\" width=\"2400\" height=\"1600\"/>\n",
       "  </clipPath>\n",
       "</defs>\n",
       "<polygon clip-path=\"url(#clip4601)\" points=\"\n",
       "0,1600 2400,1600 2400,0 0,0 \n",
       "  \" fill=\"#ffffff\" fill-rule=\"evenodd\" fill-opacity=\"1\"/>\n",
       "<defs>\n",
       "  <clipPath id=\"clip4602\">\n",
       "    <rect x=\"480\" y=\"0\" width=\"1681\" height=\"1600\"/>\n",
       "  </clipPath>\n",
       "</defs>\n",
       "<polygon clip-path=\"url(#clip4601)\" points=\"\n",
       "121.251,1503.47 2321.26,1503.47 2321.26,47.2441 121.251,47.2441 \n",
       "  \" fill=\"#ffffff\" fill-rule=\"evenodd\" fill-opacity=\"1\"/>\n",
       "<defs>\n",
       "  <clipPath id=\"clip4603\">\n",
       "    <rect x=\"121\" y=\"47\" width=\"2201\" height=\"1457\"/>\n",
       "  </clipPath>\n",
       "</defs>\n",
       "<polyline clip-path=\"url(#clip4603)\" style=\"stroke:#000000; stroke-width:2; stroke-opacity:0.1; fill:none\" points=\"\n",
       "  242.255,1503.47 242.255,47.2441 \n",
       "  \"/>\n",
       "<polyline clip-path=\"url(#clip4603)\" style=\"stroke:#000000; stroke-width:2; stroke-opacity:0.1; fill:none\" points=\"\n",
       "  568.588,1503.47 568.588,47.2441 \n",
       "  \"/>\n",
       "<polyline clip-path=\"url(#clip4603)\" style=\"stroke:#000000; stroke-width:2; stroke-opacity:0.1; fill:none\" points=\"\n",
       "  894.922,1503.47 894.922,47.2441 \n",
       "  \"/>\n",
       "<polyline clip-path=\"url(#clip4603)\" style=\"stroke:#000000; stroke-width:2; stroke-opacity:0.1; fill:none\" points=\"\n",
       "  1221.26,1503.47 1221.26,47.2441 \n",
       "  \"/>\n",
       "<polyline clip-path=\"url(#clip4603)\" style=\"stroke:#000000; stroke-width:2; stroke-opacity:0.1; fill:none\" points=\"\n",
       "  1547.59,1503.47 1547.59,47.2441 \n",
       "  \"/>\n",
       "<polyline clip-path=\"url(#clip4603)\" style=\"stroke:#000000; stroke-width:2; stroke-opacity:0.1; fill:none\" points=\"\n",
       "  1873.92,1503.47 1873.92,47.2441 \n",
       "  \"/>\n",
       "<polyline clip-path=\"url(#clip4603)\" style=\"stroke:#000000; stroke-width:2; stroke-opacity:0.1; fill:none\" points=\"\n",
       "  2200.26,1503.47 2200.26,47.2441 \n",
       "  \"/>\n",
       "<polyline clip-path=\"url(#clip4603)\" style=\"stroke:#000000; stroke-width:2; stroke-opacity:0.1; fill:none\" points=\"\n",
       "  121.251,1462.26 2321.26,1462.26 \n",
       "  \"/>\n",
       "<polyline clip-path=\"url(#clip4603)\" style=\"stroke:#000000; stroke-width:2; stroke-opacity:0.1; fill:none\" points=\"\n",
       "  121.251,1233.29 2321.26,1233.29 \n",
       "  \"/>\n",
       "<polyline clip-path=\"url(#clip4603)\" style=\"stroke:#000000; stroke-width:2; stroke-opacity:0.1; fill:none\" points=\"\n",
       "  121.251,1004.33 2321.26,1004.33 \n",
       "  \"/>\n",
       "<polyline clip-path=\"url(#clip4603)\" style=\"stroke:#000000; stroke-width:2; stroke-opacity:0.1; fill:none\" points=\"\n",
       "  121.251,775.359 2321.26,775.359 \n",
       "  \"/>\n",
       "<polyline clip-path=\"url(#clip4603)\" style=\"stroke:#000000; stroke-width:2; stroke-opacity:0.1; fill:none\" points=\"\n",
       "  121.251,546.392 2321.26,546.392 \n",
       "  \"/>\n",
       "<polyline clip-path=\"url(#clip4603)\" style=\"stroke:#000000; stroke-width:2; stroke-opacity:0.1; fill:none\" points=\"\n",
       "  121.251,317.425 2321.26,317.425 \n",
       "  \"/>\n",
       "<polyline clip-path=\"url(#clip4603)\" style=\"stroke:#000000; stroke-width:2; stroke-opacity:0.1; fill:none\" points=\"\n",
       "  121.251,88.4582 2321.26,88.4582 \n",
       "  \"/>\n",
       "<polyline clip-path=\"url(#clip4601)\" style=\"stroke:#000000; stroke-width:4; stroke-opacity:1; fill:none\" points=\"\n",
       "  121.251,1503.47 2321.26,1503.47 \n",
       "  \"/>\n",
       "<polyline clip-path=\"url(#clip4601)\" style=\"stroke:#000000; stroke-width:4; stroke-opacity:1; fill:none\" points=\"\n",
       "  121.251,1503.47 121.251,47.2441 \n",
       "  \"/>\n",
       "<polyline clip-path=\"url(#clip4601)\" style=\"stroke:#000000; stroke-width:4; stroke-opacity:1; fill:none\" points=\"\n",
       "  242.255,1503.47 242.255,1481.63 \n",
       "  \"/>\n",
       "<polyline clip-path=\"url(#clip4601)\" style=\"stroke:#000000; stroke-width:4; stroke-opacity:1; fill:none\" points=\"\n",
       "  568.588,1503.47 568.588,1481.63 \n",
       "  \"/>\n",
       "<polyline clip-path=\"url(#clip4601)\" style=\"stroke:#000000; stroke-width:4; stroke-opacity:1; fill:none\" points=\"\n",
       "  894.922,1503.47 894.922,1481.63 \n",
       "  \"/>\n",
       "<polyline clip-path=\"url(#clip4601)\" style=\"stroke:#000000; stroke-width:4; stroke-opacity:1; fill:none\" points=\"\n",
       "  1221.26,1503.47 1221.26,1481.63 \n",
       "  \"/>\n",
       "<polyline clip-path=\"url(#clip4601)\" style=\"stroke:#000000; stroke-width:4; stroke-opacity:1; fill:none\" points=\"\n",
       "  1547.59,1503.47 1547.59,1481.63 \n",
       "  \"/>\n",
       "<polyline clip-path=\"url(#clip4601)\" style=\"stroke:#000000; stroke-width:4; stroke-opacity:1; fill:none\" points=\"\n",
       "  1873.92,1503.47 1873.92,1481.63 \n",
       "  \"/>\n",
       "<polyline clip-path=\"url(#clip4601)\" style=\"stroke:#000000; stroke-width:4; stroke-opacity:1; fill:none\" points=\"\n",
       "  2200.26,1503.47 2200.26,1481.63 \n",
       "  \"/>\n",
       "<polyline clip-path=\"url(#clip4601)\" style=\"stroke:#000000; stroke-width:4; stroke-opacity:1; fill:none\" points=\"\n",
       "  121.251,1462.26 154.251,1462.26 \n",
       "  \"/>\n",
       "<polyline clip-path=\"url(#clip4601)\" style=\"stroke:#000000; stroke-width:4; stroke-opacity:1; fill:none\" points=\"\n",
       "  121.251,1233.29 154.251,1233.29 \n",
       "  \"/>\n",
       "<polyline clip-path=\"url(#clip4601)\" style=\"stroke:#000000; stroke-width:4; stroke-opacity:1; fill:none\" points=\"\n",
       "  121.251,1004.33 154.251,1004.33 \n",
       "  \"/>\n",
       "<polyline clip-path=\"url(#clip4601)\" style=\"stroke:#000000; stroke-width:4; stroke-opacity:1; fill:none\" points=\"\n",
       "  121.251,775.359 154.251,775.359 \n",
       "  \"/>\n",
       "<polyline clip-path=\"url(#clip4601)\" style=\"stroke:#000000; stroke-width:4; stroke-opacity:1; fill:none\" points=\"\n",
       "  121.251,546.392 154.251,546.392 \n",
       "  \"/>\n",
       "<polyline clip-path=\"url(#clip4601)\" style=\"stroke:#000000; stroke-width:4; stroke-opacity:1; fill:none\" points=\"\n",
       "  121.251,317.425 154.251,317.425 \n",
       "  \"/>\n",
       "<polyline clip-path=\"url(#clip4601)\" style=\"stroke:#000000; stroke-width:4; stroke-opacity:1; fill:none\" points=\"\n",
       "  121.251,88.4582 154.251,88.4582 \n",
       "  \"/>\n",
       "<g clip-path=\"url(#clip4601)\">\n",
       "<text style=\"fill:#000000; fill-opacity:1; font-family:Arial,Helvetica Neue,Helvetica,sans-serif; font-size:48px; text-anchor:middle;\" transform=\"rotate(0, 242.255, 1557.47)\" x=\"242.255\" y=\"1557.47\">40</text>\n",
       "</g>\n",
       "<g clip-path=\"url(#clip4601)\">\n",
       "<text style=\"fill:#000000; fill-opacity:1; font-family:Arial,Helvetica Neue,Helvetica,sans-serif; font-size:48px; text-anchor:middle;\" transform=\"rotate(0, 568.588, 1557.47)\" x=\"568.588\" y=\"1557.47\">50</text>\n",
       "</g>\n",
       "<g clip-path=\"url(#clip4601)\">\n",
       "<text style=\"fill:#000000; fill-opacity:1; font-family:Arial,Helvetica Neue,Helvetica,sans-serif; font-size:48px; text-anchor:middle;\" transform=\"rotate(0, 894.922, 1557.47)\" x=\"894.922\" y=\"1557.47\">60</text>\n",
       "</g>\n",
       "<g clip-path=\"url(#clip4601)\">\n",
       "<text style=\"fill:#000000; fill-opacity:1; font-family:Arial,Helvetica Neue,Helvetica,sans-serif; font-size:48px; text-anchor:middle;\" transform=\"rotate(0, 1221.26, 1557.47)\" x=\"1221.26\" y=\"1557.47\">70</text>\n",
       "</g>\n",
       "<g clip-path=\"url(#clip4601)\">\n",
       "<text style=\"fill:#000000; fill-opacity:1; font-family:Arial,Helvetica Neue,Helvetica,sans-serif; font-size:48px; text-anchor:middle;\" transform=\"rotate(0, 1547.59, 1557.47)\" x=\"1547.59\" y=\"1557.47\">80</text>\n",
       "</g>\n",
       "<g clip-path=\"url(#clip4601)\">\n",
       "<text style=\"fill:#000000; fill-opacity:1; font-family:Arial,Helvetica Neue,Helvetica,sans-serif; font-size:48px; text-anchor:middle;\" transform=\"rotate(0, 1873.92, 1557.47)\" x=\"1873.92\" y=\"1557.47\">90</text>\n",
       "</g>\n",
       "<g clip-path=\"url(#clip4601)\">\n",
       "<text style=\"fill:#000000; fill-opacity:1; font-family:Arial,Helvetica Neue,Helvetica,sans-serif; font-size:48px; text-anchor:middle;\" transform=\"rotate(0, 2200.26, 1557.47)\" x=\"2200.26\" y=\"1557.47\">100</text>\n",
       "</g>\n",
       "<g clip-path=\"url(#clip4601)\">\n",
       "<text style=\"fill:#000000; fill-opacity:1; font-family:Arial,Helvetica Neue,Helvetica,sans-serif; font-size:48px; text-anchor:end;\" transform=\"rotate(0, 97.2505, 1479.76)\" x=\"97.2505\" y=\"1479.76\">0</text>\n",
       "</g>\n",
       "<g clip-path=\"url(#clip4601)\">\n",
       "<text style=\"fill:#000000; fill-opacity:1; font-family:Arial,Helvetica Neue,Helvetica,sans-serif; font-size:48px; text-anchor:end;\" transform=\"rotate(0, 97.2505, 1250.79)\" x=\"97.2505\" y=\"1250.79\">1</text>\n",
       "</g>\n",
       "<g clip-path=\"url(#clip4601)\">\n",
       "<text style=\"fill:#000000; fill-opacity:1; font-family:Arial,Helvetica Neue,Helvetica,sans-serif; font-size:48px; text-anchor:end;\" transform=\"rotate(0, 97.2505, 1021.83)\" x=\"97.2505\" y=\"1021.83\">2</text>\n",
       "</g>\n",
       "<g clip-path=\"url(#clip4601)\">\n",
       "<text style=\"fill:#000000; fill-opacity:1; font-family:Arial,Helvetica Neue,Helvetica,sans-serif; font-size:48px; text-anchor:end;\" transform=\"rotate(0, 97.2505, 792.859)\" x=\"97.2505\" y=\"792.859\">3</text>\n",
       "</g>\n",
       "<g clip-path=\"url(#clip4601)\">\n",
       "<text style=\"fill:#000000; fill-opacity:1; font-family:Arial,Helvetica Neue,Helvetica,sans-serif; font-size:48px; text-anchor:end;\" transform=\"rotate(0, 97.2505, 563.892)\" x=\"97.2505\" y=\"563.892\">4</text>\n",
       "</g>\n",
       "<g clip-path=\"url(#clip4601)\">\n",
       "<text style=\"fill:#000000; fill-opacity:1; font-family:Arial,Helvetica Neue,Helvetica,sans-serif; font-size:48px; text-anchor:end;\" transform=\"rotate(0, 97.2505, 334.925)\" x=\"97.2505\" y=\"334.925\">5</text>\n",
       "</g>\n",
       "<g clip-path=\"url(#clip4601)\">\n",
       "<text style=\"fill:#000000; fill-opacity:1; font-family:Arial,Helvetica Neue,Helvetica,sans-serif; font-size:48px; text-anchor:end;\" transform=\"rotate(0, 97.2505, 105.958)\" x=\"97.2505\" y=\"105.958\">6</text>\n",
       "</g>\n",
       "<polygon clip-path=\"url(#clip4603)\" points=\"\n",
       "242.255,775.359 242.255,1462.26 894.922,1462.26 894.922,775.359 242.255,775.359 242.255,775.359 \n",
       "  \" fill=\"#009af9\" fill-rule=\"evenodd\" fill-opacity=\"1\"/>\n",
       "<polyline clip-path=\"url(#clip4603)\" style=\"stroke:#000000; stroke-width:4; stroke-opacity:1; fill:none\" points=\"\n",
       "  242.255,775.359 242.255,1462.26 894.922,1462.26 894.922,775.359 242.255,775.359 \n",
       "  \"/>\n",
       "<polygon clip-path=\"url(#clip4603)\" points=\"\n",
       "894.922,88.4582 894.922,1462.26 1547.59,1462.26 1547.59,88.4582 894.922,88.4582 894.922,88.4582 \n",
       "  \" fill=\"#009af9\" fill-rule=\"evenodd\" fill-opacity=\"1\"/>\n",
       "<polyline clip-path=\"url(#clip4603)\" style=\"stroke:#000000; stroke-width:4; stroke-opacity:1; fill:none\" points=\"\n",
       "  894.922,88.4582 894.922,1462.26 1547.59,1462.26 1547.59,88.4582 894.922,88.4582 \n",
       "  \"/>\n",
       "<polygon clip-path=\"url(#clip4603)\" points=\"\n",
       "1547.59,317.425 1547.59,1462.26 2200.26,1462.26 2200.26,317.425 1547.59,317.425 1547.59,317.425 \n",
       "  \" fill=\"#009af9\" fill-rule=\"evenodd\" fill-opacity=\"1\"/>\n",
       "<polyline clip-path=\"url(#clip4603)\" style=\"stroke:#000000; stroke-width:4; stroke-opacity:1; fill:none\" points=\"\n",
       "  1547.59,317.425 1547.59,1462.26 2200.26,1462.26 2200.26,317.425 1547.59,317.425 \n",
       "  \"/>\n",
       "<polygon clip-path=\"url(#clip4601)\" points=\"\n",
       "1867.51,251.724 2249.26,251.724 2249.26,130.764 1867.51,130.764 \n",
       "  \" fill=\"#ffffff\" fill-rule=\"evenodd\" fill-opacity=\"1\"/>\n",
       "<polyline clip-path=\"url(#clip4601)\" style=\"stroke:#000000; stroke-width:4; stroke-opacity:1; fill:none\" points=\"\n",
       "  1867.51,251.724 2249.26,251.724 2249.26,130.764 1867.51,130.764 1867.51,251.724 \n",
       "  \"/>\n",
       "<polygon clip-path=\"url(#clip4601)\" points=\"\n",
       "1891.51,215.436 2035.51,215.436 2035.51,167.052 1891.51,167.052 1891.51,215.436 \n",
       "  \" fill=\"#009af9\" fill-rule=\"evenodd\" fill-opacity=\"1\"/>\n",
       "<polyline clip-path=\"url(#clip4601)\" style=\"stroke:#000000; stroke-width:4; stroke-opacity:1; fill:none\" points=\"\n",
       "  1891.51,215.436 2035.51,215.436 2035.51,167.052 1891.51,167.052 1891.51,215.436 \n",
       "  \"/>\n",
       "<g clip-path=\"url(#clip4601)\">\n",
       "<text style=\"fill:#000000; fill-opacity:1; font-family:Arial,Helvetica Neue,Helvetica,sans-serif; font-size:48px; text-anchor:start;\" transform=\"rotate(0, 2059.51, 208.744)\" x=\"2059.51\" y=\"208.744\">Massa</text>\n",
       "</g>\n",
       "</svg>\n"
      ]
     },
     "execution_count": 31,
     "metadata": {},
     "output_type": "execute_result"
    }
   ],
   "source": [
    "histogram(dados_alunos.Massa, label = \"Massa\", xticks = 0:10:100)"
   ]
  },
  {
   "cell_type": "code",
   "execution_count": 30,
   "metadata": {
    "collapsed": false,
    "scrolled": false
   },
   "outputs": [
    {
     "data": {
      "image/svg+xml": [
       "<?xml version=\"1.0\" encoding=\"utf-8\"?>\n",
       "<svg xmlns=\"http://www.w3.org/2000/svg\" xmlns:xlink=\"http://www.w3.org/1999/xlink\" width=\"600\" height=\"400\" viewBox=\"0 0 2400 1600\">\n",
       "<defs>\n",
       "  <clipPath id=\"clip4400\">\n",
       "    <rect x=\"0\" y=\"0\" width=\"2000\" height=\"2000\"/>\n",
       "  </clipPath>\n",
       "</defs>\n",
       "<defs>\n",
       "  <clipPath id=\"clip4401\">\n",
       "    <rect x=\"0\" y=\"0\" width=\"2400\" height=\"1600\"/>\n",
       "  </clipPath>\n",
       "</defs>\n",
       "<polygon clip-path=\"url(#clip4401)\" points=\"\n",
       "0,1600 2400,1600 2400,0 0,0 \n",
       "  \" fill=\"#ffffff\" fill-rule=\"evenodd\" fill-opacity=\"1\"/>\n",
       "<defs>\n",
       "  <clipPath id=\"clip4402\">\n",
       "    <rect x=\"480\" y=\"0\" width=\"1681\" height=\"1600\"/>\n",
       "  </clipPath>\n",
       "</defs>\n",
       "<polygon clip-path=\"url(#clip4401)\" points=\"\n",
       "121.251,1503.47 2321.26,1503.47 2321.26,47.2441 121.251,47.2441 \n",
       "  \" fill=\"#ffffff\" fill-rule=\"evenodd\" fill-opacity=\"1\"/>\n",
       "<defs>\n",
       "  <clipPath id=\"clip4403\">\n",
       "    <rect x=\"121\" y=\"47\" width=\"2201\" height=\"1457\"/>\n",
       "  </clipPath>\n",
       "</defs>\n",
       "<polyline clip-path=\"url(#clip4403)\" style=\"stroke:#000000; stroke-width:2; stroke-opacity:0.1; fill:none\" points=\"\n",
       "  503.322,1503.47 503.322,47.2441 \n",
       "  \"/>\n",
       "<polyline clip-path=\"url(#clip4403)\" style=\"stroke:#000000; stroke-width:2; stroke-opacity:0.1; fill:none\" points=\"\n",
       "  894.922,1503.47 894.922,47.2441 \n",
       "  \"/>\n",
       "<polyline clip-path=\"url(#clip4403)\" style=\"stroke:#000000; stroke-width:2; stroke-opacity:0.1; fill:none\" points=\"\n",
       "  1286.52,1503.47 1286.52,47.2441 \n",
       "  \"/>\n",
       "<polyline clip-path=\"url(#clip4403)\" style=\"stroke:#000000; stroke-width:2; stroke-opacity:0.1; fill:none\" points=\"\n",
       "  1678.12,1503.47 1678.12,47.2441 \n",
       "  \"/>\n",
       "<polyline clip-path=\"url(#clip4403)\" style=\"stroke:#000000; stroke-width:2; stroke-opacity:0.1; fill:none\" points=\"\n",
       "  2069.72,1503.47 2069.72,47.2441 \n",
       "  \"/>\n",
       "<polyline clip-path=\"url(#clip4403)\" style=\"stroke:#000000; stroke-width:2; stroke-opacity:0.1; fill:none\" points=\"\n",
       "  121.251,1462.26 2321.26,1462.26 \n",
       "  \"/>\n",
       "<polyline clip-path=\"url(#clip4403)\" style=\"stroke:#000000; stroke-width:2; stroke-opacity:0.1; fill:none\" points=\"\n",
       "  121.251,1118.81 2321.26,1118.81 \n",
       "  \"/>\n",
       "<polyline clip-path=\"url(#clip4403)\" style=\"stroke:#000000; stroke-width:2; stroke-opacity:0.1; fill:none\" points=\"\n",
       "  121.251,775.359 2321.26,775.359 \n",
       "  \"/>\n",
       "<polyline clip-path=\"url(#clip4403)\" style=\"stroke:#000000; stroke-width:2; stroke-opacity:0.1; fill:none\" points=\"\n",
       "  121.251,431.909 2321.26,431.909 \n",
       "  \"/>\n",
       "<polyline clip-path=\"url(#clip4403)\" style=\"stroke:#000000; stroke-width:2; stroke-opacity:0.1; fill:none\" points=\"\n",
       "  121.251,88.4582 2321.26,88.4582 \n",
       "  \"/>\n",
       "<polyline clip-path=\"url(#clip4401)\" style=\"stroke:#000000; stroke-width:4; stroke-opacity:1; fill:none\" points=\"\n",
       "  121.251,1503.47 2321.26,1503.47 \n",
       "  \"/>\n",
       "<polyline clip-path=\"url(#clip4401)\" style=\"stroke:#000000; stroke-width:4; stroke-opacity:1; fill:none\" points=\"\n",
       "  121.251,1503.47 121.251,47.2441 \n",
       "  \"/>\n",
       "<polyline clip-path=\"url(#clip4401)\" style=\"stroke:#000000; stroke-width:4; stroke-opacity:1; fill:none\" points=\"\n",
       "  503.322,1503.47 503.322,1481.63 \n",
       "  \"/>\n",
       "<polyline clip-path=\"url(#clip4401)\" style=\"stroke:#000000; stroke-width:4; stroke-opacity:1; fill:none\" points=\"\n",
       "  894.922,1503.47 894.922,1481.63 \n",
       "  \"/>\n",
       "<polyline clip-path=\"url(#clip4401)\" style=\"stroke:#000000; stroke-width:4; stroke-opacity:1; fill:none\" points=\"\n",
       "  1286.52,1503.47 1286.52,1481.63 \n",
       "  \"/>\n",
       "<polyline clip-path=\"url(#clip4401)\" style=\"stroke:#000000; stroke-width:4; stroke-opacity:1; fill:none\" points=\"\n",
       "  1678.12,1503.47 1678.12,1481.63 \n",
       "  \"/>\n",
       "<polyline clip-path=\"url(#clip4401)\" style=\"stroke:#000000; stroke-width:4; stroke-opacity:1; fill:none\" points=\"\n",
       "  2069.72,1503.47 2069.72,1481.63 \n",
       "  \"/>\n",
       "<polyline clip-path=\"url(#clip4401)\" style=\"stroke:#000000; stroke-width:4; stroke-opacity:1; fill:none\" points=\"\n",
       "  121.251,1462.26 154.251,1462.26 \n",
       "  \"/>\n",
       "<polyline clip-path=\"url(#clip4401)\" style=\"stroke:#000000; stroke-width:4; stroke-opacity:1; fill:none\" points=\"\n",
       "  121.251,1118.81 154.251,1118.81 \n",
       "  \"/>\n",
       "<polyline clip-path=\"url(#clip4401)\" style=\"stroke:#000000; stroke-width:4; stroke-opacity:1; fill:none\" points=\"\n",
       "  121.251,775.359 154.251,775.359 \n",
       "  \"/>\n",
       "<polyline clip-path=\"url(#clip4401)\" style=\"stroke:#000000; stroke-width:4; stroke-opacity:1; fill:none\" points=\"\n",
       "  121.251,431.909 154.251,431.909 \n",
       "  \"/>\n",
       "<polyline clip-path=\"url(#clip4401)\" style=\"stroke:#000000; stroke-width:4; stroke-opacity:1; fill:none\" points=\"\n",
       "  121.251,88.4582 154.251,88.4582 \n",
       "  \"/>\n",
       "<g clip-path=\"url(#clip4401)\">\n",
       "<text style=\"fill:#000000; fill-opacity:1; font-family:Arial,Helvetica Neue,Helvetica,sans-serif; font-size:48px; text-anchor:middle;\" transform=\"rotate(0, 503.322, 1557.47)\" x=\"503.322\" y=\"1557.47\">1.2</text>\n",
       "</g>\n",
       "<g clip-path=\"url(#clip4401)\">\n",
       "<text style=\"fill:#000000; fill-opacity:1; font-family:Arial,Helvetica Neue,Helvetica,sans-serif; font-size:48px; text-anchor:middle;\" transform=\"rotate(0, 894.922, 1557.47)\" x=\"894.922\" y=\"1557.47\">1.5</text>\n",
       "</g>\n",
       "<g clip-path=\"url(#clip4401)\">\n",
       "<text style=\"fill:#000000; fill-opacity:1; font-family:Arial,Helvetica Neue,Helvetica,sans-serif; font-size:48px; text-anchor:middle;\" transform=\"rotate(0, 1286.52, 1557.47)\" x=\"1286.52\" y=\"1557.47\">1.8</text>\n",
       "</g>\n",
       "<g clip-path=\"url(#clip4401)\">\n",
       "<text style=\"fill:#000000; fill-opacity:1; font-family:Arial,Helvetica Neue,Helvetica,sans-serif; font-size:48px; text-anchor:middle;\" transform=\"rotate(0, 1678.12, 1557.47)\" x=\"1678.12\" y=\"1557.47\">2.1</text>\n",
       "</g>\n",
       "<g clip-path=\"url(#clip4401)\">\n",
       "<text style=\"fill:#000000; fill-opacity:1; font-family:Arial,Helvetica Neue,Helvetica,sans-serif; font-size:48px; text-anchor:middle;\" transform=\"rotate(0, 2069.72, 1557.47)\" x=\"2069.72\" y=\"1557.47\">2.4</text>\n",
       "</g>\n",
       "<g clip-path=\"url(#clip4401)\">\n",
       "<text style=\"fill:#000000; fill-opacity:1; font-family:Arial,Helvetica Neue,Helvetica,sans-serif; font-size:48px; text-anchor:end;\" transform=\"rotate(0, 97.2505, 1479.76)\" x=\"97.2505\" y=\"1479.76\">0</text>\n",
       "</g>\n",
       "<g clip-path=\"url(#clip4401)\">\n",
       "<text style=\"fill:#000000; fill-opacity:1; font-family:Arial,Helvetica Neue,Helvetica,sans-serif; font-size:48px; text-anchor:end;\" transform=\"rotate(0, 97.2505, 1136.31)\" x=\"97.2505\" y=\"1136.31\">2</text>\n",
       "</g>\n",
       "<g clip-path=\"url(#clip4401)\">\n",
       "<text style=\"fill:#000000; fill-opacity:1; font-family:Arial,Helvetica Neue,Helvetica,sans-serif; font-size:48px; text-anchor:end;\" transform=\"rotate(0, 97.2505, 792.859)\" x=\"97.2505\" y=\"792.859\">4</text>\n",
       "</g>\n",
       "<g clip-path=\"url(#clip4401)\">\n",
       "<text style=\"fill:#000000; fill-opacity:1; font-family:Arial,Helvetica Neue,Helvetica,sans-serif; font-size:48px; text-anchor:end;\" transform=\"rotate(0, 97.2505, 449.409)\" x=\"97.2505\" y=\"449.409\">6</text>\n",
       "</g>\n",
       "<g clip-path=\"url(#clip4401)\">\n",
       "<text style=\"fill:#000000; fill-opacity:1; font-family:Arial,Helvetica Neue,Helvetica,sans-serif; font-size:48px; text-anchor:end;\" transform=\"rotate(0, 97.2505, 105.958)\" x=\"97.2505\" y=\"105.958\">8</text>\n",
       "</g>\n",
       "<polygon clip-path=\"url(#clip4403)\" points=\"\n",
       "242.255,88.4582 242.255,1462.26 894.922,1462.26 894.922,88.4582 242.255,88.4582 242.255,88.4582 \n",
       "  \" fill=\"#009af9\" fill-rule=\"evenodd\" fill-opacity=\"1\"/>\n",
       "<polyline clip-path=\"url(#clip4403)\" style=\"stroke:#000000; stroke-width:4; stroke-opacity:1; fill:none\" points=\"\n",
       "  242.255,88.4582 242.255,1462.26 894.922,1462.26 894.922,88.4582 242.255,88.4582 \n",
       "  \"/>\n",
       "<polygon clip-path=\"url(#clip4403)\" points=\"\n",
       "894.922,1462.26 894.922,1462.26 1547.59,1462.26 1547.59,1462.26 894.922,1462.26 894.922,1462.26 \n",
       "  \" fill=\"#009af9\" fill-rule=\"evenodd\" fill-opacity=\"1\"/>\n",
       "<polyline clip-path=\"url(#clip4403)\" style=\"stroke:#000000; stroke-width:4; stroke-opacity:1; fill:none\" points=\"\n",
       "  894.922,1462.26 894.922,1462.26 1547.59,1462.26 894.922,1462.26 \n",
       "  \"/>\n",
       "<polygon clip-path=\"url(#clip4403)\" points=\"\n",
       "1547.59,431.909 1547.59,1462.26 2200.26,1462.26 2200.26,431.909 1547.59,431.909 1547.59,431.909 \n",
       "  \" fill=\"#009af9\" fill-rule=\"evenodd\" fill-opacity=\"1\"/>\n",
       "<polyline clip-path=\"url(#clip4403)\" style=\"stroke:#000000; stroke-width:4; stroke-opacity:1; fill:none\" points=\"\n",
       "  1547.59,431.909 1547.59,1462.26 2200.26,1462.26 2200.26,431.909 1547.59,431.909 \n",
       "  \"/>\n",
       "<polygon clip-path=\"url(#clip4401)\" points=\"\n",
       "1634.68,251.724 2249.26,251.724 2249.26,130.764 1634.68,130.764 \n",
       "  \" fill=\"#ffffff\" fill-rule=\"evenodd\" fill-opacity=\"1\"/>\n",
       "<polyline clip-path=\"url(#clip4401)\" style=\"stroke:#000000; stroke-width:4; stroke-opacity:1; fill:none\" points=\"\n",
       "  1634.68,251.724 2249.26,251.724 2249.26,130.764 1634.68,130.764 1634.68,251.724 \n",
       "  \"/>\n",
       "<polygon clip-path=\"url(#clip4401)\" points=\"\n",
       "1658.68,215.436 1802.68,215.436 1802.68,167.052 1658.68,167.052 1658.68,215.436 \n",
       "  \" fill=\"#009af9\" fill-rule=\"evenodd\" fill-opacity=\"1\"/>\n",
       "<polyline clip-path=\"url(#clip4401)\" style=\"stroke:#000000; stroke-width:4; stroke-opacity:1; fill:none\" points=\"\n",
       "  1658.68,215.436 1802.68,215.436 1802.68,167.052 1658.68,167.052 1658.68,215.436 \n",
       "  \"/>\n",
       "<g clip-path=\"url(#clip4401)\">\n",
       "<text style=\"fill:#000000; fill-opacity:1; font-family:Arial,Helvetica Neue,Helvetica,sans-serif; font-size:48px; text-anchor:start;\" transform=\"rotate(0, 1826.68, 208.744)\" x=\"1826.68\" y=\"208.744\">sexo 1 = F, 2 = M</text>\n",
       "</g>\n",
       "</svg>\n"
      ]
     },
     "execution_count": 30,
     "metadata": {},
     "output_type": "execute_result"
    }
   ],
   "source": [
    "histogram(dados_alunos.Sexo, label = \"sexo 1 = F, 2 = M\")"
   ]
  },
  {
   "cell_type": "markdown",
   "metadata": {},
   "source": [
    "### Medidas de Posição"
   ]
  },
  {
   "cell_type": "code",
   "execution_count": 23,
   "metadata": {
    "collapsed": true
   },
   "outputs": [],
   "source": [
    "using Statistics"
   ]
  },
  {
   "cell_type": "markdown",
   "metadata": {},
   "source": [
    "#### Médias"
   ]
  },
  {
   "cell_type": "markdown",
   "metadata": {},
   "source": [
    "** Média aritimétrica**\n",
    "\n",
    "É o quociente entre a soma dos valores do conjunto e o número total dos valores.\n",
    "\n",
    "\n",
    "$ \\displaystyle \\bar{X}  = {\\sum_{i=1}^n x_{i} \\over n}$\n",
    "\n"
   ]
  },
  {
   "cell_type": "code",
   "execution_count": 27,
   "metadata": {
    "collapsed": false
   },
   "outputs": [
    {
     "data": {
      "text/plain": [
       "1.6835714285714285"
      ]
     },
     "execution_count": 27,
     "metadata": {},
     "output_type": "execute_result"
    }
   ],
   "source": [
    "# média Altura\n",
    "mean(dados_alunos.Altura)"
   ]
  },
  {
   "cell_type": "code",
   "execution_count": 28,
   "metadata": {
    "collapsed": false
   },
   "outputs": [
    {
     "data": {
      "text/plain": [
       "70.95714285714286"
      ]
     },
     "execution_count": 28,
     "metadata": {},
     "output_type": "execute_result"
    }
   ],
   "source": [
    "# média Massa\n",
    "mean(dados_alunos.Massa)"
   ]
  },
  {
   "cell_type": "code",
   "execution_count": 29,
   "metadata": {
    "collapsed": false,
    "scrolled": true
   },
   "outputs": [
    {
     "data": {
      "text/plain": [
       "18.857142857142858"
      ]
     },
     "execution_count": 29,
     "metadata": {},
     "output_type": "execute_result"
    }
   ],
   "source": [
    "# média Idade\n",
    "mean(dados_alunos.Idade)"
   ]
  },
  {
   "cell_type": "markdown",
   "metadata": {},
   "source": [
    "**Média Harmonica**"
   ]
  },
  {
   "cell_type": "code",
   "execution_count": 34,
   "metadata": {
    "collapsed": false
   },
   "outputs": [
    {
     "ename": "UndefVarError",
     "evalue": "UndefVarError: harmmean not defined",
     "output_type": "error",
     "traceback": [
      "UndefVarError: harmmean not defined",
      "",
      "Stacktrace:",
      " [1] top-level scope at In[34]:1"
     ]
    }
   ],
   "source": [
    "harmmean(dados_alunos.Altura)"
   ]
  },
  {
   "cell_type": "markdown",
   "metadata": {},
   "source": [
    "**Média Geométrica**"
   ]
  },
  {
   "cell_type": "code",
   "execution_count": 35,
   "metadata": {
    "collapsed": false
   },
   "outputs": [
    {
     "ename": "UndefVarError",
     "evalue": "UndefVarError: geomean not defined",
     "output_type": "error",
     "traceback": [
      "UndefVarError: geomean not defined",
      "",
      "Stacktrace:",
      " [1] top-level scope at In[35]:1"
     ]
    }
   ],
   "source": [
    "geomean(dados_alunos.Altura)"
   ]
  },
  {
   "cell_type": "markdown",
   "metadata": {},
   "source": [
    "** Mediana **\n",
    "\n",
    "A mediana de um conjunto de valores, dispostos segundo uma ordem (crescente ou decrescente) é o elemento que ocupa a posição central, ou seja, divide a massa de dados em duas partes iguais.\n",
    "\n",
    "* Se a série dada tiver número ímpar de termos - O valor mediano será o termo de ordem dado pela fórmula:\n",
    "\n",
    "$\\displaystyle M_d = {{n+1} \\over 2}$\n",
    "\n",
    "\n",
    "* Se a série dada tiver número par de termos - O valor mediano será o termo de ordem dado pela fórmula:\n"
   ]
  },
  {
   "cell_type": "code",
   "execution_count": 37,
   "metadata": {
    "collapsed": false,
    "scrolled": true
   },
   "outputs": [
    {
     "data": {
      "text/plain": [
       "1.665"
      ]
     },
     "execution_count": 37,
     "metadata": {},
     "output_type": "execute_result"
    }
   ],
   "source": [
    "# mediana Altura\n",
    "median(dados_alunos.Altura)"
   ]
  },
  {
   "cell_type": "code",
   "execution_count": 38,
   "metadata": {
    "collapsed": false
   },
   "outputs": [
    {
     "data": {
      "text/plain": [
       "73.65"
      ]
     },
     "execution_count": 38,
     "metadata": {},
     "output_type": "execute_result"
    }
   ],
   "source": [
    "# mediana Massa\n",
    "median(dados_alunos.Massa)"
   ]
  },
  {
   "cell_type": "code",
   "execution_count": 128,
   "metadata": {
    "collapsed": false,
    "scrolled": true
   },
   "outputs": [
    {
     "data": {
      "text/plain": [
       "18.5"
      ]
     },
     "execution_count": 128,
     "metadata": {},
     "output_type": "execute_result"
    }
   ],
   "source": [
    "# mediana Idade\n",
    "median(dados_alunos.Idade)"
   ]
  },
  {
   "cell_type": "markdown",
   "metadata": {},
   "source": [
    "**Moda**\n",
    "\n",
    "É valor mais freqüente, aquele que mais se repete. \n",
    "```julia\n",
    "mode() # Retorna o primeiro número mais frequente de um array.\n",
    "```"
   ]
  },
  {
   "cell_type": "code",
   "execution_count": 132,
   "metadata": {
    "collapsed": false
   },
   "outputs": [
    {
     "data": {
      "text/plain": [
       "1.65"
      ]
     },
     "execution_count": 132,
     "metadata": {},
     "output_type": "execute_result"
    }
   ],
   "source": [
    "mode(dados_alunos.Altura)"
   ]
  },
  {
   "cell_type": "code",
   "execution_count": 130,
   "metadata": {
    "collapsed": false
   },
   "outputs": [
    {
     "data": {
      "text/plain": [
       "50.3"
      ]
     },
     "execution_count": 130,
     "metadata": {},
     "output_type": "execute_result"
    }
   ],
   "source": [
    "mode(dados_alunos.Massa)"
   ]
  },
  {
   "cell_type": "code",
   "execution_count": 133,
   "metadata": {
    "collapsed": false
   },
   "outputs": [
    {
     "data": {
      "text/plain": [
       "18"
      ]
     },
     "execution_count": 133,
     "metadata": {},
     "output_type": "execute_result"
    }
   ],
   "source": [
    "mode(dados_alunos.Idade)"
   ]
  },
  {
   "cell_type": "markdown",
   "metadata": {},
   "source": [
    "**Quartis (Q) **\n",
    "\n",
    "São os valores de uma série ordenada que a dividem em cinco partes iguais - Q1 , Q2 , Q3 e Q4.  Estes cinco valores representam pontos de dados em 0%, 25%, 50%, 75% e 100% do conjunto de dados. Atençao: Julia não ignora os valores NaN no cálculo"
   ]
  },
  {
   "cell_type": "code",
   "execution_count": 39,
   "metadata": {
    "collapsed": false,
    "scrolled": true
   },
   "outputs": [
    {
     "data": {
      "text/plain": [
       "5-element Array{Float64,1}:\n",
       " 1.55              \n",
       " 1.6324999999999998\n",
       " 1.665             \n",
       " 1.72              \n",
       " 1.92              "
      ]
     },
     "execution_count": 39,
     "metadata": {},
     "output_type": "execute_result"
    }
   ],
   "source": [
    "quantile(dados_alunos.Altura)"
   ]
  },
  {
   "cell_type": "code",
   "execution_count": 40,
   "metadata": {
    "collapsed": false
   },
   "outputs": [
    {
     "data": {
      "text/plain": [
       "1.6324999999999998"
      ]
     },
     "execution_count": 40,
     "metadata": {},
     "output_type": "execute_result"
    }
   ],
   "source": [
    "# para obter somente o segundo quartil\n",
    "quantile(dados_alunos.Altura)[2]"
   ]
  },
  {
   "cell_type": "markdown",
   "metadata": {},
   "source": [
    "**Percentis (P)**\n",
    "\n",
    "Retorna o percentil P de um conjunto de dados de valor real v."
   ]
  },
  {
   "cell_type": "code",
   "execution_count": 41,
   "metadata": {
    "collapsed": false,
    "scrolled": false
   },
   "outputs": [
    {
     "ename": "UndefVarError",
     "evalue": "UndefVarError: percentile not defined",
     "output_type": "error",
     "traceback": [
      "UndefVarError: percentile not defined",
      "",
      "Stacktrace:",
      " [1] top-level scope at In[41]:1"
     ]
    }
   ],
   "source": [
    "percentile(dados_alunos.Altura,25)"
   ]
  },
  {
   "cell_type": "markdown",
   "metadata": {},
   "source": [
    "**nquantile**\n",
    "\n",
    "Devolva os n-quantiles de conjunto de dados de valor real, isto é, os valores que dividem os dados v em n subconjuntos de tamanho quase igual."
   ]
  },
  {
   "cell_type": "markdown",
   "metadata": {},
   "source": [
    "**Describe**\n",
    "\n",
    "A função `describe()` lista várias informações sobre o dataframe."
   ]
  },
  {
   "cell_type": "code",
   "execution_count": 62,
   "metadata": {
    "collapsed": false,
    "scrolled": false
   },
   "outputs": [
    {
     "data": {
      "text/html": [
       "<table class=\"data-frame\"><thead><tr><th></th><th>variable</th><th>mean</th><th>min</th><th>median</th><th>max</th><th>nunique</th><th>nmissing</th><th>eltype</th></tr><tr><th></th><th>Symbol</th><th>Float64</th><th>Real</th><th>Float64</th><th>Real</th><th>Nothing</th><th>Nothing</th><th>DataType</th></tr></thead><tbody><tr><th>1</th><td>Altura</td><td>1.68357</td><td>1.55</td><td>1.665</td><td>1.92</td><td></td><td></td><td>Float64</td></tr><tr><th>2</th><td>Massa</td><td>70.9571</td><td>45.1</td><td>73.65</td><td>91.0</td><td></td><td></td><td>Float64</td></tr><tr><th>3</th><td>Idade</td><td>18.8571</td><td>17</td><td>18.5</td><td>22</td><td></td><td></td><td>Int64</td></tr><tr><th>4</th><td>Sexo</td><td>1.42857</td><td>1</td><td>1.0</td><td>2</td><td></td><td></td><td>Int64</td></tr></tbody></table>"
      ],
      "text/latex": [
       "\\begin{tabular}{r|cccccccc}\n",
       "\t& variable & mean & min & median & max & nunique & nmissing & eltype\\\\\n",
       "\t\\hline\n",
       "\t1 & Altura & 1.68357 & 1.55 & 1.665 & 1.92 &  &  & Float64 \\\\\n",
       "\t2 & Massa & 70.9571 & 45.1 & 73.65 & 91.0 &  &  & Float64 \\\\\n",
       "\t3 & Idade & 18.8571 & 17 & 18.5 & 22 &  &  & Int64 \\\\\n",
       "\t4 & Sexo & 1.42857 & 1 & 1.0 & 2 &  &  & Int64 \\\\\n",
       "\\end{tabular}\n"
      ],
      "text/plain": [
       "4×8 DataFrame. Omitted printing of 1 columns\n",
       "│ Row │ variable │ mean    │ min  │ median  │ max  │ nunique │ nmissing │\n",
       "│     │ \u001b[90mSymbol\u001b[39m   │ \u001b[90mFloat64\u001b[39m │ \u001b[90mReal\u001b[39m │ \u001b[90mFloat64\u001b[39m │ \u001b[90mReal\u001b[39m │ \u001b[90mNothing\u001b[39m │ \u001b[90mNothing\u001b[39m  │\n",
       "├─────┼──────────┼─────────┼──────┼─────────┼──────┼─────────┼──────────┤\n",
       "│ 1   │ Altura   │ 1.68357 │ 1.55 │ 1.665   │ 1.92 │         │          │\n",
       "│ 2   │ Massa    │ 70.9571 │ 45.1 │ 73.65   │ 91.0 │         │          │\n",
       "│ 3   │ Idade    │ 18.8571 │ 17   │ 18.5    │ 22   │         │          │\n",
       "│ 4   │ Sexo     │ 1.42857 │ 1    │ 1.0     │ 2    │         │          │"
      ]
     },
     "execution_count": 62,
     "metadata": {},
     "output_type": "execute_result"
    }
   ],
   "source": [
    "describe(dados_alunos)"
   ]
  },
  {
   "cell_type": "code",
   "execution_count": 63,
   "metadata": {
    "collapsed": false
   },
   "outputs": [
    {
     "name": "stdout",
     "output_type": "stream",
     "text": [
      "Summary Stats:\n",
      "Mean:           1.683571\n",
      "Minimum:        1.550000\n",
      "1st Quartile:   1.632500\n",
      "Median:         1.665000\n",
      "3rd Quartile:   1.720000\n",
      "Maximum:        1.920000\n",
      "Length:         14\n",
      "Type:           Float64\n"
     ]
    }
   ],
   "source": [
    "# descrive somente dos dados de altura\n",
    "describe(dados_alunos.Altura)"
   ]
  },
  {
   "cell_type": "markdown",
   "metadata": {},
   "source": [
    "### Medidas de Dispersão "
   ]
  },
  {
   "cell_type": "markdown",
   "metadata": {},
   "source": [
    "**Amplitude Total (A) **\n",
    "\n",
    "É a diferença entre o maior e menor dos valores da série"
   ]
  },
  {
   "cell_type": "code",
   "execution_count": 45,
   "metadata": {
    "collapsed": false
   },
   "outputs": [
    {
     "data": {
      "text/plain": [
       "0.3699999999999999"
      ]
     },
     "execution_count": 45,
     "metadata": {},
     "output_type": "execute_result"
    }
   ],
   "source": [
    "maximum(dados_alunos.Altura) - minimum(dados_alunos.Altura)"
   ]
  },
  {
   "cell_type": "markdown",
   "metadata": {},
   "source": [
    "** Variancia **\n",
    "\n",
    "Variância dos dados amostrais dado por :\n",
    "\n",
    "$\\displaystyle {\\sum_{i=1}^n {(x_{i} - \\bar{x} )} \\over {n-1}}$"
   ]
  },
  {
   "cell_type": "code",
   "execution_count": 46,
   "metadata": {
    "collapsed": false
   },
   "outputs": [
    {
     "data": {
      "text/plain": [
       "0.009255494505494502"
      ]
     },
     "execution_count": 46,
     "metadata": {},
     "output_type": "execute_result"
    }
   ],
   "source": [
    "var(dados_alunos.Altura)"
   ]
  },
  {
   "cell_type": "code",
   "execution_count": 47,
   "metadata": {
    "collapsed": false
   },
   "outputs": [
    {
     "data": {
      "text/plain": [
       "207.94725274725278"
      ]
     },
     "execution_count": 47,
     "metadata": {},
     "output_type": "execute_result"
    }
   ],
   "source": [
    "var(dados_alunos.Massa)"
   ]
  },
  {
   "cell_type": "code",
   "execution_count": 48,
   "metadata": {
    "collapsed": false
   },
   "outputs": [
    {
     "data": {
      "text/plain": [
       "2.131868131868132"
      ]
     },
     "execution_count": 48,
     "metadata": {},
     "output_type": "execute_result"
    }
   ],
   "source": [
    "var(dados_alunos.Idade)"
   ]
  },
  {
   "cell_type": "markdown",
   "metadata": {},
   "source": [
    "** Desvio padrão **\n",
    "\n",
    "desvio padrão amostral"
   ]
  },
  {
   "cell_type": "code",
   "execution_count": 49,
   "metadata": {
    "collapsed": false,
    "scrolled": true
   },
   "outputs": [
    {
     "data": {
      "text/plain": [
       "0.09620548064166876"
      ]
     },
     "execution_count": 49,
     "metadata": {},
     "output_type": "execute_result"
    }
   ],
   "source": [
    "std(dados_alunos.Altura)"
   ]
  },
  {
   "cell_type": "code",
   "execution_count": 50,
   "metadata": {
    "collapsed": false
   },
   "outputs": [
    {
     "data": {
      "text/plain": [
       "14.420376303940643"
      ]
     },
     "execution_count": 50,
     "metadata": {},
     "output_type": "execute_result"
    }
   ],
   "source": [
    "std(dados_alunos.Massa)"
   ]
  },
  {
   "cell_type": "code",
   "execution_count": 51,
   "metadata": {
    "collapsed": false
   },
   "outputs": [
    {
     "data": {
      "text/plain": [
       "1.4600918230947435"
      ]
     },
     "execution_count": 51,
     "metadata": {},
     "output_type": "execute_result"
    }
   ],
   "source": [
    "std(dados_alunos.Idade)"
   ]
  },
  {
   "cell_type": "markdown",
   "metadata": {},
   "source": [
    "**Coeficiente de Variação (CV)**\n",
    "\n",
    "Trata-se de uma medida relativa de dispersão, útil para a comparação em termos relativos do grau de concentração em torno da média de séries distintas.  o coeficiente de variação é muito utilizado para comparação entre amostras (por exemplo: o que é mais variável, o ganho de peso de suínos ou a altura de plantas de milho?).\n",
    "\n"
   ]
  },
  {
   "cell_type": "code",
   "execution_count": 54,
   "metadata": {
    "collapsed": false
   },
   "outputs": [
    {
     "data": {
      "text/plain": [
       "0.009255494505494502"
      ]
     },
     "execution_count": 54,
     "metadata": {},
     "output_type": "execute_result"
    }
   ],
   "source": [
    "var(dados_alunos.Altura)"
   ]
  },
  {
   "cell_type": "code",
   "execution_count": 56,
   "metadata": {
    "collapsed": false
   },
   "outputs": [
    {
     "data": {
      "text/plain": [
       "207.94725274725278"
      ]
     },
     "execution_count": 56,
     "metadata": {},
     "output_type": "execute_result"
    }
   ],
   "source": [
    "var(dados_alunos.Massa)"
   ]
  },
  {
   "cell_type": "code",
   "execution_count": 57,
   "metadata": {
    "collapsed": false
   },
   "outputs": [
    {
     "data": {
      "text/plain": [
       "2.131868131868132"
      ]
     },
     "execution_count": 57,
     "metadata": {},
     "output_type": "execute_result"
    }
   ],
   "source": [
    "var(dados_alunos.Idade)"
   ]
  },
  {
   "cell_type": "markdown",
   "metadata": {
    "collapsed": true
   },
   "source": [
    "## PROBABILIDADE"
   ]
  },
  {
   "cell_type": "code",
   "execution_count": null,
   "metadata": {
    "collapsed": true
   },
   "outputs": [],
   "source": []
  },
  {
   "cell_type": "markdown",
   "metadata": {},
   "source": [
    "## VARIÁVEIS ALEATÓRIAS"
   ]
  },
  {
   "cell_type": "markdown",
   "metadata": {},
   "source": [
    "#### Variáveis Aleatórias Discretas"
   ]
  },
  {
   "cell_type": "markdown",
   "metadata": {},
   "source": [
    "**Distribuição Binomial - X ∼ b(n,p)**"
   ]
  },
  {
   "cell_type": "code",
   "execution_count": null,
   "metadata": {
    "collapsed": true
   },
   "outputs": [],
   "source": []
  },
  {
   "cell_type": "markdown",
   "metadata": {},
   "source": [
    "**Distribuição De Poisson - X ∼ P(λ)**"
   ]
  },
  {
   "cell_type": "code",
   "execution_count": null,
   "metadata": {
    "collapsed": true
   },
   "outputs": [],
   "source": []
  },
  {
   "cell_type": "markdown",
   "metadata": {},
   "source": [
    "####  Variáveis Aleatórias Contínuas"
   ]
  },
  {
   "cell_type": "markdown",
   "metadata": {},
   "source": [
    "**Distribuição Normal ou Gaussiana - X ∼ N(μ,σ2 )**"
   ]
  },
  {
   "cell_type": "code",
   "execution_count": null,
   "metadata": {
    "collapsed": true
   },
   "outputs": [],
   "source": []
  },
  {
   "cell_type": "markdown",
   "metadata": {},
   "source": [
    "**Distribuição de Weibull - X ∼ W(δ,β)**"
   ]
  },
  {
   "cell_type": "code",
   "execution_count": null,
   "metadata": {
    "collapsed": true
   },
   "outputs": [],
   "source": []
  },
  {
   "cell_type": "markdown",
   "metadata": {},
   "source": [
    "## INFERÊNCIA ESTATÍSTICA"
   ]
  },
  {
   "cell_type": "markdown",
   "metadata": {},
   "source": [
    "**Hipóteses Unilaterais e Bilaterais**"
   ]
  },
  {
   "cell_type": "code",
   "execution_count": null,
   "metadata": {
    "collapsed": true
   },
   "outputs": [],
   "source": []
  },
  {
   "cell_type": "markdown",
   "metadata": {},
   "source": [
    "### Teste $t$"
   ]
  },
  {
   "cell_type": "markdown",
   "metadata": {},
   "source": [
    "**Testes de Hipótese - Uma amostra**"
   ]
  },
  {
   "cell_type": "code",
   "execution_count": null,
   "metadata": {
    "collapsed": true
   },
   "outputs": [],
   "source": []
  },
  {
   "cell_type": "markdown",
   "metadata": {},
   "source": [
    "**Testes de Hipótese - Duas amostras**"
   ]
  },
  {
   "cell_type": "code",
   "execution_count": null,
   "metadata": {
    "collapsed": true
   },
   "outputs": [],
   "source": []
  },
  {
   "cell_type": "markdown",
   "metadata": {},
   "source": [
    "### Teste $F$"
   ]
  },
  {
   "cell_type": "code",
   "execution_count": null,
   "metadata": {
    "collapsed": true
   },
   "outputs": [],
   "source": []
  },
  {
   "cell_type": "markdown",
   "metadata": {},
   "source": [
    "## REGRESSÃO E CORRELAÇÃO"
   ]
  },
  {
   "cell_type": "markdown",
   "metadata": {},
   "source": [
    "** Coeficiente de Correlação ($r$)**"
   ]
  },
  {
   "cell_type": "code",
   "execution_count": null,
   "metadata": {
    "collapsed": true
   },
   "outputs": [],
   "source": []
  },
  {
   "cell_type": "markdown",
   "metadata": {},
   "source": [
    "** Coeficiente de Determinação ($r^2$ )**"
   ]
  },
  {
   "cell_type": "code",
   "execution_count": null,
   "metadata": {
    "collapsed": true
   },
   "outputs": [],
   "source": []
  },
  {
   "cell_type": "markdown",
   "metadata": {},
   "source": [
    "**Regressão**"
   ]
  },
  {
   "cell_type": "code",
   "execution_count": null,
   "metadata": {
    "collapsed": true
   },
   "outputs": [],
   "source": []
  }
 ],
 "metadata": {
  "anaconda-cloud": {},
  "kernelspec": {
   "display_name": "Julia 1.0.2",
   "language": "julia",
   "name": "julia-1.0"
  },
  "language_info": {
   "file_extension": ".jl",
   "mimetype": "application/julia",
   "name": "julia",
   "version": "1.0.2"
  }
 },
 "nbformat": 4,
 "nbformat_minor": 1
}
