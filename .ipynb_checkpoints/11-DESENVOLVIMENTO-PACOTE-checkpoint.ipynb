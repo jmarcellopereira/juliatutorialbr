{
 "cells": [
  {
   "cell_type": "markdown",
   "metadata": {},
   "source": [
    "# DESENVOLVIMENTO DE UM PACOTE\n",
    "\n",
    "A linguagem de programação Julia é relativamente jovem (surgiu em 2012) e ainda possui \"poucos\" pacotes desenvolvidos quando comparada com Python, R , MatLab e Fortran. Dessa forma, muitos desenvolvedores e/ou pesquisadores poderão passar pela necessidade de criar seus próprios pacotes para fins específicos. Diferente dessas linguagens citadas, o desenvolvimento e disponibilidade de um pacote na internet é prático e ainda pode ser agregados outros pacotes ao projeto desenvolvido. Para criar um pacote na linguagem Julia é necessário no mínimo uma pasta com o nome do pacote no diretório `.Julia` contendo os seguintes arquivos e pastas: \n",
    "- Pasta `src` : Contém os códigos fontes do pacote\n",
    "- Pasta `test`: Contém os códigos de testes do pacote\n",
    "- Arquivo markdown `LICENSE.md`: Arquivo contendo a licença de uso e informações sobre os direitos autorais listando os autores do pacote.\n",
    "- Arquivo markdown `README.md`: Informações gerais sobre o pacote\t"
   ]
  },
  {
   "cell_type": "markdown",
   "metadata": {},
   "source": [
    "## PACOTE LOCAL\n",
    "\n",
    "Vamos criar um pacote que calcula a área e volume de um cilindro passado o raio da base e altura como argumentos. Será criado três funções: \n",
    " - Função 'area lateral' : Calcula a área lateral do cilindro dado ao raio da base e altura.\n",
    " - Função 'area total' : Soma a área lateral com duas vezes a área da base do cilindro\n",
    " - Função 'area base cilindro' : Calcula a área da base circular do cilindro\n",
    " - Função 'volume cilindro' : Calcula o volume do cilindro multiplicando a área da base com a altura.\n",
    "\n",
    " \n",
    "Antes, devemos instalar o pacote `PkgDev`:\n",
    "```julia\n",
    "using Pkg\n",
    "Pkg.add(\"PkgDev\")\n",
    "```\n",
    "Os nomes dos pacotes devem iniciar em maiúsculo, sem espaços, sem acentos e caracteres especiais."
   ]
  },
  {
   "cell_type": "code",
   "execution_count": 1,
   "metadata": {
    "scrolled": true
   },
   "outputs": [
    {
     "ename": "ArgumentError",
     "evalue": "ArgumentError: Package PkgDev not found in current path:\n- Run `Pkg.add(\"PkgDev\")` to install the PkgDev package.\n",
     "output_type": "error",
     "traceback": [
      "ArgumentError: Package PkgDev not found in current path:\n- Run `Pkg.add(\"PkgDev\")` to install the PkgDev package.\n",
      "",
      "Stacktrace:",
      " [1] require(::Module, ::Symbol) at ./loading.jl:817",
      " [2] top-level scope at In[1]:1"
     ]
    }
   ],
   "source": [
    "using PkgDev"
   ]
  },
  {
   "cell_type": "markdown",
   "metadata": {},
   "source": [
    "Quando executado , PkgDev informa: \n",
    "\n",
    "\n",
    "`INFO: Precompiling module PkgDev.`\n",
    "\n",
    "`WARNING: PkgDev.jl is not configured. Please, run `PkgDev.config()` before performing any operations.`"
   ]
  },
  {
   "cell_type": "markdown",
   "metadata": {},
   "source": [
    "**Configurando o `PkgDev` **\n",
    "\n",
    "A função `PkgDev.config()` configura os dados do desenvolvedor para inserir na licensa de uso.\n",
    "```\n",
    "User name: \"Nome usuário\"\n",
    "User email: \"Email do usuário\"\n",
    "GitHub user: \"Nome de usuário do GitHub\"\n",
    "```\n",
    "Após insirir os dados confirme com \"y\". Para alterar os dados existentes basta executar novamente `PkgDev.config()` e teclar \"y\" no campo `\"Do you want to change this configuration? [N]:\"`."
   ]
  },
  {
   "cell_type": "code",
   "execution_count": null,
   "metadata": {
    "scrolled": true
   },
   "outputs": [
    {
     "name": "stdout",
     "output_type": "stream",
     "text": [
      "PkgDev.jl configuration:\n",
      "User name: asdfsdfad\n",
      "User email: fdfdfdf\n",
      "GitHub user: dddd\n",
      "Do you want to change this configuration? [N]:STDIN> n\n"
     ]
    }
   ],
   "source": [
    "PkgDev.config()"
   ]
  },
  {
   "cell_type": "markdown",
   "metadata": {},
   "source": [
    "**Gerando o Pacote**\n",
    "\n",
    "A função `PkgDev.generate()` cria um repositório git no disco local para o novo pacote e dentro dele é criado as pastas `src(códigos fontes do pacote)` e `test(códigos de testes do pacote)` e os arquivos `LICENSE.md`, `README.md`, REQUIRE e outros. As licença de software podem ser: \"MIT\", \"BSD\", \"ASL\", \"MPL\", \"GPL-2.0+\", \"GPL-3.0+\", \"LGPL-2.1+ `LGPL-3.0+` e a escolha depende do projeto do desenvolvedor. Em geral a licença mais utilizada a \"MIT\" ou \"GPL\". Veja no anexo XX mais informações sobre as licenças de software. Sintaxe:\n",
    "```julia\n",
    "PkgDev.generate(\"NomePacote\",\"MIT\")\n",
    "\n",
    "```"
   ]
  },
  {
   "cell_type": "code",
   "execution_count": 1,
   "metadata": {
    "scrolled": true
   },
   "outputs": [
    {
     "name": "stderr",
     "output_type": "stream",
     "text": [
      "\u001b[1m\u001b[36mInfo: \u001b[39m\u001b[22m\u001b[36mInitializing CalCL1 repo: /home/jmarcellopereira/.julia/v0.6/CalCL1\n",
      "\u001b[39m\u001b[1m\u001b[36mInfo: \u001b[39m\u001b[22m\u001b[36mOrigin: https://github.com/dddd/CalCL1.jl.git\n",
      "\u001b[39m\u001b[1m\u001b[36mInfo: \u001b[39m\u001b[22m\u001b[36mGenerating LICENSE.md\n",
      "\u001b[39m\u001b[1m\u001b[36mInfo: \u001b[39m\u001b[22m\u001b[36mGenerating README.md\n",
      "\u001b[39m\u001b[1m\u001b[36mInfo: \u001b[39m\u001b[22m\u001b[36mGenerating src/CalCL1.jl\n",
      "\u001b[39m\u001b[1m\u001b[36mInfo: \u001b[39m\u001b[22m\u001b[36mGenerating test/runtests.jl\n",
      "\u001b[39m\u001b[1m\u001b[36mInfo: \u001b[39m\u001b[22m\u001b[36mGenerating REQUIRE\n",
      "\u001b[39m\u001b[1m\u001b[36mInfo: \u001b[39m\u001b[22m\u001b[36mGenerating .gitignore\n",
      "\u001b[39m\u001b[1m\u001b[36mInfo: \u001b[39m\u001b[22m\u001b[36mGenerating .travis.yml\n",
      "\u001b[39m\u001b[1m\u001b[36mInfo: \u001b[39m\u001b[22m\u001b[36mGenerating appveyor.yml\n",
      "\u001b[39m\u001b[1m\u001b[36mInfo: \u001b[39m\u001b[22m\u001b[36mGenerating .codecov.yml\n",
      "\u001b[39m\u001b[1m\u001b[36mInfo: \u001b[39m\u001b[22m\u001b[36mCommitting CalCL1 generated files\n",
      "\u001b[39m"
     ]
    }
   ],
   "source": [
    "using PkgDev\n",
    "\n",
    "PkgDev.generate(\"CalCL1\",\"MIT\")"
   ]
  },
  {
   "cell_type": "markdown",
   "metadata": {},
   "source": [
    "**Configurando o novo pacote**"
   ]
  },
  {
   "cell_type": "markdown",
   "metadata": {},
   "source": [
    "Entre na pasta `/home/nome_usuario/.julia/v0.6.x/CalCL` (Linux) ou `C:\\Users\\usuario\\.julia\\v0.6.x` (Windows) e veja que todos os arquivos gerados estão dentro desta pasta:\n",
    "\n",
    "- LICENSE.md\n",
    "- README.md\n",
    "- src/CalCL1.jl\n",
    "- test/runtests.jl\n",
    "- REQUIRE\n",
    "- .gitignore\n",
    "- .travis.yml\n",
    "- appveyor.yml\n",
    "- .codecov.yml"
   ]
  },
  {
   "cell_type": "markdown",
   "metadata": {},
   "source": [
    "Vamos agora criar um novo arquivo contendo uma função extra que será importada pelo importada pelo módulo principal (CalCL.jl). Na pasta `src`, crie o arquivo `areaBC.jl` e cole o código abaixo:\n",
    "```julia\n",
    "##################### início codigo ########################\n",
    "#calcular área da base do cilindro\n",
    "function areaBC(r)\n",
    "    return pi.*r.^2    # o ponto serve para calcular arrays\n",
    "end\n",
    "######################### fim código #######################\n",
    "```"
   ]
  },
  {
   "cell_type": "markdown",
   "metadata": {},
   "source": [
    "O próximo passo é inserir o código principal no arquivo `CalCL.jl`. Ao abrir este arquivo, há somente o código abaixo:\n",
    "<img src=\"Figuras/CalcCL.png\" align=\"center\" width=\"500\">\n",
    "\n",
    "Apague o conteúdo do arquivo. Copie o código abaixo (código definitivo do pacote) e cole no arquivo `CalCL.jl`.\n",
    "\n",
    "```julia\n",
    "##################### início codigo ########################\n",
    "module CalCL\n",
    "\n",
    "# O código do pacote\n",
    "\n",
    "export arealateral\n",
    "export volcilindro\n",
    "\n",
    "#importa a função área base do cilindro do script areaBC.jl\n",
    "include(\"areaBC.jl\")\n",
    "\n",
    "function arealateral(raio, altura)\n",
    "    return  2.*pi.*raio.*altura\n",
    "end\n",
    "\n",
    "function areatotal(raio, altura)\n",
    "    println(\"Área total:\")\n",
    "    return arealateral(raio, altura) + 2.*areaBC(raio)\n",
    "end\n",
    "\n",
    "function volcilindro(raio, altura)\n",
    "    area_base = areaBC(raio)\n",
    "    println(\"Volume do Cilindro\")\n",
    "    return  area_base.*altura\n",
    "end\n",
    "\n",
    "end\n",
    "######################### fim código #######################\n",
    "\n",
    "```\n"
   ]
  },
  {
   "cell_type": "markdown",
   "metadata": {},
   "source": [
    "O projeto está pronto! Agora é só importar o pacote:"
   ]
  },
  {
   "cell_type": "code",
   "execution_count": 2,
   "metadata": {},
   "outputs": [
    {
     "ename": "ArgumentError",
     "evalue": "ArgumentError: Package CalCL not found in current path:\n- Run `Pkg.add(\"CalCL\")` to install the CalCL package.\n",
     "output_type": "error",
     "traceback": [
      "ArgumentError: Package CalCL not found in current path:\n- Run `Pkg.add(\"CalCL\")` to install the CalCL package.\n",
      "",
      "Stacktrace:",
      " [1] require(::Module, ::Symbol) at ./loading.jl:817",
      " [2] top-level scope at In[2]:1"
     ]
    }
   ],
   "source": [
    "using CalCL"
   ]
  },
  {
   "cell_type": "code",
   "execution_count": 2,
   "metadata": {},
   "outputs": [
    {
     "name": "stdout",
     "output_type": "stream",
     "text": [
      "Volume do Cilindro\n"
     ]
    },
    {
     "data": {
      "text/plain": [
       "12.566370614359172"
      ]
     },
     "execution_count": 2,
     "metadata": {},
     "output_type": "execute_result"
    }
   ],
   "source": [
    "# valor numerico\n",
    "volcilindro(2, 1)"
   ]
  },
  {
   "cell_type": "code",
   "execution_count": 3,
   "metadata": {
    "scrolled": true
   },
   "outputs": [
    {
     "name": "stdout",
     "output_type": "stream",
     "text": [
      "Volume do Cilindro\n"
     ]
    },
    {
     "data": {
      "text/plain": [
       "3-element Array{Float64,1}:\n",
       "  0.0   \n",
       " 12.5664\n",
       " 56.5487"
      ]
     },
     "execution_count": 3,
     "metadata": {},
     "output_type": "execute_result"
    }
   ],
   "source": [
    "# passando vetores\n",
    "volcilindro([1, 2, 3],[0, 1, 2])"
   ]
  },
  {
   "cell_type": "code",
   "execution_count": 4,
   "metadata": {},
   "outputs": [
    {
     "data": {
      "text/plain": [
       "12.566370614359172"
      ]
     },
     "execution_count": 4,
     "metadata": {},
     "output_type": "execute_result"
    }
   ],
   "source": [
    "arealateral(2, 1)"
   ]
  },
  {
   "cell_type": "markdown",
   "metadata": {},
   "source": [
    "As funções `areatotal()` e `areaBC` não foram \"exportadas\" pelo comando `export` como ocorreu com as outras funções, dessa forma não funcionam diretamente. Isto foi feito de proprósito para demonstrar essa característica. Para funcionar é necessário utilizar `CalcCL.areatotal(valor_raio,valor_altura)` e `CalCL.areaBC(valor_raio)`"
   ]
  },
  {
   "cell_type": "code",
   "execution_count": 6,
   "metadata": {},
   "outputs": [
    {
     "ename": "LoadError",
     "evalue": "LoadError: UndefVarError: areatotal not defined\nwhile loading In[6], in expression starting on line 1",
     "output_type": "error",
     "traceback": [
      "LoadError: UndefVarError: areatotal not defined\nwhile loading In[6], in expression starting on line 1",
      ""
     ]
    }
   ],
   "source": [
    "areatotal(2, 1) "
   ]
  },
  {
   "cell_type": "code",
   "execution_count": 7,
   "metadata": {},
   "outputs": [
    {
     "ename": "LoadError",
     "evalue": "LoadError: UndefVarError: areaBC not defined\nwhile loading In[7], in expression starting on line 1",
     "output_type": "error",
     "traceback": [
      "LoadError: UndefVarError: areaBC not defined\nwhile loading In[7], in expression starting on line 1",
      ""
     ]
    }
   ],
   "source": [
    "areaBC(2)"
   ]
  },
  {
   "cell_type": "code",
   "execution_count": 8,
   "metadata": {},
   "outputs": [
    {
     "name": "stdout",
     "output_type": "stream",
     "text": [
      "Área total:\n"
     ]
    },
    {
     "data": {
      "text/plain": [
       "37.69911184307752"
      ]
     },
     "execution_count": 8,
     "metadata": {},
     "output_type": "execute_result"
    }
   ],
   "source": [
    "CalCL.areatotal(2, 1)"
   ]
  },
  {
   "cell_type": "code",
   "execution_count": 9,
   "metadata": {
    "scrolled": true
   },
   "outputs": [
    {
     "data": {
      "text/plain": [
       "12.566370614359172"
      ]
     },
     "execution_count": 9,
     "metadata": {},
     "output_type": "execute_result"
    }
   ],
   "source": [
    "CalCL.areaBC(2)"
   ]
  },
  {
   "cell_type": "markdown",
   "metadata": {},
   "source": [
    "Os arquivos `TestePacote.jl e areaBC.jl` podem ter o conteúdo alterado. Depois, basta restartar o kernel e importar novamente."
   ]
  },
  {
   "cell_type": "markdown",
   "metadata": {},
   "source": [
    "## PUBLICANDO O PACOTE NO GITHUB"
   ]
  },
  {
   "cell_type": "markdown",
   "metadata": {},
   "source": [
    "Para publicar no GitHub é necessário ter uma conta no serviço e um repositório criado. O repositório criado deve ter o mesmo nome do pacote a ser enviado (CalCL)."
   ]
  },
  {
   "cell_type": "markdown",
   "metadata": {},
   "source": [
    "Acesse via terminal a pasta do pacote: \n",
    "```sh\n",
    "cd ~/.julia/v0.5/CalCL\n",
    "```\n",
    "\n",
    "Adicionar todos os arquivos e pastas que serão enviados. Observe que há um ponto depois do `add`.\n",
    "```sh\n",
    "git add .\n",
    "```\n",
    "\n",
    "Se fizer alguma alteração no código após adiciondo os arquivos, realize o commit para salvar tudo que foi realizado\n",
    "```sh\n",
    "git commit -m \"ok\"\n",
    "```\n",
    "\n",
    "Adicionar o repositório remoto\n",
    "```sh\n",
    "git remote add origin https://github.com/jmarcellopereira/CalCL.jl.git\n",
    "```\n",
    "\n",
    "Enviar os arquivos. Será pedido o nome de usuário e senha\n",
    "```sh\n",
    "git push -u origin master\n",
    "```\n",
    "```sh\n",
    "Username for 'https://github.com': jmarcellopereira\n",
    "```\n",
    "```sh\n",
    "Password for 'https://jmarcellopereira@github.com': ******\n",
    "```\n",
    "Feito isto, aparecerá os arquivos no repositório do `GitHub`\n",
    "\n",
    "Antes de instalar via `Pkg.clone()` o pacote deve ser removido do disco pois a pasta e os arquivos clonados são os mesmos do pacote local. Para isto use: `Pkg.rm(\"CalCL\")`."
   ]
  },
  {
   "cell_type": "code",
   "execution_count": 5,
   "metadata": {},
   "outputs": [
    {
     "name": "stderr",
     "output_type": "stream",
     "text": [
      "\u001b[1m\u001b[34mINFO: Removing CalCL (unregistered)\n",
      "\u001b[0m"
     ]
    }
   ],
   "source": [
    "Pkg.rm(\"CalCL\")"
   ]
  },
  {
   "cell_type": "code",
   "execution_count": 11,
   "metadata": {},
   "outputs": [
    {
     "name": "stderr",
     "output_type": "stream",
     "text": [
      "\u001b[1m\u001b[34mINFO: Cloning CalCL from https://github.com/jmarcellopereira/CalCL.jl\n",
      "\u001b[0m"
     ]
    },
    {
     "ename": "LoadError",
     "evalue": "CalCL already exists",
     "output_type": "error",
     "traceback": [
      "CalCL already exists",
      "",
      " in clone(::String, ::SubString{String}) at ./pkg/entry.jl:193",
      " in (::Base.Pkg.Dir.##2#3{Array{Any,1},Base.Pkg.Entry.#clone,Tuple{String}})() at ./pkg/dir.jl:31",
      " in cd(::Base.Pkg.Dir.##2#3{Array{Any,1},Base.Pkg.Entry.#clone,Tuple{String}}, ::String) at ./file.jl:59",
      " in #cd#1(::Array{Any,1}, ::Function, ::Function, ::String, ::Vararg{Any,N}) at ./pkg/dir.jl:31",
      " in clone(::String) at ./pkg/pkg.jl:151"
     ]
    }
   ],
   "source": [
    "Pkg.clone(\"https://github.com/jmarcellopereira/CalCL.jl\")"
   ]
  },
  {
   "cell_type": "code",
   "execution_count": 12,
   "metadata": {
    "collapsed": true
   },
   "outputs": [],
   "source": [
    "using CalCL"
   ]
  },
  {
   "cell_type": "code",
   "execution_count": 18,
   "metadata": {},
   "outputs": [
    {
     "data": {
      "text/plain": [
       "12.566370614359172"
      ]
     },
     "execution_count": 18,
     "metadata": {},
     "output_type": "execute_result"
    }
   ],
   "source": [
    "arealateral(1,2)"
   ]
  },
  {
   "cell_type": "code",
   "execution_count": 19,
   "metadata": {},
   "outputs": [
    {
     "name": "stdout",
     "output_type": "stream",
     "text": [
      "Volume do Cilindro\n"
     ]
    },
    {
     "data": {
      "text/plain": [
       "6.283185307179586"
      ]
     },
     "execution_count": 19,
     "metadata": {},
     "output_type": "execute_result"
    }
   ],
   "source": [
    "volcilindro(1,2)"
   ]
  },
  {
   "cell_type": "code",
   "execution_count": 20,
   "metadata": {},
   "outputs": [
    {
     "name": "stdout",
     "output_type": "stream",
     "text": [
      "Área total:\n"
     ]
    },
    {
     "data": {
      "text/plain": [
       "12.566370614359172"
      ]
     },
     "execution_count": 20,
     "metadata": {},
     "output_type": "execute_result"
    }
   ],
   "source": [
    "CalCL.areatotal(1,1)"
   ]
  },
  {
   "cell_type": "markdown",
   "metadata": {},
   "source": [
    "Após fazer o clone do projeto, é possível alterar o pacote e reenviar para o $GitHub$ novamente com os comandos anteriores."
   ]
  },
  {
   "cell_type": "code",
   "execution_count": null,
   "metadata": {
    "collapsed": true
   },
   "outputs": [],
   "source": []
  }
 ],
 "metadata": {
  "anaconda-cloud": {},
  "kernelspec": {
   "display_name": "Julia 1.0.0",
   "language": "julia",
   "name": "julia-1.0"
  },
  "language_info": {
   "file_extension": ".jl",
   "mimetype": "application/julia",
   "name": "julia",
   "version": "1.0.0"
  },
  "latex_envs": {
   "LaTeX_envs_menu_present": true,
   "autocomplete": true,
   "bibliofile": "biblio.bib",
   "cite_by": "apalike",
   "current_citInitial": 1,
   "eqLabelWithNumbers": true,
   "eqNumInitial": 1,
   "hotkeys": {
    "equation": "Ctrl-E",
    "itemize": "Ctrl-I"
   },
   "labels_anchors": false,
   "latex_user_defs": false,
   "report_style_numbering": false,
   "user_envs_cfg": false
  }
 },
 "nbformat": 4,
 "nbformat_minor": 1
}
