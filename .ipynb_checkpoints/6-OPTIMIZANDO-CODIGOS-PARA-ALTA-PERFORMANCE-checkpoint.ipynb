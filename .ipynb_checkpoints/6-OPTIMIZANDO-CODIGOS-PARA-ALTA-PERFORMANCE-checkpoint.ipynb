{
 "cells": [
  {
   "cell_type": "markdown",
   "metadata": {
    "collapsed": true
   },
   "source": [
    "# OPTIMIZANDO CODIGOS PARA ALTA PERFORMANCE\n",
    "\n",
    "O pacote `BenchmarkTools` facilita o acompanhamento de desempenho do código em Julia, fornecendo uma estrutura para escrever e executar grupos de benchmarks, bem como comparar resultados. `BenchmarkTools` foi criado para facilitar as seguintes tarefas:\n",
    "\n",
    "+ Organizar coleções de benchmarks em conjuntos de benchmarks gerenciáveis\n",
    "+ Configurar, salvar e recarregar parâmetros de referência para conveniência, precisão e consistência\n",
    "+ Executar benchmarks de forma a obter previsões de desempenho razoáveis e consistentes\n",
    "+ Analisar e comparar resultados para determinar se uma alteração de código causou prejuízos ou melhorias\n",
    "\n",
    "Sintaxe Básica:\n",
    "```julia\n",
    "@benchmark comando/função\n",
    "\n",
    "Out:\n",
    "  BenchmarkTools.Trial: \n",
    "      samples:          1270\n",
    "      evals/sample:     1\n",
    "      time tolerance:   5.00%\n",
    "      memory tolerance: 1.00%\n",
    "      memory estimate:  7.63 mb\n",
    "      allocs estimate:  3\n",
    "      minimum time:     3.03 ms (0.00% GC)\n",
    "      median time:      3.80 ms (0.00% GC)\n",
    "      mean time:        3.93 ms (3.97% GC)\n",
    "      maximum time:     6.94 ms (6.20% GC)\n",
    "  \n",
    "```"
   ]
  },
  {
   "cell_type": "code",
   "execution_count": 2,
   "metadata": {
    "collapsed": false,
    "scrolled": false
   },
   "outputs": [],
   "source": [
    "# Pkg.add(\"BenchmarkTools\") # Instala o Pacote BenchmarkTools"
   ]
  },
  {
   "cell_type": "code",
   "execution_count": 5,
   "metadata": {
    "collapsed": true
   },
   "outputs": [],
   "source": [
    "using BenchmarkTools"
   ]
  },
  {
   "cell_type": "markdown",
   "metadata": {},
   "source": [
    "## TIPOS DEFINIDOS EM FUNÇÕES"
   ]
  },
  {
   "cell_type": "markdown",
   "metadata": {},
   "source": [
    "Julia é uma linguagem dinamicamente tipada que ao contrário Java ou C, o programador não precisa especificar o tipo fixo de cada variável no código. Porém, os tipos são muito importantes em Julia, de tal forma que o melhor desempenho ocorre quando são utilizadas informações do tipo para todos os dados no código. Um tipo mal definido pode atrasar e muito o desempenho de uma função/codigo. A melhor forma de obter um bom desempenho é casar o tipo do dado a ser trabalhado com o tipo que a função vai calcular.\n",
    "\n",
    "No exemplo abaixo, temos uma função que soma elementos de um vetor. No primeiro teste a função `soma_vetor1` recebe um vetor de qualquer tipo e trabalha com \"soma\" do tipo `Float (soma = 0.0)`. No segundo teste a mesma função e vetores, porém a variável soma é do tipo Int (soma = 0)."
   ]
  },
  {
   "cell_type": "code",
   "execution_count": 1,
   "metadata": {
    "collapsed": false
   },
   "outputs": [
    {
     "data": {
      "text/plain": [
       "soma_vetor1 (generic function with 1 method)"
      ]
     },
     "execution_count": 1,
     "metadata": {},
     "output_type": "execute_result"
    }
   ],
   "source": [
    "function soma_vetor1(x)\n",
    "    soma = 0.0\n",
    "    for i = x\n",
    "        soma = soma + i\n",
    "    end\n",
    "    return soma\n",
    "end"
   ]
  },
  {
   "cell_type": "code",
   "execution_count": 2,
   "metadata": {
    "collapsed": false
   },
   "outputs": [
    {
     "data": {
      "text/plain": [
       "(50000001,50000001,50000001)"
      ]
     },
     "execution_count": 2,
     "metadata": {},
     "output_type": "execute_result"
    }
   ],
   "source": [
    "x1 = collect(0:0.0001:5000)    # Array{Float64,1},\n",
    "x2 = linspace(0,5000,50000001) # LinSpace{Float64}\n",
    "x3 = 0:0.0001:5000             # FloatRange{Float64}\n",
    "\n",
    "length(x1) , length(x2) , length(x3)"
   ]
  },
  {
   "cell_type": "code",
   "execution_count": 3,
   "metadata": {
    "collapsed": false,
    "scrolled": true
   },
   "outputs": [
    {
     "data": {
      "text/plain": [
       "(Array{Float64,1},LinSpace{Float64},FloatRange{Float64})"
      ]
     },
     "execution_count": 3,
     "metadata": {},
     "output_type": "execute_result"
    }
   ],
   "source": [
    "# confirmando o tipo\n",
    "typeof(x1) , typeof(x2) , typeof(x3)"
   ]
  },
  {
   "cell_type": "code",
   "execution_count": 6,
   "metadata": {
    "collapsed": false,
    "scrolled": true
   },
   "outputs": [
    {
     "data": {
      "text/plain": [
       "BenchmarkTools.Trial: \n",
       "  samples:          92\n",
       "  evals/sample:     1\n",
       "  time tolerance:   5.00%\n",
       "  memory tolerance: 1.00%\n",
       "  memory estimate:  16.00 bytes\n",
       "  allocs estimate:  1\n",
       "  minimum time:     52.39 ms (0.00% GC)\n",
       "  median time:      54.19 ms (0.00% GC)\n",
       "  mean time:        54.35 ms (0.00% GC)\n",
       "  maximum time:     57.21 ms (0.00% GC)"
      ]
     },
     "execution_count": 6,
     "metadata": {},
     "output_type": "execute_result"
    }
   ],
   "source": [
    "@benchmark soma_vetor1(x1)"
   ]
  },
  {
   "cell_type": "code",
   "execution_count": 7,
   "metadata": {
    "collapsed": false,
    "scrolled": false
   },
   "outputs": [
    {
     "data": {
      "text/plain": [
       "BenchmarkTools.Trial: \n",
       "  samples:          22\n",
       "  evals/sample:     1\n",
       "  time tolerance:   5.00%\n",
       "  memory tolerance: 1.00%\n",
       "  memory estimate:  16.00 bytes\n",
       "  allocs estimate:  1\n",
       "  minimum time:     227.77 ms (0.00% GC)\n",
       "  median time:      230.65 ms (0.00% GC)\n",
       "  mean time:        230.90 ms (0.00% GC)\n",
       "  maximum time:     235.19 ms (0.00% GC)"
      ]
     },
     "execution_count": 7,
     "metadata": {},
     "output_type": "execute_result"
    }
   ],
   "source": [
    "@benchmark soma_vetor1(x2)"
   ]
  },
  {
   "cell_type": "code",
   "execution_count": 8,
   "metadata": {
    "collapsed": false,
    "scrolled": true
   },
   "outputs": [
    {
     "data": {
      "text/plain": [
       "BenchmarkTools.Trial: \n",
       "  samples:          22\n",
       "  evals/sample:     1\n",
       "  time tolerance:   5.00%\n",
       "  memory tolerance: 1.00%\n",
       "  memory estimate:  16.00 bytes\n",
       "  allocs estimate:  1\n",
       "  minimum time:     227.25 ms (0.00% GC)\n",
       "  median time:      230.26 ms (0.00% GC)\n",
       "  mean time:        231.46 ms (0.00% GC)\n",
       "  maximum time:     239.37 ms (0.00% GC)"
      ]
     },
     "execution_count": 8,
     "metadata": {},
     "output_type": "execute_result"
    }
   ],
   "source": [
    "@benchmark soma_vetor1(x3)"
   ]
  },
  {
   "cell_type": "markdown",
   "metadata": {},
   "source": [
    "O tipo Array{Float64,1} definido pelo ` collect` apresentou melhor desempenho de tempo."
   ]
  },
  {
   "cell_type": "markdown",
   "metadata": {},
   "source": [
    "A função agora modificada. Note que \"soma\" agora é do tipo inteiro, mas está recebendo um vetor do tipo Float"
   ]
  },
  {
   "cell_type": "code",
   "execution_count": 9,
   "metadata": {
    "collapsed": false,
    "scrolled": true
   },
   "outputs": [
    {
     "data": {
      "text/plain": [
       "soma_vetor2 (generic function with 1 method)"
      ]
     },
     "execution_count": 9,
     "metadata": {},
     "output_type": "execute_result"
    }
   ],
   "source": [
    "function soma_vetor2(x)\n",
    "    soma = 0             # só este datalhe ja é suficiente para reduzir o desempenho\n",
    "    for i in x\n",
    "        soma = soma + i\n",
    "    end\n",
    "    return soma\n",
    "end"
   ]
  },
  {
   "cell_type": "code",
   "execution_count": 10,
   "metadata": {
    "collapsed": false
   },
   "outputs": [
    {
     "data": {
      "text/plain": [
       "BenchmarkTools.Trial: \n",
       "  samples:          5\n",
       "  evals/sample:     1\n",
       "  time tolerance:   5.00%\n",
       "  memory tolerance: 1.00%\n",
       "  memory estimate:  2.24 gb\n",
       "  allocs estimate:  150000003\n",
       "  minimum time:     1.07 s (7.82% GC)\n",
       "  median time:      1.07 s (7.77% GC)\n",
       "  mean time:        1.11 s (7.67% GC)\n",
       "  maximum time:     1.25 s (7.50% GC)"
      ]
     },
     "execution_count": 10,
     "metadata": {},
     "output_type": "execute_result"
    }
   ],
   "source": [
    "@benchmark soma_vetor2(x1)"
   ]
  },
  {
   "cell_type": "code",
   "execution_count": 11,
   "metadata": {
    "collapsed": false
   },
   "outputs": [
    {
     "data": {
      "text/plain": [
       "BenchmarkTools.Trial: \n",
       "  samples:          5\n",
       "  evals/sample:     1\n",
       "  time tolerance:   5.00%\n",
       "  memory tolerance: 1.00%\n",
       "  memory estimate:  2.24 gb\n",
       "  allocs estimate:  150000003\n",
       "  minimum time:     1.18 s (7.43% GC)\n",
       "  median time:      1.20 s (7.33% GC)\n",
       "  mean time:        1.21 s (7.45% GC)\n",
       "  maximum time:     1.30 s (7.77% GC)"
      ]
     },
     "execution_count": 11,
     "metadata": {},
     "output_type": "execute_result"
    }
   ],
   "source": [
    "@benchmark soma_vetor2(x2)"
   ]
  },
  {
   "cell_type": "code",
   "execution_count": 12,
   "metadata": {
    "collapsed": false,
    "scrolled": true
   },
   "outputs": [
    {
     "data": {
      "text/plain": [
       "BenchmarkTools.Trial: \n",
       "  samples:          4\n",
       "  evals/sample:     1\n",
       "  time tolerance:   5.00%\n",
       "  memory tolerance: 1.00%\n",
       "  memory estimate:  2.24 gb\n",
       "  allocs estimate:  150000003\n",
       "  minimum time:     1.20 s (8.23% GC)\n",
       "  median time:      1.28 s (8.33% GC)\n",
       "  mean time:        1.33 s (9.45% GC)\n",
       "  maximum time:     1.57 s (12.19% GC)"
      ]
     },
     "execution_count": 12,
     "metadata": {},
     "output_type": "execute_result"
    }
   ],
   "source": [
    "@benchmark soma_vetor2(x3)"
   ]
  },
  {
   "cell_type": "markdown",
   "metadata": {},
   "source": [
    "Veja que todos os testes apresentaram resultados muito ruins em função do tipo de \"soma\" ser inteiro. O tipo Array{Float64,1} definido pelo collect apresentou melhor desempenho de tempo."
   ]
  },
  {
   "cell_type": "markdown",
   "metadata": {
    "collapsed": true
   },
   "source": [
    "## NÃO USE VARIÁVEIS GLOBAIS EM FUNÇÕES\n",
    "\n",
    "Variáveis globais são uma tentação na vida de qualquer programador. Porém..."
   ]
  },
  {
   "cell_type": "code",
   "execution_count": 6,
   "metadata": {
    "collapsed": true
   },
   "outputs": [],
   "source": [
    "using BenchmarkTools"
   ]
  },
  {
   "cell_type": "code",
   "execution_count": 3,
   "metadata": {
    "collapsed": false
   },
   "outputs": [
    {
     "data": {
      "text/plain": [
       "soma_vetor_Global (generic function with 1 method)"
      ]
     },
     "execution_count": 3,
     "metadata": {},
     "output_type": "execute_result"
    }
   ],
   "source": [
    "# função calcula a soma a partir de uma variável global x\n",
    "\n",
    "function soma_vetor_Global()\n",
    "    soma = 0.0             # cuidado! soma é tipo float, se não piora mais ainda\n",
    "    for i in x\n",
    "        soma = soma +  i\n",
    "    end\n",
    "    return soma\n",
    "end"
   ]
  },
  {
   "cell_type": "code",
   "execution_count": 4,
   "metadata": {
    "collapsed": false
   },
   "outputs": [],
   "source": [
    "x = collect(0:0.0001:5000);"
   ]
  },
  {
   "cell_type": "code",
   "execution_count": 7,
   "metadata": {
    "collapsed": false
   },
   "outputs": [
    {
     "data": {
      "text/plain": [
       "BenchmarkTools.Trial: \n",
       "  samples:          1\n",
       "  evals/sample:     1\n",
       "  time tolerance:   5.00%\n",
       "  memory tolerance: 1.00%\n",
       "  memory estimate:  3.73 gb\n",
       "  allocs estimate:  199999494\n",
       "  minimum time:     7.93 s (4.94% GC)\n",
       "  median time:      7.93 s (4.94% GC)\n",
       "  mean time:        7.93 s (4.94% GC)\n",
       "  maximum time:     7.93 s (4.94% GC)"
      ]
     },
     "execution_count": 7,
     "metadata": {},
     "output_type": "execute_result"
    }
   ],
   "source": [
    "@benchmark soma_vetor_Global()"
   ]
  },
  {
   "cell_type": "markdown",
   "metadata": {
    "collapsed": true
   },
   "source": [
    "A mesma função só que usando variável local passada para função"
   ]
  },
  {
   "cell_type": "code",
   "execution_count": 8,
   "metadata": {
    "collapsed": false
   },
   "outputs": [
    {
     "data": {
      "text/plain": [
       "soma_vetor_Local (generic function with 1 method)"
      ]
     },
     "execution_count": 8,
     "metadata": {},
     "output_type": "execute_result"
    }
   ],
   "source": [
    "# função calcula a soma a partir de uma variável local X passada como valor\n",
    "\n",
    "function soma_vetor_Local(x)\n",
    "    soma = 0.0             # cuidado! soma é tipo float\n",
    "    for i in x\n",
    "        soma = soma + i\n",
    "    end\n",
    "    return soma\n",
    "end"
   ]
  },
  {
   "cell_type": "code",
   "execution_count": 9,
   "metadata": {
    "collapsed": true
   },
   "outputs": [],
   "source": [
    "x = collect(0:0.0001:5000);"
   ]
  },
  {
   "cell_type": "code",
   "execution_count": 10,
   "metadata": {
    "collapsed": false
   },
   "outputs": [
    {
     "data": {
      "text/plain": [
       "BenchmarkTools.Trial: \n",
       "  samples:          65\n",
       "  evals/sample:     1\n",
       "  time tolerance:   5.00%\n",
       "  memory tolerance: 1.00%\n",
       "  memory estimate:  16.00 bytes\n",
       "  allocs estimate:  1\n",
       "  minimum time:     66.41 ms (0.00% GC)\n",
       "  median time:      76.50 ms (0.00% GC)\n",
       "  mean time:        77.36 ms (0.00% GC)\n",
       "  maximum time:     90.67 ms (0.00% GC)"
      ]
     },
     "execution_count": 10,
     "metadata": {},
     "output_type": "execute_result"
    }
   ],
   "source": [
    "@benchmark soma_vetor_Local(x)"
   ]
  },
  {
   "cell_type": "markdown",
   "metadata": {},
   "source": [
    "Diferença absurda de tempo de alocação de memória entre o primeiro caso e segundo caso. "
   ]
  },
  {
   "cell_type": "markdown",
   "metadata": {
    "collapsed": true
   },
   "source": [
    "## UTILIZE FUNÇÕES PARA SUBSTITUIR BLOCOS DE CÓDIGO"
   ]
  },
  {
   "cell_type": "code",
   "execution_count": 26,
   "metadata": {
    "collapsed": false
   },
   "outputs": [],
   "source": [
    "using BenchmarkTools"
   ]
  },
  {
   "cell_type": "markdown",
   "metadata": {},
   "source": [
    "Bloco de código que utiliza variáveis globais para calcular a soma todos os elementos de um vetor"
   ]
  },
  {
   "cell_type": "code",
   "execution_count": 19,
   "metadata": {
    "collapsed": false
   },
   "outputs": [
    {
     "data": {
      "text/plain": [
       "1.2500000249999998e11"
      ]
     },
     "metadata": {},
     "output_type": "display_data"
    },
    {
     "name": "stdout",
     "output_type": "stream",
     "text": [
      "  8.408327 seconds (200.07 M allocations: 4.101 GB, 5.39% gc time)\n"
     ]
    }
   ],
   "source": [
    "@time begin\n",
    "x = collect(0:0.0001:5000)\n",
    "\n",
    "soma = 0.0             # cuidado! soma é tipo float\n",
    "for i in x1\n",
    "    soma = soma + i\n",
    "end\n",
    "\n",
    "display(soma)\n",
    "    \n",
    "end"
   ]
  },
  {
   "cell_type": "markdown",
   "metadata": {},
   "source": [
    "Função que substitui o procedimento acima e usa variáveis locais"
   ]
  },
  {
   "cell_type": "code",
   "execution_count": 20,
   "metadata": {
    "collapsed": false
   },
   "outputs": [
    {
     "name": "stderr",
     "output_type": "stream",
     "text": [
      "WARNING: Method definition soma_vetorL(Any) in module Main at In[16]:4 overwritten at In[20]:4.\n"
     ]
    },
    {
     "data": {
      "text/plain": [
       "soma_vetorL (generic function with 1 method)"
      ]
     },
     "execution_count": 20,
     "metadata": {},
     "output_type": "execute_result"
    }
   ],
   "source": [
    "# função calcula a soma a partir de uma variável local X passada como valor\n",
    "\n",
    "function soma_vetorL(x)\n",
    "    soma = 0.0             # cuidado! soma é tipo float\n",
    "    for i in x\n",
    "        soma = soma + i\n",
    "    end\n",
    "    return soma\n",
    "end"
   ]
  },
  {
   "cell_type": "code",
   "execution_count": 21,
   "metadata": {
    "collapsed": false
   },
   "outputs": [],
   "source": [
    "x = collect(0:0.0001:5000);"
   ]
  },
  {
   "cell_type": "code",
   "execution_count": 22,
   "metadata": {
    "collapsed": false,
    "scrolled": false
   },
   "outputs": [
    {
     "data": {
      "text/plain": [
       "BenchmarkTools.Trial: \n",
       "  samples:          92\n",
       "  evals/sample:     1\n",
       "  time tolerance:   5.00%\n",
       "  memory tolerance: 1.00%\n",
       "  memory estimate:  16.00 bytes\n",
       "  allocs estimate:  1\n",
       "  minimum time:     52.65 ms (0.00% GC)\n",
       "  median time:      54.73 ms (0.00% GC)\n",
       "  mean time:        54.82 ms (0.00% GC)\n",
       "  maximum time:     58.80 ms (0.00% GC)"
      ]
     },
     "execution_count": 22,
     "metadata": {},
     "output_type": "execute_result"
    }
   ],
   "source": [
    "@benchmark soma_vetorL(x)"
   ]
  },
  {
   "cell_type": "markdown",
   "metadata": {},
   "source": [
    "Veja que a diferença de tempo é absurda!"
   ]
  },
  {
   "cell_type": "markdown",
   "metadata": {},
   "source": [
    "## CRIAÇÃO DE MATRIZES\n",
    "\n",
    "Quando for criar uma matriz a partir de uma função, use `List Compreehsion` ao invés de laços `FOR`, além de deixar mais claro o código é bem mais rápido."
   ]
  },
  {
   "cell_type": "code",
   "execution_count": 10,
   "metadata": {
    "collapsed": true
   },
   "outputs": [],
   "source": [
    "using BenchmarkTools"
   ]
  },
  {
   "cell_type": "code",
   "execution_count": 9,
   "metadata": {
    "collapsed": false
   },
   "outputs": [
    {
     "data": {
      "text/plain": [
       "matriz_for (generic function with 1 method)"
      ]
     },
     "execution_count": 9,
     "metadata": {},
     "output_type": "execute_result"
    }
   ],
   "source": [
    "# função for\n",
    "function matriz_for(n)\n",
    "    matriz  = ones(n,n)\n",
    "    for i = 1:n\n",
    "        for j = 1:n\n",
    "            matriz[i,j] = 0.5*i^2 + 0.3j^2\n",
    "        end\n",
    "    end\n",
    "    return matriz\n",
    "end"
   ]
  },
  {
   "cell_type": "code",
   "execution_count": 11,
   "metadata": {
    "collapsed": false,
    "scrolled": false
   },
   "outputs": [
    {
     "data": {
      "text/plain": [
       "BenchmarkTools.Trial: \n",
       "  samples:          1\n",
       "  evals/sample:     1\n",
       "  time tolerance:   5.00%\n",
       "  memory tolerance: 1.00%\n",
       "  memory estimate:  2.98 gb\n",
       "  allocs estimate:  2\n",
       "  minimum time:     6.77 s (0.18% GC)\n",
       "  median time:      6.77 s (0.18% GC)\n",
       "  mean time:        6.77 s (0.18% GC)\n",
       "  maximum time:     6.77 s (0.18% GC)"
      ]
     },
     "execution_count": 11,
     "metadata": {},
     "output_type": "execute_result"
    }
   ],
   "source": [
    "@benchmark matriz_for(20000)"
   ]
  },
  {
   "cell_type": "code",
   "execution_count": 12,
   "metadata": {
    "collapsed": true
   },
   "outputs": [],
   "source": [
    "# use o garbage collector para remover o lixo da memória\n",
    "gc()\n",
    "gc()"
   ]
  },
  {
   "cell_type": "code",
   "execution_count": 5,
   "metadata": {
    "collapsed": false,
    "scrolled": true
   },
   "outputs": [
    {
     "data": {
      "text/plain": [
       "matriz_lc (generic function with 1 method)"
      ]
     },
     "execution_count": 5,
     "metadata": {},
     "output_type": "execute_result"
    }
   ],
   "source": [
    "# função LC\n",
    "function matriz_lc(n)\n",
    "   return [0.5*i^2 + 0.3*j^2 for i = 1:n, j = 1:n]\n",
    "end"
   ]
  },
  {
   "cell_type": "code",
   "execution_count": 14,
   "metadata": {
    "collapsed": false,
    "scrolled": true
   },
   "outputs": [
    {
     "data": {
      "text/plain": [
       "BenchmarkTools.Trial: \n",
       "  samples:          3\n",
       "  evals/sample:     1\n",
       "  time tolerance:   5.00%\n",
       "  memory tolerance: 1.00%\n",
       "  memory estimate:  2.98 gb\n",
       "  allocs estimate:  3\n",
       "  minimum time:     1.90 s (0.56% GC)\n",
       "  median time:      1.95 s (2.63% GC)\n",
       "  mean time:        1.93 s (2.12% GC)\n",
       "  maximum time:     1.95 s (2.62% GC)"
      ]
     },
     "execution_count": 14,
     "metadata": {},
     "output_type": "execute_result"
    }
   ],
   "source": [
    "@benchmark matriz_lc(20000)"
   ]
  },
  {
   "cell_type": "code",
   "execution_count": 11,
   "metadata": {
    "collapsed": true
   },
   "outputs": [],
   "source": [
    "# use o garbage collector para remover o lixo da memória\n",
    "gc()\n",
    "gc()"
   ]
  },
  {
   "cell_type": "markdown",
   "metadata": {
    "collapsed": true
   },
   "source": [
    "## QUAL A MELHOR: FUNÇÕES GENÉRICAS, FUNÇÕES ANÔNIMAS OU EXPRESÕES SIMBÓLICAS?\n",
    "\n",
    "Uma dúvida que ocorre devido as possibilidades de escolhas é qual função apresenta melhor desenpenho de cálculo. As funções anônimas foram otimizadas na versão 0.5 e não há necessidade do pacote `FastAnonymous` como era nas versões anteriores.\n",
    "\n",
    "* **Funções Genéricas**\n",
    "\n",
    "|Vantagens   |Desvantagens |\n",
    "|------------|-------------|\n",
    "|Fáceis de escrever e bem próximas da escrita de uma função da matemática |Só permitem cálculo de funções definidas|\n",
    "|Rápidas |A redefinição pode ser um problema|\n",
    "\n",
    "* **Expressões Simbólicas**\n",
    "\n",
    "|Vantagens   |Desvantagens |\n",
    "|------------|-------------|\n",
    "|Permitem o cálculo simbólico entre variáveis|Muito lentas em relação as funções genéricas e anônimas        |\n",
    "|Podem ser utilizadas em conjunto com funções genéricas e variáveis simbólicas|Não são funções de acordo com a definição de função|\n",
    "\n",
    "* **Funções Anônimas**\n",
    "\n",
    "|Vantagens   |Desvantagens |\n",
    "|------------|-------------|\n",
    "|Velocidade praticamente iqual às funções genéricas|afdasdfa|\n",
    "|asdfasdf|afdasdfa|"
   ]
  },
  {
   "cell_type": "code",
   "execution_count": 3,
   "metadata": {
    "collapsed": true
   },
   "outputs": [],
   "source": [
    "using BenchmarkTools"
   ]
  },
  {
   "cell_type": "code",
   "execution_count": 5,
   "metadata": {
    "collapsed": false,
    "scrolled": true
   },
   "outputs": [
    {
     "data": {
      "text/plain": [
       "f_gen (generic function with 1 method)"
      ]
     },
     "execution_count": 5,
     "metadata": {},
     "output_type": "execute_result"
    }
   ],
   "source": [
    "# Genérica\n",
    "f_gen(x , y) = x^2 + y^3 + x^5 + y^7 + x^9 + y^11"
   ]
  },
  {
   "cell_type": "code",
   "execution_count": 6,
   "metadata": {
    "collapsed": false
   },
   "outputs": [
    {
     "data": {
      "text/plain": [
       "(x,y)"
      ]
     },
     "execution_count": 6,
     "metadata": {},
     "output_type": "execute_result"
    }
   ],
   "source": [
    "using SymPy\n",
    "@syms x y"
   ]
  },
  {
   "cell_type": "code",
   "execution_count": 7,
   "metadata": {
    "collapsed": false
   },
   "outputs": [
    {
     "data": {
      "text/latex": [
       "$$x^{9} + x^{5} + x^{2} + y^{11} + y^{7} + y^{3}$$"
      ],
      "text/plain": [
       " 9    5    2    11    7    3\n",
       "x  + x  + x  + y   + y  + y "
      ]
     },
     "execution_count": 7,
     "metadata": {},
     "output_type": "execute_result"
    }
   ],
   "source": [
    "# Simbólica\n",
    "f_simb = x^2 + y^3 + x^5 + y^7 + x^9 + y^11"
   ]
  },
  {
   "cell_type": "code",
   "execution_count": 8,
   "metadata": {
    "collapsed": false
   },
   "outputs": [],
   "source": [
    "x_vetor = rand(100, 100)\n",
    "y_vetor = rand(100, 100);"
   ]
  },
  {
   "cell_type": "code",
   "execution_count": 9,
   "metadata": {
    "collapsed": false,
    "scrolled": true
   },
   "outputs": [
    {
     "data": {
      "text/plain": [
       "BenchmarkTools.Trial: \n",
       "  samples:          10000\n",
       "  evals/sample:     1\n",
       "  time tolerance:   5.00%\n",
       "  memory tolerance: 1.00%\n",
       "  memory estimate:  79.56 kb\n",
       "  allocs estimate:  38\n",
       "  minimum time:     56.82 μs (0.00% GC)\n",
       "  median time:      57.82 μs (0.00% GC)\n",
       "  mean time:        63.17 μs (3.45% GC)\n",
       "  maximum time:     1.40 ms (91.99% GC)"
      ]
     },
     "execution_count": 9,
     "metadata": {},
     "output_type": "execute_result"
    }
   ],
   "source": [
    "# Função Genérica\n",
    "@benchmark f_gen.(x_vetor,y_vetor)"
   ]
  },
  {
   "cell_type": "code",
   "execution_count": 10,
   "metadata": {
    "collapsed": false
   },
   "outputs": [
    {
     "data": {
      "text/plain": [
       "BenchmarkTools.Trial: \n",
       "  samples:          1\n",
       "  evals/sample:     1\n",
       "  time tolerance:   5.00%\n",
       "  memory tolerance: 1.00%\n",
       "  memory estimate:  83.70 mb\n",
       "  allocs estimate:  2430068\n",
       "  minimum time:     26.44 s (0.10% GC)\n",
       "  median time:      26.44 s (0.10% GC)\n",
       "  mean time:        26.44 s (0.10% GC)\n",
       "  maximum time:     26.44 s (0.10% GC)"
      ]
     },
     "execution_count": 10,
     "metadata": {},
     "output_type": "execute_result"
    }
   ],
   "source": [
    "# Função Simbólica\n",
    "@benchmark f_simb.(x_vetor,y_vetor)"
   ]
  },
  {
   "cell_type": "code",
   "execution_count": 11,
   "metadata": {
    "collapsed": false,
    "scrolled": false
   },
   "outputs": [
    {
     "data": {
      "text/plain": [
       "BenchmarkTools.Trial: \n",
       "  samples:          10000\n",
       "  evals/sample:     1\n",
       "  time tolerance:   5.00%\n",
       "  memory tolerance: 1.00%\n",
       "  memory estimate:  79.56 kb\n",
       "  allocs estimate:  38\n",
       "  minimum time:     56.21 μs (0.00% GC)\n",
       "  median time:      57.09 μs (0.00% GC)\n",
       "  mean time:        75.07 μs (19.15% GC)\n",
       "  maximum time:     66.49 ms (99.73% GC)"
      ]
     },
     "execution_count": 11,
     "metadata": {},
     "output_type": "execute_result"
    }
   ],
   "source": [
    "# Função Anônima\n",
    "@benchmark ((x,y) -> x^2 + y^3 + x^5 + y^7 + x^9 + y^11).(x_vetor,y_vetor)"
   ]
  },
  {
   "cell_type": "markdown",
   "metadata": {},
   "source": [
    "## OTIMIZANDO UBUNTU E DERIVADOS"
   ]
  },
  {
   "cell_type": "markdown",
   "metadata": {},
   "source": [
    "O Ubuntu e outros sistemas linux, possuem uma configuração de **\"Concurrency\"** que permite habilitar todos os núcleos, isso faz com que o Boot do seu sistema seja mais rápido que o normal e pode melhorar o desempenho do processamento numérico da Julia. Para habilitar o recurso, digite no shell:\n",
    "\n",
    "```bash\n",
    "sudo gedit /etc/init.d/rc\n",
    "```\n",
    "Para evitar problemas, salve o arquivo como **rc.back**, caso ocorra algum erro ou instabilidade do sistema. Procure as linhas **CONCURRENCY=makefile** e descomente, e comente a linha **#CONCURRENCY=none**. Veja o código abaixo:\n",
    "\n",
    "    # Check if we are able to use make like booting.  It require the\n",
    "    # insserv package to be enabled. Boot concurrency also requires\n",
    "    # startpar to be installed.\n",
    "    #\n",
    "    CONCURRENCY=makefile # descomente a linha\n",
    "    # disable startpar, incompatible with \"task\" upstart jobs\n",
    "    #CONCURRENCY=none   # comente a linha\n",
    "    \n",
    "Reinicie e veja a diferença :)"
   ]
  }
 ],
 "metadata": {
  "anaconda-cloud": {},
  "kernelspec": {
   "display_name": "Julia 0.5.0",
   "language": "julia",
   "name": "julia-0.5"
  },
  "language_info": {
   "file_extension": ".jl",
   "mimetype": "application/julia",
   "name": "julia",
   "version": "0.5.0"
  }
 },
 "nbformat": 4,
 "nbformat_minor": 0
}
