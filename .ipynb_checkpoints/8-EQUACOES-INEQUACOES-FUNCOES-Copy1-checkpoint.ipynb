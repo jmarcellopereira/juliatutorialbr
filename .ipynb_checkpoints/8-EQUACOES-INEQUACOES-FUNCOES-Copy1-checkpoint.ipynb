{
 "cells": [
  {
   "cell_type": "markdown",
   "metadata": {
    "collapsed": true
   },
   "source": [
    "# EQUAÇÕES, INEQUAÇÕES E FUNÇÕES"
   ]
  },
  {
   "cell_type": "markdown",
   "metadata": {},
   "source": [
    "De acordo com o dicionario matemático disponível em \"http://www.somatematica.com.br/dicionarioMatematico\" temos que:\n",
    "\n",
    "**Equação:** Expressão algébrica indicada por uma igualdade, onde há valores desconhecidos expressos por letras (incógnitas). Logo, todo conjunto de expressões no qual há uma igualdade cuja(s) incógita(s) satisfaçam a um conjunto limitado de soluções, então temos uma equação. \n",
    "\n",
    "Ex: $x + 2 =0$, $xy - 2x = 2$, $x^2 + y^2 =2^2$.\n",
    "\n",
    "**Inequação:** Desigualdade verificada a determinado(s) valor(es) atribuídos à variável. Uma inequação é uma equação no qual há uma desigualdade do tipo <, >, >=, =< ou #. \n",
    "\n",
    "Ex: $x + 2 > 0,xy - 2x < 2, x^2 + y^2 + 2^2 $.\n",
    "\n",
    "**Função:** É uma correspondência unívoca entre dois conjuntos em que a cada elemento do primeiro conjunto corresponde a um e somente um elemento do segundo. Dessa forma, temos que uma função é uma relação entre das variáveis, sendo uma dependente e outra independente. \n",
    "\n",
    "Ex: $y(x) = x + 2, z = xy - 2x, f(x) = x^2 + y^2$\n"
   ]
  },
  {
   "cell_type": "markdown",
   "metadata": {},
   "source": [
    "## EQUAÇÕES "
   ]
  },
  {
   "cell_type": "code",
   "execution_count": 1,
   "metadata": {
    "collapsed": false
   },
   "outputs": [
    {
     "data": {
      "text/plain": [
       "(x,y)"
      ]
     },
     "execution_count": 1,
     "metadata": {},
     "output_type": "execute_result"
    }
   ],
   "source": [
    "using SymPy\n",
    "\n",
    "@vars x,y \n",
    "\n",
    "# ou @syms ou x,y = Sym(\"x,y\")"
   ]
  },
  {
   "cell_type": "code",
   "execution_count": 2,
   "metadata": {
    "collapsed": false
   },
   "outputs": [],
   "source": [
    "exp1 = 2^x\n",
    "x = 3;"
   ]
  },
  {
   "cell_type": "code",
   "execution_count": 59,
   "metadata": {
    "collapsed": false,
    "scrolled": true
   },
   "outputs": [
    {
     "data": {
      "text/plain": [
       "8"
      ]
     },
     "execution_count": 59,
     "metadata": {},
     "output_type": "execute_result"
    }
   ],
   "source": [
    "eval(exp1)"
   ]
  },
  {
   "cell_type": "markdown",
   "metadata": {},
   "source": [
    "Outra forma"
   ]
  },
  {
   "cell_type": "code",
   "execution_count": 67,
   "metadata": {
    "collapsed": false
   },
   "outputs": [
    {
     "data": {
      "text/latex": [
       "$$8.0$$"
      ],
      "text/plain": [
       "8.00000000000000"
      ]
     },
     "execution_count": 67,
     "metadata": {},
     "output_type": "execute_result"
    }
   ],
   "source": [
    "evalf(2^y, subs=Dict([(y,3)]))"
   ]
  },
  {
   "cell_type": "markdown",
   "metadata": {},
   "source": [
    "Ou sem o uso do SymPy - uso de uma variável sem declarar como simbólico"
   ]
  },
  {
   "cell_type": "code",
   "execution_count": 2,
   "metadata": {
    "collapsed": false
   },
   "outputs": [
    {
     "data": {
      "text/plain": [
       "3"
      ]
     },
     "execution_count": 2,
     "metadata": {},
     "output_type": "execute_result"
    }
   ],
   "source": [
    "exp2 = :(2^w)\n",
    "\n",
    "w = 3"
   ]
  },
  {
   "cell_type": "code",
   "execution_count": 3,
   "metadata": {
    "collapsed": false
   },
   "outputs": [
    {
     "data": {
      "text/plain": [
       "8"
      ]
     },
     "execution_count": 3,
     "metadata": {},
     "output_type": "execute_result"
    }
   ],
   "source": [
    "eval(exp2)"
   ]
  },
  {
   "cell_type": "markdown",
   "metadata": {},
   "source": [
    "## INEQUAÇÕES "
   ]
  },
  {
   "cell_type": "code",
   "execution_count": 44,
   "metadata": {
    "collapsed": true
   },
   "outputs": [],
   "source": [
    "using SymPy"
   ]
  },
  {
   "cell_type": "code",
   "execution_count": 4,
   "metadata": {
    "collapsed": false
   },
   "outputs": [
    {
     "data": {
      "text/plain": [
       "(x,y)"
      ]
     },
     "execution_count": 4,
     "metadata": {},
     "output_type": "execute_result"
    }
   ],
   "source": [
    "@vars x y \n",
    "\n",
    "# ou @syms ou x,y = Sym(\"x,y\")"
   ]
  },
  {
   "cell_type": "code",
   "execution_count": 49,
   "metadata": {
    "collapsed": false
   },
   "outputs": [
    {
     "data": {
      "text/latex": [
       "$$x - 5 \\geq 5$$"
      ],
      "text/plain": [
       "x - 5 >= 5"
      ]
     },
     "metadata": {},
     "output_type": "display_data"
    },
    {
     "data": {
      "text/latex": [
       "$$x + y \\leq 0$$"
      ],
      "text/plain": [
       "x + y <= 0"
      ]
     },
     "metadata": {},
     "output_type": "display_data"
    }
   ],
   "source": [
    "ineq1 = x - 5 >= 5\n",
    "\n",
    "ineq2 = x + y <= 0\n",
    "\n",
    "display(ineq1)\n",
    "display(ineq2)"
   ]
  },
  {
   "cell_type": "code",
   "execution_count": 47,
   "metadata": {
    "collapsed": false
   },
   "outputs": [
    {
     "data": {
      "text/plain": [
       "false"
      ]
     },
     "execution_count": 47,
     "metadata": {},
     "output_type": "execute_result"
    }
   ],
   "source": [
    "ineq1 == ineq2"
   ]
  },
  {
   "cell_type": "markdown",
   "metadata": {},
   "source": [
    "## FUNÇÕES\n",
    "\n",
    "**Simbólicas, Genéricas e Anônimas**"
   ]
  },
  {
   "cell_type": "markdown",
   "metadata": {},
   "source": [
    "### FUNÇÕES MATEMÁTICAS SIMBÓLICAS\n",
    "\n",
    "Funções Simbólicas são funções no qual uma ou várias variáveis são defininidas do tipo simbólico. Sintaxe:\n",
    "```julia\n",
    "funcao = expressão_var_simbolica\n",
    "```\n",
    "Uma ou várias variáveis simbólicas podem ser definidas de 3 formas diferentes:\n",
    "```julia\n",
    "@vars x,y ou @vars x y\n",
    "@syms x,y ou @syms x y \n",
    "x,y = Sym(\"x,y\")\n",
    "```\n",
    "Uma variável simbólica não possui valor pré-definido e dessa forma permite manipulações algébricas. Não use a forma ** F(X) = EXPRESSAO **, esta é a forma da função genérica"
   ]
  },
  {
   "cell_type": "markdown",
   "metadata": {},
   "source": [
    "#### FUNÇÃO DE UMA VARIÁVEL "
   ]
  },
  {
   "cell_type": "code",
   "execution_count": 249,
   "metadata": {
    "collapsed": false
   },
   "outputs": [
    {
     "data": {
      "text/plain": [
       "(x,)"
      ]
     },
     "execution_count": 249,
     "metadata": {},
     "output_type": "execute_result"
    }
   ],
   "source": [
    "using SymPy\n",
    "\n",
    "@syms x"
   ]
  },
  {
   "cell_type": "code",
   "execution_count": 250,
   "metadata": {
    "collapsed": false
   },
   "outputs": [
    {
     "data": {
      "text/latex": [
       "$$x^{2} + 1$$"
      ],
      "text/plain": [
       " 2    \n",
       "x  + 1"
      ]
     },
     "execution_count": 250,
     "metadata": {},
     "output_type": "execute_result"
    }
   ],
   "source": [
    "f = x^2 + 1"
   ]
  },
  {
   "cell_type": "code",
   "execution_count": 251,
   "metadata": {
    "collapsed": false
   },
   "outputs": [
    {
     "data": {
      "text/plain": [
       "SymPy.Sym"
      ]
     },
     "execution_count": 251,
     "metadata": {},
     "output_type": "execute_result"
    }
   ],
   "source": [
    "typeof(f)"
   ]
  },
  {
   "cell_type": "code",
   "execution_count": 252,
   "metadata": {
    "collapsed": false
   },
   "outputs": [
    {
     "name": "stdout",
     "output_type": "stream",
     "text": [
      "                          Base  28709 KB     Module\n",
      "                       BinDeps    214 KB     Module\n",
      "                    ColorTypes    252 KB     Module\n",
      "                        Colors    585 KB     Module\n",
      "                        Compat    109 KB     Module\n",
      "                         Conda     60 KB     Module\n",
      "                          Core   5356 KB     Module\n",
      "             FixedPointNumbers     33 KB     Module\n",
      "               FixedSizeArrays    131 KB     Module\n",
      "                        IJulia    525 KB     Module\n",
      "                IPythonDisplay     44 KB     Module\n",
      "                          JSON    212 KB     Module\n",
      "                    MacroTools    168 KB     Module\n",
      "                          Main  38514 KB     Module\n",
      "                        Nettle     60 KB     Module\n",
      "                         Plots   1605 KB     Module\n",
      "                        PyCall    515 KB     Module\n",
      "                      Reexport   3738 bytes  Module\n",
      "                      Requires     34 KB     Module\n",
      "                           SHA     52 KB     Module\n",
      "                         SymPy   2763 KB     Module\n",
      "                     URIParser     98 KB     Module\n",
      "                           ZMQ     83 KB     Module\n",
      "                             c      8 bytes  Int64\n",
      "                             f     16 bytes  SymPy.Sym\n",
      "                           fa2    256 bytes  Function\n",
      "                          fanx    295 bytes  Function\n",
      "                           fgV   1739 bytes  Function\n",
      "                           fgv   1658 bytes  Function\n",
      "                         fsiev     32 bytes  4-element Array{Float64,1}\n",
      "                         fsilc     16 bytes  SymPy.Sym\n",
      "                         fsimd     24 bytes  3-element Array{Float64,1}\n",
      "                         fsimv     16 bytes  SymPy.Sym\n",
      "                         funan    299 bytes  Function\n",
      "                             t     16 bytes  SymPy.Sym\n",
      "                             u     16 bytes  SymPy.Sym\n",
      "                             w     16 bytes  3-element UnitRange{Int64}\n",
      "                             x     16 bytes  SymPy.Sym\n"
     ]
    }
   ],
   "source": [
    "# observe a criação da função f como simbolica(SymPy.Sym)\n",
    "\n",
    "whos()"
   ]
  },
  {
   "cell_type": "markdown",
   "metadata": {},
   "source": [
    "Observe que o comando Whos() informa que \"F\" e \"f\" são diferentes. \"F\" é uma função e \"f\" é uma expressão simbólica"
   ]
  },
  {
   "cell_type": "code",
   "execution_count": 69,
   "metadata": {
    "collapsed": false
   },
   "outputs": [
    {
     "data": {
      "text/latex": [
       "$$5$$"
      ],
      "text/plain": [
       "5"
      ]
     },
     "metadata": {},
     "output_type": "display_data"
    },
    {
     "data": {
      "text/latex": [
       "$$1 + \\pi^{2}$$"
      ],
      "text/plain": [
       "      2\n",
       "1 + pi "
      ]
     },
     "metadata": {},
     "output_type": "display_data"
    },
    {
     "data": {
      "text/plain": [
       "10.869604401089358"
      ]
     },
     "metadata": {},
     "output_type": "display_data"
    },
    {
     "data": {
      "text/plain": [
       "10.869604401089358"
      ]
     },
     "metadata": {},
     "output_type": "display_data"
    }
   ],
   "source": [
    "display(f(2))\n",
    "\n",
    "display(f(pi))\n",
    "\n",
    "display(float(f(pi)))\n",
    "\n",
    "display(N(f(pi)))"
   ]
  },
  {
   "cell_type": "code",
   "execution_count": 4,
   "metadata": {
    "collapsed": false
   },
   "outputs": [
    {
     "data": {
      "text/latex": [
       "$$x^{3} + 1$$"
      ],
      "text/plain": [
       " 3    \n",
       "x  + 1"
      ]
     },
     "execution_count": 4,
     "metadata": {},
     "output_type": "execute_result"
    }
   ],
   "source": [
    "g = x^3 + 1"
   ]
  },
  {
   "cell_type": "code",
   "execution_count": 5,
   "metadata": {
    "collapsed": false
   },
   "outputs": [
    {
     "data": {
      "text/latex": [
       "$$x^{3} + x^{2} + 2$$"
      ],
      "text/plain": [
       " 3    2    \n",
       "x  + x  + 2"
      ]
     },
     "execution_count": 5,
     "metadata": {},
     "output_type": "execute_result"
    }
   ],
   "source": [
    "g + f"
   ]
  },
  {
   "cell_type": "markdown",
   "metadata": {},
   "source": [
    "#### FUNÇÃO DE DUAS VARIÁVEIS f(x,y) "
   ]
  },
  {
   "cell_type": "code",
   "execution_count": 6,
   "metadata": {
    "collapsed": false
   },
   "outputs": [
    {
     "data": {
      "text/plain": [
       "(x,y)"
      ]
     },
     "execution_count": 6,
     "metadata": {},
     "output_type": "execute_result"
    }
   ],
   "source": [
    "using SymPy\n",
    "\n",
    "@syms x,y\n",
    "\n",
    "# ou @vars ou x,y = Sym(\"x,y\")"
   ]
  },
  {
   "cell_type": "code",
   "execution_count": 4,
   "metadata": {
    "collapsed": false,
    "scrolled": true
   },
   "outputs": [
    {
     "data": {
      "text/latex": [
       "$$x y - x + y$$"
      ],
      "text/plain": [
       "x*y - x + y"
      ]
     },
     "execution_count": 4,
     "metadata": {},
     "output_type": "execute_result"
    }
   ],
   "source": [
    "fxy = x*y - x + y"
   ]
  },
  {
   "cell_type": "code",
   "execution_count": 5,
   "metadata": {
    "collapsed": false
   },
   "outputs": [
    {
     "data": {
      "text/latex": [
       "$$1$$"
      ],
      "text/plain": [
       "1"
      ]
     },
     "execution_count": 5,
     "metadata": {},
     "output_type": "execute_result"
    }
   ],
   "source": [
    "fxy(0,1)"
   ]
  },
  {
   "cell_type": "code",
   "execution_count": 6,
   "metadata": {
    "collapsed": false
   },
   "outputs": [
    {
     "data": {
      "text/latex": [
       "$$x^{3} + x y + y^{3}$$"
      ],
      "text/plain": [
       " 3          3\n",
       "x  + x*y + y "
      ]
     },
     "execution_count": 6,
     "metadata": {},
     "output_type": "execute_result"
    }
   ],
   "source": [
    "gxy = x^3 + y^3 + x*y"
   ]
  },
  {
   "cell_type": "markdown",
   "metadata": {
    "collapsed": true
   },
   "source": [
    "#### AS VARIAS FORMAS DE CALCULAR A FUNÇÃO SIMBÓLICA A PARTIR DE UM VETOR OU MATRIZ  "
   ]
  },
  {
   "cell_type": "markdown",
   "metadata": {},
   "source": [
    "* ** Usando o comando map **\n",
    "\n",
    "O comando map funciona como um laço for."
   ]
  },
  {
   "cell_type": "code",
   "execution_count": 279,
   "metadata": {
    "collapsed": false
   },
   "outputs": [
    {
     "data": {
      "text/plain": [
       "(x,)"
      ]
     },
     "execution_count": 279,
     "metadata": {},
     "output_type": "execute_result"
    }
   ],
   "source": [
    "using SymPy\n",
    "\n",
    "@syms x # ou @syms ou x = Sym(\"x\")"
   ]
  },
  {
   "cell_type": "code",
   "execution_count": 280,
   "metadata": {
    "collapsed": false
   },
   "outputs": [
    {
     "data": {
      "text/latex": [
       "$$\\frac{\\sqrt{2 x + \\cos^{3}{\\left (x \\right )}}}{\\sin{\\left (x^{2} + 1 \\right )}}$$"
      ],
      "text/plain": [
       "   _______________\n",
       "  ╱          3    \n",
       "╲╱  2⋅x + cos (x) \n",
       "──────────────────\n",
       "      ⎛ 2    ⎞    \n",
       "   sin⎝x  + 1⎠    "
      ]
     },
     "execution_count": 280,
     "metadata": {},
     "output_type": "execute_result"
    }
   ],
   "source": [
    "fsm = sqrt(2*x + cos(x)^3)/sin(x^2+1)"
   ]
  },
  {
   "cell_type": "code",
   "execution_count": 270,
   "metadata": {
    "collapsed": false,
    "scrolled": true
   },
   "outputs": [
    {
     "data": {
      "text/plain": [
       "4-element Array{Float64,1}:\n",
       "  1.1884 \n",
       "  1.61545\n",
       " -2.0668 \n",
       " -4.12246"
      ]
     },
     "execution_count": 270,
     "metadata": {},
     "output_type": "execute_result"
    }
   ],
   "source": [
    "x = 0:3\n",
    "\n",
    "float(map(fsm,x)) # float() escreve o resultado na forma numérica"
   ]
  },
  {
   "cell_type": "code",
   "execution_count": 271,
   "metadata": {
    "collapsed": false
   },
   "outputs": [
    {
     "data": {
      "text/plain": [
       "-3.3854136841642637"
      ]
     },
     "execution_count": 271,
     "metadata": {},
     "output_type": "execute_result"
    }
   ],
   "source": [
    "# utilizando uma função simbolica para calcular os valores de 0 a 2*pi somar os resultados\n",
    "\n",
    "float(mapreduce(fsm, +, 0:3))"
   ]
  },
  {
   "cell_type": "markdown",
   "metadata": {},
   "source": [
    "* ** Usando o comando Eval **"
   ]
  },
  {
   "cell_type": "code",
   "execution_count": null,
   "metadata": {
    "collapsed": true
   },
   "outputs": [],
   "source": [
    "using SymPy\n",
    "\n",
    "@syms x # ou @syms ou x = Sym(\"x\")"
   ]
  },
  {
   "cell_type": "code",
   "execution_count": 281,
   "metadata": {
    "collapsed": false
   },
   "outputs": [
    {
     "data": {
      "text/latex": [
       "$$\\frac{\\sqrt{2 x + \\cos^{3}{\\left (x \\right )}}}{\\sin{\\left (x^{2} + 1 \\right )}}$$"
      ],
      "text/plain": [
       "   _______________\n",
       "  ╱          3    \n",
       "╲╱  2⋅x + cos (x) \n",
       "──────────────────\n",
       "      ⎛ 2    ⎞    \n",
       "   sin⎝x  + 1⎠    "
      ]
     },
     "execution_count": 281,
     "metadata": {},
     "output_type": "execute_result"
    }
   ],
   "source": [
    "# O ponto \".\" serve para calcular elemento-elemento em um vetor\n",
    "\n",
    "fsev = sqrt(2.*x + cos(x).^3)./sin(x.^2+1)"
   ]
  },
  {
   "cell_type": "code",
   "execution_count": 282,
   "metadata": {
    "collapsed": false,
    "scrolled": true
   },
   "outputs": [
    {
     "data": {
      "text/latex": [
       "$$\\frac{\\sqrt{2 x + \\cos^{3}{\\left (x \\right )}}}{\\sin{\\left (x^{2} + 1 \\right )}}$$"
      ],
      "text/plain": [
       "   _______________\n",
       "  ╱          3    \n",
       "╲╱  2⋅x + cos (x) \n",
       "──────────────────\n",
       "      ⎛ 2    ⎞    \n",
       "   sin⎝x  + 1⎠    "
      ]
     },
     "execution_count": 282,
     "metadata": {},
     "output_type": "execute_result"
    }
   ],
   "source": [
    "x = 1:3\n",
    "\n",
    "SymPy.eval(fsev)"
   ]
  },
  {
   "cell_type": "markdown",
   "metadata": {},
   "source": [
    "* ** Função direta **\n",
    "\n",
    "uma vez vinculado uma variável a um vetor, qualquer função definida com esta variável será automaticamente avaliada. E uma vez avaliado, não permite novas avaliações."
   ]
  },
  {
   "cell_type": "code",
   "execution_count": 273,
   "metadata": {
    "collapsed": false,
    "scrolled": true
   },
   "outputs": [
    {
     "data": {
      "text/plain": [
       "(x,)"
      ]
     },
     "execution_count": 273,
     "metadata": {},
     "output_type": "execute_result"
    }
   ],
   "source": [
    "using SymPy\n",
    "\n",
    "@syms x"
   ]
  },
  {
   "cell_type": "code",
   "execution_count": 274,
   "metadata": {
    "collapsed": false,
    "scrolled": false
   },
   "outputs": [
    {
     "data": {
      "text/plain": [
       "3-element Array{Float64,1}:\n",
       "  1.61545\n",
       " -2.0668 \n",
       " -4.12246"
      ]
     },
     "execution_count": 274,
     "metadata": {},
     "output_type": "execute_result"
    }
   ],
   "source": [
    "# O ponto \".\" serve para calcular elemento-elemento em um vetor\n",
    "\n",
    "x = 1:3\n",
    "\n",
    "fsd = sqrt(2.*x + cos(x).^3)./sin(x.^2+1)"
   ]
  },
  {
   "cell_type": "code",
   "execution_count": 275,
   "metadata": {
    "collapsed": false,
    "scrolled": true
   },
   "outputs": [
    {
     "ename": "LoadError",
     "evalue": "LoadError: MethodError: `call` has no method matching call(::Array{Float64,1}, ::Int64)\nClosest candidates are:\n  BoundsError()\n  BoundsError(!Matched::Any...)\n  DivideError()\n  ...\nwhile loading In[275], in expression starting on line 3",
     "output_type": "error",
     "traceback": [
      "LoadError: MethodError: `call` has no method matching call(::Array{Float64,1}, ::Int64)\nClosest candidates are:\n  BoundsError()\n  BoundsError(!Matched::Any...)\n  DivideError()\n  ...\nwhile loading In[275], in expression starting on line 3",
      ""
     ]
    }
   ],
   "source": [
    "# se fizer fsimd(2), ocorre erro\n",
    "\n",
    "fsd(2)"
   ]
  },
  {
   "cell_type": "markdown",
   "metadata": {},
   "source": [
    "** List Compreehension**"
   ]
  },
  {
   "cell_type": "code",
   "execution_count": 276,
   "metadata": {
    "collapsed": false
   },
   "outputs": [
    {
     "data": {
      "text/plain": [
       "(x,)"
      ]
     },
     "execution_count": 276,
     "metadata": {},
     "output_type": "execute_result"
    }
   ],
   "source": [
    "using SymPy\n",
    "@syms x"
   ]
  },
  {
   "cell_type": "code",
   "execution_count": 277,
   "metadata": {
    "collapsed": false
   },
   "outputs": [
    {
     "data": {
      "text/latex": [
       "$$\\frac{\\sqrt{2 x + \\cos^{3}{\\left (x \\right )}}}{\\sin{\\left (x^{2} + 1 \\right )}}$$"
      ],
      "text/plain": [
       "   _______________\n",
       "  ╱          3    \n",
       "╲╱  2⋅x + cos (x) \n",
       "──────────────────\n",
       "      ⎛ 2    ⎞    \n",
       "   sin⎝x  + 1⎠    "
      ]
     },
     "execution_count": 277,
     "metadata": {},
     "output_type": "execute_result"
    }
   ],
   "source": [
    "fslc = sqrt(2*x + cos(x)^3)/sin(x^2+1)"
   ]
  },
  {
   "cell_type": "code",
   "execution_count": 278,
   "metadata": {
    "collapsed": false
   },
   "outputs": [
    {
     "data": {
      "text/plain": [
       "3-element Array{Any,1}:\n",
       "  1.61545\n",
       " -2.0668 \n",
       " -4.12246"
      ]
     },
     "execution_count": 278,
     "metadata": {},
     "output_type": "execute_result"
    }
   ],
   "source": [
    "[float(fslc(i)) for i in 1:3]"
   ]
  },
  {
   "cell_type": "markdown",
   "metadata": {},
   "source": []
  },
  {
   "cell_type": "markdown",
   "metadata": {},
   "source": [
    "### FUNÇÕES GENÉRICAS \n",
    "\n",
    "As funções genéricas são funções da mesma qualidade das funções declaradas como **function**. Permitem o uso de variáveis simbolicas definidas pelo **SymPy**. Usam a seguinte sintaxe:\n",
    "```julia\n",
    "nome_funcao(variável ou variáveis) = expressão_variavel\n",
    "```\n",
    "\n",
    "Sendo a \"expressão_variavel\" uma expressão em função de uma ou mais variáveis."
   ]
  },
  {
   "cell_type": "code",
   "execution_count": 38,
   "metadata": {
    "collapsed": true
   },
   "outputs": [],
   "source": [
    "# resetar todas as variáveis\n",
    "\n",
    "workspace()"
   ]
  },
  {
   "cell_type": "code",
   "execution_count": 283,
   "metadata": {
    "collapsed": false,
    "scrolled": true
   },
   "outputs": [
    {
     "data": {
      "text/plain": [
       "F (generic function with 1 method)"
      ]
     },
     "execution_count": 283,
     "metadata": {},
     "output_type": "execute_result"
    }
   ],
   "source": [
    "# criando a função genérica F(x)\n",
    "\n",
    "F(x) = x^2 + 2*x + 1"
   ]
  },
  {
   "cell_type": "code",
   "execution_count": 284,
   "metadata": {
    "collapsed": false
   },
   "outputs": [
    {
     "data": {
      "text/plain": [
       "G (generic function with 1 method)"
      ]
     },
     "execution_count": 284,
     "metadata": {},
     "output_type": "execute_result"
    }
   ],
   "source": [
    "# criando a função genérica G(x)\n",
    "\n",
    "G(x) = x^3 + 2*x^2 + x + 1"
   ]
  },
  {
   "cell_type": "code",
   "execution_count": 285,
   "metadata": {
    "collapsed": false
   },
   "outputs": [
    {
     "data": {
      "text/plain": [
       "H (generic function with 1 method)"
      ]
     },
     "execution_count": 285,
     "metadata": {},
     "output_type": "execute_result"
    }
   ],
   "source": [
    "# criando a função genérica H(r,s)\n",
    "\n",
    "H(r,s) = r*s + r + s"
   ]
  },
  {
   "cell_type": "code",
   "execution_count": 286,
   "metadata": {
    "collapsed": false,
    "scrolled": true
   },
   "outputs": [
    {
     "data": {
      "text/plain": [
       "(Function,Function,Function)"
      ]
     },
     "execution_count": 286,
     "metadata": {},
     "output_type": "execute_result"
    }
   ],
   "source": [
    "# verificando o tipo de dado da funções criadas: tipo função\n",
    "\n",
    "typeof(F), typeof(G), typeof(H)"
   ]
  },
  {
   "cell_type": "code",
   "execution_count": 287,
   "metadata": {
    "collapsed": false
   },
   "outputs": [
    {
     "name": "stdout",
     "output_type": "stream",
     "text": [
      "                          Base  29014 KB     Module\n",
      "                       BinDeps    214 KB     Module\n",
      "                    ColorTypes    257 KB     Module\n",
      "                        Colors    589 KB     Module\n",
      "                        Compat    113 KB     Module\n",
      "                         Conda     60 KB     Module\n",
      "                          Core   5364 KB     Module\n",
      "                             F    468 bytes  Function\n",
      "             FixedPointNumbers     33 KB     Module\n",
      "               FixedSizeArrays    131 KB     Module\n",
      "                             G    480 bytes  Function\n",
      "                             H    487 bytes  Function\n",
      "                        IJulia    546 KB     Module\n",
      "                IPythonDisplay     44 KB     Module\n",
      "                          JSON    212 KB     Module\n",
      "                    MacroTools    168 KB     Module\n",
      "                          Main  38687 KB     Module\n",
      "                        Nettle     60 KB     Module\n",
      "                         Plots   1605 KB     Module\n",
      "                        PyCall    515 KB     Module\n",
      "                      Reexport   3738 bytes  Module\n",
      "                      Requires     34 KB     Module\n",
      "                           SHA     52 KB     Module\n",
      "                         SymPy   2763 KB     Module\n",
      "                     URIParser     98 KB     Module\n",
      "                           ZMQ     82 KB     Module\n",
      "                             c      8 bytes  Int64\n",
      "                             f     16 bytes  SymPy.Sym\n",
      "                           fa2    256 bytes  Function\n",
      "                          fand    299 bytes  Function\n",
      "                         fanev    299 bytes  Function\n",
      "                          fanm    295 bytes  Function\n",
      "                          fanx    295 bytes  Function\n",
      "                           fgV   1739 bytes  Function\n",
      "                           fgd   1739 bytes  Function\n",
      "                          fgev   1739 bytes  Function\n",
      "                           fgm   1658 bytes  Function\n",
      "                           fgv   1658 bytes  Function\n",
      "                           fsd     24 bytes  3-element Array{Float64,1}\n",
      "                          fsev     16 bytes  SymPy.Sym\n",
      "                         fsiev     32 bytes  4-element Array{Float64,1}\n",
      "                         fsilc     16 bytes  SymPy.Sym\n",
      "                         fsimd     24 bytes  3-element Array{Float64,1}\n",
      "                         fsimv     16 bytes  SymPy.Sym\n",
      "                          fslc     16 bytes  SymPy.Sym\n",
      "                           fsm     16 bytes  SymPy.Sym\n",
      "                         funan    299 bytes  Function\n",
      "                             t     16 bytes  SymPy.Sym\n",
      "                             u     16 bytes  SymPy.Sym\n",
      "                             w     16 bytes  3-element UnitRange{Int64}\n",
      "                             x     16 bytes  3-element UnitRange{Int64}\n"
     ]
    }
   ],
   "source": [
    "# verificando o tipo de dado das variáveis criadas\n",
    "# observe que F,G e H são do tipo function\n",
    "\n",
    "whos()"
   ]
  },
  {
   "cell_type": "code",
   "execution_count": 288,
   "metadata": {
    "collapsed": false
   },
   "outputs": [
    {
     "data": {
      "text/plain": [
       "9"
      ]
     },
     "metadata": {},
     "output_type": "display_data"
    },
    {
     "data": {
      "text/plain": [
       "17.152789708268944"
      ]
     },
     "metadata": {},
     "output_type": "display_data"
    },
    {
     "data": {
      "text/plain": [
       "19"
      ]
     },
     "metadata": {},
     "output_type": "display_data"
    },
    {
     "data": {
      "text/plain": [
       "1"
      ]
     },
     "metadata": {},
     "output_type": "display_data"
    },
    {
     "data": {
      "text/plain": [
       "7.283185307179586"
      ]
     },
     "metadata": {},
     "output_type": "display_data"
    }
   ],
   "source": [
    "# testando as funções genéricas criadas passando um valor\n",
    "\n",
    "display(F(2))\n",
    "\n",
    "display(F(pi))\n",
    "\n",
    "display(G(2))\n",
    "\n",
    "display(H(0,1))\n",
    "\n",
    "display(H(1,pi));"
   ]
  },
  {
   "cell_type": "markdown",
   "metadata": {},
   "source": [
    "** Obs: Não é possível operar funções genéricas indefinidas, ou seja, sem um valor especificado. Só é possível se x for simbólico definido pelo SymPy. O calculo abaixo ocorrerá erro**"
   ]
  },
  {
   "cell_type": "code",
   "execution_count": 289,
   "metadata": {
    "collapsed": false
   },
   "outputs": [
    {
     "ename": "LoadError",
     "evalue": "LoadError: MethodError: `*` has no method matching *(::UnitRange{Int64}, ::UnitRange{Int64})\nClosest candidates are:\n  *(::Any, ::Any, !Matched::Any, !Matched::Any...)\n  *{T}(!Matched::Bidiagonal{T}, ::AbstractArray{T,1})\n  *(!Matched::Number, ::AbstractArray{T,N})\n  ...\nwhile loading In[289], in expression starting on line 1",
     "output_type": "error",
     "traceback": [
      "LoadError: MethodError: `*` has no method matching *(::UnitRange{Int64}, ::UnitRange{Int64})\nClosest candidates are:\n  *(::Any, ::Any, !Matched::Any, !Matched::Any...)\n  *{T}(!Matched::Bidiagonal{T}, ::AbstractArray{T,1})\n  *(!Matched::Number, ::AbstractArray{T,N})\n  ...\nwhile loading In[289], in expression starting on line 1",
      "",
      " in power_by_squaring at intfuncs.jl:80",
      " in F at In[283]:3"
     ]
    }
   ],
   "source": [
    "F(x) + G(x), F + G"
   ]
  },
  {
   "cell_type": "code",
   "execution_count": 291,
   "metadata": {
    "collapsed": false
   },
   "outputs": [
    {
     "data": {
      "text/plain": [
       "58"
      ]
     },
     "execution_count": 291,
     "metadata": {},
     "output_type": "execute_result"
    }
   ],
   "source": [
    "# O calculo agora é possível em devido o valor passado\n",
    "\n",
    "F(2) + G(3)"
   ]
  },
  {
   "cell_type": "markdown",
   "metadata": {},
   "source": [
    "#### EXEMPLO DE FUNÇÃO DE DUAS VARIÁVEIS DEFINIDA "
   ]
  },
  {
   "cell_type": "code",
   "execution_count": 292,
   "metadata": {
    "collapsed": false
   },
   "outputs": [
    {
     "data": {
      "text/plain": [
       "F (generic function with 2 methods)"
      ]
     },
     "execution_count": 292,
     "metadata": {},
     "output_type": "execute_result"
    }
   ],
   "source": [
    "F(x,y) = 9*x*y - 2*x + y"
   ]
  },
  {
   "cell_type": "code",
   "execution_count": 293,
   "metadata": {
    "collapsed": false,
    "scrolled": false
   },
   "outputs": [
    {
     "data": {
      "text/plain": [
       "55.690260418206066"
      ]
     },
     "execution_count": 293,
     "metadata": {},
     "output_type": "execute_result"
    }
   ],
   "source": [
    "F(2,pi)"
   ]
  },
  {
   "cell_type": "markdown",
   "metadata": {},
   "source": [
    "#### TRANSFORMANDO UMA STRING EM UMA FUNÇÃO GENÉRICA \n",
    "\n",
    "É possível transformar um texto de uma função em uma função genérica manipulável"
   ]
  },
  {
   "cell_type": "code",
   "execution_count": 296,
   "metadata": {
    "collapsed": false,
    "scrolled": true
   },
   "outputs": [
    {
     "data": {
      "text/plain": [
       "fgs (generic function with 1 method)"
      ]
     },
     "execution_count": 296,
     "metadata": {},
     "output_type": "execute_result"
    }
   ],
   "source": [
    "# \"x^2-2*x-1\" é uma string\n",
    "\n",
    "@eval fgs(x) = $(parse(\"x^2-2*x-1\"))"
   ]
  },
  {
   "cell_type": "code",
   "execution_count": 297,
   "metadata": {
    "collapsed": false
   },
   "outputs": [
    {
     "data": {
      "text/plain": [
       "-1"
      ]
     },
     "execution_count": 297,
     "metadata": {},
     "output_type": "execute_result"
    }
   ],
   "source": [
    "fgs(0)"
   ]
  },
  {
   "cell_type": "markdown",
   "metadata": {},
   "source": [
    "#### FUNÇÃO GENÉRICA DO TIPO FUNCTION "
   ]
  },
  {
   "cell_type": "code",
   "execution_count": 30,
   "metadata": {
    "collapsed": false
   },
   "outputs": [
    {
     "data": {
      "text/plain": [
       "metbissec (generic function with 2 methods)"
      ]
     },
     "execution_count": 30,
     "metadata": {},
     "output_type": "execute_result"
    }
   ],
   "source": [
    "\"\"\"\n",
    "Metodo da Bisseccao\n",
    "\n",
    "Calcula uma aproximação para uma raiz da função de f(x)\n",
    "\n",
    "Entre os intervalo [ao,bo] e a tolerencia de erro daddo por tol.\n",
    "\n",
    "ex metbissec(\"x^2 - 2*x - 8\",-5,5,0.000001)\n",
    "\n",
    "adaptado de http://goo.gl/pQNh6z \n",
    "\"\"\"\n",
    "\n",
    "function metbissec(funcao, a, b, tol = 0.00001)\n",
    "    \n",
    "println(\"f(x) = \",funcao)\n",
    "println()\n",
    "    \n",
    "@eval g(x) = $(parse(funcao)) # transforma a string em uma formula manipulável\n",
    "   \n",
    "iteracao = 0\n",
    "    \n",
    "    while b - a >= tol\n",
    "        \n",
    "    medio = (a + b)/2.0\n",
    "        \n",
    "        println(\"interação: \", iteracao , \" : \", medio, \", valor função: \",g(medio))\n",
    "        \n",
    "        if g(medio)*g(a) > 0.0\n",
    "            a = medio            \n",
    "        else\n",
    "            b = medio            \n",
    "        end\n",
    "        iteracao += 1\n",
    "end\n",
    "    medio = (a + b)/2.0\n",
    "    println(\"interação: \", iteracao , \" : \", medio, \", valor função: \",g(medio))\n",
    "    \n",
    "return medio\n",
    "    \n",
    "end"
   ]
  },
  {
   "cell_type": "code",
   "execution_count": 31,
   "metadata": {
    "collapsed": false,
    "scrolled": false
   },
   "outputs": [
    {
     "name": "stdout",
     "output_type": "stream",
     "text": [
      "f(x) = x^2-4\n",
      "\n",
      "interação: 0 : 2.0, valor função: 0.0\n",
      "interação: 1 : 1.75, valor função: -0.9375\n",
      "interação: 2 : 1.875, valor função: -0.484375\n",
      "interação: 3 : 1.9375, valor função: -0.24609375\n",
      "interação: 4 : 1.96875, valor função: -0.1240234375\n",
      "interação: 5 : 1.984375, valor função: -0.062255859375\n",
      "interação: 6 : 1.9921875, valor função: -0.03118896484375\n",
      "interação: 7 : 1.99609375, valor função: -0.0156097412109375\n",
      "interação: 8 : 1.998046875, valor função: -0.007808685302734375\n",
      "interação: 9 : 1.9990234375, valor função: -0.0039052963256835938\n",
      "interação: 10 : 1.99951171875, valor função: -0.0019528865814208984\n",
      "  0.157479 seconds (72.92 k allocations: 3.607 MB)\n"
     ]
    },
    {
     "data": {
      "text/plain": [
       "1.99951171875"
      ]
     },
     "execution_count": 31,
     "metadata": {},
     "output_type": "execute_result"
    }
   ],
   "source": [
    "# a função é passada na forma de string, pois sem as aspas, julia entente que o \"x\" é uma variável\n",
    "\n",
    "@time metbissec(\"x^2-4\",1.5,2.5,0.001)"
   ]
  },
  {
   "cell_type": "markdown",
   "metadata": {},
   "source": [
    "O texto de ajuda entre aspas pode ser acessado pelo comando help (?comando) "
   ]
  },
  {
   "cell_type": "code",
   "execution_count": 32,
   "metadata": {
    "collapsed": false
   },
   "outputs": [
    {
     "name": "stdout",
     "output_type": "stream",
     "text": [
      "search: metbissec\n",
      "\n"
     ]
    },
    {
     "data": {
      "text/latex": [
       "Metodo da Bisseccao\n",
       "Calcula uma aproximação para uma raiz da função de f(x)\n",
       "Entre os intervalo [ao,bo] e a tolerencia de erro daddo por tol.\n",
       "ex metbissec(\"x\\^{}2 - 2*x - 8\",-5,5,0.000001)\n",
       "adaptado de http://goo.gl/pQNh6z \n"
      ],
      "text/markdown": [
       "Metodo da Bisseccao\n",
       "\n",
       "Calcula uma aproximação para uma raiz da função de f(x)\n",
       "\n",
       "Entre os intervalo [ao,bo] e a tolerencia de erro daddo por tol.\n",
       "\n",
       "ex metbissec(\"x^2 - 2*x - 8\",-5,5,0.000001)\n",
       "\n",
       "adaptado de http://goo.gl/pQNh6z \n"
      ],
      "text/plain": [
       "Metodo da Bisseccao\n",
       "\n",
       "Calcula uma aproximação para uma raiz da função de f(x)\n",
       "\n",
       "Entre os intervalo [ao,bo] e a tolerencia de erro daddo por tol.\n",
       "\n",
       "ex metbissec(\"x^2 - 2*x - 8\",-5,5,0.000001)\n",
       "\n",
       "adaptado de http://goo.gl/pQNh6z \n"
      ]
     },
     "execution_count": 32,
     "metadata": {},
     "output_type": "execute_result"
    }
   ],
   "source": [
    "? metbissec"
   ]
  },
  {
   "cell_type": "markdown",
   "metadata": {},
   "source": [
    "#### IMPORTANDO UMA FUNÇÃO NO FORMATO DE ARQUIVO "
   ]
  },
  {
   "cell_type": "code",
   "execution_count": 33,
   "metadata": {
    "collapsed": false,
    "scrolled": true
   },
   "outputs": [
    {
     "data": {
      "text/plain": [
       "fmetbissec (generic function with 2 methods)"
      ]
     },
     "execution_count": 33,
     "metadata": {},
     "output_type": "execute_result"
    }
   ],
   "source": [
    "# É interessante salvar o arquivo da função com o mesmo nome da função\n",
    "\n",
    "include(\"fmetbissec.jl\")"
   ]
  },
  {
   "cell_type": "code",
   "execution_count": 34,
   "metadata": {
    "collapsed": false,
    "scrolled": true
   },
   "outputs": [
    {
     "name": "stdout",
     "output_type": "stream",
     "text": [
      "search: fmetbissec\n",
      "\n"
     ]
    },
    {
     "data": {
      "text/latex": [
       "Metodo da Bisseccao\n",
       "Calcula uma aproximação para uma raiz da função de f(x)\n",
       "Entre os intervalo [ao,bo] e a tolerencia de erro daddo por tol.\n",
       "ex metbissec(\"x\\^{}2 - 2*x - 8\",-5,5,0.000001)\n",
       "adaptado de http://goo.gl/pQNh6z\n"
      ],
      "text/markdown": [
       "Metodo da Bisseccao\n",
       "\n",
       "Calcula uma aproximação para uma raiz da função de f(x)\n",
       "\n",
       "Entre os intervalo [ao,bo] e a tolerencia de erro daddo por tol.\n",
       "\n",
       "ex metbissec(\"x^2 - 2*x - 8\",-5,5,0.000001)\n",
       "\n",
       "adaptado de http://goo.gl/pQNh6z\n"
      ],
      "text/plain": [
       "Metodo da Bisseccao\n",
       "\n",
       "Calcula uma aproximação para uma raiz da função de f(x)\n",
       "\n",
       "Entre os intervalo [ao,bo] e a tolerencia de erro daddo por tol.\n",
       "\n",
       "ex metbissec(\"x^2 - 2*x - 8\",-5,5,0.000001)\n",
       "\n",
       "adaptado de http://goo.gl/pQNh6z\n"
      ]
     },
     "execution_count": 34,
     "metadata": {},
     "output_type": "execute_result"
    }
   ],
   "source": [
    "?fmetbissec"
   ]
  },
  {
   "cell_type": "code",
   "execution_count": 35,
   "metadata": {
    "collapsed": false
   },
   "outputs": [
    {
     "name": "stdout",
     "output_type": "stream",
     "text": [
      "f(x) = x^2 - 2*x\n",
      "\n",
      "interação: 0 : 2.0, valor função: 0.0\n",
      "interação: 1 : 1.75, valor função: -0.9375\n",
      "interação: 2 : 1.875, valor função: -0.484375\n",
      "interação: 3 : 1.9375, valor função: -0.24609375\n",
      "interação: 4 : 1.96875, valor função: -0.1240234375\n",
      "interação: 5 : 1.984375, valor função: -0.062255859375\n",
      "interação: 6 : 1.9921875, valor função: -0.03118896484375\n",
      "interação: 7 : 1.99609375, valor função: -0.0156097412109375\n",
      "interação: 8 : 1.998046875, valor função: -0.007808685302734375\n",
      "interação: 9 : 1.9990234375, valor função: -0.0039052963256835938\n",
      "interação: 10 : 1.99951171875, valor função: -0.0019528865814208984\n",
      "  0.016523 seconds (9.17 k allocations: 433.021 KB)\n"
     ]
    },
    {
     "data": {
      "text/plain": [
       "1.99951171875"
      ]
     },
     "execution_count": 35,
     "metadata": {},
     "output_type": "execute_result"
    }
   ],
   "source": [
    "@time fmetbissec(\"x^2 - 2*x\",1.5,2.5,0.001)"
   ]
  },
  {
   "cell_type": "markdown",
   "metadata": {},
   "source": [
    "** Função Fibonacci**\n",
    "\n",
    "A Sequência de Fibonacci consiste em uma sucessão de números inteiros, de tal forma que, partindo dos dois primeiros números da sequência 0 e 1, os números posteriores serão obtidos por meio da soma dos seus dois antecessores. Dessa forma, teremos a sequencia: \n",
    "\n",
    "Termo:0, 1, 2, 3, 4, 5, 6, 7 ,  8 ,   9 ,  10,  11,  12 ,  13 ,...\n",
    "\n",
    "Valor_:0, 1, 1, 2, 3, 5, 8, 13, 21, 34, 55, 89, 144, 233,...\n",
    "\n",
    "A função abaixo utiliza a forma recursiva de Fibonacci para encontrar os termos da sequencia. A forma recursiva é utilizada em testes de Benchmark para testar a velocidade de processamento de uma linguagem de programação, de tal forma que quanto menor o tempo para calcular um termo, melhor o desempenho da linguagem neste procedimento. \n",
    "\n",
    "Comparação com outras linguagens utilizando mesmo algoritmo para encontrar o 35 termo:\n",
    "    <table style=\"width: 674px; height: 54px;\" border=\"1\">\n",
    "      <tbody>\n",
    "        <tr>\n",
    "          <td style=\"width: 81.697px;\">Julia:</td>\n",
    "          <td style=\"width: 98.067px;\">Octave</td>\n",
    "          <td style=\"width: 125.067px;\">SageMath</td>\n",
    "          <td style=\"width: 99.5px;\">Scilab</td>\n",
    "          <td style=\"width: 175.6px;\">Maxima</td>\n",
    "          <td style=\"width: 170.7px;\">MatLab</td>\n",
    "        </tr>\n",
    "        <tr>\n",
    "          <td><br>\n",
    "          </td>\n",
    "          <td><br>\n",
    "          </td>\n",
    "          <td><br>\n",
    "          </td>\n",
    "          <td><br>\n",
    "          </td>\n",
    "          <td><br>\n",
    "          </td>\n",
    "          <td><br>\n",
    "          </td>\n",
    "        </tr>\n",
    "      </tbody>\n",
    "    </table>\n",
    " "
   ]
  },
  {
   "cell_type": "code",
   "execution_count": 49,
   "metadata": {
    "collapsed": false
   },
   "outputs": [
    {
     "data": {
      "text/plain": [
       "fiboR (generic function with 1 method)"
      ]
     },
     "execution_count": 49,
     "metadata": {},
     "output_type": "execute_result"
    }
   ],
   "source": [
    "function fiboR(n) \n",
    "    if n < 2 \n",
    "        return n\n",
    "    else\n",
    "        fiboR(n-1) + fiboR(n-2)\n",
    "    end\n",
    "end"
   ]
  },
  {
   "cell_type": "code",
   "execution_count": 50,
   "metadata": {
    "collapsed": false
   },
   "outputs": [
    {
     "name": "stdout",
     "output_type": "stream",
     "text": [
      "  0.122354 seconds (699 allocations: 37.609 KB)\n"
     ]
    },
    {
     "data": {
      "text/plain": [
       "9227465"
      ]
     },
     "execution_count": 50,
     "metadata": {},
     "output_type": "execute_result"
    }
   ],
   "source": [
    "@time fiboR(35)"
   ]
  },
  {
   "cell_type": "code",
   "execution_count": 51,
   "metadata": {
    "collapsed": false,
    "scrolled": true
   },
   "outputs": [
    {
     "data": {
      "text/plain": [
       "ffiboR_JL (generic function with 1 method)"
      ]
     },
     "execution_count": 51,
     "metadata": {},
     "output_type": "execute_result"
    }
   ],
   "source": [
    "include(\"ffiboR_JL.jl\")"
   ]
  },
  {
   "cell_type": "code",
   "execution_count": 52,
   "metadata": {
    "collapsed": false
   },
   "outputs": [
    {
     "name": "stdout",
     "output_type": "stream",
     "text": [
      "search: ffiboR_JL\n",
      "\n"
     ]
    },
    {
     "data": {
      "text/latex": [
       "Função calcula serie de fibonacci\n",
       "ffiboR\\_JL(valor)\n"
      ],
      "text/markdown": [
       "Função calcula serie de fibonacci\n",
       "\n",
       "ffiboR_JL(valor)\n"
      ],
      "text/plain": [
       "Função calcula serie de fibonacci\n",
       "\n",
       "ffiboR_JL(valor)\n"
      ]
     },
     "execution_count": 52,
     "metadata": {},
     "output_type": "execute_result"
    }
   ],
   "source": [
    "? ffiboR_JL"
   ]
  },
  {
   "cell_type": "code",
   "execution_count": 53,
   "metadata": {
    "collapsed": false,
    "scrolled": false
   },
   "outputs": [
    {
     "name": "stdout",
     "output_type": "stream",
     "text": [
      "  1.125254 seconds (697 allocations: 37.835 KB)\n"
     ]
    },
    {
     "data": {
      "text/plain": [
       "102334155"
      ]
     },
     "execution_count": 53,
     "metadata": {},
     "output_type": "execute_result"
    }
   ],
   "source": [
    "@time ffiboR_JL(40)"
   ]
  },
  {
   "cell_type": "markdown",
   "metadata": {},
   "source": [
    "#### FORMA \"JULITRONICA\" DE CRIAR IF...ELSE...END PARA UMA FUNÇÃO NA FORMA: \n",
    "\n",
    "$~\n",
    "f(x) = \\begin{cases}\n",
    "\\cos(x) & x \\geq 0\\\\\n",
    "1 - e^{-1/x^2} & \\text{x < 0}.\n",
    "\\end{cases}\n",
    "~$"
   ]
  },
  {
   "cell_type": "code",
   "execution_count": 54,
   "metadata": {
    "collapsed": false
   },
   "outputs": [
    {
     "data": {
      "text/plain": [
       "g (generic function with 1 method)"
      ]
     },
     "execution_count": 54,
     "metadata": {},
     "output_type": "execute_result"
    }
   ],
   "source": [
    "# função(variável)  = condiçao1 ? comandoA : senao comando B \n",
    "\n",
    "# Significa que: se condição \"1\" satisfeita, então comando A, senão comando B\n",
    "\n",
    "# no código abaixo, temos que:\n",
    "\n",
    "# se x>=0 então imprima o calculo de g = cos(x) = \",cos(x), senão imprima o cálculo de g = exp(-1/x^2) \n",
    "\n",
    "g(x) = x >= 0  ?  print(\"g = cos(x) = \",cos(x)) : print(\"g = exp(-1/x^2) = \",exp(-1/x^2))"
   ]
  },
  {
   "cell_type": "code",
   "execution_count": 55,
   "metadata": {
    "collapsed": false
   },
   "outputs": [
    {
     "name": "stdout",
     "output_type": "stream",
     "text": [
      "g = cos(x) = -0.4161468365471424"
     ]
    }
   ],
   "source": [
    "# passando um valor de x maior que 0\n",
    "\n",
    "g(2)"
   ]
  },
  {
   "cell_type": "code",
   "execution_count": 56,
   "metadata": {
    "collapsed": false
   },
   "outputs": [
    {
     "name": "stdout",
     "output_type": "stream",
     "text": [
      "g = exp(-1/x^2) = 0.36787944117144233"
     ]
    }
   ],
   "source": [
    "# passando um valor de x menor que 0\n",
    "\n",
    "g(-1)"
   ]
  },
  {
   "cell_type": "markdown",
   "metadata": {},
   "source": [
    "#### AS VARIAS FORMAS DE CALCULAR A FUNÇÃO A PARTIR DE UM VETOR OU MATRIZ ####"
   ]
  },
  {
   "cell_type": "markdown",
   "metadata": {},
   "source": [
    "* ** Usando o comando map **"
   ]
  },
  {
   "cell_type": "code",
   "execution_count": 258,
   "metadata": {
    "collapsed": false
   },
   "outputs": [
    {
     "data": {
      "text/plain": [
       "fgm (generic function with 1 method)"
      ]
     },
     "execution_count": 258,
     "metadata": {},
     "output_type": "execute_result"
    }
   ],
   "source": [
    "x = 0:3\n",
    "\n",
    "fgm(x) = sqrt(2*x + cos(x)^3)/sin(x^2+1)"
   ]
  },
  {
   "cell_type": "code",
   "execution_count": 260,
   "metadata": {
    "collapsed": false
   },
   "outputs": [
    {
     "data": {
      "text/plain": [
       "4-element Array{Float64,1}:\n",
       "  1.1884 \n",
       "  1.61545\n",
       " -2.0668 \n",
       " -4.12246"
      ]
     },
     "execution_count": 260,
     "metadata": {},
     "output_type": "execute_result"
    }
   ],
   "source": [
    "map(fgm,x)"
   ]
  },
  {
   "cell_type": "code",
   "execution_count": 261,
   "metadata": {
    "collapsed": false
   },
   "outputs": [
    {
     "data": {
      "text/plain": [
       "-3.3854136841642646"
      ]
     },
     "execution_count": 261,
     "metadata": {},
     "output_type": "execute_result"
    }
   ],
   "source": [
    "# utilizando uma função genérica para calcular os valores de 0 a 2*pi somar os resultados\n",
    "\n",
    "mapreduce(fgm, +, 0:3)"
   ]
  },
  {
   "cell_type": "markdown",
   "metadata": {},
   "source": [
    "* ** Comando eval **"
   ]
  },
  {
   "cell_type": "code",
   "execution_count": 298,
   "metadata": {
    "collapsed": false
   },
   "outputs": [
    {
     "data": {
      "text/plain": [
       "4-element Array{Float64,1}:\n",
       "  1.1884 \n",
       "  1.61545\n",
       " -2.0668 \n",
       " -4.12246"
      ]
     },
     "execution_count": 298,
     "metadata": {},
     "output_type": "execute_result"
    }
   ],
   "source": [
    "# O ponto \".\" serve para calcular elemento-elemento em um vetor\n",
    "\n",
    "x = 0:3\n",
    "\n",
    "fgev(x) = sqrt(2.*x + cos(x).^3)./sin(x.^2+1)\n",
    "\n",
    "eval(fgev(x))"
   ]
  },
  {
   "cell_type": "markdown",
   "metadata": {},
   "source": [
    "* ** Comando direto **"
   ]
  },
  {
   "cell_type": "code",
   "execution_count": 301,
   "metadata": {
    "collapsed": false
   },
   "outputs": [
    {
     "data": {
      "text/plain": [
       "4-element Array{Float64,1}:\n",
       "  1.1884 \n",
       "  1.61545\n",
       " -2.0668 \n",
       " -4.12246"
      ]
     },
     "execution_count": 301,
     "metadata": {},
     "output_type": "execute_result"
    }
   ],
   "source": [
    "# O ponto \".\" serve para calcular elemento-elemento em um vetor\n",
    "\n",
    "x = 0:3\n",
    "\n",
    "fgd(x) = sqrt(2.*x + cos(x).^3)./sin(x.^2+1)\n",
    "\n",
    "fgd(x)"
   ]
  },
  {
   "cell_type": "markdown",
   "metadata": {},
   "source": [
    "### FUNÇÕES ANÔNIMAS ###\n",
    "\n",
    "Funções anônimas - funções sem nome - são funções no qual não há nome para defini-las. Um bom exemplo são as funções **map()** e compreensões de lista. Não precisam usar o SymPy ou a forma de função genérica (funcao(variavel) = expressao). O uso principal para funções anônimas é passá-los para funções que assumem outras funções como argumentos. Em geral são mais lentas que as funções genéricas ou simbólicas. São escritas na forma:\n",
    "```julia\n",
    "variavel ->  expressao_variável\n",
    "```"
   ]
  },
  {
   "cell_type": "markdown",
   "metadata": {},
   "source": [
    "#### FUNÇÃO ANONIMA SEM ATRIBUIÇÃO DE UMA VARIÁVEL ####"
   ]
  },
  {
   "cell_type": "markdown",
   "metadata": {},
   "source": [
    "* ** Subistituindo por um valor** "
   ]
  },
  {
   "cell_type": "code",
   "execution_count": 236,
   "metadata": {
    "collapsed": false,
    "scrolled": true
   },
   "outputs": [
    {
     "data": {
      "text/plain": [
       "-1"
      ]
     },
     "execution_count": 236,
     "metadata": {},
     "output_type": "execute_result"
    }
   ],
   "source": [
    "(x -> x^3-2*x^2-1)(0)"
   ]
  },
  {
   "cell_type": "markdown",
   "metadata": {},
   "source": [
    "* ** Subistituindo por um vetor ou matriz **\n",
    "\n",
    "É necessário colocar o '.*'   e '.^' para efeturar a operação elemento por elemento do vetor"
   ]
  },
  {
   "cell_type": "code",
   "execution_count": 237,
   "metadata": {
    "collapsed": false,
    "scrolled": true
   },
   "outputs": [
    {
     "data": {
      "text/plain": [
       "3-element Array{Int64,1}:\n",
       " -2\n",
       " -1\n",
       "  8"
      ]
     },
     "execution_count": 237,
     "metadata": {},
     "output_type": "execute_result"
    }
   ],
   "source": [
    "(x -> x.^3 - 2.*x.^2 - 1)(1:3)"
   ]
  },
  {
   "cell_type": "code",
   "execution_count": 238,
   "metadata": {
    "collapsed": false,
    "scrolled": false
   },
   "outputs": [
    {
     "data": {
      "text/plain": [
       "2x3 Array{Int64,2}:\n",
       " -2  -1    8\n",
       " 31  74  143"
      ]
     },
     "execution_count": 238,
     "metadata": {},
     "output_type": "execute_result"
    }
   ],
   "source": [
    "(x -> x.^3-2.*x.^2-1)([1 2 3; 4 5 6])"
   ]
  },
  {
   "cell_type": "markdown",
   "metadata": {},
   "source": [
    "* ** Função de duas variáveis **\n",
    "\n",
    "É necessário colocar o '.*'   e '.^' para efeturar a operação elemento por elemento do vetor"
   ]
  },
  {
   "cell_type": "code",
   "execution_count": 239,
   "metadata": {
    "collapsed": false,
    "scrolled": false
   },
   "outputs": [
    {
     "data": {
      "text/plain": [
       "-1"
      ]
     },
     "execution_count": 239,
     "metadata": {},
     "output_type": "execute_result"
    }
   ],
   "source": [
    "((x,y)-> 2*y - 1 + x)(0,0)"
   ]
  },
  {
   "cell_type": "code",
   "execution_count": 240,
   "metadata": {
    "collapsed": false
   },
   "outputs": [
    {
     "data": {
      "text/plain": [
       "1x3 Array{Int64,2}:\n",
       " -1  2  9"
      ]
     },
     "execution_count": 240,
     "metadata": {},
     "output_type": "execute_result"
    }
   ],
   "source": [
    "((x,y)-> 2*y.^2 - 1 + x)([0 1 2],[0 1 2])"
   ]
  },
  {
   "cell_type": "markdown",
   "metadata": {},
   "source": [
    "#### FUNÇÃO ANONIMA COM ATRIBUIÇÃO DE UMA VARIÁVEL ####\n",
    "\n",
    "Sintaxe:\n",
    "```julia\n",
    "nome_funcao = var -> expressão\n",
    "```\n",
    "Não use a forma **funcao(variavel) = (funcao_anonima)**! Ocorre erro."
   ]
  },
  {
   "cell_type": "markdown",
   "metadata": {},
   "source": [
    "* ** Subistituindo por um valor **"
   ]
  },
  {
   "cell_type": "code",
   "execution_count": 66,
   "metadata": {
    "collapsed": false
   },
   "outputs": [
    {
     "data": {
      "text/plain": [
       "(anonymous function)"
      ]
     },
     "execution_count": 66,
     "metadata": {},
     "output_type": "execute_result"
    }
   ],
   "source": [
    "fa1 = (x -> x^3 - 2*x^2 - 1)"
   ]
  },
  {
   "cell_type": "code",
   "execution_count": 67,
   "metadata": {
    "collapsed": false,
    "scrolled": true
   },
   "outputs": [
    {
     "data": {
      "text/plain": [
       "-1"
      ]
     },
     "execution_count": 67,
     "metadata": {},
     "output_type": "execute_result"
    }
   ],
   "source": [
    "fa1(0)"
   ]
  },
  {
   "cell_type": "markdown",
   "metadata": {},
   "source": [
    "* ** Subistituindo por um vetor ou matriz **\n",
    "\n",
    "É necessário colocar o ' .* ' e ' .^ ' para efeturar a operação elemento por elemento do vetor\n"
   ]
  },
  {
   "cell_type": "code",
   "execution_count": 241,
   "metadata": {
    "collapsed": false,
    "scrolled": true
   },
   "outputs": [
    {
     "data": {
      "text/plain": [
       "(anonymous function)"
      ]
     },
     "execution_count": 241,
     "metadata": {},
     "output_type": "execute_result"
    }
   ],
   "source": [
    "fa2 = (x -> x.^3 - 2.*x.^2 - 1)"
   ]
  },
  {
   "cell_type": "code",
   "execution_count": 242,
   "metadata": {
    "collapsed": false
   },
   "outputs": [
    {
     "data": {
      "text/plain": [
       "(\n",
       "1x3 Array{Int64,2}:\n",
       " -2  -1  8,\n",
       "\n",
       "2x3 Array{Int64,2}:\n",
       " -2  -1    8\n",
       " 31  74  143)"
      ]
     },
     "execution_count": 242,
     "metadata": {},
     "output_type": "execute_result"
    }
   ],
   "source": [
    "fa2([1 2 3]) , fa2([1 2 3; 4 5 6])"
   ]
  },
  {
   "cell_type": "markdown",
   "metadata": {},
   "source": [
    "* **Função de duas variáveis **\n",
    "\n",
    "É necessário colocar o ' .* ' e ' .^ ' para efeturar a operação elemento por elemento do vetor"
   ]
  },
  {
   "cell_type": "code",
   "execution_count": 23,
   "metadata": {
    "collapsed": false
   },
   "outputs": [
    {
     "data": {
      "text/plain": [
       "(anonymous function)"
      ]
     },
     "execution_count": 23,
     "metadata": {},
     "output_type": "execute_result"
    }
   ],
   "source": [
    "faxy = ((x,y)-> 2.*y.^2 - 1 + x)"
   ]
  },
  {
   "cell_type": "code",
   "execution_count": 24,
   "metadata": {
    "collapsed": false
   },
   "outputs": [
    {
     "data": {
      "text/plain": [
       "-1"
      ]
     },
     "execution_count": 24,
     "metadata": {},
     "output_type": "execute_result"
    }
   ],
   "source": [
    "faxy(0,0)"
   ]
  },
  {
   "cell_type": "code",
   "execution_count": 25,
   "metadata": {
    "collapsed": false
   },
   "outputs": [
    {
     "data": {
      "text/plain": [
       "1x2 Array{Int64,2}:\n",
       " -1  2"
      ]
     },
     "execution_count": 25,
     "metadata": {},
     "output_type": "execute_result"
    }
   ],
   "source": [
    "faxy([0 1],[0 1])"
   ]
  },
  {
   "cell_type": "markdown",
   "metadata": {},
   "source": [
    "#### AS VARIAS FORMAS DE CALCULAR A FUNÇÃO A PARTIR DE UM VETOR OU MATRIZ #####"
   ]
  },
  {
   "cell_type": "markdown",
   "metadata": {},
   "source": [
    "* ** Usando o comando map **"
   ]
  },
  {
   "cell_type": "code",
   "execution_count": 264,
   "metadata": {
    "collapsed": false
   },
   "outputs": [
    {
     "data": {
      "text/plain": [
       "4-element Array{Float64,1}:\n",
       "  1.1884 \n",
       "  1.61545\n",
       " -2.0668 \n",
       " -4.12246"
      ]
     },
     "execution_count": 264,
     "metadata": {},
     "output_type": "execute_result"
    }
   ],
   "source": [
    "x = 0:3\n",
    "\n",
    "fanm = (x -> sqrt(2*x + cos(x)^3)/sin(x^2+1))\n",
    "\n",
    "map(fanm,x)"
   ]
  },
  {
   "cell_type": "code",
   "execution_count": 265,
   "metadata": {
    "collapsed": false
   },
   "outputs": [
    {
     "data": {
      "text/plain": [
       "-3.3854136841642646"
      ]
     },
     "execution_count": 265,
     "metadata": {},
     "output_type": "execute_result"
    }
   ],
   "source": [
    "# utilizando uma função anonima para calcular os valores de 0 a 2*pi somar os resultados\n",
    "\n",
    "mapreduce(fanm, +, 0:3)"
   ]
  },
  {
   "cell_type": "markdown",
   "metadata": {},
   "source": [
    "* ** Utilizando o comando Eval **"
   ]
  },
  {
   "cell_type": "code",
   "execution_count": 266,
   "metadata": {
    "collapsed": false,
    "scrolled": true
   },
   "outputs": [
    {
     "data": {
      "text/plain": [
       "4-element Array{Float64,1}:\n",
       "  1.1884 \n",
       "  1.61545\n",
       " -2.0668 \n",
       " -4.12246"
      ]
     },
     "execution_count": 266,
     "metadata": {},
     "output_type": "execute_result"
    }
   ],
   "source": [
    "# O ponto \".\" serve para calcular elemento-elemento em um vetor\n",
    "\n",
    "fanev = x -> sqrt(2.*x + cos(x).^3)./sin(x.^2+1)\n",
    "\n",
    "x = 0:3\n",
    "\n",
    "eval(fanev(x))"
   ]
  },
  {
   "cell_type": "markdown",
   "metadata": {},
   "source": [
    "* ** Atribuição direta **\n",
    "\n",
    "A atribuição direta funciona da mesma forma que **(funcao_anonima)[vetor]**"
   ]
  },
  {
   "cell_type": "code",
   "execution_count": 267,
   "metadata": {
    "collapsed": false
   },
   "outputs": [
    {
     "data": {
      "text/plain": [
       "4-element Array{Float64,1}:\n",
       "  1.1884 \n",
       "  1.61545\n",
       " -2.0668 \n",
       " -4.12246"
      ]
     },
     "execution_count": 267,
     "metadata": {},
     "output_type": "execute_result"
    }
   ],
   "source": [
    "# O ponto \".\" serve para calcular elemento-elemento em um vetor\n",
    "\n",
    "fand = x -> sqrt(2.*x + cos(x).^3)./sin(x.^2+1)\n",
    "\n",
    "x = 0:3\n",
    "\n",
    "fand(x)"
   ]
  },
  {
   "cell_type": "markdown",
   "metadata": {},
   "source": [
    "### QUAL É O MELHOR? FUNÇÃO GENÉRICA, ANÔNIMA OU SIMBÓLICA? ###\n",
    "\n",
    "Vamos fazer um benchmark das funções utilizando 3 métodos: map, eval e direto"
   ]
  },
  {
   "cell_type": "markdown",
   "metadata": {},
   "source": [
    "#### USANDO O COMANDO MAP####"
   ]
  },
  {
   "cell_type": "markdown",
   "metadata": {},
   "source": [
    "* ** Definindo as funções **"
   ]
  },
  {
   "cell_type": "code",
   "execution_count": 34,
   "metadata": {
    "collapsed": false
   },
   "outputs": [
    {
     "data": {
      "text/latex": [
       "$$- 2 x^{3} - x^{2} + 2 x + 8$$"
      ],
      "text/plain": [
       "     3    2          \n",
       "- 2*x  - x  + 2*x + 8"
      ]
     },
     "execution_count": 34,
     "metadata": {},
     "output_type": "execute_result"
    }
   ],
   "source": [
    "# Simbólica \n",
    "\n",
    "using SymPy\n",
    "@syms x\n",
    "\n",
    "fsimb = -2*x^3 - x^2 + 2*x + 8"
   ]
  },
  {
   "cell_type": "code",
   "execution_count": 35,
   "metadata": {
    "collapsed": false
   },
   "outputs": [
    {
     "data": {
      "text/plain": [
       "fgen (generic function with 1 method)"
      ]
     },
     "execution_count": 35,
     "metadata": {},
     "output_type": "execute_result"
    }
   ],
   "source": [
    "# Genérica\n",
    "\n",
    "fgen(w) = -2*w^3 - w^2 + 2*w + 8"
   ]
  },
  {
   "cell_type": "code",
   "execution_count": 36,
   "metadata": {
    "collapsed": false,
    "scrolled": true
   },
   "outputs": [
    {
     "data": {
      "text/plain": [
       "(anonymous function)"
      ]
     },
     "execution_count": 36,
     "metadata": {},
     "output_type": "execute_result"
    }
   ],
   "source": [
    "# Anonima \n",
    "\n",
    "fanon = (t ->-2*t^3 - t^2 + 2*t + 8)"
   ]
  },
  {
   "cell_type": "markdown",
   "metadata": {},
   "source": [
    "* ** Definidndo os vetores **\n",
    "\n",
    "Será definido vetores diferentes para as funções com o objetivo de evitar erros. "
   ]
  },
  {
   "cell_type": "code",
   "execution_count": 37,
   "metadata": {
    "collapsed": false,
    "scrolled": true
   },
   "outputs": [
    {
     "data": {
      "text/plain": [
       "(0.0:0.001:10.0,0.0:0.001:10.0,0.0:0.001:10.0)"
      ]
     },
     "execution_count": 37,
     "metadata": {},
     "output_type": "execute_result"
    }
   ],
   "source": [
    "x = w = t = 0:0.001:10\n",
    "\n",
    "x , w , t"
   ]
  },
  {
   "cell_type": "markdown",
   "metadata": {},
   "source": [
    "* ** Executando os cálculos**"
   ]
  },
  {
   "cell_type": "code",
   "execution_count": 38,
   "metadata": {
    "collapsed": false,
    "scrolled": true
   },
   "outputs": [
    {
     "data": {
      "text/plain": [
       "15.934101484"
      ]
     },
     "execution_count": 38,
     "metadata": {},
     "output_type": "execute_result"
    }
   ],
   "source": [
    "# função simbólica. Retire o \"@elapsed\" para ver os resultados\n",
    "\n",
    "fsmt = @elapsed map(fsimb,x)"
   ]
  },
  {
   "cell_type": "code",
   "execution_count": 39,
   "metadata": {
    "collapsed": false
   },
   "outputs": [
    {
     "data": {
      "text/plain": [
       "0.00208556"
      ]
     },
     "execution_count": 39,
     "metadata": {},
     "output_type": "execute_result"
    }
   ],
   "source": [
    "# função genérica. Retire o \"@elapsed\" para ver os resultados\n",
    "\n",
    "fgmt = @elapsed map(fgen,w)"
   ]
  },
  {
   "cell_type": "code",
   "execution_count": 40,
   "metadata": {
    "collapsed": false,
    "scrolled": true
   },
   "outputs": [
    {
     "data": {
      "text/plain": [
       "0.004246161"
      ]
     },
     "execution_count": 40,
     "metadata": {},
     "output_type": "execute_result"
    }
   ],
   "source": [
    "# função anonima. Retire o \"@elapsed\" para ver os resultados\n",
    "\n",
    "famt = @elapsed map(fanon,t)"
   ]
  },
  {
   "cell_type": "markdown",
   "metadata": {},
   "source": [
    "Vantagem para a função genérica usando o comando **map**"
   ]
  },
  {
   "cell_type": "markdown",
   "metadata": {},
   "source": [
    "#### USANDO O COMANDO EVAL ####"
   ]
  },
  {
   "cell_type": "code",
   "execution_count": null,
   "metadata": {
    "collapsed": true
   },
   "outputs": [],
   "source": [
    "# workspace()"
   ]
  },
  {
   "cell_type": "code",
   "execution_count": 36,
   "metadata": {
    "collapsed": false,
    "scrolled": true
   },
   "outputs": [
    {
     "data": {
      "text/plain": [
       "(x,)"
      ]
     },
     "execution_count": 36,
     "metadata": {},
     "output_type": "execute_result"
    }
   ],
   "source": [
    "using SymPy\n",
    "@syms x"
   ]
  },
  {
   "cell_type": "markdown",
   "metadata": {},
   "source": [
    "* ** Calculando as funçoes **"
   ]
  },
  {
   "cell_type": "code",
   "execution_count": 37,
   "metadata": {
    "collapsed": false,
    "scrolled": true
   },
   "outputs": [
    {
     "data": {
      "text/plain": [
       "0.001007717"
      ]
     },
     "execution_count": 37,
     "metadata": {},
     "output_type": "execute_result"
    }
   ],
   "source": [
    "# função simbólica. Retire o \"@elapsed\" para ver os resultados\n",
    "\n",
    "fsimb = -2.*x.^3 - x.^2 + 2.*x + 8\n",
    "\n",
    "x = 0:0.001:10\n",
    "\n",
    "fset = @elapsed SymPy.eval(fsimb)"
   ]
  },
  {
   "cell_type": "code",
   "execution_count": 46,
   "metadata": {
    "collapsed": false,
    "scrolled": true
   },
   "outputs": [
    {
     "data": {
      "text/plain": [
       "0.003787536"
      ]
     },
     "execution_count": 46,
     "metadata": {},
     "output_type": "execute_result"
    }
   ],
   "source": [
    "# função genérica. Retire o \"@elapsed\" para ver os resultados\n",
    "\n",
    "fgen(w) = -2.*w.^3 - w.^2 + 2.*w + 8\n",
    "\n",
    "w = 0:0.001:10\n",
    "\n",
    "fget = @elapsed eval(fgen(w))"
   ]
  },
  {
   "cell_type": "code",
   "execution_count": 47,
   "metadata": {
    "collapsed": false,
    "scrolled": true
   },
   "outputs": [
    {
     "data": {
      "text/plain": [
       "0.003556069"
      ]
     },
     "execution_count": 47,
     "metadata": {},
     "output_type": "execute_result"
    }
   ],
   "source": [
    "# função anonima. Retire o \"@elapsed\" para ver os resultados\n",
    "\n",
    "fanon = (t ->-2.*t.^3 - t.^2 + 2.*t + 8)\n",
    "\n",
    "t = 0:0.001:10\n",
    "\n",
    "faet = @elapsed eval(fanon(t))"
   ]
  },
  {
   "cell_type": "markdown",
   "metadata": {},
   "source": [
    "Vantagem para a função simbolica usando o eval"
   ]
  },
  {
   "cell_type": "markdown",
   "metadata": {},
   "source": [
    "#### USANDO ATRIBUIÇÃO DIRETA"
   ]
  },
  {
   "cell_type": "code",
   "execution_count": 48,
   "metadata": {
    "collapsed": false,
    "scrolled": true
   },
   "outputs": [
    {
     "data": {
      "text/plain": [
       "(x,)"
      ]
     },
     "execution_count": 48,
     "metadata": {},
     "output_type": "execute_result"
    }
   ],
   "source": [
    "using SymPy\n",
    "@syms x"
   ]
  },
  {
   "cell_type": "markdown",
   "metadata": {},
   "source": [
    "* ** Calculando as Funções **"
   ]
  },
  {
   "cell_type": "code",
   "execution_count": 52,
   "metadata": {
    "collapsed": false
   },
   "outputs": [
    {
     "data": {
      "text/plain": [
       "0.000956323"
      ]
     },
     "execution_count": 52,
     "metadata": {},
     "output_type": "execute_result"
    }
   ],
   "source": [
    "# função simbólica. Retire o \"@elapsed\" para ver os resultados\n",
    "\n",
    "x = 0:0.001:10\n",
    "\n",
    "fsdt = @elapsed -2.*x.^3 - x.^2 + 2.*x + 8"
   ]
  },
  {
   "cell_type": "code",
   "execution_count": 53,
   "metadata": {
    "collapsed": false
   },
   "outputs": [
    {
     "data": {
      "text/plain": [
       "0.003508928"
      ]
     },
     "execution_count": 53,
     "metadata": {},
     "output_type": "execute_result"
    }
   ],
   "source": [
    "# função genérica. Retire o \"@elapsed\" para ver os resultados\n",
    "\n",
    "fgen(w) = -2.*w.^3 - w.^2 + 2.*w + 8\n",
    "\n",
    "w = 0:0.001:10\n",
    "\n",
    "fgdt = @elapsed fgen(w)"
   ]
  },
  {
   "cell_type": "code",
   "execution_count": 54,
   "metadata": {
    "collapsed": false,
    "scrolled": false
   },
   "outputs": [
    {
     "data": {
      "text/plain": [
       "0.002592068"
      ]
     },
     "execution_count": 54,
     "metadata": {},
     "output_type": "execute_result"
    }
   ],
   "source": [
    "# função anonima. Retire o \"@elapsed\" para ver os resultados\n",
    "\n",
    "t = 0:0.001:10\n",
    "\n",
    "fan = (t -> -2.*t.^3 - t.^2 + 2.*t + 8)\n",
    "\n",
    "fadt = @elapsed fan(t)"
   ]
  },
  {
   "cell_type": "markdown",
   "metadata": {},
   "source": [
    "#### RESULTADOS ####"
   ]
  },
  {
   "cell_type": "code",
   "execution_count": 55,
   "metadata": {
    "collapsed": false
   },
   "outputs": [
    {
     "data": {
      "text/plain": [
       "\"Resultados\""
      ]
     },
     "metadata": {},
     "output_type": "display_data"
    },
    {
     "data": {
      "text/plain": [
       "4x4 Array{Any,2}:\n",
       " \"---\"     \"map\"       \"eval\"      \"dir\"     \n",
       " \"Sim\"   15.9341      3.666e-6    0.000956323\n",
       " \"Ggen\"   0.00208556  0.00378754  0.00350893 \n",
       " \"Ano\"    0.00424616  0.00355607  0.00259207 "
      ]
     },
     "metadata": {},
     "output_type": "display_data"
    }
   ],
   "source": [
    "resultados = [\"---\" \"map\" \"eval\" \"dir\";\"Sim\" fsmt fset fsdt; \"Ggen\" fgmt fget fgdt; \"Ano\" famt faet fadt]\n",
    "\n",
    "display(\"Resultados\")\n",
    "\n",
    "display(resultados)"
   ]
  },
  {
   "cell_type": "markdown",
   "metadata": {},
   "source": [
    "Conforme a tabela acima, a função simbolica usando \"eval\" e \"direta\" são as mais rapidas. Em geral, a função genérica é a mais usada, assim o melhor uso é a generica \"direta\"."
   ]
  },
  {
   "cell_type": "markdown",
   "metadata": {},
   "source": [
    "### CALCULOS DIVERSOS COM EQUAÇÕES, INEQUAÇÕES E FUNÇÕES###"
   ]
  },
  {
   "cell_type": "code",
   "execution_count": 39,
   "metadata": {
    "collapsed": false
   },
   "outputs": [
    {
     "data": {
      "text/plain": [
       "(x,y)"
      ]
     },
     "execution_count": 39,
     "metadata": {},
     "output_type": "execute_result"
    }
   ],
   "source": [
    "using SymPy\n",
    "\n",
    "@syms x,y"
   ]
  },
  {
   "cell_type": "markdown",
   "metadata": {},
   "source": [
    "** Expansão dos termos de uma expressões **"
   ]
  },
  {
   "cell_type": "code",
   "execution_count": 40,
   "metadata": {
    "collapsed": false
   },
   "outputs": [
    {
     "data": {
      "text/latex": [
       "$$\\left(x - 3\\right)^{3} \\left(x - 2\\right)^{4}$$"
      ],
      "text/plain": [
       "       3        4\n",
       "(x - 3) ⋅(x - 2) "
      ]
     },
     "execution_count": 40,
     "metadata": {},
     "output_type": "execute_result"
    }
   ],
   "source": [
    "y = (x-2)^4 * (x-3)^3"
   ]
  },
  {
   "cell_type": "code",
   "execution_count": 41,
   "metadata": {
    "collapsed": false
   },
   "outputs": [
    {
     "data": {
      "text/latex": [
       "$$x^{7} - 17 x^{6} + 123 x^{5} - 491 x^{4} + 1168 x^{3} - 1656 x^{2} + 1296 x - 432$$"
      ],
      "text/plain": [
       " 7       6        5        4         3         2               \n",
       "x  - 17⋅x  + 123⋅x  - 491⋅x  + 1168⋅x  - 1656⋅x  + 1296⋅x - 432"
      ]
     },
     "execution_count": 41,
     "metadata": {},
     "output_type": "execute_result"
    }
   ],
   "source": [
    "SymPy.expand(y)"
   ]
  },
  {
   "cell_type": "markdown",
   "metadata": {},
   "source": [
    "<strong>Fatorização</strong>"
   ]
  },
  {
   "cell_type": "code",
   "execution_count": 42,
   "metadata": {
    "collapsed": false
   },
   "outputs": [
    {
     "data": {
      "text/latex": [
       "$$x^{7} - 17 x^{6} + 123 x^{5} - 491 x^{4} + 1168 x^{3} - 1656 x^{2} + 1296 x - 432$$"
      ],
      "text/plain": [
       " 7       6        5        4         3         2               \n",
       "x  - 17⋅x  + 123⋅x  - 491⋅x  + 1168⋅x  - 1656⋅x  + 1296⋅x - 432"
      ]
     },
     "execution_count": 42,
     "metadata": {},
     "output_type": "execute_result"
    }
   ],
   "source": [
    "y = x^7 - 17*x^6 + 123*x^5 - 491*x^4 + 1168*x^3 - 1656*x^2 + 1296*x - 432"
   ]
  },
  {
   "cell_type": "code",
   "execution_count": 43,
   "metadata": {
    "collapsed": false
   },
   "outputs": [
    {
     "data": {
      "text/latex": [
       "$$\\left(x - 3\\right)^{3} \\left(x - 2\\right)^{4}$$"
      ],
      "text/plain": [
       "       3        4\n",
       "(x - 3) ⋅(x - 2) "
      ]
     },
     "execution_count": 43,
     "metadata": {},
     "output_type": "execute_result"
    }
   ],
   "source": [
    "SymPy.factor(y)"
   ]
  },
  {
   "cell_type": "markdown",
   "metadata": {},
   "source": [
    "<strong>Frações parciais</strong>"
   ]
  },
  {
   "cell_type": "code",
   "execution_count": 44,
   "metadata": {
    "collapsed": false
   },
   "outputs": [
    {
     "data": {
      "text/latex": [
       "$$\\frac{2 x^{2} + 3 x - 1}{x^{2} - 3 x + 2}$$"
      ],
      "text/plain": [
       "   2          \n",
       "2⋅x  + 3⋅x - 1\n",
       "──────────────\n",
       "  2           \n",
       " x  - 3⋅x + 2 "
      ]
     },
     "execution_count": 44,
     "metadata": {},
     "output_type": "execute_result"
    }
   ],
   "source": [
    "fx = (2*x^2 +3*x -1) / (x^2 - 3*x + 2)"
   ]
  },
  {
   "cell_type": "code",
   "execution_count": 45,
   "metadata": {
    "collapsed": false
   },
   "outputs": [
    {
     "data": {
      "text/latex": [
       "$$2 - \\frac{4}{x - 1} + \\frac{13}{x - 2}$$"
      ],
      "text/plain": [
       "      4       13 \n",
       "2 - ───── + ─────\n",
       "    x - 1   x - 2"
      ]
     },
     "execution_count": 45,
     "metadata": {},
     "output_type": "execute_result"
    }
   ],
   "source": [
    "# fraçõs parciais\n",
    "\n",
    "SymPy.apart(fx)"
   ]
  },
  {
   "cell_type": "markdown",
   "metadata": {},
   "source": [
    "<strong>Simplificação de expressões</strong>"
   ]
  },
  {
   "cell_type": "code",
   "execution_count": 46,
   "metadata": {
    "collapsed": false,
    "scrolled": false
   },
   "outputs": [
    {
     "data": {
      "text/latex": [
       "$$2 - \\frac{4}{x - 1} + \\frac{13}{x - 2}$$"
      ],
      "text/plain": [
       "      4       13 \n",
       "2 - ───── + ─────\n",
       "    x - 1   x - 2"
      ]
     },
     "execution_count": 46,
     "metadata": {},
     "output_type": "execute_result"
    }
   ],
   "source": [
    "frac_fx = 13/(x-2) + -4/(x-1) +2"
   ]
  },
  {
   "cell_type": "code",
   "execution_count": 47,
   "metadata": {
    "collapsed": false
   },
   "outputs": [
    {
     "data": {
      "text/latex": [
       "$$\\frac{2 x^{2} + 3 x - 1}{x^{2} - 3 x + 2}$$"
      ],
      "text/plain": [
       "   2          \n",
       "2⋅x  + 3⋅x - 1\n",
       "──────────────\n",
       "  2           \n",
       " x  - 3⋅x + 2 "
      ]
     },
     "execution_count": 47,
     "metadata": {},
     "output_type": "execute_result"
    }
   ],
   "source": [
    "SymPy.simplify(frac_fx)"
   ]
  },
  {
   "cell_type": "markdown",
   "metadata": {},
   "source": []
  },
  {
   "cell_type": "markdown",
   "metadata": {
    "collapsed": true
   },
   "source": [
    "** Substituir variável por um valor ou outra variável**\n",
    "\n",
    "Para substituir o valor de X na equação acima, utilizamos o comando **subs(variável, variável_expressão, variavel/valor)**\n",
    "\n",
    "Observe no exemplo 1, que a expressão de Y continua a mesma, só o valor de X que é alterado para o valor (2) e o cálculo é realizado (Y = 2). No exemplo 2, a variável X é alterada para W. E no exemplo 3, as variáveis X e W são substituídas por valores e outras variáveis"
   ]
  },
  {
   "cell_type": "markdown",
   "metadata": {},
   "source": [
    "* ** Exemplo 1: substituição por um valor numérico **"
   ]
  },
  {
   "cell_type": "code",
   "execution_count": 48,
   "metadata": {
    "collapsed": false,
    "scrolled": true
   },
   "outputs": [
    {
     "data": {
      "text/plain": [
       "(x,y)"
      ]
     },
     "execution_count": 48,
     "metadata": {},
     "output_type": "execute_result"
    }
   ],
   "source": [
    "using SymPy\n",
    "\n",
    "@vars x,y"
   ]
  },
  {
   "cell_type": "code",
   "execution_count": 49,
   "metadata": {
    "collapsed": false,
    "scrolled": false
   },
   "outputs": [
    {
     "data": {
      "text/latex": [
       "$$2$$"
      ],
      "text/plain": [
       "2"
      ]
     },
     "execution_count": 49,
     "metadata": {},
     "output_type": "execute_result"
    }
   ],
   "source": [
    "# x = 0\n",
    "\n",
    "SymPy.subs(x^2-3*x+2,(x,0))"
   ]
  },
  {
   "cell_type": "code",
   "execution_count": 50,
   "metadata": {
    "collapsed": false,
    "scrolled": true
   },
   "outputs": [
    {
     "ename": "LoadError",
     "evalue": "LoadError: MethodError: `convert` has no method matching convert(::Type{SymPy.Sym}, ::Array{Int64,2})\nThis may have arisen from a call to the constructor SymPy.Sym(...),\nsince type constructors fall back to convert methods.\nClosest candidates are:\n  SymPy.Sym(::Any)\n  SymPy.Sym(::Any...)\n  call{T}(::Type{T}, ::Any)\n  ...\nwhile loading In[50], in expression starting on line 3",
     "output_type": "error",
     "traceback": [
      "LoadError: MethodError: `convert` has no method matching convert(::Type{SymPy.Sym}, ::Array{Int64,2})\nThis may have arisen from a call to the constructor SymPy.Sym(...),\nsince type constructors fall back to convert methods.\nClosest candidates are:\n  SymPy.Sym(::Any)\n  SymPy.Sym(::Any...)\n  call{T}(::Type{T}, ::Any)\n  ...\nwhile loading In[50], in expression starting on line 3",
      "",
      " in subs at /home/jmarcellopereira/.julia/v0.4/SymPy/src/subs.jl:46"
     ]
    }
   ],
   "source": [
    "# O comando subs do julia não substitui por um vetor x = [1, -1, 0]. OCORRE ERRO!\n",
    "\n",
    "SymPy.subs(x^2 - 3*x + 2,(x,[1 2 3]))"
   ]
  },
  {
   "cell_type": "markdown",
   "metadata": {},
   "source": [
    "* ** Exemplo 2: substituição por uma variável **"
   ]
  },
  {
   "cell_type": "code",
   "execution_count": 51,
   "metadata": {
    "collapsed": false,
    "scrolled": true
   },
   "outputs": [
    {
     "data": {
      "text/latex": [
       "$$w^{2} - 3 w + 2$$"
      ],
      "text/plain": [
       " 2          \n",
       "w  - 3⋅w + 2"
      ]
     },
     "execution_count": 51,
     "metadata": {},
     "output_type": "execute_result"
    }
   ],
   "source": [
    "# x por w\n",
    "\n",
    "@syms w\n",
    "\n",
    "y_w = SymPy.subs(x^2-3*x+2,x,w)"
   ]
  },
  {
   "cell_type": "markdown",
   "metadata": {},
   "source": [
    "* ** Exemplo 3: Para substituir mais de uma variável: **"
   ]
  },
  {
   "cell_type": "code",
   "execution_count": 52,
   "metadata": {
    "collapsed": false
   },
   "outputs": [
    {
     "data": {
      "text/plain": [
       "(4,4)"
      ]
     },
     "execution_count": 52,
     "metadata": {},
     "output_type": "execute_result"
    }
   ],
   "source": [
    "# Substitui x e w por 2 e 1 e efetua o cálculo\n",
    "\n",
    "r = x*w+2\n",
    "\n",
    "SymPy.subs(r,(x,2),(w,1)), SymPy.subs(r,x=>2,w=>1)"
   ]
  },
  {
   "cell_type": "code",
   "execution_count": 53,
   "metadata": {
    "collapsed": false
   },
   "outputs": [
    {
     "data": {
      "text/latex": [
       "$$4$$"
      ],
      "text/plain": [
       "4"
      ]
     },
     "execution_count": 53,
     "metadata": {},
     "output_type": "execute_result"
    }
   ],
   "source": [
    "# Substitui x e w por p e q e efetua o cálculo\n",
    "\n",
    "@vars p,q\n",
    "\n",
    "SymPy.subs(r,x=>p=2,w=>q=1)"
   ]
  },
  {
   "cell_type": "markdown",
   "metadata": {},
   "source": [
    "Resetar o valor das variáveis X e Y"
   ]
  },
  {
   "cell_type": "markdown",
   "metadata": {},
   "source": []
  }
 ],
 "metadata": {
  "kernelspec": {
   "display_name": "Julia 0.4.5",
   "language": "julia",
   "name": "julia-0.4"
  },
  "language_info": {
   "file_extension": ".jl",
   "mimetype": "application/julia",
   "name": "julia",
   "version": "0.4.5"
  }
 },
 "nbformat": 4,
 "nbformat_minor": 0
}
