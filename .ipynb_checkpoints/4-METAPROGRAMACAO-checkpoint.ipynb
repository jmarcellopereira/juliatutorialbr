{
 "cells": [
  {
   "cell_type": "markdown",
   "metadata": {},
   "source": [
    "# META PROGRAMAÇÃO\n",
    "\n",
    "A Metaprogramação  é técnica de criar metaprogramas, ou seja, metaprogramas pode ser definido como um código que criam ou manipulam outros códigos. Bons exemplos de metaprograas são compiladores ou interpretadores. Um bom exemplo do que pode ser feito com metaprogramação é que é possível escrever um código que converte expressões simples em expressões mais complicadas ou examinar um código antes de executá-lo e dessa forma é possível alterá-lo para que ele seja executado mais rapidamente. De acordo com o manual oficial da linguagem Julia, o legado mais forte do Lisp em Julia é o seu apoio a metaprogramação. MATLAB (avaliado até a versão 2016) não oferece nativamente ferramentas  metaprogramação mas com um pouco de criatividade isso pode ser feito usando a `ToolBox` simbólica."
   ]
  },
  {
   "cell_type": "markdown",
   "metadata": {},
   "source": [
    "## SIMBOLOS"
   ]
  },
  {
   "cell_type": "code",
   "execution_count": null,
   "metadata": {
    "collapsed": true
   },
   "outputs": [],
   "source": []
  },
  {
   "cell_type": "markdown",
   "metadata": {},
   "source": [
    "## MACROS\n",
    "\n",
    "Macros são pequenos programas que executam uma sequencia de comandos definidos. Os macros são semelhantes as funções, mas em vez de trabalhar com valores, elas trabalham com expressões como argumentos de entrada. Uma macro mapeia uma tupla de argumentos para uma expressão retornada e a expressão resultante é compilada diretamente. Os argumentos de um macro podem incluir expressões, valores literais e símbolos. Resumindo:\n",
    "- `Função`: trabalha os valores de entrada e retorna os valores calculados em tempo de execução\n",
    "- `Macro`: Faz a análise das expressões da entrada e retorna as expressões modificadas em tempo de análise.\n",
    "\n",
    "Macros são necessários porque eles executam quando o código é analisado, portanto, macros permitem que o programador possa gerar e incluir fragmentos de código personalizado antes que o programa completo seja executado. Se um macro é usada dentro de uma função, ele é executada quando a função é definida, antes que a função seja compilada ou executada. "
   ]
  },
  {
   "cell_type": "markdown",
   "metadata": {},
   "source": [
    "#### Macros Importantes"
   ]
  },
  {
   "cell_type": "markdown",
   "metadata": {},
   "source": [
    "**@time, @timev, @timed e @elapsed **\n",
    "\n"
   ]
  },
  {
   "cell_type": "code",
   "execution_count": null,
   "metadata": {
    "collapsed": true,
    "scrolled": false
   },
   "outputs": [],
   "source": []
  },
  {
   "cell_type": "markdown",
   "metadata": {},
   "source": [
    "**@evalpoly**\n",
    "\n",
    "Calcula o polinômio ${\\displaystyle p(x) = a_{0}+a_{1}x^1+a_{2}x^{2}+a_{3}x^{3}+\\cdots +a_{n}x^{n},}$\n",
    ". Essa macro se expande para um código inline eficiente que usa o método de Horner ou, para o z complexo, um algoritmo de Goertzel mais eficiente. Sintaxe:\n",
    "```julia\n",
    "@evalpoly k a_0 a_1 a_2 ... a_n\n",
    "```\n",
    "Sendo: \n",
    "* **k**: constante;\n",
    "* **a_0, a_1, a_2, a_n**: os coeficientes do polinômio\n",
    "\n",
    "Exemplo: calcular o polinômio $P= 1 + 2x + 3x^2 + 4x^3$ para $x = 0$"
   ]
  },
  {
   "cell_type": "code",
   "execution_count": 57,
   "metadata": {
    "collapsed": false
   },
   "outputs": [
    {
     "data": {
      "text/plain": [
       "1"
      ]
     },
     "execution_count": 57,
     "metadata": {},
     "output_type": "execute_result"
    }
   ],
   "source": [
    "@evalpoly 0 1 2 3 4"
   ]
  },
  {
   "cell_type": "markdown",
   "metadata": {},
   "source": [
    "**@which**\n",
    "\n",
    "Aplicado a uma chamada de função ou macro, ele avalia os argumentos para a chamada especificada e retorna o objeto Method para o método que seria chamado para esses argumentos. Aplicado a uma variável, retorna o módulo no qual a variável foi vinculada. Ele chama para a função que."
   ]
  },
  {
   "cell_type": "code",
   "execution_count": 4,
   "metadata": {
    "collapsed": false
   },
   "outputs": [
    {
     "data": {
      "text/plain": [
       "f (generic function with 2 methods)"
      ]
     },
     "execution_count": 4,
     "metadata": {},
     "output_type": "execute_result"
    }
   ],
   "source": [
    "f(x::Float64, y::Float64) = x^2 + y^2\n",
    "f(x::Int32, y::Int32) = x^2 + y^2"
   ]
  },
  {
   "cell_type": "code",
   "execution_count": 25,
   "metadata": {
    "collapsed": false,
    "scrolled": true
   },
   "outputs": [
    {
     "data": {
      "text/html": [
       "f(x::<b>Float64</b>, y::<b>Float64</b>) in Main at In[4]:1"
      ],
      "text/plain": [
       "f(x::Float64, y::Float64) in Main at In[4]:1"
      ]
     },
     "execution_count": 25,
     "metadata": {},
     "output_type": "execute_result"
    }
   ],
   "source": [
    "@which f(2.8, 5.2)"
   ]
  },
  {
   "cell_type": "markdown",
   "metadata": {},
   "source": [
    "\\check\n"
   ]
  },
  {
   "cell_type": "markdown",
   "metadata": {},
   "source": [
    "\\check"
   ]
  },
  {
   "cell_type": "markdown",
   "metadata": {},
   "source": [
    "** Método de Horner** \n",
    "\n",
    "O Algoritmo de Horner, dedicado ao matemático William George Horner, é um algoritmo para calcular de forma eficiente funções polinomiais de uma forma mais simples. Dado o polinômio:\n",
    "\n",
    "${\\displaystyle p(x)=a_{0}+a_{1}x+a_{2}x^{2}+a_{3}x^{3}+\\cdots +a_{n}x^{n},}$\n",
    "\n",
    "No qual $ a_{0},\\ldots ,a_{n}$ são números reais, o polinômio é calculado para um valor inicial $x_0$. Para realizar os procedimentos seguintes, definimos uma nova sequência de constantes como mostrado abaixo:\n",
    "\n",
    "$b_n = a_n$\n",
    "\n",
    "$b_{n-1} = a_{n-1} + b_n x$\n",
    "\n",
    "$b_{n-2} = a_{n-2} + b_{n-1} x$\n",
    "\n",
    "$\\vdots$\n",
    "\n",
    "$b_{0} = a_{0} + b_a x$\n",
    "\n",
    "Logo $b_0$ é o valor do polinômio $p(x_0)$"
   ]
  },
  {
   "cell_type": "markdown",
   "metadata": {},
   "source": [
    "Calcular o polinômio $10 + 1x + 2x^2 + 3x^3 + 4x^4\n",
    "$"
   ]
  },
  {
   "cell_type": "code",
   "execution_count": 26,
   "metadata": {
    "collapsed": false,
    "scrolled": true
   },
   "outputs": [
    {
     "data": {
      "text/plain": [
       "pol_horner (generic function with 1 method)"
      ]
     },
     "execution_count": 26,
     "metadata": {},
     "output_type": "execute_result"
    }
   ],
   "source": [
    "function pol_horner(x, a...)\n",
    "    b = 0.0\n",
    "    println(a)\n",
    "    for i = length(a): -1: 1\n",
    "        b = a[i] + b*x\n",
    "    end\n",
    "    return b\n",
    "end"
   ]
  },
  {
   "cell_type": "code",
   "execution_count": 27,
   "metadata": {
    "collapsed": false
   },
   "outputs": [
    {
     "name": "stdout",
     "output_type": "stream",
     "text": [
      "(10, 1, 2, 3, 4)\n"
     ]
    },
    {
     "data": {
      "text/plain": [
       "10.0"
      ]
     },
     "execution_count": 27,
     "metadata": {},
     "output_type": "execute_result"
    }
   ],
   "source": [
    "pol_horner(0, 10, 1, 2, 3, 4)"
   ]
  },
  {
   "cell_type": "code",
   "execution_count": 28,
   "metadata": {
    "collapsed": false
   },
   "outputs": [
    {
     "ename": "ArgumentError",
     "evalue": "ArgumentError: Package BenchmarkTools not found in current path:\n- Run `import Pkg; Pkg.add(\"BenchmarkTools\")` to install the BenchmarkTools package.\n",
     "output_type": "error",
     "traceback": [
      "ArgumentError: Package BenchmarkTools not found in current path:\n- Run `import Pkg; Pkg.add(\"BenchmarkTools\")` to install the BenchmarkTools package.\n",
      "",
      "Stacktrace:",
      " [1] require(::Module, ::Symbol) at ./loading.jl:820",
      " [2] top-level scope at In[28]:1"
     ]
    }
   ],
   "source": [
    "using BenchmarkTools"
   ]
  },
  {
   "cell_type": "code",
   "execution_count": 28,
   "metadata": {
    "collapsed": false,
    "scrolled": true
   },
   "outputs": [
    {
     "name": "stdout",
     "output_type": "stream",
     "text": [
      "(10, 1, 2, 3, 4)\n"
     ]
    },
    {
     "data": {
      "text/plain": [
       "0.009630368"
      ]
     },
     "execution_count": 28,
     "metadata": {},
     "output_type": "execute_result"
    }
   ],
   "source": [
    "@elapsed pol_horner(3.5, 10, 1, 2, 3, 4)"
   ]
  },
  {
   "cell_type": "code",
   "execution_count": 29,
   "metadata": {
    "collapsed": false
   },
   "outputs": [
    {
     "data": {
      "text/plain": [
       "0.016751035"
      ]
     },
     "execution_count": 29,
     "metadata": {},
     "output_type": "execute_result"
    }
   ],
   "source": [
    "@elapsed @evalpoly 3.5 10 1 2 3 4"
   ]
  },
  {
   "cell_type": "code",
   "execution_count": 37,
   "metadata": {
    "collapsed": false
   },
   "outputs": [
    {
     "data": {
      "text/plain": [
       "2.5e-8"
      ]
     },
     "execution_count": 37,
     "metadata": {},
     "output_type": "execute_result"
    }
   ],
   "source": [
    "# para 10 + 5.1x - 2.0x^2 - 0.5x^3 + x^5 + 1.1x^7\n",
    "b = rand(10000);\n",
    "for i = 1:10000\n",
    "    b[i] = @elapsed @evalpoly(1.25,10, 5.1, 2, 0, -0.5, 0, 1, 0, rand()  );\n",
    "end\n",
    "b1 = float(minimum(b))"
   ]
  },
  {
   "cell_type": "code",
   "execution_count": 31,
   "metadata": {
    "collapsed": false
   },
   "outputs": [
    {
     "ename": "UndefVarError",
     "evalue": "UndefVarError: a1 not defined",
     "output_type": "error",
     "traceback": [
      "UndefVarError: a1 not defined",
      "",
      "Stacktrace:",
      " [1] top-level scope at In[31]:1"
     ]
    }
   ],
   "source": [
    "BigFloat(a1), BigFloat(b1)"
   ]
  },
  {
   "cell_type": "code",
   "execution_count": 32,
   "metadata": {
    "collapsed": false
   },
   "outputs": [
    {
     "data": {
      "text/plain": [
       "@macro_horner (macro with 1 method)"
      ]
     },
     "execution_count": 32,
     "metadata": {},
     "output_type": "execute_result"
    }
   ],
   "source": [
    "macro macro_horner(x, p...)\n",
    "    ex = esc(p[end])\n",
    "    \n",
    "    for i = length(p)-1:-1:1\n",
    "        ex = :(muladd(t, $ex, $(esc(p[i]))))\n",
    "    end\n",
    "    Expr(:block, :(t = $(esc(x))), ex)\n",
    "end"
   ]
  },
  {
   "cell_type": "code",
   "execution_count": 33,
   "metadata": {
    "collapsed": false,
    "scrolled": true
   },
   "outputs": [
    {
     "name": "stdout",
     "output_type": "stream",
     "text": [
      "  0.000005 seconds (9 allocations: 272 bytes)\n",
      "elapsed time (ns): 4731\n",
      "bytes allocated:   272\n",
      "pool allocs:       9\n"
     ]
    },
    {
     "data": {
      "text/plain": [
       "766.875"
      ]
     },
     "execution_count": 33,
     "metadata": {},
     "output_type": "execute_result"
    }
   ],
   "source": [
    "@timev @macro_horner(3.5, 10, 1, 2, 3, 4)"
   ]
  },
  {
   "cell_type": "code",
   "execution_count": 36,
   "metadata": {
    "collapsed": false
   },
   "outputs": [
    {
     "data": {
      "text/plain": [
       "2.3e-8"
      ]
     },
     "execution_count": 36,
     "metadata": {},
     "output_type": "execute_result"
    }
   ],
   "source": [
    "# para 10 + 5.1x - 2.0x^2 - 0.5x^3 + x^5 + 1.1x^7\n",
    "a = rand(10000)\n",
    "for i = 1:10000\n",
    "    a[i] =  @elapsed @macro_horner(1.25,10, 5.1, 2, 0, -0.5, 0, 1, 0, randn())\n",
    "end\n",
    "minimum(a)"
   ]
  },
  {
   "cell_type": "code",
   "execution_count": 131,
   "metadata": {
    "collapsed": false
   },
   "outputs": [
    {
     "data": {
      "text/plain": [
       ":($(Expr(:escape, 3)))"
      ]
     },
     "execution_count": 131,
     "metadata": {},
     "output_type": "execute_result"
    }
   ],
   "source": [
    "ex = esc((1,2,3)[end])"
   ]
  },
  {
   "cell_type": "markdown",
   "metadata": {},
   "source": [
    "## BIBLIOGRAFIA\n",
    "\n",
    "* Sebesta, Robert W.Conceitos de linguagens de programação [recurso eletrônico] /Robert W. Sebesta; tradução técnica: Eduardo Kessler Piveta. – 9. ed. – Dados eletrônicos. – Porto Alegre : Bookman, 2011.\n",
    "\n",
    "* Vieira, Francisco. Programação Funcional usando Haskell. Teresina, 2005. \n",
    "\n"
   ]
  },
  {
   "cell_type": "code",
   "execution_count": null,
   "metadata": {
    "collapsed": true
   },
   "outputs": [],
   "source": []
  }
 ],
 "metadata": {
  "anaconda-cloud": {},
  "kernelspec": {
   "display_name": "Julia 1.0.2",
   "language": "julia",
   "name": "julia-1.0"
  },
  "language_info": {
   "file_extension": ".jl",
   "mimetype": "application/julia",
   "name": "julia",
   "version": "1.0.2"
  },
  "latex_envs": {
   "LaTeX_envs_menu_present": true,
   "autocomplete": true,
   "bibliofile": "biblio.bib",
   "cite_by": "apalike",
   "current_citInitial": 1,
   "eqLabelWithNumbers": true,
   "eqNumInitial": 1,
   "hotkeys": {
    "equation": "Ctrl-E",
    "itemize": "Ctrl-I"
   },
   "labels_anchors": false,
   "latex_user_defs": false,
   "report_style_numbering": false,
   "user_envs_cfg": false
  },
  "name": "_merged"
 },
 "nbformat": 4,
 "nbformat_minor": 2
}
