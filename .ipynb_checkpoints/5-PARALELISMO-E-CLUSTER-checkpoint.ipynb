{
 "cells": [
  {
   "cell_type": "markdown",
   "metadata": {
    "collapsed": true
   },
   "source": [
    "## PARALELISMO E CLUSTER"
   ]
  },
  {
   "cell_type": "markdown",
   "metadata": {},
   "source": [
    "### TRABALHAR COM CORES\n",
    "Para adicionar cores utilize:\n",
    "```julia\n",
    "addproces(n)\n",
    "```\n",
    "Sendo **n** o número de cores que deseja criar as instâncias. Uma boa dica é usar ``addroces()`` dessa forma Julia cria automaticamente o número de cores que melhor se ajusta à máquina."
   ]
  },
  {
   "cell_type": "code",
   "execution_count": 5,
   "metadata": {
    "collapsed": true
   },
   "outputs": [],
   "source": [
    "using Distributed"
   ]
  },
  {
   "cell_type": "code",
   "execution_count": 6,
   "metadata": {
    "collapsed": false,
    "scrolled": false
   },
   "outputs": [
    {
     "data": {
      "text/plain": [
       "\"x86_64-pc-linux-gnu\""
      ]
     },
     "execution_count": 6,
     "metadata": {},
     "output_type": "execute_result"
    }
   ],
   "source": [
    "# visualizar o numero de cores do processador físico\n",
    "Sys.MACHINE"
   ]
  },
  {
   "cell_type": "code",
   "execution_count": 7,
   "metadata": {
    "collapsed": false,
    "scrolled": true
   },
   "outputs": [
    {
     "data": {
      "text/plain": [
       "1-element Array{Int64,1}:\n",
       " 1"
      ]
     },
     "execution_count": 7,
     "metadata": {},
     "output_type": "execute_result"
    }
   ],
   "source": [
    "# verificar o número de cores alocados e ID\n",
    "procs()"
   ]
  },
  {
   "cell_type": "code",
   "execution_count": 9,
   "metadata": {
    "collapsed": false,
    "scrolled": true
   },
   "outputs": [
    {
     "data": {
      "text/plain": [
       "8-element Array{Int64,1}:\n",
       "  4\n",
       "  5\n",
       "  6\n",
       "  7\n",
       "  8\n",
       "  9\n",
       " 10\n",
       " 11"
      ]
     },
     "execution_count": 9,
     "metadata": {},
     "output_type": "execute_result"
    }
   ],
   "source": [
    "# adicionar o numero de cores do computador\n",
    "addprocs()"
   ]
  },
  {
   "cell_type": "code",
   "execution_count": 10,
   "metadata": {
    "collapsed": false,
    "scrolled": true
   },
   "outputs": [
    {
     "name": "stderr",
     "output_type": "stream",
     "text": [
      "┌ Warning: rmprocs: process 1 not removed\n",
      "└ @ Distributed /buildworker/worker/package_linux64/build/usr/share/julia/stdlib/v1.0/Distributed/src/cluster.jl:932\n"
     ]
    },
    {
     "data": {
      "text/plain": [
       "Task (done) @0x00007f7571068a90"
      ]
     },
     "execution_count": 10,
     "metadata": {},
     "output_type": "execute_result"
    }
   ],
   "source": [
    "# remover cores rmprocs(ID_CORE)\n",
    "# para remover mais de um core use rmprocess([vetor_IDCORE])\n",
    "# Para remover todos os alocados use rmprocs(procs()) \n",
    "rmprocs(procs())"
   ]
  },
  {
   "cell_type": "code",
   "execution_count": 11,
   "metadata": {
    "collapsed": false
   },
   "outputs": [
    {
     "data": {
      "text/plain": [
       "1-element Array{Int64,1}:\n",
       " 1"
      ]
     },
     "execution_count": 11,
     "metadata": {},
     "output_type": "execute_result"
    }
   ],
   "source": [
    "procs()"
   ]
  },
  {
   "cell_type": "markdown",
   "metadata": {},
   "source": [
    "### PARALLEL FOR E  PARALLEL MAP\n",
    "\n",
    "Um loop for com um grande número de iterações e compreensões de lista, são melhores desempenhados com execução paralela através  da macro `@parallel`. Sintaxe:\n",
    "```julia\n",
    "@parallel (operador) for var = range\n",
    "    instruções\n",
    "end\n",
    "```"
   ]
  },
  {
   "cell_type": "code",
   "execution_count": 14,
   "metadata": {
    "collapsed": false
   },
   "outputs": [
    {
     "ename": "ArgumentError",
     "evalue": "ArgumentError: Package BenchmarkTools not found in current path:\n- Run `import Pkg; Pkg.add(\"BenchmarkTools\")` to install the BenchmarkTools package.\n",
     "output_type": "error",
     "traceback": [
      "ArgumentError: Package BenchmarkTools not found in current path:\n- Run `import Pkg; Pkg.add(\"BenchmarkTools\")` to install the BenchmarkTools package.\n",
      "",
      "Stacktrace:",
      " [1] require(::Module, ::Symbol) at ./loading.jl:823",
      " [2] top-level scope at In[14]:1"
     ]
    }
   ],
   "source": [
    "using BenchmarkTools"
   ]
  },
  {
   "cell_type": "markdown",
   "metadata": {},
   "source": [
    "**Função Somatório**"
   ]
  },
  {
   "cell_type": "code",
   "execution_count": 12,
   "metadata": {
    "collapsed": false,
    "scrolled": false
   },
   "outputs": [
    {
     "data": {
      "text/plain": [
       "serial_add (generic function with 1 method)"
      ]
     },
     "execution_count": 12,
     "metadata": {},
     "output_type": "execute_result"
    }
   ],
   "source": [
    "# Função Soma sem paralelismo\n",
    "# Laço for de uma soma de 1 a 1000000000\n",
    "# de números aleatórios\n",
    "\n",
    "function serial_add(n::Int64)\n",
    "    s = 0.0\n",
    "    for i = 1:n\n",
    "        s = s + randn()\n",
    "    end\n",
    "    return s\n",
    "end "
   ]
  },
  {
   "cell_type": "code",
   "execution_count": 13,
   "metadata": {
    "collapsed": false,
    "scrolled": false
   },
   "outputs": [
    {
     "ename": "LoadError",
     "evalue": "UndefVarError: @benchmark not defined",
     "output_type": "error",
     "traceback": [
      "UndefVarError: @benchmark not defined",
      ""
     ]
    }
   ],
   "source": [
    "# execute mais de uma vez\n",
    "@benchmark serial_add(1000000000)"
   ]
  },
  {
   "cell_type": "code",
   "execution_count": 16,
   "metadata": {
    "collapsed": false
   },
   "outputs": [
    {
     "data": {
      "text/plain": [
       "3.829081666"
      ]
     },
     "execution_count": 16,
     "metadata": {},
     "output_type": "execute_result"
    }
   ],
   "source": [
    "@elapsed serial_add(1000000000)"
   ]
  },
  {
   "cell_type": "markdown",
   "metadata": {},
   "source": [
    "Preparando o paralelismo"
   ]
  },
  {
   "cell_type": "code",
   "execution_count": 17,
   "metadata": {
    "collapsed": false,
    "scrolled": false
   },
   "outputs": [
    {
     "data": {
      "text/plain": [
       "1-element Array{Int64,1}:\n",
       " 1"
      ]
     },
     "execution_count": 17,
     "metadata": {},
     "output_type": "execute_result"
    }
   ],
   "source": [
    "# verificar o número de processadores\n",
    "procs()"
   ]
  },
  {
   "cell_type": "code",
   "execution_count": 18,
   "metadata": {
    "collapsed": false
   },
   "outputs": [
    {
     "data": {
      "text/plain": [
       "8-element Array{Int64,1}:\n",
       " 12\n",
       " 13\n",
       " 14\n",
       " 15\n",
       " 16\n",
       " 17\n",
       " 18\n",
       " 19"
      ]
     },
     "execution_count": 18,
     "metadata": {},
     "output_type": "execute_result"
    }
   ],
   "source": [
    "addprocs()"
   ]
  },
  {
   "cell_type": "code",
   "execution_count": 22,
   "metadata": {
    "collapsed": false
   },
   "outputs": [
    {
     "data": {
      "text/plain": [
       "paralelo_add (generic function with 1 method)"
      ]
     },
     "execution_count": 22,
     "metadata": {},
     "output_type": "execute_result"
    }
   ],
   "source": [
    "# função paralela\n",
    "\n",
    "function paralelo_add(n::Int64)\n",
    "    \n",
    "  @distributed (+) for i = 1:n\n",
    "        randn()                  \n",
    "    end\n",
    "    \n",
    "end"
   ]
  },
  {
   "cell_type": "code",
   "execution_count": 23,
   "metadata": {
    "collapsed": false,
    "scrolled": false
   },
   "outputs": [
    {
     "ename": "LoadError",
     "evalue": "UndefVarError: @benchmark not defined",
     "output_type": "error",
     "traceback": [
      "UndefVarError: @benchmark not defined",
      ""
     ]
    }
   ],
   "source": [
    "# execute mais de uma vez\n",
    "@benchmark paralelo_add(1000000000)"
   ]
  },
  {
   "cell_type": "code",
   "execution_count": 26,
   "metadata": {
    "collapsed": false
   },
   "outputs": [
    {
     "data": {
      "text/plain": [
       "0.940734328"
      ]
     },
     "execution_count": 26,
     "metadata": {},
     "output_type": "execute_result"
    }
   ],
   "source": [
    "@elapsed paralelo_add(1000000000)"
   ]
  },
  {
   "cell_type": "markdown",
   "metadata": {},
   "source": [
    "**Função alocação de dados em uma Matriz**"
   ]
  },
  {
   "cell_type": "code",
   "execution_count": 27,
   "metadata": {
    "collapsed": false
   },
   "outputs": [
    {
     "data": {
      "text/plain": [
       "alo_matriz2 (generic function with 1 method)"
      ]
     },
     "execution_count": 27,
     "metadata": {},
     "output_type": "execute_result"
    }
   ],
   "source": [
    "# Função sem paralelismo\n",
    "\n",
    "function alo_matriz2(n::Int64)\n",
    "    matriz = zeros(n, n)\n",
    "    for i = 1:n\n",
    "        for j = 1:n\n",
    "            matriz[i, j] = rand()*0.25\n",
    "        end\n",
    "    end\n",
    "    return matriz\n",
    "end"
   ]
  },
  {
   "cell_type": "code",
   "execution_count": 25,
   "metadata": {
    "collapsed": false
   },
   "outputs": [
    {
     "data": {
      "text/plain": [
       "BenchmarkTools.Trial: \n",
       "  memory estimate:  762.94 MiB\n",
       "  allocs estimate:  2\n",
       "  --------------\n",
       "  minimum time:     1.090 s (2.54% GC)\n",
       "  median time:      1.120 s (4.42% GC)\n",
       "  mean time:        1.128 s (3.70% GC)\n",
       "  maximum time:     1.195 s (4.70% GC)\n",
       "  --------------\n",
       "  samples:          5\n",
       "  evals/sample:     1"
      ]
     },
     "execution_count": 25,
     "metadata": {},
     "output_type": "execute_result"
    }
   ],
   "source": [
    "@benchmark alo_matriz2(10000)"
   ]
  },
  {
   "cell_type": "code",
   "execution_count": 29,
   "metadata": {
    "collapsed": false
   },
   "outputs": [
    {
     "data": {
      "text/plain": [
       "1.163213524"
      ]
     },
     "execution_count": 29,
     "metadata": {},
     "output_type": "execute_result"
    }
   ],
   "source": [
    "@elapsed alo_matriz2(10000)"
   ]
  },
  {
   "cell_type": "code",
   "execution_count": 30,
   "metadata": {
    "collapsed": false,
    "scrolled": true
   },
   "outputs": [
    {
     "data": {
      "text/plain": [
       "alo_matriz1 (generic function with 1 method)"
      ]
     },
     "execution_count": 30,
     "metadata": {},
     "output_type": "execute_result"
    }
   ],
   "source": [
    "# Função paralela\n",
    "\n",
    "function alo_matriz1(n::Int64)\n",
    "    matriz = zeros(n, n)\n",
    "    @distributed for i = 1:n\n",
    "                for j = 1:n\n",
    "                    matriz[i, j] = rand()*0.25\n",
    "                end\n",
    "              end\n",
    "    return matriz\n",
    "end"
   ]
  },
  {
   "cell_type": "code",
   "execution_count": 30,
   "metadata": {
    "collapsed": false,
    "scrolled": false
   },
   "outputs": [
    {
     "data": {
      "text/plain": [
       "BenchmarkTools.Trial: \n",
       "  memory estimate:  762.98 MiB\n",
       "  allocs estimate:  1207\n",
       "  --------------\n",
       "  minimum time:     2.779 s (0.25% GC)\n",
       "  median time:      2.854 s (1.52% GC)\n",
       "  mean time:        2.854 s (1.52% GC)\n",
       "  maximum time:     2.929 s (2.73% GC)\n",
       "  --------------\n",
       "  samples:          2\n",
       "  evals/sample:     1"
      ]
     },
     "execution_count": 30,
     "metadata": {},
     "output_type": "execute_result"
    }
   ],
   "source": [
    "@benchmark alo_matriz1(10000)"
   ]
  },
  {
   "cell_type": "code",
   "execution_count": 40,
   "metadata": {
    "collapsed": false
   },
   "outputs": [
    {
     "data": {
      "text/plain": [
       "0.223852437"
      ]
     },
     "execution_count": 40,
     "metadata": {},
     "output_type": "execute_result"
    }
   ],
   "source": [
    "@elapsed alo_matriz1(10000)"
   ]
  },
  {
   "cell_type": "code",
   "execution_count": 44,
   "metadata": {
    "collapsed": false
   },
   "outputs": [],
   "source": [
    "# use o garbage collector para remover o lixo da memória\n",
    "GC.gc()\n",
    "GC.gc()"
   ]
  },
  {
   "cell_type": "markdown",
   "metadata": {},
   "source": [
    "### ParallelAccelerator\n",
    "\n",
    "ParallelAccelerator é um pacote para acelerar programas de Julia voltados principalmente para o cálculo de matrizes e vetores. Através da macro `@acc` **ParallelAccelerator** compila partes do programa e elimina automaticamente funções desnecessárias e também paraleliza e vetoriza muitas operações de dados em paralelo. Além de acelerar o cálculo, `@acc` optimiza o consumo de memória, logo é muito útil para grandes matrizes. \n",
    "\n",
    "ParallelAccelerator é parte do projeto de script de alto desempenho (HPS) da Intel Labs. \n",
    "\n"
   ]
  },
  {
   "cell_type": "code",
   "execution_count": null,
   "metadata": {
    "collapsed": true,
    "scrolled": true
   },
   "outputs": [],
   "source": [
    "Pkg.add(\"ParallelAccelerator\")"
   ]
  },
  {
   "cell_type": "code",
   "execution_count": null,
   "metadata": {
    "collapsed": true
   },
   "outputs": [],
   "source": [
    "using BenchmarkTools"
   ]
  },
  {
   "cell_type": "code",
   "execution_count": 23,
   "metadata": {
    "collapsed": true
   },
   "outputs": [],
   "source": [
    "NP(n) = [i^2 + j^3 + i^5 + j^7 + i^9 + j^11 for i = 1:n, j = 1:n];"
   ]
  },
  {
   "cell_type": "code",
   "execution_count": 24,
   "metadata": {
    "collapsed": false
   },
   "outputs": [
    {
     "data": {
      "text/plain": [
       "BenchmarkTools.Trial: \n",
       "  samples:          2\n",
       "  evals/sample:     1\n",
       "  time tolerance:   5.00%\n",
       "  memory tolerance: 1.00%\n",
       "  memory estimate:  762.94 mb\n",
       "  allocs estimate:  3\n",
       "  minimum time:     3.91 s (0.32% GC)\n",
       "  median time:      3.93 s (1.31% GC)\n",
       "  mean time:        3.93 s (1.31% GC)\n",
       "  maximum time:     3.96 s (2.29% GC)"
      ]
     },
     "execution_count": 24,
     "metadata": {},
     "output_type": "execute_result"
    }
   ],
   "source": [
    "@benchmark NP(10000)"
   ]
  },
  {
   "cell_type": "code",
   "execution_count": 25,
   "metadata": {
    "collapsed": true
   },
   "outputs": [],
   "source": [
    "# use o garbage collector para remover o lixo da memória\n",
    "gc()\n",
    "gc()"
   ]
  },
  {
   "cell_type": "code",
   "execution_count": 26,
   "metadata": {
    "collapsed": false
   },
   "outputs": [
    {
     "data": {
      "text/plain": [
       "5-element Array{Int64,1}:\n",
       "  1\n",
       " 10\n",
       " 11\n",
       " 12\n",
       " 13"
      ]
     },
     "execution_count": 26,
     "metadata": {},
     "output_type": "execute_result"
    }
   ],
   "source": [
    "# verificar os cores alocados. Se houver mais de um até o número de cores físicos OK.\n",
    "procs()"
   ]
  },
  {
   "cell_type": "code",
   "execution_count": 14,
   "metadata": {
    "collapsed": false,
    "scrolled": false
   },
   "outputs": [
    {
     "data": {
      "text/plain": [
       "4-element Array{Int64,1}:\n",
       " 6\n",
       " 7\n",
       " 8\n",
       " 9"
      ]
     },
     "execution_count": 14,
     "metadata": {},
     "output_type": "execute_result"
    }
   ],
   "source": [
    "# se houver apenas um cores execute\n",
    "addprocs()"
   ]
  },
  {
   "cell_type": "code",
   "execution_count": 104,
   "metadata": {
    "collapsed": false
   },
   "outputs": [
    {
     "name": "stderr",
     "output_type": "stream",
     "text": [
      "INFO: Nothing to be done\n",
      "INFO: METADATA is out-of-date — you may not have the latest version of ParallelAccelerator\n",
      "INFO: Use `Pkg.update()` to get the latest versions of your packages\n"
     ]
    }
   ],
   "source": [
    "Pkg.add(\"ParallelAccelerator\")"
   ]
  },
  {
   "cell_type": "code",
   "execution_count": 27,
   "metadata": {
    "collapsed": true
   },
   "outputs": [],
   "source": [
    "using ParallelAccelerator"
   ]
  },
  {
   "cell_type": "code",
   "execution_count": 28,
   "metadata": {
    "collapsed": true
   },
   "outputs": [],
   "source": [
    "@acc PA(n) = [i.^2 + j.^3 + i.^5 + j.^7 + i.^9 + j^.11 for i = 1:n, j = 1:n];"
   ]
  },
  {
   "cell_type": "code",
   "execution_count": 29,
   "metadata": {
    "collapsed": false,
    "scrolled": true
   },
   "outputs": [
    {
     "name": "stdout",
     "output_type": "stream",
     "text": [
      " 35.374035 seconds (26.60 M allocations: 1.831 GB, 1.86% gc time)\n",
      "elapsed time (ns): 35374034717\n",
      "gc time (ns):      656413004\n",
      "bytes allocated:   1965542385\n",
      "pool allocs:       26599117\n",
      "non-pool GC allocs:1370\n",
      "malloc() calls:    47\n",
      "GC pauses:         51\n",
      "full collections:  3\n"
     ]
    }
   ],
   "source": [
    "# execute sempre mais de uma vez para obter o melhor resultado\n",
    "@timev PA(10000);"
   ]
  },
  {
   "cell_type": "code",
   "execution_count": 30,
   "metadata": {
    "collapsed": true
   },
   "outputs": [],
   "source": [
    "# use o garbage collector para remover o lixo da memória\n",
    "gc()\n",
    "gc()"
   ]
  },
  {
   "cell_type": "markdown",
   "metadata": {},
   "source": [
    "### DistributedArrays"
   ]
  },
  {
   "cell_type": "code",
   "execution_count": 1,
   "metadata": {
    "collapsed": false,
    "scrolled": true
   },
   "outputs": [
    {
     "name": "stderr",
     "output_type": "stream",
     "text": [
      "INFO: Nothing to be done\n"
     ]
    }
   ],
   "source": [
    "Pkg.add(\"DistributedArrays\")"
   ]
  },
  {
   "cell_type": "code",
   "execution_count": 2,
   "metadata": {
    "collapsed": true
   },
   "outputs": [],
   "source": [
    "using BenchmarkTools"
   ]
  },
  {
   "cell_type": "code",
   "execution_count": 3,
   "metadata": {
    "collapsed": false
   },
   "outputs": [
    {
     "data": {
      "text/plain": [
       "array (generic function with 1 method)"
      ]
     },
     "execution_count": 3,
     "metadata": {},
     "output_type": "execute_result"
    }
   ],
   "source": [
    "function array(n)\n",
    "    return ([i^2 + j^3 + i^5 + j^7 + i^9 + j^11 for i = 1:n, j = 1:n]);\n",
    "end"
   ]
  },
  {
   "cell_type": "code",
   "execution_count": 4,
   "metadata": {
    "collapsed": false,
    "scrolled": false
   },
   "outputs": [
    {
     "data": {
      "text/plain": [
       "BenchmarkTools.Trial: \n",
       "  samples:          3\n",
       "  evals/sample:     1\n",
       "  time tolerance:   5.00%\n",
       "  memory tolerance: 1.00%\n",
       "  memory estimate:  373.84 mb\n",
       "  allocs estimate:  3\n",
       "  minimum time:     1.80 s (0.67% GC)\n",
       "  median time:      1.83 s (2.80% GC)\n",
       "  mean time:        1.83 s (2.28% GC)\n",
       "  maximum time:     1.87 s (3.32% GC)"
      ]
     },
     "execution_count": 4,
     "metadata": {},
     "output_type": "execute_result"
    }
   ],
   "source": [
    "@benchmark array(7000)"
   ]
  },
  {
   "cell_type": "code",
   "execution_count": 15,
   "metadata": {
    "collapsed": true
   },
   "outputs": [],
   "source": [
    "# use o garbage collector para remover o lixo da memória\n",
    "gc()\n",
    "gc()"
   ]
  },
  {
   "cell_type": "markdown",
   "metadata": {},
   "source": [
    "![Execução Sem Paralelismo](Figuras/Arrays-sem-paralelismo.png)"
   ]
  },
  {
   "cell_type": "markdown",
   "metadata": {},
   "source": [
    "Antes de executar o código é necesário verificar se há outros cores disponíveis. Caso exista somente 1, é necessário adicionar novos cores e vincular o `DistributedArrays` ao macro `@everywhere` seguindo a ordem:\n",
    "\n",
    "    1º adicione os cores addprocs(n*)\n",
    "    2º use @everywhere using DistributedArrays\n",
    "    3º execute o código com o macro @Darray \n",
    "**n** corresponde ao número de cores. Utilizando `addprocs()`(o mesmo que usar ``addprocs(Sys.CPU_CORES)``) Julia cria automaticamente o número de cores que melhor se ajustam à máquina. Sempre execute uma segunda vez o código, a primeira tem péssimo desempenho.\n",
    "\n",
    "Caso execute novamente `addprocs(n)` e depois `@Darray`, os cores novos serão eliminados da lista de processos e será utilizado somente os cores vinculados ao macro `@everywhere`. "
   ]
  },
  {
   "cell_type": "code",
   "execution_count": 6,
   "metadata": {
    "collapsed": false,
    "scrolled": true
   },
   "outputs": [
    {
     "data": {
      "text/plain": [
       "4"
      ]
     },
     "execution_count": 6,
     "metadata": {},
     "output_type": "execute_result"
    }
   ],
   "source": [
    "# visualizar o numero de cores do processador físico\n",
    "Sys.CPU_CORES"
   ]
  },
  {
   "cell_type": "code",
   "execution_count": 13,
   "metadata": {
    "collapsed": false,
    "scrolled": false
   },
   "outputs": [
    {
     "data": {
      "text/plain": [
       "1-element Array{Int64,1}:\n",
       " 1"
      ]
     },
     "execution_count": 13,
     "metadata": {},
     "output_type": "execute_result"
    }
   ],
   "source": [
    "# verificar o número de cores disponíveis e ID\n",
    "procs()"
   ]
  },
  {
   "cell_type": "code",
   "execution_count": 19,
   "metadata": {
    "collapsed": false
   },
   "outputs": [
    {
     "data": {
      "text/plain": [
       "4-element Array{Int64,1}:\n",
       " 10\n",
       " 11\n",
       " 12\n",
       " 13"
      ]
     },
     "execution_count": 19,
     "metadata": {},
     "output_type": "execute_result"
    }
   ],
   "source": [
    "# adiciona automaticanente a melhor quantidade de acordo com a quantidade de cores disponíveisa\n",
    "addprocs()"
   ]
  },
  {
   "cell_type": "code",
   "execution_count": 9,
   "metadata": {
    "collapsed": false,
    "scrolled": true
   },
   "outputs": [
    {
     "name": "stderr",
     "output_type": "stream",
     "text": [
      "WARNING: replacing module DistributedArrays.\n",
      "WARNING: replacing module DistributedArrays.\n",
      "WARNING: replacing module DistributedArrays.\n",
      "WARNING: replacing module DistributedArrays.\n"
     ]
    }
   ],
   "source": [
    "# vincular aos cores\n",
    "@everywhere using DistributedArrays"
   ]
  },
  {
   "cell_type": "code",
   "execution_count": 10,
   "metadata": {
    "collapsed": false
   },
   "outputs": [
    {
     "data": {
      "text/plain": [
       "Darray (generic function with 1 method)"
      ]
     },
     "execution_count": 10,
     "metadata": {},
     "output_type": "execute_result"
    }
   ],
   "source": [
    "function Darray(n)\n",
    "    return @DArray ([i^2 + j^3 + i^5 + j^7 + i^9 + j^11 for i = 1:n, j = 1:n]);\n",
    "end"
   ]
  },
  {
   "cell_type": "code",
   "execution_count": 21,
   "metadata": {
    "collapsed": false,
    "scrolled": true
   },
   "outputs": [
    {
     "ename": "LoadError",
     "evalue": "LoadError: On worker 10:\nUndefVarError: DistributedArrays not defined\n in deserialize at ./serialize.jl:602\n in handle_deserialize at ./serialize.jl:581\n in deserialize at ./serialize.jl:541\n in deserialize_datatype at ./serialize.jl:822\n in handle_deserialize at ./serialize.jl:571\n in deserialize_msg at ./multi.jl:120\n in message_handler_loop at ./multi.jl:1317\n in process_tcp_streams at ./multi.jl:1276\n in #618 at ./event.jl:68\n in #remotecall_fetch#606(::Array{Any,1}, ::Function, ::Function, ::Base.Worker, ::Function, ::Vararg{Any,N}) at ./multi.jl:1070\n in remotecall_fetch(::Function, ::Base.Worker, ::Function, ::Vararg{Any,N}) at ./multi.jl:1062\n in #remotecall_fetch#609(::Array{Any,1}, ::Function, ::Function, ::Int64, ::Function, ::Vararg{Any,N}) at ./multi.jl:1080\n in remotecall_fetch(::Function, ::Int64, ::Function, ::Vararg{Any,N}) at ./multi.jl:1080\n in macro expansion at /home/jmarcellopereira/.julia/v0.5/DistributedArrays/src/core.jl:89 [inlined]\n in (::DistributedArrays.##2#4{Tuple{Int64,Int64},##8#10{Int64},Tuple{Int64,Int64},Array{Int64,2},Array{Tuple{UnitRange{Int64},UnitRange{Int64}},2},Array{Array{Int64,1},1},Channel{Any}})() at ./task.jl:360\n\n...and 3 other exceptions.\n\nwhile loading In[21], in expression starting on line 207",
     "output_type": "error",
     "traceback": [
      "LoadError: On worker 10:\nUndefVarError: DistributedArrays not defined\n in deserialize at ./serialize.jl:602\n in handle_deserialize at ./serialize.jl:581\n in deserialize at ./serialize.jl:541\n in deserialize_datatype at ./serialize.jl:822\n in handle_deserialize at ./serialize.jl:571\n in deserialize_msg at ./multi.jl:120\n in message_handler_loop at ./multi.jl:1317\n in process_tcp_streams at ./multi.jl:1276\n in #618 at ./event.jl:68\n in #remotecall_fetch#606(::Array{Any,1}, ::Function, ::Function, ::Base.Worker, ::Function, ::Vararg{Any,N}) at ./multi.jl:1070\n in remotecall_fetch(::Function, ::Base.Worker, ::Function, ::Vararg{Any,N}) at ./multi.jl:1062\n in #remotecall_fetch#609(::Array{Any,1}, ::Function, ::Function, ::Int64, ::Function, ::Vararg{Any,N}) at ./multi.jl:1080\n in remotecall_fetch(::Function, ::Int64, ::Function, ::Vararg{Any,N}) at ./multi.jl:1080\n in macro expansion at /home/jmarcellopereira/.julia/v0.5/DistributedArrays/src/core.jl:89 [inlined]\n in (::DistributedArrays.##2#4{Tuple{Int64,Int64},##8#10{Int64},Tuple{Int64,Int64},Array{Int64,2},Array{Tuple{UnitRange{Int64},UnitRange{Int64}},2},Array{Array{Int64,1},1},Channel{Any}})() at ./task.jl:360\n\n...and 3 other exceptions.\n\nwhile loading In[21], in expression starting on line 207",
      "",
      " in sync_end() at ./task.jl:311",
      " in macro expansion at ./task.jl:327 [inlined]",
      " in DistributedArrays.DArray{T,N,A}(::Tuple{Int64,Int64}, ::Function, ::Tuple{Int64,Int64}, ::Array{Int64,2}, ::Array{Tuple{UnitRange{Int64},UnitRange{Int64}},2}, ::Array{Array{Int64,1},1}) at /home/jmarcellopereira/.julia/v0.5/DistributedArrays/src/core.jl:84",
      " in DistributedArrays.DArray{T,N,A}(::Function, ::Tuple{Int64,Int64}, ::Array{Int64,1}, ::Array{Int64,1}) at /home/jmarcellopereira/.julia/v0.5/DistributedArrays/src/core.jl:124",
      " in DistributedArrays.DArray{T,N,A}(::Function, ::Tuple{Int64,Int64}, ::Array{Int64,1}) at /home/jmarcellopereira/.julia/v0.5/DistributedArrays/src/core.jl:131",
      " in DistributedArrays.DArray{T,N,A}(::Function, ::Tuple{Int64,Int64}) at /home/jmarcellopereira/.julia/v0.5/DistributedArrays/src/core.jl:133",
      " in Darray(::Int64) at ./In[10]:2"
     ]
    }
   ],
   "source": [
    "# a primeira execução é ruim. Execute uma segunda vez após gc()\n",
    "# Aqui o @benchmark não é adequado.\n",
    "@timev  Darray(7000)\n",
    "\n",
    "# use o garbage collector para remover o lixo da memória\n",
    "gc()\n",
    "gc()"
   ]
  },
  {
   "cell_type": "markdown",
   "metadata": {},
   "source": [
    "![](Figuras/Arrays-com-paralelismo.png)"
   ]
  },
  {
   "cell_type": "code",
   "execution_count": 14,
   "metadata": {
    "collapsed": false
   },
   "outputs": [
    {
     "name": "stderr",
     "output_type": "stream",
     "text": [
      "\u001b[1m\u001b[31mWARNING: rmprocs: process 1 not removed\u001b[0m\n"
     ]
    },
    {
     "data": {
      "text/plain": [
       ":ok"
      ]
     },
     "execution_count": 14,
     "metadata": {},
     "output_type": "execute_result"
    }
   ],
   "source": [
    "#remover os nucleos alocados \n",
    "rmprocs(procs())"
   ]
  },
  {
   "cell_type": "markdown",
   "metadata": {
    "collapsed": true
   },
   "source": [
    "## CLUSTER"
   ]
  },
  {
   "cell_type": "code",
   "execution_count": null,
   "metadata": {
    "collapsed": true
   },
   "outputs": [],
   "source": []
  }
 ],
 "metadata": {
  "anaconda-cloud": {},
  "kernelspec": {
   "display_name": "Julia 1.0.2",
   "language": "julia",
   "name": "julia-1.0"
  },
  "language_info": {
   "file_extension": ".jl",
   "mimetype": "application/julia",
   "name": "julia",
   "version": "1.0.2"
  },
  "latex_envs": {
   "LaTeX_envs_menu_present": true,
   "autocomplete": true,
   "bibliofile": "biblio.bib",
   "cite_by": "apalike",
   "current_citInitial": 1,
   "eqLabelWithNumbers": true,
   "eqNumInitial": 1,
   "hotkeys": {
    "equation": "Ctrl-E",
    "itemize": "Ctrl-I"
   },
   "labels_anchors": false,
   "latex_user_defs": false,
   "report_style_numbering": false,
   "user_envs_cfg": false
  }
 },
 "nbformat": 4,
 "nbformat_minor": 1
}
