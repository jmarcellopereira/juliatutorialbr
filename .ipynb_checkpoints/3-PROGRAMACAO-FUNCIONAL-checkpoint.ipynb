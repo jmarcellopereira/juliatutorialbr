{
 "cells": [
  {
   "cell_type": "markdown",
   "metadata": {},
   "source": [
    "# PROGRAMAÇÃO FUNCIONAL "
   ]
  },
  {
   "cell_type": "markdown",
   "metadata": {},
   "source": [
    "## PARADIGMA FUNCIONAL\n",
    "\n",
    "\n",
    "\n",
    "Paradigma funcional ...\n",
    "\n",
    "Funções anônimas não têm um nome para serem invocadas diretamente,mas são muito usadas como parâmetros para outras funções, ou são atribuídas a uma variável, que acaba funcionando como um nome (BALDUINO, XX). Não precisam usar o SymPy ou a forma de função genérica. Ao definir uma função anônima, devemos observar que o resultado é uma função genérica, mas com um nome gerado pelo compilador na forma:\n",
    "```julia\n",
    "(::#a)(generic function with b method)\n",
    "```\n",
    "Sendo `#a` representa o número gerado pelo compilador baseado em numeração consecutiva e `b` o número de métodos. O uso principal para funções anônimas é passá-las para funções que assumem outras funções como argumentos ou quando uma função precisa ser redefinida várias vezes. Em geral são mais rápidas que as funções genéricas. São escritas na forma:\n",
    "\n",
    "Tupla de retorno único:\n",
    "```julia\n",
    "(variavel ->  expressao_variável)(valor_variável)\n",
    "\n",
    "ou \n",
    "\n",
    "((var_1 ,..., var_n) ->  expressao_variáveis)(valor_var_1 ,..., valor_var_n)\n",
    "```\n",
    "\n",
    "Tupla de retorno múltiplo:\n",
    "\n",
    "```julia\n",
    "\n",
    "(variavel ->  (expressao_1_variável,.., expressao_n_variável ))(valor_variável)\n",
    "\n",
    "ou \n",
    "\n",
    "((var_1 ,..., var_n) -> (expressao_1_var ,.., expressao_n_var))(valor_var_1,..., valor_var_n)\n",
    "```\n",
    " \n",
    "É possível criar uma função anônima na forma de blocos utilizando o comando `begin ... end:`\n",
    "```julia\n",
    "\n",
    "(x-> begin\n",
    "        instruções\n",
    "end)\n",
    "\n",
    "\n",
    "```"
   ]
  },
  {
   "cell_type": "code",
   "execution_count": 1,
   "metadata": {
    "scrolled": true
   },
   "outputs": [
    {
     "data": {
      "text/plain": [
       "-1"
      ]
     },
     "execution_count": 1,
     "metadata": {},
     "output_type": "execute_result"
    }
   ],
   "source": [
    "# uma variável e retorno simples\n",
    "(x -> x^3 - 2*x^2 - 1)(0)"
   ]
  },
  {
   "cell_type": "code",
   "execution_count": null,
   "metadata": {
    "collapsed": true
   },
   "outputs": [],
   "source": [
    "# uma variável e retorno simples\n",
    "# com atribuição de uma variável\n",
    "f_ano_1 = x -> x^3 - 2*x^2 - 1"
   ]
  },
  {
   "cell_type": "code",
   "execution_count": null,
   "metadata": {
    "collapsed": true
   },
   "outputs": [],
   "source": [
    "f_ano_1(0)"
   ]
  },
  {
   "cell_type": "code",
   "execution_count": 1,
   "metadata": {},
   "outputs": [
    {
     "data": {
      "text/plain": [
       "(-1, 1)"
      ]
     },
     "execution_count": 1,
     "metadata": {},
     "output_type": "execute_result"
    }
   ],
   "source": [
    "# uma variável e retorno múltiplo\n",
    "(x -> (x^3 - 2*x^2 - 1 , x + 1) )(0)"
   ]
  },
  {
   "cell_type": "code",
   "execution_count": null,
   "metadata": {
    "collapsed": true
   },
   "outputs": [],
   "source": [
    "# duas variáveis e retorno simples\n",
    "((x, y) -> 2*y - 1 + x)(0 , 0)"
   ]
  },
  {
   "cell_type": "code",
   "execution_count": null,
   "metadata": {
    "collapsed": true
   },
   "outputs": [],
   "source": [
    "# duas variáveis e retorno múltiplo\n",
    "((x, y) -> (2*y - 1 + x, x*y))(0 , 0)"
   ]
  },
  {
   "cell_type": "markdown",
   "metadata": {},
   "source": [
    "Uma forma prática de trabalhar com funções anônimas grandes é utilizano um bloco de código ``` begin ... end```"
   ]
  },
  {
   "cell_type": "code",
   "execution_count": null,
   "metadata": {
    "collapsed": true
   },
   "outputs": [],
   "source": [
    "f_ano_2 = x -> begin\n",
    "    if x < 10 && iseven(x) # se o valor de x é menor que 10 e par\n",
    "               return 0\n",
    "           elseif x == 10\n",
    "               return 1\n",
    "           else            \n",
    "               return x\n",
    "           end\n",
    "       end"
   ]
  },
  {
   "cell_type": "code",
   "execution_count": null,
   "metadata": {
    "collapsed": true
   },
   "outputs": [],
   "source": [
    "f_ano_2(10)"
   ]
  },
  {
   "cell_type": "markdown",
   "metadata": {},
   "source": [
    "#### FUNÇÃO ANÔNIMA APLICADA A VETOR/MATRIZ"
   ]
  },
  {
   "cell_type": "code",
   "execution_count": null,
   "metadata": {
    "collapsed": true
   },
   "outputs": [],
   "source": [
    "# Vetor \n",
    "# uma variável e retorno simples\n",
    "# O ponto \".\" serve para calcular a função elemento-elemento do vetor.\n",
    "(x -> x^3 - 2*x^2 - 1).(1:3)"
   ]
  },
  {
   "cell_type": "code",
   "execution_count": null,
   "metadata": {
    "collapsed": true
   },
   "outputs": [],
   "source": [
    "# é possível atribuir a função a uma variável\n",
    "f_ano_3 = (x -> x^3 - 2*x^2 - 1)"
   ]
  },
  {
   "cell_type": "code",
   "execution_count": null,
   "metadata": {
    "collapsed": true
   },
   "outputs": [],
   "source": [
    "# O ponto \".\" serve para calcular a função elemento-elemento do vetor.\n",
    "f_ano_3.(1:3)"
   ]
  },
  {
   "cell_type": "code",
   "execution_count": null,
   "metadata": {
    "collapsed": true
   },
   "outputs": [],
   "source": [
    "# Matriz\n",
    "# Uma variável e retorno simples\n",
    "(x -> x^3 - 2*x^2 - 1).([1 2 3; 4 5 6])"
   ]
  },
  {
   "cell_type": "code",
   "execution_count": null,
   "metadata": {
    "collapsed": true
   },
   "outputs": [],
   "source": [
    "# Vetor\n",
    "# Duas variáveis e retorno simples\n",
    "((x,y)-> 2*y^2 - 1 + x).(0:3 , 0:3)"
   ]
  },
  {
   "cell_type": "markdown",
   "metadata": {},
   "source": [
    "## MAPEAMENTO, FILTRAGEM E LIST COMPREENSION"
   ]
  },
  {
   "cell_type": "markdown",
   "metadata": {},
   "source": [
    "### MAPEAMENTO\n",
    "\n",
    "A função `map()` serve para aplicarmos uma função a cada elemento de um `Array`, retornando um novo `Array` contendo os elementos resultantes da aplicação da função. `mapreduce()` usa a função `map()` sobre uma função e reduz os resultados aplicando um operador, ou seja, o resulado final é  um valor único."
   ]
  },
  {
   "cell_type": "markdown",
   "metadata": {},
   "source": [
    "#### EXPRESSÕES SIMBÓLICAS\n",
    "\n",
    "**map()**\n",
    "```julia\n",
    "using SymPy\n",
    "@syms x y\n",
    "\n",
    "map(expressão_variável, objeto)\n",
    "map(expressão_variáveis, objeto_var_1,..., objeto_var_n)\n",
    "\n",
    "```\n",
    "\n",
    "```julia\n",
    "nome_var = expressão_var \n",
    "map(nome_var, objeto)\n",
    "\n",
    "nome_var = expressão_variáveis \n",
    "map(nome_var, objeto_var_1,.., objeto_var_n)\n",
    "```\n",
    "**mapreduce()**\n",
    "```julia\n",
    "using SymPy\n",
    "@syms x y\n",
    "\n",
    "nome_var = expressão_var \n",
    "mapreduce(nome_var, operador, objeto)\n",
    "\n",
    "nome_var = expressão_variáves \n",
    "map(nome_var, objeto_var_1,.., objeto_var_n)\n",
    "```"
   ]
  },
  {
   "cell_type": "code",
   "execution_count": 1,
   "metadata": {},
   "outputs": [
    {
     "data": {
      "text/plain": [
       "(x, y)"
      ]
     },
     "execution_count": 1,
     "metadata": {},
     "output_type": "execute_result"
    }
   ],
   "source": [
    "using SymPy\n",
    "@syms x y "
   ]
  },
  {
   "cell_type": "code",
   "execution_count": 5,
   "metadata": {},
   "outputs": [
    {
     "data": {
      "text/latex": [
       "\\begin{bmatrix}2\\\\6\\\\12\\end{bmatrix}"
      ],
      "text/plain": [
       "3-element Array{SymPy.Sym,1}:\n",
       "  2\n",
       "  6\n",
       " 12"
      ]
     },
     "execution_count": 5,
     "metadata": {},
     "output_type": "execute_result"
    }
   ],
   "source": [
    "# expressão simbólica\n",
    "map(x^2 + x, 1:3)"
   ]
  },
  {
   "cell_type": "code",
   "execution_count": 6,
   "metadata": {},
   "outputs": [
    {
     "data": {
      "text/latex": [
       "$$x^{2} + 1$$"
      ],
      "text/plain": [
       " 2    \n",
       "x  + 1"
      ]
     },
     "execution_count": 6,
     "metadata": {},
     "output_type": "execute_result"
    }
   ],
   "source": [
    "fs1 = x^2 + 1"
   ]
  },
  {
   "cell_type": "code",
   "execution_count": 7,
   "metadata": {
    "scrolled": true
   },
   "outputs": [
    {
     "data": {
      "text/latex": [
       "\\begin{bmatrix}2\\\\5\\\\10\\end{bmatrix}"
      ],
      "text/plain": [
       "3-element Array{SymPy.Sym,1}:\n",
       "  2\n",
       "  5\n",
       " 10"
      ]
     },
     "execution_count": 7,
     "metadata": {},
     "output_type": "execute_result"
    }
   ],
   "source": [
    "map(fs1, 1:3)"
   ]
  },
  {
   "cell_type": "code",
   "execution_count": 8,
   "metadata": {},
   "outputs": [
    {
     "data": {
      "text/latex": [
       "\\begin{bmatrix}2&5&10\\\\17&26&37\\end{bmatrix}"
      ],
      "text/plain": [
       "2×3 Array{SymPy.Sym,2}:\n",
       "  2   5  10\n",
       " 17  26  37"
      ]
     },
     "execution_count": 8,
     "metadata": {},
     "output_type": "execute_result"
    }
   ],
   "source": [
    "map(fs1, [1 2 3; 4 5 6] , [1 2 3; 4 5 6])"
   ]
  },
  {
   "cell_type": "code",
   "execution_count": 9,
   "metadata": {},
   "outputs": [
    {
     "data": {
      "text/latex": [
       "$$x + y \\cos{\\left (x \\right )} + y$$"
      ],
      "text/plain": [
       "x + y⋅cos(x) + y"
      ]
     },
     "execution_count": 9,
     "metadata": {},
     "output_type": "execute_result"
    }
   ],
   "source": [
    "fs2 = x + y + cos(x)*y"
   ]
  },
  {
   "cell_type": "code",
   "execution_count": 7,
   "metadata": {
    "scrolled": true
   },
   "outputs": [
    {
     "data": {
      "text/latex": [
       "\\begin{bmatrix}\\cos{\\left (1 \\right )} + 2&2 \\cos{\\left (2 \\right )} + 4&3 \\cos{\\left (3 \\right )} + 6\\\\4 \\cos{\\left (4 \\right )} + 8&5 \\cos{\\left (5 \\right )} + 10&6 \\cos{\\left (6 \\right )} + 12\\end{bmatrix}"
      ],
      "text/plain": [
       "2×3 Array{SymPy.Sym,2}:\n",
       "   cos(1) + 2   2*cos(2) + 4   3*cos(3) + 6\n",
       " 4*cos(4) + 8  5*cos(5) + 10  6*cos(6) + 12"
      ]
     },
     "execution_count": 7,
     "metadata": {},
     "output_type": "execute_result"
    }
   ],
   "source": [
    "map(fs2 , [1 2 3; 4 5 6] , [1 2 3; 4 5 6])"
   ]
  },
  {
   "cell_type": "markdown",
   "metadata": {},
   "source": [
    "Veja que o resuldado não é do tipo Float. Para isto use:"
   ]
  },
  {
   "cell_type": "code",
   "execution_count": 8,
   "metadata": {
    "scrolled": true
   },
   "outputs": [
    {
     "data": {
      "text/plain": [
       "2×3 Array{Float64,2}:\n",
       " 2.5403    3.16771   3.03002\n",
       " 5.38543  11.4183   17.761  "
      ]
     },
     "execution_count": 8,
     "metadata": {},
     "output_type": "execute_result"
    }
   ],
   "source": [
    "float(map(fs2 , [1 2 3; 4 5 6] ,[1 2 3; 4 5 6]))"
   ]
  },
  {
   "cell_type": "code",
   "execution_count": 9,
   "metadata": {},
   "outputs": [
    {
     "data": {
      "text/plain": [
       "2×3 Array{Float64,2}:\n",
       " 2.5403    3.16771   3.03002\n",
       " 5.38543  11.4183   17.761  "
      ]
     },
     "execution_count": 9,
     "metadata": {},
     "output_type": "execute_result"
    }
   ],
   "source": [
    "# outra forma. \"|>\" Aplica uma função ao argumento anterior. \n",
    "map(fs2 , [1 2 3; 4 5 6] , [1 2 3; 4 5 6]) |> float"
   ]
  },
  {
   "cell_type": "code",
   "execution_count": 10,
   "metadata": {},
   "outputs": [
    {
     "data": {
      "text/latex": [
       "$$17$$"
      ],
      "text/plain": [
       "17"
      ]
     },
     "execution_count": 10,
     "metadata": {},
     "output_type": "execute_result"
    }
   ],
   "source": [
    "# map reduce\n",
    "# calcular os valores de 0 a 3 e somar os resultados\n",
    "mapreduce(fs1 , + , 1:3)"
   ]
  },
  {
   "cell_type": "code",
   "execution_count": 11,
   "metadata": {},
   "outputs": [
    {
     "data": {
      "text/latex": [
       "$$6 \\cos{\\left (3 \\right )} + 6 \\cos{\\left (2 \\right )} + 6 \\cos{\\left (1 \\right )} + 36$$"
      ],
      "text/plain": [
       "6⋅cos(3) + 6⋅cos(2) + 6⋅cos(1) + 36"
      ]
     },
     "execution_count": 11,
     "metadata": {},
     "output_type": "execute_result"
    }
   ],
   "source": [
    "# mapreduce aplicado a expressão simbólica de duas variáveis\n",
    "mapreduce(mapreduce(fs2 , + , 1:3), + , 1:3)"
   ]
  },
  {
   "cell_type": "code",
   "execution_count": 12,
   "metadata": {},
   "outputs": [
    {
     "data": {
      "text/plain": [
       "30.80497783632331"
      ]
     },
     "execution_count": 12,
     "metadata": {},
     "output_type": "execute_result"
    }
   ],
   "source": [
    "float(mapreduce(mapreduce(fs2 , + , 1:3), + , 1:3))"
   ]
  },
  {
   "cell_type": "code",
   "execution_count": 13,
   "metadata": {
    "scrolled": true
   },
   "outputs": [
    {
     "data": {
      "text/latex": [
       "$$3 \\cos{\\left (3 \\right )} + 2 \\cos{\\left (2 \\right )} + \\cos{\\left (1 \\right )} + 12$$"
      ],
      "text/plain": [
       "3⋅cos(3) + 2⋅cos(2) + cos(1) + 12"
      ]
     },
     "execution_count": 13,
     "metadata": {},
     "output_type": "execute_result"
    }
   ],
   "source": [
    "# outra alternativa é usar o comando reduce em comjunto com map\n",
    "# o comando map gera os termos e reduce soma-os\n",
    "reduce(+ , map(fs2, 1:3, 1:3))"
   ]
  },
  {
   "cell_type": "markdown",
   "metadata": {},
   "source": [
    "### FUNÇÕES GENÉRICAS\n",
    "\n",
    "```julia\n",
    "map(função_variável, vetor)                           # função de uma variável\n",
    "map(função_variáveis, vetor_a, vetor_b, ..., vetor_n) # função de duas ou mais variáveis\n",
    "```"
   ]
  },
  {
   "cell_type": "code",
   "execution_count": 14,
   "metadata": {},
   "outputs": [
    {
     "data": {
      "text/plain": [
       "fg1 (generic function with 1 method)"
      ]
     },
     "execution_count": 14,
     "metadata": {},
     "output_type": "execute_result"
    }
   ],
   "source": [
    "# função de uma variável\n",
    "fg1(x) = sqrt(2*x + cos(x)^3)/sin(x^2 + 1)"
   ]
  },
  {
   "cell_type": "code",
   "execution_count": 15,
   "metadata": {},
   "outputs": [
    {
     "data": {
      "text/plain": [
       "4-element Array{Float64,1}:\n",
       "  1.1884 \n",
       "  1.61545\n",
       " -2.0668 \n",
       " -4.12246"
      ]
     },
     "execution_count": 15,
     "metadata": {},
     "output_type": "execute_result"
    }
   ],
   "source": [
    "map(fg1, 0:3)"
   ]
  },
  {
   "cell_type": "code",
   "execution_count": 16,
   "metadata": {},
   "outputs": [
    {
     "data": {
      "text/plain": [
       "fg2 (generic function with 1 method)"
      ]
     },
     "execution_count": 16,
     "metadata": {},
     "output_type": "execute_result"
    }
   ],
   "source": [
    "# função de duas variáveis\n",
    "fg2(x, y) = sqrt(2*x + cos(y)^3)/sin(y^2 + 1)"
   ]
  },
  {
   "cell_type": "code",
   "execution_count": 17,
   "metadata": {},
   "outputs": [
    {
     "data": {
      "text/plain": [
       "5-element Array{Float64,1}:\n",
       "  1.61545\n",
       " -2.0668 \n",
       " -4.12246\n",
       " -2.89019\n",
       "  4.15166"
      ]
     },
     "execution_count": 17,
     "metadata": {},
     "output_type": "execute_result"
    }
   ],
   "source": [
    "# os vetores de X e Y devem ter as mesmas dimensões\n",
    "map(fg2,1:5, 1:5)"
   ]
  },
  {
   "cell_type": "code",
   "execution_count": 18,
   "metadata": {
    "scrolled": true
   },
   "outputs": [
    {
     "data": {
      "text/plain": [
       "fg3 (generic function with 1 method)"
      ]
     },
     "execution_count": 18,
     "metadata": {},
     "output_type": "execute_result"
    }
   ],
   "source": [
    "# mapeamento aplicado a uma função genérica em blocos\n",
    "function fg3(x)\n",
    "    return sqrt(2*x + cos(x)^3)/sin(x^2  +1)\n",
    "end"
   ]
  },
  {
   "cell_type": "code",
   "execution_count": 19,
   "metadata": {
    "scrolled": true
   },
   "outputs": [
    {
     "data": {
      "text/plain": [
       "4-element Array{Float64,1}:\n",
       "  1.1884 \n",
       "  1.61545\n",
       " -2.0668 \n",
       " -4.12246"
      ]
     },
     "execution_count": 19,
     "metadata": {},
     "output_type": "execute_result"
    }
   ],
   "source": [
    "map(fg3, 0:3)"
   ]
  },
  {
   "cell_type": "code",
   "execution_count": 20,
   "metadata": {},
   "outputs": [
    {
     "data": {
      "text/plain": [
       "fg4 (generic function with 1 method)"
      ]
     },
     "execution_count": 20,
     "metadata": {},
     "output_type": "execute_result"
    }
   ],
   "source": [
    "# função genérica com retorno multiplo\n",
    "fg4(x) = x + 1 , x - 1 , x"
   ]
  },
  {
   "cell_type": "code",
   "execution_count": 21,
   "metadata": {
    "scrolled": true
   },
   "outputs": [
    {
     "data": {
      "text/plain": [
       "3-element Array{Tuple{Int64,Int64,Int64},1}:\n",
       " (2,0,1)\n",
       " (3,1,2)\n",
       " (4,2,3)"
      ]
     },
     "execution_count": 21,
     "metadata": {},
     "output_type": "execute_result"
    }
   ],
   "source": [
    "map(fg4, 1:3)"
   ]
  },
  {
   "cell_type": "code",
   "execution_count": 22,
   "metadata": {
    "scrolled": true
   },
   "outputs": [
    {
     "data": {
      "text/plain": [
       "-3.3854136841642646"
      ]
     },
     "execution_count": 22,
     "metadata": {},
     "output_type": "execute_result"
    }
   ],
   "source": [
    "# MapReduce\n",
    "# utilizando uma função genérica para calcular os valores de 0 a 3 e somar os resultados\n",
    "mapreduce(fg1, + , 0:3)"
   ]
  },
  {
   "cell_type": "code",
   "execution_count": 23,
   "metadata": {},
   "outputs": [
    {
     "data": {
      "text/plain": [
       "-4.573808789942386"
      ]
     },
     "execution_count": 23,
     "metadata": {},
     "output_type": "execute_result"
    }
   ],
   "source": [
    "# para duas variáveis a saída é usar o comando reduce em comjunto com map\n",
    "# o comando map gera os termos e reduce soma-os\n",
    "reduce(+, map(fg2, 1:3,1:3))"
   ]
  },
  {
   "cell_type": "markdown",
   "metadata": {},
   "source": [
    "### FUNÇÕES ANÔNIMAS"
   ]
  },
  {
   "cell_type": "code",
   "execution_count": 24,
   "metadata": {
    "scrolled": true
   },
   "outputs": [
    {
     "data": {
      "text/plain": [
       "5-element Array{Float64,1}:\n",
       "  1.61545\n",
       " -2.0668 \n",
       " -4.12246\n",
       " -2.89019\n",
       "  4.15166"
      ]
     },
     "execution_count": 24,
     "metadata": {},
     "output_type": "execute_result"
    }
   ],
   "source": [
    "# função de uma variável\n",
    "map(x -> sqrt(2*x + cos(x)^3)/sin(x^2 + 1), 1:5)"
   ]
  },
  {
   "cell_type": "code",
   "execution_count": 25,
   "metadata": {
    "scrolled": true
   },
   "outputs": [
    {
     "data": {
      "text/plain": [
       "5-element Array{Float64,1}:\n",
       "  1.61545\n",
       " -2.0668 \n",
       " -4.12246\n",
       " -2.89019\n",
       "  4.15166"
      ]
     },
     "execution_count": 25,
     "metadata": {},
     "output_type": "execute_result"
    }
   ],
   "source": [
    "# função de duas variáveis\n",
    "# os vetores de X e Y devem ter as mesmas dimensões\n",
    "map((x, y)-> sqrt(2*x + cos(y)^3)/sin(y^2 + 1), 1:5, 1:5)"
   ]
  },
  {
   "cell_type": "markdown",
   "metadata": {},
   "source": [
    "**Mapeamento com o comando DO**"
   ]
  },
  {
   "cell_type": "code",
   "execution_count": 26,
   "metadata": {},
   "outputs": [
    {
     "data": {
      "text/plain": [
       "7-element Array{String,1}:\n",
       " \"positivo\"\n",
       " \"negativo\"\n",
       " \"negativo\"\n",
       " \"negativo\"\n",
       " \"negativo\"\n",
       " \"negativo\"\n",
       " \"positivo\""
      ]
     },
     "execution_count": 26,
     "metadata": {},
     "output_type": "execute_result"
    }
   ],
   "source": [
    "# para quem achava que o \"do\" não servia para nada, heehheh\n",
    "\n",
    "map(-3:3) do x\n",
    "    if x^2 - 5 < 0 \n",
    "        return \"negativo\"\n",
    "    elseif x == 0\n",
    "        return \"zero\"\n",
    "    elseif exp(x) > 0\n",
    "        return \"positivo\"\n",
    "    else\n",
    "        return \"Estranho\"\n",
    "    end\n",
    "end"
   ]
  },
  {
   "cell_type": "code",
   "execution_count": 27,
   "metadata": {},
   "outputs": [
    {
     "data": {
      "text/plain": [
       "-3.3854136841642646"
      ]
     },
     "execution_count": 27,
     "metadata": {},
     "output_type": "execute_result"
    }
   ],
   "source": [
    "# utilizando uma função anonima para calcular os valores de 0 a 3 e somar os resultados\n",
    "mapreduce( x -> sqrt(2*x + cos(x)^3)/sin(x^2 + 1), + , 0:3)"
   ]
  },
  {
   "cell_type": "code",
   "execution_count": 28,
   "metadata": {},
   "outputs": [
    {
     "data": {
      "text/plain": [
       "31"
      ]
     },
     "execution_count": 28,
     "metadata": {},
     "output_type": "execute_result"
    }
   ],
   "source": [
    "# para duas variáveis a saída é usar o comando reduce em comjunto com map\n",
    "# o comando map gera os termos e reduce soma-os\n",
    "reduce( + , map((x , y) -> 2*y^2 - 1 + x  , 1:3 , 1:3))"
   ]
  },
  {
   "cell_type": "markdown",
   "metadata": {},
   "source": [
    "## LIST COMPREHENSIONS (LC)\n",
    "\n",
    "As compreensões de lista é um recurso muito útil para aplicar uma função à um vetor ou matriz e surgiu inicialmente na linguagem de programação funcional Haskell. Do ponto de vista da linguagem `Haskell`, VIEIRA (2014), exclarece que:\n",
    "\n",
    "> As compreensões, também conhecidas como expressões ZF, são devidas a Zermelo e Fraenkel e representam uma forma muito rica de construção de listas. O domı́nio desta técnica permite ao programador resolver muitos problemas de maneira simples e, em muitos casos, inusitada. A sintaxe das expressões ZF é muito próxima da descrição matemática de conjuntos por intensionalidade, exprimindo determinadas propriedades. As diferenças se verificam apenas nos sinais utilizados nas representações, mas a lógica subjacente é a mesma.\n",
    "\n",
    "Sintaxe genérica:\n",
    "```julia\n",
    "[expressao_var/função for var = vetor]  # resultado é um vetor.\n",
    "[expressao_var/função for var = matriz] # resultado é uma matriz.\n",
    "\n",
    "[expressao_var/função for var_1 = vetor, var_2 = vetor]   # resultado é uma matriz.\n",
    "[expressao_var/função for var_1 = matriz, var_2 = matriz] # resultado é uma matriz.\n",
    "\n",
    "[expressao_var/função for var_1 = vetor for var_2 = vetor]   # resultado é um vetor.\n",
    "[expressao_var/função for var_1 = matriz for var_2 = matriz] # resultado é um vetor.\n",
    "\n",
    "[expressao_var/função for var_1 = vetor if condição]  # resultado é um vetor.\n",
    "[expressao_var/função for var_1 = matriz if condição] # resultado é um vetor.\n",
    "```"
   ]
  },
  {
   "cell_type": "markdown",
   "metadata": {},
   "source": [
    "### EXPRESSÕES E EXPRESSÕES SIMBÓLICAS"
   ]
  },
  {
   "cell_type": "code",
   "execution_count": 29,
   "metadata": {
    "scrolled": true
   },
   "outputs": [
    {
     "data": {
      "text/plain": [
       "5-element Array{Int64,1}:\n",
       "  2\n",
       "  5\n",
       " 10\n",
       " 17\n",
       " 26"
      ]
     },
     "execution_count": 29,
     "metadata": {},
     "output_type": "execute_result"
    }
   ],
   "source": [
    "[ i^2 + 1  for i = 1:5]"
   ]
  },
  {
   "cell_type": "code",
   "execution_count": 30,
   "metadata": {},
   "outputs": [
    {
     "data": {
      "text/plain": [
       "5-element Array{Array{Int64,1},1}:\n",
       " [1,2] \n",
       " [2,5] \n",
       " [3,10]\n",
       " [4,17]\n",
       " [5,26]"
      ]
     },
     "execution_count": 30,
     "metadata": {},
     "output_type": "execute_result"
    }
   ],
   "source": [
    "# para visualizar a relação entre i e i^2 + 1\n",
    "[ [i, i^2 + 1]  for i = 1:5]"
   ]
  },
  {
   "cell_type": "code",
   "execution_count": 31,
   "metadata": {},
   "outputs": [
    {
     "data": {
      "text/plain": [
       "3×3 Array{Int64,2}:\n",
       " 1  2  3\n",
       " 2  4  6\n",
       " 3  6  9"
      ]
     },
     "execution_count": 31,
     "metadata": {},
     "output_type": "execute_result"
    }
   ],
   "source": [
    "[ i*j for i = 1:3, j = 1:3]"
   ]
  },
  {
   "cell_type": "code",
   "execution_count": 32,
   "metadata": {
    "scrolled": true
   },
   "outputs": [
    {
     "data": {
      "text/plain": [
       "3×3 Array{Array{Int64,1},2}:\n",
       " [1,1,1]  [1,2,2]  [1,3,3]\n",
       " [2,1,2]  [2,2,4]  [2,3,6]\n",
       " [3,1,3]  [3,2,6]  [3,3,9]"
      ]
     },
     "execution_count": 32,
     "metadata": {},
     "output_type": "execute_result"
    }
   ],
   "source": [
    "# para visualizar a relação entre i , j e i*j\n",
    "[[i , j , i*j] for i = 1:3, j = 1:3]"
   ]
  },
  {
   "cell_type": "code",
   "execution_count": 33,
   "metadata": {},
   "outputs": [
    {
     "data": {
      "text/plain": [
       "9-element Array{Int64,1}:\n",
       " 1\n",
       " 2\n",
       " 3\n",
       " 2\n",
       " 4\n",
       " 6\n",
       " 3\n",
       " 6\n",
       " 9"
      ]
     },
     "execution_count": 33,
     "metadata": {},
     "output_type": "execute_result"
    }
   ],
   "source": [
    "[ i*j for i = 1:3 for j = 1:3]"
   ]
  },
  {
   "cell_type": "code",
   "execution_count": 34,
   "metadata": {},
   "outputs": [
    {
     "data": {
      "text/plain": [
       "3-element Array{Int64,1}:\n",
       " 10\n",
       " 17\n",
       " 26"
      ]
     },
     "execution_count": 34,
     "metadata": {},
     "output_type": "execute_result"
    }
   ],
   "source": [
    "[ i^2 + 1 for i = 1:5 if i > 2]"
   ]
  },
  {
   "cell_type": "code",
   "execution_count": 35,
   "metadata": {},
   "outputs": [
    {
     "data": {
      "text/plain": [
       "3-element Array{Int64,1}:\n",
       " 10\n",
       " 17\n",
       " 26"
      ]
     },
     "execution_count": 35,
     "metadata": {},
     "output_type": "execute_result"
    }
   ],
   "source": [
    "[ i^2 + 1 for i = 1:5 if i*2 > 5]"
   ]
  },
  {
   "cell_type": "code",
   "execution_count": 36,
   "metadata": {},
   "outputs": [
    {
     "data": {
      "text/plain": [
       "3-element Array{Int64,1}:\n",
       " 3\n",
       " 6\n",
       " 9"
      ]
     },
     "execution_count": 36,
     "metadata": {},
     "output_type": "execute_result"
    }
   ],
   "source": [
    "[ i*j for i = 1:3 for j = 1:3 if i>2]"
   ]
  },
  {
   "cell_type": "code",
   "execution_count": 37,
   "metadata": {
    "scrolled": true
   },
   "outputs": [
    {
     "data": {
      "text/plain": [
       "2-element Array{Int64,1}:\n",
       " 3\n",
       " 6"
      ]
     },
     "execution_count": 37,
     "metadata": {},
     "output_type": "execute_result"
    }
   ],
   "source": [
    "[ i*j for i = 1:3 for j = 1:3 if (i>2) & (j<3)]"
   ]
  },
  {
   "cell_type": "code",
   "execution_count": 38,
   "metadata": {},
   "outputs": [
    {
     "data": {
      "text/plain": [
       "(x,y)"
      ]
     },
     "execution_count": 38,
     "metadata": {},
     "output_type": "execute_result"
    }
   ],
   "source": [
    "using SymPy\n",
    "@syms x y"
   ]
  },
  {
   "cell_type": "code",
   "execution_count": 39,
   "metadata": {
    "scrolled": true
   },
   "outputs": [
    {
     "data": {
      "text/plain": [
       "3×3 Array{Int64,2}:\n",
       " 1  2  3\n",
       " 2  4  6\n",
       " 3  6  9"
      ]
     },
     "execution_count": 39,
     "metadata": {},
     "output_type": "execute_result"
    }
   ],
   "source": [
    "[x*y for x = 1:3, y = 1:3]"
   ]
  },
  {
   "cell_type": "markdown",
   "metadata": {},
   "source": [
    "### FUNÇÃO GENÉRICA"
   ]
  },
  {
   "cell_type": "code",
   "execution_count": 40,
   "metadata": {},
   "outputs": [
    {
     "data": {
      "text/plain": [
       "fg5 (generic function with 1 method)"
      ]
     },
     "execution_count": 40,
     "metadata": {},
     "output_type": "execute_result"
    }
   ],
   "source": [
    "fg5(x) = sqrt(2*x + cos(x)^3)/sin(x^2 + 1)"
   ]
  },
  {
   "cell_type": "code",
   "execution_count": 41,
   "metadata": {},
   "outputs": [
    {
     "data": {
      "text/plain": [
       "3-element Array{Float64,1}:\n",
       "  1.61545\n",
       " -2.0668 \n",
       " -4.12246"
      ]
     },
     "execution_count": 41,
     "metadata": {},
     "output_type": "execute_result"
    }
   ],
   "source": [
    "[fg5(i) for i = 1:3]"
   ]
  },
  {
   "cell_type": "code",
   "execution_count": 42,
   "metadata": {},
   "outputs": [
    {
     "data": {
      "text/plain": [
       "fg6 (generic function with 1 method)"
      ]
     },
     "execution_count": 42,
     "metadata": {},
     "output_type": "execute_result"
    }
   ],
   "source": [
    "# função de duas variáveis\n",
    "fg6(x, y) = sqrt(2*x + cos(y)^3)/sin(y^2 + 1)"
   ]
  },
  {
   "cell_type": "code",
   "execution_count": 43,
   "metadata": {},
   "outputs": [
    {
     "data": {
      "text/plain": [
       "3×3 Array{Float64,2}:\n",
       " 1.61545  -1.44798  -1.86528\n",
       " 2.24245  -2.0668   -3.19953\n",
       " 2.729    -2.53903  -4.12246"
      ]
     },
     "execution_count": 43,
     "metadata": {},
     "output_type": "execute_result"
    }
   ],
   "source": [
    "[fg6(i, j) for i = 1:3, j = 1:3]"
   ]
  },
  {
   "cell_type": "code",
   "execution_count": 44,
   "metadata": {},
   "outputs": [
    {
     "data": {
      "text/plain": [
       "fg7 (generic function with 1 method)"
      ]
     },
     "execution_count": 44,
     "metadata": {},
     "output_type": "execute_result"
    }
   ],
   "source": [
    "# LC aplicado a uma função genérica em blocos\n",
    "\n",
    "function fg7(x)\n",
    "    if x > 5\n",
    "        return x*0\n",
    "    elseif x < 5\n",
    "        return x*x\n",
    "    elseif x == 5\n",
    "        return x\n",
    "    end\n",
    "end"
   ]
  },
  {
   "cell_type": "code",
   "execution_count": 45,
   "metadata": {
    "scrolled": true
   },
   "outputs": [
    {
     "data": {
      "text/plain": [
       "6-element Array{Int64,1}:\n",
       "  1\n",
       "  4\n",
       "  9\n",
       " 16\n",
       "  5\n",
       "  0"
      ]
     },
     "execution_count": 45,
     "metadata": {},
     "output_type": "execute_result"
    }
   ],
   "source": [
    "[fg7(i) for i = 1:6]"
   ]
  },
  {
   "cell_type": "markdown",
   "metadata": {},
   "source": [
    "## FILTRAGEM\n",
    "\n",
    "`Julia` permite realizar a filtragem de dados de várias formas em um vetor ou matriz. Neste ponto, utilizaremos a função `filter()` e `List Compreension`. \n",
    "\n",
    "A função `filter()` devolve uma nova sequência formada pelos itens para os quais a `função` é verdadeiro. Sintaxe:\n",
    "```julia\n",
    "filter(função, collection)\n",
    "```\n",
    "\n",
    "Sendo collection um vetor, matriz, tupla e outros. Só é possível trabalhar `filter()` com funções anônimas e genéricas.\n",
    "\n",
    "Uma `List Compreension` é definida da seguinte forma:\n",
    "```julia\n",
    "[função/expressão for var = collection if condição]\n",
    "```"
   ]
  },
  {
   "cell_type": "markdown",
   "metadata": {},
   "source": [
    "### EXPRESSÕES E EXPRESSÕES SIMBÓLICAS"
   ]
  },
  {
   "cell_type": "code",
   "execution_count": 46,
   "metadata": {},
   "outputs": [
    {
     "data": {
      "text/plain": [
       "4-element Array{Int64,1}:\n",
       " 2\n",
       " 4\n",
       " 5\n",
       " 6"
      ]
     },
     "execution_count": 46,
     "metadata": {},
     "output_type": "execute_result"
    }
   ],
   "source": [
    " # expressão \n",
    "[x + 1 for x = 1:5 if x != 2]"
   ]
  },
  {
   "cell_type": "code",
   "execution_count": 47,
   "metadata": {},
   "outputs": [
    {
     "data": {
      "text/plain": [
       "(x,)"
      ]
     },
     "execution_count": 47,
     "metadata": {},
     "output_type": "execute_result"
    }
   ],
   "source": [
    "using SymPy\n",
    "@syms x"
   ]
  },
  {
   "cell_type": "code",
   "execution_count": 48,
   "metadata": {
    "scrolled": true
   },
   "outputs": [
    {
     "data": {
      "text/plain": [
       "3-element Array{Int64,1}:\n",
       " 2\n",
       " 3\n",
       " 4"
      ]
     },
     "execution_count": 48,
     "metadata": {},
     "output_type": "execute_result"
    }
   ],
   "source": [
    "fs = x^2  # expressão simbólica\n",
    "[x + 1 for x = 1:5 if fs(x) < 10]"
   ]
  },
  {
   "cell_type": "code",
   "execution_count": 49,
   "metadata": {},
   "outputs": [
    {
     "name": "stdout",
     "output_type": "stream",
     "text": [
      "-1 , -1\n",
      "0 , -1\n",
      "-1 , 0\n"
     ]
    }
   ],
   "source": [
    "# Filtragem de expressões   \n",
    "[println(\"$x , $y\") for x = -1:3 , y = -1:3  if x + y < 0];"
   ]
  },
  {
   "cell_type": "markdown",
   "metadata": {},
   "source": [
    "### FUNÇÕES GENÉRICAS"
   ]
  },
  {
   "cell_type": "code",
   "execution_count": 50,
   "metadata": {},
   "outputs": [
    {
     "name": "stderr",
     "output_type": "stream",
     "text": [
      "WARNING: Method definition fg1(Any) in module Main at In[14]:2 overwritten at In[50]:2.\n"
     ]
    },
    {
     "data": {
      "text/plain": [
       "fg1 (generic function with 1 method)"
      ]
     },
     "execution_count": 50,
     "metadata": {},
     "output_type": "execute_result"
    }
   ],
   "source": [
    "# definindo a função < 1\n",
    "fg1(x) = sqrt(2*x + cos(x)^3)/sin(x^2 + 1) < 1"
   ]
  },
  {
   "cell_type": "code",
   "execution_count": 51,
   "metadata": {},
   "outputs": [
    {
     "data": {
      "text/plain": [
       "5-element Array{Int64,1}:\n",
       " 3\n",
       " 6\n",
       " 4\n",
       " 7\n",
       " 2"
      ]
     },
     "execution_count": 51,
     "metadata": {},
     "output_type": "execute_result"
    }
   ],
   "source": [
    "# Matriz\n",
    "filter(fg1, [0 1 2 ; 3 4 5 ; 6 7 8])"
   ]
  },
  {
   "cell_type": "code",
   "execution_count": 48,
   "metadata": {},
   "outputs": [
    {
     "data": {
      "text/plain": [
       "fg2 (generic function with 2 methods)"
      ]
     },
     "execution_count": 48,
     "metadata": {},
     "output_type": "execute_result"
    }
   ],
   "source": [
    "# definindo a função tipo function < 1\n",
    "function fg2(x)\n",
    "    sqrt(2*x + cos(x)^3)/sin(x^2 + 1) < 1\n",
    "end"
   ]
  },
  {
   "cell_type": "code",
   "execution_count": 49,
   "metadata": {},
   "outputs": [
    {
     "data": {
      "text/plain": [
       "2-element Array{Int64,1}:\n",
       " 2\n",
       " 3"
      ]
     },
     "execution_count": 49,
     "metadata": {},
     "output_type": "execute_result"
    }
   ],
   "source": [
    "filter(fg2, 1:3)"
   ]
  },
  {
   "cell_type": "markdown",
   "metadata": {},
   "source": [
    "**Filtragem com LC**"
   ]
  },
  {
   "cell_type": "code",
   "execution_count": 74,
   "metadata": {},
   "outputs": [
    {
     "data": {
      "text/plain": [
       "fg3 (generic function with 1 method)"
      ]
     },
     "execution_count": 74,
     "metadata": {},
     "output_type": "execute_result"
    }
   ],
   "source": [
    "fg3(x) = sqrt(2*x + cos(x)^3)/sin(x^2 + 1)"
   ]
  },
  {
   "cell_type": "code",
   "execution_count": 75,
   "metadata": {},
   "outputs": [
    {
     "data": {
      "text/plain": [
       "2-element Array{Int64,1}:\n",
       "  5\n",
       " 10"
      ]
     },
     "execution_count": 75,
     "metadata": {},
     "output_type": "execute_result"
    }
   ],
   "source": [
    "[i^2 + 1 for i = 0:3 if fg3(i) < 1 ]"
   ]
  },
  {
   "cell_type": "code",
   "execution_count": 76,
   "metadata": {},
   "outputs": [
    {
     "data": {
      "text/plain": [
       "fg4 (generic function with 1 method)"
      ]
     },
     "execution_count": 76,
     "metadata": {},
     "output_type": "execute_result"
    }
   ],
   "source": [
    "fg4(x) = sqrt(2*x + cos(x)^3)/sin(x^2 + 1) < 1 "
   ]
  },
  {
   "cell_type": "code",
   "execution_count": 77,
   "metadata": {},
   "outputs": [
    {
     "data": {
      "text/plain": [
       "1-element Array{Int64,1}:\n",
       " 10"
      ]
     },
     "execution_count": 77,
     "metadata": {},
     "output_type": "execute_result"
    }
   ],
   "source": [
    "[i^2 + 1 for i = filter(fg4, rand(0:10, 3, 3))]"
   ]
  },
  {
   "cell_type": "markdown",
   "metadata": {},
   "source": [
    "### FUNÇÕES ANÔNIMAS"
   ]
  },
  {
   "cell_type": "code",
   "execution_count": 78,
   "metadata": {},
   "outputs": [
    {
     "data": {
      "text/plain": [
       "2-element Array{Int64,1}:\n",
       " 2\n",
       " 3"
      ]
     },
     "execution_count": 78,
     "metadata": {},
     "output_type": "execute_result"
    }
   ],
   "source": [
    "filter(x -> sqrt(2*x + cos(x)^3)/sin(x^2 + 1) < 1, 0:3)"
   ]
  },
  {
   "cell_type": "code",
   "execution_count": 79,
   "metadata": {},
   "outputs": [
    {
     "data": {
      "text/plain": [
       "(::#141) (generic function with 1 method)"
      ]
     },
     "execution_count": 79,
     "metadata": {},
     "output_type": "execute_result"
    }
   ],
   "source": [
    "f_ano_1 = x -> sqrt(2*x + cos(x)^3)/sin(x^2 + 1) < 1"
   ]
  },
  {
   "cell_type": "code",
   "execution_count": 81,
   "metadata": {},
   "outputs": [
    {
     "data": {
      "text/plain": [
       "2-element Array{Int64,1}:\n",
       " 2\n",
       " 3"
      ]
     },
     "execution_count": 81,
     "metadata": {},
     "output_type": "execute_result"
    }
   ],
   "source": [
    "filter(f_ano_1, 1:3)"
   ]
  },
  {
   "cell_type": "code",
   "execution_count": 82,
   "metadata": {},
   "outputs": [
    {
     "data": {
      "text/plain": [
       "4-element Array{Int64,1}:\n",
       "  4\n",
       "  9\n",
       " 16\n",
       " 25"
      ]
     },
     "execution_count": 82,
     "metadata": {},
     "output_type": "execute_result"
    }
   ],
   "source": [
    "# filtragem com LC\n",
    "[x*x for x = filter(x -> x^2 - x -1 >= 0, 1:5)]"
   ]
  },
  {
   "cell_type": "code",
   "execution_count": 83,
   "metadata": {
    "scrolled": true
   },
   "outputs": [
    {
     "data": {
      "text/plain": [
       "4-element Array{Int64,1}:\n",
       "  4\n",
       "  9\n",
       " 16\n",
       " 25"
      ]
     },
     "execution_count": 83,
     "metadata": {},
     "output_type": "execute_result"
    }
   ],
   "source": [
    "# outra forma\n",
    "[x*x for x = 1:5 if (x^2 - x -1 >= 0)]"
   ]
  },
  {
   "cell_type": "markdown",
   "metadata": {},
   "source": [
    "### COMPOSIÇÃO FUNCIONAL\n",
    "\n",
    "A função composta, de acordo com a matemática, pode ser entendida pela determinação de uma terceira função C, formada pela junção das funções A e B. \n",
    "\n",
    "<img src=\"Figuras/funcao-composta.png\" align=\"center\" width=\"300\">\n",
    "\n",
    "Matematicamente falando, definimos a composta de f com g e chamamos por  (f “bola” g), à função dada por  $(f o g)(x) = f(g(x))$. A função $h(x) = f(g(x))$ é então chamada de função composta de f com g, aplicada em x. f \\circ g.\n"
   ]
  },
  {
   "cell_type": "code",
   "execution_count": 1,
   "metadata": {},
   "outputs": [
    {
     "data": {
      "text/plain": [
       "F (generic function with 1 method)"
      ]
     },
     "execution_count": 1,
     "metadata": {},
     "output_type": "execute_result"
    }
   ],
   "source": [
    "F(x) = x + 1"
   ]
  },
  {
   "cell_type": "code",
   "execution_count": 2,
   "metadata": {},
   "outputs": [
    {
     "data": {
      "text/plain": [
       "G (generic function with 1 method)"
      ]
     },
     "execution_count": 2,
     "metadata": {},
     "output_type": "execute_result"
    }
   ],
   "source": [
    "G(x) = x^2"
   ]
  },
  {
   "cell_type": "code",
   "execution_count": 3,
   "metadata": {},
   "outputs": [
    {
     "data": {
      "text/plain": [
       "1"
      ]
     },
     "execution_count": 3,
     "metadata": {},
     "output_type": "execute_result"
    }
   ],
   "source": [
    "(F ∘ G)(0)"
   ]
  },
  {
   "cell_type": "code",
   "execution_count": 4,
   "metadata": {},
   "outputs": [
    {
     "data": {
      "text/plain": [
       "1"
      ]
     },
     "execution_count": 4,
     "metadata": {},
     "output_type": "execute_result"
    }
   ],
   "source": [
    "∘(F, G)(0)"
   ]
  },
  {
   "cell_type": "markdown",
   "metadata": {},
   "source": [
    "É possível definir um operador para composição de função na forma:\n",
    "```julia\n",
    "operador(f:Function, g::Function) = var -> f(g(var) \n",
    "```"
   ]
  },
  {
   "cell_type": "code",
   "execution_count": 5,
   "metadata": {},
   "outputs": [
    {
     "data": {
      "text/plain": [
       "cp (generic function with 1 method)"
      ]
     },
     "execution_count": 5,
     "metadata": {},
     "output_type": "execute_result"
    }
   ],
   "source": [
    "cp(f::Function, g::Function) = x -> f(g(x))"
   ]
  },
  {
   "cell_type": "code",
   "execution_count": 6,
   "metadata": {},
   "outputs": [
    {
     "data": {
      "text/plain": [
       "5"
      ]
     },
     "execution_count": 6,
     "metadata": {},
     "output_type": "execute_result"
    }
   ],
   "source": [
    "cp(F, G)(2)"
   ]
  },
  {
   "cell_type": "markdown",
   "metadata": {},
   "source": [
    "**Circuito RLC**\n",
    "\n",
    "Um circuito RLC série consiste de um resistor de 300Ω, um capacitor de 3μF  e uma  bobina de 200mH conectados a um  gerador de fem  CA de 110V, no  qual  oscila numa frequência  de 90Hz. Calcular a Impedância.\n",
    "\n",
    "<img src=\"Figuras/RLC.png\" align=\"center\" width=\"250\">"
   ]
  },
  {
   "cell_type": "code",
   "execution_count": null,
   "metadata": {},
   "outputs": [],
   "source": []
  },
  {
   "cell_type": "markdown",
   "metadata": {},
   "source": [
    "### FUNÇÕES ANINHADAS, CLOUSERES E CURRING\n",
    "\n",
    "Na linguagem Julia existe o conceito de funções aninhadas, no qual você pode definir funções dentro do corpo de outra função. um `Clousure` é uma função avaliada num ambiente que contenha uma ou mais variáveis dependentes de um outro meio ambiente. Quando é chamado, a função pode acessar essas variáveis. Uma closure ocorre normalmente quando uma função é declarada dentro do corpo de outra, e a função interior referencia variáveis locais da função exterior. Em tempo de execução, quando a função exterior é executada, então uma closure é formada, que consiste do código da função interior e referências para quaisquer variáveis no escopo da função exterior que a closure necessita.O uso explícito de `Clousures` está associada com linguagens de programação funcionais como ML e Lisp. \n",
    "\n",
    "O conceito de `Closure` foi desenvolvido nos anos 60 e implementado por completo, pela primeira vez como uma característica da linguagem `Scheme`. Desde então, muitas outras línguas foram concebidos para resistir a encerramentos. "
   ]
  },
  {
   "cell_type": "code",
   "execution_count": null,
   "metadata": {
    "collapsed": true
   },
   "outputs": [],
   "source": [
    "function raizes(a, b, c)\n",
    "       \n",
    "    function delta()\n",
    "        return b^2 - 4*a*c\n",
    "    end\n",
    "    \n",
    "    return -b + sqrt(delta())/2*a, -b - sqrt(delta())/2*a\n",
    "end"
   ]
  },
  {
   "cell_type": "code",
   "execution_count": null,
   "metadata": {
    "collapsed": true
   },
   "outputs": [],
   "source": [
    "raizes(2, 2, -1)"
   ]
  },
  {
   "cell_type": "markdown",
   "metadata": {},
   "source": [
    "### Curring\n",
    "\n",
    "Currying é uma técnica muito utilizada em linguagens funcionais, que consiste em transformar uma função que recebe múltiplos argumentos em uma sequência de funções que recebem um único argumento (LUCAS SOUSA (), XXX). A principal razão para utilizar a técnica de `Currying` em `Julia` é tornar possível executar uma função com um número reduzido de argumentos para funcionar. Exemplo de `Curryng`:"
   ]
  },
  {
   "cell_type": "code",
   "execution_count": 1,
   "metadata": {},
   "outputs": [
    {
     "data": {
      "text/plain": [
       "produto (generic function with 1 method)"
      ]
     },
     "execution_count": 1,
     "metadata": {},
     "output_type": "execute_result"
    }
   ],
   "source": [
    "function produto(x)\n",
    "    return function f(y)\n",
    "        return x*y\n",
    "    end\n",
    "end"
   ]
  },
  {
   "cell_type": "markdown",
   "metadata": {},
   "source": [
    "A função `produto` recebe apenas um argumento e retorna outra função que recebe também apenas um argumento de entrada"
   ]
  },
  {
   "cell_type": "code",
   "execution_count": null,
   "metadata": {
    "collapsed": true
   },
   "outputs": [],
   "source": [
    "funcaoP = produto(5)"
   ]
  },
  {
   "cell_type": "code",
   "execution_count": null,
   "metadata": {
    "collapsed": true
   },
   "outputs": [],
   "source": [
    "funcaoP(2)"
   ]
  },
  {
   "cell_type": "code",
   "execution_count": null,
   "metadata": {
    "collapsed": true
   },
   "outputs": [],
   "source": [
    "produto(5)(2)"
   ]
  },
  {
   "cell_type": "code",
   "execution_count": null,
   "metadata": {
    "collapsed": true
   },
   "outputs": [],
   "source": [
    "function funcaoA(expoente)\n",
    "    f(x) =   x^expoente\n",
    "end"
   ]
  },
  {
   "cell_type": "markdown",
   "metadata": {},
   "source": [
    "Abaixo podemos ver que o retorno da função genérica  $x^{2}$ para `funcaoB`"
   ]
  },
  {
   "cell_type": "code",
   "execution_count": null,
   "metadata": {
    "collapsed": true
   },
   "outputs": [],
   "source": [
    "funcaoB = funcaoA(2)"
   ]
  },
  {
   "cell_type": "code",
   "execution_count": null,
   "metadata": {
    "collapsed": true
   },
   "outputs": [],
   "source": [
    "funcaoB(3)"
   ]
  },
  {
   "cell_type": "code",
   "execution_count": null,
   "metadata": {
    "collapsed": true
   },
   "outputs": [],
   "source": [
    "funcaoA(2)(3)"
   ]
  },
  {
   "cell_type": "code",
   "execution_count": null,
   "metadata": {
    "collapsed": true
   },
   "outputs": [],
   "source": [
    "Utilizando uma função anônima"
   ]
  },
  {
   "cell_type": "code",
   "execution_count": null,
   "metadata": {
    "collapsed": true
   },
   "outputs": [],
   "source": [
    "fA = (expoente ->  x -> x^expoente)(2)"
   ]
  },
  {
   "cell_type": "code",
   "execution_count": null,
   "metadata": {
    "collapsed": true
   },
   "outputs": [],
   "source": [
    "fA(3)"
   ]
  },
  {
   "cell_type": "code",
   "execution_count": null,
   "metadata": {
    "collapsed": true
   },
   "outputs": [],
   "source": [
    "(expoente -> x -> x^expoente)(2)(3)"
   ]
  },
  {
   "cell_type": "markdown",
   "metadata": {},
   "source": [
    "### RECURSIVIDADE\n",
    "\n",
    "Recursão é a habilidade que uma função tem de chamar a si mesma, ou seja, é a técnica que consiste simplesmente em aplicar uma função como parte da definição dessa mesma função (LAUREANO,2005). Isso permite que a função se repita várias vezes até que uma condição definida ocorra e pare o processo recursivo. O corpo de uma função recursiva geralmente possui duas partes:\n",
    "\n",
    "  - Casos base: Aqueles que não exigem recursão e em geral retornam um resultado e encerram a recursão.\n",
    "  - Casos recursivo: Aqueles que utilizam um passo recursivo em que se tenta resolver um sub-problema do problema inicial\n",
    "  \n",
    "As funções recursivas são muito utilizadas na ciência da computação porque permitem aos programadores escrever programas eficientes usando poucas linhas de código. A desvantagem é que elas podem causar infinitos loops e outros resultados não planejados, caso sejam escritas de forma errada, sem um caso base. Por exemplo, no exemplo, a função função `Fibonacci` encerra o método recursivo se o número for menor que 2. Se os casos bases não forem incluídos na função para parar a execução, a recursão será repetida para sempre."
   ]
  },
  {
   "cell_type": "code",
   "execution_count": 7,
   "metadata": {},
   "outputs": [
    {
     "data": {
      "text/plain": [
       "fatorial (generic function with 1 method)"
      ]
     },
     "execution_count": 7,
     "metadata": {},
     "output_type": "execute_result"
    }
   ],
   "source": [
    "function fatorial(n)\n",
    "    if n == 0     # caso base\n",
    "        return 1 \n",
    "        \n",
    "    elseif n > 0  # caso recursivo\n",
    "        return fatorial(n - 1)* n\n",
    "    end\n",
    "end"
   ]
  },
  {
   "cell_type": "code",
   "execution_count": 8,
   "metadata": {},
   "outputs": [
    {
     "data": {
      "text/plain": [
       "120"
      ]
     },
     "execution_count": 8,
     "metadata": {},
     "output_type": "execute_result"
    }
   ],
   "source": [
    "fatorial(5)"
   ]
  },
  {
   "cell_type": "markdown",
   "metadata": {},
   "source": [
    "**Função série de Fibonacci Recursiva** \n",
    "\n",
    "Na matemática, a série de Fibonacci é uma sequência de números inteiros, começando normalmente por 0 e 1, na qual, cada termo subsequente corresponde a soma dos dois anteriores. A sequência recebeu o nome do matemático italiano Leonardo de Pisa, mais conhecido por Fibonacci , que descreveu, no ano de 1202, o crescimento de uma população de coelhos, a partir desta. Tal sequência já era no entanto, conhecida na antiguidade.\n",
    "\n",
    "Os números de Fibonacci são, portanto, os números que compõem a seguinte sequência (sequência A000045 na OEIS):\n",
    "\n",
    "    0,1, 1, 2, 3, 5, 8, 13, 21, 34, 55, 89, 144, 233, 377, 610, 987, 1597, 2584, ... .\n",
    "\n",
    "Em termos matemáticos, a sequência é definida recursivamente pela fórmula abaixo, sendo o primeiro termo $F_1= 1$:\n",
    "\n",
    "${\\displaystyle F_{n}=F_{n-1}+F_{n-2}+...+F_{n-m}}$\n",
    "\n",
    "e valores iniciais\n",
    "\n",
    "${\\displaystyle F_{1}=1,\\;F_{2}=1.}$\n",
    "\n",
    "A sequência de Fibonacci tem aplicações na análise de mercados financeiros, na ciência da computação e na teoria dos jogos. Também aparece em configurações biológicas, como, por exemplo, na disposição dos galhos das árvores ou das folhas em uma haste, no arranjo do cone da alcachofra, do abacaxi, ou no desenrolar da samambaia.\n",
    "\n",
    "<img src=\"Figuras/fibonacci-shell.gif\" alt=\"Fibonacci Caracol (https://www.goldennumber.net/)\" align=\"center\" width=\"200\">"
   ]
  },
  {
   "cell_type": "code",
   "execution_count": 9,
   "metadata": {},
   "outputs": [
    {
     "data": {
      "text/plain": [
       "fibonacci (generic function with 1 method)"
      ]
     },
     "execution_count": 9,
     "metadata": {},
     "output_type": "execute_result"
    }
   ],
   "source": [
    "function fibonacci(n)\n",
    "    if n < 2 # caso base\n",
    "        n\n",
    "        \n",
    "    else\n",
    "        fibonacci(n - 1) + fibonacci(n - 2) # caso recursivo\n",
    "    end\n",
    "        \n",
    "end"
   ]
  },
  {
   "cell_type": "code",
   "execution_count": 10,
   "metadata": {},
   "outputs": [
    {
     "data": {
      "text/plain": [
       "9227465"
      ]
     },
     "execution_count": 10,
     "metadata": {},
     "output_type": "execute_result"
    }
   ],
   "source": [
    "fibonacci(35)"
   ]
  },
  {
   "cell_type": "markdown",
   "metadata": {},
   "source": [
    "Outra forma da função Fibonacci recursiva utilizando operador ternário"
   ]
  },
  {
   "cell_type": "code",
   "execution_count": 13,
   "metadata": {},
   "outputs": [
    {
     "data": {
      "text/plain": [
       "fibonacci_ot (generic function with 1 method)"
      ]
     },
     "execution_count": 13,
     "metadata": {},
     "output_type": "execute_result"
    }
   ],
   "source": [
    "fibonacci_ot(n) = n < 2 ? n : fibonacci_ot(n - 1) + fibonacci_ot(n - 2)"
   ]
  },
  {
   "cell_type": "code",
   "execution_count": 12,
   "metadata": {},
   "outputs": [
    {
     "data": {
      "text/plain": [
       "9227465"
      ]
     },
     "execution_count": 12,
     "metadata": {},
     "output_type": "execute_result"
    }
   ],
   "source": [
    "fibonacci_ot(35)"
   ]
  },
  {
   "cell_type": "markdown",
   "metadata": {},
   "source": [
    "## BIBLIOGRAFIA\n",
    "\n",
    "* Sebesta, Robert W.Conceitos de linguagens de programação [recurso eletrônico] /Robert W. Sebesta; tradução técnica: Eduardo Kessler Piveta. – 9. ed. – Dados eletrônicos. – Porto Alegre : Bookman, 2011.\n",
    "\n",
    "* Vieira, Francisco. Programação Funcional usando Haskell. Teresina, 2005. \n",
    "\n"
   ]
  },
  {
   "cell_type": "code",
   "execution_count": null,
   "metadata": {
    "collapsed": true
   },
   "outputs": [],
   "source": []
  }
 ],
 "metadata": {
  "anaconda-cloud": {},
  "kernelspec": {
   "display_name": "Julia 0.6.0",
   "language": "julia",
   "name": "julia-0.6"
  },
  "language_info": {
   "file_extension": ".jl",
   "mimetype": "application/julia",
   "name": "julia",
   "version": "0.6.0"
  },
  "latex_envs": {
   "LaTeX_envs_menu_present": true,
   "autocomplete": true,
   "bibliofile": "biblio.bib",
   "cite_by": "apalike",
   "current_citInitial": 1,
   "eqLabelWithNumbers": true,
   "eqNumInitial": 1,
   "hotkeys": {
    "equation": "Ctrl-E",
    "itemize": "Ctrl-I"
   },
   "labels_anchors": false,
   "latex_user_defs": false,
   "report_style_numbering": false,
   "user_envs_cfg": false
  },
  "name": "_merged"
 },
 "nbformat": 4,
 "nbformat_minor": 2
}
