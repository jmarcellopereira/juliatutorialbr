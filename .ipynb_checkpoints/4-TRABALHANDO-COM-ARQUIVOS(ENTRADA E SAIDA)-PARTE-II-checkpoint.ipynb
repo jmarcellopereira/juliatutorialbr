{
 "cells": [
  {
   "cell_type": "markdown",
   "metadata": {},
   "source": [
    "# TRABALHANDO COM ARQUIVOS(ENTRADA E SAIDA) PARTE II"
   ]
  },
  {
   "cell_type": "markdown",
   "metadata": {},
   "source": [
    "## ARQUIVOS DE DADOS JLD\n",
    "\n",
    "Arquivo JDL é um formato amplamente utilizado para armazenamento de dados com a linguagem de programação Julia. JLD é um formato derivado do HDF5 aplicado para o armazenamento de dados científicos de grande volume. \n",
    "\n",
    "Arquivos HDF5 são organizados em uma estrutura hierárquica. Esta, pode ser vista como uma árvore de diretórios dentro de um arquivo. Suas duas estruturas primárias são groups e datasets (HDF Group, 2007). Um HDF5 group é uma estrutura de agrupamento que pode conter zero ou mais instâncias de grupos ou datasets, juntamente com seus metadados, enquanto um HDF5 dataset é um array multidimensional de dados também em conjunto com seus metadados.A figura abaixo representa a estrutura de um arquivo HDF5 [(PERANTUNES,2007)](https://projetos.inf.ufsc.br/arquivos_projetos/projeto_733/hilton_perantunes_ine5631.pdf). \n",
    "![Estrutura do HDF5](Figuras/hdf5.png)\n",
    "Um grupo contém zero ou mais HDF5 objects (grupos ou datasets), e é composto por duas partes: a primeira é formada por um cabeçalho contendo o nome do grupo e uma lista de atributos, sendo que a segunda parte é uma tabela de símbolos com uma listagem dos objetos HDF5 que pertencem ao grupo . Já um dataset possui um cabeçalho e um array de dados  [(PERANTUNES,2007)](https://projetos.inf.ufsc.br/arquivos_projetos/projeto_733/hilton_perantunes_ine5631.pdf).\n",
    "\n",
    "Em comparação com HDF5, arquivos JLD adicionam automaticamente atributos e convenções de nomenclatura para preservar as informações de tipo para cada objeto. Vale resaltar que arquivos * .jld são arquivos HDF5 com recursos extras e, consequentemente, pode ser lido por qualquer linguagem que suporte HDF5. Para mais detalhes consulte [JuliaIO/JLD](https://github.com/JuliaIO/JLD.jl/) . Uma grande vantagem é que a saída do arquivo é do tipo dicionário e portante vale todas as operações para este tipo no notebook \"TIPOS DE DADOS\". Para instalar o pacote JLD use:\n",
    "```julia\n",
    "Pkg.add(\"JLD\")\n",
    "```"
   ]
  },
  {
   "cell_type": "markdown",
   "metadata": {},
   "source": [
    "**Criar,  Abrir e gravar dados no arquivo JLD**\n",
    "\n",
    "Para criar um novo arquivo basta abrir ou escrever um arquivo que não existe ainda e `Julia` irá escrever no disco o arquivo. Para escrever em um arquivo novo use:\n",
    "```julia\n",
    "save(\"nome_arquivo.jld\", \"key_1\", valor_dado, \"key_2\", valor_dado,...)\n",
    "```"
   ]
  },
  {
   "cell_type": "code",
   "execution_count": 22,
   "metadata": {
    "collapsed": false
   },
   "outputs": [],
   "source": [
    "using JLD"
   ]
  },
  {
   "cell_type": "markdown",
   "metadata": {},
   "source": [
    "#### MODO BÁSICO\n",
    "\n",
    "Neste primeiro contato, faremos apenas uma introdução rápida sobre a manipulação dos arquivos no formato `JLD` de tal forma que seja suficiente para o usuário gravar informações no disco e recuperá-las para trabalhar com os dados. A desvantagem é que alterado os dados de uma `key` é necessário salva todos os dados novamente no arquivo em disco."
   ]
  },
  {
   "cell_type": "code",
   "execution_count": 23,
   "metadata": {
    "collapsed": false
   },
   "outputs": [
    {
     "data": {
      "text/plain": [
       "\"Arquivos\""
      ]
     },
     "execution_count": 23,
     "metadata": {},
     "output_type": "execute_result"
    }
   ],
   "source": [
    "# dados\n",
    "matriz = rand(Float64,6,6)\n",
    "vetor = rand(5)\n",
    "nome = \"Arquivos\""
   ]
  },
  {
   "cell_type": "code",
   "execution_count": 24,
   "metadata": {
    "collapsed": false
   },
   "outputs": [],
   "source": [
    "# salvar arquivo em disco \n",
    "save(\"arquivo_basico.jld\", \"matriz\", matriz, \"vetor\", vetor , \"nome\", nome)"
   ]
  },
  {
   "cell_type": "code",
   "execution_count": 25,
   "metadata": {
    "collapsed": false,
    "scrolled": false
   },
   "outputs": [
    {
     "data": {
      "text/plain": [
       "Dict{String,Any} with 3 entries:\n",
       "  \"matriz\" => [0.228103 0.835272 … 0.778204 0.236269; 0.606922 0.130721 … 0.122…\n",
       "  \"vetor\"  => [0.443675,0.410854,0.907417,0.0802954,0.263681]\n",
       "  \"nome\"   => \"Arquivos\""
      ]
     },
     "execution_count": 25,
     "metadata": {},
     "output_type": "execute_result"
    }
   ],
   "source": [
    "# ler os dados do arquivo gravado em disco\n",
    "arquivo_basico = load(\"arquivo_basico.jld\")"
   ]
  },
  {
   "cell_type": "code",
   "execution_count": 76,
   "metadata": {
    "collapsed": false
   },
   "outputs": [
    {
     "data": {
      "text/plain": [
       "Dict{String,Any} with 2 entries:\n",
       "  \"matriz\" => [0.717974 0.0374018; 0.245364 0.925592; 0.267686 0.330308]\n",
       "  \"nome\"   => \"Testando\""
      ]
     },
     "execution_count": 76,
     "metadata": {},
     "output_type": "execute_result"
    }
   ],
   "source": [
    "# deletar uma key e seus valores\n",
    "delete!(arquivo_basico, \"vetor\")"
   ]
  },
  {
   "cell_type": "code",
   "execution_count": 77,
   "metadata": {
    "collapsed": false,
    "scrolled": true
   },
   "outputs": [
    {
     "data": {
      "text/plain": [
       "Base.KeyIterator for a Dict{String,Any} with 2 entries. Keys:\n",
       "  \"matriz\"\n",
       "  \"nome\""
      ]
     },
     "execution_count": 77,
     "metadata": {},
     "output_type": "execute_result"
    }
   ],
   "source": [
    "# listar as keys\n",
    "keys(arquivo_basico)"
   ]
  },
  {
   "cell_type": "code",
   "execution_count": 78,
   "metadata": {
    "collapsed": false,
    "scrolled": false
   },
   "outputs": [
    {
     "data": {
      "text/plain": [
       "Base.ValueIterator for a Dict{String,Any} with 2 entries. Values:\n",
       "  [0.717974 0.0374018; 0.245364 0.925592; 0.267686 0.330308]\n",
       "  \"Testando\""
      ]
     },
     "execution_count": 78,
     "metadata": {},
     "output_type": "execute_result"
    }
   ],
   "source": [
    "# listar os valores das keys\n",
    "values(arquivo_basico)"
   ]
  },
  {
   "cell_type": "code",
   "execution_count": 79,
   "metadata": {
    "collapsed": false
   },
   "outputs": [
    {
     "data": {
      "text/plain": [
       "3×2 Array{Float64,2}:\n",
       " 0.717974  0.0374018\n",
       " 0.245364  0.925592 \n",
       " 0.267686  0.330308 "
      ]
     },
     "execution_count": 79,
     "metadata": {},
     "output_type": "execute_result"
    }
   ],
   "source": [
    "# mostrar os valores da key \"matriz\"\n",
    "arquivo_basico[\"matriz\"]"
   ]
  },
  {
   "cell_type": "code",
   "execution_count": 80,
   "metadata": {
    "collapsed": false
   },
   "outputs": [],
   "source": [
    "# altera matriz e nome\n",
    "arquivo_basico[\"matriz\"] = rand(3,2)\n",
    "arquivo_basico[\"nome\"]  =  \"Testando\";"
   ]
  },
  {
   "cell_type": "code",
   "execution_count": 81,
   "metadata": {
    "collapsed": true
   },
   "outputs": [],
   "source": [
    "# salvar alterações em disco\n",
    "save(\"arquivo_basico.jld\", arquivo_basico)"
   ]
  },
  {
   "cell_type": "code",
   "execution_count": 82,
   "metadata": {
    "collapsed": false,
    "scrolled": false
   },
   "outputs": [
    {
     "data": {
      "text/plain": [
       "Dict{String,Any} with 2 entries:\n",
       "  \"matriz\" => [0.532204 0.506231; 0.138468 0.792083; 0.393951 0.124789]\n",
       "  \"nome\"   => \"Testando\""
      ]
     },
     "execution_count": 82,
     "metadata": {},
     "output_type": "execute_result"
    }
   ],
   "source": [
    "# ler os dados do arquivo gravado em disco. Veja que a matriz mudou.\n",
    "load(\"arquivo_basico.jld\")"
   ]
  },
  {
   "cell_type": "markdown",
   "metadata": {},
   "source": [
    "#### MODO AVANÇADO\n",
    "\n",
    "Nesta parte será trabalhado a abertura do arquivo para manipular os dados e fechamendo após as operações. Isto é importante pois permite salvar apenas as `keys` alteradas.\n",
    "\n",
    "Um novo arquivo será criado quando executado o comando `jldopen` com atributo de gravação **\"w\"** e vinculado a uma variável. Sintaxe:\n",
    "```julia\n",
    "var_dados = jldopen(\"nome_arquivo.jld\", atributo)\n",
    "\n",
    "```\n",
    "`Tabela de atributos`\n",
    "\n",
    "<table border=\"1\" class=\"docutils\" style=\"float: left;\">\n",
    "<colgroup>\n",
    "<col width=\"11%\" />\n",
    "<col width=\"89%\" />\n",
    "</colgroup>\n",
    "<tbody valign=\"top\">\n",
    "<tr class=\"row-odd\"><td>\"r\"</td>\n",
    "<td>Somente ler os dados</td>\n",
    "</tr>\n",
    "<tr class=\"row-even\"><td>\"r+\"</td>\n",
    "<td>Ler e escrever mantendo os dados já escritos</td>\n",
    "</tr>\n",
    "<tr class=\"row-odd\"><td>\"w\"</td>\n",
    "<td>Escrever destruindo todos os dados existentes. CUIDADO! RECOMENDÁVEL SOMENTE PARA ARQUIVOS NOVOS</td>\n",
    "</tr>\n",
    "\n",
    "</tbody>\n",
    "</table>"
   ]
  },
  {
   "cell_type": "code",
   "execution_count": 1,
   "metadata": {
    "collapsed": true
   },
   "outputs": [],
   "source": [
    "using JLD"
   ]
  },
  {
   "cell_type": "code",
   "execution_count": 2,
   "metadata": {
    "collapsed": false,
    "scrolled": false
   },
   "outputs": [
    {
     "data": {
      "text/plain": [
       "Julia data file version 0.1.1: arquivo_avancado.jld"
      ]
     },
     "execution_count": 2,
     "metadata": {},
     "output_type": "execute_result"
    }
   ],
   "source": [
    "arquivo_avancado = jldopen(\"arquivo_avancado.jld\", \"w\")"
   ]
  },
  {
   "cell_type": "markdown",
   "metadata": {},
   "source": [
    "Uma vez aberto o arquivo não é possível abri-lo novamente com outro atributo, se tentar ocorrerá este erro:\n",
    "\n",
    "        HDF5-DIAG: Error detected in HDF5 (1.8.16) thread 139655273372672:\n",
    "          #000: ../../../src/H5F.c line 522 in H5Fcreate(): unable to create file\n",
    "            major: File accessibilty\n",
    "            minor: Unable to open file\n",
    "          #001: ../../../src/H5Fint.c line 1024 in H5F_open(): unable to truncate a file which is already open\n",
    "            major: File accessibilty\n",
    "            minor: Unable to open file\n",
    "            \n",
    "Este erro informa que o arquivo está inacessível e que ja está aberto. Para alterar o atributo e abrir o arquivo novamente é necessário fecha-lo primeiro. Muitas vezes não sabemos qual objeto está vinculado ao arquivo aberto, dessa forma utilize a função `whos()` basta procurar pelo objeto do tipo `JLD.JldFile` e fecha-lo."
   ]
  },
  {
   "cell_type": "code",
   "execution_count": 3,
   "metadata": {
    "collapsed": false,
    "scrolled": true
   },
   "outputs": [
    {
     "data": {
      "text/plain": [
       "\"x*sind(x)\""
      ]
     },
     "execution_count": 3,
     "metadata": {},
     "output_type": "execute_result"
    }
   ],
   "source": [
    "matriz = rand(Float64,6,6) # matriz aleatoria do tipo float64\n",
    "vetor  = rand(5)           # vetor aleatóro do tipo float64\n",
    "nome   = \"Arquivos\"        # string \n",
    "funcao = \"x*sind(x)\"       # função do tipo string"
   ]
  },
  {
   "cell_type": "code",
   "execution_count": 4,
   "metadata": {
    "collapsed": false
   },
   "outputs": [],
   "source": [
    "# gravando dados no arquivo\n",
    "write(arquivo_avancado, \"Matriz\", matriz)\n",
    "write(arquivo_avancado, \"vetor\" , vetor)\n",
    "write(arquivo_avancado, \"nome\" , nome)\n",
    "write(arquivo_avancado, \"função\" , funcao)"
   ]
  },
  {
   "cell_type": "code",
   "execution_count": 5,
   "metadata": {
    "collapsed": false
   },
   "outputs": [],
   "source": [
    "# fechando o arquivo\n",
    "close(arquivo_avancado)"
   ]
  },
  {
   "cell_type": "markdown",
   "metadata": {
    "collapsed": true
   },
   "source": [
    "** Lendo arquivo de dados**\n",
    "\n",
    "Para exibir os dados de uma `key` use:\n",
    "```julia\n",
    "read(nome_var_arquivo[\"nome_key\"])\n",
    "```\n",
    "Sendo \"nome_var_arquivo\" o nome da variável que é atribído o arquivo gravado em disco e \"nome_key\" o nome da chave.\n",
    "\n",
    "Para acessar valores específicos da `key` use:\n",
    "```julia\n",
    "read(nome_var_arquivo[\"nome_key\"])[ordem_dado]\n",
    "```\n",
    "`ordem_dado` é a referência ao registro do dado num vetor, matriz e outros tipos básicos"
   ]
  },
  {
   "cell_type": "code",
   "execution_count": 6,
   "metadata": {
    "collapsed": false
   },
   "outputs": [],
   "source": [
    "using JLD"
   ]
  },
  {
   "cell_type": "code",
   "execution_count": 77,
   "metadata": {
    "collapsed": false,
    "scrolled": false
   },
   "outputs": [
    {
     "data": {
      "text/plain": [
       "Julia data file version 0.1.1: arquivo_avancado.jld"
      ]
     },
     "execution_count": 77,
     "metadata": {},
     "output_type": "execute_result"
    }
   ],
   "source": [
    "# vinculando a \"arquivo_avancado\" ao arquivo gravado em disco\n",
    "arquivo_avancado = jldopen(\"arquivo_avancado.jld\", \"r+\")"
   ]
  },
  {
   "cell_type": "code",
   "execution_count": 8,
   "metadata": {
    "collapsed": false
   },
   "outputs": [
    {
     "data": {
      "text/plain": [
       "JLD.JldFile"
      ]
     },
     "execution_count": 8,
     "metadata": {},
     "output_type": "execute_result"
    }
   ],
   "source": [
    "# verificar o tipo\n",
    "typeof(arquivo_avancado)"
   ]
  },
  {
   "cell_type": "code",
   "execution_count": 9,
   "metadata": {
    "collapsed": false,
    "scrolled": false
   },
   "outputs": [
    {
     "data": {
      "text/plain": [
       "Dict{String,Any} with 4 entries:\n",
       "  \"função\" => \"x*sind(x)\"\n",
       "  \"vetor\"  => [0.0308276,0.180293,0.65306,0.503482,0.0886261]\n",
       "  \"nome\"   => \"Arquivos\"\n",
       "  \"Matriz\" => [0.19189 0.564034 … 0.444002 0.0951288; 0.156133 0.447156 … 0.145…"
      ]
     },
     "execution_count": 9,
     "metadata": {},
     "output_type": "execute_result"
    }
   ],
   "source": [
    "# ler os dados de arquivo_dados\n",
    "read(arquivo_avancado)"
   ]
  },
  {
   "cell_type": "code",
   "execution_count": 10,
   "metadata": {
    "collapsed": false
   },
   "outputs": [
    {
     "data": {
      "text/plain": [
       "false"
      ]
     },
     "execution_count": 10,
     "metadata": {},
     "output_type": "execute_result"
    }
   ],
   "source": [
    "# deletar uma key e seus valores\n",
    "delete!(arquivo_avancado, \"vetor\")"
   ]
  },
  {
   "cell_type": "code",
   "execution_count": 11,
   "metadata": {
    "collapsed": false,
    "scrolled": false
   },
   "outputs": [
    {
     "data": {
      "text/plain": [
       "Base.KeyIterator for a Dict{String,Any} with 3 entries. Keys:\n",
       "  \"função\"\n",
       "  \"nome\"\n",
       "  \"Matriz\""
      ]
     },
     "execution_count": 11,
     "metadata": {},
     "output_type": "execute_result"
    }
   ],
   "source": [
    "# ler as keys. key \"vetor\" foi deletada\n",
    "keys(read(arquivo_avancado))"
   ]
  },
  {
   "cell_type": "code",
   "execution_count": 12,
   "metadata": {
    "collapsed": false
   },
   "outputs": [
    {
     "data": {
      "text/plain": [
       "Base.ValueIterator for a Dict{String,Any} with 3 entries. Values:\n",
       "  \"x*sind(x)\"\n",
       "  \"Arquivos\"\n",
       "  [0.19189 0.564034 … 0.444002 0.0951288; 0.156133 0.447156 … 0.145504 0.639183…"
      ]
     },
     "execution_count": 12,
     "metadata": {},
     "output_type": "execute_result"
    }
   ],
   "source": [
    "values(read(arquivo_avancado))"
   ]
  },
  {
   "cell_type": "code",
   "execution_count": 13,
   "metadata": {
    "collapsed": false
   },
   "outputs": [
    {
     "data": {
      "text/plain": [
       "6×6 Array{Float64,2}:\n",
       " 0.19189   0.564034  0.540077  0.950728  0.444002  0.0951288\n",
       " 0.156133  0.447156  0.674334  0.724347  0.145504  0.639183 \n",
       " 0.982431  0.922423  0.459856  0.620397  0.605375  0.209212 \n",
       " 0.264951  0.998064  0.409874  0.246467  0.817898  0.186797 \n",
       " 0.493488  0.58254   0.773966  0.193356  0.796084  0.612911 \n",
       " 0.516489  0.633063  0.274701  0.274198  0.310703  0.57956  "
      ]
     },
     "execution_count": 13,
     "metadata": {},
     "output_type": "execute_result"
    }
   ],
   "source": [
    "# Listar todos os dados do registro \"1\"\n",
    "read(arquivo_avancado[\"Matriz\"])"
   ]
  },
  {
   "cell_type": "code",
   "execution_count": 14,
   "metadata": {
    "collapsed": false
   },
   "outputs": [
    {
     "data": {
      "text/plain": [
       "6-element Array{Float64,1}:\n",
       " 0.156133\n",
       " 0.447156\n",
       " 0.674334\n",
       " 0.724347\n",
       " 0.145504\n",
       " 0.639183"
      ]
     },
     "execution_count": 14,
     "metadata": {},
     "output_type": "execute_result"
    }
   ],
   "source": [
    "# listar somente os elementos da segunda linha\n",
    "read(arquivo_avancado[\"Matriz\"])[2,:]"
   ]
  },
  {
   "cell_type": "code",
   "execution_count": 15,
   "metadata": {
    "collapsed": false,
    "scrolled": true
   },
   "outputs": [
    {
     "data": {
      "text/plain": [
       "9999"
      ]
     },
     "execution_count": 15,
     "metadata": {},
     "output_type": "execute_result"
    }
   ],
   "source": [
    "# alterar o valor de um elemento\n",
    "arquivo_avancado[\"Matriz\"][1,1] = 9999"
   ]
  },
  {
   "cell_type": "code",
   "execution_count": 16,
   "metadata": {
    "collapsed": false
   },
   "outputs": [
    {
     "data": {
      "text/plain": [
       "6×6 Array{Float64,2}:\n",
       " 9999.0       0.564034  0.540077  0.950728  0.444002  0.0951288\n",
       "    0.156133  0.447156  0.674334  0.724347  0.145504  0.639183 \n",
       "    0.982431  0.922423  0.459856  0.620397  0.605375  0.209212 \n",
       "    0.264951  0.998064  0.409874  0.246467  0.817898  0.186797 \n",
       "    0.493488  0.58254   0.773966  0.193356  0.796084  0.612911 \n",
       "    0.516489  0.633063  0.274701  0.274198  0.310703  0.57956  "
      ]
     },
     "execution_count": 16,
     "metadata": {},
     "output_type": "execute_result"
    }
   ],
   "source": [
    "read(arquivo_avancado[\"Matriz\"])"
   ]
  },
  {
   "cell_type": "code",
   "execution_count": 17,
   "metadata": {
    "collapsed": false
   },
   "outputs": [
    {
     "data": {
      "text/plain": [
       "\"Arquivos\""
      ]
     },
     "execution_count": 17,
     "metadata": {},
     "output_type": "execute_result"
    }
   ],
   "source": [
    "# Listar todos os dados do registro \"3\"\n",
    "read(arquivo_avancado[\"nome\"])"
   ]
  },
  {
   "cell_type": "code",
   "execution_count": 18,
   "metadata": {
    "collapsed": false,
    "scrolled": true
   },
   "outputs": [
    {
     "data": {
      "text/plain": [
       "f (generic function with 1 method)"
      ]
     },
     "execution_count": 18,
     "metadata": {},
     "output_type": "execute_result"
    }
   ],
   "source": [
    "# transformando a string da key 4 em função\n",
    "@eval f(x) = $(parse(read(arquivo_avancado[\"função\"])))"
   ]
  },
  {
   "cell_type": "code",
   "execution_count": 19,
   "metadata": {
    "collapsed": false
   },
   "outputs": [
    {
     "data": {
      "text/plain": [
       "15.0"
      ]
     },
     "execution_count": 19,
     "metadata": {},
     "output_type": "execute_result"
    }
   ],
   "source": [
    "f(30)"
   ]
  },
  {
   "cell_type": "code",
   "execution_count": 20,
   "metadata": {
    "collapsed": false
   },
   "outputs": [],
   "source": [
    "# definindo um tipo específico\n",
    "\n",
    "type Amostra_objeto\n",
    "     material  ::String\n",
    "     massa     ::Float64\n",
    "     raio      ::Float64 \n",
    "     densidade ::Float64    \n",
    "end"
   ]
  },
  {
   "cell_type": "code",
   "execution_count": 21,
   "metadata": {
    "collapsed": false
   },
   "outputs": [
    {
     "data": {
      "text/plain": [
       "Amostra_objeto(\"isopor\",0.001,0.1,0.0001)"
      ]
     },
     "execution_count": 21,
     "metadata": {},
     "output_type": "execute_result"
    }
   ],
   "source": [
    "objeto1 = Amostra_objeto(\"isopor\", 0.001, 0.1,  0.0001)"
   ]
  },
  {
   "cell_type": "code",
   "execution_count": 22,
   "metadata": {
    "collapsed": false
   },
   "outputs": [],
   "source": [
    "# salvar no arquivo\n",
    "write(arquivo_avancado, \"objeto1\" , objeto1 )"
   ]
  },
  {
   "cell_type": "code",
   "execution_count": 23,
   "metadata": {
    "collapsed": false
   },
   "outputs": [
    {
     "data": {
      "text/plain": [
       "(\"isopor\",0.001,0.1,0.0001)"
      ]
     },
     "execution_count": 23,
     "metadata": {},
     "output_type": "execute_result"
    }
   ],
   "source": [
    "# atribuir objeto1 à key \"objeto1\" \n",
    "amostra_1 = read(arquivo_avancado[\"objeto1\"])\n",
    "\n",
    "# listar as caracteristicas do objeto amostra_1\n",
    "amostra_1.material , amostra_1.massa , amostra_1.raio , amostra_1.densidade "
   ]
  },
  {
   "cell_type": "markdown",
   "metadata": {},
   "source": [
    "É possível gravar em uma `key` um tipo específico. Isto é útil para ter sempre disponível um tipo específico."
   ]
  },
  {
   "cell_type": "code",
   "execution_count": 78,
   "metadata": {
    "collapsed": false
   },
   "outputs": [
    {
     "name": "stderr",
     "output_type": "stream",
     "text": [
      "HDF5-DIAG: Error detected in HDF5 (1.8.16) thread 140296220822528:\n",
      "  #000: ../../../src/H5D.c line 194 in H5Dcreate2(): unable to create dataset\n",
      "    major: Dataset\n",
      "    minor: Unable to initialize object\n",
      "  #001: ../../../src/H5Dint.c line 453 in H5D__create_named(): unable to create and link to dataset\n",
      "    major: Dataset\n",
      "    minor: Unable to initialize object\n",
      "  #002: ../../../src/H5L.c line 1638 in H5L_link_object(): unable to create new link to object\n",
      "    major: Links\n",
      "    minor: Unable to initialize object\n",
      "  #003: ../../../src/H5L.c line 1882 in H5L_create_real(): can't insert link\n",
      "    major: Symbol table\n",
      "    minor: Unable to insert object\n",
      "  #004: ../../../src/H5Gtraverse.c line 861 in H5G_traverse(): internal path traversal failed\n",
      "    major: Symbol table\n",
      "    minor: Object not found\n",
      "  #005: ../../../src/H5Gtraverse.c line 641 in H5G_traverse_real(): traversal operator failed\n",
      "    major: Symbol table\n",
      "    minor: Callback failed\n",
      "  #006: ../../../src/H5L.c line 1674 in H5L_link_cb(): name already exists\n",
      "    major: Symbol table\n",
      "    minor: Object already exists\n"
     ]
    },
    {
     "ename": "LoadError",
     "evalue": "LoadError: Error creating dataset //tipo_amostra\nwhile loading In[78], in expression starting on line 2",
     "output_type": "error",
     "traceback": [
      "LoadError: Error creating dataset //tipo_amostra\nwhile loading In[78], in expression starting on line 2",
      "",
      " in h5d_create(::Int32, ::String, ::Int32, ::Int32, ::Int32, ::Int32, ::Int32) at /home/jmarcellopereira/.julia/v0.5/HDF5/src/plain.jl:2111",
      " in d_create(::HDF5.HDF5File, ::String, ::HDF5.HDF5Datatype, ::HDF5.HDF5Dataspace, ::HDF5.HDF5Properties, ::HDF5.HDF5Properties, ::HDF5.HDF5Properties) at /home/jmarcellopereira/.julia/v0.5/HDF5/src/plain.jl:824 (repeats 2 times)",
      " in #write_compound#21(::Array{Any,1}, ::Function, ::JLD.JldFile, ::String, ::Type{T}, ::JLD.JldWriteSession) at /home/jmarcellopereira/.julia/v0.5/JLD/src/JLD.jl:719",
      " in #write#14(::Array{Any,1}, ::Function, ::JLD.JldFile, ::String, ::Type{T}, ::JLD.JldWriteSession) at /home/jmarcellopereira/.julia/v0.5/JLD/src/JLD.jl:529",
      " in write(::JLD.JldFile, ::String, ::Type{T}) at /home/jmarcellopereira/.julia/v0.5/JLD/src/JLD.jl:529"
     ]
    }
   ],
   "source": [
    "# salvar no arquivo\n",
    "write(arquivo_avancado, \"tipo_amostra\" , Amostra_objeto )"
   ]
  },
  {
   "cell_type": "code",
   "execution_count": 81,
   "metadata": {
    "collapsed": false
   },
   "outputs": [
    {
     "data": {
      "text/plain": [
       "Amostra_objeto(\"metal\",0.1,0.1,0.15)"
      ]
     },
     "execution_count": 81,
     "metadata": {},
     "output_type": "execute_result"
    }
   ],
   "source": [
    "amostra_metal = read(arquivo_avancado[\"tipo_amostra\"])(\"metal\", 0.1, 0.1,  0.15)"
   ]
  },
  {
   "cell_type": "code",
   "execution_count": 82,
   "metadata": {
    "collapsed": true
   },
   "outputs": [],
   "source": [
    "# gravando o tipo no arquivo\n",
    "write(arquivo_avancado, \"amostra_metal\" , amostra_metal )"
   ]
  },
  {
   "cell_type": "code",
   "execution_count": 83,
   "metadata": {
    "collapsed": false
   },
   "outputs": [
    {
     "data": {
      "text/plain": [
       "Dict{String,Any} with 6 entries:\n",
       "  \"amostra_metal\" => Amostra_objeto(\"metal\",0.1,0.1,0.15)\n",
       "  \"função\"        => \"x*sind(x)\"\n",
       "  \"tipo_amostra\"  => Amostra_objeto\n",
       "  \"objeto1\"       => Amostra_objeto(\"isopor\",0.001,0.1,0.0001)\n",
       "  \"Key_testes\"    => \"so testes\"\n",
       "  \"Matriz\"        => [0.0 0.564034 … 0.444002 0.0951288; 0.156133 0.447156 … 0.…"
      ]
     },
     "execution_count": 83,
     "metadata": {},
     "output_type": "execute_result"
    }
   ],
   "source": [
    "# observe os valores alterados dos elementos e a ausência da key \"vetor\"\n",
    "read(arquivo_avancado)"
   ]
  },
  {
   "cell_type": "code",
   "execution_count": 84,
   "metadata": {
    "collapsed": false
   },
   "outputs": [],
   "source": [
    "# fechar arquivo\n",
    "close(arquivo_avancado)"
   ]
  },
  {
   "cell_type": "code",
   "execution_count": 85,
   "metadata": {
    "collapsed": false,
    "scrolled": true
   },
   "outputs": [
    {
     "ename": "LoadError",
     "evalue": "LoadError: File or object has been closed\nwhile loading In[85], in expression starting on line 2",
     "output_type": "error",
     "traceback": [
      "LoadError: File or object has been closed\nwhile loading In[85], in expression starting on line 2",
      "",
      " in checkvalid at /home/jmarcellopereira/.julia/v0.5/HDF5/src/plain.jl:683 [inlined]",
      " in names(::HDF5.HDF5File) at /home/jmarcellopereira/.julia/v0.5/HDF5/src/plain.jl:1003",
      " in names(::JLD.JldFile) at /home/jmarcellopereira/.julia/v0.5/JLD/src/JLD.jl:1100",
      " in read(::JLD.JldFile) at /home/jmarcellopereira/.julia/v0.5/HDF5/src/datafile.jl:52"
     ]
    }
   ],
   "source": [
    "# depois de fechado, os dados não podem ser lidos a partir da variável vinculada\n",
    "read(arquivo_avancado)"
   ]
  },
  {
   "cell_type": "markdown",
   "metadata": {},
   "source": [
    "**Ler e alterar dados em um arquivo jld sem atribuição de variável**\n",
    "\n",
    "Para somente ler o conteúdo de um arquivo sem ter a necessidade de fecha-lo depois, use o comando: \n",
    "```julia \n",
    "read(jldopen(\"nome_arquivo.jld\", \"atributo\"))\n",
    "```\n",
    "Para ser prático, use o atributo \"r+\" pois assim é possível alterar valores dos elementos de contidos em uma `key`.\n",
    "\n",
    "Para gravar uma nova `key` use:\n",
    "```julia\n",
    "write(jldopen(\"nome_arquivo.jld\", \"r+\"), \"nova_key\",\"valor_dado\")\n",
    "```\n",
    "Não use ```write(\"nome_arquivo.jld\",\"key\",\"Valor_Dados\") ``` para gravar diretamente, todos os dados anteriores serão perdidos."
   ]
  },
  {
   "cell_type": "code",
   "execution_count": 86,
   "metadata": {
    "collapsed": false,
    "scrolled": true
   },
   "outputs": [
    {
     "data": {
      "text/plain": [
       "Dict{String,Any} with 6 entries:\n",
       "  \"amostra_metal\" => Amostra_objeto(\"metal\",0.1,0.1,0.15)\n",
       "  \"função\"        => \"x*sind(x)\"\n",
       "  \"tipo_amostra\"  => Amostra_objeto\n",
       "  \"objeto1\"       => Amostra_objeto(\"isopor\",0.001,0.1,0.0001)\n",
       "  \"Key_testes\"    => \"so testes\"\n",
       "  \"Matriz\"        => [0.0 0.564034 … 0.444002 0.0951288; 0.156133 0.447156 … 0.…"
      ]
     },
     "execution_count": 86,
     "metadata": {},
     "output_type": "execute_result"
    }
   ],
   "source": [
    "# use o atributo \"r+\" para ler e alterar dados do arquivo.\n",
    "read(jldopen(\"arquivo_avancado.jld\", \"r+\"))"
   ]
  },
  {
   "cell_type": "code",
   "execution_count": 87,
   "metadata": {
    "collapsed": false,
    "scrolled": false
   },
   "outputs": [
    {
     "data": {
      "text/plain": [
       "6×6 Array{Float64,2}:\n",
       " 0.0       0.564034  0.540077  0.950728  0.444002  0.0951288\n",
       " 0.156133  0.447156  0.674334  0.724347  0.145504  0.639183 \n",
       " 0.982431  0.922423  0.459856  0.620397  0.605375  0.209212 \n",
       " 0.264951  0.998064  0.409874  0.246467  0.817898  0.186797 \n",
       " 0.493488  0.58254   0.773966  0.193356  0.796084  0.612911 \n",
       " 0.516489  0.633063  0.274701  0.274198  0.310703  0.57956  "
      ]
     },
     "execution_count": 87,
     "metadata": {},
     "output_type": "execute_result"
    }
   ],
   "source": [
    "read(jldopen(\"arquivo_avancado.jld\", \"r+\")[\"Matriz\"])"
   ]
  },
  {
   "cell_type": "code",
   "execution_count": 88,
   "metadata": {
    "collapsed": false,
    "scrolled": true
   },
   "outputs": [
    {
     "data": {
      "text/plain": [
       "0.0"
      ]
     },
     "execution_count": 88,
     "metadata": {},
     "output_type": "execute_result"
    }
   ],
   "source": [
    "read(jldopen(\"arquivo_avancado.jld\", \"r+\")[\"Matriz\"])[1,1]"
   ]
  },
  {
   "cell_type": "code",
   "execution_count": 89,
   "metadata": {
    "collapsed": false
   },
   "outputs": [
    {
     "data": {
      "text/plain": [
       "0.0"
      ]
     },
     "execution_count": 89,
     "metadata": {},
     "output_type": "execute_result"
    }
   ],
   "source": [
    "# Alterar o elemento [1,1] da matriz da key \"1\"\n",
    "(jldopen(\"arquivo_avancado.jld\", \"r+\")[\"Matriz\"])[1,1] = 0000.0"
   ]
  },
  {
   "cell_type": "code",
   "execution_count": 90,
   "metadata": {
    "collapsed": false
   },
   "outputs": [
    {
     "data": {
      "text/plain": [
       "Dict{String,Any} with 6 entries:\n",
       "  \"amostra_metal\" => Amostra_objeto(\"metal\",0.1,0.1,0.15)\n",
       "  \"função\"        => \"x*sind(x)\"\n",
       "  \"tipo_amostra\"  => Amostra_objeto\n",
       "  \"objeto1\"       => Amostra_objeto(\"isopor\",0.001,0.1,0.0001)\n",
       "  \"Key_testes\"    => \"so testes\"\n",
       "  \"Matriz\"        => [0.0 0.564034 … 0.444002 0.0951288; 0.156133 0.447156 … 0.…"
      ]
     },
     "execution_count": 90,
     "metadata": {},
     "output_type": "execute_result"
    }
   ],
   "source": [
    "# testar a mudança\n",
    "read(jldopen(\"arquivo_avancado.jld\", \"r+\"))"
   ]
  },
  {
   "cell_type": "code",
   "execution_count": 93,
   "metadata": {
    "collapsed": false
   },
   "outputs": [],
   "source": [
    "# gravar uma nova key ao arquivo\n",
    "write(jldopen(\"arquivo_avancado.jld\", \"r+\"), \"Key_testes\",\"so testes\")"
   ]
  },
  {
   "cell_type": "code",
   "execution_count": 94,
   "metadata": {
    "collapsed": false
   },
   "outputs": [
    {
     "ename": "LoadError",
     "evalue": "LoadError: nome does not exist in Julia data file version 0.1.1: arquivo_avancado.jld\nwhile loading In[94], in expression starting on line 2",
     "output_type": "error",
     "traceback": [
      "LoadError: nome does not exist in Julia data file version 0.1.1: arquivo_avancado.jld\nwhile loading In[94], in expression starting on line 2",
      "",
      " in delete!(::JLD.JldFile, ::String) at /home/jmarcellopereira/.julia/v0.5/JLD/src/JLD.jl:344"
     ]
    }
   ],
   "source": [
    "# remover uma key e seus valores\n",
    "delete!(jldopen(\"arquivo_avancado.jld\", \"r+\"), \"nome\")"
   ]
  },
  {
   "cell_type": "code",
   "execution_count": 95,
   "metadata": {
    "collapsed": false,
    "scrolled": false
   },
   "outputs": [
    {
     "data": {
      "text/plain": [
       "Dict{String,Any} with 6 entries:\n",
       "  \"amostra_metal\" => Amostra_objeto(\"metal\",0.1,0.1,0.15)\n",
       "  \"função\"        => \"x*sind(x)\"\n",
       "  \"tipo_amostra\"  => Amostra_objeto\n",
       "  \"objeto1\"       => Amostra_objeto(\"isopor\",0.001,0.1,0.0001)\n",
       "  \"Key_testes\"    => \"so testes\"\n",
       "  \"Matriz\"        => [0.0 0.564034 … 0.444002 0.0951288; 0.156133 0.447156 … 0.…"
      ]
     },
     "execution_count": 95,
     "metadata": {},
     "output_type": "execute_result"
    }
   ],
   "source": [
    "# verificar a nova key e key \"nome\" deletada\n",
    "read(jldopen(\"arquivo_avancado.jld\", \"r+\"))"
   ]
  },
  {
   "cell_type": "markdown",
   "metadata": {},
   "source": [
    "**Filtragem de dados**\n",
    "\n",
    "\n",
    "\n",
    "A função `filter()` permite filtrar. Sintaxe:\n",
    "```julia\n",
    "filter((key, valor) -> key == \"nome_key\", read(nome_arquivo_dados)) # filtrar key\n",
    "filter((valor) -> valor operador_logico valor , read(nome_arquivo_dados)) # filtrar dados em uma key\n",
    "```\n",
    "List Comprehension\n",
    "\n",
    "Sintaxe:\n",
    "```julia\n",
    "read(nome_arquivo_dados)[\"nome_key\"][read(nome_arquivo_dados)[\"nome_key\"].> valor]\n",
    "```"
   ]
  },
  {
   "cell_type": "code",
   "execution_count": 96,
   "metadata": {
    "collapsed": false
   },
   "outputs": [
    {
     "data": {
      "text/plain": [
       "Dict{String,Any} with 6 entries:\n",
       "  \"amostra_metal\" => Amostra_objeto(\"metal\",0.1,0.1,0.15)\n",
       "  \"função\"        => \"x*sind(x)\"\n",
       "  \"tipo_amostra\"  => Amostra_objeto\n",
       "  \"objeto1\"       => Amostra_objeto(\"isopor\",0.001,0.1,0.0001)\n",
       "  \"Key_testes\"    => \"so testes\"\n",
       "  \"Matriz\"        => [0.0 0.564034 … 0.444002 0.0951288; 0.156133 0.447156 … 0.…"
      ]
     },
     "execution_count": 96,
     "metadata": {},
     "output_type": "execute_result"
    }
   ],
   "source": [
    "# ler os dados do arquivo e atribuir à variável dados_arquivo1\n",
    "dados_arquivo1 = load(\"arquivo_avancado.jld\")"
   ]
  },
  {
   "cell_type": "code",
   "execution_count": 97,
   "metadata": {
    "collapsed": false
   },
   "outputs": [
    {
     "data": {
      "text/plain": [
       "6×6 Array{Float64,2}:\n",
       " 0.0       0.564034  0.540077  0.950728  0.444002  0.0951288\n",
       " 0.156133  0.447156  0.674334  0.724347  0.145504  0.639183 \n",
       " 0.982431  0.922423  0.459856  0.620397  0.605375  0.209212 \n",
       " 0.264951  0.998064  0.409874  0.246467  0.817898  0.186797 \n",
       " 0.493488  0.58254   0.773966  0.193356  0.796084  0.612911 \n",
       " 0.516489  0.633063  0.274701  0.274198  0.310703  0.57956  "
      ]
     },
     "execution_count": 97,
     "metadata": {},
     "output_type": "execute_result"
    }
   ],
   "source": [
    "dados_arquivo1[\"Matriz\"]"
   ]
  },
  {
   "cell_type": "code",
   "execution_count": 98,
   "metadata": {
    "collapsed": false
   },
   "outputs": [
    {
     "data": {
      "text/plain": [
       "4-element Array{Float64,1}:\n",
       " 0.982431\n",
       " 0.922423\n",
       " 0.998064\n",
       " 0.950728"
      ]
     },
     "execution_count": 98,
     "metadata": {},
     "output_type": "execute_result"
    }
   ],
   "source": [
    "dados_arquivo1[\"Matriz\"][dados_arquivo1[\"Matriz\"] .> 0.9]"
   ]
  },
  {
   "cell_type": "code",
   "execution_count": 99,
   "metadata": {
    "collapsed": false
   },
   "outputs": [
    {
     "data": {
      "text/plain": [
       "Julia data file version 0.1.1: arquivo_avancado.jld"
      ]
     },
     "execution_count": 99,
     "metadata": {},
     "output_type": "execute_result"
    }
   ],
   "source": [
    "# Este caso é melhor que load pois permite alterar o conteudo caso seja necessario\n",
    "dados_arquivo2 = jldopen(\"arquivo_avancado.jld\", \"r+\") "
   ]
  },
  {
   "cell_type": "code",
   "execution_count": 100,
   "metadata": {
    "collapsed": false,
    "scrolled": true
   },
   "outputs": [
    {
     "data": {
      "text/plain": [
       "Dict{String,Any} with 6 entries:\n",
       "  \"amostra_metal\" => Amostra_objeto(\"metal\",0.1,0.1,0.15)\n",
       "  \"função\"        => \"x*sind(x)\"\n",
       "  \"tipo_amostra\"  => Amostra_objeto\n",
       "  \"objeto1\"       => Amostra_objeto(\"isopor\",0.001,0.1,0.0001)\n",
       "  \"Key_testes\"    => \"so testes\"\n",
       "  \"Matriz\"        => [0.0 0.564034 … 0.444002 0.0951288; 0.156133 0.447156 … 0.…"
      ]
     },
     "execution_count": 100,
     "metadata": {},
     "output_type": "execute_result"
    }
   ],
   "source": [
    "read(dados_arquivo2)"
   ]
  },
  {
   "cell_type": "code",
   "execution_count": 101,
   "metadata": {
    "collapsed": false,
    "scrolled": true
   },
   "outputs": [
    {
     "data": {
      "text/plain": [
       "Dict{String,Any} with 1 entry:\n",
       "  \"Matriz\" => [0.0 0.564034 … 0.444002 0.0951288; 0.156133 0.447156 … 0.145504 …"
      ]
     },
     "execution_count": 101,
     "metadata": {},
     "output_type": "execute_result"
    }
   ],
   "source": [
    "filter((key, valor) -> key == \"Matriz\", read(dados_arquivo2))"
   ]
  },
  {
   "cell_type": "code",
   "execution_count": 102,
   "metadata": {
    "collapsed": false,
    "scrolled": false
   },
   "outputs": [
    {
     "data": {
      "text/plain": [
       "4-element Array{Float64,1}:\n",
       " 0.982431\n",
       " 0.922423\n",
       " 0.998064\n",
       " 0.950728"
      ]
     },
     "execution_count": 102,
     "metadata": {},
     "output_type": "execute_result"
    }
   ],
   "source": [
    "filter((valor) -> valor > 0.9, read(dados_arquivo2)[\"Matriz\"])"
   ]
  },
  {
   "cell_type": "code",
   "execution_count": 103,
   "metadata": {
    "collapsed": false
   },
   "outputs": [
    {
     "data": {
      "text/plain": [
       "1-element Array{Float64,1}:\n",
       " 0.817898"
      ]
     },
     "execution_count": 103,
     "metadata": {},
     "output_type": "execute_result"
    }
   ],
   "source": [
    "# filtrar valores da matriz maiores que 0.8 e menores que 0.9\n",
    "filter((valor) -> (valor > 0.8) & (valor < 0.9) , read(dados_arquivo2)[\"Matriz\"])"
   ]
  },
  {
   "cell_type": "code",
   "execution_count": 104,
   "metadata": {
    "collapsed": false
   },
   "outputs": [
    {
     "data": {
      "text/plain": [
       "4-element Array{Float64,1}:\n",
       " 0.982431\n",
       " 0.922423\n",
       " 0.998064\n",
       " 0.950728"
      ]
     },
     "execution_count": 104,
     "metadata": {},
     "output_type": "execute_result"
    }
   ],
   "source": [
    "read(dados_arquivo2)[\"Matriz\"][read(dados_arquivo2)[\"Matriz\"].> 0.9]"
   ]
  },
  {
   "cell_type": "code",
   "execution_count": 105,
   "metadata": {
    "collapsed": false
   },
   "outputs": [
    {
     "data": {
      "text/plain": [
       "1-element Array{Float64,1}:\n",
       " 0.817898"
      ]
     },
     "execution_count": 105,
     "metadata": {},
     "output_type": "execute_result"
    }
   ],
   "source": [
    "# filtrar valores da matriz maiores que 0.8 e menores que 0.9\n",
    "read(dados_arquivo2)[\"Matriz\"][(read(dados_arquivo2)[\"Matriz\"].> 0.8) & (read(dados_arquivo2)[\"Matriz\"].< 0.9)] "
   ]
  },
  {
   "cell_type": "raw",
   "metadata": {},
   "source": []
  },
  {
   "cell_type": "markdown",
   "metadata": {},
   "source": [
    "**Comparação entre Keys**\n",
    "\n",
    "O comandos `setdiff` retorna a diferença entre os dois arquivos na forma de um dicionáro que contém os elementos que se encontram no primeiro arquivo mas não no segundo -  a ordem dos arquivos é importente. O comando `intersect` retorna um diconário que contém todos os elementos que pertence a ambos os arquivos."
   ]
  },
  {
   "cell_type": "code",
   "execution_count": 106,
   "metadata": {
    "collapsed": false
   },
   "outputs": [
    {
     "data": {
      "text/plain": [
       "Dict{String,Any} with 3 entries:\n",
       "  \"1\"          => 50.05\n",
       "  \"2\"          => [1,2,3]\n",
       "  \"Key_testes\" => \"so testes\""
      ]
     },
     "execution_count": 106,
     "metadata": {},
     "output_type": "execute_result"
    }
   ],
   "source": [
    "# criação de um novo arquivo\n",
    "save(\"arquivo_avancado_novo.jld\", \"1\",50.05, \"2\", [1,2,3], \"Key_testes\", \"so testes\")\n",
    "dados_arquivo_novo = load(\"arquivo_avancado_novo.jld\")"
   ]
  },
  {
   "cell_type": "code",
   "execution_count": 107,
   "metadata": {
    "collapsed": false
   },
   "outputs": [
    {
     "data": {
      "text/plain": [
       "Dict{String,Any} with 6 entries:\n",
       "  \"amostra_metal\" => Amostra_objeto(\"metal\",0.1,0.1,0.15)\n",
       "  \"função\"        => \"x*sind(x)\"\n",
       "  \"tipo_amostra\"  => Amostra_objeto\n",
       "  \"objeto1\"       => Amostra_objeto(\"isopor\",0.001,0.1,0.0001)\n",
       "  \"Key_testes\"    => \"so testes\"\n",
       "  \"Matriz\"        => [0.0 0.564034 … 0.444002 0.0951288; 0.156133 0.447156 … 0.…"
      ]
     },
     "execution_count": 107,
     "metadata": {},
     "output_type": "execute_result"
    }
   ],
   "source": [
    "dados_arquivo2 = load(\"arquivo_avancado.jld\")"
   ]
  },
  {
   "cell_type": "code",
   "execution_count": 108,
   "metadata": {
    "collapsed": false,
    "scrolled": true
   },
   "outputs": [
    {
     "data": {
      "text/plain": [
       "5-element Array{Pair{String,Any},1}:\n",
       " Pair{String,Any}(\"amostra_metal\",Amostra_objeto(\"metal\",0.1,0.1,0.15))                                                                                                               \n",
       " Pair{String,Any}(\"função\",\"x*sind(x)\")                                                                                                                                               \n",
       " Pair{String,Any}(\"tipo_amostra\",Amostra_objeto)                                                                                                                                      \n",
       " Pair{String,Any}(\"objeto1\",Amostra_objeto(\"isopor\",0.001,0.1,0.0001))                                                                                                                \n",
       " Pair{String,Any}(\"Matriz\",[0.0 0.564034 … 0.444002 0.0951288; 0.156133 0.447156 … 0.145504 0.639183; … ; 0.493488 0.58254 … 0.796084 0.612911; 0.516489 0.633063 … 0.310703 0.57956])"
      ]
     },
     "execution_count": 108,
     "metadata": {},
     "output_type": "execute_result"
    }
   ],
   "source": [
    "# listar as keys diferentes entre o dados_arquivo2 e dados_arquivo_novo\n",
    "setdiff(dados_arquivo2, dados_arquivo_novo)"
   ]
  },
  {
   "cell_type": "code",
   "execution_count": 109,
   "metadata": {
    "collapsed": false
   },
   "outputs": [
    {
     "data": {
      "text/plain": [
       "2-element Array{Pair{String,Any},1}:\n",
       " Pair{String,Any}(\"1\",50.05)  \n",
       " Pair{String,Any}(\"2\",[1,2,3])"
      ]
     },
     "execution_count": 109,
     "metadata": {},
     "output_type": "execute_result"
    }
   ],
   "source": [
    "# listar as keys diferentes entre dados_arquivo_novo e dados_arquivo2\n",
    "setdiff(dados_arquivo_novo, dados_arquivo2)"
   ]
  },
  {
   "cell_type": "code",
   "execution_count": 67,
   "metadata": {
    "collapsed": false
   },
   "outputs": [
    {
     "data": {
      "text/plain": [
       "1-element Array{Pair{String,Any},1}:\n",
       " Pair{String,Any}(\"Key_testes\",\"so testes\")"
      ]
     },
     "execution_count": 67,
     "metadata": {},
     "output_type": "execute_result"
    }
   ],
   "source": [
    "# elementos em comum entre os arquivos.\n",
    "intersect(dados_arquivo2, dados_arquivo_novo)"
   ]
  },
  {
   "cell_type": "markdown",
   "metadata": {},
   "source": [
    "**Map, MapReduce, Sum, Prod e List Comprehensions**"
   ]
  },
  {
   "cell_type": "code",
   "execution_count": 68,
   "metadata": {
    "collapsed": false,
    "scrolled": true
   },
   "outputs": [
    {
     "data": {
      "text/plain": [
       "Dict{String,Any} with 5 entries:\n",
       "  \"função\"       => \"x*sind(x)\"\n",
       "  \"tipo_amostra\" => Amostra_objeto\n",
       "  \"objeto1\"      => Amostra_objeto(\"isopor\",0.001,0.1,0.0001)\n",
       "  \"Key_testes\"   => \"so testes\"\n",
       "  \"Matriz\"       => [0.0 0.564034 … 0.444002 0.0951288; 0.156133 0.447156 … 0.1…"
      ]
     },
     "execution_count": 68,
     "metadata": {},
     "output_type": "execute_result"
    }
   ],
   "source": [
    "dados_arquivo3 = load(\"arquivo_avancado.jld\")"
   ]
  },
  {
   "cell_type": "code",
   "execution_count": 70,
   "metadata": {
    "collapsed": false,
    "scrolled": true
   },
   "outputs": [
    {
     "data": {
      "text/plain": [
       "6×6 Array{Float64,2}:\n",
       " 0.0        0.301533  0.277709   0.773739   0.190724   0.00903585\n",
       " 0.0242785  0.193352  0.421039   0.479986   0.0210969  0.381298  \n",
       " 0.817234   0.735234  0.204093   0.360673   0.344501   0.0434512 \n",
       " 0.0693805  0.838797  0.163332   0.0601327  0.596829   0.0346904 \n",
       " 0.233765   0.320483  0.540984   0.037154   0.5689     0.352578  \n",
       " 0.255057   0.374531  0.0745154  0.0742459  0.0949906  0.317399  "
      ]
     },
     "execution_count": 70,
     "metadata": {},
     "output_type": "execute_result"
    }
   ],
   "source": [
    "# mapeamento de uma função anonima aplicado a matriz do arquivo\n",
    "map(x -> x*sin(x) , dados_arquivo3[\"Matriz\"])"
   ]
  },
  {
   "cell_type": "code",
   "execution_count": 72,
   "metadata": {
    "collapsed": false,
    "scrolled": true
   },
   "outputs": [
    {
     "data": {
      "text/plain": [
       "10.586740934422815"
      ]
     },
     "execution_count": 72,
     "metadata": {},
     "output_type": "execute_result"
    }
   ],
   "source": [
    "mapreduce(x -> x*sin(x) , + , dados_arquivo3[\"Matriz\"])"
   ]
  },
  {
   "cell_type": "code",
   "execution_count": 73,
   "metadata": {
    "collapsed": false,
    "scrolled": true
   },
   "outputs": [
    {
     "data": {
      "text/plain": [
       "18.14543125196607"
      ]
     },
     "execution_count": 73,
     "metadata": {},
     "output_type": "execute_result"
    }
   ],
   "source": [
    "sum(dados_arquivo3[\"Matriz\"])"
   ]
  },
  {
   "cell_type": "code",
   "execution_count": 74,
   "metadata": {
    "collapsed": false
   },
   "outputs": [
    {
     "data": {
      "text/plain": [
       "0.0"
      ]
     },
     "execution_count": 74,
     "metadata": {},
     "output_type": "execute_result"
    }
   ],
   "source": [
    "prod(dados_arquivo3[\"Matriz\"])"
   ]
  },
  {
   "cell_type": "code",
   "execution_count": 75,
   "metadata": {
    "collapsed": false,
    "scrolled": false
   },
   "outputs": [
    {
     "data": {
      "text/plain": [
       "6×6 Array{Float64,2}:\n",
       " 0.0        0.301533  0.277709   0.773739   0.190724   0.00903585\n",
       " 0.0242785  0.193352  0.421039   0.479986   0.0210969  0.381298  \n",
       " 0.817234   0.735234  0.204093   0.360673   0.344501   0.0434512 \n",
       " 0.0693805  0.838797  0.163332   0.0601327  0.596829   0.0346904 \n",
       " 0.233765   0.320483  0.540984   0.037154   0.5689     0.352578  \n",
       " 0.255057   0.374531  0.0745154  0.0742459  0.0949906  0.317399  "
      ]
     },
     "execution_count": 75,
     "metadata": {},
     "output_type": "execute_result"
    }
   ],
   "source": [
    "[x*sin(x) for x = dados_arquivo3[\"Matriz\"]]"
   ]
  },
  {
   "cell_type": "code",
   "execution_count": null,
   "metadata": {
    "collapsed": true
   },
   "outputs": [],
   "source": []
  }
 ],
 "metadata": {
  "anaconda-cloud": {},
  "kernelspec": {
   "display_name": "Julia 0.5.0",
   "language": "julia",
   "name": "julia-0.5"
  },
  "language_info": {
   "file_extension": ".jl",
   "mimetype": "application/julia",
   "name": "julia",
   "version": "0.5.0"
  }
 },
 "nbformat": 4,
 "nbformat_minor": 0
}
