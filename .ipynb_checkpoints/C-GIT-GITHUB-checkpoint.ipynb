{
 "cells": [
  {
   "cell_type": "markdown",
   "metadata": {},
   "source": [
    "# GIT E GITHUB\n",
    "\n",
    "\"O Git  é um sistema de controle de versão que, pela sua estrutura interna, é uma máquina do tempo extremamente rápida e é um robô de integração bem competente\" (AQUILES, 2014). O Git  foi criado por Linus Torvalds em 2005 baseado no software proprietário BitKeeper. \"Em 2008, foi criado o Git Hub, uma aplicação Web que possibilita a hospeda gem de repositórios Git , além de servir como uma rede social para programadores\" (AQUILES, 2014). O Github é desenvolvido em Ruby on Rails pelos desenvolvedores Chris Wanstrath, PJ Hyett e Tom Preston. Entre as muitas vantagens podemos destacar:\n",
    "\n",
    "+ Compartilhamento de projetos: Permite que qualquer projeto (de software ou não) seja compartilhado entre várias pessoas com a possibilidade de `time line`;\n",
    "\n",
    "+ Integração com Git : O GitHub possui total integração com o Git .\n",
    "\n",
    "+ Rede Social: Apresenta muitas das características de uma rede social como o compartilhamento de conteúdo, possiblidade de seguir projetos, envio de mensagens entre os participantes do projeto, notificações e muitas outras \n",
    "\n",
    "+ Portfólio: é possível adicionar a conta do GitHub ao LinkedIn e dessa forma seus projetos aparecerão como parte do seu perfil.         "
   ]
  },
  {
   "cell_type": "markdown",
   "metadata": {},
   "source": [
    "## CRIANDO UMA CONTA NO GITHUB\n",
    "\n",
    "<img src=\"Figuras/github.png\" align=\"center\" width=\"500\">\n",
    "\n",
    "<img src=\"Figuras/github-singup.png\" align=\"center\" width=\"500\">"
   ]
  },
  {
   "cell_type": "markdown",
   "metadata": {
    "collapsed": true
   },
   "source": [
    "## GITHUB - MÃO NA MASSA!\n",
    "\n",
    "### CONHECENDO O GITHUB\n",
    "\n",
    "Acesse o [GitHub](www.github.com) e procure por \"linguagem de programação julia\". Vai aparecer o projeto `JuliaLangPt`([github.com/julialangpt](github.com/julialangpt)) e nele contém o tutoria da linguagem Julia em português e código fonte da linguagem. \n",
    "\n",
    "<img src=\"Figuras/busca-projeto.png\" align=\"center\" width=\"700\">\n",
    "\n",
    "\n",
    "Click no link `tutorial_PT_BR` e veja que há diversos notebooks no formato ipynb disponíveis para pesquisa e download. \n",
    "\n",
    "<img src=\"Figuras/github-julialangpt.png\" align=\"center\" width=\"700\">\n",
    "\n",
    "\n",
    "Esses notebooks podem ser baixados e executados na máquina local com a linguagem Julia instalado. Faça o download do notebook cálculo diferencial e integral e salve na pasta `Julia-Teste`."
   ]
  },
  {
   "cell_type": "markdown",
   "metadata": {
    "collapsed": true
   },
   "source": [
    "### GITHUB + JULIA BOX\n",
    "\n",
    "Uma forma mais prática de trabalhar com o GitHub é através do [Juliabox](www.juliabox.com)"
   ]
  },
  {
   "cell_type": "code",
   "execution_count": null,
   "metadata": {
    "collapsed": true
   },
   "outputs": [],
   "source": []
  },
  {
   "cell_type": "markdown",
   "metadata": {},
   "source": [
    "## GIT MÁQUINA LOCAL\n",
    "\n",
    "+ Debian/Ubuntu\n",
    "\n",
    "```sh\n",
    "$ apt-get install git\n",
    " ```\n",
    " \n",
    "+ RedHat/Fedora e derivados (Fedora 22 e superior)\n",
    "\n",
    "```sh\n",
    "$ dnf/yum install git \n",
    "```\n",
    "\n",
    "+ Gentoo\n",
    "\n",
    "```sh\n",
    "$ emerge --ask --verbose dev-vcs/git\n",
    "```\n",
    "\n",
    "+ Arch Linux\n",
    "\n",
    "```sh\n",
    "$ pacman -S git\n",
    "```    \n",
    "\n",
    "+ openSUSE\n",
    "\n",
    "```sh\n",
    "$ zypper install git\n",
    "```\n",
    "+ Windows\n",
    "\n",
    "+ MacOS"
   ]
  },
  {
   "cell_type": "markdown",
   "metadata": {},
   "source": [
    "### CRIANDO UM REPOSITÓRIO NO GITHUB\n"
   ]
  },
  {
   "cell_type": "code",
   "execution_count": null,
   "metadata": {
    "collapsed": true
   },
   "outputs": [],
   "source": []
  },
  {
   "cell_type": "markdown",
   "metadata": {},
   "source": [
    "#### ENVIANDO OS ARQUIVOS VIA UPLOAD"
   ]
  },
  {
   "cell_type": "code",
   "execution_count": null,
   "metadata": {
    "collapsed": true
   },
   "outputs": [],
   "source": []
  },
  {
   "cell_type": "markdown",
   "metadata": {
    "collapsed": true
   },
   "source": [
    "## REFERENCIA BIBLIOGRÁFICA\n",
    "\n",
    "AQUILES, Alexandre. **Controlando versões com Git e Github**. 1. ed. São Paulo, SP: Casa do Código, 2014. 209 p.\n",
    "\n"
   ]
  }
 ],
 "metadata": {
  "anaconda-cloud": {},
  "kernelspec": {
   "display_name": "Julia 1.0.2",
   "language": "julia",
   "name": "julia-1.0"
  },
  "language_info": {
   "file_extension": ".jl",
   "mimetype": "application/julia",
   "name": "julia",
   "version": "1.0.2"
  },
  "latex_envs": {
   "LaTeX_envs_menu_present": true,
   "autocomplete": true,
   "bibliofile": "biblio.bib",
   "cite_by": "apalike",
   "current_citInitial": 1,
   "eqLabelWithNumbers": true,
   "eqNumInitial": 1,
   "hotkeys": {
    "equation": "Ctrl-E",
    "itemize": "Ctrl-I"
   },
   "labels_anchors": false,
   "latex_user_defs": false,
   "report_style_numbering": false,
   "user_envs_cfg": false
  }
 },
 "nbformat": 4,
 "nbformat_minor": 1
}
