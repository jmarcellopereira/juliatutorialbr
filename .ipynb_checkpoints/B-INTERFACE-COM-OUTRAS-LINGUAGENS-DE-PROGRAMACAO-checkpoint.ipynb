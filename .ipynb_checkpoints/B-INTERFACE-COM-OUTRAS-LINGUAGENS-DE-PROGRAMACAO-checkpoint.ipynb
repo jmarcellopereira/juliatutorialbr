{
 "cells": [
  {
   "cell_type": "markdown",
   "metadata": {},
   "source": [
    "# INTERFACE COM OUTRAS LINGUAGENS  DE PROGRAMAÇÃO\n",
    "\n",
    "A linguagem de programação Julia é estruturada com uma extensa biblioteca básica além de vários pacotes adicionais que permitem ao programador elaborar códigos para as mais diferentes aplicações. No entanto, existem muitas bibliotecas para computação numérica escritas em outras linguagens de programação que permitem utilizar recursos que ainda não são implementadas em Julia. Dessa forma, Julia possui suporte nativo para funções em C e FORTRAN, além de suporte para interfaces C++, R, Python e outras linguagens através de pacotes adicionais."
   ]
  },
  {
   "cell_type": "markdown",
   "metadata": {},
   "source": [
    "## INTERFACE COM PYTHON"
   ]
  },
  {
   "cell_type": "markdown",
   "metadata": {},
   "source": [
    "O pacote `PyCall.jl` criado por Steve Johnson, fornece à linguagem  Julia  uma interface para utilizar funções e bibliotecas da linguagem  Python  sem utilizar diretamente o binário  Python  instalado no computador - todos os comandos são repassados diretamente para a biblioteca  libpython . A melhor maneira para trabalhar com  PyCall  é deixar o `Conda.jl` gerenciar os pacote do  Python  independentemente das versões instaladas em seu sistema. Para isto use:\n",
    "\n",
    "```julia\n",
    "using Pkg\n",
    "ENV[\"PYTHON\"]=\"\"\n",
    "Pkg.build(\"PyCall\")\n",
    "# isto será feito apenas uma vez.\n",
    "```\n",
    "Caso seja interessante usar sua própria versão do  Python  instalado no sistema (melhor opção caso use o anaconda) , informe a localização do binário (ex: `/home/USUARIO/anacondaX/bin/pythonX.Y`) como descrito abaixo:\n",
    "```julia\n",
    "ENV[\"PYTHON\"] = \"PATH\"\n",
    "```\n",
    "OBS: Se estiver utilizando o  Jupyter  É importante que **somente este notebook esteja funcionando** para que todo o processo ocorra bem. Caso ocorra erro do tipo:\n",
    "> \"LOCKERROR: It looks like conda is already doing something.\"\n",
    "\n",
    "Encerre os outros notebooks e execute os comando acima novamente."
   ]
  },
  {
   "cell_type": "code",
   "execution_count": 4,
   "metadata": {
    "collapsed": false
   },
   "outputs": [
    {
     "name": "stdout",
     "output_type": "stream",
     "text": [
      "\u001b[32m\u001b[1m  Building\u001b[22m\u001b[39m Conda ─→ `~/.julia/packages/Conda/m7vem/deps/build.log`\n",
      "\u001b[32m\u001b[1m  Building\u001b[22m\u001b[39m PyCall → `~/.julia/packages/PyCall/rUul9/deps/build.log`\n"
     ]
    }
   ],
   "source": [
    "using Pkg\n",
    "ENV[\"PYTHON\"]=\"/home/jmarcellopereira/anaconda2/bin/python2.7\"\n",
    "Pkg.build(\"PyCall\")"
   ]
  },
  {
   "cell_type": "markdown",
   "metadata": {},
   "source": [
    "Para importar um módulo do Python use a sintaxe:\n",
    "```julia\n",
    "@pyimport modulo as nome\n",
    "```"
   ]
  },
  {
   "cell_type": "markdown",
   "metadata": {},
   "source": [
    "### NUMPY\n",
    "\n",
    "\"NumPy (abreviação de Python numérico) é uma biblioteca Python de código aberto para computação científica\" (IVAN, 2015). Foi criado pelo engenheiro de software Jim Hugunin que projetou o módulo NumericPython para fornecer capacidades semelhantes às de outros softwares como  o MatLab®. NumPy  incorpora diversas ferramentas matemáticas para cálculo diferencial e integral, transformadas de Fourier, álgebra linear e outras.\n",
    "\n",
    "Sintaxe:\n",
    "```julia\n",
    "using PyCall\n",
    "@pyimport numpy as nome_alias\n",
    "```"
   ]
  },
  {
   "cell_type": "markdown",
   "metadata": {},
   "source": [
    "**Interpolação linear unidimensional com NumPy**\n",
    "\n",
    "A função `interp()` calcular valores intermediários ao longo de uma curva de acordo com um conjunto de pontos. Sintaxe:\n",
    "```julia\n",
    "interp(x_valor, x_dados, y_dados)\n",
    "```\n",
    "Sendo:\n",
    "* **x_valor**: valor x interpolado;  \n",
    "* **x_dados**: vetor unidimensional de dados iniciais do eixo \"x\";\n",
    "* **y_dados**: vetor unidimensional de dados iniciais do eixo \"y\"."
   ]
  },
  {
   "cell_type": "code",
   "execution_count": 1,
   "metadata": {
    "collapsed": true
   },
   "outputs": [],
   "source": [
    "using PyCall\n",
    "@pyimport numpy as np"
   ]
  },
  {
   "cell_type": "code",
   "execution_count": 2,
   "metadata": {
    "collapsed": true
   },
   "outputs": [],
   "source": [
    "# dados\n",
    "x_dados = [0.0, 1.0, 2.0, 3.0, 4.0, 5.0, 6.0, 7.0, 8.0, 9.0, 10.0]\n",
    "y_dados = [0.5, 1.0, 4.0, 6.0, 8.0, 8.5, 8.8, 9.0, 9.1, 9.2, 9.3];"
   ]
  },
  {
   "cell_type": "code",
   "execution_count": 3,
   "metadata": {
    "collapsed": false,
    "scrolled": true
   },
   "outputs": [
    {
     "data": {
      "text/plain": [
       "8.68"
      ]
     },
     "execution_count": 3,
     "metadata": {},
     "output_type": "execute_result"
    }
   ],
   "source": [
    "# calcular para x = 5.5\n",
    "np.interp(5.6, x_dados, y_dados)"
   ]
  },
  {
   "cell_type": "code",
   "execution_count": 4,
   "metadata": {
    "collapsed": true
   },
   "outputs": [],
   "source": [
    "x_interp = 0:0.1:10\n",
    "y_interp = np.interp(x_interp, x_dados, y_dados);"
   ]
  },
  {
   "cell_type": "code",
   "execution_count": 5,
   "metadata": {
    "collapsed": false,
    "scrolled": false
   },
   "outputs": [
    {
     "data": {
      "image/svg+xml": [
       "<?xml version=\"1.0\" encoding=\"utf-8\"?>\n",
       "<svg xmlns=\"http://www.w3.org/2000/svg\" xmlns:xlink=\"http://www.w3.org/1999/xlink\" width=\"400\" height=\"300\" viewBox=\"0 0 1600 1200\">\n",
       "<defs>\n",
       "  <clipPath id=\"clip8500\">\n",
       "    <rect x=\"0\" y=\"0\" width=\"2000\" height=\"2000\"/>\n",
       "  </clipPath>\n",
       "</defs>\n",
       "<defs>\n",
       "  <clipPath id=\"clip8501\">\n",
       "    <rect x=\"0\" y=\"0\" width=\"1600\" height=\"1200\"/>\n",
       "  </clipPath>\n",
       "</defs>\n",
       "<polygon clip-path=\"url(#clip8501)\" points=\"\n",
       "0,1200 1600,1200 1600,0 0,0 \n",
       "  \" fill=\"#ffffff\" fill-rule=\"evenodd\" fill-opacity=\"1\"/>\n",
       "<defs>\n",
       "  <clipPath id=\"clip8502\">\n",
       "    <rect x=\"320\" y=\"0\" width=\"1121\" height=\"1121\"/>\n",
       "  </clipPath>\n",
       "</defs>\n",
       "<polygon clip-path=\"url(#clip8501)\" points=\"\n",
       "121.251,1103.47 1521.26,1103.47 1521.26,47.2441 121.251,47.2441 \n",
       "  \" fill=\"#ffffff\" fill-rule=\"evenodd\" fill-opacity=\"1\"/>\n",
       "<defs>\n",
       "  <clipPath id=\"clip8503\">\n",
       "    <rect x=\"121\" y=\"47\" width=\"1401\" height=\"1057\"/>\n",
       "  </clipPath>\n",
       "</defs>\n",
       "<polyline clip-path=\"url(#clip8503)\" style=\"stroke:#000000; stroke-width:2; stroke-opacity:0.1; fill:none\" points=\"\n",
       "  160.873,1103.47 160.873,47.2441 \n",
       "  \"/>\n",
       "<polyline clip-path=\"url(#clip8503)\" style=\"stroke:#000000; stroke-width:2; stroke-opacity:0.1; fill:none\" points=\"\n",
       "  491.064,1103.47 491.064,47.2441 \n",
       "  \"/>\n",
       "<polyline clip-path=\"url(#clip8503)\" style=\"stroke:#000000; stroke-width:2; stroke-opacity:0.1; fill:none\" points=\"\n",
       "  821.255,1103.47 821.255,47.2441 \n",
       "  \"/>\n",
       "<polyline clip-path=\"url(#clip8503)\" style=\"stroke:#000000; stroke-width:2; stroke-opacity:0.1; fill:none\" points=\"\n",
       "  1151.45,1103.47 1151.45,47.2441 \n",
       "  \"/>\n",
       "<polyline clip-path=\"url(#clip8503)\" style=\"stroke:#000000; stroke-width:2; stroke-opacity:0.1; fill:none\" points=\"\n",
       "  1481.64,1103.47 1481.64,47.2441 \n",
       "  \"/>\n",
       "<polyline clip-path=\"url(#clip8503)\" style=\"stroke:#000000; stroke-width:2; stroke-opacity:0.1; fill:none\" points=\"\n",
       "  121.251,903.733 1521.26,903.733 \n",
       "  \"/>\n",
       "<polyline clip-path=\"url(#clip8503)\" style=\"stroke:#000000; stroke-width:2; stroke-opacity:0.1; fill:none\" points=\"\n",
       "  121.251,677.268 1521.26,677.268 \n",
       "  \"/>\n",
       "<polyline clip-path=\"url(#clip8503)\" style=\"stroke:#000000; stroke-width:2; stroke-opacity:0.1; fill:none\" points=\"\n",
       "  121.251,450.804 1521.26,450.804 \n",
       "  \"/>\n",
       "<polyline clip-path=\"url(#clip8503)\" style=\"stroke:#000000; stroke-width:2; stroke-opacity:0.1; fill:none\" points=\"\n",
       "  121.251,224.339 1521.26,224.339 \n",
       "  \"/>\n",
       "<polyline clip-path=\"url(#clip8501)\" style=\"stroke:#000000; stroke-width:4; stroke-opacity:1; fill:none\" points=\"\n",
       "  121.251,1103.47 1521.26,1103.47 \n",
       "  \"/>\n",
       "<polyline clip-path=\"url(#clip8501)\" style=\"stroke:#000000; stroke-width:4; stroke-opacity:1; fill:none\" points=\"\n",
       "  121.251,1103.47 121.251,47.2441 \n",
       "  \"/>\n",
       "<polyline clip-path=\"url(#clip8501)\" style=\"stroke:#000000; stroke-width:4; stroke-opacity:1; fill:none\" points=\"\n",
       "  160.873,1103.47 160.873,1087.63 \n",
       "  \"/>\n",
       "<polyline clip-path=\"url(#clip8501)\" style=\"stroke:#000000; stroke-width:4; stroke-opacity:1; fill:none\" points=\"\n",
       "  491.064,1103.47 491.064,1087.63 \n",
       "  \"/>\n",
       "<polyline clip-path=\"url(#clip8501)\" style=\"stroke:#000000; stroke-width:4; stroke-opacity:1; fill:none\" points=\"\n",
       "  821.255,1103.47 821.255,1087.63 \n",
       "  \"/>\n",
       "<polyline clip-path=\"url(#clip8501)\" style=\"stroke:#000000; stroke-width:4; stroke-opacity:1; fill:none\" points=\"\n",
       "  1151.45,1103.47 1151.45,1087.63 \n",
       "  \"/>\n",
       "<polyline clip-path=\"url(#clip8501)\" style=\"stroke:#000000; stroke-width:4; stroke-opacity:1; fill:none\" points=\"\n",
       "  1481.64,1103.47 1481.64,1087.63 \n",
       "  \"/>\n",
       "<polyline clip-path=\"url(#clip8501)\" style=\"stroke:#000000; stroke-width:4; stroke-opacity:1; fill:none\" points=\"\n",
       "  121.251,903.733 142.251,903.733 \n",
       "  \"/>\n",
       "<polyline clip-path=\"url(#clip8501)\" style=\"stroke:#000000; stroke-width:4; stroke-opacity:1; fill:none\" points=\"\n",
       "  121.251,677.268 142.251,677.268 \n",
       "  \"/>\n",
       "<polyline clip-path=\"url(#clip8501)\" style=\"stroke:#000000; stroke-width:4; stroke-opacity:1; fill:none\" points=\"\n",
       "  121.251,450.804 142.251,450.804 \n",
       "  \"/>\n",
       "<polyline clip-path=\"url(#clip8501)\" style=\"stroke:#000000; stroke-width:4; stroke-opacity:1; fill:none\" points=\"\n",
       "  121.251,224.339 142.251,224.339 \n",
       "  \"/>\n",
       "<g clip-path=\"url(#clip8501)\">\n",
       "<text style=\"fill:#000000; fill-opacity:1; font-family:Arial,Helvetica Neue,Helvetica,sans-serif; font-size:48px; text-anchor:middle;\" transform=\"rotate(0, 160.873, 1153.47)\" x=\"160.873\" y=\"1153.47\">0.0</text>\n",
       "</g>\n",
       "<g clip-path=\"url(#clip8501)\">\n",
       "<text style=\"fill:#000000; fill-opacity:1; font-family:Arial,Helvetica Neue,Helvetica,sans-serif; font-size:48px; text-anchor:middle;\" transform=\"rotate(0, 491.064, 1153.47)\" x=\"491.064\" y=\"1153.47\">2.5</text>\n",
       "</g>\n",
       "<g clip-path=\"url(#clip8501)\">\n",
       "<text style=\"fill:#000000; fill-opacity:1; font-family:Arial,Helvetica Neue,Helvetica,sans-serif; font-size:48px; text-anchor:middle;\" transform=\"rotate(0, 821.255, 1153.47)\" x=\"821.255\" y=\"1153.47\">5.0</text>\n",
       "</g>\n",
       "<g clip-path=\"url(#clip8501)\">\n",
       "<text style=\"fill:#000000; fill-opacity:1; font-family:Arial,Helvetica Neue,Helvetica,sans-serif; font-size:48px; text-anchor:middle;\" transform=\"rotate(0, 1151.45, 1153.47)\" x=\"1151.45\" y=\"1153.47\">7.5</text>\n",
       "</g>\n",
       "<g clip-path=\"url(#clip8501)\">\n",
       "<text style=\"fill:#000000; fill-opacity:1; font-family:Arial,Helvetica Neue,Helvetica,sans-serif; font-size:48px; text-anchor:middle;\" transform=\"rotate(0, 1481.64, 1153.47)\" x=\"1481.64\" y=\"1153.47\">10.0</text>\n",
       "</g>\n",
       "<g clip-path=\"url(#clip8501)\">\n",
       "<text style=\"fill:#000000; fill-opacity:1; font-family:Arial,Helvetica Neue,Helvetica,sans-serif; font-size:48px; text-anchor:end;\" transform=\"rotate(0, 105.251, 921.233)\" x=\"105.251\" y=\"921.233\">2</text>\n",
       "</g>\n",
       "<g clip-path=\"url(#clip8501)\">\n",
       "<text style=\"fill:#000000; fill-opacity:1; font-family:Arial,Helvetica Neue,Helvetica,sans-serif; font-size:48px; text-anchor:end;\" transform=\"rotate(0, 105.251, 694.768)\" x=\"105.251\" y=\"694.768\">4</text>\n",
       "</g>\n",
       "<g clip-path=\"url(#clip8501)\">\n",
       "<text style=\"fill:#000000; fill-opacity:1; font-family:Arial,Helvetica Neue,Helvetica,sans-serif; font-size:48px; text-anchor:end;\" transform=\"rotate(0, 105.251, 468.304)\" x=\"105.251\" y=\"468.304\">6</text>\n",
       "</g>\n",
       "<g clip-path=\"url(#clip8501)\">\n",
       "<text style=\"fill:#000000; fill-opacity:1; font-family:Arial,Helvetica Neue,Helvetica,sans-serif; font-size:48px; text-anchor:end;\" transform=\"rotate(0, 105.251, 241.839)\" x=\"105.251\" y=\"241.839\">8</text>\n",
       "</g>\n",
       "<circle clip-path=\"url(#clip8503)\" style=\"fill:#000000; stroke:none; fill-opacity:1\" cx=\"160.873\" cy=\"1073.58\" r=\"18\"/>\n",
       "<circle clip-path=\"url(#clip8503)\" style=\"fill:#009af9; stroke:none; fill-opacity:1\" cx=\"160.873\" cy=\"1073.58\" r=\"14\"/>\n",
       "<circle clip-path=\"url(#clip8503)\" style=\"fill:#000000; stroke:none; fill-opacity:1\" cx=\"292.95\" cy=\"1016.97\" r=\"18\"/>\n",
       "<circle clip-path=\"url(#clip8503)\" style=\"fill:#009af9; stroke:none; fill-opacity:1\" cx=\"292.95\" cy=\"1016.97\" r=\"14\"/>\n",
       "<circle clip-path=\"url(#clip8503)\" style=\"fill:#000000; stroke:none; fill-opacity:1\" cx=\"425.026\" cy=\"677.268\" r=\"18\"/>\n",
       "<circle clip-path=\"url(#clip8503)\" style=\"fill:#009af9; stroke:none; fill-opacity:1\" cx=\"425.026\" cy=\"677.268\" r=\"14\"/>\n",
       "<circle clip-path=\"url(#clip8503)\" style=\"fill:#000000; stroke:none; fill-opacity:1\" cx=\"557.102\" cy=\"450.804\" r=\"18\"/>\n",
       "<circle clip-path=\"url(#clip8503)\" style=\"fill:#009af9; stroke:none; fill-opacity:1\" cx=\"557.102\" cy=\"450.804\" r=\"14\"/>\n",
       "<circle clip-path=\"url(#clip8503)\" style=\"fill:#000000; stroke:none; fill-opacity:1\" cx=\"689.179\" cy=\"224.339\" r=\"18\"/>\n",
       "<circle clip-path=\"url(#clip8503)\" style=\"fill:#009af9; stroke:none; fill-opacity:1\" cx=\"689.179\" cy=\"224.339\" r=\"14\"/>\n",
       "<circle clip-path=\"url(#clip8503)\" style=\"fill:#000000; stroke:none; fill-opacity:1\" cx=\"821.255\" cy=\"167.723\" r=\"18\"/>\n",
       "<circle clip-path=\"url(#clip8503)\" style=\"fill:#009af9; stroke:none; fill-opacity:1\" cx=\"821.255\" cy=\"167.723\" r=\"14\"/>\n",
       "<circle clip-path=\"url(#clip8503)\" style=\"fill:#000000; stroke:none; fill-opacity:1\" cx=\"953.332\" cy=\"133.754\" r=\"18\"/>\n",
       "<circle clip-path=\"url(#clip8503)\" style=\"fill:#009af9; stroke:none; fill-opacity:1\" cx=\"953.332\" cy=\"133.754\" r=\"14\"/>\n",
       "<circle clip-path=\"url(#clip8503)\" style=\"fill:#000000; stroke:none; fill-opacity:1\" cx=\"1085.41\" cy=\"111.107\" r=\"18\"/>\n",
       "<circle clip-path=\"url(#clip8503)\" style=\"fill:#009af9; stroke:none; fill-opacity:1\" cx=\"1085.41\" cy=\"111.107\" r=\"14\"/>\n",
       "<circle clip-path=\"url(#clip8503)\" style=\"fill:#000000; stroke:none; fill-opacity:1\" cx=\"1217.48\" cy=\"99.7839\" r=\"18\"/>\n",
       "<circle clip-path=\"url(#clip8503)\" style=\"fill:#009af9; stroke:none; fill-opacity:1\" cx=\"1217.48\" cy=\"99.7839\" r=\"14\"/>\n",
       "<circle clip-path=\"url(#clip8503)\" style=\"fill:#000000; stroke:none; fill-opacity:1\" cx=\"1349.56\" cy=\"88.4606\" r=\"18\"/>\n",
       "<circle clip-path=\"url(#clip8503)\" style=\"fill:#009af9; stroke:none; fill-opacity:1\" cx=\"1349.56\" cy=\"88.4606\" r=\"14\"/>\n",
       "<circle clip-path=\"url(#clip8503)\" style=\"fill:#000000; stroke:none; fill-opacity:1\" cx=\"1481.64\" cy=\"77.1374\" r=\"18\"/>\n",
       "<circle clip-path=\"url(#clip8503)\" style=\"fill:#009af9; stroke:none; fill-opacity:1\" cx=\"1481.64\" cy=\"77.1374\" r=\"14\"/>\n",
       "<polyline clip-path=\"url(#clip8503)\" style=\"stroke:#e26f46; stroke-width:4; stroke-opacity:1; fill:none\" points=\"\n",
       "  160.873,1073.58 174.081,1067.92 187.289,1062.26 200.496,1056.6 213.704,1050.93 226.912,1045.27 240.119,1039.61 253.327,1033.95 266.535,1028.29 279.742,1022.63 \n",
       "  292.95,1016.97 306.157,982.996 319.365,949.026 332.573,915.056 345.78,881.087 358.988,847.117 372.196,813.147 385.403,779.177 398.611,745.208 411.818,711.238 \n",
       "  425.026,677.268 438.234,654.622 451.441,631.976 464.649,609.329 477.857,586.683 491.064,564.036 504.272,541.39 517.48,518.743 530.687,496.097 543.895,473.45 \n",
       "  557.102,450.804 570.31,428.157 583.518,405.511 596.725,382.865 609.933,360.218 623.141,337.572 636.348,314.925 649.556,292.279 662.764,269.632 675.971,246.986 \n",
       "  689.179,224.339 702.386,218.678 715.594,213.016 728.802,207.355 742.009,201.693 755.217,196.031 768.425,190.37 781.632,184.708 794.84,179.046 808.048,173.385 \n",
       "  821.255,167.723 834.463,164.326 847.67,160.929 860.878,157.532 874.086,154.135 887.293,150.738 900.501,147.341 913.709,143.944 926.916,140.547 940.124,137.151 \n",
       "  953.332,133.754 966.539,131.489 979.747,129.224 992.954,126.96 1006.16,124.695 1019.37,122.43 1032.58,120.166 1045.78,117.901 1058.99,115.636 1072.2,113.372 \n",
       "  1085.41,111.107 1098.62,109.975 1111.82,108.842 1125.03,107.71 1138.24,106.578 1151.45,105.445 1164.65,104.313 1177.86,103.181 1191.07,102.049 1204.28,100.916 \n",
       "  1217.48,99.7839 1230.69,98.6515 1243.9,97.5192 1257.11,96.3869 1270.31,95.2546 1283.52,94.1223 1296.73,92.9899 1309.94,91.8576 1323.15,90.7253 1336.35,89.593 \n",
       "  1349.56,88.4606 1362.77,87.3283 1375.98,86.196 1389.18,85.0637 1402.39,83.9314 1415.6,82.799 1428.81,81.6667 1442.01,80.5344 1455.22,79.4021 1468.43,78.2697 \n",
       "  1481.64,77.1374 \n",
       "  \"/>\n",
       "<polygon clip-path=\"url(#clip8501)\" points=\"\n",
       "1048.38,264.204 1473.26,264.204 1473.26,82.7641 1048.38,82.7641 \n",
       "  \" fill=\"#ffffff\" fill-rule=\"evenodd\" fill-opacity=\"1\"/>\n",
       "<polyline clip-path=\"url(#clip8501)\" style=\"stroke:#000000; stroke-width:4; stroke-opacity:1; fill:none\" points=\"\n",
       "  1048.38,264.204 1473.26,264.204 1473.26,82.7641 1048.38,82.7641 1048.38,264.204 \n",
       "  \"/>\n",
       "<circle clip-path=\"url(#clip8501)\" style=\"fill:#000000; stroke:none; fill-opacity:1\" cx=\"1120.38\" cy=\"143.244\" r=\"25\"/>\n",
       "<circle clip-path=\"url(#clip8501)\" style=\"fill:#009af9; stroke:none; fill-opacity:1\" cx=\"1120.38\" cy=\"143.244\" r=\"21\"/>\n",
       "<g clip-path=\"url(#clip8501)\">\n",
       "<text style=\"fill:#000000; fill-opacity:1; font-family:Arial,Helvetica Neue,Helvetica,sans-serif; font-size:48px; text-anchor:start;\" transform=\"rotate(0, 1176.38, 160.744)\" x=\"1176.38\" y=\"160.744\">Pontos</text>\n",
       "</g>\n",
       "<polyline clip-path=\"url(#clip8501)\" style=\"stroke:#e26f46; stroke-width:4; stroke-opacity:1; fill:none\" points=\"\n",
       "  1064.38,203.724 1160.38,203.724 \n",
       "  \"/>\n",
       "<g clip-path=\"url(#clip8501)\">\n",
       "<text style=\"fill:#000000; fill-opacity:1; font-family:Arial,Helvetica Neue,Helvetica,sans-serif; font-size:48px; text-anchor:start;\" transform=\"rotate(0, 1176.38, 221.224)\" x=\"1176.38\" y=\"221.224\">Interpolação</text>\n",
       "</g>\n",
       "</svg>\n"
      ]
     },
     "execution_count": 5,
     "metadata": {},
     "output_type": "execute_result"
    }
   ],
   "source": [
    "using Plots\n",
    "gr()\n",
    "\n",
    "scatter(x_dados, y_dados, label = \"Pontos\")\n",
    "plot!(x_interp, y_interp, label = \"Interpolação\", size = (400, 300))"
   ]
  },
  {
   "cell_type": "markdown",
   "metadata": {},
   "source": [
    "**Ajuste de curvas Polinomial com NumPy**\n",
    "\n",
    "\"A função `polyfit()` ajusta um conjunto de pontos de dados para um polinômio, mesmo que a função subjacente não seja contínua\" (IVAN, 2015). A função `poly1d` gera o polinômio a partir dos coeficientes ajustados.\n",
    "\n",
    "```julia\n",
    "coeficientes_pol = numpy.polyfit(x_dados, y_dados, n)\n",
    "nome_função_ajuste = numpy.poly1d(coeficientes_pol)\n",
    "```\n",
    "Sendo: \n",
    "* **x_dados**: vetor unidimensional de dados iniciais do eixo \"x\";\n",
    "* **y_dados**: vetor unidimensional de dados iniciais do eixo \"y\";\n",
    "* **n **: grau do polinômio."
   ]
  },
  {
   "cell_type": "code",
   "execution_count": 6,
   "metadata": {
    "collapsed": false,
    "scrolled": true
   },
   "outputs": [
    {
     "data": {
      "text/plain": [
       "6-element Array{Float64,1}:\n",
       " -0.002035256410256411\n",
       "  0.05734994172494169 \n",
       " -0.569383741258741   \n",
       "  2.1678248834498763  \n",
       " -0.855678904428844   \n",
       "  0.4386363636362671  "
      ]
     },
     "execution_count": 6,
     "metadata": {},
     "output_type": "execute_result"
    }
   ],
   "source": [
    "# coeficientes\n",
    "coeficientes_pol = np.polyfit(x_dados, y_dados, 5)\n",
    "coeficientes_pol"
   ]
  },
  {
   "cell_type": "code",
   "execution_count": 7,
   "metadata": {
    "collapsed": false
   },
   "outputs": [
    {
     "data": {
      "text/plain": [
       "PyObject poly1d([ -2.03525641e-03,   5.73499417e-02,  -5.69383741e-01,\n",
       "         2.16782488e+00,  -8.55678904e-01,   4.38636364e-01])"
      ]
     },
     "execution_count": 7,
     "metadata": {},
     "output_type": "execute_result"
    }
   ],
   "source": [
    "# polinômio\n",
    "pol_ajuste = np.poly1d(coeficientes_pol)"
   ]
  },
  {
   "cell_type": "code",
   "execution_count": 8,
   "metadata": {
    "collapsed": false
   },
   "outputs": [
    {
     "data": {
      "text/plain": [
       "0.48510093422195993"
      ]
     },
     "execution_count": 8,
     "metadata": {},
     "output_type": "execute_result"
    }
   ],
   "source": [
    "# testando a função ajuste\n",
    "pol_ajuste(0.5)"
   ]
  },
  {
   "cell_type": "code",
   "execution_count": 9,
   "metadata": {
    "collapsed": false
   },
   "outputs": [
    {
     "data": {
      "image/svg+xml": [
       "<?xml version=\"1.0\" encoding=\"utf-8\"?>\n",
       "<svg xmlns=\"http://www.w3.org/2000/svg\" xmlns:xlink=\"http://www.w3.org/1999/xlink\" width=\"400\" height=\"300\" viewBox=\"0 0 1600 1200\">\n",
       "<defs>\n",
       "  <clipPath id=\"clip8700\">\n",
       "    <rect x=\"0\" y=\"0\" width=\"2000\" height=\"2000\"/>\n",
       "  </clipPath>\n",
       "</defs>\n",
       "<defs>\n",
       "  <clipPath id=\"clip8701\">\n",
       "    <rect x=\"0\" y=\"0\" width=\"1600\" height=\"1200\"/>\n",
       "  </clipPath>\n",
       "</defs>\n",
       "<polygon clip-path=\"url(#clip8701)\" points=\"\n",
       "0,1200 1600,1200 1600,0 0,0 \n",
       "  \" fill=\"#ffffff\" fill-rule=\"evenodd\" fill-opacity=\"1\"/>\n",
       "<defs>\n",
       "  <clipPath id=\"clip8702\">\n",
       "    <rect x=\"320\" y=\"0\" width=\"1121\" height=\"1121\"/>\n",
       "  </clipPath>\n",
       "</defs>\n",
       "<polygon clip-path=\"url(#clip8701)\" points=\"\n",
       "121.251,1099.28 1521.26,1099.28 1521.26,47.2441 121.251,47.2441 \n",
       "  \" fill=\"#ffffff\" fill-rule=\"evenodd\" fill-opacity=\"1\"/>\n",
       "<defs>\n",
       "  <clipPath id=\"clip8703\">\n",
       "    <rect x=\"121\" y=\"47\" width=\"1401\" height=\"1053\"/>\n",
       "  </clipPath>\n",
       "</defs>\n",
       "<polyline clip-path=\"url(#clip8703)\" style=\"stroke:#000000; stroke-width:2; stroke-opacity:0.1; fill:none\" points=\"\n",
       "  160.873,1099.28 160.873,47.2441 \n",
       "  \"/>\n",
       "<polyline clip-path=\"url(#clip8703)\" style=\"stroke:#000000; stroke-width:2; stroke-opacity:0.1; fill:none\" points=\"\n",
       "  491.064,1099.28 491.064,47.2441 \n",
       "  \"/>\n",
       "<polyline clip-path=\"url(#clip8703)\" style=\"stroke:#000000; stroke-width:2; stroke-opacity:0.1; fill:none\" points=\"\n",
       "  821.255,1099.28 821.255,47.2441 \n",
       "  \"/>\n",
       "<polyline clip-path=\"url(#clip8703)\" style=\"stroke:#000000; stroke-width:2; stroke-opacity:0.1; fill:none\" points=\"\n",
       "  1151.45,1099.28 1151.45,47.2441 \n",
       "  \"/>\n",
       "<polyline clip-path=\"url(#clip8703)\" style=\"stroke:#000000; stroke-width:2; stroke-opacity:0.1; fill:none\" points=\"\n",
       "  1481.64,1099.28 1481.64,47.2441 \n",
       "  \"/>\n",
       "<polyline clip-path=\"url(#clip8703)\" style=\"stroke:#000000; stroke-width:2; stroke-opacity:0.1; fill:none\" points=\"\n",
       "  121.251,888.836 1521.26,888.836 \n",
       "  \"/>\n",
       "<polyline clip-path=\"url(#clip8703)\" style=\"stroke:#000000; stroke-width:2; stroke-opacity:0.1; fill:none\" points=\"\n",
       "  121.251,669.873 1521.26,669.873 \n",
       "  \"/>\n",
       "<polyline clip-path=\"url(#clip8703)\" style=\"stroke:#000000; stroke-width:2; stroke-opacity:0.1; fill:none\" points=\"\n",
       "  121.251,450.909 1521.26,450.909 \n",
       "  \"/>\n",
       "<polyline clip-path=\"url(#clip8703)\" style=\"stroke:#000000; stroke-width:2; stroke-opacity:0.1; fill:none\" points=\"\n",
       "  121.251,231.946 1521.26,231.946 \n",
       "  \"/>\n",
       "<polyline clip-path=\"url(#clip8701)\" style=\"stroke:#000000; stroke-width:4; stroke-opacity:1; fill:none\" points=\"\n",
       "  121.251,1099.28 1521.26,1099.28 \n",
       "  \"/>\n",
       "<polyline clip-path=\"url(#clip8701)\" style=\"stroke:#000000; stroke-width:4; stroke-opacity:1; fill:none\" points=\"\n",
       "  121.251,1099.28 121.251,47.2441 \n",
       "  \"/>\n",
       "<polyline clip-path=\"url(#clip8701)\" style=\"stroke:#000000; stroke-width:4; stroke-opacity:1; fill:none\" points=\"\n",
       "  160.873,1099.28 160.873,1083.5 \n",
       "  \"/>\n",
       "<polyline clip-path=\"url(#clip8701)\" style=\"stroke:#000000; stroke-width:4; stroke-opacity:1; fill:none\" points=\"\n",
       "  491.064,1099.28 491.064,1083.5 \n",
       "  \"/>\n",
       "<polyline clip-path=\"url(#clip8701)\" style=\"stroke:#000000; stroke-width:4; stroke-opacity:1; fill:none\" points=\"\n",
       "  821.255,1099.28 821.255,1083.5 \n",
       "  \"/>\n",
       "<polyline clip-path=\"url(#clip8701)\" style=\"stroke:#000000; stroke-width:4; stroke-opacity:1; fill:none\" points=\"\n",
       "  1151.45,1099.28 1151.45,1083.5 \n",
       "  \"/>\n",
       "<polyline clip-path=\"url(#clip8701)\" style=\"stroke:#000000; stroke-width:4; stroke-opacity:1; fill:none\" points=\"\n",
       "  1481.64,1099.28 1481.64,1083.5 \n",
       "  \"/>\n",
       "<polyline clip-path=\"url(#clip8701)\" style=\"stroke:#000000; stroke-width:4; stroke-opacity:1; fill:none\" points=\"\n",
       "  121.251,888.836 142.251,888.836 \n",
       "  \"/>\n",
       "<polyline clip-path=\"url(#clip8701)\" style=\"stroke:#000000; stroke-width:4; stroke-opacity:1; fill:none\" points=\"\n",
       "  121.251,669.873 142.251,669.873 \n",
       "  \"/>\n",
       "<polyline clip-path=\"url(#clip8701)\" style=\"stroke:#000000; stroke-width:4; stroke-opacity:1; fill:none\" points=\"\n",
       "  121.251,450.909 142.251,450.909 \n",
       "  \"/>\n",
       "<polyline clip-path=\"url(#clip8701)\" style=\"stroke:#000000; stroke-width:4; stroke-opacity:1; fill:none\" points=\"\n",
       "  121.251,231.946 142.251,231.946 \n",
       "  \"/>\n",
       "<g clip-path=\"url(#clip8701)\">\n",
       "<text style=\"fill:#000000; fill-opacity:1; font-family:Arial,Helvetica Neue,Helvetica,sans-serif; font-size:48px; text-anchor:middle;\" transform=\"rotate(0, 160.873, 1149.28)\" x=\"160.873\" y=\"1149.28\">0.0</text>\n",
       "</g>\n",
       "<g clip-path=\"url(#clip8701)\">\n",
       "<text style=\"fill:#000000; fill-opacity:1; font-family:Arial,Helvetica Neue,Helvetica,sans-serif; font-size:48px; text-anchor:middle;\" transform=\"rotate(0, 491.064, 1149.28)\" x=\"491.064\" y=\"1149.28\">2.5</text>\n",
       "</g>\n",
       "<g clip-path=\"url(#clip8701)\">\n",
       "<text style=\"fill:#000000; fill-opacity:1; font-family:Arial,Helvetica Neue,Helvetica,sans-serif; font-size:48px; text-anchor:middle;\" transform=\"rotate(0, 821.255, 1149.28)\" x=\"821.255\" y=\"1149.28\">5.0</text>\n",
       "</g>\n",
       "<g clip-path=\"url(#clip8701)\">\n",
       "<text style=\"fill:#000000; fill-opacity:1; font-family:Arial,Helvetica Neue,Helvetica,sans-serif; font-size:48px; text-anchor:middle;\" transform=\"rotate(0, 1151.45, 1149.28)\" x=\"1151.45\" y=\"1149.28\">7.5</text>\n",
       "</g>\n",
       "<g clip-path=\"url(#clip8701)\">\n",
       "<text style=\"fill:#000000; fill-opacity:1; font-family:Arial,Helvetica Neue,Helvetica,sans-serif; font-size:48px; text-anchor:middle;\" transform=\"rotate(0, 1481.64, 1149.28)\" x=\"1481.64\" y=\"1149.28\">10.0</text>\n",
       "</g>\n",
       "<g clip-path=\"url(#clip8701)\">\n",
       "<text style=\"fill:#000000; fill-opacity:1; font-family:Arial,Helvetica Neue,Helvetica,sans-serif; font-size:48px; text-anchor:end;\" transform=\"rotate(0, 105.251, 906.336)\" x=\"105.251\" y=\"906.336\">2</text>\n",
       "</g>\n",
       "<g clip-path=\"url(#clip8701)\">\n",
       "<text style=\"fill:#000000; fill-opacity:1; font-family:Arial,Helvetica Neue,Helvetica,sans-serif; font-size:48px; text-anchor:end;\" transform=\"rotate(0, 105.251, 687.373)\" x=\"105.251\" y=\"687.373\">4</text>\n",
       "</g>\n",
       "<g clip-path=\"url(#clip8701)\">\n",
       "<text style=\"fill:#000000; fill-opacity:1; font-family:Arial,Helvetica Neue,Helvetica,sans-serif; font-size:48px; text-anchor:end;\" transform=\"rotate(0, 105.251, 468.409)\" x=\"105.251\" y=\"468.409\">6</text>\n",
       "</g>\n",
       "<g clip-path=\"url(#clip8701)\">\n",
       "<text style=\"fill:#000000; fill-opacity:1; font-family:Arial,Helvetica Neue,Helvetica,sans-serif; font-size:48px; text-anchor:end;\" transform=\"rotate(0, 105.251, 249.446)\" x=\"105.251\" y=\"249.446\">8</text>\n",
       "</g>\n",
       "<circle clip-path=\"url(#clip8703)\" style=\"fill:#000000; stroke:none; fill-opacity:1\" cx=\"160.873\" cy=\"1053.06\" r=\"18\"/>\n",
       "<circle clip-path=\"url(#clip8703)\" style=\"fill:#009af9; stroke:none; fill-opacity:1\" cx=\"160.873\" cy=\"1053.06\" r=\"14\"/>\n",
       "<circle clip-path=\"url(#clip8703)\" style=\"fill:#000000; stroke:none; fill-opacity:1\" cx=\"292.95\" cy=\"998.318\" r=\"18\"/>\n",
       "<circle clip-path=\"url(#clip8703)\" style=\"fill:#009af9; stroke:none; fill-opacity:1\" cx=\"292.95\" cy=\"998.318\" r=\"14\"/>\n",
       "<circle clip-path=\"url(#clip8703)\" style=\"fill:#000000; stroke:none; fill-opacity:1\" cx=\"425.026\" cy=\"669.873\" r=\"18\"/>\n",
       "<circle clip-path=\"url(#clip8703)\" style=\"fill:#009af9; stroke:none; fill-opacity:1\" cx=\"425.026\" cy=\"669.873\" r=\"14\"/>\n",
       "<circle clip-path=\"url(#clip8703)\" style=\"fill:#000000; stroke:none; fill-opacity:1\" cx=\"557.102\" cy=\"450.909\" r=\"18\"/>\n",
       "<circle clip-path=\"url(#clip8703)\" style=\"fill:#009af9; stroke:none; fill-opacity:1\" cx=\"557.102\" cy=\"450.909\" r=\"14\"/>\n",
       "<circle clip-path=\"url(#clip8703)\" style=\"fill:#000000; stroke:none; fill-opacity:1\" cx=\"689.179\" cy=\"231.946\" r=\"18\"/>\n",
       "<circle clip-path=\"url(#clip8703)\" style=\"fill:#009af9; stroke:none; fill-opacity:1\" cx=\"689.179\" cy=\"231.946\" r=\"14\"/>\n",
       "<circle clip-path=\"url(#clip8703)\" style=\"fill:#000000; stroke:none; fill-opacity:1\" cx=\"821.255\" cy=\"177.205\" r=\"18\"/>\n",
       "<circle clip-path=\"url(#clip8703)\" style=\"fill:#009af9; stroke:none; fill-opacity:1\" cx=\"821.255\" cy=\"177.205\" r=\"14\"/>\n",
       "<circle clip-path=\"url(#clip8703)\" style=\"fill:#000000; stroke:none; fill-opacity:1\" cx=\"953.332\" cy=\"144.361\" r=\"18\"/>\n",
       "<circle clip-path=\"url(#clip8703)\" style=\"fill:#009af9; stroke:none; fill-opacity:1\" cx=\"953.332\" cy=\"144.361\" r=\"14\"/>\n",
       "<circle clip-path=\"url(#clip8703)\" style=\"fill:#000000; stroke:none; fill-opacity:1\" cx=\"1085.41\" cy=\"122.464\" r=\"18\"/>\n",
       "<circle clip-path=\"url(#clip8703)\" style=\"fill:#009af9; stroke:none; fill-opacity:1\" cx=\"1085.41\" cy=\"122.464\" r=\"14\"/>\n",
       "<circle clip-path=\"url(#clip8703)\" style=\"fill:#000000; stroke:none; fill-opacity:1\" cx=\"1217.48\" cy=\"111.516\" r=\"18\"/>\n",
       "<circle clip-path=\"url(#clip8703)\" style=\"fill:#009af9; stroke:none; fill-opacity:1\" cx=\"1217.48\" cy=\"111.516\" r=\"14\"/>\n",
       "<circle clip-path=\"url(#clip8703)\" style=\"fill:#000000; stroke:none; fill-opacity:1\" cx=\"1349.56\" cy=\"100.568\" r=\"18\"/>\n",
       "<circle clip-path=\"url(#clip8703)\" style=\"fill:#009af9; stroke:none; fill-opacity:1\" cx=\"1349.56\" cy=\"100.568\" r=\"14\"/>\n",
       "<circle clip-path=\"url(#clip8703)\" style=\"fill:#000000; stroke:none; fill-opacity:1\" cx=\"1481.64\" cy=\"89.6197\" r=\"18\"/>\n",
       "<circle clip-path=\"url(#clip8703)\" style=\"fill:#009af9; stroke:none; fill-opacity:1\" cx=\"1481.64\" cy=\"89.6197\" r=\"14\"/>\n",
       "<polyline clip-path=\"url(#clip8703)\" style=\"stroke:#e26f46; stroke-width:4; stroke-opacity:1; fill:none\" points=\"\n",
       "  160.873,1059.78 174.081,1066.83 187.289,1069.51 200.496,1068.15 213.704,1063.11 226.912,1054.69 240.119,1043.21 253.327,1028.97 266.535,1012.24 279.742,993.303 \n",
       "  292.95,972.402 306.157,949.785 319.365,925.682 332.573,900.312 345.78,873.881 358.988,846.584 372.196,818.604 385.403,790.116 398.611,761.279 411.818,732.246 \n",
       "  425.026,703.157 438.234,674.145 451.441,645.329 464.649,616.822 477.857,588.726 491.064,561.135 504.272,534.135 517.48,507.803 530.687,482.205 543.895,457.405 \n",
       "  557.102,433.453 570.31,410.398 583.518,388.277 596.725,367.122 609.933,346.959 623.141,327.807 636.348,309.68 649.556,292.585 662.764,276.524 675.971,261.494 \n",
       "  689.179,247.488 702.386,234.492 715.594,222.49 728.802,211.461 742.009,201.379 755.217,192.217 768.425,183.942 781.632,176.521 794.84,169.914 808.048,164.082 \n",
       "  821.255,158.984 834.463,154.573 847.67,150.806 860.878,147.633 874.086,145.007 887.293,142.878 900.501,141.196 913.709,139.911 926.916,138.972 940.124,138.328 \n",
       "  953.332,137.929 966.539,137.728 979.747,137.674 992.954,137.721 1006.16,137.824 1019.37,137.939 1032.58,138.024 1045.78,138.039 1058.99,137.949 1072.2,137.718 \n",
       "  1085.41,137.317 1098.62,136.717 1111.82,135.895 1125.03,134.831 1138.24,133.51 1151.45,131.919 1164.65,130.053 1177.86,127.909 1191.07,125.492 1204.28,122.811 \n",
       "  1217.48,119.88 1230.69,116.721 1243.9,113.362 1257.11,109.835 1270.31,106.182 1283.52,102.451 1296.73,98.6977 1309.94,94.9841 1323.15,91.3816 1336.35,87.9692 \n",
       "  1349.56,84.8346 1362.77,82.0741 1375.98,79.7929 1389.18,78.1056 1402.39,77.1362 1415.6,77.0188 1428.81,77.8972 1442.01,79.9257 1455.22,83.2691 1468.43,88.1034 \n",
       "  1481.64,94.6152 \n",
       "  \"/>\n",
       "<polygon clip-path=\"url(#clip8701)\" points=\"\n",
       "1005.59,264.204 1473.26,264.204 1473.26,82.7641 1005.59,82.7641 \n",
       "  \" fill=\"#ffffff\" fill-rule=\"evenodd\" fill-opacity=\"1\"/>\n",
       "<polyline clip-path=\"url(#clip8701)\" style=\"stroke:#000000; stroke-width:4; stroke-opacity:1; fill:none\" points=\"\n",
       "  1005.59,264.204 1473.26,264.204 1473.26,82.7641 1005.59,82.7641 1005.59,264.204 \n",
       "  \"/>\n",
       "<circle clip-path=\"url(#clip8701)\" style=\"fill:#000000; stroke:none; fill-opacity:1\" cx=\"1077.59\" cy=\"143.244\" r=\"25\"/>\n",
       "<circle clip-path=\"url(#clip8701)\" style=\"fill:#009af9; stroke:none; fill-opacity:1\" cx=\"1077.59\" cy=\"143.244\" r=\"21\"/>\n",
       "<g clip-path=\"url(#clip8701)\">\n",
       "<text style=\"fill:#000000; fill-opacity:1; font-family:Arial,Helvetica Neue,Helvetica,sans-serif; font-size:48px; text-anchor:start;\" transform=\"rotate(0, 1133.59, 160.744)\" x=\"1133.59\" y=\"160.744\">Pontos</text>\n",
       "</g>\n",
       "<polyline clip-path=\"url(#clip8701)\" style=\"stroke:#e26f46; stroke-width:4; stroke-opacity:1; fill:none\" points=\"\n",
       "  1021.59,203.724 1117.59,203.724 \n",
       "  \"/>\n",
       "<g clip-path=\"url(#clip8701)\">\n",
       "<text style=\"fill:#000000; fill-opacity:1; font-family:Arial,Helvetica Neue,Helvetica,sans-serif; font-size:48px; text-anchor:start;\" transform=\"rotate(0, 1133.59, 221.224)\" x=\"1133.59\" y=\"221.224\">Função Ajuste</text>\n",
       "</g>\n",
       "</svg>\n"
      ]
     },
     "execution_count": 9,
     "metadata": {},
     "output_type": "execute_result"
    }
   ],
   "source": [
    "using Plots\n",
    "gr()\n",
    "xvals = 0:0.1:10\n",
    "\n",
    "scatter(x_dados, y_dados, label = \"Pontos\")\n",
    "plot!(x_interp, pol_ajuste.(x_interp), label = \"Função Ajuste\", size = (400, 300))"
   ]
  },
  {
   "cell_type": "markdown",
   "metadata": {},
   "source": [
    "### SCIPY\n",
    "\n",
    "SciPy é uma biblioteca formada por várias ferramentas numéricas livres para Python destinado as mais diferentes aplicações em ciências exatas e engenharia. \"É construído sobre a estrutura de array do NumPy e leva a programação científica para um nível totalmente novo, fornecendo funções matemáticas avançadas como a integração, solvers de equações diferenciais ordinárias, funções especiais, otimizações, e muito mais\" (BRESSERT, 2012).\n",
    "Sintaxe:\n",
    "```julia\n",
    "using PyCall\n",
    "@pyimport scipy.biblioteca as nome_alias\n",
    "```\n",
    "Bibliotecas Importantes:\n",
    "\n",
    "- Funções especiais (scipy.special): https://docs.scipy.org/doc/scipy-0.14.0/reference/tutorial/special.html   \n",
    "- Integração (scipy.integrate) : https://docs.scipy.org/doc/scipy-0.14.0/reference/tutorial/integrate.html\n",
    "- Optiização (scipy.optimize)  : https://docs.scipy.org/doc/scipy-0.14.0/reference/optimize.html#module-scipy.optimize \n",
    "- Interpolação (scipy.interpolate): https://docs.scipy.org/doc/scipy-0.14.0/reference/tutorial/interpolate.html\n",
    "- Transformada de Fourier (scipy.fftpack): https://docs.scipy.org/doc/scipy-0.14.0/reference/tutorial/fftpack.html\n",
    "- Processamento de sinais (scipy.signal): https://docs.scipy.org/doc/scipy-0.14.0/reference/tutorial/signal.html\n",
    "- Algebra Linear (scipy.linalg)(: https://docs.scipy.org/doc/scipy-0.14.0/reference/tutorial/linalg.html\n",
    "- Rotinas de Gráficos Dispersos Compactados(scipy.sparse.csgraph): https://docs.scipy.org/doc/scipy-0.14.0/reference/tutorial/csgraph.html)\n",
    "- estruturas de dados espaciais e algoritmos (scipy.spatial): https://docs.scipy.org/doc/scipy-0.14.0/reference/tutorial/spatial.html\n",
    "- Estatísticas (scipy.stats):https://docs.scipy.org/doc/scipy-0.14.0/reference/tutorial/stats.html\n",
    "- processamento de imagem multidimensional (scipy.ndimage): https://docs.scipy.org/doc/scipy-0.14.0/reference/tutorial/ndimage.html\n",
    "- Entrada e Saída (scipy.io): https://docs.scipy.org/doc/scipy-0.14.0/reference/tutorial/io.html\n",
    "- Ondas (scipy.weave): https://docs.scipy.org/doc/scipy-0.14.0/reference/tutorial/weave.html"
   ]
  },
  {
   "cell_type": "markdown",
   "metadata": {
    "collapsed": true
   },
   "source": [
    "**Raízes de uma Função**\n",
    "\n",
    "Encontrar uma raiz usando o Newton-Raphson ou método da secante. Sintaxe:\n",
    "```julia\n",
    "optimize.newton(função, x_i, df, args, tol, maxiter, fprime2)\n",
    "\n",
    "```\n",
    "Sendo:\n",
    "* **função**: equação algébrica expressa como uma função genérica ou anônima;\n",
    "* **xi**: aproximação inicial da variavel da equação algébrica; \n",
    "* **df**: derivada primeira da equação algébrica. Quando não passada como argumento para a função `newton()`, o método da secante é utilizado;\n",
    "* **args**: argumentos extras;\n",
    "* **tol**: tolerância padrão $1.48\\cdot 10^{-8}$ (1.48e-08);\n",
    "* **maxinter**: número máximo de iterações (padrão 50);\n",
    "* **fprime2**: derivada segunda da equação algébrica utilizada no método de Harlley."
   ]
  },
  {
   "cell_type": "code",
   "execution_count": 10,
   "metadata": {
    "collapsed": true
   },
   "outputs": [],
   "source": [
    "using PyCall\n",
    "@pyimport scipy.optimize as sco"
   ]
  },
  {
   "cell_type": "markdown",
   "metadata": {},
   "source": [
    "**Exemplo**: Calcular a raiz de $y = x^2 - 4$"
   ]
  },
  {
   "cell_type": "code",
   "execution_count": 13,
   "metadata": {
    "collapsed": false,
    "scrolled": true
   },
   "outputs": [
    {
     "data": {
      "text/plain": [
       "2.0"
      ]
     },
     "execution_count": 13,
     "metadata": {},
     "output_type": "execute_result"
    }
   ],
   "source": [
    "# cálculo da raiz utilizando o método de Newton\n",
    "sco.newton(x -> x^2 - 4 , 8, x-> 2*x)"
   ]
  },
  {
   "cell_type": "code",
   "execution_count": 14,
   "metadata": {
    "collapsed": false
   },
   "outputs": [
    {
     "data": {
      "text/plain": [
       "2.0"
      ]
     },
     "execution_count": 14,
     "metadata": {},
     "output_type": "execute_result"
    }
   ],
   "source": [
    "# cálculo da raiz utilizando o método de Harlley\n",
    "sco.newton(x -> x^2 - 4 , 8, x->2*x, fprime2 = x-> 2)"
   ]
  },
  {
   "cell_type": "markdown",
   "metadata": {},
   "source": [
    "**Sistemas de equações**\n",
    "\n",
    "Calcula as raízes das equações lineares, não-lineares e sistemas de equações.\n",
    "\n",
    "```julia\n",
    "optimize.fsolve(função_sistema, (var_1_inicial, var_2_inicial,..., var_n_inicial))\n",
    "```\n",
    "Sendo:\n",
    "* **função_sistema**: função genérica contendo as equações algébricas do sistema;\n",
    "* **var_1_inicial, var_2_inicial,..., var_n_inicial**: tupla ou vetor de soluções iniciais do sistema."
   ]
  },
  {
   "cell_type": "code",
   "execution_count": 188,
   "metadata": {
    "collapsed": true
   },
   "outputs": [],
   "source": [
    "using PyCall\n",
    "@pyimport scipy.optimize as sco"
   ]
  },
  {
   "cell_type": "markdown",
   "metadata": {},
   "source": [
    "**Exemplo**: Calcular as raízes do sistema:\n",
    "\n",
    "${\\begin{cases}\n",
    "& xy - \\sin(x)y + 5 = 0\\\\ \n",
    "&  -x^2 + e^{y} - 2 = 0  \n",
    "\\end{cases}}$"
   ]
  },
  {
   "cell_type": "code",
   "execution_count": 15,
   "metadata": {
    "collapsed": false,
    "scrolled": false
   },
   "outputs": [
    {
     "data": {
      "text/plain": [
       "sistema (generic function with 1 method)"
      ]
     },
     "execution_count": 15,
     "metadata": {},
     "output_type": "execute_result"
    }
   ],
   "source": [
    "function sistema(xi_yi)\n",
    "    x , y = xi_yi  # xi_yi pode ser uma tupla ou vetor\n",
    "    \n",
    "    return x*y - sin(x)*y + 5, -x^2 + exp(y) - 2\n",
    "end"
   ]
  },
  {
   "cell_type": "code",
   "execution_count": 16,
   "metadata": {
    "collapsed": false
   },
   "outputs": [
    {
     "data": {
      "text/plain": [
       "(5.0, 0.7182818284590451)"
      ]
     },
     "execution_count": 16,
     "metadata": {},
     "output_type": "execute_result"
    }
   ],
   "source": [
    "sistema((0,1))"
   ]
  },
  {
   "cell_type": "code",
   "execution_count": 17,
   "metadata": {
    "collapsed": false,
    "scrolled": true
   },
   "outputs": [
    {
     "data": {
      "text/plain": [
       "2-element Array{Float64,1}:\n",
       " -2.6881883599905434\n",
       "  2.222064242396828 "
      ]
     },
     "execution_count": 17,
     "metadata": {},
     "output_type": "execute_result"
    }
   ],
   "source": [
    "sco.fsolve(sistema, (1, 1))"
   ]
  },
  {
   "cell_type": "markdown",
   "metadata": {},
   "source": [
    "Também é possível resolver uma equação não linear utilizando a função `solve()`. Para isto, basta criar um sistema de equações no qual cada equação é dependente de apenas uma variável."
   ]
  },
  {
   "cell_type": "code",
   "execution_count": 18,
   "metadata": {
    "collapsed": false,
    "scrolled": true
   },
   "outputs": [
    {
     "data": {
      "text/plain": [
       "equacao (generic function with 1 method)"
      ]
     },
     "execution_count": 18,
     "metadata": {},
     "output_type": "execute_result"
    }
   ],
   "source": [
    "function equacao(xi_yi)\n",
    "    x , y = xi_yi\n",
    "    \n",
    "    return -4 + x^2 + exp(x) , y \n",
    "end"
   ]
  },
  {
   "cell_type": "code",
   "execution_count": 19,
   "metadata": {
    "collapsed": false,
    "scrolled": false
   },
   "outputs": [
    {
     "data": {
      "text/plain": [
       "2-element Array{Float64,1}:\n",
       " 1.0580064010906363\n",
       " 0.0               "
      ]
     },
     "execution_count": 19,
     "metadata": {},
     "output_type": "execute_result"
    }
   ],
   "source": [
    "# indepedentemente do valor y será sempre 0\n",
    "sco.fsolve(equacao,(1.0, 0))"
   ]
  },
  {
   "cell_type": "markdown",
   "metadata": {},
   "source": [
    "**Integração Numérica**\n",
    "\n",
    "Calcula a integral numérica de uma função. Sintaxe:\n",
    "```julia\n",
    "integrate.quad(função, a, b)\n",
    "```\n",
    "Sendo:\n",
    "* **função**: função matemática expressa como uma função genérica ou anônima;\n",
    "* **a, b**: limites de integração função."
   ]
  },
  {
   "cell_type": "code",
   "execution_count": 21,
   "metadata": {
    "collapsed": true
   },
   "outputs": [],
   "source": [
    "using PyCall\n",
    "@pyimport scipy.integrate as sci"
   ]
  },
  {
   "cell_type": "markdown",
   "metadata": {},
   "source": [
    "**Exemplo**: calcular a integral:\n",
    "\n",
    "$\\displaystyle \\int_{0}^{10} {x^2 - 4} ~ dx $"
   ]
  },
  {
   "cell_type": "code",
   "execution_count": 22,
   "metadata": {
    "collapsed": false,
    "scrolled": false
   },
   "outputs": [
    {
     "data": {
      "text/plain": [
       "(293.33333333333337, 3.375663205707763e-12)"
      ]
     },
     "execution_count": 22,
     "metadata": {},
     "output_type": "execute_result"
    }
   ],
   "source": [
    "sci.quad(x -> x^2 - 4, 0, 10)"
   ]
  },
  {
   "cell_type": "markdown",
   "metadata": {},
   "source": [
    "**Interpolação SciPy**\n",
    "\n",
    "Calcula os valores intermediários ao longo de uma curva de acordo com um conjunto de pontos. Sintaxe:\n",
    "```julia\n",
    "scipy.interp1d(x_dados, y_dados, kind = \"tipo\")\n",
    "```\n",
    "Sendo:\n",
    "* **x_dados**: vetor unidimensional de dados iniciais do eixo \"x\";\n",
    "* **y_dados**: vetor unidimensional de dados iniciais do eixo \"y\";\n",
    "* **kind **: tipo de interpolação como uma string (\"linear\", \"nearest\", \"zero\", \"slinear\", \"quadratic\" e \"cubic\")."
   ]
  },
  {
   "cell_type": "code",
   "execution_count": 25,
   "metadata": {
    "collapsed": true
   },
   "outputs": [],
   "source": [
    "using PyCall\n",
    "@pyimport scipy.interpolate as scinterp"
   ]
  },
  {
   "cell_type": "markdown",
   "metadata": {},
   "source": [
    "**Exemplo**: A partir dos dados abaixo, construa as funções de interpolação."
   ]
  },
  {
   "cell_type": "code",
   "execution_count": 26,
   "metadata": {
    "collapsed": true
   },
   "outputs": [],
   "source": [
    "# dados discretos\n",
    "x_dados = [0.0, 1.0, 2.0, 3.0, 4.0, 5.0, 6.0, 7.0, 8.0, 9.0, 10.0]\n",
    "y_dados = [0.5, 1.0, 4.0, 6.0, 8.0, 8.5, 8.8, 9.0, 9.1, 9.2, 9.3];"
   ]
  },
  {
   "cell_type": "code",
   "execution_count": 27,
   "metadata": {
    "collapsed": false,
    "scrolled": true
   },
   "outputs": [
    {
     "data": {
      "text/plain": [
       "PyObject <scipy.interpolate.interpolate.interp1d object at 0x7ff56cd7c9f8>"
      ]
     },
     "execution_count": 27,
     "metadata": {},
     "output_type": "execute_result"
    }
   ],
   "source": [
    "# funções interpolação \n",
    "\n",
    "interp_cub = scinterp.interp1d(x_dados, y_dados, kind = \"cubic\")\n",
    "interp_li  = scinterp.interp1d(x_dados, y_dados, kind = \"linear\")\n",
    "interp_qua = scinterp.interp1d(x_dados, y_dados, kind = \"quadratic\")\n",
    "interp_sl  = scinterp.interp1d(x_dados, y_dados, kind = \"slinear\")"
   ]
  },
  {
   "cell_type": "code",
   "execution_count": 28,
   "metadata": {
    "collapsed": false,
    "scrolled": true
   },
   "outputs": [
    {
     "name": "stdout",
     "output_type": "stream",
     "text": [
      "interp_cub(1.5) = 2.51803\n",
      "interp_li(1.5) = 2.5\n",
      "interp_qua(1.5) = 2.88056\n",
      "interp_sl(1.5) = 2.5\n"
     ]
    }
   ],
   "source": [
    "# Testando \n",
    "@show interp_cub(1.5)\n",
    "@show interp_li(1.5)\n",
    "@show interp_qua(1.5)\n",
    "@show interp_sl(1.5);"
   ]
  },
  {
   "cell_type": "code",
   "execution_count": 31,
   "metadata": {
    "collapsed": false,
    "scrolled": false
   },
   "outputs": [
    {
     "data": {
      "image/svg+xml": [
       "<?xml version=\"1.0\" encoding=\"utf-8\"?>\n",
       "<svg xmlns=\"http://www.w3.org/2000/svg\" xmlns:xlink=\"http://www.w3.org/1999/xlink\" width=\"400\" height=\"300\" viewBox=\"0 0 1600 1200\">\n",
       "<defs>\n",
       "  <clipPath id=\"clip8900\">\n",
       "    <rect x=\"0\" y=\"0\" width=\"2000\" height=\"2000\"/>\n",
       "  </clipPath>\n",
       "</defs>\n",
       "<defs>\n",
       "  <clipPath id=\"clip8901\">\n",
       "    <rect x=\"0\" y=\"0\" width=\"1600\" height=\"1200\"/>\n",
       "  </clipPath>\n",
       "</defs>\n",
       "<polygon clip-path=\"url(#clip8901)\" points=\"\n",
       "0,1200 1600,1200 1600,0 0,0 \n",
       "  \" fill=\"#ffffff\" fill-rule=\"evenodd\" fill-opacity=\"1\"/>\n",
       "<defs>\n",
       "  <clipPath id=\"clip8902\">\n",
       "    <rect x=\"320\" y=\"0\" width=\"1121\" height=\"1121\"/>\n",
       "  </clipPath>\n",
       "</defs>\n",
       "<polygon clip-path=\"url(#clip8901)\" points=\"\n",
       "184.243,1036.29 1521.26,1036.29 1521.26,47.2441 184.243,47.2441 \n",
       "  \" fill=\"#ffffff\" fill-rule=\"evenodd\" fill-opacity=\"1\"/>\n",
       "<defs>\n",
       "  <clipPath id=\"clip8903\">\n",
       "    <rect x=\"184\" y=\"47\" width=\"1338\" height=\"990\"/>\n",
       "  </clipPath>\n",
       "</defs>\n",
       "<polyline clip-path=\"url(#clip8903)\" style=\"stroke:#000000; stroke-width:2; stroke-opacity:0.1; fill:none\" points=\"\n",
       "  222.083,1036.29 222.083,47.2441 \n",
       "  \"/>\n",
       "<polyline clip-path=\"url(#clip8903)\" style=\"stroke:#000000; stroke-width:2; stroke-opacity:0.1; fill:none\" points=\"\n",
       "  537.417,1036.29 537.417,47.2441 \n",
       "  \"/>\n",
       "<polyline clip-path=\"url(#clip8903)\" style=\"stroke:#000000; stroke-width:2; stroke-opacity:0.1; fill:none\" points=\"\n",
       "  852.751,1036.29 852.751,47.2441 \n",
       "  \"/>\n",
       "<polyline clip-path=\"url(#clip8903)\" style=\"stroke:#000000; stroke-width:2; stroke-opacity:0.1; fill:none\" points=\"\n",
       "  1168.09,1036.29 1168.09,47.2441 \n",
       "  \"/>\n",
       "<polyline clip-path=\"url(#clip8903)\" style=\"stroke:#000000; stroke-width:2; stroke-opacity:0.1; fill:none\" points=\"\n",
       "  1483.42,1036.29 1483.42,47.2441 \n",
       "  \"/>\n",
       "<polyline clip-path=\"url(#clip8903)\" style=\"stroke:#000000; stroke-width:2; stroke-opacity:0.1; fill:none\" points=\"\n",
       "  184.243,982.542 1521.26,982.542 \n",
       "  \"/>\n",
       "<polyline clip-path=\"url(#clip8903)\" style=\"stroke:#000000; stroke-width:2; stroke-opacity:0.1; fill:none\" points=\"\n",
       "  184.243,788.397 1521.26,788.397 \n",
       "  \"/>\n",
       "<polyline clip-path=\"url(#clip8903)\" style=\"stroke:#000000; stroke-width:2; stroke-opacity:0.1; fill:none\" points=\"\n",
       "  184.243,594.252 1521.26,594.252 \n",
       "  \"/>\n",
       "<polyline clip-path=\"url(#clip8903)\" style=\"stroke:#000000; stroke-width:2; stroke-opacity:0.1; fill:none\" points=\"\n",
       "  184.243,400.106 1521.26,400.106 \n",
       "  \"/>\n",
       "<polyline clip-path=\"url(#clip8903)\" style=\"stroke:#000000; stroke-width:2; stroke-opacity:0.1; fill:none\" points=\"\n",
       "  184.243,205.961 1521.26,205.961 \n",
       "  \"/>\n",
       "<polyline clip-path=\"url(#clip8901)\" style=\"stroke:#000000; stroke-width:4; stroke-opacity:1; fill:none\" points=\"\n",
       "  184.243,1036.29 1521.26,1036.29 \n",
       "  \"/>\n",
       "<polyline clip-path=\"url(#clip8901)\" style=\"stroke:#000000; stroke-width:4; stroke-opacity:1; fill:none\" points=\"\n",
       "  184.243,1036.29 184.243,47.2441 \n",
       "  \"/>\n",
       "<polyline clip-path=\"url(#clip8901)\" style=\"stroke:#000000; stroke-width:4; stroke-opacity:1; fill:none\" points=\"\n",
       "  222.083,1036.29 222.083,1021.46 \n",
       "  \"/>\n",
       "<polyline clip-path=\"url(#clip8901)\" style=\"stroke:#000000; stroke-width:4; stroke-opacity:1; fill:none\" points=\"\n",
       "  537.417,1036.29 537.417,1021.46 \n",
       "  \"/>\n",
       "<polyline clip-path=\"url(#clip8901)\" style=\"stroke:#000000; stroke-width:4; stroke-opacity:1; fill:none\" points=\"\n",
       "  852.751,1036.29 852.751,1021.46 \n",
       "  \"/>\n",
       "<polyline clip-path=\"url(#clip8901)\" style=\"stroke:#000000; stroke-width:4; stroke-opacity:1; fill:none\" points=\"\n",
       "  1168.09,1036.29 1168.09,1021.46 \n",
       "  \"/>\n",
       "<polyline clip-path=\"url(#clip8901)\" style=\"stroke:#000000; stroke-width:4; stroke-opacity:1; fill:none\" points=\"\n",
       "  1483.42,1036.29 1483.42,1021.46 \n",
       "  \"/>\n",
       "<polyline clip-path=\"url(#clip8901)\" style=\"stroke:#000000; stroke-width:4; stroke-opacity:1; fill:none\" points=\"\n",
       "  184.243,982.542 204.298,982.542 \n",
       "  \"/>\n",
       "<polyline clip-path=\"url(#clip8901)\" style=\"stroke:#000000; stroke-width:4; stroke-opacity:1; fill:none\" points=\"\n",
       "  184.243,788.397 204.298,788.397 \n",
       "  \"/>\n",
       "<polyline clip-path=\"url(#clip8901)\" style=\"stroke:#000000; stroke-width:4; stroke-opacity:1; fill:none\" points=\"\n",
       "  184.243,594.252 204.298,594.252 \n",
       "  \"/>\n",
       "<polyline clip-path=\"url(#clip8901)\" style=\"stroke:#000000; stroke-width:4; stroke-opacity:1; fill:none\" points=\"\n",
       "  184.243,400.106 204.298,400.106 \n",
       "  \"/>\n",
       "<polyline clip-path=\"url(#clip8901)\" style=\"stroke:#000000; stroke-width:4; stroke-opacity:1; fill:none\" points=\"\n",
       "  184.243,205.961 204.298,205.961 \n",
       "  \"/>\n",
       "<g clip-path=\"url(#clip8901)\">\n",
       "<text style=\"fill:#000000; fill-opacity:1; font-family:Arial,Helvetica Neue,Helvetica,sans-serif; font-size:48px; text-anchor:middle;\" transform=\"rotate(0, 222.083, 1086.29)\" x=\"222.083\" y=\"1086.29\">0.0</text>\n",
       "</g>\n",
       "<g clip-path=\"url(#clip8901)\">\n",
       "<text style=\"fill:#000000; fill-opacity:1; font-family:Arial,Helvetica Neue,Helvetica,sans-serif; font-size:48px; text-anchor:middle;\" transform=\"rotate(0, 537.417, 1086.29)\" x=\"537.417\" y=\"1086.29\">2.5</text>\n",
       "</g>\n",
       "<g clip-path=\"url(#clip8901)\">\n",
       "<text style=\"fill:#000000; fill-opacity:1; font-family:Arial,Helvetica Neue,Helvetica,sans-serif; font-size:48px; text-anchor:middle;\" transform=\"rotate(0, 852.751, 1086.29)\" x=\"852.751\" y=\"1086.29\">5.0</text>\n",
       "</g>\n",
       "<g clip-path=\"url(#clip8901)\">\n",
       "<text style=\"fill:#000000; fill-opacity:1; font-family:Arial,Helvetica Neue,Helvetica,sans-serif; font-size:48px; text-anchor:middle;\" transform=\"rotate(0, 1168.09, 1086.29)\" x=\"1168.09\" y=\"1086.29\">7.5</text>\n",
       "</g>\n",
       "<g clip-path=\"url(#clip8901)\">\n",
       "<text style=\"fill:#000000; fill-opacity:1; font-family:Arial,Helvetica Neue,Helvetica,sans-serif; font-size:48px; text-anchor:middle;\" transform=\"rotate(0, 1483.42, 1086.29)\" x=\"1483.42\" y=\"1086.29\">10.0</text>\n",
       "</g>\n",
       "<g clip-path=\"url(#clip8901)\">\n",
       "<text style=\"fill:#000000; fill-opacity:1; font-family:Arial,Helvetica Neue,Helvetica,sans-serif; font-size:48px; text-anchor:end;\" transform=\"rotate(0, 168.243, 1000.04)\" x=\"168.243\" y=\"1000.04\">0</text>\n",
       "</g>\n",
       "<g clip-path=\"url(#clip8901)\">\n",
       "<text style=\"fill:#000000; fill-opacity:1; font-family:Arial,Helvetica Neue,Helvetica,sans-serif; font-size:48px; text-anchor:end;\" transform=\"rotate(0, 168.243, 805.897)\" x=\"168.243\" y=\"805.897\">2</text>\n",
       "</g>\n",
       "<g clip-path=\"url(#clip8901)\">\n",
       "<text style=\"fill:#000000; fill-opacity:1; font-family:Arial,Helvetica Neue,Helvetica,sans-serif; font-size:48px; text-anchor:end;\" transform=\"rotate(0, 168.243, 611.752)\" x=\"168.243\" y=\"611.752\">4</text>\n",
       "</g>\n",
       "<g clip-path=\"url(#clip8901)\">\n",
       "<text style=\"fill:#000000; fill-opacity:1; font-family:Arial,Helvetica Neue,Helvetica,sans-serif; font-size:48px; text-anchor:end;\" transform=\"rotate(0, 168.243, 417.606)\" x=\"168.243\" y=\"417.606\">6</text>\n",
       "</g>\n",
       "<g clip-path=\"url(#clip8901)\">\n",
       "<text style=\"fill:#000000; fill-opacity:1; font-family:Arial,Helvetica Neue,Helvetica,sans-serif; font-size:48px; text-anchor:end;\" transform=\"rotate(0, 168.243, 223.461)\" x=\"168.243\" y=\"223.461\">8</text>\n",
       "</g>\n",
       "<g clip-path=\"url(#clip8901)\">\n",
       "<text style=\"fill:#000000; fill-opacity:1; font-family:Arial,Helvetica Neue,Helvetica,sans-serif; font-size:66px; text-anchor:middle;\" transform=\"rotate(0, 852.751, 1190.4)\" x=\"852.751\" y=\"1190.4\">x</text>\n",
       "</g>\n",
       "<g clip-path=\"url(#clip8901)\">\n",
       "<text style=\"fill:#000000; fill-opacity:1; font-family:Arial,Helvetica Neue,Helvetica,sans-serif; font-size:66px; text-anchor:middle;\" transform=\"rotate(-90, 57.6, 541.768)\" x=\"57.6\" y=\"541.768\">y</text>\n",
       "</g>\n",
       "<circle clip-path=\"url(#clip8903)\" style=\"fill:#000000; stroke:none; fill-opacity:1\" cx=\"222.083\" cy=\"934.006\" r=\"18\"/>\n",
       "<circle clip-path=\"url(#clip8903)\" style=\"fill:#009af9; stroke:none; fill-opacity:1\" cx=\"222.083\" cy=\"934.006\" r=\"14\"/>\n",
       "<circle clip-path=\"url(#clip8903)\" style=\"fill:#000000; stroke:none; fill-opacity:1\" cx=\"348.216\" cy=\"885.47\" r=\"18\"/>\n",
       "<circle clip-path=\"url(#clip8903)\" style=\"fill:#009af9; stroke:none; fill-opacity:1\" cx=\"348.216\" cy=\"885.47\" r=\"14\"/>\n",
       "<circle clip-path=\"url(#clip8903)\" style=\"fill:#000000; stroke:none; fill-opacity:1\" cx=\"474.35\" cy=\"594.252\" r=\"18\"/>\n",
       "<circle clip-path=\"url(#clip8903)\" style=\"fill:#009af9; stroke:none; fill-opacity:1\" cx=\"474.35\" cy=\"594.252\" r=\"14\"/>\n",
       "<circle clip-path=\"url(#clip8903)\" style=\"fill:#000000; stroke:none; fill-opacity:1\" cx=\"600.484\" cy=\"400.106\" r=\"18\"/>\n",
       "<circle clip-path=\"url(#clip8903)\" style=\"fill:#009af9; stroke:none; fill-opacity:1\" cx=\"600.484\" cy=\"400.106\" r=\"14\"/>\n",
       "<circle clip-path=\"url(#clip8903)\" style=\"fill:#000000; stroke:none; fill-opacity:1\" cx=\"726.618\" cy=\"205.961\" r=\"18\"/>\n",
       "<circle clip-path=\"url(#clip8903)\" style=\"fill:#009af9; stroke:none; fill-opacity:1\" cx=\"726.618\" cy=\"205.961\" r=\"14\"/>\n",
       "<circle clip-path=\"url(#clip8903)\" style=\"fill:#000000; stroke:none; fill-opacity:1\" cx=\"852.751\" cy=\"157.424\" r=\"18\"/>\n",
       "<circle clip-path=\"url(#clip8903)\" style=\"fill:#009af9; stroke:none; fill-opacity:1\" cx=\"852.751\" cy=\"157.424\" r=\"14\"/>\n",
       "<circle clip-path=\"url(#clip8903)\" style=\"fill:#000000; stroke:none; fill-opacity:1\" cx=\"978.885\" cy=\"128.302\" r=\"18\"/>\n",
       "<circle clip-path=\"url(#clip8903)\" style=\"fill:#009af9; stroke:none; fill-opacity:1\" cx=\"978.885\" cy=\"128.302\" r=\"14\"/>\n",
       "<circle clip-path=\"url(#clip8903)\" style=\"fill:#000000; stroke:none; fill-opacity:1\" cx=\"1105.02\" cy=\"108.888\" r=\"18\"/>\n",
       "<circle clip-path=\"url(#clip8903)\" style=\"fill:#009af9; stroke:none; fill-opacity:1\" cx=\"1105.02\" cy=\"108.888\" r=\"14\"/>\n",
       "<circle clip-path=\"url(#clip8903)\" style=\"fill:#000000; stroke:none; fill-opacity:1\" cx=\"1231.15\" cy=\"99.1806\" r=\"18\"/>\n",
       "<circle clip-path=\"url(#clip8903)\" style=\"fill:#009af9; stroke:none; fill-opacity:1\" cx=\"1231.15\" cy=\"99.1806\" r=\"14\"/>\n",
       "<circle clip-path=\"url(#clip8903)\" style=\"fill:#000000; stroke:none; fill-opacity:1\" cx=\"1357.29\" cy=\"89.4733\" r=\"18\"/>\n",
       "<circle clip-path=\"url(#clip8903)\" style=\"fill:#009af9; stroke:none; fill-opacity:1\" cx=\"1357.29\" cy=\"89.4733\" r=\"14\"/>\n",
       "<circle clip-path=\"url(#clip8903)\" style=\"fill:#000000; stroke:none; fill-opacity:1\" cx=\"1483.42\" cy=\"79.766\" r=\"18\"/>\n",
       "<circle clip-path=\"url(#clip8903)\" style=\"fill:#009af9; stroke:none; fill-opacity:1\" cx=\"1483.42\" cy=\"79.766\" r=\"14\"/>\n",
       "<polyline clip-path=\"url(#clip8903)\" style=\"stroke:#e26f46; stroke-width:4; stroke-opacity:1; fill:none\" points=\"\n",
       "  222.083,934.006 234.696,957.845 247.31,973.453 259.923,981.526 272.536,982.759 285.15,977.848 297.763,967.489 310.376,952.375 322.99,933.204 335.603,910.67 \n",
       "  348.216,885.47 360.83,858.252 373.443,829.485 386.057,799.591 398.67,768.992 411.283,738.111 423.897,707.37 436.51,677.191 449.123,647.997 461.737,620.209 \n",
       "  474.35,594.252 486.964,570.417 499.577,548.488 512.19,528.118 524.804,508.961 537.417,490.671 550.03,472.902 562.644,455.307 575.257,437.54 587.87,419.255 \n",
       "  600.484,400.106 613.097,379.868 625.711,358.799 638.324,337.28 650.937,315.691 663.551,294.412 676.164,273.822 688.777,254.302 701.391,236.232 714.004,219.991 \n",
       "  726.618,205.961 739.231,194.406 751.844,185.142 764.458,177.867 777.071,172.281 789.684,168.084 802.298,164.975 814.911,162.655 827.525,160.824 840.138,159.18 \n",
       "  852.751,157.424 865.365,155.317 877.978,152.86 890.591,150.119 903.205,147.156 915.818,144.036 928.431,140.822 941.045,137.578 953.658,134.367 966.272,131.254 \n",
       "  978.885,128.302 991.498,125.563 1004.11,123.035 1016.73,120.706 1029.34,118.563 1041.95,116.593 1054.57,114.784 1067.18,113.121 1079.79,111.593 1092.41,110.186 \n",
       "  1105.02,108.888 1117.63,107.685 1130.25,106.566 1142.86,105.518 1155.47,104.53 1168.09,103.589 1180.7,102.684 1193.31,101.802 1205.93,100.933 1218.54,100.063 \n",
       "  1231.15,99.1806 1243.77,98.2766 1256.38,97.351 1268.99,96.4063 1281.61,95.445 1294.22,94.4698 1306.83,93.4831 1319.45,92.4876 1332.06,91.4857 1344.67,90.4801 \n",
       "  1357.29,89.4733 1369.9,88.4677 1382.51,87.4652 1395.13,86.4675 1407.74,85.4765 1420.35,84.4937 1432.97,83.521 1445.58,82.5602 1458.19,81.6129 1470.81,80.6809 \n",
       "  1483.42,79.766 \n",
       "  \"/>\n",
       "<polyline clip-path=\"url(#clip8903)\" style=\"stroke:#3da44d; stroke-width:4; stroke-opacity:1; fill:none\" points=\"\n",
       "  222.083,934.006 234.696,929.152 247.31,924.299 259.923,919.445 272.536,914.592 285.15,909.738 297.763,904.884 310.376,900.031 322.99,895.177 335.603,890.323 \n",
       "  348.216,885.47 360.83,856.348 373.443,827.226 386.057,798.104 398.67,768.982 411.283,739.861 423.897,710.739 436.51,681.617 449.123,652.495 461.737,623.373 \n",
       "  474.35,594.252 486.964,574.837 499.577,555.422 512.19,536.008 524.804,516.593 537.417,497.179 550.03,477.764 562.644,458.35 575.257,438.935 587.87,419.521 \n",
       "  600.484,400.106 613.097,380.692 625.711,361.277 638.324,341.862 650.937,322.448 663.551,303.033 676.164,283.619 688.777,264.204 701.391,244.79 714.004,225.375 \n",
       "  726.618,205.961 739.231,201.107 751.844,196.253 764.458,191.4 777.071,186.546 789.684,181.692 802.298,176.839 814.911,171.985 827.525,167.132 840.138,162.278 \n",
       "  852.751,157.424 865.365,154.512 877.978,151.6 890.591,148.688 903.205,145.776 915.818,142.863 928.431,139.951 941.045,137.039 953.658,134.127 966.272,131.215 \n",
       "  978.885,128.302 991.498,126.361 1004.11,124.42 1016.73,122.478 1029.34,120.537 1041.95,118.595 1054.57,116.654 1067.18,114.712 1079.79,112.771 1092.41,110.829 \n",
       "  1105.02,108.888 1117.63,107.917 1130.25,106.946 1142.86,105.976 1155.47,105.005 1168.09,104.034 1180.7,103.064 1193.31,102.093 1205.93,101.122 1218.54,100.151 \n",
       "  1231.15,99.1806 1243.77,98.2099 1256.38,97.2391 1268.99,96.2684 1281.61,95.2977 1294.22,94.327 1306.83,93.3562 1319.45,92.3855 1332.06,91.4148 1344.67,90.444 \n",
       "  1357.29,89.4733 1369.9,88.5026 1382.51,87.5319 1395.13,86.5611 1407.74,85.5904 1420.35,84.6197 1432.97,83.649 1445.58,82.6782 1458.19,81.7075 1470.81,80.7368 \n",
       "  1483.42,79.766 \n",
       "  \"/>\n",
       "<polyline clip-path=\"url(#clip8903)\" style=\"stroke:#c271d2; stroke-width:4; stroke-opacity:1; fill:none\" points=\"\n",
       "  222.083,934.006 234.696,964.293 247.31,986.77 259.923,1001.44 272.536,1008.3 285.15,1007.35 297.763,998.592 310.376,982.025 322.99,957.649 335.603,925.464 \n",
       "  348.216,885.47 360.83,843.049 373.443,803.583 386.057,767.073 398.67,733.519 411.283,702.919 423.897,675.275 436.51,650.586 449.123,628.853 461.737,610.074 \n",
       "  474.35,594.252 486.964,579.399 499.577,563.533 512.19,546.654 524.804,528.76 537.417,509.852 550.03,489.931 562.644,468.995 575.257,447.046 587.87,424.083 \n",
       "  600.484,400.106 613.097,376.129 625.711,353.166 638.324,331.217 650.937,310.281 663.551,290.36 676.164,271.452 688.777,253.559 701.391,236.679 714.004,220.813 \n",
       "  726.618,205.961 739.231,192.565 751.844,181.067 764.458,171.467 777.071,163.766 789.684,157.964 802.298,154.059 814.911,152.053 827.525,151.945 840.138,153.735 \n",
       "  852.751,157.424 865.365,161.307 877.978,163.68 890.591,164.543 903.205,163.896 915.818,161.739 928.431,158.071 941.045,152.894 953.658,146.207 966.272,138.01 \n",
       "  978.885,128.302 991.498,118.692 1004.11,110.786 1016.73,104.584 1029.34,100.087 1041.95,97.2931 1054.57,96.2037 1067.18,96.8185 1079.79,99.1375 1092.41,103.161 \n",
       "  1105.02,108.888 1117.63,114.712 1130.25,119.027 1142.86,121.831 1155.47,123.125 1168.09,122.909 1180.7,121.184 1193.31,117.948 1205.93,113.202 1218.54,106.946 \n",
       "  1231.15,99.1806 1243.77,91.4148 1256.38,85.159 1268.99,80.4132 1281.61,77.1774 1294.22,75.4517 1306.83,75.236 1319.45,76.5303 1332.06,79.3346 1344.67,83.649 \n",
       "  1357.29,89.4733 1369.9,95.2977 1382.51,99.612 1395.13,102.416 1407.74,103.711 1420.35,103.495 1432.97,101.769 1445.58,98.5334 1458.19,93.7877 1470.81,87.5319 \n",
       "  1483.42,79.766 \n",
       "  \"/>\n",
       "<polyline clip-path=\"url(#clip8903)\" style=\"stroke:#ac8d18; stroke-width:4; stroke-opacity:1; fill:none\" points=\"\n",
       "  222.083,934.006 234.696,929.152 247.31,924.299 259.923,919.445 272.536,914.592 285.15,909.738 297.763,904.884 310.376,900.031 322.99,895.177 335.603,890.323 \n",
       "  348.216,885.47 360.83,856.348 373.443,827.226 386.057,798.104 398.67,768.982 411.283,739.861 423.897,710.739 436.51,681.617 449.123,652.495 461.737,623.373 \n",
       "  474.35,594.252 486.964,574.837 499.577,555.422 512.19,536.008 524.804,516.593 537.417,497.179 550.03,477.764 562.644,458.35 575.257,438.935 587.87,419.521 \n",
       "  600.484,400.106 613.097,380.692 625.711,361.277 638.324,341.862 650.937,322.448 663.551,303.033 676.164,283.619 688.777,264.204 701.391,244.79 714.004,225.375 \n",
       "  726.618,205.961 739.231,201.107 751.844,196.253 764.458,191.4 777.071,186.546 789.684,181.692 802.298,176.839 814.911,171.985 827.525,167.132 840.138,162.278 \n",
       "  852.751,157.424 865.365,154.512 877.978,151.6 890.591,148.688 903.205,145.776 915.818,142.863 928.431,139.951 941.045,137.039 953.658,134.127 966.272,131.215 \n",
       "  978.885,128.302 991.498,126.361 1004.11,124.42 1016.73,122.478 1029.34,120.537 1041.95,118.595 1054.57,116.654 1067.18,114.712 1079.79,112.771 1092.41,110.829 \n",
       "  1105.02,108.888 1117.63,107.917 1130.25,106.946 1142.86,105.976 1155.47,105.005 1168.09,104.034 1180.7,103.064 1193.31,102.093 1205.93,101.122 1218.54,100.151 \n",
       "  1231.15,99.1806 1243.77,98.2099 1256.38,97.2391 1268.99,96.2684 1281.61,95.2977 1294.22,94.327 1306.83,93.3562 1319.45,92.3855 1332.06,91.4148 1344.67,90.444 \n",
       "  1357.29,89.4733 1369.9,88.5026 1382.51,87.5319 1395.13,86.5611 1407.74,85.5904 1420.35,84.6197 1432.97,83.649 1445.58,82.6782 1458.19,81.7075 1470.81,80.7368 \n",
       "  1483.42,79.766 \n",
       "  \"/>\n",
       "<polygon clip-path=\"url(#clip8901)\" points=\"\n",
       "1043.09,445.644 1473.26,445.644 1473.26,82.7641 1043.09,82.7641 \n",
       "  \" fill=\"#ffffff\" fill-rule=\"evenodd\" fill-opacity=\"1\"/>\n",
       "<polyline clip-path=\"url(#clip8901)\" style=\"stroke:#000000; stroke-width:4; stroke-opacity:1; fill:none\" points=\"\n",
       "  1043.09,445.644 1473.26,445.644 1473.26,82.7641 1043.09,82.7641 1043.09,445.644 \n",
       "  \"/>\n",
       "<circle clip-path=\"url(#clip8901)\" style=\"fill:#000000; stroke:none; fill-opacity:1\" cx=\"1115.09\" cy=\"143.244\" r=\"25\"/>\n",
       "<circle clip-path=\"url(#clip8901)\" style=\"fill:#009af9; stroke:none; fill-opacity:1\" cx=\"1115.09\" cy=\"143.244\" r=\"21\"/>\n",
       "<g clip-path=\"url(#clip8901)\">\n",
       "<text style=\"fill:#000000; fill-opacity:1; font-family:Arial,Helvetica Neue,Helvetica,sans-serif; font-size:48px; text-anchor:start;\" transform=\"rotate(0, 1171.09, 160.744)\" x=\"1171.09\" y=\"160.744\">Pontos</text>\n",
       "</g>\n",
       "<polyline clip-path=\"url(#clip8901)\" style=\"stroke:#e26f46; stroke-width:4; stroke-opacity:1; fill:none\" points=\"\n",
       "  1059.09,203.724 1155.09,203.724 \n",
       "  \"/>\n",
       "<g clip-path=\"url(#clip8901)\">\n",
       "<text style=\"fill:#000000; fill-opacity:1; font-family:Arial,Helvetica Neue,Helvetica,sans-serif; font-size:48px; text-anchor:start;\" transform=\"rotate(0, 1171.09, 221.224)\" x=\"1171.09\" y=\"221.224\">Spline Cubic</text>\n",
       "</g>\n",
       "<polyline clip-path=\"url(#clip8901)\" style=\"stroke:#3da44d; stroke-width:4; stroke-opacity:1; fill:none\" points=\"\n",
       "  1059.09,264.204 1155.09,264.204 \n",
       "  \"/>\n",
       "<g clip-path=\"url(#clip8901)\">\n",
       "<text style=\"fill:#000000; fill-opacity:1; font-family:Arial,Helvetica Neue,Helvetica,sans-serif; font-size:48px; text-anchor:start;\" transform=\"rotate(0, 1171.09, 281.704)\" x=\"1171.09\" y=\"281.704\">Linear</text>\n",
       "</g>\n",
       "<polyline clip-path=\"url(#clip8901)\" style=\"stroke:#c271d2; stroke-width:4; stroke-opacity:1; fill:none\" points=\"\n",
       "  1059.09,324.684 1155.09,324.684 \n",
       "  \"/>\n",
       "<g clip-path=\"url(#clip8901)\">\n",
       "<text style=\"fill:#000000; fill-opacity:1; font-family:Arial,Helvetica Neue,Helvetica,sans-serif; font-size:48px; text-anchor:start;\" transform=\"rotate(0, 1171.09, 342.184)\" x=\"1171.09\" y=\"342.184\">Quadratic</text>\n",
       "</g>\n",
       "<polyline clip-path=\"url(#clip8901)\" style=\"stroke:#ac8d18; stroke-width:4; stroke-opacity:1; fill:none\" points=\"\n",
       "  1059.09,385.164 1155.09,385.164 \n",
       "  \"/>\n",
       "<g clip-path=\"url(#clip8901)\">\n",
       "<text style=\"fill:#000000; fill-opacity:1; font-family:Arial,Helvetica Neue,Helvetica,sans-serif; font-size:48px; text-anchor:start;\" transform=\"rotate(0, 1171.09, 402.664)\" x=\"1171.09\" y=\"402.664\">Slinear</text>\n",
       "</g>\n",
       "</svg>\n"
      ]
     },
     "execution_count": 31,
     "metadata": {},
     "output_type": "execute_result"
    }
   ],
   "source": [
    "using Plots\n",
    "gr()\n",
    "\n",
    "x_interp = 0:0.1:10\n",
    "\n",
    "scatter(x_dados, y_dados, label = \"Pontos\", xlabel = \"x\", ylabel = \"y\")\n",
    "plot!(x_interp, interp_cub(x_interp), label  = \"Spline Cubic\")\n",
    "plot!(x_interp, interp_li(x_interp), label  = \"Linear\")\n",
    "plot!(x_interp, interp_qua(x_interp), label  = \"Quadratic\")\n",
    "plot!(x_interp, interp_sl(x_interp), label = \"Slinear\", size = (400, 300))"
   ]
  },
  {
   "cell_type": "markdown",
   "metadata": {},
   "source": [
    "### MATPLOTLIB\n",
    "\n",
    " Matplotlib  é uma biblioteca  Python  para construir gráficos 2D/3D, histogramas, gráficos de contorno, gráficos de barras, diagramas de erro, gráficos de dispersão, etc.  Matplotlib  foi originalmente escrito por John D. Hunter e atualmente é desenvolvido por Michael Droettboom. \"Embora seja escrito principalmente em Python puro, faz uso intenso do NumPy e de outros pacotes para fornecer um bom desempenho, mesmo para grandes matrizes\" (HUNTER, 2017). É interessante utilizá-lo diretamente em algumas ocasiões quando não há recurso adequado para gerar um gráfico específico na versão  PyPlot  para  Julia ."
   ]
  },
  {
   "cell_type": "code",
   "execution_count": 32,
   "metadata": {
    "collapsed": true
   },
   "outputs": [],
   "source": [
    "using PyCall\n",
    "@pyimport matplotlib.pyplot as plt"
   ]
  },
  {
   "cell_type": "code",
   "execution_count": 33,
   "metadata": {
    "collapsed": false
   },
   "outputs": [
    {
     "data": {
      "text/plain": [
       "f2 (generic function with 1 method)"
      ]
     },
     "execution_count": 33,
     "metadata": {},
     "output_type": "execute_result"
    }
   ],
   "source": [
    "x = 1:100\n",
    "f1(x) = sec(x)*x \n",
    "f2(x) = cos(x)*x "
   ]
  },
  {
   "cell_type": "code",
   "execution_count": 35,
   "metadata": {
    "collapsed": false
   },
   "outputs": [
    {
     "name": "stderr",
     "output_type": "stream",
     "text": [
      "QXcbConnection: XCB error: 3 (BadWindow), sequence: 842, resource id: 50333012, major code: 40 (TranslateCoords), minor code: 0\n"
     ]
    }
   ],
   "source": [
    "plt.plot(x, f1.(x), color = \"red\" , linewidth = 2.0, linestyle = \"-.\")\n",
    "plt.plot(x, f2.(x), color = \"blue\", linewidth = 1.0, linestyle = \"-\")\n",
    "plt.show()"
   ]
  },
  {
   "cell_type": "markdown",
   "metadata": {
    "collapsed": true
   },
   "source": [
    "### SYMPY\n",
    "\n",
    "\"SymPy  é uma biblioteca para computação simbólica escrita inteiramente em  Python  e distribuída sob licença de software livre  BSD\"  (LAMY, 2013). Não é prático utilizar o  SymPy  através do  PyCall  tendo em vista que já existe o pacote `SymPy.jl` para  Julia. Dessa forma, este tópico apresentará uma demonstração da possibilidade de usar o  SymPy  via  PyCall ."
   ]
  },
  {
   "cell_type": "code",
   "execution_count": 36,
   "metadata": {
    "collapsed": true
   },
   "outputs": [],
   "source": [
    "using PyCall            \n",
    "@pyimport sympy as sp"
   ]
  },
  {
   "cell_type": "code",
   "execution_count": 37,
   "metadata": {
    "collapsed": false,
    "scrolled": true
   },
   "outputs": [
    {
     "data": {
      "text/plain": [
       "PyObject y"
      ]
     },
     "execution_count": 37,
     "metadata": {},
     "output_type": "execute_result"
    }
   ],
   "source": [
    "x = sp.symbols(\"x\")\n",
    "y = sp.symbols(\"y\")"
   ]
  },
  {
   "cell_type": "code",
   "execution_count": 38,
   "metadata": {
    "collapsed": false,
    "scrolled": true
   },
   "outputs": [
    {
     "data": {
      "text/plain": [
       "PyObject 2*x"
      ]
     },
     "execution_count": 38,
     "metadata": {},
     "output_type": "execute_result"
    }
   ],
   "source": [
    "a = x + x"
   ]
  },
  {
   "cell_type": "markdown",
   "metadata": {},
   "source": [
    "**Raízes de equações e sistemas de equações com `Solve()` e `NSolve()`**"
   ]
  },
  {
   "cell_type": "code",
   "execution_count": 39,
   "metadata": {
    "collapsed": false,
    "scrolled": false
   },
   "outputs": [
    {
     "data": {
      "text/plain": [
       "2-element Array{PyObject,1}:\n",
       " PyObject -2\n",
       " PyObject 2 "
      ]
     },
     "execution_count": 39,
     "metadata": {},
     "output_type": "execute_result"
    }
   ],
   "source": [
    "# Raiz da equação\n",
    "a = sp.solve(x^2 - 4, x)"
   ]
  },
  {
   "cell_type": "markdown",
   "metadata": {},
   "source": [
    "**Exemplo**: Calcular a raiz numérica de $y = x^2 - 4$."
   ]
  },
  {
   "cell_type": "code",
   "execution_count": 41,
   "metadata": {
    "collapsed": false,
    "scrolled": true
   },
   "outputs": [
    {
     "data": {
      "text/plain": [
       "PyObject mpf('2.0')"
      ]
     },
     "execution_count": 41,
     "metadata": {},
     "output_type": "execute_result"
    }
   ],
   "source": [
    "# Raiz numérica\n",
    "sp.nsolve(x^2 - 4, 5)"
   ]
  },
  {
   "cell_type": "markdown",
   "metadata": {},
   "source": [
    "**Exemplo**: Calcular as raízes do sistema:\n",
    "\n",
    "${\\begin{cases}\n",
    "& x^2 - y = 0\\\\ \n",
    "&  2y - x = 0  \n",
    "\\end{cases}}$\n"
   ]
  },
  {
   "cell_type": "code",
   "execution_count": 43,
   "metadata": {
    "collapsed": false,
    "scrolled": false
   },
   "outputs": [
    {
     "data": {
      "text/plain": [
       "2-element Array{Tuple{PyObject,PyObject},1}:\n",
       " (PyObject 0, PyObject 0)    \n",
       " (PyObject 1/2, PyObject 1/4)"
      ]
     },
     "execution_count": 43,
     "metadata": {},
     "output_type": "execute_result"
    }
   ],
   "source": [
    "# Sistema de equações\n",
    "Sol = sp.solve([x^2 - y, y*2 - x], [x, y])"
   ]
  },
  {
   "cell_type": "code",
   "execution_count": 44,
   "metadata": {
    "collapsed": false,
    "scrolled": false
   },
   "outputs": [
    {
     "data": {
      "text/plain": [
       "(0.0, 0.0, 0.5, 0.25)"
      ]
     },
     "execution_count": 44,
     "metadata": {},
     "output_type": "execute_result"
    }
   ],
   "source": [
    "# para converter para o tipo float\n",
    "convert(Float64, Sol[1][1]), \n",
    "convert(Float64, Sol[1][2]), \n",
    "convert(Float64, Sol[2][1]), \n",
    "convert(Float64, Sol[2][2])"
   ]
  },
  {
   "cell_type": "markdown",
   "metadata": {},
   "source": [
    "### COMANDOS PYTHON "
   ]
  },
  {
   "cell_type": "code",
   "execution_count": 45,
   "metadata": {
    "collapsed": false
   },
   "outputs": [
    {
     "name": "stdout",
     "output_type": "stream",
     "text": [
      "2*x\n"
     ]
    }
   ],
   "source": [
    ";python -c 'import sympy as sp; x = sp.symbols(\"x\"); print(x+x)'"
   ]
  },
  {
   "cell_type": "code",
   "execution_count": 46,
   "metadata": {
    "collapsed": false
   },
   "outputs": [
    {
     "name": "stdout",
     "output_type": "stream",
     "text": [
      "2*x\n"
     ]
    }
   ],
   "source": [
    "run(`python -c 'import sympy as sp; x = sp.symbols(\"x\"); print(x+x)'`);"
   ]
  },
  {
   "cell_type": "markdown",
   "metadata": {},
   "source": [
    "#### SCRIPTS PYTHON\n",
    "\n",
    "Julia permite executar scripts Python da seguinte forma:\n",
    "```julia\n",
    ";python -\"opções\" script.py \n",
    "```\n",
    "Sendo `\"opções\"` as opções usadas para fornecer informações extras ou personalizar a execução de um script. \n",
    "\n",
    "Código de um simples script Python.\n",
    "```python\n",
    "# coding=UTF-8        \n",
    "def multiplica(x, y):\n",
    "    return x*y\n",
    "\n",
    "\n",
    "a = 5.0;\n",
    "b = 2.0;\n",
    "resultado = multiplica(a, b);\n",
    "\n",
    "# a virgula utilizada para separar a variável do valor é util para gerar dataframes\n",
    "print(\"a, %d\" % a)\n",
    "print(\"b, %d\" % b)\n",
    "print(\"Resultado, %d\" % resultado);\n",
    "```\n"
   ]
  },
  {
   "cell_type": "code",
   "execution_count": 47,
   "metadata": {
    "collapsed": false,
    "scrolled": true
   },
   "outputs": [
    {
     "name": "stdout",
     "output_type": "stream",
     "text": [
      "a, 5\n",
      "b, 2\n",
      "Resultado, 10\n"
     ]
    }
   ],
   "source": [
    ";python Scripts/script_python.py"
   ]
  },
  {
   "cell_type": "markdown",
   "metadata": {},
   "source": [
    "Para executar um script Python em uma célula Jupyter:"
   ]
  },
  {
   "cell_type": "code",
   "execution_count": 48,
   "metadata": {
    "collapsed": true
   },
   "outputs": [],
   "source": [
    "py\"\"\"      \n",
    "def multiplica(x, y):\n",
    "    return x*y\n",
    "\"\"\""
   ]
  },
  {
   "cell_type": "code",
   "execution_count": 49,
   "metadata": {
    "collapsed": false
   },
   "outputs": [
    {
     "data": {
      "text/plain": [
       "20"
      ]
     },
     "execution_count": 49,
     "metadata": {},
     "output_type": "execute_result"
    }
   ],
   "source": [
    "py\"multiplica(5, 4)\""
   ]
  },
  {
   "cell_type": "markdown",
   "metadata": {},
   "source": [
    "**DataFrames**"
   ]
  },
  {
   "cell_type": "markdown",
   "metadata": {},
   "source": [
    "Os resultados de um script podem escritos em um arquivo csv e gravados em disco de acordo com o comando abaixo. A vírgula utilizada para separar a variável do valor é util para gerar dataframes."
   ]
  },
  {
   "cell_type": "code",
   "execution_count": 50,
   "metadata": {
    "collapsed": false
   },
   "outputs": [
    {
     "name": "stdout",
     "output_type": "stream",
     "text": [
      "a, 5\n",
      "b, 2\n",
      "Resultado, 10\n"
     ]
    }
   ],
   "source": [
    ";python Scripts/script_python.py \">\" ConjDados/resultado_script_py.csv"
   ]
  },
  {
   "cell_type": "code",
   "execution_count": 51,
   "metadata": {
    "collapsed": true
   },
   "outputs": [],
   "source": [
    "run(pipeline(`python Scripts/script_python.py`, \"ConjDados/resultado_script_py.csv\"));"
   ]
  },
  {
   "cell_type": "code",
   "execution_count": 52,
   "metadata": {
    "collapsed": true
   },
   "outputs": [],
   "source": [
    "using CSV"
   ]
  },
  {
   "cell_type": "code",
   "execution_count": 53,
   "metadata": {
    "collapsed": false
   },
   "outputs": [
    {
     "data": {
      "text/html": [
       "<table class=\"data-frame\"><thead><tr><th></th><th>Column1</th><th>Column2</th></tr><tr><th></th><th>String⍰</th><th>Int64⍰</th></tr></thead><tbody><tr><th>1</th><td>a</td><td>5</td></tr><tr><th>2</th><td>b</td><td>2</td></tr><tr><th>3</th><td>Resultado</td><td>10</td></tr></tbody></table>"
      ],
      "text/latex": [
       "\\begin{tabular}{r|cc}\n",
       "\t& Column1 & Column2\\\\\n",
       "\t\\hline\n",
       "\t1 & a & 5 \\\\\n",
       "\t2 & b & 2 \\\\\n",
       "\t3 & Resultado & 10 \\\\\n",
       "\\end{tabular}\n"
      ],
      "text/plain": [
       "3×2 DataFrames.DataFrame\n",
       "│ Row │ Column1   │ Column2 │\n",
       "│     │ \u001b[90mString⍰\u001b[39m   │ \u001b[90mInt64⍰\u001b[39m  │\n",
       "├─────┼───────────┼─────────┤\n",
       "│ 1   │ a         │ 5       │\n",
       "│ 2   │ b         │ 2       │\n",
       "│ 3   │ Resultado │ 10      │"
      ]
     },
     "execution_count": 53,
     "metadata": {},
     "output_type": "execute_result"
    }
   ],
   "source": [
    "# header = false serve para excluir o cabeçalho\n",
    "matriz_script_py = CSV.read(\"ConjDados/resultado_script_py.csv\", header = false)"
   ]
  },
  {
   "cell_type": "code",
   "execution_count": 55,
   "metadata": {
    "collapsed": false,
    "scrolled": true
   },
   "outputs": [
    {
     "data": {
      "text/plain": [
       "3-element Array{Union{Missing, Int64},1}:\n",
       "  5\n",
       "  2\n",
       " 10"
      ]
     },
     "execution_count": 55,
     "metadata": {},
     "output_type": "execute_result"
    }
   ],
   "source": [
    "# para obter somente os elementos da segunda coluna da matriz\n",
    "matriz_script_py.Column2"
   ]
  },
  {
   "cell_type": "markdown",
   "metadata": {
    "collapsed": true
   },
   "source": [
    "## INTERFACE COM C\n",
    "\n",
    "As funções  C  são executadas via `ccall()`, no qual o nome da função  C  e a biblioteca em que ela (a função) está contida são passados como uma tupla no primeiro argumento, seguido pelo tipo de retorno da função, os tipos dos argumentos de função e finalmente os próprios argumentos. \n",
    "Sintaxe:\n",
    "```julia\n",
    "ccall((:funcao_C, biblioteca_C), Return_Tipo, (tipo_arg1, tipo_arg2...), a1, a2...)\n",
    "```\n",
    "Sendo:\n",
    "+ função_C : função que será utilizada da biblioteca_C\n",
    "+ biblioteca_C: biblioteca da linguagem C instalada no computador local\n",
    "+ Return_Tipo: tipo de dado que será retornadao\n",
    "+ tipo_arg1, tipo_arg2...: tipo dos argumentos arg1, arg2 e outros.\n",
    "+ a1, a2...: Variáveis ou valores possíveis."
   ]
  },
  {
   "cell_type": "markdown",
   "metadata": {},
   "source": [
    "Para exemplificar a função `ccall()`, o código abaixo gera um número aleatório do tipo Inteiro 8 bits sem passar nenhum argumento."
   ]
  },
  {
   "cell_type": "code",
   "execution_count": 4,
   "metadata": {
    "collapsed": false
   },
   "outputs": [
    {
     "ename": "ErrorException",
     "evalue": "error compiling top-level scope: could not load library \"libc\"\n/usr/lib/x86_64-linux-gnu/libc.so: invalid ELF header",
     "output_type": "error",
     "traceback": [
      "error compiling top-level scope: could not load library \"libc\"\n/usr/lib/x86_64-linux-gnu/libc.so: invalid ELF header",
      ""
     ]
    }
   ],
   "source": [
    "ccall( (:rand, \"libc\"), Int8, () )"
   ]
  },
  {
   "cell_type": "code",
   "execution_count": 5,
   "metadata": {
    "collapsed": false
   },
   "outputs": [
    {
     "ename": "ErrorException",
     "evalue": "error compiling top-level scope: could not load library \"libm\"\n/usr/lib/x86_64-linux-gnu/libm.so: invalid ELF header",
     "output_type": "error",
     "traceback": [
      "error compiling top-level scope: could not load library \"libm\"\n/usr/lib/x86_64-linux-gnu/libm.so: invalid ELF header",
      ""
     ]
    }
   ],
   "source": [
    "# Potencia \n",
    "ccall((:pow, \"libm\"), Float64, (Float64, Float64), 3.0, 2.0)"
   ]
  },
  {
   "cell_type": "markdown",
   "metadata": {},
   "source": [
    "**Função genérica**\n",
    "\n",
    "Uma forma muito útil é usar uma função genérica para passar argumentos para a função `ccall()`."
   ]
  },
  {
   "cell_type": "code",
   "execution_count": 81,
   "metadata": {
    "collapsed": false
   },
   "outputs": [
    {
     "data": {
      "text/plain": [
       "potencia (generic function with 1 method)"
      ]
     },
     "execution_count": 81,
     "metadata": {},
     "output_type": "execute_result"
    }
   ],
   "source": [
    "potencia(x, n) = ccall((:pow, \"libm\"), Float64, (Float64, Float64), x, n)"
   ]
  },
  {
   "cell_type": "code",
   "execution_count": 82,
   "metadata": {
    "collapsed": false,
    "scrolled": false
   },
   "outputs": [
    {
     "ename": "ErrorException",
     "evalue": "error compiling potencia: could not load library \"libm\"\n/lib64/libm.so: invalid ELF header",
     "output_type": "error",
     "traceback": [
      "error compiling potencia: could not load library \"libm\"\n/lib64/libm.so: invalid ELF header",
      "",
      "Stacktrace:",
      " [1] top-level scope at In[82]:1"
     ]
    }
   ],
   "source": [
    "potencia(5, 2)"
   ]
  },
  {
   "cell_type": "markdown",
   "metadata": {},
   "source": [
    "Vetores"
   ]
  },
  {
   "cell_type": "code",
   "execution_count": 83,
   "metadata": {
    "collapsed": false
   },
   "outputs": [
    {
     "ename": "ErrorException",
     "evalue": "error compiling materialize: could not load library \"libm\"\n/lib64/libm.so: invalid ELF header",
     "output_type": "error",
     "traceback": [
      "error compiling materialize: could not load library \"libm\"\n/lib64/libm.so: invalid ELF header",
      "",
      "Stacktrace:",
      " [1] top-level scope at In[83]:1"
     ]
    }
   ],
   "source": [
    "potencia.([1, 2, 3], 2)"
   ]
  },
  {
   "cell_type": "code",
   "execution_count": 84,
   "metadata": {
    "collapsed": false
   },
   "outputs": [
    {
     "ename": "ErrorException",
     "evalue": "error compiling materialize: could not load library \"libm\"\n/lib64/libm.so: invalid ELF header",
     "output_type": "error",
     "traceback": [
      "error compiling materialize: could not load library \"libm\"\n/lib64/libm.so: invalid ELF header",
      "",
      "Stacktrace:",
      " [1] top-level scope at In[84]:1"
     ]
    }
   ],
   "source": [
    "potencia.([1, 2, 3], [2, 3, 4])"
   ]
  },
  {
   "cell_type": "markdown",
   "metadata": {},
   "source": [
    "**Função a partir de uma biblioteca personalizada**\n",
    "\n",
    "O  GCC  ( GNU Compiler Collection ) é uma distribuição integrada de compiladores para várias linguagens de programação (STALLMAN, 2003). Originalmente escrito somente para a linguagem de programação  C , atualmente possui suporte para as linguagens  C++ ,  Fortran ,  Ada ,  Java ,  Objective-C , entre outras. Além de compilar o código e gerar seu executável, o  GCC  possui também um pré-processador de código, que identifica possíveis erros de programação, permitindo ao programador identificar, tratar e corrigir o erro, além de forçar optmizações."
   ]
  },
  {
   "cell_type": "markdown",
   "metadata": {},
   "source": [
    "Código fonte 'fmultiplica_c.c':\n",
    "\n",
    "```C\n",
    "double multiplica(double x, double y)\n",
    "{\n",
    "return x*y; \n",
    "}\n",
    "\n",
    "```"
   ]
  },
  {
   "cell_type": "markdown",
   "metadata": {},
   "source": [
    "Para compilar a biblioteca use o código abaixo. Sintaxe:\n",
    "```sh\n",
    "gcc  -shared -lm -fPIC -o biblioteca_nome_funcao.so arquivo.c\n",
    "```\n",
    "Sendo:\n",
    "+ -share:\n",
    "+ -lm:\n",
    "+ -fPIC:\n",
    "+ -o:\n",
    "+ arquivo.c: script fonte do código em C.\n",
    "+ biblioteca_nome_funcao.so: nome da biblioteca compilada a partir do script."
   ]
  },
  {
   "cell_type": "code",
   "execution_count": 85,
   "metadata": {
    "collapsed": true
   },
   "outputs": [],
   "source": [
    ";gcc  -shared -lm -fPIC -o bibmultiplica.so fmultiplica_c.c"
   ]
  },
  {
   "cell_type": "markdown",
   "metadata": {},
   "source": [
    "**Para funcionar devemos observar**:\n",
    "\n",
    "- O notebook Jupyter deve estar em execução no mesmo PATH onde a biblioteca `multiplica.so` se encontra;\n",
    "\n",
    "- O PATH para a biblioteca `multiplica.so` deve estar em LD_LIBRARY_PATH;\n",
    "\n",
    "- O PATH para a biblioteca deve ser colocado em Libdl.DL_LOAD_PATH através do comando:\n",
    "\n",
    "```julia\n",
    "    push!(Libdl.DL_LOAD_PATH,\"path_da_biblioteca.so\")\n",
    "```\n",
    "Sendo \"path_da_biblioteca.so\" a localização da biblioteca \"multiplica.so\". Ex: \"/home/jmarcellopereira/NOTEBOOKS_JULIA/...\""
   ]
  },
  {
   "cell_type": "code",
   "execution_count": 86,
   "metadata": {
    "collapsed": false
   },
   "outputs": [
    {
     "ename": "UndefVarError",
     "evalue": "UndefVarError: Libdl not defined",
     "output_type": "error",
     "traceback": [
      "UndefVarError: Libdl not defined",
      "",
      "Stacktrace:",
      " [1] top-level scope at In[86]:1"
     ]
    }
   ],
   "source": [
    "push!(Libdl.DL_LOAD_PATH,\"/media/jmarcellopereira/COISAS/jmarcello/ESTUDOS/COMPUTACAO-CIENTIFICA-NOTEBOOKS/JULIA/git_julia/juliatutorialbr-niveis-6/juliatutorialbr-v5-nivel-2/\")"
   ]
  },
  {
   "cell_type": "code",
   "execution_count": 87,
   "metadata": {
    "collapsed": false
   },
   "outputs": [
    {
     "data": {
      "text/plain": [
       "multiplica (generic function with 1 method)"
      ]
     },
     "execution_count": 87,
     "metadata": {},
     "output_type": "execute_result"
    }
   ],
   "source": [
    "multiplica(x, y) = ccall((:multiplica,\"bibmultiplica\"),Float64,(Float64,Float64), x, y)"
   ]
  },
  {
   "cell_type": "code",
   "execution_count": 88,
   "metadata": {
    "collapsed": false,
    "scrolled": false
   },
   "outputs": [
    {
     "ename": "ErrorException",
     "evalue": "error compiling multiplica: could not load library \"bibmultiplica\"\nbibmultiplica.so: cannot open shared object file: No such file or directory",
     "output_type": "error",
     "traceback": [
      "error compiling multiplica: could not load library \"bibmultiplica\"\nbibmultiplica.so: cannot open shared object file: No such file or directory",
      "",
      "Stacktrace:",
      " [1] top-level scope at In[88]:1"
     ]
    }
   ],
   "source": [
    "multiplica(5, 9)"
   ]
  },
  {
   "cell_type": "markdown",
   "metadata": {},
   "source": [
    "Vetores"
   ]
  },
  {
   "cell_type": "code",
   "execution_count": 89,
   "metadata": {
    "collapsed": false
   },
   "outputs": [
    {
     "ename": "ErrorException",
     "evalue": "error compiling materialize: could not load library \"bibmultiplica\"\nbibmultiplica.so: cannot open shared object file: No such file or directory",
     "output_type": "error",
     "traceback": [
      "error compiling materialize: could not load library \"bibmultiplica\"\nbibmultiplica.so: cannot open shared object file: No such file or directory",
      "",
      "Stacktrace:",
      " [1] top-level scope at In[89]:1"
     ]
    }
   ],
   "source": [
    "multiplica.([1, 2, 3],[4, 5, 6])"
   ]
  },
  {
   "cell_type": "markdown",
   "metadata": {},
   "source": [
    "Uma boa pratica é criar um arquivo  Makefile  para automatizar a compilação do código e assim reduzir a digitação de várias linhas de comando. O binário  make  (/usr/bin/make) interpreta o conteúdo do arquivo  Makefile  e executa as regras definidas compilando para um arquivo executável. O código abaixo é um exemplo de  Makefile  para compilar o código \"fmultiplica_c.c\".\n",
    "\n",
    "```sh\n",
    "############################################################\n",
    "COMPILADOR=gcc \n",
    "\n",
    "C_OPCOES=-c -Wall -lm -fPIC\n",
    "\n",
    "FONTE=fmultiplica_c.c  # arquivo contendo o código da função\n",
    "OBJETO= (FONTE:.c=.o)\n",
    "\n",
    ".c.o:\n",
    "\t (COMPILADOR)  (C_OPCOES)  < -o  @ \n",
    "\n",
    "gerar_biblioteca:  (OBJETO)\n",
    "     (COMPILADOR) -shared -fPIC -o bibmultiplica.so  (OBJETO)\n",
    "\n",
    "apagar:\n",
    "\trm *.o *.so\n",
    "#############################################################\n",
    "```\n",
    "\n",
    "**OBS: Cuidado ao copiar e colar! Podem ficar espaços no início das linhas:**\n",
    "\n",
    "` (COMPILADOR)  (C_OPCOES)  < -o  @  ` \n",
    "\n",
    "` (COMPILADOR) -shared -fPIC -o bibmultiplica.so  (OBJETO)`\n",
    "\n",
    "retire os espaços e complete com TAB."
   ]
  },
  {
   "cell_type": "markdown",
   "metadata": {},
   "source": [
    "Após salvar o arquivo  Makefile  no mesmo diretório onde se encontra o notebook  Jupyter  e o arquivo `script_c.c`. Execute no terminal o comando abaixo para compilar a biblioteca:\n",
    "\n",
    "```sh\n",
    "make gerar_biblioteca\n",
    "\n",
    "```\n",
    "ou em uma célula do  Jupyter  :\n",
    "\n",
    "```julia\n",
    ";make gerar_biblioteca\n",
    "```\n",
    "Para apagar os arquivos gerados após compilação, use: `make apagar`\n"
   ]
  },
  {
   "cell_type": "markdown",
   "metadata": {
    "collapsed": true
   },
   "source": [
    "### SCRIPTS C\n",
    "\n",
    "Código\n",
    "```C\n",
    "#include<stdio.h>\n",
    "\n",
    "int multiplica(float x, float y) \n",
    "{\n",
    "  return(x*y); \n",
    "}\n",
    "  \n",
    "int main(void)\n",
    "{\n",
    "  float a = 5.0;\n",
    "  float b = 2.0;  \n",
    "  float resultado = multiplica(a, b);\n",
    "  \n",
    "// a virgula utilizada para separar a variável do valor é util para gerar dataframes\n",
    "  \n",
    "  printf(\"a,%f \\n\",a );\n",
    "  printf(\"b,%f \\n\",b );\n",
    "  printf(\"a*b,%f \\n\",resultado );\n",
    "    \n",
    "  return 0;\n",
    "}\n",
    "```"
   ]
  },
  {
   "cell_type": "code",
   "execution_count": 58,
   "metadata": {
    "collapsed": true
   },
   "outputs": [],
   "source": [
    ";gcc Scripts/script_c.c -lm -o programa_c"
   ]
  },
  {
   "cell_type": "markdown",
   "metadata": {},
   "source": [
    "A opção `-lm` é importante para o  GCC  incluir a biblioteca `libm` responsável por funções matemáticas como `sqrt()`, `pow()`, etc"
   ]
  },
  {
   "cell_type": "code",
   "execution_count": 59,
   "metadata": {
    "collapsed": false,
    "scrolled": true
   },
   "outputs": [
    {
     "name": "stdout",
     "output_type": "stream",
     "text": [
      "a,5.000000 \n",
      "b,2.000000 \n",
      "a*b,10.000000 \n"
     ]
    }
   ],
   "source": [
    ";./programa_c"
   ]
  },
  {
   "cell_type": "markdown",
   "metadata": {},
   "source": [
    "## INTERFACE COM FORTRAN\n",
    "\n",
    "Fortran"
   ]
  },
  {
   "cell_type": "code",
   "execution_count": 9,
   "metadata": {
    "collapsed": false,
    "scrolled": true
   },
   "outputs": [
    {
     "ename": "ErrorException",
     "evalue": "error compiling top-level scope: could not load library \"libgfortran\"\nlibgfortran.so: cannot open shared object file: No such file or directory",
     "output_type": "error",
     "traceback": [
      "error compiling top-level scope: could not load library \"libgfortran\"\nlibgfortran.so: cannot open shared object file: No such file or directory",
      ""
     ]
    }
   ],
   "source": [
    "ccall((:sqrt, \"libgfortran\"), Float64, (Float64,), 100.0)"
   ]
  },
  {
   "cell_type": "markdown",
   "metadata": {},
   "source": [
    "### SCRIPTS FORTRAN\n",
    "\n",
    "Código\n",
    "\n",
    "```fortran\n",
    "program script_fortran \n",
    "implicit none \n",
    " real a, b, resultado, multiplica\n",
    " a = 5.0\n",
    " b = 2.0     \n",
    " resultado = multiplica(a, b) \n",
    " \n",
    " ! a virgula utilizada para separar a variável do valor é util para gerar dataframes\n",
    " \n",
    " print *,\"a,\", a \n",
    " print *,\"b,\", b \n",
    " print *,\"a*b,\", resultado \n",
    " stop \n",
    "end\n",
    "\n",
    "real function multiplica(x, y) \n",
    "implicit none \n",
    "  real x, y \n",
    "  multiplica = x*y\n",
    "  return \n",
    "end \n",
    "```"
   ]
  },
  {
   "cell_type": "code",
   "execution_count": 61,
   "metadata": {
    "collapsed": false,
    "scrolled": true
   },
   "outputs": [
    {
     "name": "stderr",
     "output_type": "stream",
     "text": [
      "/bin/bash: gfortran: command not found\n"
     ]
    }
   ],
   "source": [
    ";gfortran Scripts/script_fortran.f90 -o programa_fortran "
   ]
  },
  {
   "cell_type": "code",
   "execution_count": 62,
   "metadata": {
    "collapsed": false,
    "scrolled": true
   },
   "outputs": [
    {
     "name": "stderr",
     "output_type": "stream",
     "text": [
      "./programa_fortran: error while loading shared libraries: libgfortran.so.5: cannot open shared object file: No such file or directory\n"
     ]
    }
   ],
   "source": [
    ";./programa_fortran"
   ]
  },
  {
   "cell_type": "markdown",
   "metadata": {},
   "source": [
    "Passando os dados para um arquivo `CSV`."
   ]
  },
  {
   "cell_type": "code",
   "execution_count": 38,
   "metadata": {
    "collapsed": false
   },
   "outputs": [
    {
     "name": "stdout",
     "output_type": "stream",
     "text": [
      " a,   5.00000000    \n",
      " b,   2.00000000    \n",
      " a*b,   10.0000000    \n"
     ]
    }
   ],
   "source": [
    ";./programa_fortran \">\" \"ConjDados/resultado_programa_f90.csv\""
   ]
  },
  {
   "cell_type": "code",
   "execution_count": 68,
   "metadata": {
    "collapsed": false
   },
   "outputs": [],
   "source": [
    "using CSV, DataFrames"
   ]
  },
  {
   "cell_type": "code",
   "execution_count": 97,
   "metadata": {
    "collapsed": false
   },
   "outputs": [
    {
     "data": {
      "text/html": [
       "<table class=\"data-frame\"><thead><tr><th></th><th>Column1</th><th>Column2</th></tr></thead><tbody><tr><th>1</th><td> a</td><td>5.0</td></tr><tr><th>2</th><td> b</td><td>2.0</td></tr><tr><th>3</th><td> a*b</td><td>10.0</td></tr></tbody></table>"
      ],
      "text/plain": [
       "3×2 DataFrame\n",
       "│ Row │ Column1 │ Column2 │\n",
       "├─────┼─────────┼─────────┤\n",
       "│ 1   │  a      │ 5.0     │\n",
       "│ 2   │  b      │ 2.0     │\n",
       "│ 3   │  a*b    │ 10.0    │"
      ]
     },
     "execution_count": 97,
     "metadata": {},
     "output_type": "execute_result"
    }
   ],
   "source": [
    "#header = false serve para excluir o cabeçalho\n",
    "dados_programa_f90 = CSV.read(\"ConjDados/resultado_programa_f90.csv\", header = false  )"
   ]
  },
  {
   "cell_type": "code",
   "execution_count": 98,
   "metadata": {
    "collapsed": false
   },
   "outputs": [
    {
     "data": {
      "text/plain": [
       "3-element Array{Union{Missing, Float64},1}:\n",
       "  5.0\n",
       "  2.0\n",
       " 10.0"
      ]
     },
     "execution_count": 98,
     "metadata": {},
     "output_type": "execute_result"
    }
   ],
   "source": [
    "dados_programa_f90[2]"
   ]
  },
  {
   "cell_type": "markdown",
   "metadata": {},
   "source": [
    "## INTERFACE COM OCTAVE\n",
    "\n",
    "GNU Octave is a high-level language, primarily intended for numerical computations. It is typically used for such problems as solving linear and nonlinear equations, numerical linear algebra, statistical analysis, and for performing other numerical experiments. It may also be used as a batch-oriented language for automated data processing."
   ]
  },
  {
   "cell_type": "code",
   "execution_count": 69,
   "metadata": {
    "collapsed": false
   },
   "outputs": [
    {
     "name": "stdout",
     "output_type": "stream",
     "text": [
      "ans =  2.4142\n"
     ]
    }
   ],
   "source": [
    ";octave-cli --eval \"fzero(@(x) x^2 - 2*x - 1, [0, 5])\""
   ]
  },
  {
   "cell_type": "code",
   "execution_count": 70,
   "metadata": {
    "collapsed": false
   },
   "outputs": [
    {
     "name": "stdout",
     "output_type": "stream",
     "text": [
      "ans =  2.4142\n"
     ]
    },
    {
     "data": {
      "text/plain": [
       "Process(`\u001b[4moctave-cli\u001b[24m \u001b[4m--eval\u001b[24m \u001b[4m'fzero(@(x) x^2 - 2*x - 1, [0, 5])'\u001b[24m`, ProcessExited(0))"
      ]
     },
     "execution_count": 70,
     "metadata": {},
     "output_type": "execute_result"
    }
   ],
   "source": [
    "run(`octave-cli --eval \"fzero(@(x) x^2 - 2*x - 1, [0, 5])\"`)"
   ]
  },
  {
   "cell_type": "markdown",
   "metadata": {},
   "source": [
    "### SCRIPTS OCTAVE\n",
    "\n",
    "```octave\n",
    "% ============Arquivo \"multiplica.m\"===========\n",
    "\n",
    "function R = multiplica(x, y)\n",
    "\tR = x*y;\n",
    "end \n",
    "\n",
    "% ============fim_função========================\n",
    "\n",
    "% ====== Arquivo \"script_octave_matlab.m\" ======\n",
    "\n",
    "a = 5.0;\n",
    "b = 2.0;\n",
    "resultado = multiplica(a, b);\n",
    "\n",
    "% a virgula utilizada para separar a variável do valor é util para gerar dataframes\n",
    "\n",
    "printf(\"a,%f \\n\",a);\n",
    "printf(\"b,%f \\n\",b);\n",
    "printf(\"a*b,%f \\n\",resultado);\n",
    "\n",
    "% ============fim_script========================\n",
    "```"
   ]
  },
  {
   "cell_type": "code",
   "execution_count": 73,
   "metadata": {
    "collapsed": false
   },
   "outputs": [
    {
     "name": "stderr",
     "output_type": "stream",
     "text": [
      "error: 'multiplica' undefined near line 3 column 13\n",
      "error: called from\n",
      "    Scripts/script_octave.m at line 3 column 11\n"
     ]
    }
   ],
   "source": [
    ";octave-cli Scripts/script_octave.m"
   ]
  },
  {
   "cell_type": "markdown",
   "metadata": {
    "collapsed": true
   },
   "source": [
    "## INTERFACE COM R\n",
    "\n"
   ]
  },
  {
   "cell_type": "markdown",
   "metadata": {},
   "source": [
    "**RCALL** \n",
    "\n",
    "O pacote `RCall.jl` é uma forma de estabelecer comunicação entre Julia e $R$ de tal forma que uma instância de $R$ seja incorporada em Julia. Assim, é possível explorar as vantagens de ambos as linguagens. Pkg.add(\"RCall\")\n",
    "\n",
    "|                                  |                       Comandos                    |\n",
    "|:---------------------------------|:--------------------------------------------------|\n",
    "| Execute uma declaração em R      | `reval(plot(rnorm(10)))`                          |\n",
    "| Criar uma variável               | `Rvar <- 123*321`                                 |\n",
    "| Criar um objeto                  | `r_X = RObject([1 2; 4 5; 7 8])`                  |\n",
    "| Salvar uma função                | `R_plot = Rplot`                                  |\n",
    "| Carregar uma biblioteca          | `@rlibrary(biblioteca)` or `Rlibrary(biblioteca)` |\n",
    "| Usar uma biblioteca carregada    | `Rmap(county)`                                    |\n",
    "| Carregar uma variável no R       | `@rput X`                                         |\n",
    "| Colocar uma variável R em Julia  | `@rget Y`                                         |\n",
    "\n"
   ]
  },
  {
   "cell_type": "code",
   "execution_count": 20,
   "metadata": {
    "collapsed": false
   },
   "outputs": [
    {
     "name": "stdout",
     "output_type": "stream",
     "text": [
      "\u001b[32m\u001b[1m  Building\u001b[22m\u001b[39m CodecZlib → `~/.julia/packages/CodecZlib/DAjXH/deps/build.log`\n",
      "\u001b[32m\u001b[1m  Building\u001b[22m\u001b[39m Conda ────→ `~/.julia/packages/Conda/uQitS/deps/build.log`\n",
      "\u001b[32m\u001b[1m  Building\u001b[22m\u001b[39m RCall ────→ `~/.julia/packages/RCall/RPlFw/deps/build.log`\n"
     ]
    },
    {
     "name": "stderr",
     "output_type": "stream",
     "text": [
      "┌ Error: Error building `RCall`: \n",
      "│ [ Info: R library /usr/lib/R/lib/libR.so appears to be too old. RCall.jl requires R 3.4.0 or later.\n",
      "│ ERROR: LoadError: Fail to use R at /usr/lib/R.\n",
      "│ Stacktrace:\n",
      "│  [1] error(::String) at ./error.jl:33\n",
      "│  [2] top-level scope at /home/jmarcellopereira/.julia/packages/RCall/RPlFw/deps/build.jl:23\n",
      "│  [3] include at ./boot.jl:317 [inlined]\n",
      "│  [4] include_relative(::Module, ::String) at ./loading.jl:1044\n",
      "│  [5] include(::Module, ::String) at ./sysimg.jl:29\n",
      "│  [6] include(::String) at ./client.jl:392\n",
      "│  [7] top-level scope at none:0\n",
      "│ in expression starting at /home/jmarcellopereira/.julia/packages/RCall/RPlFw/deps/build.jl:10\n",
      "└ @ Pkg.Operations /buildworker/worker/package_linux64/build/usr/share/julia/stdlib/v1.0/Pkg/src/Operations.jl:1097\n"
     ]
    }
   ],
   "source": [
    "using Pkg\n",
    "Pkg.build(\"RCall\")"
   ]
  },
  {
   "cell_type": "code",
   "execution_count": 19,
   "metadata": {
    "collapsed": false,
    "scrolled": false
   },
   "outputs": [
    {
     "name": "stderr",
     "output_type": "stream",
     "text": [
      "┌ Info: Precompiling RCall [6f49c342-dc21-5d91-9882-a32aef131414]\n",
      "└ @ Base loading.jl:1192\n",
      "ERROR: LoadError: RCall not properly installed. Please run Pkg.build(\"RCall\")\n",
      "Stacktrace:\n",
      " [1] error(::String) at ./error.jl:33\n",
      " [2] top-level scope at /home/jmarcellopereira/.julia/packages/RCall/RPlFw/src/RCall.jl:34\n",
      " [3] include at ./boot.jl:317 [inlined]\n",
      " [4] include_relative(::Module, ::String) at ./loading.jl:1044\n",
      " [5] include(::Module, ::String) at ./sysimg.jl:29\n",
      " [6] top-level scope at none:2\n",
      " [7] eval at ./boot.jl:319 [inlined]\n",
      " [8] eval(::Expr) at ./client.jl:393\n",
      " [9] top-level scope at ./none:3\n",
      "in expression starting at /home/jmarcellopereira/.julia/packages/RCall/RPlFw/src/RCall.jl:31\n"
     ]
    },
    {
     "ename": "ErrorException",
     "evalue": "Failed to precompile RCall [6f49c342-dc21-5d91-9882-a32aef131414] to /home/jmarcellopereira/.julia/compiled/v1.0/RCall/8GFyb.ji.",
     "output_type": "error",
     "traceback": [
      "Failed to precompile RCall [6f49c342-dc21-5d91-9882-a32aef131414] to /home/jmarcellopereira/.julia/compiled/v1.0/RCall/8GFyb.ji.",
      "",
      "Stacktrace:",
      " [1] error(::String) at ./error.jl:33",
      " [2] macro expansion at ./logging.jl:311 [inlined]",
      " [3] compilecache(::Base.PkgId, ::String) at ./loading.jl:1190",
      " [4] macro expansion at ./logging.jl:309 [inlined]",
      " [5] _require(::Base.PkgId) at ./loading.jl:947",
      " [6] require(::Base.PkgId) at ./loading.jl:858",
      " [7] macro expansion at ./logging.jl:309 [inlined]",
      " [8] require(::Module, ::Symbol) at ./loading.jl:840",
      " [9] top-level scope at In[19]:1"
     ]
    }
   ],
   "source": [
    "using CSV, RCall, DataFrames"
   ]
  },
  {
   "cell_type": "code",
   "execution_count": 11,
   "metadata": {
    "collapsed": false,
    "scrolled": false
   },
   "outputs": [
    {
     "data": {
      "text/html": [
       "<table class=\"data-frame\"><thead><tr><th></th><th>x</th><th>y</th></tr><tr><th></th><th>Float64⍰</th><th>Float64⍰</th></tr></thead><tbody><tr><th>1</th><td>0.0</td><td>-0.18344</td></tr><tr><th>2</th><td>0.2</td><td>-0.131101</td></tr><tr><th>3</th><td>0.4</td><td>0.0268876</td></tr><tr><th>4</th><td>0.8</td><td>0.110533</td></tr><tr><th>5</th><td>1.0</td><td>0.253945</td></tr><tr><th>6</th><td>1.2</td><td>0.25719</td></tr><tr><th>7</th><td>1.4</td><td>0.531889</td></tr><tr><th>8</th><td>1.6</td><td>0.579048</td></tr><tr><th>9</th><td>2.0</td><td>0.935181</td></tr><tr><th>10</th><td>2.2</td><td>0.9166</td></tr><tr><th>11</th><td>2.6</td><td>1.13329</td></tr><tr><th>12</th><td>2.8</td><td>1.26893</td></tr><tr><th>13</th><td>3.0</td><td>1.10203</td></tr><tr><th>14</th><td>3.4</td><td>1.13392</td></tr></tbody></table>"
      ],
      "text/latex": [
       "\\begin{tabular}{r|cc}\n",
       "\t& x & y\\\\\n",
       "\t\\hline\n",
       "\t1 & 0.0 & -0.18344 \\\\\n",
       "\t2 & 0.2 & -0.131101 \\\\\n",
       "\t3 & 0.4 & 0.0268876 \\\\\n",
       "\t4 & 0.8 & 0.110533 \\\\\n",
       "\t5 & 1.0 & 0.253945 \\\\\n",
       "\t6 & 1.2 & 0.25719 \\\\\n",
       "\t7 & 1.4 & 0.531889 \\\\\n",
       "\t8 & 1.6 & 0.579048 \\\\\n",
       "\t9 & 2.0 & 0.935181 \\\\\n",
       "\t10 & 2.2 & 0.9166 \\\\\n",
       "\t11 & 2.6 & 1.13329 \\\\\n",
       "\t12 & 2.8 & 1.26893 \\\\\n",
       "\t13 & 3.0 & 1.10203 \\\\\n",
       "\t14 & 3.4 & 1.13392 \\\\\n",
       "\\end{tabular}\n"
      ],
      "text/plain": [
       "14×2 DataFrames.DataFrame\n",
       "│ Row │ x        │ y         │\n",
       "│     │ \u001b[90mFloat64⍰\u001b[39m │ \u001b[90mFloat64⍰\u001b[39m  │\n",
       "├─────┼──────────┼───────────┤\n",
       "│ 1   │ 0.0      │ -0.18344  │\n",
       "│ 2   │ 0.2      │ -0.131101 │\n",
       "│ 3   │ 0.4      │ 0.0268876 │\n",
       "│ 4   │ 0.8      │ 0.110533  │\n",
       "│ 5   │ 1.0      │ 0.253945  │\n",
       "│ 6   │ 1.2      │ 0.25719   │\n",
       "│ 7   │ 1.4      │ 0.531889  │\n",
       "│ 8   │ 1.6      │ 0.579048  │\n",
       "│ 9   │ 2.0      │ 0.935181  │\n",
       "│ 10  │ 2.2      │ 0.9166    │\n",
       "│ 11  │ 2.6      │ 1.13329   │\n",
       "│ 12  │ 2.8      │ 1.26893   │\n",
       "│ 13  │ 3.0      │ 1.10203   │\n",
       "│ 14  │ 3.4      │ 1.13392   │"
      ]
     },
     "execution_count": 11,
     "metadata": {},
     "output_type": "execute_result"
    }
   ],
   "source": [
    "tabela = CSV.read(\"ConjDados/dados_reta.csv\")"
   ]
  },
  {
   "cell_type": "code",
   "execution_count": 12,
   "metadata": {
    "collapsed": true
   },
   "outputs": [],
   "source": [
    "x = tabela[:x]\n",
    "y = tabela[:y];"
   ]
  },
  {
   "cell_type": "markdown",
   "metadata": {},
   "source": [
    "As variáveis \"x\" e \"y\" pertencem à linguagem Julia. Para passar essas variáveis para R, deve ser usado o macro `@rput nome_variavel`."
   ]
  },
  {
   "cell_type": "code",
   "execution_count": 13,
   "metadata": {
    "collapsed": false
   },
   "outputs": [
    {
     "ename": "LoadError",
     "evalue": "UndefVarError: @rput not defined",
     "output_type": "error",
     "traceback": [
      "UndefVarError: @rput not defined",
      ""
     ]
    }
   ],
   "source": [
    "@rput x\n",
    "@rput y;"
   ]
  },
  {
   "cell_type": "code",
   "execution_count": 14,
   "metadata": {
    "collapsed": false,
    "scrolled": false
   },
   "outputs": [
    {
     "ename": "LoadError",
     "evalue": "UndefVarError: @R_str not defined",
     "output_type": "error",
     "traceback": [
      "UndefVarError: @R_str not defined",
      ""
     ]
    }
   ],
   "source": [
    "# Gráfico com o R\n",
    "R\"plot(x, y)\""
   ]
  },
  {
   "cell_type": "code",
   "execution_count": 67,
   "metadata": {
    "collapsed": false,
    "scrolled": true
   },
   "outputs": [
    {
     "data": {
      "text/plain": [
       "RObject{VecSxp}\n",
       "\n",
       "Call:\n",
       "lm(formula = y ~ x)\n",
       "\n",
       "Residuals:\n",
       "      Min        1Q    Median        3Q       Max \n",
       "-0.254223 -0.073119  0.005463  0.076230  0.190989 \n",
       "\n",
       "Coefficients:\n",
       "            Estimate Std. Error t value Pr(>|t|)    \n",
       "(Intercept) -0.17573    0.06089  -2.886   0.0137 *  \n",
       "x            0.45996    0.03166  14.530 5.59e-09 ***\n",
       "---\n",
       "Signif. codes:  0 ‘***’ 0.001 ‘**’ 0.01 ‘*’ 0.05 ‘.’ 0.1 ‘ ’ 1\n",
       "\n",
       "Residual standard error: 0.1239 on 12 degrees of freedom\n",
       "Multiple R-squared:  0.9462,\tAdjusted R-squared:  0.9417 \n",
       "F-statistic: 211.1 on 1 and 12 DF,  p-value: 5.591e-09\n",
       "\n"
      ]
     },
     "execution_count": 67,
     "metadata": {},
     "output_type": "execute_result"
    }
   ],
   "source": [
    "# Fit linear com o R\n",
    "R\"reta <- lm(y ~ x)\"\n",
    "R\"summary(reta)\""
   ]
  },
  {
   "cell_type": "code",
   "execution_count": 105,
   "metadata": {
    "collapsed": false
   },
   "outputs": [
    {
     "data": {
      "image/png": "[encoded data removed]"
     },
     "metadata": {},
     "output_type": "display_data"
    },
    {
     "data": {
      "text/plain": [
       "RObject{NilSxp}\n",
       "NULL\n"
      ]
     },
     "execution_count": 105,
     "metadata": {},
     "output_type": "execute_result"
    }
   ],
   "source": [
    "# Gráfico com reta\n",
    "R\"plot(x, y, xlab ='x', ylab='y', col = 'red', main='Dados Reta')\"\n",
    "R\"abline(reta)\""
   ]
  },
  {
   "cell_type": "markdown",
   "metadata": {},
   "source": [
    "### LINHA DE COMANDO\n",
    "\n",
    "É possível executar comandos, funções e scripts R através do REPL ou célula do Jupyter. Para executar um comando ou função use:\n",
    "\n",
    "```julia\n",
    ";Rscript -e \"comando/função\"\n",
    "```\n",
    "Ou\n",
    "```julia\n",
    "run(`Rscript -e \"comando/função\"`);\n",
    "```"
   ]
  },
  {
   "cell_type": "code",
   "execution_count": 44,
   "metadata": {
    "collapsed": false
   },
   "outputs": [
    {
     "name": "stdout",
     "output_type": "stream",
     "text": [
      "2 * x + 1\n"
     ]
    }
   ],
   "source": [
    "# derivada\n",
    "run(`Rscript -e \"D(expression(x^2 + x), 'x')\"`);"
   ]
  },
  {
   "cell_type": "code",
   "execution_count": 68,
   "metadata": {
    "collapsed": false,
    "scrolled": true
   },
   "outputs": [
    {
     "name": "stdout",
     "output_type": "stream",
     "text": [
      "2 * x + 1\n"
     ]
    }
   ],
   "source": [
    ";Rscript -e \"D(expression(x^2 + x), 'x')\""
   ]
  },
  {
   "cell_type": "markdown",
   "metadata": {
    "collapsed": true
   },
   "source": [
    "#### SCRIPTS R\n",
    "Sintaxe: \n",
    "```julia\n",
    ";Rscript \"diretório_script/script.r\"\n",
    "```\n",
    "Ou \n",
    "```julia\n",
    "run(`Rscript \"diretório_script/script.r\"`)\n",
    "```\n",
    "\n",
    "```R\n",
    "mult <- function(a,b) {\n",
    "  a*b\n",
    "}\n",
    "a = 5.0\n",
    "b = 2.0\n",
    "resultado = mult(a,b)\n",
    "\n",
    "# a virgula utilizada para separar a variável do valor é util para gerar dataframes\n",
    "\n",
    "sprintf(\"a,%f\", a)\n",
    "sprintf(\"b,%f\", b)\n",
    "sprintf(\"resultado,%f\",resultado)\n",
    "\n",
    "```"
   ]
  },
  {
   "cell_type": "code",
   "execution_count": 69,
   "metadata": {
    "collapsed": false,
    "scrolled": true
   },
   "outputs": [
    {
     "name": "stdout",
     "output_type": "stream",
     "text": [
      "[1] \"a,5.000000\"\n",
      "[1] \"b,2.000000\"\n",
      "[1] \"a*b,10.000000\"\n"
     ]
    }
   ],
   "source": [
    ";Rscript \"Scripts/script_R.r\""
   ]
  },
  {
   "cell_type": "markdown",
   "metadata": {},
   "source": [
    "Para executar um script Python em uma célula Jupyter:"
   ]
  },
  {
   "cell_type": "code",
   "execution_count": 72,
   "metadata": {
    "collapsed": false
   },
   "outputs": [
    {
     "ename": "RCall.REvalError",
     "evalue": "REvalError: Error in mult(a, b) : object 'a' not found",
     "output_type": "error",
     "traceback": [
      "REvalError: Error in mult(a, b) : object 'a' not found",
      "",
      "Stacktrace:",
      " [1] macro expansion at ./logging.jl:307 [inlined]",
      " [2] #handle_eval_stderr#41(::Bool, ::Function) at /home/jmarcellopereira/.julia/packages/RCall/Q4n8R/src/io.jl:110",
      " [3] #handle_eval_stderr at ./none:0 [inlined]",
      " [4] reval_p(::Ptr{LangSxp}, ::Ptr{EnvSxp}) at /home/jmarcellopereira/.julia/packages/RCall/Q4n8R/src/eval.jl:99",
      " [5] reval_p(::Ptr{RCall.ExprSxp}, ::Ptr{EnvSxp}) at /home/jmarcellopereira/.julia/packages/RCall/Q4n8R/src/eval.jl:115",
      " [6] reval(::String, ::RObject{EnvSxp}) at /home/jmarcellopereira/.julia/packages/RCall/Q4n8R/src/eval.jl:132",
      " [7] top-level scope at /home/jmarcellopereira/.julia/packages/RCall/Q4n8R/src/macros.jl:71",
      " [8] top-level scope at In[72]:1"
     ]
    }
   ],
   "source": [
    "R\"\"\"\n",
    "mult <- function(a, b) {\n",
    "  a*b\n",
    "}\n",
    "\n",
    "resultado = mult(a, b)\n",
    "\"\"\""
   ]
  },
  {
   "cell_type": "code",
   "execution_count": 75,
   "metadata": {
    "collapsed": false
   },
   "outputs": [
    {
     "data": {
      "text/plain": [
       "RObject{RealSxp}\n",
       "[1] 15\n"
      ]
     },
     "execution_count": 75,
     "metadata": {},
     "output_type": "execute_result"
    }
   ],
   "source": [
    "R\"mult(5, 3)\""
   ]
  },
  {
   "cell_type": "markdown",
   "metadata": {},
   "source": [
    "## INTERFACE COM MAXIMA\n",
    "\n",
    "Maxima é um CAS, sistema de computação algébrica, escrito em Common Lisp. \"É um sistema de manipulação de expressões simbólicas e numéricas, incluindo diferenciação, integração, desenvolvimentos em séries de Taylor, transformações de Laplace, equações diferenciais ordinárias, sistemas de equações lineares e vetores, matrizes e tensores\" (CAMPUZANO, 2016).  Maxima  produz resultados de alta precisão usando frações exatas, números inteiros de precisão arbitrária e números de ponto flutuante com precisão variável. Para utilizar o Maxima é necessário instalar o  software  no computador (http://maxima.sourceforge.net/pt/download.html) e o pacote `maxima.jl`. Para instalar use:\n",
    "```julia\n",
    "using Pkg\n",
    "Pkg.add(\"Maxima\")\n",
    "```\n",
    "Sintaxe básica:\n",
    "```julia\n",
    "mcall(\"comando_maxima\")\n",
    "```\n",
    "O resultado do comando é do tipo `string`"
   ]
  },
  {
   "cell_type": "code",
   "execution_count": null,
   "metadata": {
    "collapsed": false,
    "scrolled": false
   },
   "outputs": [],
   "source": [
    "using Maxima"
   ]
  },
  {
   "cell_type": "markdown",
   "metadata": {},
   "source": [
    "**Integração**\n",
    "\n",
    "Sintaxe:\n",
    "```julia\n",
    "mcall(\"integrate(expressão_variável, variável)\")\n",
    "```"
   ]
  },
  {
   "cell_type": "code",
   "execution_count": 77,
   "metadata": {
    "collapsed": false,
    "scrolled": true
   },
   "outputs": [
    {
     "data": {
      "text/plain": [
       "\"cos(x)^3/3-cos(x)\""
      ]
     },
     "execution_count": 77,
     "metadata": {},
     "output_type": "execute_result"
    }
   ],
   "source": [
    "# resultado do tipo string\n",
    "int_m = mcall(\"integrate(sin(x)^3, x)\")"
   ]
  },
  {
   "cell_type": "code",
   "execution_count": 78,
   "metadata": {
    "collapsed": false
   },
   "outputs": [
    {
     "data": {
      "text/plain": [
       "f (generic function with 1 method)"
      ]
     },
     "execution_count": 78,
     "metadata": {},
     "output_type": "execute_result"
    }
   ],
   "source": [
    "# transformando o resultado em uma função\n",
    "@eval f(x) =  $(Meta.parse(int_m))"
   ]
  },
  {
   "cell_type": "code",
   "execution_count": 79,
   "metadata": {
    "collapsed": false
   },
   "outputs": [
    {
     "data": {
      "text/plain": [
       "-6.123233995736766e-17"
      ]
     },
     "execution_count": 79,
     "metadata": {},
     "output_type": "execute_result"
    }
   ],
   "source": [
    "f(pi/2)"
   ]
  },
  {
   "cell_type": "markdown",
   "metadata": {},
   "source": [
    "**Gráficos 2D/3D**\n",
    "\n",
    "```julia\n",
    "mcall(\"plot2d(expressão_variável, [variável, a, b])\")\n",
    "mcall(\"plot2d([expressão_variável, expressão_variável], [variável, a, b])\")\n",
    "\n",
    "mcall(\"plot3d(expressão_variáveis, [variável_1, a, b], [variável_2, a, b])\")\n",
    "```\n",
    "sendo \"a\" e \"b\" o intervalo."
   ]
  },
  {
   "cell_type": "code",
   "execution_count": 80,
   "metadata": {
    "collapsed": false,
    "scrolled": true
   },
   "outputs": [
    {
     "data": {
      "text/plain": [
       "\"plot2d:expressionevaluatestonon-numericvaluesomewhereinplottingrange.[\\\"/tmp/maxout5565.gnuplot_pipes\\\"]\""
      ]
     },
     "execution_count": 80,
     "metadata": {},
     "output_type": "execute_result"
    }
   ],
   "source": [
    "# gráfico 2d\n",
    "mcall(\"plot2d(exp(x)*log(x), [x, 0, 2])\")"
   ]
  },
  {
   "cell_type": "markdown",
   "metadata": {},
   "source": [
    "<img src=\"Figuras/maxima-2d.png\" align=\"center\" width=\"500\">"
   ]
  },
  {
   "cell_type": "code",
   "execution_count": 81,
   "metadata": {
    "collapsed": false
   },
   "outputs": [
    {
     "data": {
      "text/plain": [
       "\"[\\\"/tmp/maxout5565.gnuplot_pipes\\\"]\""
      ]
     },
     "execution_count": 81,
     "metadata": {},
     "output_type": "execute_result"
    }
   ],
   "source": [
    "#gráfico 3d\n",
    "mcall(\"plot3d(x^2 + y^2, [x, -10, 10], [y, -10, 10])\")"
   ]
  },
  {
   "cell_type": "markdown",
   "metadata": {},
   "source": [
    "<img src=\"Figuras/maxima-3d.png\" align=\"center\" width=\"500\">"
   ]
  },
  {
   "cell_type": "markdown",
   "metadata": {},
   "source": [
    "**Operações Algébricas**"
   ]
  },
  {
   "cell_type": "code",
   "execution_count": 82,
   "metadata": {
    "collapsed": false,
    "scrolled": true
   },
   "outputs": [
    {
     "data": {
      "text/plain": [
       "\"(17*f^2)/12+(7*f)/10\""
      ]
     },
     "execution_count": 82,
     "metadata": {},
     "output_type": "execute_result"
    }
   ],
   "source": [
    "# soma algébrica\n",
    "mcall(\"1*f/2 + 2*f^2/3 + 3*f^2/4 + f/5\")"
   ]
  },
  {
   "cell_type": "code",
   "execution_count": 83,
   "metadata": {
    "collapsed": false,
    "scrolled": true
   },
   "outputs": [
    {
     "data": {
      "text/plain": [
       "\"(f*(85*f+42))/60\""
      ]
     },
     "execution_count": 83,
     "metadata": {},
     "output_type": "execute_result"
    }
   ],
   "source": [
    "# simplicação\n",
    "mcall(\"factor(1*f/2 + 2*f^2/3 + 3*f^2/4 + f/5)\")"
   ]
  },
  {
   "cell_type": "code",
   "execution_count": 84,
   "metadata": {
    "collapsed": false,
    "scrolled": false
   },
   "outputs": [
    {
     "data": {
      "text/plain": [
       "\"log(x+1)^(a/2)\""
      ]
     },
     "execution_count": 84,
     "metadata": {},
     "output_type": "execute_result"
    }
   ],
   "source": [
    "# simplificação para expressões com radicais, potências, exponenciais ou logaritmos\n",
    "mcall(\"radcan((log(x + x^2) - log(x))^a/log(1 + x)^(a/2))\")"
   ]
  },
  {
   "cell_type": "markdown",
   "metadata": {},
   "source": [
    "### PACOTES ADICIONAIS DO MÁXIMA\n",
    "\n",
    " Maxima  possui, além dos pacotes da biblioteca padrão, pacotes para funções específicas. Alguns desses pacotes são: diag, distrib, draw, dynamics, finance, fractals, functs, graphs, grobner, impdiff, lapack, linearalgebra, lsquares, mnewton, orthopoly, plotdf, stats, unit, entre outros. Para usar um pacote adicional use:\n",
    "```julia\n",
    "mcall(\"load(nome_pacote)\")\n",
    "```"
   ]
  },
  {
   "cell_type": "code",
   "execution_count": 85,
   "metadata": {
    "collapsed": false,
    "scrolled": true
   },
   "outputs": [
    {
     "data": {
      "text/plain": [
       "\"\\\"/usr/share/maxima/5.41.0/share/mnewton/mnewton.mac\\\"\""
      ]
     },
     "execution_count": 85,
     "metadata": {},
     "output_type": "execute_result"
    }
   ],
   "source": [
    "# Pacote para resolver equações e sistemas de equações pelo método de Newton\n",
    "mcall(\"load(mnewton)\")"
   ]
  },
  {
   "cell_type": "code",
   "execution_count": 86,
   "metadata": {
    "collapsed": false,
    "scrolled": false
   },
   "outputs": [
    {
     "data": {
      "text/plain": [
       "\"[[x=0.3651483716701107,y=0.2666666666666667]]\""
      ]
     },
     "execution_count": 86,
     "metadata": {},
     "output_type": "execute_result"
    }
   ],
   "source": [
    "# sistema de equações\n",
    "sol_sis = mcall(\"mnewton([x*y - 2*x^3, -x^2 + 8*y - 2], [x, y], [5, 5])\")"
   ]
  },
  {
   "cell_type": "markdown",
   "metadata": {},
   "source": [
    "### LINHA DE COMANDO\n",
    "\n",
    "É possível executar comandos, funções e scripts Maxima através do REPL ou célula Jupyter. Para executar um comando ou função use:\n",
    "\n",
    "```julia\n",
    ";maxima --batch-strung=\"comando/função;\"\n",
    "```\n",
    "Ou\n",
    "```julia\n",
    "run(`maxima --batch-string=\"comando/função;\"`);\n",
    "```"
   ]
  },
  {
   "cell_type": "code",
   "execution_count": 87,
   "metadata": {
    "collapsed": false,
    "scrolled": true
   },
   "outputs": [
    {
     "name": "stdout",
     "output_type": "stream",
     "text": [
      "Maxima 5.41.0 http://maxima.sourceforge.net\n",
      "using Lisp SBCL 1.4.2-1.fc28\n",
      "Distributed under the GNU Public License. See the file COPYING.\n",
      "Dedicated to the memory of William Schelter.\n",
      "The function bug_report() provides bug reporting information.\n",
      "(%i1) diff(sin(x),x)\n",
      "(%o1)                               cos(x)\n"
     ]
    }
   ],
   "source": [
    ";maxima --batch-string=\"diff(sin(x),x);\""
   ]
  },
  {
   "cell_type": "code",
   "execution_count": 88,
   "metadata": {
    "collapsed": false
   },
   "outputs": [
    {
     "name": "stdout",
     "output_type": "stream",
     "text": [
      "Maxima 5.41.0 http://maxima.sourceforge.net\n",
      "using Lisp SBCL 1.4.2-1.fc28\n",
      "Distributed under the GNU Public License. See the file COPYING.\n",
      "Dedicated to the memory of William Schelter.\n",
      "The function bug_report() provides bug reporting information.\n",
      "(%i1) integrate(sin(x)*x,x)\n",
      "(%o1)                          sin(x) - x cos(x)\n"
     ]
    }
   ],
   "source": [
    "run(`maxima --batch-string=\"integrate(sin(x)*x,x);\"`);"
   ]
  },
  {
   "cell_type": "markdown",
   "metadata": {},
   "source": [
    "#### SCRIPTS MAXIMA \n",
    "\n",
    "Sintaxe: \n",
    "```julia\n",
    ";maxima \"-b\" \"diretório_script/script.mac\"\n",
    "```\n",
    "Ou \n",
    "```julia\n",
    "run(`maxima \"-b\" \"diretório_script/script.mac\"`)\n",
    "```\n",
    "\n",
    "Código:\n",
    "\n",
    "```lisp\n",
    "/* início script */\n",
    "\n",
    "f(x, y):= x*y;\n",
    "\n",
    "a: 5;\n",
    "b: 2;\n",
    "\n",
    "f(a,b);\n",
    "\n",
    "/* fim script */\n",
    "```"
   ]
  },
  {
   "cell_type": "code",
   "execution_count": 49,
   "metadata": {
    "collapsed": false,
    "scrolled": true
   },
   "outputs": [
    {
     "name": "stdout",
     "output_type": "stream",
     "text": [
      "Maxima 5.41.0 http://maxima.sourceforge.net\n",
      "using Lisp SBCL 1.4.2-1.fc28\n",
      "Distributed under the GNU Public License. See the file COPYING.\n",
      "Dedicated to the memory of William Schelter.\n",
      "The function bug_report() provides bug reporting information.\n",
      "(%i1) batch(\"Scripts/script_maxima.mac\")\n",
      "\n",
      "read and interpret file: /run/media/jmarcellopereira/COISAS/jmarcello/ESTUDOS/COMPUTACAO-CIENTIFICA-NOTEBOOKS/JULIA/git_julia/julia-tutorial-niveis-6/juliatutorialbr-v6-nivel-2/Scripts/script_maxima.mac\n",
      "(%i2) f(x,y):=x*y\n",
      "(%o2)                           f(x, y) := x y\n",
      "(%i3) a:5\n",
      "(%o3)                                  5\n",
      "(%i4) b:2\n",
      "(%o4)                                  2\n",
      "(%i5) Resultado:f(a,b)\n",
      "(%o5)                                 10\n",
      "(%o6) /run/media/jmarcellopereira/COISAS/jmarcello/ESTUDOS/COMPUTACAO-CIENTIFI\\\n",
      "CA-NOTEBOOKS/JULIA/git_julia/julia-tutorial-niveis-6/juliatutorialbr-v6-nivel-\\\n",
      "2/Scripts/script_maxima.mac\n"
     ]
    }
   ],
   "source": [
    ";maxima -b \"Scripts/script_maxima.mac\""
   ]
  },
  {
   "cell_type": "code",
   "execution_count": 50,
   "metadata": {
    "collapsed": false,
    "scrolled": true
   },
   "outputs": [
    {
     "name": "stdout",
     "output_type": "stream",
     "text": [
      "Maxima 5.41.0 http://maxima.sourceforge.net\n",
      "using Lisp SBCL 1.4.2-1.fc28\n",
      "Distributed under the GNU Public License. See the file COPYING.\n",
      "Dedicated to the memory of William Schelter.\n",
      "The function bug_report() provides bug reporting information.\n",
      "(%i1) batch(\"Scripts/script_maxima.mac\")\n",
      "\n",
      "read and interpret file: /run/media/jmarcellopereira/COISAS/jmarcello/ESTUDOS/COMPUTACAO-CIENTIFICA-NOTEBOOKS/JULIA/git_julia/julia-tutorial-niveis-6/juliatutorialbr-v6-nivel-2/Scripts/script_maxima.mac\n",
      "(%i2) f(x,y):=x*y\n",
      "(%o2)                           f(x, y) := x y\n",
      "(%i3) a:5\n",
      "(%o3)                                  5\n",
      "(%i4) b:2\n",
      "(%o4)                                  2\n",
      "(%i5) Resultado:f(a,b)\n",
      "(%o5)                                 10\n",
      "(%o6) /run/media/jmarcellopereira/COISAS/jmarcello/ESTUDOS/COMPUTACAO-CIENTIFI\\\n",
      "CA-NOTEBOOKS/JULIA/git_julia/julia-tutorial-niveis-6/juliatutorialbr-v6-nivel-\\\n",
      "2/Scripts/script_maxima.mac\n"
     ]
    },
    {
     "data": {
      "text/plain": [
       "Process(`\u001b[4mmaxima\u001b[24m \u001b[4m-b\u001b[24m \u001b[4mScripts/script_maxima.mac\u001b[24m`, ProcessExited(0))"
      ]
     },
     "execution_count": 50,
     "metadata": {},
     "output_type": "execute_result"
    }
   ],
   "source": [
    "run(`maxima -b \"Scripts/script_maxima.mac\"`)"
   ]
  },
  {
   "cell_type": "markdown",
   "metadata": {},
   "source": [
    "## REFERENCIA BIBLIOGRÁFICA\n",
    "\n",
    "IVAN , Idris. **NumPy Beginner's Guide**. 3. ed. Birmingham, UK: Packt Publishing Ltd, 2015. 319 p. \n",
    "\n",
    "BRESSERT, Eli . **SciPy and NumPy**. 1. ed. Sebastopol, USA: O’Reilly Media, 2012. 57 p. \n",
    "\n",
    "LAMY, Ronan . **Instant SymPy Starter**. 1. ed. Birmingham, UK: Packt Publishing Ltd, 2013. 52 p. \n",
    "\n",
    "HUNTER, John et al. **Matplotlib**. 2.1.0. ed. [S.l.: s.n.], 2017. 1823 p. Disponível em: <https://matplotlib.org/Matplotlib.pdf>. Acesso em: 29 nov. 2017. \n",
    "\n",
    "STALLMAN, Richard . **Using the GNU Compiler Collection**. 1. ed. Boston, USA: GNU Press, 2003. 923 p. Disponível em: <https://gcc.gnu.org/onlinedocs/gcc.pdf>. Acesso em: 21 jun. 2017.\n",
    "\n",
    "CAMPUZANO, Antonio Vigueras . **Prácticas de Cálculo Numérico con MAXIMA**. 1. ed. Cartagena, ES: [s.n.], 2016. 180 p. Disponível em: <http://repositorio.upct.es/bitstream/handle/10317/5378/isbn9788460878681.pdf?sequence=7&isAllowed=y>. Acesso em: 08 nov. 2017. "
   ]
  },
  {
   "cell_type": "code",
   "execution_count": null,
   "metadata": {
    "collapsed": true
   },
   "outputs": [],
   "source": []
  }
 ],
 "metadata": {
  "anaconda-cloud": {},
  "kernelspec": {
   "display_name": "Julia 1.0.2",
   "language": "julia",
   "name": "julia-1.0"
  },
  "language_info": {
   "file_extension": ".jl",
   "mimetype": "application/julia",
   "name": "julia",
   "version": "1.0.2"
  },
  "latex_envs": {
   "LaTeX_envs_menu_present": true,
   "autocomplete": true,
   "bibliofile": "biblio.bib",
   "cite_by": "apalike",
   "current_citInitial": 1,
   "eqLabelWithNumbers": true,
   "eqNumInitial": 1,
   "hotkeys": {
    "equation": "Ctrl-E",
    "itemize": "Ctrl-I"
   },
   "labels_anchors": false,
   "latex_user_defs": false,
   "report_style_numbering": false,
   "user_envs_cfg": false
  }
 },
 "nbformat": 4,
 "nbformat_minor": 1
}
