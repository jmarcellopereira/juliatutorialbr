{
 "cells": [
  {
   "cell_type": "markdown",
   "metadata": {},
   "source": [
    "# TRABALHANDO COM ARQUIVOS(ENTRADA E SAIDA)"
   ]
  },
  {
   "cell_type": "markdown",
   "metadata": {},
   "source": [
    "## ARQUIVOS CSV \n",
    "\n",
    "A melhor forma de trabalhar com arquivos é salva-los no formato \"`CSV`\". ***Comma-separated values*** (ou `CSV`) é um formato de arquivo que armazena dados tabelados, cujo grande uso data da época dos mainframes. Por serem bastante simples, arquivos .csv são comuns em todas as plataformas de computador. \n",
    "    \n",
    "O `CSV` é um implementação particular de arquivos de texto separados por um delimitador, que usa a vírgula e a quebra de linha para separar os valores. O formato também usa as aspas em campos no qual são usados os caracteres reservados (vírgula e quebra de linha). Essa robustez no formato torna o `CSV` mais amplo que outros formatos digitais do mesmo segmento. Fonte: wikipedia. \n",
    "\n",
    "Forma geral de um arquivo `CSV` na forma de texto:\n",
    "```julia\n",
    "   nome_coluna_1, nome_coluna_2\n",
    "   dado_col_1   , dado_col_2\n",
    "   dado_col_1   , dado_col_2\n",
    "```\n",
    "Uma forma prática de criar arquivos `CSV` é usando uma planilha (excel, calc-libreoffice/openoffice). Basta preencher os dados nas celulas e depois salvar como CSV."
   ]
  },
  {
   "cell_type": "markdown",
   "metadata": {},
   "source": [
    "### MANIPULAÇÃO DE ARQUIVOS CSV"
   ]
  },
  {
   "cell_type": "markdown",
   "metadata": {},
   "source": [
    "#### Criação de um arquivo CSV pelo editor de texto do JuPyter\n",
    "\n",
    "Na pagina principal do JuPyter, selecione `New -> Text File` conforme figura abaixo:\n",
    "![](novo_arq_txt.png)"
   ]
  },
  {
   "cell_type": "markdown",
   "metadata": {},
   "source": [
    "Digite os dados conforme figura abaixo:\n",
    "![](arquivo_csv.png)\n",
    "\n",
    "Julia salva o arquivo no formato `TXT` então basta clicar no  título e alterar o nome para `teste.csv`. Para importar os dados use a sintaxe:\n",
    "```julia\n",
    "var_dados = readcsv(\"nome_arquivo.csv\")\n",
    "```\n",
    "O comando `readcsv` ja faz a conversão para tipo Float64 e coloca os dados em uma estrutura do tipo `Array`. Caso o arquivo CSV tenha um cabeçalho que defina as colunas, ocorrerá erro quando for manipulá-lo, pois o cabeçalho é do tipo String e portanto deve ser removido. utilize:\n",
    "```julia\n",
    "var_dados = readcsv(\"nome_arquivo.csv\")[2:end,:]\n",
    "```\n",
    "Dessa forma a primeira linha do arquivo contendo o cabeçalho será ignorada."
   ]
  },
  {
   "cell_type": "code",
   "execution_count": 49,
   "metadata": {
    "collapsed": false,
    "scrolled": true
   },
   "outputs": [
    {
     "data": {
      "text/plain": [
       "7×2 Array{Float64,2}:\n",
       " 0.0  0.0\n",
       " 1.0  1.5\n",
       " 2.0  1.7\n",
       " 3.0  1.8\n",
       " 4.0  1.0\n",
       " 5.0  1.6\n",
       " 6.0  1.8"
      ]
     },
     "execution_count": 49,
     "metadata": {},
     "output_type": "execute_result"
    }
   ],
   "source": [
    "tabela_dados = readcsv(\"teste.csv\")"
   ]
  },
  {
   "cell_type": "markdown",
   "metadata": {},
   "source": [
    "#### Manipulação dos dados arquivo"
   ]
  },
  {
   "cell_type": "code",
   "execution_count": 8,
   "metadata": {
    "collapsed": false
   },
   "outputs": [
    {
     "data": {
      "text/plain": [
       "1.7"
      ]
     },
     "execution_count": 8,
     "metadata": {},
     "output_type": "execute_result"
    }
   ],
   "source": [
    "# lstar o elemento da terceira linha e segunda coluna\n",
    "tabela_dados[3,2]"
   ]
  },
  {
   "cell_type": "code",
   "execution_count": 9,
   "metadata": {
    "collapsed": false,
    "scrolled": false
   },
   "outputs": [
    {
     "data": {
      "text/plain": [
       "7-element Array{Float64,1}:\n",
       "   0.0\n",
       " 150.0\n",
       " 170.0\n",
       " 180.0\n",
       " 100.0\n",
       " 160.0\n",
       " 180.0"
      ]
     },
     "execution_count": 9,
     "metadata": {},
     "output_type": "execute_result"
    }
   ],
   "source": [
    "# multiplicar todos os elementos da segunda linha por 100\n",
    "tabela_dados[:,2]*100"
   ]
  },
  {
   "cell_type": "code",
   "execution_count": 11,
   "metadata": {
    "collapsed": false
   },
   "outputs": [
    {
     "data": {
      "text/html": [
       "<img src=\"data:image/png;base64,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\" />"
      ]
     },
     "execution_count": 11,
     "metadata": {},
     "output_type": "execute_result"
    }
   ],
   "source": [
    "# gráfico dos dados\n",
    "using Plots\n",
    "pyplot()\n",
    "\n",
    "scatter(tabela_dados[:,1], tabela_dados[:,2], label = \"pontos\")"
   ]
  },
  {
   "cell_type": "code",
   "execution_count": null,
   "metadata": {
    "collapsed": true
   },
   "outputs": [],
   "source": []
  },
  {
   "cell_type": "code",
   "execution_count": null,
   "metadata": {
    "collapsed": true
   },
   "outputs": [],
   "source": []
  },
  {
   "cell_type": "markdown",
   "metadata": {},
   "source": [
    "#### Criação de uma arquivo CSV partir de uma matriz ou vetor"
   ]
  },
  {
   "cell_type": "code",
   "execution_count": 52,
   "metadata": {
    "collapsed": false,
    "scrolled": true
   },
   "outputs": [
    {
     "data": {
      "text/plain": [
       "5×5 Array{Float64,2}:\n",
       " 0.00302067  0.944217  0.134834    0.381156  0.233619 \n",
       " 0.300999    0.621022  0.00759359  0.340564  0.0998416\n",
       " 0.614802    0.555501  0.410963    0.873535  0.932955 \n",
       " 0.720499    0.688389  0.109061    0.027794  0.718095 \n",
       " 0.526771    0.538022  0.764741    0.975424  0.853588 "
      ]
     },
     "execution_count": 52,
     "metadata": {},
     "output_type": "execute_result"
    }
   ],
   "source": [
    "# criar uma matriz aleatória do tipo float\n",
    "matriz_dados_1 = rand(1.0:100.0,5,5) # matriz de números tipo float entre 1 e 100\n",
    "matriz_dados_2 = rand(5,5);          # matriz de números tipo float entre 0 e 1"
   ]
  },
  {
   "cell_type": "code",
   "execution_count": 53,
   "metadata": {
    "collapsed": true
   },
   "outputs": [],
   "source": [
    "# escrever em arquivo\n",
    "writecsv(\"matriz_dados_1.csv\", matriz_dados_1)\n",
    "writecsv(\"matriz_dados_2.csv\", matriz_dados_2)"
   ]
  },
  {
   "cell_type": "code",
   "execution_count": 54,
   "metadata": {
    "collapsed": false,
    "scrolled": true
   },
   "outputs": [
    {
     "data": {
      "text/plain": [
       "5×5 Array{Float64,2}:\n",
       " 93.0  55.0   7.0  37.0  21.0\n",
       "  7.0  38.0  39.0  83.0  36.0\n",
       " 66.0  69.0  14.0  39.0  86.0\n",
       " 86.0  28.0  71.0  53.0  46.0\n",
       "  3.0  20.0   2.0  41.0  35.0"
      ]
     },
     "execution_count": 54,
     "metadata": {},
     "output_type": "execute_result"
    }
   ],
   "source": [
    "# ler os dados gravados em arquivo\n",
    "readcsv(\"matriz_dados_1.csv\")"
   ]
  },
  {
   "cell_type": "markdown",
   "metadata": {},
   "source": [
    "#### Concatenação e Arquivos CSV\n",
    "\n",
    "É importante que as dimensões sejam compatíveis, ou seja, se for concatenação horizontal o numero de linhas deve ser igual, se for concatenação vertical então será o número de colunas. Sintaxe:\n",
    "\n",
    "Horizontal (número de linhas iguais):\n",
    "\n",
    "```julia\n",
    "writecsv(\"novo_arquivo.csv\", [readcsv(\"nome_arquivo1.csv\")  readcsv(\"nome_arquivo2.csv\")])\n",
    "ou\n",
    "writecsv(\"novo_arquivo.csv\", hcat(readcsv(\"matriz_dados_1.csv\") , readcsv(\"matriz_dados_2.csv\")))\n",
    "```\n",
    "Vertical (número de colunas iguais):\n",
    "```julia\n",
    "writecsv(\"novo_arquivo.csv\", [readcsv(\"nome_arquivo1.csv\") ; readcsv(\"nome_arquivo2.csv\")])\n",
    "ou:\n",
    "writecsv(\"novo_arquivo.csv\", vcat(readcsv(\"matriz_dados_1.csv\") , readcsv(\"matriz_dados_2.csv\")))\n",
    "```"
   ]
  },
  {
   "cell_type": "code",
   "execution_count": 12,
   "metadata": {
    "collapsed": false
   },
   "outputs": [],
   "source": [
    "# concatenação Horizontal\n",
    "writecsv(\"matriz_dados_conc_hor.csv\", [readcsv(\"matriz_dados_1.csv\")  readcsv(\"matriz_dados_2.csv\")])"
   ]
  },
  {
   "cell_type": "code",
   "execution_count": 13,
   "metadata": {
    "collapsed": false
   },
   "outputs": [
    {
     "data": {
      "text/plain": [
       "5×10 Array{Float64,2}:\n",
       " 45.0  19.0  72.0  28.0  70.0  0.881763  …  0.22633   0.68136   0.885492 \n",
       " 71.0  34.0  21.0  32.0  34.0  0.119631     0.592543  0.192117  0.0685579\n",
       " 10.0  65.0  72.0  93.0  59.0  0.832942     0.552115  0.688645  0.968075 \n",
       " 69.0  74.0  85.0  93.0  63.0  0.987757     0.307122  0.824434  0.220857 \n",
       " 93.0  24.0  53.0   8.0  54.0  0.135778     0.042761  0.147486  0.172255 "
      ]
     },
     "execution_count": 13,
     "metadata": {},
     "output_type": "execute_result"
    }
   ],
   "source": [
    "readcsv(\"matriz_dados_conc_hor.csv\")"
   ]
  },
  {
   "cell_type": "code",
   "execution_count": 14,
   "metadata": {
    "collapsed": true
   },
   "outputs": [],
   "source": [
    "# concatenação vertical\n",
    "writecsv(\"matriz_dados_conc_vert.csv\", [readcsv(\"matriz_dados_1.csv\"); readcsv(\"matriz_dados_2.csv\")])"
   ]
  },
  {
   "cell_type": "code",
   "execution_count": 12,
   "metadata": {
    "collapsed": false,
    "scrolled": false
   },
   "outputs": [
    {
     "data": {
      "text/plain": [
       "10×5 Array{Float64,2}:\n",
       " 45.0       19.0        72.0       28.0       70.0      \n",
       " 71.0       34.0        21.0       32.0       34.0      \n",
       " 10.0       65.0        72.0       93.0       59.0      \n",
       " 69.0       74.0        85.0       93.0       63.0      \n",
       " 93.0       24.0        53.0        8.0       54.0      \n",
       "  0.881763   0.702503    0.22633    0.68136    0.885492 \n",
       "  0.119631   0.906477    0.592543   0.192117   0.0685579\n",
       "  0.832942   0.0232129   0.552115   0.688645   0.968075 \n",
       "  0.987757   0.308866    0.307122   0.824434   0.220857 \n",
       "  0.135778   0.539265    0.042761   0.147486   0.172255 "
      ]
     },
     "execution_count": 12,
     "metadata": {},
     "output_type": "execute_result"
    }
   ],
   "source": [
    "# ler resultado\n",
    "readcsv(\"matriz_dados_conc_vert.csv\")"
   ]
  },
  {
   "cell_type": "markdown",
   "metadata": {},
   "source": [
    "## ARQUIVOS DE DADOS JLD\n",
    "\n",
    "Arquivo JDL é um formato amplamente utilizado para armazenamento de dados com a linguagem de programação Julia. JLD é um formato derivado do HDF5 aplicado para o armazenamento de dados científicos de grande volume. \n",
    "\n",
    "Arquivos HDF5 são organizados em uma estrutura hierárquica. Esta, pode ser vista como uma árvore de diretórios dentro de um arquivo. Suas duas estruturas primárias são groups e datasets (HDF Group, 2007). Um HDF5 group é uma estrutura de agrupamento que pode conter zero ou mais instâncias de grupos ou datasets, juntamente com seus metadados, enquanto um HDF5 dataset é um array multidimensional de dados também em conjunto com seus metadados.A figura abaixo representa a estrutura de um arquivo HDF5 [(PERANTUNES,2007)](https://projetos.inf.ufsc.br/arquivos_projetos/projeto_733/hilton_perantunes_ine5631.pdf). \n",
    "![Estrutura do HDF5](hdf5.png)\n",
    "Um grupo contém zero ou mais HDF5 objects (grupos ou datasets), e é composto por duas partes: a primeira é formada por um cabeçalho contendo o nome do grupo e uma lista de atributos, sendo que a segunda parte é uma tabela de símbolos com uma listagem dos objetos HDF5 que pertencem ao grupo . Já um dataset possui um cabeçalho e um array de dados  [(PERANTUNES,2007)](https://projetos.inf.ufsc.br/arquivos_projetos/projeto_733/hilton_perantunes_ine5631.pdf).\n",
    "\n",
    "Em comparação com HDF5, arquivos JLD adicionam automaticamente atributos e convenções de nomenclatura para preservar as informações de tipo para cada objeto. Vale resaltar que arquivos * .jld são arquivos HDF5 com recursos extras e, consequentemente, pode ser lido por qualquer linguagem que suporte HDF5. Para mais detalhes consulte [JuliaIO/JLD](https://github.com/JuliaIO/JLD.jl/) . Uma grande vantagem é que a saída do arquivo é do tipo dicionário e portante vale todas as operações para este tipo no notebook \"TIPOS DE DADOS\". Para instalar o pacote JLD use:\n",
    "```julia\n",
    "Pkg.add(\"JLD\")\n",
    "```"
   ]
  },
  {
   "cell_type": "markdown",
   "metadata": {},
   "source": [
    "**Criar,  Abrir e gravar dados no arquivo JLD**\n",
    "\n",
    "Para criar um novo arquivo basta abrir ou escrever um arquivo que não existe ainda e `Julia` irá escrever no disco o arquivo. Para escrever em um arquivo novo use:\n",
    "```julia\n",
    "save(\"nome_arquivo.jld\", \"key_1\", valor_dado, \"key_2\", valor_dado,...)\n",
    "```"
   ]
  },
  {
   "cell_type": "code",
   "execution_count": 13,
   "metadata": {
    "collapsed": false
   },
   "outputs": [],
   "source": [
    "using JLD"
   ]
  },
  {
   "cell_type": "markdown",
   "metadata": {},
   "source": [
    "#### MODO BÁSICO\n",
    "\n",
    "Neste primeiro contato, faremos apenas uma introdução rápida sobre a manipulação dos arquivos no formato `JLD` de tal forma que seja suficiente para o usuário gravar informações no disco e recuperá-las para trabalhar com os dados. A desvantagem é que alterado os dados de uma `key` é necessário salva todos os dados novamente no arquivo em disco."
   ]
  },
  {
   "cell_type": "code",
   "execution_count": 14,
   "metadata": {
    "collapsed": false
   },
   "outputs": [
    {
     "data": {
      "text/plain": [
       "\"Arquivos\""
      ]
     },
     "execution_count": 14,
     "metadata": {},
     "output_type": "execute_result"
    }
   ],
   "source": [
    "matriz = rand(Float64,6,6)\n",
    "vetor = rand(5)\n",
    "nome = \"Arquivos\""
   ]
  },
  {
   "cell_type": "code",
   "execution_count": 15,
   "metadata": {
    "collapsed": false
   },
   "outputs": [],
   "source": [
    "# salvar arquivo em disco \n",
    "save(\"arquivo_basico.jld\", \"matriz\", matriz, \"vetor\", vetor , \"nome\", nome)"
   ]
  },
  {
   "cell_type": "code",
   "execution_count": 16,
   "metadata": {
    "collapsed": false
   },
   "outputs": [
    {
     "data": {
      "text/plain": [
       "Dict{String,Any} with 3 entries:\n",
       "  \"matriz\" => [0.692468 0.210977 … 0.219657 0.321783; 0.306363 0.895627 … 0.396…\n",
       "  \"vetor\"  => [0.99109,0.174549,0.550174,0.12425,0.889987]\n",
       "  \"nome\"   => \"Arquivos\""
      ]
     },
     "execution_count": 16,
     "metadata": {},
     "output_type": "execute_result"
    }
   ],
   "source": [
    "# ler os dados do arquivo gravado em disco\n",
    "arquivo_basico = load(\"arquivo_basico.jld\")"
   ]
  },
  {
   "cell_type": "code",
   "execution_count": 17,
   "metadata": {
    "collapsed": false
   },
   "outputs": [
    {
     "data": {
      "text/plain": [
       "Base.KeyIterator for a Dict{String,Any} with 3 entries. Keys:\n",
       "  \"matriz\"\n",
       "  \"vetor\"\n",
       "  \"nome\""
      ]
     },
     "execution_count": 17,
     "metadata": {},
     "output_type": "execute_result"
    }
   ],
   "source": [
    "# listar as keys\n",
    "keys(arquivo_basico)"
   ]
  },
  {
   "cell_type": "code",
   "execution_count": 18,
   "metadata": {
    "collapsed": false,
    "scrolled": true
   },
   "outputs": [
    {
     "data": {
      "text/plain": [
       "Base.ValueIterator for a Dict{String,Any} with 3 entries. Values:\n",
       "  [0.692468 0.210977 … 0.219657 0.321783; 0.306363 0.895627 … 0.396325 0.598717…\n",
       "  [0.99109,0.174549,0.550174,0.12425,0.889987]\n",
       "  \"Arquivos\""
      ]
     },
     "execution_count": 18,
     "metadata": {},
     "output_type": "execute_result"
    }
   ],
   "source": [
    "# listar os valores das keys\n",
    "values(arquivo_basico)"
   ]
  },
  {
   "cell_type": "code",
   "execution_count": 19,
   "metadata": {
    "collapsed": false
   },
   "outputs": [
    {
     "data": {
      "text/plain": [
       "6×6 Array{Float64,2}:\n",
       " 0.692468  0.210977  0.935333  0.786403  0.219657  0.321783\n",
       " 0.306363  0.895627  0.5676    0.22432   0.396325  0.598717\n",
       " 0.142214  0.572731  0.342615  0.999145  0.601528  0.836343\n",
       " 0.579529  0.578883  0.6333    0.982885  0.52108   0.1332  \n",
       " 0.407764  0.813408  0.572201  0.318109  0.739952  0.302453\n",
       " 0.863492  0.62513   0.332352  0.44772   0.211626  0.967624"
      ]
     },
     "execution_count": 19,
     "metadata": {},
     "output_type": "execute_result"
    }
   ],
   "source": [
    "# mostrar os valores da key \"matriz\"\n",
    "arquivo_basico[\"matriz\"]"
   ]
  },
  {
   "cell_type": "code",
   "execution_count": 318,
   "metadata": {
    "collapsed": false
   },
   "outputs": [
    {
     "data": {
      "text/plain": [
       "3×2 Array{Float64,2}:\n",
       " 0.199811   0.931183\n",
       " 0.862908   0.197599\n",
       " 0.0319696  0.548757"
      ]
     },
     "execution_count": 318,
     "metadata": {},
     "output_type": "execute_result"
    }
   ],
   "source": [
    "# altera matriz \n",
    "arquivo_basico[\"matriz\"] = rand(3,2)"
   ]
  },
  {
   "cell_type": "code",
   "execution_count": 20,
   "metadata": {
    "collapsed": true
   },
   "outputs": [],
   "source": [
    "# salvar alterações em disco\n",
    "save(\"arquivo_basico.jld\", arquivo_basico)"
   ]
  },
  {
   "cell_type": "code",
   "execution_count": 21,
   "metadata": {
    "collapsed": false,
    "scrolled": true
   },
   "outputs": [
    {
     "data": {
      "text/plain": [
       "Dict{String,Any} with 3 entries:\n",
       "  \"matriz\" => [0.692468 0.210977 … 0.219657 0.321783; 0.306363 0.895627 … 0.396…\n",
       "  \"vetor\"  => [0.99109,0.174549,0.550174,0.12425,0.889987]\n",
       "  \"nome\"   => \"Arquivos\""
      ]
     },
     "execution_count": 21,
     "metadata": {},
     "output_type": "execute_result"
    }
   ],
   "source": [
    "# ler os dados do arquivo gravado em disco. Veja que a matriz mudou.\n",
    "load(\"arquivo_basico.jld\")"
   ]
  },
  {
   "cell_type": "markdown",
   "metadata": {},
   "source": [
    "#### MODO AVANÇADO\n",
    "\n",
    "Nesta parte será trabalhado a abertura do arquivo para manipular os dados e fechamendo após as operações. Isto é importante pois permite salvar apenas as `keys` alteradas.\n",
    "\n",
    "Um novo arquivo será criado quando executado o comando `jldopen` com atributo de gravação **\"w\"** e vinculado a uma variável. Sintaxe:\n",
    "```julia\n",
    "var_dados = jldopen(\"nome_arquivo.jld\", atributo)\n",
    "\n",
    "```\n",
    "`Tabela de atributos`\n",
    "\n",
    "<table border=\"1\" class=\"docutils\" style=\"float: left;\">\n",
    "<colgroup>\n",
    "<col width=\"11%\" />\n",
    "<col width=\"89%\" />\n",
    "</colgroup>\n",
    "<tbody valign=\"top\">\n",
    "<tr class=\"row-odd\"><td>\"r\"</td>\n",
    "<td>Somente ler os dados</td>\n",
    "</tr>\n",
    "<tr class=\"row-even\"><td>\"r+\"</td>\n",
    "<td>Ler e escrever mantendo os dados já escritos</td>\n",
    "</tr>\n",
    "<tr class=\"row-odd\"><td>\"w\"</td>\n",
    "<td>Escrever destruindo todos os dados existentes. CUIDADO! RECOMENDÁVEL SOMENTE PARA ARQUIVOS NOVOS</td>\n",
    "</tr>\n",
    "\n",
    "</tbody>\n",
    "</table>"
   ]
  },
  {
   "cell_type": "code",
   "execution_count": 83,
   "metadata": {
    "collapsed": true
   },
   "outputs": [],
   "source": [
    "using JLD"
   ]
  },
  {
   "cell_type": "code",
   "execution_count": 115,
   "metadata": {
    "collapsed": false,
    "scrolled": true
   },
   "outputs": [
    {
     "data": {
      "text/plain": [
       "Julia data file version 0.1.1: arquivo_avancado.jld"
      ]
     },
     "execution_count": 115,
     "metadata": {},
     "output_type": "execute_result"
    }
   ],
   "source": [
    "arquivo_avancado = jldopen(\"arquivo_avancado.jld\", \"w\")"
   ]
  },
  {
   "cell_type": "markdown",
   "metadata": {},
   "source": [
    "Uma vez aberto o arquivo não é possível abri-lo novamente ou com outro atributo, se fizer ocorrerá este erro:\n",
    "\n",
    "        HDF5-DIAG: Error detected in HDF5 (1.8.16) thread 139655273372672:\n",
    "          #000: ../../../src/H5F.c line 522 in H5Fcreate(): unable to create file\n",
    "            major: File accessibilty\n",
    "            minor: Unable to open file\n",
    "          #001: ../../../src/H5Fint.c line 1024 in H5F_open(): unable to truncate a file which is already open\n",
    "            major: File accessibilty\n",
    "            minor: Unable to open file\n",
    "            \n",
    "Este erro informa que o arquivo está inacessível e que ja está aberto. Para alterar o atributo e abrir o arquivo novamente é necessário fecha-lo primeiro. Muitas vezes não sabemos qual objeto está vinculado ao arquivo aberto, dessa forma utilize a função `whos()` basta procurar pelo objeto do tipo `JLD.JldFile` e fecha-lo."
   ]
  },
  {
   "cell_type": "code",
   "execution_count": 116,
   "metadata": {
    "collapsed": false,
    "scrolled": true
   },
   "outputs": [
    {
     "data": {
      "text/plain": [
       "\"x*sind(x)\""
      ]
     },
     "execution_count": 116,
     "metadata": {},
     "output_type": "execute_result"
    }
   ],
   "source": [
    "matriz = rand(Float64,6,6) # matriz aleatoria do tipo float64\n",
    "vetor  = rand(5)           # vetor aleatóro do tipo float64\n",
    "nome   = \"Arquivos\"        # string \n",
    "funcao = \"x*sind(x)\"       # função do tipo string"
   ]
  },
  {
   "cell_type": "code",
   "execution_count": 117,
   "metadata": {
    "collapsed": false
   },
   "outputs": [],
   "source": [
    "# gravando dados no arquivo\n",
    "write(arquivo_avancado, \"1\", matriz)\n",
    "write(arquivo_avancado, \"2\" , vetor)\n",
    "write(arquivo_avancado, \"3\" , nome)\n",
    "write(arquivo_avancado, \"4\" , funcao)"
   ]
  },
  {
   "cell_type": "code",
   "execution_count": 118,
   "metadata": {
    "collapsed": false
   },
   "outputs": [],
   "source": [
    "# fechando o arquivo\n",
    "close(arquivo_avancado)"
   ]
  },
  {
   "cell_type": "markdown",
   "metadata": {
    "collapsed": true
   },
   "source": [
    "** Lendo arquivo de dados**\n",
    "\n",
    "Para exibir os dados de uma `key` use:\n",
    "```julia\n",
    "read(nome_var_arquivo[\"nome_key\"])\n",
    "```\n",
    "Sendo \"nome_var_arquivo\" o nome da variável que é atribído o arquivo gravado em disco e \"nome_key\" o nome da chave.\n",
    "\n",
    "Para acessar valores específicos da `key` use:\n",
    "```julia\n",
    "read(nome_var_arquivo[\"nome_key\"])[ordem_dado]\n",
    "```\n",
    "`ordem_dado` é a referência ao registro do dado num vetor, matriz e outros tipos básicos"
   ]
  },
  {
   "cell_type": "code",
   "execution_count": 119,
   "metadata": {
    "collapsed": true
   },
   "outputs": [],
   "source": [
    "using JLD"
   ]
  },
  {
   "cell_type": "code",
   "execution_count": 129,
   "metadata": {
    "collapsed": false,
    "scrolled": false
   },
   "outputs": [
    {
     "data": {
      "text/plain": [
       "Julia data file version 0.1.1: arquivo_avancado.jld"
      ]
     },
     "execution_count": 129,
     "metadata": {},
     "output_type": "execute_result"
    }
   ],
   "source": [
    "# vinculando a \"arquivo_avancado\" ao arquivo gravado em disco\n",
    "arquivo_avancado = jldopen(\"arquivo_avancado.jld\", \"r+\")"
   ]
  },
  {
   "cell_type": "code",
   "execution_count": 130,
   "metadata": {
    "collapsed": false
   },
   "outputs": [
    {
     "data": {
      "text/plain": [
       "JLD.JldFile"
      ]
     },
     "execution_count": 130,
     "metadata": {},
     "output_type": "execute_result"
    }
   ],
   "source": [
    "typeof(arquivo_avancado)"
   ]
  },
  {
   "cell_type": "code",
   "execution_count": 131,
   "metadata": {
    "collapsed": false
   },
   "outputs": [
    {
     "data": {
      "text/plain": [
       "Dict{String,Any} with 4 entries:\n",
       "  \"4\" => \"x*sind(x)\"\n",
       "  \"1\" => [9999.0 0.221716 … 0.390889 0.978296; 0.680554 0.486931 … 0.725103 0.4…\n",
       "  \"2\" => [0.0200999,0.295384,0.231914,0.0883347,0.816237]\n",
       "  \"3\" => \"Arquivos\""
      ]
     },
     "execution_count": 131,
     "metadata": {},
     "output_type": "execute_result"
    }
   ],
   "source": [
    "# ler os dados de arquivo_dados\n",
    "read(arquivo_avancado)"
   ]
  },
  {
   "cell_type": "code",
   "execution_count": 132,
   "metadata": {
    "collapsed": false,
    "scrolled": true
   },
   "outputs": [
    {
     "data": {
      "text/plain": [
       "Base.KeyIterator for a Dict{String,Any} with 4 entries. Keys:\n",
       "  \"4\"\n",
       "  \"1\"\n",
       "  \"2\"\n",
       "  \"3\""
      ]
     },
     "execution_count": 132,
     "metadata": {},
     "output_type": "execute_result"
    }
   ],
   "source": [
    "keys(read(arquivo_avancado))"
   ]
  },
  {
   "cell_type": "code",
   "execution_count": 133,
   "metadata": {
    "collapsed": false
   },
   "outputs": [
    {
     "data": {
      "text/plain": [
       "Base.ValueIterator for a Dict{String,Any} with 4 entries. Values:\n",
       "  \"x*sind(x)\"\n",
       "  [9999.0 0.221716 … 0.390889 0.978296; 0.680554 0.486931 … 0.725103 0.452212; …\n",
       "  [0.0200999,0.295384,0.231914,0.0883347,0.816237]\n",
       "  \"Arquivos\""
      ]
     },
     "execution_count": 133,
     "metadata": {},
     "output_type": "execute_result"
    }
   ],
   "source": [
    "values(read(arquivo_avancado))"
   ]
  },
  {
   "cell_type": "code",
   "execution_count": 134,
   "metadata": {
    "collapsed": false
   },
   "outputs": [
    {
     "data": {
      "text/plain": [
       "6×6 Array{Float64,2}:\n",
       " 9999.0       0.221716  0.525184  0.627534  0.390889    0.978296\n",
       "    0.680554  0.486931  0.880501  0.553352  0.725103    0.452212\n",
       "    0.257448  0.562662  0.183344  0.50078   0.915173    0.265468\n",
       "    0.400575  0.648536  0.292231  0.356265  0.765091    0.982323\n",
       "    0.109392  0.29606   0.945169  0.478419  0.0127441   0.878033\n",
       "    0.994493  0.477547  0.873198  0.216107  0.00315044  0.579394"
      ]
     },
     "execution_count": 134,
     "metadata": {},
     "output_type": "execute_result"
    }
   ],
   "source": [
    "# Listar todos os dados do registro \"1\"\n",
    "read(arquivo_avancado[\"1\"])"
   ]
  },
  {
   "cell_type": "code",
   "execution_count": 135,
   "metadata": {
    "collapsed": false
   },
   "outputs": [
    {
     "data": {
      "text/plain": [
       "6-element Array{Float64,1}:\n",
       " 0.680554\n",
       " 0.486931\n",
       " 0.880501\n",
       " 0.553352\n",
       " 0.725103\n",
       " 0.452212"
      ]
     },
     "execution_count": 135,
     "metadata": {},
     "output_type": "execute_result"
    }
   ],
   "source": [
    "# listar somente os elementos da segunda linha\n",
    "read(arquivo_avancado[\"1\"])[2,:]"
   ]
  },
  {
   "cell_type": "code",
   "execution_count": 136,
   "metadata": {
    "collapsed": false,
    "scrolled": true
   },
   "outputs": [
    {
     "data": {
      "text/plain": [
       "9999"
      ]
     },
     "execution_count": 136,
     "metadata": {},
     "output_type": "execute_result"
    }
   ],
   "source": [
    "# alterar o valor de um elemento\n",
    "arquivo_avancado[\"1\"][1,1] = 9999"
   ]
  },
  {
   "cell_type": "code",
   "execution_count": 137,
   "metadata": {
    "collapsed": false
   },
   "outputs": [
    {
     "data": {
      "text/plain": [
       "6×6 Array{Float64,2}:\n",
       " 9999.0       0.221716  0.525184  0.627534  0.390889    0.978296\n",
       "    0.680554  0.486931  0.880501  0.553352  0.725103    0.452212\n",
       "    0.257448  0.562662  0.183344  0.50078   0.915173    0.265468\n",
       "    0.400575  0.648536  0.292231  0.356265  0.765091    0.982323\n",
       "    0.109392  0.29606   0.945169  0.478419  0.0127441   0.878033\n",
       "    0.994493  0.477547  0.873198  0.216107  0.00315044  0.579394"
      ]
     },
     "execution_count": 137,
     "metadata": {},
     "output_type": "execute_result"
    }
   ],
   "source": [
    "read(arquivo_avancado[\"1\"])"
   ]
  },
  {
   "cell_type": "code",
   "execution_count": 138,
   "metadata": {
    "collapsed": false
   },
   "outputs": [
    {
     "data": {
      "text/plain": [
       "5-element Array{Float64,1}:\n",
       " 0.0200999\n",
       " 0.295384 \n",
       " 0.231914 \n",
       " 0.0883347\n",
       " 0.816237 "
      ]
     },
     "execution_count": 138,
     "metadata": {},
     "output_type": "execute_result"
    }
   ],
   "source": [
    "# Listar todos os dados do registro \"2\"\n",
    "read(arquivo_avancado[\"2\"])"
   ]
  },
  {
   "cell_type": "code",
   "execution_count": 139,
   "metadata": {
    "collapsed": false
   },
   "outputs": [
    {
     "data": {
      "text/plain": [
       "0.8162371942218547"
      ]
     },
     "execution_count": 139,
     "metadata": {},
     "output_type": "execute_result"
    }
   ],
   "source": [
    "# imprimir somente o quinto elemento\n",
    "read(arquivo_avancado[\"2\"])[5]"
   ]
  },
  {
   "cell_type": "code",
   "execution_count": 140,
   "metadata": {
    "collapsed": false
   },
   "outputs": [
    {
     "data": {
      "text/plain": [
       "22222"
      ]
     },
     "execution_count": 140,
     "metadata": {},
     "output_type": "execute_result"
    }
   ],
   "source": [
    "# alterar o valor de um elemento\n",
    "arquivo_avancado[\"2\"][5] = 22222 "
   ]
  },
  {
   "cell_type": "code",
   "execution_count": 141,
   "metadata": {
    "collapsed": false
   },
   "outputs": [
    {
     "data": {
      "text/plain": [
       "5-element Array{Float64,1}:\n",
       "     0.0200999\n",
       "     0.295384 \n",
       "     0.231914 \n",
       "     0.0883347\n",
       " 22222.0      "
      ]
     },
     "execution_count": 141,
     "metadata": {},
     "output_type": "execute_result"
    }
   ],
   "source": [
    "read(arquivo_avancado[\"2\"])"
   ]
  },
  {
   "cell_type": "code",
   "execution_count": 142,
   "metadata": {
    "collapsed": false
   },
   "outputs": [
    {
     "data": {
      "text/plain": [
       "\"Arquivos\""
      ]
     },
     "execution_count": 142,
     "metadata": {},
     "output_type": "execute_result"
    }
   ],
   "source": [
    "# Listar todos os dados do registro \"3\"\n",
    "read(arquivo_avancado[\"3\"])"
   ]
  },
  {
   "cell_type": "code",
   "execution_count": 143,
   "metadata": {
    "collapsed": false,
    "scrolled": true
   },
   "outputs": [
    {
     "data": {
      "text/plain": [
       "f (generic function with 1 method)"
      ]
     },
     "execution_count": 143,
     "metadata": {},
     "output_type": "execute_result"
    }
   ],
   "source": [
    "# transformando a string da key 4 em função\n",
    "@eval f(x) = $(parse(read(arquivo_avancado[\"4\"])))"
   ]
  },
  {
   "cell_type": "code",
   "execution_count": 144,
   "metadata": {
    "collapsed": false
   },
   "outputs": [
    {
     "data": {
      "text/plain": [
       "15.0"
      ]
     },
     "execution_count": 144,
     "metadata": {},
     "output_type": "execute_result"
    }
   ],
   "source": [
    "f(30)"
   ]
  },
  {
   "cell_type": "code",
   "execution_count": 145,
   "metadata": {
    "collapsed": false
   },
   "outputs": [],
   "source": [
    "# adicionando uma key do tipo definido\n",
    "\n",
    "type Amostra_objeto\n",
    "    material  ::String\n",
    "    massa     ::Float64\n",
    "    raio      ::Float64 \n",
    "    densidade ::Float64    \n",
    "end\n",
    "\n",
    "write(arquivo_avancado, \"5\" , Amostra_objeto )"
   ]
  },
  {
   "cell_type": "code",
   "execution_count": 146,
   "metadata": {
    "collapsed": false
   },
   "outputs": [
    {
     "data": {
      "text/plain": [
       "(\"isopor\",0.001,0.1,0.0025)"
      ]
     },
     "execution_count": 146,
     "metadata": {},
     "output_type": "execute_result"
    }
   ],
   "source": [
    "# atribuir amostra_1 ao tipo amostra_objeto \n",
    "amostra_1 = read(arquivo_avancado[\"5\"])(\"isopor\", 0.001 , 0.1 , 0.0025 )\n",
    "\n",
    "# listar as caracteristicas do objeto amostra_1\n",
    "amostra_1.material , amostra_1.massa , amostra_1.raio , amostra_1.densidade "
   ]
  },
  {
   "cell_type": "code",
   "execution_count": null,
   "metadata": {
    "collapsed": true
   },
   "outputs": [],
   "source": [
    "# aplicar a d"
   ]
  },
  {
   "cell_type": "code",
   "execution_count": 112,
   "metadata": {
    "collapsed": false
   },
   "outputs": [],
   "source": [
    "close(arquivo_avancado)"
   ]
  },
  {
   "cell_type": "code",
   "execution_count": 113,
   "metadata": {
    "collapsed": false,
    "scrolled": false
   },
   "outputs": [
    {
     "ename": "LoadError",
     "evalue": "LoadError: File or object has been closed\nwhile loading In[113], in expression starting on line 2",
     "output_type": "error",
     "traceback": [
      "LoadError: File or object has been closed\nwhile loading In[113], in expression starting on line 2",
      "",
      " in checkvalid at /home/jmarcellopereira/.julia/v0.5/HDF5/src/plain.jl:683 [inlined]",
      " in names(::HDF5.HDF5File) at /home/jmarcellopereira/.julia/v0.5/HDF5/src/plain.jl:1003",
      " in names(::JLD.JldFile) at /home/jmarcellopereira/.julia/v0.5/JLD/src/JLD.jl:1100",
      " in read(::JLD.JldFile) at /home/jmarcellopereira/.julia/v0.5/HDF5/src/datafile.jl:52"
     ]
    }
   ],
   "source": [
    "# depois de fechado, os dados não podem ser lidos a partir da variável vinculada\n",
    "read(arquivo_avancado)"
   ]
  },
  {
   "cell_type": "code",
   "execution_count": 3,
   "metadata": {
    "collapsed": false
   },
   "outputs": [
    {
     "data": {
      "text/plain": [
       "Dict{String,Any} with 5 entries:\n",
       "  \"4\" => \"x*sind(x)\"\n",
       "  \"1\" => [9999.0 0.175144 … 0.617142 0.288299; 0.810965 0.310361 … 0.597143 0.4…\n",
       "  \"5\" => JLD.UnsupportedType\n",
       "  \"2\" => [0.803065,0.613971,0.501641,0.427833,22222.0]\n",
       "  \"3\" => \"Arquivos\""
      ]
     },
     "execution_count": 3,
     "metadata": {},
     "output_type": "execute_result"
    }
   ],
   "source": [
    "# observe os valores alterados dos elementos\n",
    "load(\"arquivo_avancado.jld\")"
   ]
  },
  {
   "cell_type": "markdown",
   "metadata": {},
   "source": [
    "**Ler e alterar dados em um arquivo jld sem atribuição de variável**\n",
    "\n",
    "Para somente ler o conteúdo de um arquivo sem ter a necessidade de fecha-lo depois, use o comando: \n",
    "```julia \n",
    "read(jldopen(\"nome_arquivo.jld\", \"atributo\"))\n",
    "```\n",
    "Para ser prático, use o atributo \"r+\" pois assim é possível alterar valores dos elementos de contidos em uma `key`.\n",
    "\n",
    "Para gravar uma nova `key` use:\n",
    "```julia\n",
    "write(jldopen(\"nome_arquivo.jld\", \"r+\"), \"nova_key\",\"valor_dado\")\n",
    "```\n",
    "Não use ```write(\"nome_arquivo.jld\",\"key\",\"Valor_Dados\") ``` para gravar diretamente, todos os dados anteriores serão perdidos."
   ]
  },
  {
   "cell_type": "code",
   "execution_count": 147,
   "metadata": {
    "collapsed": false,
    "scrolled": true
   },
   "outputs": [
    {
     "data": {
      "text/plain": [
       "Dict{String,Any} with 5 entries:\n",
       "  \"4\" => \"x*sind(x)\"\n",
       "  \"1\" => [9999.0 0.221716 … 0.390889 0.978296; 0.680554 0.486931 … 0.725103 0.4…\n",
       "  \"5\" => Amostra_objeto\n",
       "  \"2\" => [0.0200999,0.295384,0.231914,0.0883347,22222.0]\n",
       "  \"3\" => \"Arquivos\""
      ]
     },
     "execution_count": 147,
     "metadata": {},
     "output_type": "execute_result"
    }
   ],
   "source": [
    "# use o atributo \"r+\" para ler e alterar dados do arquivo.\n",
    "read(jldopen(\"arquivo_avancado.jld\", \"r+\"))"
   ]
  },
  {
   "cell_type": "code",
   "execution_count": 115,
   "metadata": {
    "collapsed": false,
    "scrolled": false
   },
   "outputs": [
    {
     "data": {
      "text/plain": [
       "6×6 Array{Float64,2}:\n",
       " 9999.0        0.175144  0.158637   0.836251    0.617142  0.288299 \n",
       "    0.810965   0.310361  0.835019   0.474713    0.597143  0.420459 \n",
       "    0.558743   0.379379  0.0683321  0.0464544   0.995679  0.0424682\n",
       "    0.259967   0.894803  0.252252   0.00973674  0.291056  0.528758 \n",
       "    0.0939858  0.32162   0.855305   0.764469    0.767081  0.380435 \n",
       "    0.261517   0.336851  0.926126   0.116609    0.118569  0.370338 "
      ]
     },
     "execution_count": 115,
     "metadata": {},
     "output_type": "execute_result"
    }
   ],
   "source": [
    "read(jldopen(\"arquivo_avancado.jld\", \"r+\")[\"1\"])"
   ]
  },
  {
   "cell_type": "code",
   "execution_count": 116,
   "metadata": {
    "collapsed": false,
    "scrolled": true
   },
   "outputs": [
    {
     "data": {
      "text/plain": [
       "9999.0"
      ]
     },
     "execution_count": 116,
     "metadata": {},
     "output_type": "execute_result"
    }
   ],
   "source": [
    "read(jldopen(\"arquivo_avancado.jld\", \"r+\")[\"1\"])[1,1]"
   ]
  },
  {
   "cell_type": "code",
   "execution_count": 117,
   "metadata": {
    "collapsed": false
   },
   "outputs": [
    {
     "data": {
      "text/plain": [
       "0.0"
      ]
     },
     "execution_count": 117,
     "metadata": {},
     "output_type": "execute_result"
    }
   ],
   "source": [
    "# Alterar o elemento [1,1] da matriz da key \"1\"\n",
    "(jldopen(\"arquivo_avancado.jld\", \"r+\")[\"1\"])[1,1] = 0000.0"
   ]
  },
  {
   "cell_type": "code",
   "execution_count": 148,
   "metadata": {
    "collapsed": false
   },
   "outputs": [
    {
     "data": {
      "text/plain": [
       "Dict{String,Any} with 5 entries:\n",
       "  \"4\" => \"x*sind(x)\"\n",
       "  \"1\" => [9999.0 0.221716 … 0.390889 0.978296; 0.680554 0.486931 … 0.725103 0.4…\n",
       "  \"5\" => Amostra_objeto\n",
       "  \"2\" => [0.0200999,0.295384,0.231914,0.0883347,22222.0]\n",
       "  \"3\" => \"Arquivos\""
      ]
     },
     "execution_count": 148,
     "metadata": {},
     "output_type": "execute_result"
    }
   ],
   "source": [
    "# testar a mudança\n",
    "read(jldopen(\"arquivo_avancado.jld\", \"r+\"))"
   ]
  },
  {
   "cell_type": "code",
   "execution_count": 120,
   "metadata": {
    "collapsed": false
   },
   "outputs": [],
   "source": [
    "# gravar uma nova key ao arquivo\n",
    "write(jldopen(\"arquivo_avancado.jld\", \"r+\"), \"6\",\"so testes\")"
   ]
  },
  {
   "cell_type": "code",
   "execution_count": 149,
   "metadata": {
    "collapsed": false,
    "scrolled": true
   },
   "outputs": [
    {
     "data": {
      "text/plain": [
       "Dict{String,Any} with 5 entries:\n",
       "  \"4\" => \"x*sind(x)\"\n",
       "  \"1\" => [9999.0 0.221716 … 0.390889 0.978296; 0.680554 0.486931 … 0.725103 0.4…\n",
       "  \"5\" => Amostra_objeto\n",
       "  \"2\" => [0.0200999,0.295384,0.231914,0.0883347,22222.0]\n",
       "  \"3\" => \"Arquivos\""
      ]
     },
     "execution_count": 149,
     "metadata": {},
     "output_type": "execute_result"
    }
   ],
   "source": [
    "# verificar a nova key\n",
    "read(jldopen(\"arquivo_avancado.jld\", \"r+\"))"
   ]
  },
  {
   "cell_type": "markdown",
   "metadata": {},
   "source": [
    "**Filtragem de dados**"
   ]
  },
  {
   "cell_type": "code",
   "execution_count": 151,
   "metadata": {
    "collapsed": false
   },
   "outputs": [
    {
     "data": {
      "text/plain": [
       "Dict{String,Any} with 5 entries:\n",
       "  \"4\" => \"x*sind(x)\"\n",
       "  \"1\" => [9999.0 0.221716 … 0.390889 0.978296; 0.680554 0.486931 … 0.725103 0.4…\n",
       "  \"5\" => Amostra_objeto\n",
       "  \"2\" => [0.0200999,0.295384,0.231914,0.0883347,22222.0]\n",
       "  \"3\" => \"Arquivos\""
      ]
     },
     "execution_count": 151,
     "metadata": {},
     "output_type": "execute_result"
    }
   ],
   "source": [
    "dados_arquivo1 = load(\"arquivo_avancado.jld\")"
   ]
  },
  {
   "cell_type": "code",
   "execution_count": 152,
   "metadata": {
    "collapsed": false
   },
   "outputs": [
    {
     "data": {
      "text/plain": [
       "6×6 Array{Float64,2}:\n",
       " 9999.0       0.221716  0.525184  0.627534  0.390889    0.978296\n",
       "    0.680554  0.486931  0.880501  0.553352  0.725103    0.452212\n",
       "    0.257448  0.562662  0.183344  0.50078   0.915173    0.265468\n",
       "    0.400575  0.648536  0.292231  0.356265  0.765091    0.982323\n",
       "    0.109392  0.29606   0.945169  0.478419  0.0127441   0.878033\n",
       "    0.994493  0.477547  0.873198  0.216107  0.00315044  0.579394"
      ]
     },
     "execution_count": 152,
     "metadata": {},
     "output_type": "execute_result"
    }
   ],
   "source": [
    "dados_arquivo1[\"1\"]"
   ]
  },
  {
   "cell_type": "code",
   "execution_count": 154,
   "metadata": {
    "collapsed": false
   },
   "outputs": [
    {
     "data": {
      "text/plain": [
       "6-element Array{Float64,1}:\n",
       " 9999.0     \n",
       "    0.994493\n",
       "    0.945169\n",
       "    0.915173\n",
       "    0.978296\n",
       "    0.982323"
      ]
     },
     "execution_count": 154,
     "metadata": {},
     "output_type": "execute_result"
    }
   ],
   "source": [
    "dados_arquivo1[\"1\"][dados_arquivo1[\"1\"] .> 0.9]"
   ]
  },
  {
   "cell_type": "code",
   "execution_count": 155,
   "metadata": {
    "collapsed": false
   },
   "outputs": [
    {
     "data": {
      "text/plain": [
       "Julia data file version 0.1.1: arquivo_avancado.jld"
      ]
     },
     "execution_count": 155,
     "metadata": {},
     "output_type": "execute_result"
    }
   ],
   "source": [
    "# Este caso é melhor que load pois permite alterar o conteudo caso seja necessario\n",
    "dados_arquivo2 = jldopen(\"arquivo_avancado.jld\", \"r+\") "
   ]
  },
  {
   "cell_type": "code",
   "execution_count": 156,
   "metadata": {
    "collapsed": false
   },
   "outputs": [
    {
     "data": {
      "text/plain": [
       "Dict{String,Any} with 5 entries:\n",
       "  \"4\" => \"x*sind(x)\"\n",
       "  \"1\" => [9999.0 0.221716 … 0.390889 0.978296; 0.680554 0.486931 … 0.725103 0.4…\n",
       "  \"5\" => Amostra_objeto\n",
       "  \"2\" => [0.0200999,0.295384,0.231914,0.0883347,22222.0]\n",
       "  \"3\" => \"Arquivos\""
      ]
     },
     "execution_count": 156,
     "metadata": {},
     "output_type": "execute_result"
    }
   ],
   "source": [
    "read(dados_arquivo2)"
   ]
  },
  {
   "cell_type": "code",
   "execution_count": 157,
   "metadata": {
    "collapsed": false,
    "scrolled": true
   },
   "outputs": [
    {
     "data": {
      "text/plain": [
       "Dict{String,Any} with 1 entry:\n",
       "  \"1\" => [9999.0 0.221716 … 0.390889 0.978296; 0.680554 0.486931 … 0.725103 0.4…"
      ]
     },
     "execution_count": 157,
     "metadata": {},
     "output_type": "execute_result"
    }
   ],
   "source": [
    "filter((key, valor) -> key == \"1\", read(dados_arquivo2))"
   ]
  },
  {
   "cell_type": "code",
   "execution_count": 158,
   "metadata": {
    "collapsed": false,
    "scrolled": false
   },
   "outputs": [
    {
     "data": {
      "text/plain": [
       "6-element Array{Float64,1}:\n",
       " 9999.0     \n",
       "    0.994493\n",
       "    0.945169\n",
       "    0.915173\n",
       "    0.978296\n",
       "    0.982323"
      ]
     },
     "execution_count": 158,
     "metadata": {},
     "output_type": "execute_result"
    }
   ],
   "source": [
    "filter((valor) -> valor > 0.9, read(dados_arquivo2)[\"1\"])"
   ]
  },
  {
   "cell_type": "code",
   "execution_count": 159,
   "metadata": {
    "collapsed": false
   },
   "outputs": [
    {
     "data": {
      "text/plain": [
       "6-element Array{Float64,1}:\n",
       " 9999.0     \n",
       "    0.994493\n",
       "    0.945169\n",
       "    0.915173\n",
       "    0.978296\n",
       "    0.982323"
      ]
     },
     "execution_count": 159,
     "metadata": {},
     "output_type": "execute_result"
    }
   ],
   "source": [
    "read(dados_arquivo2)[\"1\"][read(dados_arquivo2)[\"1\"].> 0.9]"
   ]
  },
  {
   "cell_type": "markdown",
   "metadata": {},
   "source": [
    "**Comparação entre Keys**\n",
    "\n",
    "O comandos `setdiff` retorna a diferença entre os dois arquivos na forma de um dicionáro que contém os elementos que se encontram no primeiro arquivo mas não no segundo -  a ordem dos arquivos é importente. O comando `intersect` retorna um diconário que contém todos os elementos que pertence a ambos os arquivos."
   ]
  },
  {
   "cell_type": "code",
   "execution_count": 48,
   "metadata": {
    "collapsed": false
   },
   "outputs": [
    {
     "data": {
      "text/plain": [
       "Dict{String,Any} with 3 entries:\n",
       "  \"1\" => 50.05\n",
       "  \"2\" => [1,2,3]\n",
       "  \"3\" => \"Arquivos\""
      ]
     },
     "execution_count": 48,
     "metadata": {},
     "output_type": "execute_result"
    }
   ],
   "source": [
    "# criação de um novo arquivo\n",
    "save(\"arquivo_avancado_novo.jld\", \"1\",50.05, \"2\", [1,2,3], \"3\", \"Arquivos\")\n",
    "dados_arquivo_novo = load(\"arquivo_avancado_novo.jld\")"
   ]
  },
  {
   "cell_type": "code",
   "execution_count": 49,
   "metadata": {
    "collapsed": false
   },
   "outputs": [
    {
     "data": {
      "text/plain": [
       "Dict{String,Any} with 5 entries:\n",
       "  \"4\" => \"x*sind(x)\"\n",
       "  \"1\" => [9999.0 0.175144 … 0.617142 0.288299; 0.810965 0.310361 … 0.597143 0.4…\n",
       "  \"5\" => JLD.UnsupportedType\n",
       "  \"2\" => [0.803065,0.613971,0.501641,0.427833,22222.0]\n",
       "  \"3\" => \"Arquivos\""
      ]
     },
     "execution_count": 49,
     "metadata": {},
     "output_type": "execute_result"
    }
   ],
   "source": [
    "dados_arquivo2 = load(\"arquivo_avancado.jld\")"
   ]
  },
  {
   "cell_type": "code",
   "execution_count": 50,
   "metadata": {
    "collapsed": false,
    "scrolled": true
   },
   "outputs": [
    {
     "data": {
      "text/plain": [
       "4-element Array{Pair{String,Any},1}:\n",
       " Pair{String,Any}(\"4\",\"x*sind(x)\")                                                                                                                                                   \n",
       " Pair{String,Any}(\"1\",[9999.0 0.175144 … 0.617142 0.288299; 0.810965 0.310361 … 0.597143 0.420459; … ; 0.0939858 0.32162 … 0.767081 0.380435; 0.261517 0.336851 … 0.118569 0.370338])\n",
       " Pair{String,Any}(\"5\",JLD.UnsupportedType)                                                                                                                                           \n",
       " Pair{String,Any}(\"2\",[0.803065,0.613971,0.501641,0.427833,22222.0])                                                                                                                 "
      ]
     },
     "execution_count": 50,
     "metadata": {},
     "output_type": "execute_result"
    }
   ],
   "source": [
    "# listar as keys diferentes entre o dados_arquivo2 e dados_arquivo_novo\n",
    "setdiff(dados_arquivo2, dados_arquivo_novo)"
   ]
  },
  {
   "cell_type": "code",
   "execution_count": 51,
   "metadata": {
    "collapsed": false
   },
   "outputs": [
    {
     "data": {
      "text/plain": [
       "2-element Array{Pair{String,Any},1}:\n",
       " Pair{String,Any}(\"1\",50.05)  \n",
       " Pair{String,Any}(\"2\",[1,2,3])"
      ]
     },
     "execution_count": 51,
     "metadata": {},
     "output_type": "execute_result"
    }
   ],
   "source": [
    "# listar as keys diferentes entre dados_arquivo_novo e dados_arquivo2\n",
    "setdiff(dados_arquivo_novo, dados_arquivo2)"
   ]
  },
  {
   "cell_type": "code",
   "execution_count": 52,
   "metadata": {
    "collapsed": false
   },
   "outputs": [
    {
     "data": {
      "text/plain": [
       "1-element Array{Pair{String,Any},1}:\n",
       " Pair{String,Any}(\"3\",\"Arquivos\")"
      ]
     },
     "execution_count": 52,
     "metadata": {},
     "output_type": "execute_result"
    }
   ],
   "source": [
    "# elementos em comum entre os arquivos.\n",
    "intersect(dados_arquivo2, dados_arquivo_novo)"
   ]
  },
  {
   "cell_type": "markdown",
   "metadata": {},
   "source": [
    "**Map, MapReduce, Sum, Prod e List Comprehensions**"
   ]
  },
  {
   "cell_type": "code",
   "execution_count": 53,
   "metadata": {
    "collapsed": false,
    "scrolled": true
   },
   "outputs": [
    {
     "data": {
      "text/plain": [
       "Dict{String,Any} with 5 entries:\n",
       "  \"4\" => \"x*sind(x)\"\n",
       "  \"1\" => [9999.0 0.175144 … 0.617142 0.288299; 0.810965 0.310361 … 0.597143 0.4…\n",
       "  \"5\" => JLD.UnsupportedType\n",
       "  \"2\" => [0.803065,0.613971,0.501641,0.427833,22222.0]\n",
       "  \"3\" => \"Arquivos\""
      ]
     },
     "execution_count": 53,
     "metadata": {},
     "output_type": "execute_result"
    }
   ],
   "source": [
    "dados_arquivo3 = load(\"arquivo_avancado.jld\")"
   ]
  },
  {
   "cell_type": "code",
   "execution_count": 111,
   "metadata": {
    "collapsed": false,
    "scrolled": true
   },
   "outputs": [
    {
     "data": {
      "text/plain": [
       "6×6 Array{Float64,2}:\n",
       " 6360.23        0.0305189  0.0250602   0.620611    0.357144   0.0819697 \n",
       "    0.587911    0.0947851  0.619007    0.216984    0.335762   0.171623  \n",
       "    0.296201    0.1405     0.00466565  0.00215723  0.835503   0.00180301\n",
       "    0.0668241   0.698023   0.0629585   9.48025e-5  0.0835223  0.266738  \n",
       "    0.00882033  0.101665   0.645559    0.52913     0.532382   0.141265  \n",
       "    0.0676141   0.111335   0.740251    0.0135668   0.0140257  0.134036  "
      ]
     },
     "execution_count": 111,
     "metadata": {},
     "output_type": "execute_result"
    }
   ],
   "source": [
    "# mapeamento de uma função anonima aplicado a matriz do arquivo\n",
    "map(x -> x*sin(x) , dados_arquivo3[\"1\"])"
   ]
  },
  {
   "cell_type": "code",
   "execution_count": 162,
   "metadata": {
    "collapsed": false,
    "scrolled": true
   },
   "outputs": [
    {
     "data": {
      "text/plain": [
       "6368.873494611453"
      ]
     },
     "execution_count": 162,
     "metadata": {},
     "output_type": "execute_result"
    }
   ],
   "source": [
    "mapreduce(x -> x*sin(x) , + , dados_arquivo3[\"1\"])"
   ]
  },
  {
   "cell_type": "code",
   "execution_count": 163,
   "metadata": {
    "collapsed": false,
    "scrolled": true
   },
   "outputs": [
    {
     "data": {
      "text/plain": [
       "10014.164664842776"
      ]
     },
     "execution_count": 163,
     "metadata": {},
     "output_type": "execute_result"
    }
   ],
   "source": [
    "sum(dados_arquivo3[\"1\"])"
   ]
  },
  {
   "cell_type": "code",
   "execution_count": 164,
   "metadata": {
    "collapsed": false
   },
   "outputs": [
    {
     "data": {
      "text/plain": [
       "6.241389005932785e-15"
      ]
     },
     "execution_count": 164,
     "metadata": {},
     "output_type": "execute_result"
    }
   ],
   "source": [
    "prod(dados_arquivo3[\"1\"])"
   ]
  },
  {
   "cell_type": "code",
   "execution_count": 112,
   "metadata": {
    "collapsed": false,
    "scrolled": false
   },
   "outputs": [
    {
     "data": {
      "text/plain": [
       "6×6 Array{Float64,2}:\n",
       " 6360.23        0.0305189  0.0250602   0.620611    0.357144   0.0819697 \n",
       "    0.587911    0.0947851  0.619007    0.216984    0.335762   0.171623  \n",
       "    0.296201    0.1405     0.00466565  0.00215723  0.835503   0.00180301\n",
       "    0.0668241   0.698023   0.0629585   9.48025e-5  0.0835223  0.266738  \n",
       "    0.00882033  0.101665   0.645559    0.52913     0.532382   0.141265  \n",
       "    0.0676141   0.111335   0.740251    0.0135668   0.0140257  0.134036  "
      ]
     },
     "execution_count": 112,
     "metadata": {},
     "output_type": "execute_result"
    }
   ],
   "source": [
    "[x*sin(x) for x = dados_arquivo3[\"1\"]]"
   ]
  },
  {
   "cell_type": "markdown",
   "metadata": {},
   "source": [
    "### QUERY"
   ]
  },
  {
   "cell_type": "code",
   "execution_count": null,
   "metadata": {
    "collapsed": true
   },
   "outputs": [],
   "source": []
  },
  {
   "cell_type": "markdown",
   "metadata": {},
   "source": [
    "## DATA FRAMES \n",
    "\n",
    "Os dataframes são objetos usados para guardar dados na forma de tabelas. Um data frame possui colunas nomeadas, sendo que todas as colunas possuem a mesma quantidade de linhas. DataFrame é a melhor forma de guardar informações pois além de manter uma boa formatação dos dados, ainda permite que seja gravado em arquivos do tipo CSV, que podem ser abertos e manipulados em softwares de planilha tipo excel ou calc."
   ]
  },
  {
   "cell_type": "markdown",
   "metadata": {},
   "source": [
    "### CRIAR E MANIPULAR DATAFRAMES"
   ]
  },
  {
   "cell_type": "markdown",
   "metadata": {},
   "source": [
    "#### CRIAR DATAFRAMES \n",
    "\n",
    "Para criar um dataframe use a sintaxe:\n",
    "```julia\n",
    "Nome_dataFrame(nome_coluna_1 = [dado1_col_1,dado2_col_1], nome_coluna_2 = [dado1_col_2,dado2_col_2])\n",
    "\n",
    "ou\n",
    "\n",
    "nome_dataframe = DataFrame()\n",
    "nome_dataframe[:nome_coluna_1] = [dado1_col_1,dado2_col_1]\n",
    "nome_dataframe[:nome_coluna_1] = [dado1_col_1,dado2_col_1]\n",
    "\n",
    "```\n",
    "**OBS** : Nomes das colunas não podem ter espaço"
   ]
  },
  {
   "cell_type": "code",
   "execution_count": 165,
   "metadata": {
    "collapsed": true
   },
   "outputs": [],
   "source": [
    "using DataFrames"
   ]
  },
  {
   "cell_type": "code",
   "execution_count": 166,
   "metadata": {
    "collapsed": false
   },
   "outputs": [
    {
     "data": {
      "text/html": [
       "<table class=\"data-frame\"><tr><th></th><th>Nome_do_software</th><th>Ano</th></tr><tr><th>1</th><td>scilab</td><td>2005</td></tr><tr><th>2</th><td>julia</td><td>2012</td></tr></table>"
      ],
      "text/plain": [
       "2×2 DataFrames.DataFrame\n",
       "│ Row │ Nome_do_software │ Ano  │\n",
       "├─────┼──────────────────┼──────┤\n",
       "│ 1   │ \"scilab\"         │ 2005 │\n",
       "│ 2   │ \"julia\"          │ 2012 │"
      ]
     },
     "execution_count": 166,
     "metadata": {},
     "output_type": "execute_result"
    }
   ],
   "source": [
    "# criar o dataframe.\n",
    "# Nomes das colunas não podem ter espaço\n",
    "\n",
    "dados = DataFrame(Nome_do_software =[\"scilab\",\"julia\"], Ano = [2005,2012])\n",
    "dados"
   ]
  },
  {
   "cell_type": "markdown",
   "metadata": {},
   "source": [
    "Ou assim:"
   ]
  },
  {
   "cell_type": "code",
   "execution_count": 167,
   "metadata": {
    "collapsed": false,
    "scrolled": true
   },
   "outputs": [
    {
     "data": {
      "text/html": [
       "<table class=\"data-frame\"><tr><th></th><th>Nome_do_sofware</th><th>Ano</th></tr><tr><th>1</th><td>scilab</td><td>2005</td></tr><tr><th>2</th><td>julia</td><td>2012</td></tr></table>"
      ],
      "text/plain": [
       "2×2 DataFrames.DataFrame\n",
       "│ Row │ Nome_do_sofware │ Ano  │\n",
       "├─────┼─────────────────┼──────┤\n",
       "│ 1   │ \"scilab\"        │ 2005 │\n",
       "│ 2   │ \"julia\"         │ 2012 │"
      ]
     },
     "execution_count": 167,
     "metadata": {},
     "output_type": "execute_result"
    }
   ],
   "source": [
    "# Nomes das colunas não podem ter espaço\n",
    "\n",
    "dados = DataFrame()\n",
    "\n",
    "dados[:Nome_do_sofware] = [\"scilab\",\"julia\"]\n",
    "dados[:Ano]             = [2005,2012]\n",
    "dados"
   ]
  },
  {
   "cell_type": "code",
   "execution_count": 168,
   "metadata": {
    "collapsed": false
   },
   "outputs": [],
   "source": [
    "# salvar no arquivo \n",
    "writetable(\"dataframe.csv\", dados)"
   ]
  },
  {
   "cell_type": "code",
   "execution_count": 169,
   "metadata": {
    "collapsed": false,
    "scrolled": false
   },
   "outputs": [
    {
     "data": {
      "text/html": [
       "<table class=\"data-frame\"><tr><th></th><th>Nome_do_sofware</th><th>Ano</th></tr><tr><th>1</th><td>scilab</td><td>2005</td></tr><tr><th>2</th><td>julia</td><td>2012</td></tr></table>"
      ],
      "text/plain": [
       "2×2 DataFrames.DataFrame\n",
       "│ Row │ Nome_do_sofware │ Ano  │\n",
       "├─────┼─────────────────┼──────┤\n",
       "│ 1   │ \"scilab\"        │ 2005 │\n",
       "│ 2   │ \"julia\"         │ 2012 │"
      ]
     },
     "execution_count": 169,
     "metadata": {},
     "output_type": "execute_result"
    }
   ],
   "source": [
    "# exibindo o arquivo e o conteúdo \n",
    "readtable(\"dataframe.csv\")"
   ]
  },
  {
   "cell_type": "markdown",
   "metadata": {},
   "source": [
    "Outro exemplo"
   ]
  },
  {
   "cell_type": "code",
   "execution_count": 170,
   "metadata": {
    "collapsed": false,
    "scrolled": true
   },
   "outputs": [
    {
     "data": {
      "text/html": [
       "<table class=\"data-frame\"><tr><th></th><th>Nome_do_software</th><th>Ano_de_lancamento</th><th>Site</th></tr><tr><th>1</th><td>Julia</td><td>2012</td><td>julialang.org</td></tr><tr><th>2</th><td>SageMath</td><td>2005</td><td>sagemath.org</td></tr><tr><th>3</th><td>Maxima</td><td>1980</td><td>maxima.org</td></tr><tr><th>4</th><td>Octave</td><td>2000</td><td>gnu.org/octave</td></tr><tr><th>5</th><td>Maxima</td><td>1980</td><td>maxima.org</td></tr></table>"
      ],
      "text/plain": [
       "5×3 DataFrames.DataFrame\n",
       "│ Row │ Nome_do_software │ Ano_de_lancamento │ Site             │\n",
       "├─────┼──────────────────┼───────────────────┼──────────────────┤\n",
       "│ 1   │ \"Julia\"          │ 2012              │ \"julialang.org\"  │\n",
       "│ 2   │ \"SageMath\"       │ 2005              │ \"sagemath.org\"   │\n",
       "│ 3   │ \"Maxima\"         │ 1980              │ \"maxima.org\"     │\n",
       "│ 4   │ \"Octave\"         │ 2000              │ \"gnu.org/octave\" │\n",
       "│ 5   │ \"Maxima\"         │ 1980              │ \"maxima.org\"     │"
      ]
     },
     "execution_count": 170,
     "metadata": {},
     "output_type": "execute_result"
    }
   ],
   "source": [
    "# Nomes das colunas não podem ter espaço\n",
    "\n",
    "Softwares = DataFrame()\n",
    "\n",
    "Softwares[:Nome_do_software]  = [\"Julia\", \"SageMath\", \"Maxima\", \"Octave\",\"Maxima\"]\n",
    "Softwares[:Ano_de_lancamento] = [2012, 2005, 1980, 2000, 1980]\n",
    "Softwares[:Site]              = [\"julialang.org\",\"sagemath.org\",\"maxima.org\",\"gnu.org/octave\", \"maxima.org\"]\n",
    "\n",
    "Softwares"
   ]
  },
  {
   "cell_type": "code",
   "execution_count": 171,
   "metadata": {
    "collapsed": false
   },
   "outputs": [
    {
     "data": {
      "text/plain": [
       "3-element Array{Symbol,1}:\n",
       " :Nome_do_software \n",
       " :Ano_de_lancamento\n",
       " :Site             "
      ]
     },
     "execution_count": 171,
     "metadata": {},
     "output_type": "execute_result"
    }
   ],
   "source": [
    "# Visualizar cabeçalho das colunas\n",
    "names(Softwares) "
   ]
  },
  {
   "cell_type": "code",
   "execution_count": 172,
   "metadata": {
    "collapsed": false,
    "scrolled": true
   },
   "outputs": [
    {
     "data": {
      "text/plain": [
       "3-element Array{Type,1}:\n",
       " String\n",
       " Int64 \n",
       " String"
      ]
     },
     "execution_count": 172,
     "metadata": {},
     "output_type": "execute_result"
    }
   ],
   "source": [
    "# saber os tipos dos elementos do dataframe. Aqui temos String (primeira coluna) e tipo Inteiro (segunda coluna)\n",
    "eltypes(Softwares)"
   ]
  },
  {
   "cell_type": "code",
   "execution_count": 173,
   "metadata": {
    "collapsed": true
   },
   "outputs": [],
   "source": [
    "# salvar no arquivo \n",
    "writetable(\"softwares_dataframe.csv\", Softwares)"
   ]
  },
  {
   "cell_type": "markdown",
   "metadata": {},
   "source": [
    "#### MANIPULAR COLUNAS, LINHAS E CONCATENAR DATAFRAMES"
   ]
  },
  {
   "cell_type": "code",
   "execution_count": 174,
   "metadata": {
    "collapsed": false
   },
   "outputs": [],
   "source": [
    "using DataFrames"
   ]
  },
  {
   "cell_type": "markdown",
   "metadata": {},
   "source": [
    "** Para adicionar uma nova coluna de dados ao DataFrame use:**\n",
    "```julia\n",
    "DataFrame[:nova_coluna] = [vetor_dados]\n",
    "```"
   ]
  },
  {
   "cell_type": "code",
   "execution_count": 175,
   "metadata": {
    "collapsed": false,
    "scrolled": true
   },
   "outputs": [
    {
     "data": {
      "text/html": [
       "<table class=\"data-frame\"><tr><th></th><th>Nome_do_sofware</th><th>Ano</th></tr><tr><th>1</th><td>scilab</td><td>2005</td></tr><tr><th>2</th><td>julia</td><td>2012</td></tr></table>"
      ],
      "text/plain": [
       "2×2 DataFrames.DataFrame\n",
       "│ Row │ Nome_do_sofware │ Ano  │\n",
       "├─────┼─────────────────┼──────┤\n",
       "│ 1   │ \"scilab\"        │ 2005 │\n",
       "│ 2   │ \"julia\"         │ 2012 │"
      ]
     },
     "execution_count": 175,
     "metadata": {},
     "output_type": "execute_result"
    }
   ],
   "source": [
    "# Copia dataframe \"dados\" gravado em arquivo\n",
    "dados1 = readtable(\"dataframe.csv\")"
   ]
  },
  {
   "cell_type": "code",
   "execution_count": 176,
   "metadata": {
    "collapsed": false,
    "scrolled": true
   },
   "outputs": [
    {
     "data": {
      "text/plain": [
       "2-element Array{String,1}:\n",
       " \"Sim\"\n",
       " \"Sim\""
      ]
     },
     "execution_count": 176,
     "metadata": {},
     "output_type": "execute_result"
    }
   ],
   "source": [
    "# Adicionar uma nova coluna de dados\n",
    "dados1[:Gostei] = [\"Sim\", \"Sim\"]"
   ]
  },
  {
   "cell_type": "code",
   "execution_count": 177,
   "metadata": {
    "collapsed": false,
    "scrolled": false
   },
   "outputs": [
    {
     "data": {
      "text/html": [
       "<table class=\"data-frame\"><tr><th></th><th>Nome_do_sofware</th><th>Ano</th><th>Gostei</th></tr><tr><th>1</th><td>scilab</td><td>2005</td><td>Sim</td></tr><tr><th>2</th><td>julia</td><td>2012</td><td>Sim</td></tr></table>"
      ],
      "text/plain": [
       "2×3 DataFrames.DataFrame\n",
       "│ Row │ Nome_do_sofware │ Ano  │ Gostei │\n",
       "├─────┼─────────────────┼──────┼────────┤\n",
       "│ 1   │ \"scilab\"        │ 2005 │ \"Sim\"  │\n",
       "│ 2   │ \"julia\"         │ 2012 │ \"Sim\"  │"
      ]
     },
     "execution_count": 177,
     "metadata": {},
     "output_type": "execute_result"
    }
   ],
   "source": [
    "dados1"
   ]
  },
  {
   "cell_type": "markdown",
   "metadata": {},
   "source": [
    "** Para deletar uma coluna use:**\n",
    "```julia\n",
    "delete!(Dataframe, :nome_coluna)\n",
    "```"
   ]
  },
  {
   "cell_type": "code",
   "execution_count": 178,
   "metadata": {
    "collapsed": false,
    "scrolled": true
   },
   "outputs": [
    {
     "data": {
      "text/html": [
       "<table class=\"data-frame\"><tr><th></th><th>Nome_do_sofware</th><th>Ano</th></tr><tr><th>1</th><td>scilab</td><td>2005</td></tr><tr><th>2</th><td>julia</td><td>2012</td></tr></table>"
      ],
      "text/plain": [
       "2×2 DataFrames.DataFrame\n",
       "│ Row │ Nome_do_sofware │ Ano  │\n",
       "├─────┼─────────────────┼──────┤\n",
       "│ 1   │ \"scilab\"        │ 2005 │\n",
       "│ 2   │ \"julia\"         │ 2012 │"
      ]
     },
     "execution_count": 178,
     "metadata": {},
     "output_type": "execute_result"
    }
   ],
   "source": [
    "delete!(dados1, :Gostei)"
   ]
  },
  {
   "cell_type": "markdown",
   "metadata": {},
   "source": [
    "** Para alterar nome de uma coluna use:**\n",
    "```julia\n",
    "rename(Dataframe,:nome_coluna,:novo_nome_coluna) # apenas uma coluna\n",
    "names!(Dataframe, [:novo_nome_coluna_1, :novo_nome_coluna_2]) # todas as colunas\n",
    "```"
   ]
  },
  {
   "cell_type": "code",
   "execution_count": 179,
   "metadata": {
    "collapsed": false,
    "scrolled": true
   },
   "outputs": [
    {
     "data": {
      "text/html": [
       "<table class=\"data-frame\"><tr><th></th><th>Nome_do_sofware</th><th>Ano</th></tr><tr><th>1</th><td>scilab</td><td>2005</td></tr><tr><th>2</th><td>julia</td><td>2012</td></tr></table>"
      ],
      "text/plain": [
       "2×2 DataFrames.DataFrame\n",
       "│ Row │ Nome_do_sofware │ Ano  │\n",
       "├─────┼─────────────────┼──────┤\n",
       "│ 1   │ \"scilab\"        │ 2005 │\n",
       "│ 2   │ \"julia\"         │ 2012 │"
      ]
     },
     "execution_count": 179,
     "metadata": {},
     "output_type": "execute_result"
    }
   ],
   "source": [
    "# Copia dataframe \"dados\" gravado em arquivo\n",
    "dados2 = readtable(\"dataframe.csv\")"
   ]
  },
  {
   "cell_type": "code",
   "execution_count": 180,
   "metadata": {
    "collapsed": false,
    "scrolled": false
   },
   "outputs": [
    {
     "data": {
      "text/html": [
       "<table class=\"data-frame\"><tr><th></th><th>Nome_programa</th><th>Ano</th></tr><tr><th>1</th><td>scilab</td><td>2005</td></tr><tr><th>2</th><td>julia</td><td>2012</td></tr></table>"
      ],
      "text/plain": [
       "2×2 DataFrames.DataFrame\n",
       "│ Row │ Nome_programa │ Ano  │\n",
       "├─────┼───────────────┼──────┤\n",
       "│ 1   │ \"scilab\"      │ 2005 │\n",
       "│ 2   │ \"julia\"       │ 2012 │"
      ]
     },
     "execution_count": 180,
     "metadata": {},
     "output_type": "execute_result"
    }
   ],
   "source": [
    "# Alterar o nome da coluna 1 \"Nome_do_sofware\" para \"Nome_do_programa\"\n",
    "rename(dados2, :Nome_do_sofware,:Nome_programa)"
   ]
  },
  {
   "cell_type": "markdown",
   "metadata": {},
   "source": [
    "** Para concatenar Dataframes na horizontal use:**\n",
    "```julia\n",
    "[Dataframe_1  Dataframe_2] ou\n",
    "hcat(Dataframe_1 , Dataframe_2)\n",
    "```"
   ]
  },
  {
   "cell_type": "code",
   "execution_count": 181,
   "metadata": {
    "collapsed": false
   },
   "outputs": [
    {
     "data": {
      "text/html": [
       "<table class=\"data-frame\"><tr><th></th><th>Nome_do_sofware</th><th>Ano</th></tr><tr><th>1</th><td>scilab</td><td>2005</td></tr><tr><th>2</th><td>julia</td><td>2012</td></tr></table>"
      ],
      "text/plain": [
       "2×2 DataFrames.DataFrame\n",
       "│ Row │ Nome_do_sofware │ Ano  │\n",
       "├─────┼─────────────────┼──────┤\n",
       "│ 1   │ \"scilab\"        │ 2005 │\n",
       "│ 2   │ \"julia\"         │ 2012 │"
      ]
     },
     "execution_count": 181,
     "metadata": {},
     "output_type": "execute_result"
    }
   ],
   "source": [
    "# Copia dataframe \"dados\" gravado em arquivo\n",
    "dados3 = readtable(\"dataframe.csv\")"
   ]
  },
  {
   "cell_type": "code",
   "execution_count": 182,
   "metadata": {
    "collapsed": false,
    "scrolled": true
   },
   "outputs": [
    {
     "data": {
      "text/html": [
       "<table class=\"data-frame\"><tr><th></th><th>Nome_do_sofware</th><th>Ano</th></tr><tr><th>1</th><td>scilab</td><td>2005</td></tr><tr><th>2</th><td>axiom</td><td>1980</td></tr></table>"
      ],
      "text/plain": [
       "2×2 DataFrames.DataFrame\n",
       "│ Row │ Nome_do_sofware │ Ano  │\n",
       "├─────┼─────────────────┼──────┤\n",
       "│ 1   │ \"scilab\"        │ 2005 │\n",
       "│ 2   │ \"axiom\"         │ 1980 │"
      ]
     },
     "execution_count": 182,
     "metadata": {},
     "output_type": "execute_result"
    }
   ],
   "source": [
    "# Novo Dataframe \n",
    "\n",
    "dados_novos = DataFrame()\n",
    "\n",
    "dados_novos[:Nome_do_sofware] = [\"scilab\",\"axiom\"]\n",
    "dados_novos[:Ano]             = [2005,1980]\n",
    "\n",
    "dados_novos"
   ]
  },
  {
   "cell_type": "code",
   "execution_count": 183,
   "metadata": {
    "collapsed": false,
    "scrolled": true
   },
   "outputs": [
    {
     "data": {
      "text/html": [
       "<table class=\"data-frame\"><tr><th></th><th>Nome_do_sofware</th><th>Ano</th><th>Nome_do_sofware_1</th><th>Ano_1</th></tr><tr><th>1</th><td>scilab</td><td>2005</td><td>scilab</td><td>2005</td></tr><tr><th>2</th><td>julia</td><td>2012</td><td>axiom</td><td>1980</td></tr></table>"
      ],
      "text/plain": [
       "2×4 DataFrames.DataFrame\n",
       "│ Row │ Nome_do_sofware │ Ano  │ Nome_do_sofware_1 │ Ano_1 │\n",
       "├─────┼─────────────────┼──────┼───────────────────┼───────┤\n",
       "│ 1   │ \"scilab\"        │ 2005 │ \"scilab\"          │ 2005  │\n",
       "│ 2   │ \"julia\"         │ 2012 │ \"axiom\"           │ 1980  │"
      ]
     },
     "execution_count": 183,
     "metadata": {},
     "output_type": "execute_result"
    }
   ],
   "source": [
    "# Concatenar na horizontal\n",
    "dados5 = [dados3 dados_novos]"
   ]
  },
  {
   "cell_type": "markdown",
   "metadata": {},
   "source": [
    "Ou "
   ]
  },
  {
   "cell_type": "code",
   "execution_count": 184,
   "metadata": {
    "collapsed": false,
    "scrolled": false
   },
   "outputs": [
    {
     "data": {
      "text/html": [
       "<table class=\"data-frame\"><tr><th></th><th>Nome_do_sofware</th><th>Ano</th><th>Nome_do_sofware_1</th><th>Ano_1</th></tr><tr><th>1</th><td>scilab</td><td>2005</td><td>scilab</td><td>2005</td></tr><tr><th>2</th><td>julia</td><td>2012</td><td>axiom</td><td>1980</td></tr></table>"
      ],
      "text/plain": [
       "2×4 DataFrames.DataFrame\n",
       "│ Row │ Nome_do_sofware │ Ano  │ Nome_do_sofware_1 │ Ano_1 │\n",
       "├─────┼─────────────────┼──────┼───────────────────┼───────┤\n",
       "│ 1   │ \"scilab\"        │ 2005 │ \"scilab\"          │ 2005  │\n",
       "│ 2   │ \"julia\"         │ 2012 │ \"axiom\"           │ 1980  │"
      ]
     },
     "execution_count": 184,
     "metadata": {},
     "output_type": "execute_result"
    }
   ],
   "source": [
    "dados5 =  hcat(dados3 , dados_novos)"
   ]
  },
  {
   "cell_type": "markdown",
   "metadata": {},
   "source": [
    "** Para concatenar Dataframes na vertical use:**\n",
    "```julia\n",
    "[Dataframe_1 ; Dataframe_2] ou\n",
    "vcat(Dataframe_1 , Dataframe_2)\n",
    "```"
   ]
  },
  {
   "cell_type": "code",
   "execution_count": 185,
   "metadata": {
    "collapsed": false,
    "scrolled": true
   },
   "outputs": [
    {
     "data": {
      "text/html": [
       "<table class=\"data-frame\"><tr><th></th><th>Nome_do_sofware</th><th>Ano</th></tr><tr><th>1</th><td>scilab</td><td>2005</td></tr><tr><th>2</th><td>julia</td><td>2012</td></tr><tr><th>3</th><td>scilab</td><td>2005</td></tr><tr><th>4</th><td>axiom</td><td>1980</td></tr></table>"
      ],
      "text/plain": [
       "4×2 DataFrames.DataFrame\n",
       "│ Row │ Nome_do_sofware │ Ano  │\n",
       "├─────┼─────────────────┼──────┤\n",
       "│ 1   │ \"scilab\"        │ 2005 │\n",
       "│ 2   │ \"julia\"         │ 2012 │\n",
       "│ 3   │ \"scilab\"        │ 2005 │\n",
       "│ 4   │ \"axiom\"         │ 1980 │"
      ]
     },
     "execution_count": 185,
     "metadata": {},
     "output_type": "execute_result"
    }
   ],
   "source": [
    "# Concatenar na vertical\n",
    "dados4 = [dados3; dados_novos]"
   ]
  },
  {
   "cell_type": "markdown",
   "metadata": {},
   "source": [
    "Ou"
   ]
  },
  {
   "cell_type": "code",
   "execution_count": 186,
   "metadata": {
    "collapsed": false
   },
   "outputs": [
    {
     "data": {
      "text/html": [
       "<table class=\"data-frame\"><tr><th></th><th>Nome_do_sofware</th><th>Ano</th></tr><tr><th>1</th><td>scilab</td><td>2005</td></tr><tr><th>2</th><td>julia</td><td>2012</td></tr><tr><th>3</th><td>scilab</td><td>2005</td></tr><tr><th>4</th><td>axiom</td><td>1980</td></tr></table>"
      ],
      "text/plain": [
       "4×2 DataFrames.DataFrame\n",
       "│ Row │ Nome_do_sofware │ Ano  │\n",
       "├─────┼─────────────────┼──────┤\n",
       "│ 1   │ \"scilab\"        │ 2005 │\n",
       "│ 2   │ \"julia\"         │ 2012 │\n",
       "│ 3   │ \"scilab\"        │ 2005 │\n",
       "│ 4   │ \"axiom\"         │ 1980 │"
      ]
     },
     "execution_count": 186,
     "metadata": {},
     "output_type": "execute_result"
    }
   ],
   "source": [
    "dados4 =  vcat(dados3 , dados_novos)"
   ]
  },
  {
   "cell_type": "markdown",
   "metadata": {},
   "source": [
    "Se os Dataframes tiverem somente uma coluna com nome em comum e mesmo tamanho pode ser usado a forma:\n",
    "```julia\n",
    "join(Dataframe_1,Dataframe_2, on = :nome_coluna_comum)\n",
    "```"
   ]
  },
  {
   "cell_type": "markdown",
   "metadata": {},
   "source": [
    "** Para deletar linhas e linhas com dados repetidos use:**\n",
    "```julia\n",
    "deleterows!(DataFrame, [linha_1,linha_2,...]) # apaga as linhas e modifica o Dataframe(CUIDADO!)\n",
    "deleterows!(DataFrame, linha_1:linha_x)       # apaga as linhas e modifica o Dataframe(CUIDADO!)\n",
    "\n",
    "unique(DataFrame)  # apaga a linha repetida \n",
    "unique!(DataFrame) # apaga a linha repetida e modifica o Dataframe(CUIDADO!)\n",
    "```\n",
    "Sendo x um número inteiro que representa a coluna ou elemento."
   ]
  },
  {
   "cell_type": "code",
   "execution_count": 187,
   "metadata": {
    "collapsed": false,
    "scrolled": true
   },
   "outputs": [
    {
     "data": {
      "text/html": [
       "<table class=\"data-frame\"><tr><th></th><th>Nome_do_sofware</th><th>Ano</th></tr><tr><th>1</th><td>scilab</td><td>2005</td></tr><tr><th>2</th><td>julia</td><td>2012</td></tr><tr><th>3</th><td>scilab</td><td>2005</td></tr><tr><th>4</th><td>axiom</td><td>1980</td></tr></table>"
      ],
      "text/plain": [
       "4×2 DataFrames.DataFrame\n",
       "│ Row │ Nome_do_sofware │ Ano  │\n",
       "├─────┼─────────────────┼──────┤\n",
       "│ 1   │ \"scilab\"        │ 2005 │\n",
       "│ 2   │ \"julia\"         │ 2012 │\n",
       "│ 3   │ \"scilab\"        │ 2005 │\n",
       "│ 4   │ \"axiom\"         │ 1980 │"
      ]
     },
     "execution_count": 187,
     "metadata": {},
     "output_type": "execute_result"
    }
   ],
   "source": [
    "dados4"
   ]
  },
  {
   "cell_type": "code",
   "execution_count": 188,
   "metadata": {
    "collapsed": false
   },
   "outputs": [
    {
     "data": {
      "text/html": [
       "<table class=\"data-frame\"><tr><th></th><th>Nome_do_sofware</th><th>Ano</th></tr><tr><th>1</th><td>scilab</td><td>2005</td></tr><tr><th>2</th><td>scilab</td><td>2005</td></tr><tr><th>3</th><td>axiom</td><td>1980</td></tr></table>"
      ],
      "text/plain": [
       "3×2 DataFrames.DataFrame\n",
       "│ Row │ Nome_do_sofware │ Ano  │\n",
       "├─────┼─────────────────┼──────┤\n",
       "│ 1   │ \"scilab\"        │ 2005 │\n",
       "│ 2   │ \"scilab\"        │ 2005 │\n",
       "│ 3   │ \"axiom\"         │ 1980 │"
      ]
     },
     "execution_count": 188,
     "metadata": {},
     "output_type": "execute_result"
    }
   ],
   "source": [
    "# deletar uma linha\n",
    "deleterows!(dados4, 2)"
   ]
  },
  {
   "cell_type": "code",
   "execution_count": 189,
   "metadata": {
    "collapsed": false,
    "scrolled": false
   },
   "outputs": [
    {
     "data": {
      "text/html": [
       "<table class=\"data-frame\"><tr><th></th><th>Nome_do_sofware</th><th>Ano</th></tr><tr><th>1</th><td>scilab</td><td>2005</td></tr><tr><th>2</th><td>axiom</td><td>1980</td></tr></table>"
      ],
      "text/plain": [
       "2×2 DataFrames.DataFrame\n",
       "│ Row │ Nome_do_sofware │ Ano  │\n",
       "├─────┼─────────────────┼──────┤\n",
       "│ 1   │ \"scilab\"        │ 2005 │\n",
       "│ 2   │ \"axiom\"         │ 1980 │"
      ]
     },
     "execution_count": 189,
     "metadata": {},
     "output_type": "execute_result"
    }
   ],
   "source": [
    "# deletar linhas de dados repetido\n",
    "unique!(dados4)"
   ]
  },
  {
   "cell_type": "markdown",
   "metadata": {},
   "source": [
    "** Para ordenar os elementos de um Dataframe**\n"
   ]
  },
  {
   "cell_type": "code",
   "execution_count": 190,
   "metadata": {
    "collapsed": false,
    "scrolled": true
   },
   "outputs": [
    {
     "data": {
      "text/html": [
       "<table class=\"data-frame\"><tr><th></th><th>Nome_do_sofware</th><th>Ano</th></tr><tr><th>1</th><td>scilab</td><td>2005</td></tr><tr><th>2</th><td>julia</td><td>2012</td></tr></table>"
      ],
      "text/plain": [
       "2×2 DataFrames.DataFrame\n",
       "│ Row │ Nome_do_sofware │ Ano  │\n",
       "├─────┼─────────────────┼──────┤\n",
       "│ 1   │ \"scilab\"        │ 2005 │\n",
       "│ 2   │ \"julia\"         │ 2012 │"
      ]
     },
     "execution_count": 190,
     "metadata": {},
     "output_type": "execute_result"
    }
   ],
   "source": [
    "# Copia dataframe \"dados\" gravado em arquivo\n",
    "dados6 = readtable(\"dataframe.csv\")"
   ]
  },
  {
   "cell_type": "code",
   "execution_count": 191,
   "metadata": {
    "collapsed": false
   },
   "outputs": [
    {
     "data": {
      "text/html": [
       "<table class=\"data-frame\"><tr><th></th><th>Nome_do_sofware</th><th>Ano</th></tr><tr><th>1</th><td>julia</td><td>2012</td></tr><tr><th>2</th><td>scilab</td><td>2005</td></tr></table>"
      ],
      "text/plain": [
       "2×2 DataFrames.DataFrame\n",
       "│ Row │ Nome_do_sofware │ Ano  │\n",
       "├─────┼─────────────────┼──────┤\n",
       "│ 1   │ \"julia\"         │ 2012 │\n",
       "│ 2   │ \"scilab\"        │ 2005 │"
      ]
     },
     "execution_count": 191,
     "metadata": {},
     "output_type": "execute_result"
    }
   ],
   "source": [
    "# ordena e atualiza\n",
    "sort!(dados6, cols = order(:Nome_do_sofware))"
   ]
  },
  {
   "cell_type": "markdown",
   "metadata": {},
   "source": [
    "#### VISUALIZAR E ALTERAR DADOS EM UM DATAFRAME"
   ]
  },
  {
   "cell_type": "code",
   "execution_count": 192,
   "metadata": {
    "collapsed": false
   },
   "outputs": [],
   "source": [
    "using DataFrames"
   ]
  },
  {
   "cell_type": "code",
   "execution_count": 193,
   "metadata": {
    "collapsed": false,
    "scrolled": true
   },
   "outputs": [
    {
     "data": {
      "text/html": [
       "<table class=\"data-frame\"><tr><th></th><th>Nome_do_software</th><th>Ano_de_lancamento</th><th>Site</th></tr><tr><th>1</th><td>Julia</td><td>2012</td><td>julialang.org</td></tr><tr><th>2</th><td>SageMath</td><td>2005</td><td>sagemath.org</td></tr><tr><th>3</th><td>Maxima</td><td>1980</td><td>maxima.org</td></tr><tr><th>4</th><td>Octave</td><td>2000</td><td>gnu.org/octave</td></tr><tr><th>5</th><td>Maxima</td><td>1980</td><td>maxima.org</td></tr></table>"
      ],
      "text/plain": [
       "5×3 DataFrames.DataFrame\n",
       "│ Row │ Nome_do_software │ Ano_de_lancamento │ Site             │\n",
       "├─────┼──────────────────┼───────────────────┼──────────────────┤\n",
       "│ 1   │ \"Julia\"          │ 2012              │ \"julialang.org\"  │\n",
       "│ 2   │ \"SageMath\"       │ 2005              │ \"sagemath.org\"   │\n",
       "│ 3   │ \"Maxima\"         │ 1980              │ \"maxima.org\"     │\n",
       "│ 4   │ \"Octave\"         │ 2000              │ \"gnu.org/octave\" │\n",
       "│ 5   │ \"Maxima\"         │ 1980              │ \"maxima.org\"     │"
      ]
     },
     "execution_count": 193,
     "metadata": {},
     "output_type": "execute_result"
    }
   ],
   "source": [
    "# copiar Dataframe gravado em arquivo\n",
    "Softwares1 = readtable(\"softwares_dataframe.csv\")"
   ]
  },
  {
   "cell_type": "markdown",
   "metadata": {},
   "source": [
    "**Visualizar dados**\n",
    "\n",
    "```julia\n",
    "DataFrame[:nome_coluna_x]              # Somente os elementos da coluna_x\n",
    "DataFrame[coluna_x]                    # Somente os elementos da coluna_x\n",
    "\n",
    "DataFrame[:nome_coluna_x][elemento_x]  # Somente um elemento da coluna_x e linha_x\n",
    "DataFrame[coluna_x][elemento_x]        # Somente um elemento da coluna_x e linha_x\n",
    "```"
   ]
  },
  {
   "cell_type": "code",
   "execution_count": 194,
   "metadata": {
    "collapsed": false
   },
   "outputs": [
    {
     "data": {
      "text/plain": [
       "5-element DataArrays.DataArray{String,1}:\n",
       " \"Julia\"   \n",
       " \"SageMath\"\n",
       " \"Maxima\"  \n",
       " \"Octave\"  \n",
       " \"Maxima\"  "
      ]
     },
     "execution_count": 194,
     "metadata": {},
     "output_type": "execute_result"
    }
   ],
   "source": [
    "# Visualizando toda a primeira coluna\n",
    "Softwares1[:Nome_do_software]"
   ]
  },
  {
   "cell_type": "code",
   "execution_count": 195,
   "metadata": {
    "collapsed": false
   },
   "outputs": [
    {
     "data": {
      "text/plain": [
       "5-element DataArrays.DataArray{String,1}:\n",
       " \"Julia\"   \n",
       " \"SageMath\"\n",
       " \"Maxima\"  \n",
       " \"Octave\"  \n",
       " \"Maxima\"  "
      ]
     },
     "execution_count": 195,
     "metadata": {},
     "output_type": "execute_result"
    }
   ],
   "source": [
    "# Visualizando toda a primeira coluna\n",
    "Softwares1[1]"
   ]
  },
  {
   "cell_type": "code",
   "execution_count": 196,
   "metadata": {
    "collapsed": false
   },
   "outputs": [
    {
     "data": {
      "text/plain": [
       "\"Maxima\""
      ]
     },
     "execution_count": 196,
     "metadata": {},
     "output_type": "execute_result"
    }
   ],
   "source": [
    "# acessando o terceiro elemento da primeira coluna\n",
    "Softwares1[:Nome_do_software][3]"
   ]
  },
  {
   "cell_type": "code",
   "execution_count": 197,
   "metadata": {
    "collapsed": false,
    "scrolled": true
   },
   "outputs": [
    {
     "data": {
      "text/plain": [
       "\"Maxima\""
      ]
     },
     "execution_count": 197,
     "metadata": {},
     "output_type": "execute_result"
    }
   ],
   "source": [
    "# acessando o terceiro elemento da primeira coluna\n",
    "Softwares1[1][3]"
   ]
  },
  {
   "cell_type": "markdown",
   "metadata": {},
   "source": [
    "**Alterar dados em um dataframe**\n",
    "\n",
    "```julia\n",
    "DataFrame[:nome_coluna_x][elemento_x] = novo_dado           # altera o dado da coluna_x e linha_x\n",
    "DataFrame[coluna_x][elemento_x]       = novo_dado           # altera o dado da coluna_x e linha_x\n",
    "DataFrame[[elem_x1,elem_x2,elem_x3],:coluna_x] = novo_dado* # altera os dados dos elem x1,x2,x3 da coluna_x\n",
    "\n",
    "*novo_dado pode ser um vetor correspondente aos novos dados de elem x1,x2,x3...\n",
    "```"
   ]
  },
  {
   "cell_type": "code",
   "execution_count": 198,
   "metadata": {
    "collapsed": false
   },
   "outputs": [
    {
     "data": {
      "text/plain": [
       "\"maXIma\""
      ]
     },
     "execution_count": 198,
     "metadata": {},
     "output_type": "execute_result"
    }
   ],
   "source": [
    "# alterando o valor do terceiro elemrnto da primeira coluna\n",
    "Softwares1[1][3] = \"maXIma\""
   ]
  },
  {
   "cell_type": "code",
   "execution_count": 199,
   "metadata": {
    "collapsed": false,
    "scrolled": true
   },
   "outputs": [
    {
     "data": {
      "text/html": [
       "<table class=\"data-frame\"><tr><th></th><th>Nome_do_software</th><th>Ano_de_lancamento</th><th>Site</th></tr><tr><th>1</th><td>Julia</td><td>2012</td><td>julialang.org</td></tr><tr><th>2</th><td>SageMath</td><td>2005</td><td>sagemath.org</td></tr><tr><th>3</th><td>maXIma</td><td>1980</td><td>maxima.org</td></tr><tr><th>4</th><td>Octave</td><td>2000</td><td>gnu.org/octave</td></tr><tr><th>5</th><td>Maxima</td><td>1980</td><td>maxima.org</td></tr></table>"
      ],
      "text/plain": [
       "5×3 DataFrames.DataFrame\n",
       "│ Row │ Nome_do_software │ Ano_de_lancamento │ Site             │\n",
       "├─────┼──────────────────┼───────────────────┼──────────────────┤\n",
       "│ 1   │ \"Julia\"          │ 2012              │ \"julialang.org\"  │\n",
       "│ 2   │ \"SageMath\"       │ 2005              │ \"sagemath.org\"   │\n",
       "│ 3   │ \"maXIma\"         │ 1980              │ \"maxima.org\"     │\n",
       "│ 4   │ \"Octave\"         │ 2000              │ \"gnu.org/octave\" │\n",
       "│ 5   │ \"Maxima\"         │ 1980              │ \"maxima.org\"     │"
      ]
     },
     "execution_count": 199,
     "metadata": {},
     "output_type": "execute_result"
    }
   ],
   "source": [
    "# veja o novo nome do software maxima\n",
    "Softwares1"
   ]
  },
  {
   "cell_type": "markdown",
   "metadata": {},
   "source": [
    "**Adicionar linha de dados**\n",
    "\n",
    "```julia\n",
    "push!(Dataframe, [dado_col_x1,dado_col_x2])\n",
    "ou\n",
    "nome_Dataframe = vcat(nome_Dataframe, DataFrame(dado_col_x1 = valor,dado_col_x2 = valor))\n",
    "```\n",
    "Sendo x um número inteiro que representa a coluna ou elemento.\n"
   ]
  },
  {
   "cell_type": "code",
   "execution_count": 200,
   "metadata": {
    "collapsed": false
   },
   "outputs": [],
   "source": [
    "push!(Softwares1, [\"FreeMat\",2001,\"freemat.org\"])"
   ]
  },
  {
   "cell_type": "code",
   "execution_count": 201,
   "metadata": {
    "collapsed": false,
    "scrolled": true
   },
   "outputs": [
    {
     "data": {
      "text/html": [
       "<table class=\"data-frame\"><tr><th></th><th>Nome_do_software</th><th>Ano_de_lancamento</th><th>Site</th></tr><tr><th>1</th><td>Julia</td><td>2012</td><td>julialang.org</td></tr><tr><th>2</th><td>SageMath</td><td>2005</td><td>sagemath.org</td></tr><tr><th>3</th><td>maXIma</td><td>1980</td><td>maxima.org</td></tr><tr><th>4</th><td>Octave</td><td>2000</td><td>gnu.org/octave</td></tr><tr><th>5</th><td>Maxima</td><td>1980</td><td>maxima.org</td></tr><tr><th>6</th><td>FreeMat</td><td>2001</td><td>freemat.org</td></tr></table>"
      ],
      "text/plain": [
       "6×3 DataFrames.DataFrame\n",
       "│ Row │ Nome_do_software │ Ano_de_lancamento │ Site             │\n",
       "├─────┼──────────────────┼───────────────────┼──────────────────┤\n",
       "│ 1   │ \"Julia\"          │ 2012              │ \"julialang.org\"  │\n",
       "│ 2   │ \"SageMath\"       │ 2005              │ \"sagemath.org\"   │\n",
       "│ 3   │ \"maXIma\"         │ 1980              │ \"maxima.org\"     │\n",
       "│ 4   │ \"Octave\"         │ 2000              │ \"gnu.org/octave\" │\n",
       "│ 5   │ \"Maxima\"         │ 1980              │ \"maxima.org\"     │\n",
       "│ 6   │ \"FreeMat\"        │ 2001              │ \"freemat.org\"    │"
      ]
     },
     "execution_count": 201,
     "metadata": {},
     "output_type": "execute_result"
    }
   ],
   "source": [
    "Softwares1"
   ]
  },
  {
   "cell_type": "code",
   "execution_count": 202,
   "metadata": {
    "collapsed": false
   },
   "outputs": [
    {
     "data": {
      "text/html": [
       "<table class=\"data-frame\"><tr><th></th><th>Nome_do_software</th><th>Ano_de_lancamento</th><th>Site</th></tr><tr><th>1</th><td>Julia</td><td>2012</td><td>julialang.org</td></tr><tr><th>2</th><td>SageMath</td><td>2005</td><td>sagemath.org</td></tr><tr><th>3</th><td>maXIma</td><td>1980</td><td>maxima.org</td></tr><tr><th>4</th><td>Octave</td><td>2000</td><td>gnu.org/octave</td></tr><tr><th>5</th><td>Maxima</td><td>1980</td><td>maxima.org</td></tr><tr><th>6</th><td>FreeMat</td><td>2001</td><td>freemat.org</td></tr><tr><th>7</th><td>FreeMat</td><td>2001</td><td>freemat.org</td></tr></table>"
      ],
      "text/plain": [
       "7×3 DataFrames.DataFrame\n",
       "│ Row │ Nome_do_software │ Ano_de_lancamento │ Site             │\n",
       "├─────┼──────────────────┼───────────────────┼──────────────────┤\n",
       "│ 1   │ \"Julia\"          │ 2012              │ \"julialang.org\"  │\n",
       "│ 2   │ \"SageMath\"       │ 2005              │ \"sagemath.org\"   │\n",
       "│ 3   │ \"maXIma\"         │ 1980              │ \"maxima.org\"     │\n",
       "│ 4   │ \"Octave\"         │ 2000              │ \"gnu.org/octave\" │\n",
       "│ 5   │ \"Maxima\"         │ 1980              │ \"maxima.org\"     │\n",
       "│ 6   │ \"FreeMat\"        │ 2001              │ \"freemat.org\"    │\n",
       "│ 7   │ \"FreeMat\"        │ 2001              │ \"freemat.org\"    │"
      ]
     },
     "execution_count": 202,
     "metadata": {},
     "output_type": "execute_result"
    }
   ],
   "source": [
    "# outra forma de adicionar uma linha de dados. Ficará 2 \"FreeMat\"\n",
    "Softwares1 = vcat(Softwares1,DataFrame(Nome_do_software=\"FreeMat\",Ano_de_lancamento=2001,Site=\"freemat.org\"))"
   ]
  },
  {
   "cell_type": "markdown",
   "metadata": {},
   "source": [
    "**Ordenando dados**\n",
    "```julia\n",
    "sort(Dataframe, cols = order(:nome_coluna))\n",
    "sort!(Dataframe, cols = order(:nome_coluna)) # ordena e modifica o Dataframe(CUIDADO!)\n",
    "```\n",
    "Use somente **sort** sem o \"! \" para evitar a atualização do vetor"
   ]
  },
  {
   "cell_type": "code",
   "execution_count": 203,
   "metadata": {
    "collapsed": false,
    "scrolled": false
   },
   "outputs": [
    {
     "data": {
      "text/html": [
       "<table class=\"data-frame\"><tr><th></th><th>Nome_do_software</th><th>Ano_de_lancamento</th><th>Site</th></tr><tr><th>1</th><td>maXIma</td><td>1980</td><td>maxima.org</td></tr><tr><th>2</th><td>Maxima</td><td>1980</td><td>maxima.org</td></tr><tr><th>3</th><td>Octave</td><td>2000</td><td>gnu.org/octave</td></tr><tr><th>4</th><td>FreeMat</td><td>2001</td><td>freemat.org</td></tr><tr><th>5</th><td>FreeMat</td><td>2001</td><td>freemat.org</td></tr><tr><th>6</th><td>SageMath</td><td>2005</td><td>sagemath.org</td></tr><tr><th>7</th><td>Julia</td><td>2012</td><td>julialang.org</td></tr></table>"
      ],
      "text/plain": [
       "7×3 DataFrames.DataFrame\n",
       "│ Row │ Nome_do_software │ Ano_de_lancamento │ Site             │\n",
       "├─────┼──────────────────┼───────────────────┼──────────────────┤\n",
       "│ 1   │ \"maXIma\"         │ 1980              │ \"maxima.org\"     │\n",
       "│ 2   │ \"Maxima\"         │ 1980              │ \"maxima.org\"     │\n",
       "│ 3   │ \"Octave\"         │ 2000              │ \"gnu.org/octave\" │\n",
       "│ 4   │ \"FreeMat\"        │ 2001              │ \"freemat.org\"    │\n",
       "│ 5   │ \"FreeMat\"        │ 2001              │ \"freemat.org\"    │\n",
       "│ 6   │ \"SageMath\"       │ 2005              │ \"sagemath.org\"   │\n",
       "│ 7   │ \"Julia\"          │ 2012              │ \"julialang.org\"  │"
      ]
     },
     "execution_count": 203,
     "metadata": {},
     "output_type": "execute_result"
    }
   ],
   "source": [
    "sort!(Softwares1, cols = order(:Ano_de_lancamento))"
   ]
  },
  {
   "cell_type": "code",
   "execution_count": 204,
   "metadata": {
    "collapsed": false
   },
   "outputs": [
    {
     "data": {
      "text/html": [
       "<table class=\"data-frame\"><tr><th></th><th>Nome_do_software</th><th>Ano_de_lancamento</th><th>Site</th></tr><tr><th>1</th><td>maXIma</td><td>1980</td><td>maxima.org</td></tr><tr><th>2</th><td>Maxima</td><td>1980</td><td>maxima.org</td></tr><tr><th>3</th><td>Octave</td><td>2000</td><td>gnu.org/octave</td></tr><tr><th>4</th><td>FreeMat</td><td>2001</td><td>freemat.org</td></tr><tr><th>5</th><td>FreeMat</td><td>2001</td><td>freemat.org</td></tr><tr><th>6</th><td>SageMath</td><td>2005</td><td>sagemath.org</td></tr><tr><th>7</th><td>Julia</td><td>2012</td><td>julialang.org</td></tr></table>"
      ],
      "text/plain": [
       "7×3 DataFrames.DataFrame\n",
       "│ Row │ Nome_do_software │ Ano_de_lancamento │ Site             │\n",
       "├─────┼──────────────────┼───────────────────┼──────────────────┤\n",
       "│ 1   │ \"maXIma\"         │ 1980              │ \"maxima.org\"     │\n",
       "│ 2   │ \"Maxima\"         │ 1980              │ \"maxima.org\"     │\n",
       "│ 3   │ \"Octave\"         │ 2000              │ \"gnu.org/octave\" │\n",
       "│ 4   │ \"FreeMat\"        │ 2001              │ \"freemat.org\"    │\n",
       "│ 5   │ \"FreeMat\"        │ 2001              │ \"freemat.org\"    │\n",
       "│ 6   │ \"SageMath\"       │ 2005              │ \"sagemath.org\"   │\n",
       "│ 7   │ \"Julia\"          │ 2012              │ \"julialang.org\"  │"
      ]
     },
     "execution_count": 204,
     "metadata": {},
     "output_type": "execute_result"
    }
   ],
   "source": [
    "# veja que o dataframe Softwares foi atualizado automaticamente\n",
    "Softwares1"
   ]
  },
  {
   "cell_type": "markdown",
   "metadata": {},
   "source": [
    "**Retirar elementos repetidos**\n",
    "\n",
    "Use somente **unique(dataframe)** sem o \"! \" para evitar a atualização do vetor"
   ]
  },
  {
   "cell_type": "code",
   "execution_count": 205,
   "metadata": {
    "collapsed": false
   },
   "outputs": [
    {
     "data": {
      "text/html": [
       "<table class=\"data-frame\"><tr><th></th><th>Nome_do_software</th><th>Ano_de_lancamento</th><th>Site</th></tr><tr><th>1</th><td>maXIma</td><td>1980</td><td>maxima.org</td></tr><tr><th>2</th><td>Maxima</td><td>1980</td><td>maxima.org</td></tr><tr><th>3</th><td>Octave</td><td>2000</td><td>gnu.org/octave</td></tr><tr><th>4</th><td>FreeMat</td><td>2001</td><td>freemat.org</td></tr><tr><th>5</th><td>SageMath</td><td>2005</td><td>sagemath.org</td></tr><tr><th>6</th><td>Julia</td><td>2012</td><td>julialang.org</td></tr></table>"
      ],
      "text/plain": [
       "6×3 DataFrames.DataFrame\n",
       "│ Row │ Nome_do_software │ Ano_de_lancamento │ Site             │\n",
       "├─────┼──────────────────┼───────────────────┼──────────────────┤\n",
       "│ 1   │ \"maXIma\"         │ 1980              │ \"maxima.org\"     │\n",
       "│ 2   │ \"Maxima\"         │ 1980              │ \"maxima.org\"     │\n",
       "│ 3   │ \"Octave\"         │ 2000              │ \"gnu.org/octave\" │\n",
       "│ 4   │ \"FreeMat\"        │ 2001              │ \"freemat.org\"    │\n",
       "│ 5   │ \"SageMath\"       │ 2005              │ \"sagemath.org\"   │\n",
       "│ 6   │ \"Julia\"          │ 2012              │ \"julialang.org\"  │"
      ]
     },
     "execution_count": 205,
     "metadata": {},
     "output_type": "execute_result"
    }
   ],
   "source": [
    "unique!(Softwares1)"
   ]
  },
  {
   "cell_type": "markdown",
   "metadata": {},
   "source": [
    "#### FILTRAR  DADOS EM UM DATAFRAME\n",
    "\n",
    "Para filtrar dados em um DataFrame temos:\n",
    "```julia\n",
    "Nome_DataFrame[ Nome_DataFrame[coluna].operador_logico valor, colunas_filtradas ]\n",
    "```\n",
    "- `Operador lógico`: > , < , =! e outros\n",
    "- `valor` : valor a ser pesquisado\n",
    "- `colunas`: qual ou quais colunas devem ser filtradas (use : para todas as colunas)"
   ]
  },
  {
   "cell_type": "code",
   "execution_count": 256,
   "metadata": {
    "collapsed": false,
    "scrolled": false
   },
   "outputs": [
    {
     "data": {
      "text/html": [
       "<table class=\"data-frame\"><tr><th></th><th>Nome_do_software</th><th>Ano_de_lancamento</th><th>Site</th></tr><tr><th>1</th><td>Julia</td><td>2012</td><td>julialang.org</td></tr><tr><th>2</th><td>SageMath</td><td>2005</td><td>sagemath.org</td></tr><tr><th>3</th><td>Maxima</td><td>1980</td><td>maxima.org</td></tr><tr><th>4</th><td>Octave</td><td>2000</td><td>gnu.org/octave</td></tr><tr><th>5</th><td>Maxima</td><td>1980</td><td>maxima.org</td></tr></table>"
      ],
      "text/plain": [
       "5×3 DataFrames.DataFrame\n",
       "│ Row │ Nome_do_software │ Ano_de_lancamento │ Site             │\n",
       "├─────┼──────────────────┼───────────────────┼──────────────────┤\n",
       "│ 1   │ \"Julia\"          │ 2012              │ \"julialang.org\"  │\n",
       "│ 2   │ \"SageMath\"       │ 2005              │ \"sagemath.org\"   │\n",
       "│ 3   │ \"Maxima\"         │ 1980              │ \"maxima.org\"     │\n",
       "│ 4   │ \"Octave\"         │ 2000              │ \"gnu.org/octave\" │\n",
       "│ 5   │ \"Maxima\"         │ 1980              │ \"maxima.org\"     │"
      ]
     },
     "execution_count": 256,
     "metadata": {},
     "output_type": "execute_result"
    }
   ],
   "source": [
    "# copiar Dataframe gravado em arquivo\n",
    "Softwares1 = readtable(\"softwares_dataframe.csv\")"
   ]
  },
  {
   "cell_type": "code",
   "execution_count": 257,
   "metadata": {
    "collapsed": false,
    "scrolled": true
   },
   "outputs": [
    {
     "data": {
      "text/html": [
       "<table class=\"data-frame\"><tr><th></th><th>Nome_do_software</th><th>Ano_de_lancamento</th><th>Site</th></tr><tr><th>1</th><td>Julia</td><td>2012</td><td>julialang.org</td></tr><tr><th>2</th><td>SageMath</td><td>2005</td><td>sagemath.org</td></tr><tr><th>3</th><td>Octave</td><td>2000</td><td>gnu.org/octave</td></tr></table>"
      ],
      "text/plain": [
       "3×3 DataFrames.DataFrame\n",
       "│ Row │ Nome_do_software │ Ano_de_lancamento │ Site             │\n",
       "├─────┼──────────────────┼───────────────────┼──────────────────┤\n",
       "│ 1   │ \"Julia\"          │ 2012              │ \"julialang.org\"  │\n",
       "│ 2   │ \"SageMath\"       │ 2005              │ \"sagemath.org\"   │\n",
       "│ 3   │ \"Octave\"         │ 2000              │ \"gnu.org/octave\" │"
      ]
     },
     "execution_count": 257,
     "metadata": {},
     "output_type": "execute_result"
    }
   ],
   "source": [
    "# filtrar todos os dados maiores que o ano de 1980\n",
    "Softwares1[Softwares1[2].> 1980, :  ]"
   ]
  },
  {
   "cell_type": "code",
   "execution_count": 258,
   "metadata": {
    "collapsed": false
   },
   "outputs": [
    {
     "data": {
      "text/plain": [
       "3-element DataArrays.DataArray{String,1}:\n",
       " \"Julia\"   \n",
       " \"SageMath\"\n",
       " \"Octave\"  "
      ]
     },
     "execution_count": 258,
     "metadata": {},
     "output_type": "execute_result"
    }
   ],
   "source": [
    "# filtrar somente a colunaa 1   maiores que o ano de 1980\n",
    "Softwares1[Softwares1[2].> 1980, 1  ]"
   ]
  },
  {
   "cell_type": "code",
   "execution_count": 259,
   "metadata": {
    "collapsed": false
   },
   "outputs": [
    {
     "data": {
      "text/html": [
       "<table class=\"data-frame\"><tr><th></th><th>Ano_de_lancamento</th><th>Site</th></tr><tr><th>1</th><td>2012</td><td>julialang.org</td></tr><tr><th>2</th><td>2005</td><td>sagemath.org</td></tr><tr><th>3</th><td>2000</td><td>gnu.org/octave</td></tr></table>"
      ],
      "text/plain": [
       "3×2 DataFrames.DataFrame\n",
       "│ Row │ Ano_de_lancamento │ Site             │\n",
       "├─────┼───────────────────┼──────────────────┤\n",
       "│ 1   │ 2012              │ \"julialang.org\"  │\n",
       "│ 2   │ 2005              │ \"sagemath.org\"   │\n",
       "│ 3   │ 2000              │ \"gnu.org/octave\" │"
      ]
     },
     "execution_count": 259,
     "metadata": {},
     "output_type": "execute_result"
    }
   ],
   "source": [
    "# filtrar somente as colunas 2 a 3  maiores que o ano de 1980\n",
    "Softwares1[Softwares1[2].> 1980, 2:3  ]"
   ]
  },
  {
   "cell_type": "code",
   "execution_count": 260,
   "metadata": {
    "collapsed": false,
    "scrolled": true
   },
   "outputs": [
    {
     "data": {
      "text/html": [
       "<table class=\"data-frame\"><tr><th></th><th>Nome_do_software</th><th>Site</th></tr><tr><th>1</th><td>Julia</td><td>julialang.org</td></tr><tr><th>2</th><td>SageMath</td><td>sagemath.org</td></tr><tr><th>3</th><td>Octave</td><td>gnu.org/octave</td></tr></table>"
      ],
      "text/plain": [
       "3×2 DataFrames.DataFrame\n",
       "│ Row │ Nome_do_software │ Site             │\n",
       "├─────┼──────────────────┼──────────────────┤\n",
       "│ 1   │ \"Julia\"          │ \"julialang.org\"  │\n",
       "│ 2   │ \"SageMath\"       │ \"sagemath.org\"   │\n",
       "│ 3   │ \"Octave\"         │ \"gnu.org/octave\" │"
      ]
     },
     "execution_count": 260,
     "metadata": {},
     "output_type": "execute_result"
    }
   ],
   "source": [
    "# filtrar somente as colunas 1 e 3  maiores que o ano de 1980\n",
    "Softwares1[Softwares1[2].> 1980, [1,3]  ]"
   ]
  },
  {
   "cell_type": "markdown",
   "metadata": {},
   "source": [
    "#### MAP, MAPREDUCE , SUM, PROD E LIST COMPREHENSION"
   ]
  },
  {
   "cell_type": "code",
   "execution_count": 267,
   "metadata": {
    "collapsed": false
   },
   "outputs": [
    {
     "data": {
      "text/plain": [
       "5-element DataArrays.DataArray{Int64,1}:\n",
       " 2012\n",
       " 2005\n",
       " 1980\n",
       " 2000\n",
       " 1980"
      ]
     },
     "execution_count": 267,
     "metadata": {},
     "output_type": "execute_result"
    }
   ],
   "source": [
    "Softwares1[2]"
   ]
  },
  {
   "cell_type": "code",
   "execution_count": 270,
   "metadata": {
    "collapsed": false,
    "scrolled": true
   },
   "outputs": [
    {
     "data": {
      "text/plain": [
       "5-element DataArrays.DataArray{Any,1}:\n",
       " 20120\n",
       " 20050\n",
       " 19800\n",
       " 20000\n",
       " 19800"
      ]
     },
     "execution_count": 270,
     "metadata": {},
     "output_type": "execute_result"
    }
   ],
   "source": [
    "map(x -> 10*x , Softwares1[2])"
   ]
  },
  {
   "cell_type": "code",
   "execution_count": 271,
   "metadata": {
    "collapsed": false
   },
   "outputs": [
    {
     "data": {
      "text/plain": [
       "99770"
      ]
     },
     "execution_count": 271,
     "metadata": {},
     "output_type": "execute_result"
    }
   ],
   "source": [
    "mapreduce(x -> 10*x , + , Softwares1[2])"
   ]
  },
  {
   "cell_type": "code",
   "execution_count": 272,
   "metadata": {
    "collapsed": false
   },
   "outputs": [
    {
     "data": {
      "text/plain": [
       "9977"
      ]
     },
     "execution_count": 272,
     "metadata": {},
     "output_type": "execute_result"
    }
   ],
   "source": [
    "sum(Softwares1[2])"
   ]
  },
  {
   "cell_type": "code",
   "execution_count": 273,
   "metadata": {
    "collapsed": false
   },
   "outputs": [
    {
     "data": {
      "text/plain": [
       "31630257648000000"
      ]
     },
     "execution_count": 273,
     "metadata": {},
     "output_type": "execute_result"
    }
   ],
   "source": [
    "prod(Softwares1[2])"
   ]
  },
  {
   "cell_type": "code",
   "execution_count": 274,
   "metadata": {
    "collapsed": false
   },
   "outputs": [
    {
     "data": {
      "text/plain": [
       "5-element Array{Int64,1}:\n",
       " 20120\n",
       " 20050\n",
       " 19800\n",
       " 20000\n",
       " 19800"
      ]
     },
     "execution_count": 274,
     "metadata": {},
     "output_type": "execute_result"
    }
   ],
   "source": [
    "[10*x for x = Softwares1[2]]"
   ]
  },
  {
   "cell_type": "markdown",
   "metadata": {},
   "source": [
    "### ARQUIVOS CSV COM DATAFRAMES\n",
    "\n",
    "As manipulações com os dados importados do arquivo CSV seguem o mesmo padrão das manipulações de Dataframe ja trabalhado acima."
   ]
  },
  {
   "cell_type": "markdown",
   "metadata": {},
   "source": [
    "#### IMPORTAR E VISUALIZAR DADOS EM UM ARQUIVO CSV\n",
    "\n",
    "\n",
    "```julia\n",
    "   var_dados = readtable(\"arquivo.csv\")\n",
    "```"
   ]
  },
  {
   "cell_type": "code",
   "execution_count": 211,
   "metadata": {
    "collapsed": false
   },
   "outputs": [],
   "source": [
    "using DataFrames"
   ]
  },
  {
   "cell_type": "code",
   "execution_count": 212,
   "metadata": {
    "collapsed": false,
    "scrolled": false
   },
   "outputs": [
    {
     "data": {
      "text/html": [
       "<table class=\"data-frame\"><tr><th></th><th>x</th><th>y</th></tr><tr><th>1</th><td>0.0</td><td>-0.183440428023042</td></tr><tr><th>2</th><td>0.2</td><td>-0.131101157495126</td></tr><tr><th>3</th><td>0.4</td><td>0.0268875670852843</td></tr><tr><th>4</th><td>0.8</td><td>0.110532679260319</td></tr><tr><th>5</th><td>1.0</td><td>0.253944632998395</td></tr><tr><th>6</th><td>1.2</td><td>0.257190123748649</td></tr><tr><th>7</th><td>1.4</td><td>0.531888837111346</td></tr><tr><th>8</th><td>1.6</td><td>0.579048247883555</td></tr><tr><th>9</th><td>2.0</td><td>0.935180993484717</td></tr><tr><th>10</th><td>2.2</td><td>0.916600344376623</td></tr><tr><th>11</th><td>2.6</td><td>1.13328608090532</td></tr><tr><th>12</th><td>2.8</td><td>1.26893326843583</td></tr><tr><th>13</th><td>3.0</td><td>1.10202945535186</td></tr><tr><th>14</th><td>3.4</td><td>1.13391615491257</td></tr></table>"
      ],
      "text/plain": [
       "14×2 DataFrames.DataFrame\n",
       "│ Row │ x   │ y         │\n",
       "├─────┼─────┼───────────┤\n",
       "│ 1   │ 0.0 │ -0.18344  │\n",
       "│ 2   │ 0.2 │ -0.131101 │\n",
       "│ 3   │ 0.4 │ 0.0268876 │\n",
       "│ 4   │ 0.8 │ 0.110533  │\n",
       "│ 5   │ 1.0 │ 0.253945  │\n",
       "│ 6   │ 1.2 │ 0.25719   │\n",
       "│ 7   │ 1.4 │ 0.531889  │\n",
       "│ 8   │ 1.6 │ 0.579048  │\n",
       "│ 9   │ 2.0 │ 0.935181  │\n",
       "│ 10  │ 2.2 │ 0.9166    │\n",
       "│ 11  │ 2.6 │ 1.13329   │\n",
       "│ 12  │ 2.8 │ 1.26893   │\n",
       "│ 13  │ 3.0 │ 1.10203   │\n",
       "│ 14  │ 3.4 │ 1.13392   │"
      ]
     },
     "execution_count": 212,
     "metadata": {},
     "output_type": "execute_result"
    }
   ],
   "source": [
    "tabela_dados_reta = readtable(\"dados_reta.csv\")"
   ]
  },
  {
   "cell_type": "code",
   "execution_count": 213,
   "metadata": {
    "collapsed": false,
    "scrolled": true
   },
   "outputs": [
    {
     "data": {
      "text/plain": [
       "14-element DataArrays.DataArray{Float64,1}:\n",
       " 0.0\n",
       " 0.2\n",
       " 0.4\n",
       " 0.8\n",
       " 1.0\n",
       " 1.2\n",
       " 1.4\n",
       " 1.6\n",
       " 2.0\n",
       " 2.2\n",
       " 2.6\n",
       " 2.8\n",
       " 3.0\n",
       " 3.4"
      ]
     },
     "execution_count": 213,
     "metadata": {},
     "output_type": "execute_result"
    }
   ],
   "source": [
    "# visualizar toda a primeira coluna\n",
    "tabela_dados_reta[1]"
   ]
  },
  {
   "cell_type": "code",
   "execution_count": 214,
   "metadata": {
    "collapsed": false
   },
   "outputs": [
    {
     "data": {
      "text/plain": [
       "1.4"
      ]
     },
     "execution_count": 214,
     "metadata": {},
     "output_type": "execute_result"
    }
   ],
   "source": [
    "# Acessar o 7 elemento da primeira coluna\n",
    "tabela_dados_reta[1][7]"
   ]
  },
  {
   "cell_type": "code",
   "execution_count": 215,
   "metadata": {
    "collapsed": false,
    "scrolled": true
   },
   "outputs": [
    {
     "data": {
      "text/plain": [
       "14-element DataArrays.DataArray{Float64,1}:\n",
       " -0.18344  \n",
       " -0.131101 \n",
       "  0.0268876\n",
       "  0.110533 \n",
       "  0.253945 \n",
       "  0.25719  \n",
       "  0.531889 \n",
       "  0.579048 \n",
       "  0.935181 \n",
       "  0.9166   \n",
       "  1.13329  \n",
       "  1.26893  \n",
       "  1.10203  \n",
       "  1.13392  "
      ]
     },
     "execution_count": 215,
     "metadata": {},
     "output_type": "execute_result"
    }
   ],
   "source": [
    "# Visualizar toda a segunda coluna\n",
    "tabela_dados_reta[2]"
   ]
  },
  {
   "cell_type": "code",
   "execution_count": 219,
   "metadata": {
    "collapsed": false
   },
   "outputs": [
    {
     "data": {
      "text/html": [
       "<img src=\"data:image/png;base64,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\" />"
      ]
     },
     "execution_count": 219,
     "metadata": {},
     "output_type": "execute_result"
    }
   ],
   "source": [
    "# Gráfico dos dados\n",
    "using Plots\n",
    "pyplot()\n",
    "\n",
    "scatter(tabela_dados_reta[1],tabela_dados_reta[2], size = (400,300))"
   ]
  },
  {
   "cell_type": "markdown",
   "metadata": {},
   "source": [
    "#### SALVAR DATAFRAME EM UM ARQUIVO CSV \n",
    "\n",
    "Forma geral de um arquivo CSV:\n",
    "```julia\n",
    "   writetable(\"nome.csv\", dataframe, separator = ',', header = true/false)\n",
    "```\n",
    "** separator** -> simbolo separador das dados entre as colunas\n",
    "\n",
    "** header**    -> cabeçalho das culunas"
   ]
  },
  {
   "cell_type": "code",
   "execution_count": 220,
   "metadata": {
    "collapsed": true
   },
   "outputs": [],
   "source": [
    "using DataFrames"
   ]
  },
  {
   "cell_type": "code",
   "execution_count": 221,
   "metadata": {
    "collapsed": false,
    "scrolled": false
   },
   "outputs": [
    {
     "data": {
      "text/html": [
       "<table class=\"data-frame\"><tr><th></th><th>Nome_do_software</th><th>Ano_de_lancamento</th></tr><tr><th>1</th><td>Julia</td><td>2012</td></tr><tr><th>2</th><td>SageMath</td><td>2005</td></tr><tr><th>3</th><td>Maxima</td><td>1980</td></tr><tr><th>4</th><td>Octave</td><td>2000</td></tr></table>"
      ],
      "text/plain": [
       "4×2 DataFrames.DataFrame\n",
       "│ Row │ Nome_do_software │ Ano_de_lancamento │\n",
       "├─────┼──────────────────┼───────────────────┤\n",
       "│ 1   │ \"Julia\"          │ 2012              │\n",
       "│ 2   │ \"SageMath\"       │ 2005              │\n",
       "│ 3   │ \"Maxima\"         │ 1980              │\n",
       "│ 4   │ \"Octave\"         │ 2000              │"
      ]
     },
     "execution_count": 221,
     "metadata": {},
     "output_type": "execute_result"
    }
   ],
   "source": [
    "# Nomes das colunas não podem ter espaço\n",
    "\n",
    "Softwares = DataFrame()\n",
    "\n",
    "Softwares[:Nome_do_software]  = [\"Julia\", \"SageMath\", \"Maxima\", \"Octave\"]\n",
    "Softwares[:Ano_de_lancamento] = [2012, 2005, 1980, 2000]\n",
    "\n",
    "Softwares"
   ]
  },
  {
   "cell_type": "code",
   "execution_count": 222,
   "metadata": {
    "collapsed": true
   },
   "outputs": [],
   "source": [
    "writetable(\"Softwares1.csv\", Softwares, separator = ',', header = true)"
   ]
  },
  {
   "cell_type": "code",
   "execution_count": 223,
   "metadata": {
    "collapsed": false,
    "scrolled": true
   },
   "outputs": [
    {
     "data": {
      "text/html": [
       "<table class=\"data-frame\"><tr><th></th><th>Nome_do_software</th><th>Ano_de_lancamento</th></tr><tr><th>1</th><td>Julia</td><td>2012</td></tr><tr><th>2</th><td>SageMath</td><td>2005</td></tr><tr><th>3</th><td>Maxima</td><td>1980</td></tr><tr><th>4</th><td>Octave</td><td>2000</td></tr></table>"
      ],
      "text/plain": [
       "4×2 DataFrames.DataFrame\n",
       "│ Row │ Nome_do_software │ Ano_de_lancamento │\n",
       "├─────┼──────────────────┼───────────────────┤\n",
       "│ 1   │ \"Julia\"          │ 2012              │\n",
       "│ 2   │ \"SageMath\"       │ 2005              │\n",
       "│ 3   │ \"Maxima\"         │ 1980              │\n",
       "│ 4   │ \"Octave\"         │ 2000              │"
      ]
     },
     "execution_count": 223,
     "metadata": {},
     "output_type": "execute_result"
    }
   ],
   "source": [
    "# Lendo os dados gravados no arquivo CSV gravado no disco\n",
    "readtable(\"Softwares1.csv\")"
   ]
  },
  {
   "cell_type": "code",
   "execution_count": 224,
   "metadata": {
    "collapsed": true
   },
   "outputs": [],
   "source": [
    "# Gravando os dados em disco com header (cabeçalho) = false\n",
    "writetable(\"Softwares2.csv\", Softwares, separator = ',', header = false)"
   ]
  },
  {
   "cell_type": "code",
   "execution_count": 247,
   "metadata": {
    "collapsed": false,
    "scrolled": false
   },
   "outputs": [
    {
     "data": {
      "text/html": [
       "<table class=\"data-frame\"><tr><th></th><th>Julia</th><th>x2012</th></tr><tr><th>1</th><td>SageMath</td><td>2005</td></tr><tr><th>2</th><td>Maxima</td><td>1980</td></tr><tr><th>3</th><td>Octave</td><td>2000</td></tr></table>"
      ],
      "text/plain": [
       "3×2 DataFrames.DataFrame\n",
       "│ Row │ Julia      │ x2012 │\n",
       "├─────┼────────────┼───────┤\n",
       "│ 1   │ \"SageMath\" │ 2005  │\n",
       "│ 2   │ \"Maxima\"   │ 1980  │\n",
       "│ 3   │ \"Octave\"   │ 2000  │"
      ]
     },
     "execution_count": 247,
     "metadata": {},
     "output_type": "execute_result"
    }
   ],
   "source": [
    "# Lendo os dados gravados no arquivo CSV gravado no disco\n",
    "# Veja que a primeira linha se torna o cabeçalho do DataFrame\n",
    "readtable(\"Softwares2.csv\")"
   ]
  },
  {
   "cell_type": "markdown",
   "metadata": {},
   "source": [
    "**Outra forma de criar um DataFrame no formato CSV e salvar gravar arquivo CSV**"
   ]
  },
  {
   "cell_type": "code",
   "execution_count": 226,
   "metadata": {
    "collapsed": false,
    "scrolled": true
   },
   "outputs": [
    {
     "data": {
      "text/html": [
       "<table class=\"data-frame\"><tr><th></th><th>Nome_software</th><th>Ano_lançamento</th></tr><tr><th>1</th><td>Python</td><td>1991</td></tr><tr><th>2</th><td>Scilab</td><td>2000</td></tr></table>"
      ],
      "text/plain": [
       "2×2 DataFrames.DataFrame\n",
       "│ Row │ Nome_software │ Ano_lançamento │\n",
       "├─────┼───────────────┼────────────────┤\n",
       "│ 1   │ \"Python\"      │ 1991           │\n",
       "│ 2   │ \"Scilab\"      │ 2000           │"
      ]
     },
     "execution_count": 226,
     "metadata": {},
     "output_type": "execute_result"
    }
   ],
   "source": [
    "using DataFrames\n",
    "\n",
    "Soft = csv\"\"\"\n",
    "Nome_software, Ano_lançamento\n",
    "Python       , 1991\n",
    "Scilab       , 2000\n",
    "\"\"\""
   ]
  },
  {
   "cell_type": "code",
   "execution_count": 227,
   "metadata": {
    "collapsed": false
   },
   "outputs": [
    {
     "data": {
      "text/plain": [
       "DataFrames.DataFrame"
      ]
     },
     "execution_count": 227,
     "metadata": {},
     "output_type": "execute_result"
    }
   ],
   "source": [
    "typeof(Soft)"
   ]
  },
  {
   "cell_type": "code",
   "execution_count": 228,
   "metadata": {
    "collapsed": false
   },
   "outputs": [],
   "source": [
    "push!(Soft, [\"Julia\",2012])"
   ]
  },
  {
   "cell_type": "code",
   "execution_count": 229,
   "metadata": {
    "collapsed": false,
    "scrolled": false
   },
   "outputs": [
    {
     "data": {
      "text/html": [
       "<table class=\"data-frame\"><tr><th></th><th>Nome_software</th><th>Ano_lançamento</th></tr><tr><th>1</th><td>Python</td><td>1991</td></tr><tr><th>2</th><td>Scilab</td><td>2000</td></tr><tr><th>3</th><td>Julia</td><td>2012</td></tr></table>"
      ],
      "text/plain": [
       "3×2 DataFrames.DataFrame\n",
       "│ Row │ Nome_software │ Ano_lançamento │\n",
       "├─────┼───────────────┼────────────────┤\n",
       "│ 1   │ \"Python\"      │ 1991           │\n",
       "│ 2   │ \"Scilab\"      │ 2000           │\n",
       "│ 3   │ \"Julia\"       │ 2012           │"
      ]
     },
     "execution_count": 229,
     "metadata": {},
     "output_type": "execute_result"
    }
   ],
   "source": [
    "# salvar em arquivo e ler os dados do arquivo\n",
    "writetable(\"Soft.csv\", Soft, separator = ',', header = true)\n",
    "readtable(\"Soft.csv\")"
   ]
  },
  {
   "cell_type": "markdown",
   "metadata": {
    "collapsed": true
   },
   "source": [
    "## APLICAÇÕES"
   ]
  },
  {
   "cell_type": "markdown",
   "metadata": {},
   "source": [
    "Um pesquisador deseja investigar todas as raízes das função $~f  = x + x^2*sin(x)~$ num intervalo de 0 a 15."
   ]
  },
  {
   "cell_type": "code",
   "execution_count": 230,
   "metadata": {
    "collapsed": false,
    "scrolled": false
   },
   "outputs": [
    {
     "data": {
      "text/plain": [
       "(x,v)"
      ]
     },
     "execution_count": 230,
     "metadata": {},
     "output_type": "execute_result"
    }
   ],
   "source": [
    "using DataFrames,SymPy\n",
    "@syms x v"
   ]
  },
  {
   "cell_type": "code",
   "execution_count": 232,
   "metadata": {
    "collapsed": false
   },
   "outputs": [
    {
     "data": {
      "text/latex": [
       "$$x^{2} \\sin{\\left (x \\right )} + x$$"
      ],
      "text/plain": [
       " 2           \n",
       "x *sin(x) + x"
      ]
     },
     "execution_count": 232,
     "metadata": {},
     "output_type": "execute_result"
    }
   ],
   "source": [
    "# Função simbólica - quando usamos o SymPy é melhor usar função do tipo simbólica.\n",
    "# Se usar f(x) = expressão definido \"x\" como simbólico, a função será genérica\n",
    "\n",
    "fx  = x + x^2*sin(x)"
   ]
  },
  {
   "cell_type": "code",
   "execution_count": 235,
   "metadata": {
    "collapsed": false,
    "scrolled": false
   },
   "outputs": [
    {
     "data": {
      "text/html": [
       "<?xml version=\"1.0\" encoding=\"utf-8\"?>\n",
       "<svg xmlns=\"http://www.w3.org/2000/svg\" xmlns:xlink=\"http://www.w3.org/1999/xlink\" width=\"600\" height=\"400\" viewBox=\"0 0 600 400\">\n",
       "<defs>\n",
       "  <clipPath id=\"clip00\">\n",
       "    <rect x=\"0\" y=\"0\" width=\"600\" height=\"400\"/>\n",
       "  </clipPath>\n",
       "</defs>\n",
       "<polygon clip-path=\"url(#clip00)\" points=\"\n",
       "0,400 600,400 600,0 0,0 \n",
       "  \" fill=\"#ffffff\" fill-opacity=\"1\"/>\n",
       "<defs>\n",
       "  <clipPath id=\"clip01\">\n",
       "    <rect x=\"120\" y=\"0\" width=\"421\" height=\"400\"/>\n",
       "  </clipPath>\n",
       "</defs>\n",
       "<polygon clip-path=\"url(#clip00)\" points=\"\n",
       "43.4296,381.015 596.063,381.015 596.063,3.93701 43.4296,3.93701 \n",
       "  \" fill=\"#ffffff\" fill-opacity=\"1\"/>\n",
       "<defs>\n",
       "  <clipPath id=\"clip02\">\n",
       "    <rect x=\"43\" y=\"3\" width=\"553\" height=\"378\"/>\n",
       "  </clipPath>\n",
       "</defs>\n",
       "<polyline clip-path=\"url(#clip02)\" style=\"stroke:#00002d; stroke-width:0.8; stroke-opacity:0.5; fill:none\" stroke-dasharray=\"1, 2\" points=\"\n",
       "  43.4296,375.359 43.4296,9.59318 \n",
       "  \"/>\n",
       "<polyline clip-path=\"url(#clip02)\" style=\"stroke:#00002d; stroke-width:0.8; stroke-opacity:0.5; fill:none\" stroke-dasharray=\"1, 2\" points=\"\n",
       "  135.535,375.359 135.535,9.59318 \n",
       "  \"/>\n",
       "<polyline clip-path=\"url(#clip02)\" style=\"stroke:#00002d; stroke-width:0.8; stroke-opacity:0.5; fill:none\" stroke-dasharray=\"1, 2\" points=\"\n",
       "  227.641,375.359 227.641,9.59318 \n",
       "  \"/>\n",
       "<polyline clip-path=\"url(#clip02)\" style=\"stroke:#00002d; stroke-width:0.8; stroke-opacity:0.5; fill:none\" stroke-dasharray=\"1, 2\" points=\"\n",
       "  319.746,375.359 319.746,9.59318 \n",
       "  \"/>\n",
       "<polyline clip-path=\"url(#clip02)\" style=\"stroke:#00002d; stroke-width:0.8; stroke-opacity:0.5; fill:none\" stroke-dasharray=\"1, 2\" points=\"\n",
       "  411.852,375.359 411.852,9.59318 \n",
       "  \"/>\n",
       "<polyline clip-path=\"url(#clip02)\" style=\"stroke:#00002d; stroke-width:0.8; stroke-opacity:0.5; fill:none\" stroke-dasharray=\"1, 2\" points=\"\n",
       "  503.957,375.359 503.957,9.59318 \n",
       "  \"/>\n",
       "<polyline clip-path=\"url(#clip02)\" style=\"stroke:#00002d; stroke-width:0.8; stroke-opacity:0.5; fill:none\" stroke-dasharray=\"1, 2\" points=\"\n",
       "  596.063,375.359 596.063,9.59318 \n",
       "  \"/>\n",
       "<polyline clip-path=\"url(#clip02)\" style=\"stroke:#00002d; stroke-width:0.8; stroke-opacity:0.5; fill:none\" stroke-dasharray=\"1, 2\" points=\"\n",
       "  51.7191,369.272 587.773,369.272 \n",
       "  \"/>\n",
       "<polyline clip-path=\"url(#clip02)\" style=\"stroke:#00002d; stroke-width:0.8; stroke-opacity:0.5; fill:none\" stroke-dasharray=\"1, 2\" points=\"\n",
       "  51.7191,251.824 587.773,251.824 \n",
       "  \"/>\n",
       "<polyline clip-path=\"url(#clip02)\" style=\"stroke:#00002d; stroke-width:0.8; stroke-opacity:0.5; fill:none\" stroke-dasharray=\"1, 2\" points=\"\n",
       "  51.7191,134.376 587.773,134.376 \n",
       "  \"/>\n",
       "<polyline clip-path=\"url(#clip02)\" style=\"stroke:#00002d; stroke-width:0.8; stroke-opacity:0.5; fill:none\" stroke-dasharray=\"1, 2\" points=\"\n",
       "  51.7191,16.9287 587.773,16.9287 \n",
       "  \"/>\n",
       "<polyline clip-path=\"url(#clip02)\" style=\"stroke:#00002d; stroke-width:0.8; stroke-opacity:1; fill:none\" points=\"\n",
       "  43.4296,381.015 596.063,381.015 \n",
       "  \"/>\n",
       "<polyline clip-path=\"url(#clip02)\" style=\"stroke:#00002d; stroke-width:0.8; stroke-opacity:1; fill:none\" points=\"\n",
       "  43.4296,381.015 43.4296,375.359 \n",
       "  \"/>\n",
       "<polyline clip-path=\"url(#clip02)\" style=\"stroke:#00002d; stroke-width:0.8; stroke-opacity:1; fill:none\" points=\"\n",
       "  135.535,381.015 135.535,375.359 \n",
       "  \"/>\n",
       "<polyline clip-path=\"url(#clip02)\" style=\"stroke:#00002d; stroke-width:0.8; stroke-opacity:1; fill:none\" points=\"\n",
       "  227.641,381.015 227.641,375.359 \n",
       "  \"/>\n",
       "<polyline clip-path=\"url(#clip02)\" style=\"stroke:#00002d; stroke-width:0.8; stroke-opacity:1; fill:none\" points=\"\n",
       "  319.746,381.015 319.746,375.359 \n",
       "  \"/>\n",
       "<polyline clip-path=\"url(#clip02)\" style=\"stroke:#00002d; stroke-width:0.8; stroke-opacity:1; fill:none\" points=\"\n",
       "  411.852,381.015 411.852,375.359 \n",
       "  \"/>\n",
       "<polyline clip-path=\"url(#clip02)\" style=\"stroke:#00002d; stroke-width:0.8; stroke-opacity:1; fill:none\" points=\"\n",
       "  503.957,381.015 503.957,375.359 \n",
       "  \"/>\n",
       "<polyline clip-path=\"url(#clip02)\" style=\"stroke:#00002d; stroke-width:0.8; stroke-opacity:1; fill:none\" points=\"\n",
       "  596.063,381.015 596.063,375.359 \n",
       "  \"/>\n",
       "<polyline clip-path=\"url(#clip02)\" style=\"stroke:#00002d; stroke-width:0.8; stroke-opacity:1; fill:none\" points=\"\n",
       "  43.4296,381.015 43.4296,3.93701 \n",
       "  \"/>\n",
       "<polyline clip-path=\"url(#clip02)\" style=\"stroke:#00002d; stroke-width:0.8; stroke-opacity:1; fill:none\" points=\"\n",
       "  43.4296,369.272 51.7191,369.272 \n",
       "  \"/>\n",
       "<polyline clip-path=\"url(#clip02)\" style=\"stroke:#00002d; stroke-width:0.8; stroke-opacity:1; fill:none\" points=\"\n",
       "  43.4296,251.824 51.7191,251.824 \n",
       "  \"/>\n",
       "<polyline clip-path=\"url(#clip02)\" style=\"stroke:#00002d; stroke-width:0.8; stroke-opacity:1; fill:none\" points=\"\n",
       "  43.4296,134.376 51.7191,134.376 \n",
       "  \"/>\n",
       "<polyline clip-path=\"url(#clip02)\" style=\"stroke:#00002d; stroke-width:0.8; stroke-opacity:1; fill:none\" points=\"\n",
       "  43.4296,16.9287 51.7191,16.9287 \n",
       "  \"/>\n",
       "<g clip-path=\"url(#clip00)\">\n",
       "<text style=\"fill:#00002d; fill-opacity:1; font-family:Arial,Helvetica Neue,Helvetica,sans-serif; font-size:12; text-anchor:middle;\" transform=\"rotate(0, 43.4296, 393.015)\" x=\"43.4296\" y=\"393.015\">0.0</text>\n",
       "</g>\n",
       "<g clip-path=\"url(#clip00)\">\n",
       "<text style=\"fill:#00002d; fill-opacity:1; font-family:Arial,Helvetica Neue,Helvetica,sans-serif; font-size:12; text-anchor:middle;\" transform=\"rotate(0, 135.535, 393.015)\" x=\"135.535\" y=\"393.015\">2.5</text>\n",
       "</g>\n",
       "<g clip-path=\"url(#clip00)\">\n",
       "<text style=\"fill:#00002d; fill-opacity:1; font-family:Arial,Helvetica Neue,Helvetica,sans-serif; font-size:12; text-anchor:middle;\" transform=\"rotate(0, 227.641, 393.015)\" x=\"227.641\" y=\"393.015\">5.0</text>\n",
       "</g>\n",
       "<g clip-path=\"url(#clip00)\">\n",
       "<text style=\"fill:#00002d; fill-opacity:1; font-family:Arial,Helvetica Neue,Helvetica,sans-serif; font-size:12; text-anchor:middle;\" transform=\"rotate(0, 319.746, 393.015)\" x=\"319.746\" y=\"393.015\">7.5</text>\n",
       "</g>\n",
       "<g clip-path=\"url(#clip00)\">\n",
       "<text style=\"fill:#00002d; fill-opacity:1; font-family:Arial,Helvetica Neue,Helvetica,sans-serif; font-size:12; text-anchor:middle;\" transform=\"rotate(0, 411.852, 393.015)\" x=\"411.852\" y=\"393.015\">10.0</text>\n",
       "</g>\n",
       "<g clip-path=\"url(#clip00)\">\n",
       "<text style=\"fill:#00002d; fill-opacity:1; font-family:Arial,Helvetica Neue,Helvetica,sans-serif; font-size:12; text-anchor:middle;\" transform=\"rotate(0, 503.957, 393.015)\" x=\"503.957\" y=\"393.015\">12.5</text>\n",
       "</g>\n",
       "<g clip-path=\"url(#clip00)\">\n",
       "<text style=\"fill:#00002d; fill-opacity:1; font-family:Arial,Helvetica Neue,Helvetica,sans-serif; font-size:12; text-anchor:middle;\" transform=\"rotate(0, 596.063, 393.015)\" x=\"596.063\" y=\"393.015\">15.0</text>\n",
       "</g>\n",
       "<g clip-path=\"url(#clip00)\">\n",
       "<text style=\"fill:#00002d; fill-opacity:1; font-family:Arial,Helvetica Neue,Helvetica,sans-serif; font-size:12; text-anchor:end;\" transform=\"rotate(0, 42.2296, 373.772)\" x=\"42.2296\" y=\"373.772\">-100</text>\n",
       "</g>\n",
       "<g clip-path=\"url(#clip00)\">\n",
       "<text style=\"fill:#00002d; fill-opacity:1; font-family:Arial,Helvetica Neue,Helvetica,sans-serif; font-size:12; text-anchor:end;\" transform=\"rotate(0, 42.2296, 256.324)\" x=\"42.2296\" y=\"256.324\">0</text>\n",
       "</g>\n",
       "<g clip-path=\"url(#clip00)\">\n",
       "<text style=\"fill:#00002d; fill-opacity:1; font-family:Arial,Helvetica Neue,Helvetica,sans-serif; font-size:12; text-anchor:end;\" transform=\"rotate(0, 42.2296, 138.876)\" x=\"42.2296\" y=\"138.876\">100</text>\n",
       "</g>\n",
       "<g clip-path=\"url(#clip00)\">\n",
       "<text style=\"fill:#00002d; fill-opacity:1; font-family:Arial,Helvetica Neue,Helvetica,sans-serif; font-size:12; text-anchor:end;\" transform=\"rotate(0, 42.2296, 21.4287)\" x=\"42.2296\" y=\"21.4287\">200</text>\n",
       "</g>\n",
       "<polyline clip-path=\"url(#clip02)\" style=\"stroke:#0099ff; stroke-width:0.8; stroke-opacity:1; fill:none\" points=\"\n",
       "  43.4296,251.824 61.8507,251.096 80.2718,249.661 98.6929,247.426 117.114,245.203 135.535,244.495 153.956,246.809 172.377,252.76 190.798,261.348 209.22,269.787 \n",
       "  227.641,274.107 246.062,270.431 264.483,256.591 282.904,233.515 301.325,205.793 319.746,181.047 338.167,168.062 356.589,174.085 375.01,202.048 393.431,248.632 \n",
       "  411.852,303.973 430.273,353.4 448.694,381.015 467.115,374.297 485.536,328.478 503.957,249.314 522.379,153.158 540.8,63.9198 559.221,7.34609 577.642,3.93701 \n",
       "  596.063,62.3636 \n",
       "  \"/>\n",
       "<polygon clip-path=\"url(#clip00)\" points=\"\n",
       "505.547,55.057 578.063,55.057 578.063,24.817 505.547,24.817 \n",
       "  \" fill=\"#ffffff\" fill-opacity=\"1\"/>\n",
       "<polyline clip-path=\"url(#clip00)\" style=\"stroke:#00002d; stroke-width:0.8; stroke-opacity:1; fill:none\" points=\"\n",
       "  505.547,55.057 578.063,55.057 578.063,24.817 505.547,24.817 505.547,55.057 \n",
       "  \"/>\n",
       "<polyline clip-path=\"url(#clip00)\" style=\"stroke:#0099ff; stroke-width:0.8; stroke-opacity:1; fill:none\" points=\"\n",
       "  511.547,39.937 547.547,39.937 \n",
       "  \"/>\n",
       "<g clip-path=\"url(#clip00)\">\n",
       "<text style=\"fill:#00002d; fill-opacity:1; font-family:Arial,Helvetica Neue,Helvetica,sans-serif; font-size:12; text-anchor:start;\" transform=\"rotate(0, 553.547, 44.437)\" x=\"553.547\" y=\"44.437\">y1</text>\n",
       "</g>\n",
       "</svg>\n"
      ]
     },
     "execution_count": 235,
     "metadata": {},
     "output_type": "execute_result"
    }
   ],
   "source": [
    "using Plots\n",
    "gr()\n",
    "\n",
    "plot(fx, 0:0.5:15)"
   ]
  },
  {
   "cell_type": "code",
   "execution_count": 236,
   "metadata": {
    "collapsed": false
   },
   "outputs": [],
   "source": [
    "# Vetor de valores iniciais (xi)\n",
    "v = [0.0, 2.0, 6.0, 9.0, 13.0]\n",
    "\n",
    "# Dataframe que vai receber as raízes calculadas de tamanho 5. \n",
    "# O tipo dos dados são Array de Float64\n",
    "\n",
    "Resultado1 = DataFrame(Valor_X = Array(Float64,5), Raiz = Array(Float64,5));"
   ]
  },
  {
   "cell_type": "code",
   "execution_count": 237,
   "metadata": {
    "collapsed": false
   },
   "outputs": [],
   "source": [
    "# laço for adiciona o valor de \"x\" na primeira coluna 1\n",
    "# e a raiz na coluna 2\n",
    "\n",
    "for i = 1:length(v)\n",
    "    Resultado1[1][i] = v[i]\n",
    "    Resultado1[2][i] = nsolve(fx, v[i])\n",
    "end"
   ]
  },
  {
   "cell_type": "code",
   "execution_count": 238,
   "metadata": {
    "collapsed": false,
    "scrolled": true
   },
   "outputs": [
    {
     "data": {
      "text/html": [
       "<table class=\"data-frame\"><tr><th></th><th>Valor_X</th><th>Raiz</th></tr><tr><th>1</th><td>0.0</td><td>0.0</td></tr><tr><th>2</th><td>2.0</td><td>0.0</td></tr><tr><th>3</th><td>6.0</td><td>6.119024225042324</td></tr><tr><th>4</th><td>9.0</td><td>9.529904336449029</td></tr><tr><th>5</th><td>13.0</td><td>12.486196308339682</td></tr></table>"
      ],
      "text/plain": [
       "5×2 DataFrames.DataFrame\n",
       "│ Row │ Valor_X │ Raiz    │\n",
       "├─────┼─────────┼─────────┤\n",
       "│ 1   │ 0.0     │ 0.0     │\n",
       "│ 2   │ 2.0     │ 0.0     │\n",
       "│ 3   │ 6.0     │ 6.11902 │\n",
       "│ 4   │ 9.0     │ 9.5299  │\n",
       "│ 5   │ 13.0    │ 12.4862 │"
      ]
     },
     "execution_count": 238,
     "metadata": {},
     "output_type": "execute_result"
    }
   ],
   "source": [
    "Resultado1"
   ]
  },
  {
   "cell_type": "markdown",
   "metadata": {},
   "source": [
    "**Outra forma `Like a Python`**\n",
    "\n",
    "Criar um DataFrame vazio e um laço `for` vai adicionando ao final tal como um vetor."
   ]
  },
  {
   "cell_type": "code",
   "execution_count": 239,
   "metadata": {
    "collapsed": false,
    "scrolled": true
   },
   "outputs": [
    {
     "data": {
      "text/html": [
       "<table class=\"data-frame\"><tr><th></th><th>Valor_X</th><th>Raiz</th></tr></table>"
      ],
      "text/plain": [
       "0×2 DataFrames.DataFrame\n"
      ]
     },
     "execution_count": 239,
     "metadata": {},
     "output_type": "execute_result"
    }
   ],
   "source": [
    "# = [] siginifica vetor vazio\n",
    "\n",
    "Resultado2 = DataFrame(Valor_X = [], Raiz = [])"
   ]
  },
  {
   "cell_type": "code",
   "execution_count": 240,
   "metadata": {
    "collapsed": false
   },
   "outputs": [
    {
     "data": {
      "text/html": [
       "<table class=\"data-frame\"><tr><th></th><th>Valor_X</th><th>Raiz</th></tr><tr><th>1</th><td>0.0</td><td>0.0</td></tr><tr><th>2</th><td>2.0</td><td>0.0</td></tr><tr><th>3</th><td>6.0</td><td>6.119024225042324</td></tr><tr><th>4</th><td>9.0</td><td>9.529904336449029</td></tr><tr><th>5</th><td>13.0</td><td>12.486196308339682</td></tr></table>"
      ],
      "text/plain": [
       "5×2 DataFrames.DataFrame\n",
       "│ Row │ Valor_X │ Raiz    │\n",
       "├─────┼─────────┼─────────┤\n",
       "│ 1   │ 0.0     │ 0.0     │\n",
       "│ 2   │ 2.0     │ 0.0     │\n",
       "│ 3   │ 6.0     │ 6.11902 │\n",
       "│ 4   │ 9.0     │ 9.5299  │\n",
       "│ 5   │ 13.0    │ 12.4862 │"
      ]
     },
     "execution_count": 240,
     "metadata": {},
     "output_type": "execute_result"
    }
   ],
   "source": [
    "# Vetor de valores iniciais (xi)\n",
    "# ATENÇÃO! como o Resultado2 é um vetor vazio, a cada execução\n",
    "# será criada ao final do DataFrame um novo conjunto de dados\n",
    "# para evitar isso use unique!(Resultado2) ao final do laço\n",
    "v = [0.0, 2.0, 6.0, 9.0, 13.0]\n",
    "\n",
    "for i in v\n",
    "    push!(Resultado2, [i, nsolve(fx, i)])\n",
    "end\n",
    "\n",
    "unique!(Resultado2)"
   ]
  },
  {
   "cell_type": "code",
   "execution_count": 241,
   "metadata": {
    "collapsed": false
   },
   "outputs": [
    {
     "name": "stdout",
     "output_type": "stream",
     "text": [
      "0.0 ; 0.0 ; 0.0 ; 0.0 ; 0.0 ; "
     ]
    }
   ],
   "source": [
    "# Testando os resultados \n",
    "\n",
    "for i = 1:length(v)\n",
    "    print(f(Resultado2[2][1]),\" ; \")\n",
    "end"
   ]
  },
  {
   "cell_type": "code",
   "execution_count": 242,
   "metadata": {
    "collapsed": false
   },
   "outputs": [],
   "source": [
    "# Gravando os dados em um arquivo CSV\n",
    "\n",
    "writetable(\"Resultado2.csv\", Resultado1, separator = ',', header = true)"
   ]
  },
  {
   "cell_type": "markdown",
   "metadata": {},
   "source": [
    "**Outa forma de adicionar dados ao final de um Dataframe**\n",
    "\n",
    "Comando vcat. Sintaxe:\n",
    "\n",
    "```julia\n",
    "vcat(nome_Dataframe, DataFrame(coluna1 = dados, coluna2 = dados))\n",
    "```"
   ]
  },
  {
   "cell_type": "markdown",
   "metadata": {},
   "source": [
    "**Adicionando um único valor de raiz**"
   ]
  },
  {
   "cell_type": "code",
   "execution_count": 243,
   "metadata": {
    "collapsed": false,
    "scrolled": false
   },
   "outputs": [
    {
     "data": {
      "text/html": [
       "<table class=\"data-frame\"><tr><th></th><th>Valor_X</th><th>Raiz</th></tr><tr><th>1</th><td>0.0</td><td>0.0</td></tr><tr><th>2</th><td>2.0</td><td>0.0</td></tr><tr><th>3</th><td>6.0</td><td>6.119024225042324</td></tr><tr><th>4</th><td>9.0</td><td>9.529904336449029</td></tr><tr><th>5</th><td>13.0</td><td>12.486196308339682</td></tr><tr><th>6</th><td>60.0</td><td>59.70700965357191</td></tr></table>"
      ],
      "text/plain": [
       "6×2 DataFrames.DataFrame\n",
       "│ Row │ Valor_X │ Raiz    │\n",
       "├─────┼─────────┼─────────┤\n",
       "│ 1   │ 0.0     │ 0.0     │\n",
       "│ 2   │ 2.0     │ 0.0     │\n",
       "│ 3   │ 6.0     │ 6.11902 │\n",
       "│ 4   │ 9.0     │ 9.5299  │\n",
       "│ 5   │ 13.0    │ 12.4862 │\n",
       "│ 6   │ 60.0    │ 59.707  │"
      ]
     },
     "execution_count": 243,
     "metadata": {},
     "output_type": "execute_result"
    }
   ],
   "source": [
    "Resultado2 = readtable(\"Resultado2.csv\")\n",
    "push!(Resultado2, [60, nsolve(fx, 60)]) # pode ser usado também o comando vcat\n",
    "Resultado2"
   ]
  },
  {
   "cell_type": "markdown",
   "metadata": {},
   "source": [
    "**Adicionando vários valores de raizes**"
   ]
  },
  {
   "cell_type": "code",
   "execution_count": 244,
   "metadata": {
    "collapsed": false
   },
   "outputs": [
    {
     "data": {
      "text/plain": [
       "4-element Array{Float64,1}:\n",
       "  62.8159\n",
       "  69.1006\n",
       "  75.385 \n",
       " -15.7714"
      ]
     },
     "execution_count": 244,
     "metadata": {},
     "output_type": "execute_result"
    }
   ],
   "source": [
    "# vetor de raízes aproximadas e vetor de raizes calculadas pelo SymPy\n",
    "novos_valores_x = [62, 70, 75, 80] \n",
    "novas_raizes_f = [nsolve(fx, raiz) for raiz = novos_valores_x]"
   ]
  },
  {
   "cell_type": "code",
   "execution_count": 245,
   "metadata": {
    "collapsed": false
   },
   "outputs": [
    {
     "data": {
      "text/html": [
       "<table class=\"data-frame\"><tr><th></th><th>Valor_X</th><th>Raiz</th></tr><tr><th>1</th><td>0.0</td><td>0.0</td></tr><tr><th>2</th><td>2.0</td><td>0.0</td></tr><tr><th>3</th><td>6.0</td><td>6.119024225042324</td></tr><tr><th>4</th><td>9.0</td><td>9.529904336449029</td></tr><tr><th>5</th><td>13.0</td><td>12.486196308339682</td></tr><tr><th>6</th><td>60.0</td><td>59.70700965357191</td></tr><tr><th>7</th><td>62.0</td><td>62.81593287133609</td></tr><tr><th>8</th><td>70.0</td><td>69.10056621235024</td></tr><tr><th>9</th><td>75.0</td><td>75.38495805125963</td></tr><tr><th>10</th><td>80.0</td><td>-15.771411695083252</td></tr></table>"
      ],
      "text/plain": [
       "10×2 DataFrames.DataFrame\n",
       "│ Row │ Valor_X │ Raiz     │\n",
       "├─────┼─────────┼──────────┤\n",
       "│ 1   │ 0.0     │ 0.0      │\n",
       "│ 2   │ 2.0     │ 0.0      │\n",
       "│ 3   │ 6.0     │ 6.11902  │\n",
       "│ 4   │ 9.0     │ 9.5299   │\n",
       "│ 5   │ 13.0    │ 12.4862  │\n",
       "│ 6   │ 60.0    │ 59.707   │\n",
       "│ 7   │ 62.0    │ 62.8159  │\n",
       "│ 8   │ 70.0    │ 69.1006  │\n",
       "│ 9   │ 75.0    │ 75.385   │\n",
       "│ 10  │ 80.0    │ -15.7714 │"
      ]
     },
     "execution_count": 245,
     "metadata": {},
     "output_type": "execute_result"
    }
   ],
   "source": [
    "Resultado2 = vcat(Resultado2, DataFrame(Valor_X = novos_valores_x, Raiz = novas_raizes_f))"
   ]
  },
  {
   "cell_type": "code",
   "execution_count": null,
   "metadata": {
    "collapsed": true
   },
   "outputs": [],
   "source": []
  }
 ],
 "metadata": {
  "anaconda-cloud": {},
  "kernelspec": {
   "display_name": "Julia 0.5.0",
   "language": "julia",
   "name": "julia-0.5"
  },
  "language_info": {
   "file_extension": ".jl",
   "mimetype": "application/julia",
   "name": "julia",
   "version": "0.5.0"
  }
 },
 "nbformat": 4,
 "nbformat_minor": 0
}
