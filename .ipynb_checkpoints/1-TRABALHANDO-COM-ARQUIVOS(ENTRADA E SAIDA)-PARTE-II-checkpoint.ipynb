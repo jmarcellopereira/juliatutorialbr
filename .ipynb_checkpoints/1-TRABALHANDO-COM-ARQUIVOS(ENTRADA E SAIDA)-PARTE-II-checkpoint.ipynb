{
 "cells": [
  {
   "cell_type": "markdown",
   "metadata": {},
   "source": [
    "# TRABALHANDO COM ARQUIVOS(ENTRADA E SAIDA) PARTE II"
   ]
  },
  {
   "cell_type": "markdown",
   "metadata": {},
   "source": [
    "## ARQUIVOS DE DADOS JLD\n",
    "\n",
    "Arquivo JDL é um formato amplamente utilizado para armazenamento de dados com a linguagem de programação Julia. JLD é um formato derivado do HDF5 aplicado para o armazenamento de dados científicos de grande volume. \n",
    "\n",
    "Arquivos HDF5 são organizados em uma estrutura hierárquica. Esta, pode ser vista como uma árvore de diretórios dentro de um arquivo. Suas duas estruturas primárias são groups e datasets (HDF Group, 2007). Um HDF5 group é uma estrutura de agrupamento que pode conter zero ou mais instâncias de grupos ou datasets, juntamente com seus metadados, enquanto um HDF5 dataset é um array multidimensional de dados também em conjunto com seus metadados.A figura abaixo representa a estrutura de um arquivo HDF5 [(PERANTUNES,2007)](https://projetos.inf.ufsc.br/arquivos_projetos/projeto_733/hilton_perantunes_ine5631.pdf). \n",
    "![Estrutura do HDF5](Figuras/hdf5.png)\n",
    "Um grupo contém zero ou mais HDF5 objects (grupos ou datasets), e é composto por duas partes: a primeira é formada por um cabeçalho contendo o nome do grupo e uma lista de atributos, sendo que a segunda parte é uma tabela de símbolos com uma listagem dos objetos HDF5 que pertencem ao grupo . Já um dataset possui um cabeçalho e um array de dados  [(PERANTUNES,2007)](https://projetos.inf.ufsc.br/arquivos_projetos/projeto_733/hilton_perantunes_ine5631.pdf).\n",
    "\n",
    "Em comparação com HDF5, arquivos JLD adicionam automaticamente atributos e convenções de nomenclatura para preservar as informações de tipo para cada objeto. Vale resaltar que arquivos * .jld são arquivos HDF5 com recursos extras e, consequentemente, pode ser lido por qualquer linguagem que suporte HDF5. Para mais detalhes consulte [JuliaIO/JLD](https://github.com/JuliaIO/JLD.jl/) . Uma grande vantagem é que a saída do arquivo é do tipo dicionário e portante vale todas as operações para este tipo no notebook \"TIPOS DE DADOS\". Para instalar o pacote JLD use:\n",
    "```julia\n",
    "Pkg.add(\"JLD\")\n",
    "```"
   ]
  },
  {
   "cell_type": "markdown",
   "metadata": {},
   "source": [
    "**Criar,  Abrir e gravar dados no arquivo JLD**\n",
    "\n",
    "Para criar um novo arquivo basta abrir ou escrever um arquivo que não existe ainda e `Julia` irá escrever no disco o arquivo. Para escrever em um arquivo novo use:\n",
    "```julia\n",
    "save(\"nome_arquivo.jld\", \"key_1\", valor_dado, \"key_2\", valor_dado,...)\n",
    "```"
   ]
  },
  {
   "cell_type": "code",
   "execution_count": 11,
   "metadata": {
    "collapsed": false
   },
   "outputs": [],
   "source": [
    "using JLD"
   ]
  },
  {
   "cell_type": "markdown",
   "metadata": {},
   "source": [
    "#### MODO BÁSICO\n",
    "\n",
    "Neste primeiro contato, faremos apenas uma introdução rápida sobre a manipulação dos arquivos no formato `JLD` de tal forma que seja suficiente para o usuário gravar informações no disco e recuperá-las para trabalhar com os dados. A desvantagem é que alterado os dados de uma `key` é necessário salva todos os dados novamente no arquivo em disco."
   ]
  },
  {
   "cell_type": "code",
   "execution_count": 12,
   "metadata": {
    "collapsed": false
   },
   "outputs": [
    {
     "data": {
      "text/plain": [
       "\"Arquivos\""
      ]
     },
     "execution_count": 12,
     "metadata": {},
     "output_type": "execute_result"
    }
   ],
   "source": [
    "# dados\n",
    "matriz = rand(Float64,6,6)\n",
    "vetor = rand(5)\n",
    "nome = \"Arquivos\""
   ]
  },
  {
   "cell_type": "code",
   "execution_count": 13,
   "metadata": {
    "collapsed": true
   },
   "outputs": [],
   "source": [
    "# salvar arquivo em disco \n",
    "save(\"arquivo_basico.jld\", \"matriz\", matriz, \"vetor\", vetor , \"nome\", nome)"
   ]
  },
  {
   "cell_type": "code",
   "execution_count": 14,
   "metadata": {
    "collapsed": false,
    "scrolled": false
   },
   "outputs": [
    {
     "data": {
      "text/plain": [
       "Dict{String,Any} with 3 entries:\n",
       "  \"matriz\" => [0.660187 0.786183 … 0.240348 0.261368; 0.0133873 0.970472 … 0.22…\n",
       "  \"vetor\"  => [0.600473, 0.158084, 0.414937, 0.674712, 0.269395]\n",
       "  \"nome\"   => \"Arquivos\""
      ]
     },
     "execution_count": 14,
     "metadata": {},
     "output_type": "execute_result"
    }
   ],
   "source": [
    "# ler os dados do arquivo gravado em disco\n",
    "arquivo_basico = load(\"arquivo_basico.jld\")"
   ]
  },
  {
   "cell_type": "code",
   "execution_count": 15,
   "metadata": {
    "collapsed": false
   },
   "outputs": [
    {
     "data": {
      "text/plain": [
       "Dict{String,Any} with 2 entries:\n",
       "  \"matriz\" => [0.660187 0.786183 … 0.240348 0.261368; 0.0133873 0.970472 … 0.22…\n",
       "  \"nome\"   => \"Arquivos\""
      ]
     },
     "execution_count": 15,
     "metadata": {},
     "output_type": "execute_result"
    }
   ],
   "source": [
    "# deletar uma key e seus valores\n",
    "delete!(arquivo_basico, \"vetor\")"
   ]
  },
  {
   "cell_type": "code",
   "execution_count": 16,
   "metadata": {
    "collapsed": false,
    "scrolled": true
   },
   "outputs": [
    {
     "data": {
      "text/plain": [
       "Base.KeySet for a Dict{String,Any} with 2 entries. Keys:\n",
       "  \"matriz\"\n",
       "  \"nome\""
      ]
     },
     "execution_count": 16,
     "metadata": {},
     "output_type": "execute_result"
    }
   ],
   "source": [
    "# listar as keys\n",
    "keys(arquivo_basico)"
   ]
  },
  {
   "cell_type": "code",
   "execution_count": 17,
   "metadata": {
    "collapsed": false,
    "scrolled": false
   },
   "outputs": [
    {
     "data": {
      "text/plain": [
       "Base.ValueIterator for a Dict{String,Any} with 2 entries. Values:\n",
       "  [0.660187 0.786183 … 0.240348 0.261368; 0.0133873 0.970472 … 0.224216 0.04570…\n",
       "  \"Arquivos\""
      ]
     },
     "execution_count": 17,
     "metadata": {},
     "output_type": "execute_result"
    }
   ],
   "source": [
    "# listar os valores das keys\n",
    "values(arquivo_basico)"
   ]
  },
  {
   "cell_type": "code",
   "execution_count": 18,
   "metadata": {
    "collapsed": false
   },
   "outputs": [
    {
     "data": {
      "text/plain": [
       "6×6 Array{Float64,2}:\n",
       " 0.660187   0.786183  0.479609   0.383642   0.240348  0.261368 \n",
       " 0.0133873  0.970472  0.0267761  0.0334408  0.224216  0.0457048\n",
       " 0.776844   0.376885  0.854873   0.662792   0.137693  0.223808 \n",
       " 0.966029   0.411159  0.229009   0.200476   0.564937  0.877581 \n",
       " 0.807123   0.750271  0.0288055  0.36686    0.16131   0.279597 \n",
       " 0.248982   0.985183  0.827886   0.222823   0.817785  0.727108 "
      ]
     },
     "execution_count": 18,
     "metadata": {},
     "output_type": "execute_result"
    }
   ],
   "source": [
    "# mostrar os valores da key \"matriz\"\n",
    "arquivo_basico[\"matriz\"]"
   ]
  },
  {
   "cell_type": "code",
   "execution_count": 19,
   "metadata": {
    "collapsed": true
   },
   "outputs": [],
   "source": [
    "# altera matriz e nome\n",
    "arquivo_basico[\"matriz\"] = rand(3,2)\n",
    "arquivo_basico[\"nome\"]  =  \"Testando\";"
   ]
  },
  {
   "cell_type": "code",
   "execution_count": 20,
   "metadata": {
    "collapsed": true
   },
   "outputs": [],
   "source": [
    "# salvar alterações em disco\n",
    "save(\"arquivo_basico.jld\", arquivo_basico)"
   ]
  },
  {
   "cell_type": "code",
   "execution_count": 21,
   "metadata": {
    "collapsed": false,
    "scrolled": false
   },
   "outputs": [
    {
     "data": {
      "text/plain": [
       "Dict{String,Any} with 2 entries:\n",
       "  \"matriz\" => [0.0519831 0.965207; 0.691028 0.0453523; 0.795819 0.917402]\n",
       "  \"nome\"   => \"Testando\""
      ]
     },
     "execution_count": 21,
     "metadata": {},
     "output_type": "execute_result"
    }
   ],
   "source": [
    "# ler os dados do arquivo gravado em disco. Veja que a matriz mudou.\n",
    "load(\"arquivo_basico.jld\")"
   ]
  },
  {
   "cell_type": "markdown",
   "metadata": {},
   "source": [
    "#### MODO AVANÇADO\n",
    "\n",
    "Nesta parte será trabalhado a abertura do arquivo para manipular os dados e fechamendo após as operações. Isto é importante pois permite salvar apenas as `keys` alteradas.\n",
    "\n",
    "Um novo arquivo será criado quando executado o comando `jldopen` com atributo de gravação **\"w\"** e vinculado a uma variável. Sintaxe:\n",
    "```julia\n",
    "var_dados = jldopen(\"nome_arquivo.jld\", atributo)\n",
    "\n",
    "```\n",
    "`Tabela de atributos`\n",
    "\n",
    "<table border=\"1\" class=\"docutils\" style=\"float: left;\">\n",
    "<colgroup>\n",
    "<col width=\"11%\" />\n",
    "<col width=\"89%\" />\n",
    "</colgroup>\n",
    "<tbody valign=\"top\">\n",
    "<tr class=\"row-odd\"><td>\"r\"</td>\n",
    "<td>Somente ler os dados</td>\n",
    "</tr>\n",
    "<tr class=\"row-even\"><td>\"r+\"</td>\n",
    "<td>Ler e escrever mantendo os dados já escritos</td>\n",
    "</tr>\n",
    "<tr class=\"row-odd\"><td>\"w\"</td>\n",
    "<td>Escrever destruindo todos os dados existentes. CUIDADO! RECOMENDÁVEL SOMENTE PARA ARQUIVOS NOVOS</td>\n",
    "</tr>\n",
    "\n",
    "</tbody>\n",
    "</table>"
   ]
  },
  {
   "cell_type": "code",
   "execution_count": 22,
   "metadata": {
    "collapsed": true
   },
   "outputs": [],
   "source": [
    "using JLD"
   ]
  },
  {
   "cell_type": "code",
   "execution_count": 23,
   "metadata": {
    "collapsed": false,
    "scrolled": false
   },
   "outputs": [
    {
     "data": {
      "text/plain": [
       "Julia data file version 0.1.2: arquivo_avancado.jld"
      ]
     },
     "execution_count": 23,
     "metadata": {},
     "output_type": "execute_result"
    }
   ],
   "source": [
    "arquivo_avancado = jldopen(\"arquivo_avancado.jld\", \"w\")"
   ]
  },
  {
   "cell_type": "markdown",
   "metadata": {},
   "source": [
    "Uma vez aberto o arquivo não é possível abri-lo novamente com outro atributo, se tentar ocorrerá este erro:\n",
    "\n",
    "        HDF5-DIAG: Error detected in HDF5 (1.8.16) thread 139655273372672:\n",
    "          #000: ../../../src/H5F.c line 522 in H5Fcreate(): unable to create file\n",
    "            major: File accessibilty\n",
    "            minor: Unable to open file\n",
    "          #001: ../../../src/H5Fint.c line 1024 in H5F_open(): unable to truncate a file which is already open\n",
    "            major: File accessibilty\n",
    "            minor: Unable to open file\n",
    "            \n",
    "Este erro informa que o arquivo está inacessível e que ja está aberto. Para alterar o atributo e abrir o arquivo novamente é necessário fecha-lo primeiro. Muitas vezes não sabemos qual objeto está vinculado ao arquivo aberto, dessa forma utilize a função `whos()` basta procurar pelo objeto do tipo `JLD.JldFile` e fecha-lo."
   ]
  },
  {
   "cell_type": "code",
   "execution_count": 24,
   "metadata": {
    "collapsed": false,
    "scrolled": true
   },
   "outputs": [
    {
     "data": {
      "text/plain": [
       "\"x*sind(x)\""
      ]
     },
     "execution_count": 24,
     "metadata": {},
     "output_type": "execute_result"
    }
   ],
   "source": [
    "matriz = rand(Float64,6,6) # matriz aleatoria do tipo float64\n",
    "vetor  = rand(5)           # vetor aleatóro do tipo float64\n",
    "nome   = \"Arquivos\"        # string \n",
    "funcao = \"x*sind(x)\"       # função do tipo string"
   ]
  },
  {
   "cell_type": "code",
   "execution_count": 25,
   "metadata": {
    "collapsed": false
   },
   "outputs": [],
   "source": [
    "# gravando dados no arquivo\n",
    "write(arquivo_avancado, \"Matriz\", matriz)\n",
    "write(arquivo_avancado, \"vetor\" , vetor)\n",
    "write(arquivo_avancado, \"nome\" , nome)\n",
    "write(arquivo_avancado, \"função\" , funcao)"
   ]
  },
  {
   "cell_type": "code",
   "execution_count": 26,
   "metadata": {
    "collapsed": true
   },
   "outputs": [],
   "source": [
    "# fechando o arquivo\n",
    "close(arquivo_avancado)"
   ]
  },
  {
   "cell_type": "markdown",
   "metadata": {
    "collapsed": true
   },
   "source": [
    "** Lendo arquivo de dados**\n",
    "\n",
    "Para exibir os dados de uma `key` use:\n",
    "```julia\n",
    "read(nome_var_arquivo[\"nome_key\"])\n",
    "```\n",
    "Sendo \"nome_var_arquivo\" o nome da variável que é atribído o arquivo gravado em disco e \"nome_key\" o nome da chave.\n",
    "\n",
    "Para acessar valores específicos da `key` use:\n",
    "```julia\n",
    "read(nome_var_arquivo[\"nome_key\"])[ordem_dado]\n",
    "```\n",
    "`ordem_dado` é a referência ao registro do dado num vetor, matriz e outros tipos básicos"
   ]
  },
  {
   "cell_type": "code",
   "execution_count": 27,
   "metadata": {
    "collapsed": true
   },
   "outputs": [],
   "source": [
    "using JLD"
   ]
  },
  {
   "cell_type": "code",
   "execution_count": 28,
   "metadata": {
    "collapsed": false,
    "scrolled": false
   },
   "outputs": [
    {
     "data": {
      "text/plain": [
       "Julia data file version 0.1.2: arquivo_avancado.jld"
      ]
     },
     "execution_count": 28,
     "metadata": {},
     "output_type": "execute_result"
    }
   ],
   "source": [
    "# vinculando a \"arquivo_avancado\" ao arquivo gravado em disco\n",
    "arquivo_avancado = jldopen(\"arquivo_avancado.jld\", \"r+\")"
   ]
  },
  {
   "cell_type": "code",
   "execution_count": 29,
   "metadata": {
    "collapsed": false
   },
   "outputs": [
    {
     "data": {
      "text/plain": [
       "JLD.JldFile"
      ]
     },
     "execution_count": 29,
     "metadata": {},
     "output_type": "execute_result"
    }
   ],
   "source": [
    "# verificar o tipo\n",
    "typeof(arquivo_avancado)"
   ]
  },
  {
   "cell_type": "code",
   "execution_count": 30,
   "metadata": {
    "collapsed": false,
    "scrolled": false
   },
   "outputs": [
    {
     "data": {
      "text/plain": [
       "Dict{String,Any} with 4 entries:\n",
       "  \"função\" => \"x*sind(x)\"\n",
       "  \"vetor\"  => [0.23393, 0.141766, 0.645631, 0.232812, 0.323041]\n",
       "  \"nome\"   => \"Arquivos\"\n",
       "  \"Matriz\" => [0.935366 0.81458 … 0.61642 0.0203982; 0.794274 0.710353 … 0.0343…"
      ]
     },
     "execution_count": 30,
     "metadata": {},
     "output_type": "execute_result"
    }
   ],
   "source": [
    "# ler os dados de arquivo_dados\n",
    "read(arquivo_avancado)"
   ]
  },
  {
   "cell_type": "code",
   "execution_count": 31,
   "metadata": {
    "collapsed": false
   },
   "outputs": [
    {
     "data": {
      "text/plain": [
       "false"
      ]
     },
     "execution_count": 31,
     "metadata": {},
     "output_type": "execute_result"
    }
   ],
   "source": [
    "# deletar uma key e seus valores\n",
    "delete!(arquivo_avancado, \"vetor\")"
   ]
  },
  {
   "cell_type": "code",
   "execution_count": 32,
   "metadata": {
    "collapsed": false,
    "scrolled": false
   },
   "outputs": [
    {
     "data": {
      "text/plain": [
       "Base.KeySet for a Dict{String,Any} with 3 entries. Keys:\n",
       "  \"função\"\n",
       "  \"nome\"\n",
       "  \"Matriz\""
      ]
     },
     "execution_count": 32,
     "metadata": {},
     "output_type": "execute_result"
    }
   ],
   "source": [
    "# ler as keys. key \"vetor\" foi deletada\n",
    "keys(read(arquivo_avancado))"
   ]
  },
  {
   "cell_type": "code",
   "execution_count": 33,
   "metadata": {
    "collapsed": false
   },
   "outputs": [
    {
     "data": {
      "text/plain": [
       "Base.ValueIterator for a Dict{String,Any} with 3 entries. Values:\n",
       "  \"x*sind(x)\"\n",
       "  \"Arquivos\"\n",
       "  [0.935366 0.81458 … 0.61642 0.0203982; 0.794274 0.710353 … 0.0343351 0.179585…"
      ]
     },
     "execution_count": 33,
     "metadata": {},
     "output_type": "execute_result"
    }
   ],
   "source": [
    "values(read(arquivo_avancado))"
   ]
  },
  {
   "cell_type": "code",
   "execution_count": 34,
   "metadata": {
    "collapsed": false
   },
   "outputs": [
    {
     "data": {
      "text/plain": [
       "6×6 Array{Float64,2}:\n",
       " 0.935366   0.81458   0.437231  0.690178   0.61642    0.0203982\n",
       " 0.794274   0.710353  0.266162  0.973579   0.0343351  0.179585 \n",
       " 0.545826   0.594448  0.487492  0.833393   0.342145   0.267891 \n",
       " 0.0414543  0.921694  0.135236  0.653629   0.324803   0.580684 \n",
       " 0.387451   0.780827  0.87902   0.0871821  0.249427   0.188895 \n",
       " 0.614234   0.988025  0.758377  0.167114   0.398239   0.623417 "
      ]
     },
     "execution_count": 34,
     "metadata": {},
     "output_type": "execute_result"
    }
   ],
   "source": [
    "# Listar todos os dados do registro \"1\"\n",
    "read(arquivo_avancado[\"Matriz\"])"
   ]
  },
  {
   "cell_type": "code",
   "execution_count": 35,
   "metadata": {
    "collapsed": false
   },
   "outputs": [
    {
     "data": {
      "text/plain": [
       "6-element Array{Float64,1}:\n",
       " 0.7942739477990566  \n",
       " 0.7103527444875375  \n",
       " 0.2661621856007501  \n",
       " 0.973579302813331   \n",
       " 0.034335064915465896\n",
       " 0.17958547680744896 "
      ]
     },
     "execution_count": 35,
     "metadata": {},
     "output_type": "execute_result"
    }
   ],
   "source": [
    "# listar somente os elementos da segunda linha\n",
    "read(arquivo_avancado[\"Matriz\"])[2,:]"
   ]
  },
  {
   "cell_type": "code",
   "execution_count": 36,
   "metadata": {
    "collapsed": false,
    "scrolled": true
   },
   "outputs": [
    {
     "data": {
      "text/plain": [
       "9999"
      ]
     },
     "execution_count": 36,
     "metadata": {},
     "output_type": "execute_result"
    }
   ],
   "source": [
    "# alterar o valor de um elemento\n",
    "arquivo_avancado[\"Matriz\"][1,1] = 9999"
   ]
  },
  {
   "cell_type": "code",
   "execution_count": 37,
   "metadata": {
    "collapsed": false,
    "scrolled": true
   },
   "outputs": [
    {
     "data": {
      "text/plain": [
       "6×6 Array{Float64,2}:\n",
       " 9999.0        0.81458   0.437231  0.690178   0.61642    0.0203982\n",
       "    0.794274   0.710353  0.266162  0.973579   0.0343351  0.179585 \n",
       "    0.545826   0.594448  0.487492  0.833393   0.342145   0.267891 \n",
       "    0.0414543  0.921694  0.135236  0.653629   0.324803   0.580684 \n",
       "    0.387451   0.780827  0.87902   0.0871821  0.249427   0.188895 \n",
       "    0.614234   0.988025  0.758377  0.167114   0.398239   0.623417 "
      ]
     },
     "execution_count": 37,
     "metadata": {},
     "output_type": "execute_result"
    }
   ],
   "source": [
    "read(arquivo_avancado[\"Matriz\"])"
   ]
  },
  {
   "cell_type": "code",
   "execution_count": 38,
   "metadata": {
    "collapsed": false
   },
   "outputs": [
    {
     "data": {
      "text/plain": [
       "\"Arquivos\""
      ]
     },
     "execution_count": 38,
     "metadata": {},
     "output_type": "execute_result"
    }
   ],
   "source": [
    "# Listar todos os dados do registro \"3\"\n",
    "read(arquivo_avancado[\"nome\"])"
   ]
  },
  {
   "cell_type": "code",
   "execution_count": 39,
   "metadata": {
    "collapsed": false,
    "scrolled": true
   },
   "outputs": [
    {
     "data": {
      "text/plain": [
       "f (generic function with 1 method)"
      ]
     },
     "execution_count": 39,
     "metadata": {},
     "output_type": "execute_result"
    }
   ],
   "source": [
    "# transformando a string da key 4 em função\n",
    "@eval f(x) = $(Meta.parse(read(arquivo_avancado[\"função\"])))"
   ]
  },
  {
   "cell_type": "code",
   "execution_count": 40,
   "metadata": {
    "collapsed": false
   },
   "outputs": [
    {
     "data": {
      "text/plain": [
       "15.0"
      ]
     },
     "execution_count": 40,
     "metadata": {},
     "output_type": "execute_result"
    }
   ],
   "source": [
    "f(30)"
   ]
  },
  {
   "cell_type": "code",
   "execution_count": 41,
   "metadata": {
    "collapsed": false,
    "scrolled": true
   },
   "outputs": [],
   "source": [
    "# definindo um tipo específico\n",
    "\n",
    "mutable struct Amostra_obj\n",
    "     material  ::String\n",
    "     massa     ::Float64\n",
    "     raio      ::Float64 \n",
    "     densidade ::Float64    \n",
    "end"
   ]
  },
  {
   "cell_type": "code",
   "execution_count": 42,
   "metadata": {
    "collapsed": false,
    "scrolled": true
   },
   "outputs": [
    {
     "data": {
      "text/plain": [
       "Amostra_obj(\"isopor\", 0.001, 0.1, 0.0001)"
      ]
     },
     "execution_count": 42,
     "metadata": {},
     "output_type": "execute_result"
    }
   ],
   "source": [
    "objeto1 = Amostra_obj(\"isopor\", 0.001, 0.1,  0.0001)"
   ]
  },
  {
   "cell_type": "code",
   "execution_count": 43,
   "metadata": {
    "collapsed": false
   },
   "outputs": [],
   "source": [
    "# salvar no arquivo\n",
    "write(arquivo_avancado, \"objeto1\" , objeto1 )"
   ]
  },
  {
   "cell_type": "code",
   "execution_count": 44,
   "metadata": {
    "collapsed": false
   },
   "outputs": [
    {
     "data": {
      "text/plain": [
       "(\"isopor\", 0.001, 0.1, 0.0001)"
      ]
     },
     "execution_count": 44,
     "metadata": {},
     "output_type": "execute_result"
    }
   ],
   "source": [
    "# atribuir objeto1 à key \"objeto1\" \n",
    "amostra_1 = read(arquivo_avancado[\"objeto1\"])\n",
    "\n",
    "# listar as caracteristicas do objeto amostra_1\n",
    "amostra_1.material , amostra_1.massa , amostra_1.raio , amostra_1.densidade "
   ]
  },
  {
   "cell_type": "markdown",
   "metadata": {},
   "source": [
    "É possível gravar em uma `key` um tipo específico. Isto é útil para ter sempre disponível um tipo específico."
   ]
  },
  {
   "cell_type": "code",
   "execution_count": 46,
   "metadata": {
    "collapsed": false
   },
   "outputs": [],
   "source": [
    "# salvar no arquivo\n",
    "write(arquivo_avancado, \"tipo_amostra\" , Amostra_obj )"
   ]
  },
  {
   "cell_type": "code",
   "execution_count": 47,
   "metadata": {
    "collapsed": false
   },
   "outputs": [
    {
     "data": {
      "text/plain": [
       "Amostra_obj(\"metal\", 0.1, 0.1, 0.15)"
      ]
     },
     "execution_count": 47,
     "metadata": {},
     "output_type": "execute_result"
    }
   ],
   "source": [
    "amostra_metal = read(arquivo_avancado[\"tipo_amostra\"])(\"metal\", 0.1, 0.1,  0.15)"
   ]
  },
  {
   "cell_type": "code",
   "execution_count": 48,
   "metadata": {
    "collapsed": false
   },
   "outputs": [],
   "source": [
    "# gravando o tipo no arquivo\n",
    "write(arquivo_avancado, \"amostra_metal\" , amostra_metal )"
   ]
  },
  {
   "cell_type": "code",
   "execution_count": 49,
   "metadata": {
    "collapsed": false
   },
   "outputs": [
    {
     "data": {
      "text/plain": [
       "Dict{String,Any} with 6 entries:\n",
       "  \"amostra_metal\" => Amostra_obj(\"metal\", 0.1, 0.1, 0.15)\n",
       "  \"função\"        => \"x*sind(x)\"\n",
       "  \"tipo_amostra\"  => Amostra_obj\n",
       "  \"objeto1\"       => Amostra_obj(\"isopor\", 0.001, 0.1, 0.0001)\n",
       "  \"nome\"          => \"Arquivos\"\n",
       "  \"Matriz\"        => [9999.0 0.81458 … 0.61642 0.0203982; 0.794274 0.710353 … 0…"
      ]
     },
     "execution_count": 49,
     "metadata": {},
     "output_type": "execute_result"
    }
   ],
   "source": [
    "# observe os valores alterados dos elementos e a ausência da key \"vetor\"\n",
    "read(arquivo_avancado)"
   ]
  },
  {
   "cell_type": "code",
   "execution_count": 50,
   "metadata": {
    "collapsed": true
   },
   "outputs": [],
   "source": [
    "# fechar arquivo\n",
    "close(arquivo_avancado)"
   ]
  },
  {
   "cell_type": "code",
   "execution_count": 51,
   "metadata": {
    "collapsed": false,
    "scrolled": true
   },
   "outputs": [
    {
     "ename": "ErrorException",
     "evalue": "File or object has been closed",
     "output_type": "error",
     "traceback": [
      "File or object has been closed",
      "",
      "Stacktrace:",
      " [1] error(::String) at ./error.jl:33",
      " [2] checkvalid at /home/jmarcellopereira/.julia/packages/HDF5/ZOkE7/src/HDF5.jl:776 [inlined]",
      " [3] names(::HDF5.HDF5File) at /home/jmarcellopereira/.julia/packages/HDF5/ZOkE7/src/HDF5.jl:1113",
      " [4] names(::JLD.JldFile) at /home/jmarcellopereira/.julia/packages/JLD/1BoSz/src/JLD.jl:1113",
      " [5] read(::JLD.JldFile) at /home/jmarcellopereira/.julia/packages/HDF5/ZOkE7/src/datafile.jl:42",
      " [6] top-level scope at In[51]:1"
     ]
    }
   ],
   "source": [
    "# depois de fechado, os dados não podem ser lidos a partir da variável vinculada\n",
    "read(arquivo_avancado)"
   ]
  },
  {
   "cell_type": "markdown",
   "metadata": {},
   "source": [
    "**Ler e alterar dados em um arquivo jld sem atribuição de variável**\n",
    "\n",
    "Para somente ler o conteúdo de um arquivo sem ter a necessidade de fecha-lo depois, use o comando: \n",
    "```julia \n",
    "read(jldopen(\"nome_arquivo.jld\", \"atributo\"))\n",
    "```\n",
    "Para ser prático, use o atributo \"r+\" pois assim é possível alterar valores dos elementos de contidos em uma `key`.\n",
    "\n",
    "Para gravar uma nova `key` use:\n",
    "```julia\n",
    "write(jldopen(\"nome_arquivo.jld\", \"r+\"), \"nova_key\",\"valor_dado\")\n",
    "```\n",
    "Não use ```write(\"nome_arquivo.jld\",\"key\",\"Valor_Dados\") ``` para gravar diretamente, todos os dados anteriores serão perdidos."
   ]
  },
  {
   "cell_type": "code",
   "execution_count": 52,
   "metadata": {
    "collapsed": false,
    "scrolled": true
   },
   "outputs": [
    {
     "data": {
      "text/plain": [
       "Dict{String,Any} with 6 entries:\n",
       "  \"amostra_metal\" => Amostra_obj(\"metal\", 0.1, 0.1, 0.15)\n",
       "  \"função\"        => \"x*sind(x)\"\n",
       "  \"tipo_amostra\"  => Amostra_obj\n",
       "  \"objeto1\"       => Amostra_obj(\"isopor\", 0.001, 0.1, 0.0001)\n",
       "  \"nome\"          => \"Arquivos\"\n",
       "  \"Matriz\"        => [9999.0 0.81458 … 0.61642 0.0203982; 0.794274 0.710353 … 0…"
      ]
     },
     "execution_count": 52,
     "metadata": {},
     "output_type": "execute_result"
    }
   ],
   "source": [
    "# use o atributo \"r+\" para ler e alterar dados do arquivo.\n",
    "read(jldopen(\"arquivo_avancado.jld\", \"r+\"))"
   ]
  },
  {
   "cell_type": "code",
   "execution_count": 53,
   "metadata": {
    "collapsed": false,
    "scrolled": false
   },
   "outputs": [
    {
     "data": {
      "text/plain": [
       "6×6 Array{Float64,2}:\n",
       " 9999.0        0.81458   0.437231  0.690178   0.61642    0.0203982\n",
       "    0.794274   0.710353  0.266162  0.973579   0.0343351  0.179585 \n",
       "    0.545826   0.594448  0.487492  0.833393   0.342145   0.267891 \n",
       "    0.0414543  0.921694  0.135236  0.653629   0.324803   0.580684 \n",
       "    0.387451   0.780827  0.87902   0.0871821  0.249427   0.188895 \n",
       "    0.614234   0.988025  0.758377  0.167114   0.398239   0.623417 "
      ]
     },
     "execution_count": 53,
     "metadata": {},
     "output_type": "execute_result"
    }
   ],
   "source": [
    "read(jldopen(\"arquivo_avancado.jld\", \"r+\")[\"Matriz\"])"
   ]
  },
  {
   "cell_type": "code",
   "execution_count": 54,
   "metadata": {
    "collapsed": false,
    "scrolled": true
   },
   "outputs": [
    {
     "data": {
      "text/plain": [
       "9999.0"
      ]
     },
     "execution_count": 54,
     "metadata": {},
     "output_type": "execute_result"
    }
   ],
   "source": [
    "read(jldopen(\"arquivo_avancado.jld\", \"r+\")[\"Matriz\"])[1,1]"
   ]
  },
  {
   "cell_type": "code",
   "execution_count": 55,
   "metadata": {
    "collapsed": false
   },
   "outputs": [
    {
     "ename": "ErrorException",
     "evalue": "File or object has been closed",
     "output_type": "error",
     "traceback": [
      "File or object has been closed",
      "",
      "Stacktrace:",
      " [1] error(::String) at ./error.jl:33",
      " [2] checkvalid at /home/jmarcellopereira/.julia/packages/HDF5/ZOkE7/src/HDF5.jl:776 [inlined]",
      " [3] dataspace at /home/jmarcellopereira/.julia/packages/HDF5/ZOkE7/src/HDF5.jl:1198 [inlined]",
      " [4] hyperslab(::HDF5.HDF5Dataset, ::Int64, ::Vararg{Int64,N} where N) at /home/jmarcellopereira/.julia/packages/HDF5/ZOkE7/src/HDF5.jl:1806",
      " [5] setindex!(::JLD.JldDataset, ::Array{Float64,2}, ::Int64, ::Int64) at /home/jmarcellopereira/.julia/packages/JLD/1BoSz/src/JLD.jl:741",
      " [6] setindex!(::JLD.JldDataset, ::Float64, ::Int64, ::Int64) at /home/jmarcellopereira/.julia/packages/JLD/1BoSz/src/JLD.jl:771",
      " [7] top-level scope at In[55]:1"
     ]
    }
   ],
   "source": [
    "# Alterar o elemento [1,1] da matriz da key \"1\"\n",
    "(jldopen(\"arquivo_avancado.jld\", \"r+\")[\"Matriz\"])[1,1] = 0000.0"
   ]
  },
  {
   "cell_type": "code",
   "execution_count": 56,
   "metadata": {
    "collapsed": false
   },
   "outputs": [
    {
     "data": {
      "text/plain": [
       "Dict{String,Any} with 6 entries:\n",
       "  \"amostra_metal\" => Amostra_obj(\"metal\", 0.1, 0.1, 0.15)\n",
       "  \"função\"        => \"x*sind(x)\"\n",
       "  \"tipo_amostra\"  => Amostra_obj\n",
       "  \"objeto1\"       => Amostra_obj(\"isopor\", 0.001, 0.1, 0.0001)\n",
       "  \"nome\"          => \"Arquivos\"\n",
       "  \"Matriz\"        => [9999.0 0.81458 … 0.61642 0.0203982; 0.794274 0.710353 … 0…"
      ]
     },
     "execution_count": 56,
     "metadata": {},
     "output_type": "execute_result"
    }
   ],
   "source": [
    "# testar a mudança\n",
    "read(jldopen(\"arquivo_avancado.jld\", \"r+\"))"
   ]
  },
  {
   "cell_type": "code",
   "execution_count": 57,
   "metadata": {
    "collapsed": false
   },
   "outputs": [],
   "source": [
    "# gravar uma nova key ao arquivo\n",
    "write(jldopen(\"arquivo_avancado.jld\", \"r+\"), \"Key_testes\",\"so testes\")"
   ]
  },
  {
   "cell_type": "code",
   "execution_count": 58,
   "metadata": {
    "collapsed": false
   },
   "outputs": [
    {
     "data": {
      "text/plain": [
       "false"
      ]
     },
     "execution_count": 58,
     "metadata": {},
     "output_type": "execute_result"
    }
   ],
   "source": [
    "# remover uma key e seus valores\n",
    "delete!(jldopen(\"arquivo_avancado.jld\", \"r+\"), \"nome\")"
   ]
  },
  {
   "cell_type": "code",
   "execution_count": 59,
   "metadata": {
    "collapsed": false,
    "scrolled": false
   },
   "outputs": [
    {
     "data": {
      "text/plain": [
       "Dict{String,Any} with 6 entries:\n",
       "  \"amostra_metal\" => Amostra_obj(\"metal\", 0.1, 0.1, 0.15)\n",
       "  \"função\"        => \"x*sind(x)\"\n",
       "  \"tipo_amostra\"  => Amostra_obj\n",
       "  \"objeto1\"       => Amostra_obj(\"isopor\", 0.001, 0.1, 0.0001)\n",
       "  \"Key_testes\"    => \"so testes\"\n",
       "  \"Matriz\"        => [9999.0 0.81458 … 0.61642 0.0203982; 0.794274 0.710353 … 0…"
      ]
     },
     "execution_count": 59,
     "metadata": {},
     "output_type": "execute_result"
    }
   ],
   "source": [
    "# verificar a nova key e key \"nome\" deletada\n",
    "read(jldopen(\"arquivo_avancado.jld\", \"r+\"))"
   ]
  },
  {
   "cell_type": "markdown",
   "metadata": {},
   "source": [
    "**Filtragem de dados**\n",
    "\n",
    "\n",
    "\n",
    "A função `filter()` permite filtrar. Sintaxe:\n",
    "```julia\n",
    "filter((key, valor) -> key == \"nome_key\", read(nome_arquivo_dados)) # filtrar key\n",
    "filter((valor) -> valor operador_logico valor , read(nome_arquivo_dados)) # filtrar dados em uma key\n",
    "```\n",
    "List Comprehension\n",
    "\n",
    "Sintaxe:\n",
    "```julia\n",
    "read(nome_arquivo_dados)[\"nome_key\"][read(nome_arquivo_dados)[\"nome_key\"].> valor]\n",
    "```"
   ]
  },
  {
   "cell_type": "code",
   "execution_count": 60,
   "metadata": {
    "collapsed": false
   },
   "outputs": [],
   "source": [
    "using JLD"
   ]
  },
  {
   "cell_type": "code",
   "execution_count": 61,
   "metadata": {
    "collapsed": false
   },
   "outputs": [
    {
     "data": {
      "text/plain": [
       "Dict{String,Any} with 6 entries:\n",
       "  \"amostra_metal\" => Amostra_obj(\"metal\", 0.1, 0.1, 0.15)\n",
       "  \"função\"        => \"x*sind(x)\"\n",
       "  \"tipo_amostra\"  => Amostra_obj\n",
       "  \"objeto1\"       => Amostra_obj(\"isopor\", 0.001, 0.1, 0.0001)\n",
       "  \"Key_testes\"    => \"so testes\"\n",
       "  \"Matriz\"        => [9999.0 0.81458 … 0.61642 0.0203982; 0.794274 0.710353 … 0…"
      ]
     },
     "execution_count": 61,
     "metadata": {},
     "output_type": "execute_result"
    }
   ],
   "source": [
    "# ler os dados do arquivo e atribuir à variável dados_arquivo1\n",
    "dados_arquivo1 = load(\"arquivo_avancado.jld\")"
   ]
  },
  {
   "cell_type": "code",
   "execution_count": 62,
   "metadata": {
    "collapsed": false
   },
   "outputs": [
    {
     "data": {
      "text/plain": [
       "6×6 Array{Float64,2}:\n",
       " 9999.0        0.81458   0.437231  0.690178   0.61642    0.0203982\n",
       "    0.794274   0.710353  0.266162  0.973579   0.0343351  0.179585 \n",
       "    0.545826   0.594448  0.487492  0.833393   0.342145   0.267891 \n",
       "    0.0414543  0.921694  0.135236  0.653629   0.324803   0.580684 \n",
       "    0.387451   0.780827  0.87902   0.0871821  0.249427   0.188895 \n",
       "    0.614234   0.988025  0.758377  0.167114   0.398239   0.623417 "
      ]
     },
     "execution_count": 62,
     "metadata": {},
     "output_type": "execute_result"
    }
   ],
   "source": [
    "dados_arquivo1[\"Matriz\"]"
   ]
  },
  {
   "cell_type": "code",
   "execution_count": 63,
   "metadata": {
    "collapsed": false
   },
   "outputs": [
    {
     "data": {
      "text/plain": [
       "4-element Array{Float64,1}:\n",
       " 9999.0               \n",
       "    0.9216942974309947\n",
       "    0.9880253337928839\n",
       "    0.973579302813331 "
      ]
     },
     "execution_count": 63,
     "metadata": {},
     "output_type": "execute_result"
    }
   ],
   "source": [
    "dados_arquivo1[\"Matriz\"][dados_arquivo1[\"Matriz\"] .> 0.9]"
   ]
  },
  {
   "cell_type": "code",
   "execution_count": 64,
   "metadata": {
    "collapsed": false
   },
   "outputs": [
    {
     "data": {
      "text/plain": [
       "Julia data file version 0.1.2: arquivo_avancado.jld"
      ]
     },
     "execution_count": 64,
     "metadata": {},
     "output_type": "execute_result"
    }
   ],
   "source": [
    "# Este caso é melhor que load pois permite alterar o conteudo caso seja necessario\n",
    "dados_arquivo2 = jldopen(\"arquivo_avancado.jld\", \"r+\") "
   ]
  },
  {
   "cell_type": "code",
   "execution_count": 65,
   "metadata": {
    "collapsed": false,
    "scrolled": true
   },
   "outputs": [
    {
     "data": {
      "text/plain": [
       "Dict{String,Any} with 6 entries:\n",
       "  \"amostra_metal\" => Amostra_obj(\"metal\", 0.1, 0.1, 0.15)\n",
       "  \"função\"        => \"x*sind(x)\"\n",
       "  \"tipo_amostra\"  => Amostra_obj\n",
       "  \"objeto1\"       => Amostra_obj(\"isopor\", 0.001, 0.1, 0.0001)\n",
       "  \"Key_testes\"    => \"so testes\"\n",
       "  \"Matriz\"        => [9999.0 0.81458 … 0.61642 0.0203982; 0.794274 0.710353 … 0…"
      ]
     },
     "execution_count": 65,
     "metadata": {},
     "output_type": "execute_result"
    }
   ],
   "source": [
    "read(dados_arquivo2)"
   ]
  },
  {
   "cell_type": "code",
   "execution_count": 66,
   "metadata": {
    "collapsed": false,
    "scrolled": true
   },
   "outputs": [
    {
     "name": "stderr",
     "output_type": "stream",
     "text": [
      "┌ Warning: In `filter(f, dict)`, `f` is now passed a single pair instead of two arguments.\n",
      "│   caller = top-level scope at In[66]:1\n",
      "└ @ Core In[66]:1\n"
     ]
    },
    {
     "data": {
      "text/plain": [
       "Dict{String,Any} with 1 entry:\n",
       "  \"Matriz\" => [9999.0 0.81458 … 0.61642 0.0203982; 0.794274 0.710353 … 0.034335…"
      ]
     },
     "execution_count": 66,
     "metadata": {},
     "output_type": "execute_result"
    }
   ],
   "source": [
    "filter((key, valor) -> key == \"Matriz\", read(dados_arquivo2))"
   ]
  },
  {
   "cell_type": "code",
   "execution_count": 67,
   "metadata": {
    "collapsed": false,
    "scrolled": false
   },
   "outputs": [
    {
     "data": {
      "text/plain": [
       "4-element Array{Float64,1}:\n",
       " 9999.0               \n",
       "    0.9216942974309947\n",
       "    0.9880253337928839\n",
       "    0.973579302813331 "
      ]
     },
     "execution_count": 67,
     "metadata": {},
     "output_type": "execute_result"
    }
   ],
   "source": [
    "filter((valor) -> valor > 0.9, read(dados_arquivo2)[\"Matriz\"])"
   ]
  },
  {
   "cell_type": "code",
   "execution_count": 68,
   "metadata": {
    "collapsed": false
   },
   "outputs": [
    {
     "data": {
      "text/plain": [
       "3-element Array{Float64,1}:\n",
       " 0.8145798156268091\n",
       " 0.8790200614285186\n",
       " 0.8333929406691067"
      ]
     },
     "execution_count": 68,
     "metadata": {},
     "output_type": "execute_result"
    }
   ],
   "source": [
    "# filtrar valores da matriz maiores que 0.8 e menores que 0.9\n",
    "filter((valor) -> (valor > 0.8) & (valor < 0.9) , read(dados_arquivo2)[\"Matriz\"])"
   ]
  },
  {
   "cell_type": "code",
   "execution_count": 69,
   "metadata": {
    "collapsed": false
   },
   "outputs": [
    {
     "data": {
      "text/plain": [
       "4-element Array{Float64,1}:\n",
       " 9999.0               \n",
       "    0.9216942974309947\n",
       "    0.9880253337928839\n",
       "    0.973579302813331 "
      ]
     },
     "execution_count": 69,
     "metadata": {},
     "output_type": "execute_result"
    }
   ],
   "source": [
    "read(dados_arquivo2)[\"Matriz\"][read(dados_arquivo2)[\"Matriz\"].> 0.9]"
   ]
  },
  {
   "cell_type": "code",
   "execution_count": 72,
   "metadata": {
    "collapsed": false
   },
   "outputs": [
    {
     "ename": "MethodError",
     "evalue": "MethodError: no method matching &(::BitArray{2}, ::BitArray{2})\nClosest candidates are:\n  &(::Any, ::Any, !Matched::Any, !Matched::Any...) at operators.jl:502",
     "output_type": "error",
     "traceback": [
      "MethodError: no method matching &(::BitArray{2}, ::BitArray{2})\nClosest candidates are:\n  &(::Any, ::Any, !Matched::Any, !Matched::Any...) at operators.jl:502",
      "",
      "Stacktrace:",
      " [1] top-level scope at In[72]:1"
     ]
    }
   ],
   "source": [
    "# filtrar valores da matriz maiores que 0.8 e menores que 0.9\n",
    "read(dados_arquivo2)[\"Matriz\"][(read(dados_arquivo2)[\"Matriz\"].> 0.8) & (read(dados_arquivo2)[\"Matriz\"].< 0.9)] "
   ]
  },
  {
   "cell_type": "raw",
   "metadata": {},
   "source": []
  },
  {
   "cell_type": "markdown",
   "metadata": {},
   "source": [
    "**Comparação entre Keys**\n",
    "\n",
    "O comandos `setdiff` retorna a diferença entre os dois arquivos na forma de um dicionáro que contém os elementos que se encontram no primeiro arquivo mas não no segundo -  a ordem dos arquivos é importente. O comando `intersect` retorna um diconário que contém todos os elementos que pertence a ambos os arquivos."
   ]
  },
  {
   "cell_type": "code",
   "execution_count": 73,
   "metadata": {
    "collapsed": false
   },
   "outputs": [
    {
     "data": {
      "text/plain": [
       "Dict{String,Any} with 3 entries:\n",
       "  \"1\"          => 50.05\n",
       "  \"2\"          => [1, 2, 3]\n",
       "  \"Key_testes\" => \"so testes\""
      ]
     },
     "execution_count": 73,
     "metadata": {},
     "output_type": "execute_result"
    }
   ],
   "source": [
    "# criação de um novo arquivo\n",
    "save(\"arquivo_avancado_novo.jld\", \"1\",50.05, \"2\", [1,2,3], \"Key_testes\", \"so testes\")\n",
    "dados_arquivo_novo = load(\"arquivo_avancado_novo.jld\")"
   ]
  },
  {
   "cell_type": "code",
   "execution_count": 74,
   "metadata": {
    "collapsed": false
   },
   "outputs": [
    {
     "data": {
      "text/plain": [
       "Dict{String,Any} with 6 entries:\n",
       "  \"amostra_metal\" => Amostra_obj(\"metal\", 0.1, 0.1, 0.15)\n",
       "  \"função\"        => \"x*sind(x)\"\n",
       "  \"tipo_amostra\"  => Amostra_obj\n",
       "  \"objeto1\"       => Amostra_obj(\"isopor\", 0.001, 0.1, 0.0001)\n",
       "  \"Key_testes\"    => \"so testes\"\n",
       "  \"Matriz\"        => [9999.0 0.81458 … 0.61642 0.0203982; 0.794274 0.710353 … 0…"
      ]
     },
     "execution_count": 74,
     "metadata": {},
     "output_type": "execute_result"
    }
   ],
   "source": [
    "dados_arquivo2 = load(\"arquivo_avancado.jld\")"
   ]
  },
  {
   "cell_type": "code",
   "execution_count": 75,
   "metadata": {
    "collapsed": false,
    "scrolled": true
   },
   "outputs": [
    {
     "data": {
      "text/plain": [
       "5-element Array{Pair{String,Any},1}:\n",
       " \"amostra_metal\" => Amostra_obj(\"metal\", 0.1, 0.1, 0.15)                                                                                                                          \n",
       "        \"função\" => \"x*sind(x)\"                                                                                                                                                   \n",
       "  \"tipo_amostra\" => Amostra_obj                                                                                                                                                   \n",
       "       \"objeto1\" => Amostra_obj(\"isopor\", 0.001, 0.1, 0.0001)                                                                                                                     \n",
       "        \"Matriz\" => [9999.0 0.81458 … 0.61642 0.0203982; 0.794274 0.710353 … 0.0343351 0.179585; … ; 0.387451 0.780827 … 0.249427 0.188895; 0.614234 0.988025 … 0.398239 0.623417]"
      ]
     },
     "execution_count": 75,
     "metadata": {},
     "output_type": "execute_result"
    }
   ],
   "source": [
    "# listar as keys diferentes entre o dados_arquivo2 e dados_arquivo_novo\n",
    "setdiff(dados_arquivo2, dados_arquivo_novo)"
   ]
  },
  {
   "cell_type": "code",
   "execution_count": 76,
   "metadata": {
    "collapsed": false
   },
   "outputs": [
    {
     "data": {
      "text/plain": [
       "2-element Array{Pair{String,Any},1}:\n",
       " \"1\" => 50.05    \n",
       " \"2\" => [1, 2, 3]"
      ]
     },
     "execution_count": 76,
     "metadata": {},
     "output_type": "execute_result"
    }
   ],
   "source": [
    "# listar as keys diferentes entre dados_arquivo_novo e dados_arquivo2\n",
    "setdiff(dados_arquivo_novo, dados_arquivo2)"
   ]
  },
  {
   "cell_type": "code",
   "execution_count": 77,
   "metadata": {
    "collapsed": false
   },
   "outputs": [
    {
     "data": {
      "text/plain": [
       "1-element Array{Pair{String,Any},1}:\n",
       " \"Key_testes\" => \"so testes\""
      ]
     },
     "execution_count": 77,
     "metadata": {},
     "output_type": "execute_result"
    }
   ],
   "source": [
    "# elementos em comum entre os arquivos.\n",
    "intersect(dados_arquivo2, dados_arquivo_novo)"
   ]
  },
  {
   "cell_type": "markdown",
   "metadata": {},
   "source": [
    "**Map, MapReduce, Sum, Prod e List Comprehensions**"
   ]
  },
  {
   "cell_type": "code",
   "execution_count": 78,
   "metadata": {
    "collapsed": false,
    "scrolled": true
   },
   "outputs": [
    {
     "data": {
      "text/plain": [
       "Dict{String,Any} with 6 entries:\n",
       "  \"amostra_metal\" => Amostra_obj(\"metal\", 0.1, 0.1, 0.15)\n",
       "  \"função\"        => \"x*sind(x)\"\n",
       "  \"tipo_amostra\"  => Amostra_obj\n",
       "  \"objeto1\"       => Amostra_obj(\"isopor\", 0.001, 0.1, 0.0001)\n",
       "  \"Key_testes\"    => \"so testes\"\n",
       "  \"Matriz\"        => [9999.0 0.81458 … 0.61642 0.0203982; 0.794274 0.710353 … 0…"
      ]
     },
     "execution_count": 78,
     "metadata": {},
     "output_type": "execute_result"
    }
   ],
   "source": [
    "dados_arquivo3 = load(\"arquivo_avancado.jld\")"
   ]
  },
  {
   "cell_type": "code",
   "execution_count": 79,
   "metadata": {
    "collapsed": false,
    "scrolled": true
   },
   "outputs": [
    {
     "data": {
      "text/plain": [
       "6×6 Array{Float64,2}:\n",
       " 6360.23        0.592556  0.185137   0.439419   0.356364    0.000416059\n",
       "    0.566599    0.463222  0.0700088  0.805056   0.00117867  0.0320779  \n",
       "    0.283351    0.332922  0.228347   0.616892   0.114793    0.0709104  \n",
       "    0.00171797  0.734246  0.0182332  0.397453   0.103652    0.318561   \n",
       "    0.14639     0.549599  0.676946   0.0075911  0.0615707   0.0354695  \n",
       "    0.354003    0.824943  0.521569   0.0277972  0.154435    0.363959   "
      ]
     },
     "execution_count": 79,
     "metadata": {},
     "output_type": "execute_result"
    }
   ],
   "source": [
    "# mapeamento de uma função anonima aplicado a matriz do arquivo\n",
    "map(x -> x*sin(x) , dados_arquivo3[\"Matriz\"])"
   ]
  },
  {
   "cell_type": "code",
   "execution_count": 80,
   "metadata": {
    "collapsed": false,
    "scrolled": true
   },
   "outputs": [
    {
     "data": {
      "text/plain": [
       "6370.69086181373"
      ]
     },
     "execution_count": 80,
     "metadata": {},
     "output_type": "execute_result"
    }
   ],
   "source": [
    "mapreduce(x -> x*sin(x) , + , dados_arquivo3[\"Matriz\"])"
   ]
  },
  {
   "cell_type": "code",
   "execution_count": 81,
   "metadata": {
    "collapsed": false,
    "scrolled": true
   },
   "outputs": [
    {
     "data": {
      "text/plain": [
       "10016.387999535571"
      ]
     },
     "execution_count": 81,
     "metadata": {},
     "output_type": "execute_result"
    }
   ],
   "source": [
    "sum(dados_arquivo3[\"Matriz\"])"
   ]
  },
  {
   "cell_type": "code",
   "execution_count": 82,
   "metadata": {
    "collapsed": false
   },
   "outputs": [
    {
     "data": {
      "text/plain": [
       "4.472812894051676e-12"
      ]
     },
     "execution_count": 82,
     "metadata": {},
     "output_type": "execute_result"
    }
   ],
   "source": [
    "prod(dados_arquivo3[\"Matriz\"])"
   ]
  },
  {
   "cell_type": "code",
   "execution_count": 83,
   "metadata": {
    "collapsed": false,
    "scrolled": false
   },
   "outputs": [
    {
     "data": {
      "text/plain": [
       "6×6 Array{Float64,2}:\n",
       " 6360.23        0.592556  0.185137   0.439419   0.356364    0.000416059\n",
       "    0.566599    0.463222  0.0700088  0.805056   0.00117867  0.0320779  \n",
       "    0.283351    0.332922  0.228347   0.616892   0.114793    0.0709104  \n",
       "    0.00171797  0.734246  0.0182332  0.397453   0.103652    0.318561   \n",
       "    0.14639     0.549599  0.676946   0.0075911  0.0615707   0.0354695  \n",
       "    0.354003    0.824943  0.521569   0.0277972  0.154435    0.363959   "
      ]
     },
     "execution_count": 83,
     "metadata": {},
     "output_type": "execute_result"
    }
   ],
   "source": [
    "[x*sin(x) for x = dados_arquivo3[\"Matriz\"]]"
   ]
  },
  {
   "cell_type": "code",
   "execution_count": null,
   "metadata": {
    "collapsed": true
   },
   "outputs": [],
   "source": []
  },
  {
   "cell_type": "code",
   "execution_count": null,
   "metadata": {
    "collapsed": true
   },
   "outputs": [],
   "source": []
  }
 ],
 "metadata": {
  "anaconda-cloud": {},
  "kernelspec": {
   "display_name": "Julia 1.0.2",
   "language": "julia",
   "name": "julia-1.0"
  },
  "language_info": {
   "file_extension": ".jl",
   "mimetype": "application/julia",
   "name": "julia",
   "version": "1.0.2"
  },
  "latex_envs": {
   "LaTeX_envs_menu_present": true,
   "autocomplete": true,
   "bibliofile": "biblio.bib",
   "cite_by": "apalike",
   "current_citInitial": 1,
   "eqLabelWithNumbers": true,
   "eqNumInitial": 1,
   "hotkeys": {
    "equation": "Ctrl-E",
    "itemize": "Ctrl-I"
   },
   "labels_anchors": false,
   "latex_user_defs": false,
   "report_style_numbering": false,
   "user_envs_cfg": false
  }
 },
 "nbformat": 4,
 "nbformat_minor": 1
}
