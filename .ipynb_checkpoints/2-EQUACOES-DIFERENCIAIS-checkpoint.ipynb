{
 "cells": [
  {
   "cell_type": "markdown",
   "metadata": {},
   "source": [
    "# EQUAÇÕES DIFERENCIAIS"
   ]
  },
  {
   "cell_type": "markdown",
   "metadata": {
    "collapsed": true
   },
   "source": []
  },
  {
   "cell_type": "markdown",
   "metadata": {},
   "source": [
    "## EQUAÇÕES DIFERENCIAIS DE PRIMEIRA ORDEM\n",
    "\n",
    "Texto"
   ]
  },
  {
   "cell_type": "markdown",
   "metadata": {
    "collapsed": false
   },
   "source": [
    "### EQUAÇÕES DIFERENCIAIS DE PRIMEIRA ORDEM SIMBÓLICAS\n",
    "\n",
    "Texto"
   ]
  },
  {
   "cell_type": "code",
   "execution_count": 1,
   "metadata": {
    "collapsed": false,
    "scrolled": true
   },
   "outputs": [
    {
     "data": {
      "text/plain": [
       "(,)"
      ]
     },
     "execution_count": 1,
     "metadata": {},
     "output_type": "execute_result"
    },
    {
     "name": "stdout",
     "output_type": "stream",
     "text": [
      "y\n"
     ]
    }
   ],
   "source": [
    "using SymPy\n",
    "\n",
    "@syms x\n",
    "@symfuns y"
   ]
  },
  {
   "cell_type": "code",
   "execution_count": 108,
   "metadata": {
    "collapsed": false
   },
   "outputs": [
    {
     "name": "stdout",
     "output_type": "stream",
     "text": [
      "y\n"
     ]
    },
    {
     "data": {
      "text/plain": [
       "(SymPy.SymFunction,SymPy.Sym)"
      ]
     },
     "execution_count": 108,
     "metadata": {},
     "output_type": "execute_result"
    }
   ],
   "source": [
    "typeof(y) , typeof(x)"
   ]
  },
  {
   "cell_type": "code",
   "execution_count": 2,
   "metadata": {
    "collapsed": false,
    "scrolled": true
   },
   "outputs": [
    {
     "data": {
      "text/latex": [
       "$$x + \\frac{d}{d x} y{\\left (x \\right )}$$"
      ],
      "text/plain": [
       "    d       \n",
       "x + --(y(x))\n",
       "    dx      "
      ]
     },
     "execution_count": 2,
     "metadata": {},
     "output_type": "execute_result"
    }
   ],
   "source": [
    "edo1 = y'(x) + x "
   ]
  },
  {
   "cell_type": "code",
   "execution_count": 3,
   "metadata": {
    "collapsed": false,
    "scrolled": true
   },
   "outputs": [
    {
     "data": {
      "text/latex": [
       "$$y{\\left (x \\right )} = C_{1} - \\frac{x^{2}}{2}$$"
      ],
      "text/plain": [
       "             2\n",
       "            x \n",
       "y(x) = C1 - --\n",
       "            2 "
      ]
     },
     "execution_count": 3,
     "metadata": {},
     "output_type": "execute_result"
    }
   ],
   "source": [
    " dsolve(edo1)"
   ]
  },
  {
   "cell_type": "markdown",
   "metadata": {},
   "source": [
    "** Solução específica:**\n",
    "\n",
    "É possível resolver uma equação diferencial utilizando um método específico. São eles: variáveis separadas e bernoulli e outros."
   ]
  },
  {
   "cell_type": "code",
   "execution_count": 5,
   "metadata": {
    "collapsed": false
   },
   "outputs": [
    {
     "data": {
      "text/latex": [
       "$$y{\\left (x \\right )} = C_{1} - \\frac{x^{2}}{2}$$"
      ],
      "text/plain": [
       "             2\n",
       "            x \n",
       "y(x) = C1 - --\n",
       "            2 "
      ]
     },
     "execution_count": 5,
     "metadata": {},
     "output_type": "execute_result"
    }
   ],
   "source": [
    " dsolve(edo1, hint = \"separable\")"
   ]
  },
  {
   "cell_type": "code",
   "execution_count": 6,
   "metadata": {
    "collapsed": false
   },
   "outputs": [
    {
     "data": {
      "text/latex": [
       "\\begin{equation*}\\begin{cases}\"separable\" & \\text{=>} &y{\\left (x \\right )} = C_{1} - \\frac{x^{2}}{2}\\\\\"lie_group\" & \\text{=>} &y{\\left (x \\right )} = C_{1} - \\frac{x^{2}}{2}\\\\\"1st_exact_Integral\" & \\text{=>} &\\int^{y{\\left (x \\right )}} 1\\, dy + \\int x\\, dx = C_{1}\\\\\"Bernoulli\" & \\text{=>} &y{\\left (x \\right )} = C_{1} - \\frac{x^{2}}{2}\\\\\"nth_linear_constant_coeff_variation_of_parameters_Integral\" & \\text{=>} &y{\\left (x \\right )} = C_{1} - \\int x\\, dx\\\\\"nth_linear_constant_coeff_variation_of_parameters\" & \\text{=>} &y{\\left (x \\right )} = C_{1} - \\frac{x^{2}}{2}\\\\\"separable_Integral\" & \\text{=>} &\\int^{y{\\left (x \\right )}} 1\\, dy = C_{1} + \\int - x\\, dx\\\\\"1st_linear_Integral\" & \\text{=>} &y{\\left (x \\right )} = C_{1} + \\int - x\\, dx\\\\\"best\" & \\text{=>} &y{\\left (x \\right )} = C_{1} - \\frac{x^{2}}{2}\\\\\"1st_linear\" & \\text{=>} &y{\\left (x \\right )} = C_{1} - \\frac{x^{2}}{2}\\\\\"nth_linear_constant_coeff_undetermined_coefficients\" & \\text{=>} &y{\\left (x \\right )} = C_{1} - \\frac{x^{2}}{2}\\\\\"default\" & \\text{=>} &\"separable\"\\\\\"best_hint\" & \\text{=>} &\"separable\"\\\\\"1st_exact\" & \\text{=>} &y{\\left (x \\right )} = C_{1} - \\frac{x^{2}}{2}\\\\\"1st_power_series\" & \\text{=>} &y{\\left (x \\right )} = - \\frac{x^{2}}{2} + C_{1} + \\mathcal{O}\\left(x^{6}\\right)\\\\\"order\" & \\text{=>} &1\\\\\"Bernoulli_Integral\" & \\text{=>} &y{\\left (x \\right )} = C_{1} - \\int x\\, dx\\\\\\end{cases}\\end{equation*}"
      ],
      "text/plain": [
       "Dict{Any,Any} with 17 entries:\n",
       "  \"separable\"               => Eq(y(x), C1 - x^2/2)\n",
       "  \"lie_group\"               => Eq(y(x), C1 - x^2/2)\n",
       "  \"1st_exact_Integral\"      => Eq(Integral(1, (_y, y(x))) + Integral(x, x), C1)\n",
       "  \"Bernoulli\"               => Eq(y(x), C1 - x^2/2)\n",
       "  \"nth_linear_constant_coe… => Eq(y(x), C1 - Integral(x, x))\n",
       "  \"nth_linear_constant_coe… => Eq(y(x), C1 - x^2/2)\n",
       "  \"separable_Integral\"      => Eq(Integral(1, (_y, y(x))), C1 + Integral(-x, x))\n",
       "  \"1st_linear_Integral\"     => Eq(y(x), C1 + Integral(-x, x))\n",
       "  \"best\"                    => Eq(y(x), C1 - x^2/2)\n",
       "  \"1st_linear\"              => Eq(y(x), C1 - x^2/2)\n",
       "  \"nth_linear_constant_coe… => Eq(y(x), C1 - x^2/2)\n",
       "  \"default\"                 => \"separable\"\n",
       "  \"best_hint\"               => \"separable\"\n",
       "  \"1st_exact\"               => Eq(y(x), C1 - x^2/2)\n",
       "  \"1st_power_series\"        => Eq(y(x), -x^2/2 + C1 + O(x^6))\n",
       "  \"order\"                   => 1\n",
       "  \"Bernoulli_Integral\"      => Eq(y(x), C1 - Integral(x, x))"
      ]
     },
     "execution_count": 6,
     "metadata": {},
     "output_type": "execute_result"
    }
   ],
   "source": [
    "# usando todos os métodos possíveis\n",
    "dsolve(edo1, hint = \"all\")"
   ]
  },
  {
   "cell_type": "markdown",
   "metadata": {},
   "source": [
    "#### EQUAÇÃO DIFERENCIAL  DE PRIMEIRA ORDEM COM VALORES INICIAIS "
   ]
  },
  {
   "cell_type": "code",
   "execution_count": 114,
   "metadata": {
    "collapsed": false,
    "scrolled": true
   },
   "outputs": [
    {
     "data": {
      "text/plain": [
       "(,)"
      ]
     },
     "execution_count": 114,
     "metadata": {},
     "output_type": "execute_result"
    },
    {
     "name": "stdout",
     "output_type": "stream",
     "text": [
      "y\n"
     ]
    }
   ],
   "source": [
    "using SymPy\n",
    "\n",
    "@syms x\n",
    "@symfuns y"
   ]
  },
  {
   "cell_type": "code",
   "execution_count": 115,
   "metadata": {
    "collapsed": false
   },
   "outputs": [
    {
     "data": {
      "text/latex": [
       "$$x + \\frac{d}{d x} y{\\left (x \\right )}$$"
      ],
      "text/plain": [
       "    d       \n",
       "x + --(y(x))\n",
       "    dx      "
      ]
     },
     "execution_count": 115,
     "metadata": {},
     "output_type": "execute_result"
    }
   ],
   "source": [
    "edo1 = y'(x) + x"
   ]
  },
  {
   "cell_type": "code",
   "execution_count": 116,
   "metadata": {
    "collapsed": false,
    "scrolled": true
   },
   "outputs": [
    {
     "data": {
      "text/latex": [
       "$$y{\\left (x \\right )} = - \\frac{x^{2}}{2} + 1$$"
      ],
      "text/plain": [
       "          2    \n",
       "         x     \n",
       "y(x) = - -- + 1\n",
       "         2     "
      ]
     },
     "execution_count": 116,
     "metadata": {},
     "output_type": "execute_result"
    }
   ],
   "source": [
    "sol_simb =  dsolve(edo1, x, (y, 0, 1))"
   ]
  },
  {
   "cell_type": "code",
   "execution_count": 117,
   "metadata": {
    "collapsed": false
   },
   "outputs": [
    {
     "data": {
      "text/latex": [
       "$$y{\\left (1 \\right )} = \\frac{1}{2}$$"
      ],
      "text/plain": [
       "y(1) = 1/2"
      ]
     },
     "execution_count": 117,
     "metadata": {},
     "output_type": "execute_result"
    }
   ],
   "source": [
    "# Manipulando valores da solução\n",
    "\n",
    "sol_simb(1)"
   ]
  },
  {
   "cell_type": "code",
   "execution_count": 118,
   "metadata": {
    "collapsed": false
   },
   "outputs": [
    {
     "data": {
      "text/latex": [
       "$$\\frac{1}{2}$$"
      ],
      "text/plain": [
       "1/2"
      ]
     },
     "execution_count": 118,
     "metadata": {},
     "output_type": "execute_result"
    }
   ],
   "source": [
    "# ou somente a função \"y\"\n",
    "\n",
    "Y = rhs(sol_simb)\n",
    "\n",
    "Y(1)"
   ]
  },
  {
   "cell_type": "markdown",
   "metadata": {},
   "source": [
    "**Mais um exemplo:**"
   ]
  },
  {
   "cell_type": "code",
   "execution_count": 3,
   "metadata": {
    "collapsed": false
   },
   "outputs": [
    {
     "data": {
      "text/plain": [
       "(,)"
      ]
     },
     "execution_count": 3,
     "metadata": {},
     "output_type": "execute_result"
    }
   ],
   "source": [
    "using SymPy\n",
    "\n",
    "@syms x\n",
    "@symfuns y"
   ]
  },
  {
   "cell_type": "code",
   "execution_count": 4,
   "metadata": {
    "collapsed": false,
    "scrolled": true
   },
   "outputs": [
    {
     "name": "stdout",
     "output_type": "stream",
     "text": [
      "y\n"
     ]
    },
    {
     "data": {
      "text/latex": [
       "$$y{\\left (x \\right )} = e^{- \\frac{x^{2}}{2}}$$"
      ],
      "text/plain": [
       "          2 \n",
       "        -x  \n",
       "        ----\n",
       "         2  \n",
       "y(x) = e    "
      ]
     },
     "execution_count": 4,
     "metadata": {},
     "output_type": "execute_result"
    }
   ],
   "source": [
    "sol_simb2 =  dsolve( y'(x) + x*y(x)  , x , (y,0,1))"
   ]
  },
  {
   "cell_type": "code",
   "execution_count": 5,
   "metadata": {
    "collapsed": false
   },
   "outputs": [
    {
     "data": {
      "text/latex": [
       "$$y{\\left (1 \\right )} = e^{- \\frac{1}{2}}$$"
      ],
      "text/plain": [
       "        -1/2\n",
       "y(1) = e    "
      ]
     },
     "execution_count": 5,
     "metadata": {},
     "output_type": "execute_result"
    }
   ],
   "source": [
    "# Manipulando valores da solução\n",
    "\n",
    "sol_simb2(1)"
   ]
  },
  {
   "cell_type": "code",
   "execution_count": 6,
   "metadata": {
    "collapsed": false,
    "scrolled": true
   },
   "outputs": [
    {
     "data": {
      "text/latex": [
       "$$e^{- \\frac{1}{2}}$$"
      ],
      "text/plain": [
       " -1/2\n",
       "e    "
      ]
     },
     "execution_count": 6,
     "metadata": {},
     "output_type": "execute_result"
    }
   ],
   "source": [
    "# ou somente a função \"y\"\n",
    "\n",
    "Ys = rhs(sol_simb2) \n",
    "\n",
    "Ys(1) "
   ]
  },
  {
   "cell_type": "code",
   "execution_count": 7,
   "metadata": {
    "collapsed": false
   },
   "outputs": [
    {
     "data": {
      "text/latex": [
       "$$e^{- \\frac{1}{2}}$$"
      ],
      "text/plain": [
       " -1/2\n",
       "e    "
      ]
     },
     "execution_count": 7,
     "metadata": {},
     "output_type": "execute_result"
    }
   ],
   "source": [
    "# ou ainda \n",
    "\n",
    "rhs(sol_simb2)(1)"
   ]
  },
  {
   "cell_type": "markdown",
   "metadata": {},
   "source": [
    "#### GRÁFICO DA SOLUÇÃO DA EQUAÇÃO DIFERENCIAL DE PRIMEIRA ORDEM "
   ]
  },
  {
   "cell_type": "code",
   "execution_count": 8,
   "metadata": {
    "collapsed": false,
    "scrolled": true
   },
   "outputs": [
    {
     "data": {
      "text/html": [
       "<html>\n",
       "<head>\n",
       "     <script src=\"/home/jmarcellopereira/.julia/v0.5/PlotlyJS/deps/plotly-latest.min.js\"></script>\n",
       "</head>\n",
       "<body>\n",
       "     <div id=\"dcfcd74a-a476-4577-8476-a5e8b31d1422\" class=\"plotly-graph-div\"></div>\n",
       "\n",
       "<script>\n",
       "    window.PLOTLYENV=window.PLOTLYENV || {};\n",
       "    window.PLOTLYENV.BASE_URL=\"https://plot.ly\";\n",
       "    Plotly.newPlot('dcfcd74a-a476-4577-8476-a5e8b31d1422', [{\"yaxis\":\"y\",\"y\":[1.0,0.9950124791926823,0.9801986733067553,0.9559974818331,0.9231163463866358,0.8824969025845955,0.835270211411272,0.7827045382418683,0.7261490370736909,0.6669768108584744,0.6065306597126334,0.5460744266397094,0.4867522559599717,0.4295573582107391,0.37531109885139957,0.32465246735834974,0.2780373004531941,0.23574607655586358,0.19789869908361465,0.1644744565771549,0.1353352832366127],\"showlegend\":true,\"name\":\"y1\",\"type\":\"scatter\",\"xaxis\":\"x\",\"line\":{\"width\":1,\"dash\":\"solid\",\"color\":\"rgba(0, 154, 250, 1.000)\",\"shape\":\"linear\"},\"x\":[0.0,0.1,0.2,0.3,0.4,0.5,0.6,0.7,0.8,0.9,1.0,1.1,1.2,1.3,1.4,1.5,1.6,1.7,1.8,1.9,2.0],\"mode\":\"lines\"}],\n",
       "               {\"yaxis\":{\"type\":\"-\",\"titlefont\":{\"size\":15,\"color\":\"rgba(0, 0, 0, 1.000)\",\"family\":\"Helvetica\"},\"title\":\"\",\"tickfont\":{\"size\":11,\"color\":\"rgba(0, 0, 0, 1.000)\",\"family\":\"Helvetica\"},\"ticks\":\"inside\",\"tickmode\":\"array\",\"showgrid\":true,\"tickvals\":[0.25,0.5,0.75,1.0],\"domain\":[0.06328375619714204,0.9868766404199475],\"ticktext\":[\"0.25\",\"0.50\",\"0.75\",\"1.00\"],\"tickangle\":0,\"zeroline\":false,\"linecolor\":\"rgba(0, 0, 0, 1.000)\",\"tickcolor\":\"rgba(0, 0, 0, 1.000)\",\"anchor\":\"x\"},\"annotations\":[],\"width\":400,\"plot_bgcolor\":\"rgba(255, 255, 255, 1.000)\",\"showlegend\":true,\"legend\":{\"bgcolor\":\"rgba(255, 255, 255, 1.000)\",\"font\":{\"size\":11,\"color\":\"rgba(0, 0, 0, 1.000)\",\"family\":\"Helvetica\"},\"bordercolor\":\"rgba(0, 0, 0, 1.000)\"},\"xaxis\":{\"type\":\"-\",\"titlefont\":{\"size\":15,\"color\":\"rgba(0, 0, 0, 1.000)\",\"family\":\"Helvetica\"},\"title\":\"\",\"tickfont\":{\"size\":11,\"color\":\"rgba(0, 0, 0, 1.000)\",\"family\":\"Helvetica\"},\"ticks\":\"inside\",\"tickmode\":\"array\",\"showgrid\":true,\"tickvals\":[0.0,0.5,1.0,1.5,2.0],\"domain\":[0.10857392825896763,0.9901574803149605],\"ticktext\":[\"0.0\",\"0.5\",\"1.0\",\"1.5\",\"2.0\"],\"tickangle\":0,\"zeroline\":false,\"linecolor\":\"rgba(0, 0, 0, 1.000)\",\"tickcolor\":\"rgba(0, 0, 0, 1.000)\",\"anchor\":\"y\"},\"paper_bgcolor\":\"rgba(255, 255, 255, 1.000)\",\"margin\":{\"r\":0,\"l\":0,\"b\":0,\"t\":20},\"height\":300}, {showLink: false});\n",
       "\n",
       " </script>\n",
       "\n",
       "</body>\n",
       "</html>\n"
      ]
     },
     "execution_count": 8,
     "metadata": {},
     "output_type": "execute_result"
    }
   ],
   "source": [
    "using Plots\n",
    "plotlyjs()\n",
    "\n",
    "plot((Ys), 0:0.1:2, size = (400,300))"
   ]
  },
  {
   "cell_type": "markdown",
   "metadata": {
    "collapsed": false
   },
   "source": [
    "#### CAMPO DE DIREÇÕES DE UMA EQUAÇÃO DIFERENCIAL DE PRIMEIRA ORDEM"
   ]
  },
  {
   "cell_type": "code",
   "execution_count": null,
   "metadata": {
    "collapsed": true
   },
   "outputs": [],
   "source": []
  },
  {
   "cell_type": "markdown",
   "metadata": {},
   "source": [
    "### EQUAÇÃO DIFERENCIAL DE PRIMEIRA ORDEM NUMÉRICA "
   ]
  },
  {
   "cell_type": "markdown",
   "metadata": {},
   "source": [
    "#### Pacote ODE\n",
    "\n",
    "Atualmente, ODE exporta os seguintes métodos de solução:\n",
    "\n",
    "- ode23: `Solver` de 2ª ordem com controle de erro 3ª ordem, com base nos coeficientes Bogacki-Shampine;\n",
    "\n",
    "\n",
    "- ode45: `Solver` de 4ª ordem com controle de erro 5º ordem, usando os coeficientes Dormand príncipe. Coeficientes de Fehlberg e Cash-Karp  também estão disponíveis;\n",
    "\n",
    "\n",
    "- ode78: `Solver` de 7ª ordem com controle de erro 8ª ordem, usando os coeficientes de Fehlberg;\n",
    "\n",
    "\n",
    "- ode23s: `Solver` de 2ª/3ª ordem para problemas duros, utilizando uma modificação tripla de Rosenbrock."
   ]
  },
  {
   "cell_type": "code",
   "execution_count": 22,
   "metadata": {
    "collapsed": false
   },
   "outputs": [],
   "source": [
    "using ODE"
   ]
  },
  {
   "cell_type": "code",
   "execution_count": 23,
   "metadata": {
    "collapsed": false,
    "scrolled": true
   },
   "outputs": [
    {
     "data": {
      "text/plain": [
       "Rk_JL (generic function with 1 method)"
      ]
     },
     "execution_count": 23,
     "metadata": {},
     "output_type": "execute_result"
    }
   ],
   "source": [
    "function Rk_JL()\n",
    "    \n",
    "  f(x,y) = (-5*x - y/5).^3 + 10\n",
    "  tspan  = 0:0.01:10\n",
    "  y0     = [0.0, 1.0]\n",
    "    \n",
    "  return ode45(f, y0,tspan)\n",
    "end"
   ]
  },
  {
   "cell_type": "code",
   "execution_count": 31,
   "metadata": {
    "collapsed": false,
    "scrolled": false
   },
   "outputs": [
    {
     "data": {
      "text/plain": [
       "1036-element Array{Array{Float64,1},1}:\n",
       " [0.0,1.0]          \n",
       " [0.100001,1.09987] \n",
       " [0.199987,1.19958] \n",
       " [0.251155,1.25053] \n",
       " [0.299951,1.29907] \n",
       " [0.399938,1.39831] \n",
       " [0.499815,1.49711] \n",
       " [0.599422,1.59527] \n",
       " [0.6986,1.69257]   \n",
       " [0.797191,1.78882] \n",
       " [0.895034,1.88379] \n",
       " [0.991971,1.97727] \n",
       " [1.08784,2.06907]  \n",
       " ⋮                  \n",
       " [-230.895,-230.895]\n",
       " [-231.145,-231.145]\n",
       " [-231.395,-231.395]\n",
       " [-231.645,-231.645]\n",
       " [-231.895,-231.895]\n",
       " [-232.145,-232.145]\n",
       " [-232.395,-232.395]\n",
       " [-232.645,-232.645]\n",
       " [-232.895,-232.895]\n",
       " [-233.145,-233.145]\n",
       " [-233.395,-233.395]\n",
       " [-233.645,-233.645]"
      ]
     },
     "execution_count": 31,
     "metadata": {},
     "output_type": "execute_result"
    }
   ],
   "source": [
    "x , y = Rk_JL()\n",
    "y"
   ]
  },
  {
   "cell_type": "markdown",
   "metadata": {},
   "source": [
    "## EQUAÇÕES DIFERENCIAIS DE SEGUNDA ORDEM"
   ]
  },
  {
   "cell_type": "code",
   "execution_count": 9,
   "metadata": {
    "collapsed": false,
    "scrolled": false
   },
   "outputs": [
    {
     "data": {
      "text/plain": [
       "(,)"
      ]
     },
     "execution_count": 9,
     "metadata": {},
     "output_type": "execute_result"
    },
    {
     "name": "stdout",
     "output_type": "stream",
     "text": [
      "y\n"
     ]
    }
   ],
   "source": [
    "using SymPy\n",
    "\n",
    "@syms x\n",
    "@symfuns y"
   ]
  },
  {
   "cell_type": "code",
   "execution_count": 10,
   "metadata": {
    "collapsed": false
   },
   "outputs": [
    {
     "data": {
      "text/plain": [
       "(SymPy.SymFunction,SymPy.Sym)"
      ]
     },
     "execution_count": 10,
     "metadata": {},
     "output_type": "execute_result"
    }
   ],
   "source": [
    "typeof(y) , typeof(x)"
   ]
  },
  {
   "cell_type": "code",
   "execution_count": 11,
   "metadata": {
    "collapsed": false
   },
   "outputs": [
    {
     "data": {
      "text/latex": [
       "$$- x - 4 y{\\left (x \\right )} + \\frac{d^{2}}{d x^{2}}  y{\\left (x \\right )}$$"
      ],
      "text/plain": [
       "                2      \n",
       "               d       \n",
       "-x - 4*y(x) + ---(y(x))\n",
       "                2      \n",
       "              dx       "
      ]
     },
     "execution_count": 11,
     "metadata": {},
     "output_type": "execute_result"
    }
   ],
   "source": [
    "edo2 = y''(x) - 4*y(x) - x"
   ]
  },
  {
   "cell_type": "code",
   "execution_count": 12,
   "metadata": {
    "collapsed": false
   },
   "outputs": [
    {
     "data": {
      "text/latex": [
       "$$y{\\left (x \\right )} = C_{1} e^{- 2 x} + C_{2} e^{2 x} - \\frac{x}{4}$$"
      ],
      "text/plain": [
       "           -2*x       2*x   x\n",
       "y(x) = C1*e     + C2*e    - -\n",
       "                            4"
      ]
     },
     "execution_count": 12,
     "metadata": {},
     "output_type": "execute_result"
    }
   ],
   "source": [
    " dsolve(edo2)"
   ]
  },
  {
   "cell_type": "markdown",
   "metadata": {},
   "source": [
    "#### EQUAÇÃO DIFERENCIAL DE SEGUNDA ORDEM COM VALORES INICIAIS "
   ]
  },
  {
   "cell_type": "code",
   "execution_count": 13,
   "metadata": {
    "collapsed": false
   },
   "outputs": [
    {
     "data": {
      "text/plain": [
       "(,)"
      ]
     },
     "execution_count": 13,
     "metadata": {},
     "output_type": "execute_result"
    },
    {
     "name": "stdout",
     "output_type": "stream",
     "text": [
      "y\n"
     ]
    }
   ],
   "source": [
    "using SymPy\n",
    "\n",
    "@syms x\n",
    "@symfuns y"
   ]
  },
  {
   "cell_type": "code",
   "execution_count": 14,
   "metadata": {
    "collapsed": false
   },
   "outputs": [
    {
     "data": {
      "text/plain": [
       "(SymPy.SymFunction,SymPy.Sym)"
      ]
     },
     "execution_count": 14,
     "metadata": {},
     "output_type": "execute_result"
    }
   ],
   "source": [
    "typeof(y) , typeof(x)"
   ]
  },
  {
   "cell_type": "code",
   "execution_count": 15,
   "metadata": {
    "collapsed": false
   },
   "outputs": [
    {
     "data": {
      "text/latex": [
       "$$- x - 4 y{\\left (x \\right )} + \\frac{d^{2}}{d x^{2}}  y{\\left (x \\right )}$$"
      ],
      "text/plain": [
       "                2      \n",
       "               d       \n",
       "-x - 4*y(x) + ---(y(x))\n",
       "                2      \n",
       "              dx       "
      ]
     },
     "execution_count": 15,
     "metadata": {},
     "output_type": "execute_result"
    }
   ],
   "source": [
    "edo2 = y''(x) - 4*y(x) - x"
   ]
  },
  {
   "cell_type": "code",
   "execution_count": 16,
   "metadata": {
    "collapsed": false,
    "scrolled": true
   },
   "outputs": [
    {
     "data": {
      "text/latex": [
       "$$y{\\left (x \\right )} = - \\frac{x}{4} + \\frac{9}{16} e^{2 x} + \\frac{7}{16} e^{- 2 x}$$"
      ],
      "text/plain": [
       "                2*x      -2*x\n",
       "         x   9*e      7*e    \n",
       "y(x) = - - + ------ + -------\n",
       "         4     16        16  "
      ]
     },
     "execution_count": 16,
     "metadata": {},
     "output_type": "execute_result"
    }
   ],
   "source": [
    "sol_simb_ord2 = dsolve(edo2, x, (y, 0, 1), (y', 0, 0))"
   ]
  },
  {
   "cell_type": "code",
   "execution_count": 17,
   "metadata": {
    "collapsed": false,
    "scrolled": true
   },
   "outputs": [
    {
     "data": {
      "text/latex": [
       "$$y{\\left (1 \\right )} = - \\frac{1}{4} + \\frac{7}{16 e^{2}} + \\frac{9 e^{2}}{16}$$"
      ],
      "text/plain": [
       "                -2      2\n",
       "         1   7*e     9*e \n",
       "y(1) = - - + ----- + ----\n",
       "         4     16     16 "
      ]
     },
     "execution_count": 17,
     "metadata": {},
     "output_type": "execute_result"
    }
   ],
   "source": [
    "# manipulando ao solução geral \n",
    "\n",
    "sol_simb_ord2(1)"
   ]
  },
  {
   "cell_type": "code",
   "execution_count": 18,
   "metadata": {
    "collapsed": false
   },
   "outputs": [
    {
     "data": {
      "text/latex": [
       "$$- \\frac{1}{4} + \\frac{7}{16 e^{2}} + \\frac{9 e^{2}}{16}$$"
      ],
      "text/plain": [
       "         -2      2\n",
       "  1   7*e     9*e \n",
       "- - + ----- + ----\n",
       "  4     16     16 "
      ]
     },
     "execution_count": 18,
     "metadata": {},
     "output_type": "execute_result"
    }
   ],
   "source": [
    "# Manipulando a solução \"y\"\n",
    "# ou somente a função \"y\"\n",
    "\n",
    "Y2ord = rhs(sol_simb_ord2) \n",
    "\n",
    "Y2ord(1) "
   ]
  },
  {
   "cell_type": "code",
   "execution_count": 19,
   "metadata": {
    "collapsed": false
   },
   "outputs": [
    {
     "data": {
      "text/latex": [
       "$$- \\frac{1}{4} + \\frac{7}{16 e^{2}} + \\frac{9 e^{2}}{16}$$"
      ],
      "text/plain": [
       "         -2      2\n",
       "  1   7*e     9*e \n",
       "- - + ----- + ----\n",
       "  4     16     16 "
      ]
     },
     "execution_count": 19,
     "metadata": {},
     "output_type": "execute_result"
    }
   ],
   "source": [
    "# ou ainda \n",
    "\n",
    "rhs(sol_simb_ord2)(1)"
   ]
  },
  {
   "cell_type": "markdown",
   "metadata": {},
   "source": [
    "#### GRÁFICO DA SOLUÇÃO DA EQUAÇÃO DIFERENCIAL DE SEGUNDA ORDEM "
   ]
  },
  {
   "cell_type": "code",
   "execution_count": 20,
   "metadata": {
    "collapsed": false,
    "scrolled": true
   },
   "outputs": [
    {
     "data": {
      "text/latex": [
       "$$- \\frac{x}{4} + \\frac{9}{16} e^{2 x} + \\frac{7}{16} e^{- 2 x}$$"
      ],
      "text/plain": [
       "         2*x      -2*x\n",
       "  x   9*e      7*e    \n",
       "- - + ------ + -------\n",
       "  4     16        16  "
      ]
     },
     "execution_count": 20,
     "metadata": {},
     "output_type": "execute_result"
    }
   ],
   "source": [
    "# função solução S\n",
    "Y2ord"
   ]
  },
  {
   "cell_type": "code",
   "execution_count": 21,
   "metadata": {
    "collapsed": false
   },
   "outputs": [
    {
     "data": {
      "text/html": [
       "<html>\n",
       "<head>\n",
       "     <script src=\"/home/jmarcellopereira/.julia/v0.5/PlotlyJS/deps/plotly-latest.min.js\"></script>\n",
       "</head>\n",
       "<body>\n",
       "     <div id=\"9e3d4747-0ef0-4684-99e6-7e171c3e5752\" class=\"plotly-graph-div\"></div>\n",
       "\n",
       "<script>\n",
       "    window.PLOTLYENV=window.PLOTLYENV || {};\n",
       "    window.PLOTLYENV.BASE_URL=\"https://plot.ly\";\n",
       "    Plotly.newPlot('9e3d4747-0ef0-4684-99e6-7e171c3e5752', [{\"yaxis\":\"y\",\"y\":[2.1225977549178326e8,1.7378360626472428e8,1.4228198325336668e8,1.1649063571756704e8,9.537446632215452e7,7.808600904639444e7,6.393141739692312e7,5.234261791170843e7,4.285451137737698e7,3.5086306764708094e7,2.8726238747582104e7,2.3519055465761628e7,1.9255774371489935e7,1.5765295026061961e7,1.2907532238444898e7,1.0567793954689218e7,8.65217826309281e6,7.083804780772358e6,5.799729173952846e6,4.748416980840731e6,3.8876753527222574e6,3.1829597067955243e6,2.605987330768363e6,2.133602298306733e6,1.746846140404929e6,1.4301969754567205e6,1.1709465616454408e6,958690.2705782357,784909.5130155326,642629.857974049,526141.1243225576,430768.21116327436,352683.4696174434,288753.0858360459,236411.3100464685,193557.48400517413,158471.734206474,129745.94731986047,106227.2576578333,86971.77862787218,71206.72124927034,58299.379417891134,47731.73718862797,39079.678976649906,31995.968309810996,26196.31200979375,21447.950508641738,17560.31639002341,14377.386249687228,11771.418928413479,9637.828810765399,7890.988437116504,6460.791973037469,5289.841616002219,4331.1440200351235,3546.2242877322456,2903.5818375339313,2377.4261747808123,1946.6418286065577,1593.9409139505374,1305.1693080284842,1068.7385956866437,875.1609856119826,716.6685319528962,586.9013793770752,480.65251974605627,393.65881659557834,322.42991050038415,264.1081386950021,216.35384703303254,177.25149145117098,145.23276046001553,119.01363329728225,97.5428476661121,79.95970888786535,65.55954720256425,53.76543689716158,44.10504225095238,36.19166104461904,29.708704842366274,24.396993186375518,20.044351774988197,16.47709716298572,13.553066235088876,11.155910700973173,9.190427629851527,7.578738622581644,6.257164278058802,5.173668515255995,4.285770182581241,3.558838140102754,2.9647013903053065,2.480518477044856,2.0878607777116986,1.7719728978978533,1.5211804856097686,1.3264216985313917,1.1808835204737376,1.079728331113103,1.019899755301439,1.0,1.0202337559367125,1.0824164125638067,1.1900469160107978,1.3484481940782975,1.5649807840207188,1.8493382367508961,2.2139361530745827,2.674410465344914,3.2502449623292264,3.965553242064509,4.850046475215215,5.940225818675019,7.2808473351572225,8.926718211140622,10.944896361704004,13.417381700114545,16.44440708226846,20.14846100313956,24.67920349016878,30.219472485657455,36.992621775379355,45.271484960252174,55.38932522672602,67.7532103686223,82.86034984701143,101.31804955170664,123.86808511901768,151.4164719925868,185.06982700437842,226.1797807937408,276.3972234908601,337.73856073435326,412.66663910962603,504.18958882998703,615.9815505643678,752.5301316031513,919.316509295792,1123.035409943568,1371.8637916728337,1675.789014475872,2047.0096680353847,2500.425143960624,3054.2336006879605,3730.6623194770336,4556.859763252943,5565.985139748188,6798.539196938834,8303.989660268535,10142.756546163619,12388.637029441248,15131.76718305438,18482.239455188585,22574.52106576838,27572.85064813952,33677.829722105766,41134.473537278645,50242.04439535116,61366.062097045666,74952.97353514444,91548.07017587779,111817.37252011267,136574.35984460893,166812.6179817143,203745.7154075349,248855.90800600668,303953.6272020736,371250.1389316261,453446.2895077871,553840.9000667769,676463.1598430508,826234.3316807257,1.0091652595912397e6,1.23259760502903e6,1.5054984935440314e6,1.8388203970156962e6,2.2459406948062656e6,2.743198554965741e6,3.350550682416419e6,4.0923722515942063e6,4.998435167785727e6,6.10510291822377e6,7.456789966510779e6,9.107744260993015e6,1.1124224395405028e7,1.3587158798886124e7,1.6595393678000573e7,2.0269660062079653e7,2.4757419163344193e7,3.0238780513122085e7,3.693373038974842e7,4.511096064033898e7,5.5098652228056125e7,6.729764628648226e7,8.21975312817583e7,1.0039629191679284e8,1.2262430835705578e8,1.497736689511576e8,1.8293397286861435e8,2.2343605954035982e8,2.72905419918007e8],\"showlegend\":true,\"name\":\"y1\",\"type\":\"scatter\",\"xaxis\":\"x\",\"line\":{\"width\":1,\"dash\":\"solid\",\"color\":\"rgba(0, 154, 250, 1.000)\",\"shape\":\"linear\"},\"x\":[-10.0,-9.9,-9.8,-9.7,-9.6,-9.5,-9.4,-9.3,-9.2,-9.1,-9.0,-8.9,-8.8,-8.7,-8.6,-8.5,-8.4,-8.3,-8.2,-8.1,-8.0,-7.9,-7.8,-7.7,-7.6,-7.5,-7.4,-7.3,-7.2,-7.1,-7.0,-6.9,-6.8,-6.7,-6.6,-6.5,-6.4,-6.3,-6.2,-6.1,-6.0,-5.9,-5.8,-5.7,-5.6,-5.5,-5.4,-5.3,-5.2,-5.1,-5.0,-4.9,-4.8,-4.7,-4.6,-4.5,-4.4,-4.3,-4.2,-4.1,-4.0,-3.9,-3.8,-3.7,-3.6,-3.5,-3.4,-3.3,-3.2,-3.1,-3.0,-2.9,-2.8,-2.7,-2.6,-2.5,-2.4,-2.3,-2.2,-2.1,-2.0,-1.9,-1.8,-1.7,-1.6,-1.5,-1.4,-1.3,-1.2,-1.1,-1.0,-0.9,-0.8,-0.7,-0.6,-0.5,-0.4,-0.3,-0.2,-0.1,0.0,0.1,0.2,0.3,0.4,0.5,0.6,0.7,0.8,0.9,1.0,1.1,1.2,1.3,1.4,1.5,1.6,1.7,1.8,1.9,2.0,2.1,2.2,2.3,2.4,2.5,2.6,2.7,2.8,2.9,3.0,3.1,3.2,3.3,3.4,3.5,3.6,3.7,3.8,3.9,4.0,4.1,4.2,4.3,4.4,4.5,4.6,4.7,4.8,4.9,5.0,5.1,5.2,5.3,5.4,5.5,5.6,5.7,5.8,5.9,6.0,6.1,6.2,6.3,6.4,6.5,6.6,6.7,6.8,6.9,7.0,7.1,7.2,7.3,7.4,7.5,7.6,7.7,7.8,7.9,8.0,8.1,8.2,8.3,8.4,8.5,8.6,8.7,8.8,8.9,9.0,9.1,9.2,9.3,9.4,9.5,9.6,9.7,9.8,9.9,10.0],\"mode\":\"lines\"}],\n",
       "               {\"yaxis\":{\"type\":\"-\",\"titlefont\":{\"size\":15,\"color\":\"rgba(0, 0, 0, 1.000)\",\"family\":\"Helvetica\"},\"title\":\"\",\"tickfont\":{\"size\":11,\"color\":\"rgba(0, 0, 0, 1.000)\",\"family\":\"Helvetica\"},\"ticks\":\"inside\",\"tickmode\":\"array\",\"showgrid\":true,\"tickvals\":[1.0e8,2.0e8],\"domain\":[0.06328375619714204,0.9868766404199475],\"ticktext\":[\"100000000\",\"200000000\"],\"tickangle\":0,\"zeroline\":false,\"linecolor\":\"rgba(0, 0, 0, 1.000)\",\"tickcolor\":\"rgba(0, 0, 0, 1.000)\",\"anchor\":\"x\"},\"annotations\":[],\"width\":400,\"plot_bgcolor\":\"rgba(255, 255, 255, 1.000)\",\"showlegend\":true,\"legend\":{\"bgcolor\":\"rgba(255, 255, 255, 1.000)\",\"font\":{\"size\":11,\"color\":\"rgba(0, 0, 0, 1.000)\",\"family\":\"Helvetica\"},\"bordercolor\":\"rgba(0, 0, 0, 1.000)\"},\"xaxis\":{\"type\":\"-\",\"titlefont\":{\"size\":15,\"color\":\"rgba(0, 0, 0, 1.000)\",\"family\":\"Helvetica\"},\"title\":\"\",\"tickfont\":{\"size\":11,\"color\":\"rgba(0, 0, 0, 1.000)\",\"family\":\"Helvetica\"},\"ticks\":\"inside\",\"tickmode\":\"array\",\"showgrid\":true,\"tickvals\":[-10.0,-5.0,0.0,5.0,10.0],\"domain\":[0.21968503937007874,0.9901574803149608],\"ticktext\":[\"-10\",\"-5\",\"0\",\"5\",\"10\"],\"tickangle\":0,\"zeroline\":false,\"linecolor\":\"rgba(0, 0, 0, 1.000)\",\"tickcolor\":\"rgba(0, 0, 0, 1.000)\",\"anchor\":\"y\"},\"paper_bgcolor\":\"rgba(255, 255, 255, 1.000)\",\"margin\":{\"r\":0,\"l\":0,\"b\":0,\"t\":20},\"height\":300}, {showLink: false});\n",
       "\n",
       " </script>\n",
       "\n",
       "</body>\n",
       "</html>\n"
      ]
     },
     "execution_count": 21,
     "metadata": {},
     "output_type": "execute_result"
    }
   ],
   "source": [
    "using Plots\n",
    "plotlyjs()\n",
    "\n",
    "plot(Y2ord, -10:0.1:10, size = (400,300))"
   ]
  },
  {
   "cell_type": "markdown",
   "metadata": {},
   "source": [
    "#### CAMPO DE DIREÇÕES "
   ]
  },
  {
   "cell_type": "code",
   "execution_count": null,
   "metadata": {
    "collapsed": true
   },
   "outputs": [],
   "source": []
  },
  {
   "cell_type": "markdown",
   "metadata": {},
   "source": [
    "### EQUAÇÃO DE SEGUNDA ORDEM NUMÉRICA "
   ]
  },
  {
   "cell_type": "code",
   "execution_count": null,
   "metadata": {
    "collapsed": false
   },
   "outputs": [],
   "source": []
  },
  {
   "cell_type": "markdown",
   "metadata": {
    "collapsed": false
   },
   "source": [
    "%%% Fim Equações Diferenciais %%%"
   ]
  },
  {
   "cell_type": "markdown",
   "metadata": {},
   "source": []
  }
 ],
 "metadata": {
  "anaconda-cloud": {},
  "kernelspec": {
   "display_name": "Julia 0.5.0",
   "language": "julia",
   "name": "julia-0.5"
  },
  "language_info": {
   "file_extension": ".jl",
   "mimetype": "application/julia",
   "name": "julia",
   "version": "0.5.0"
  }
 },
 "nbformat": 4,
 "nbformat_minor": 0
}
