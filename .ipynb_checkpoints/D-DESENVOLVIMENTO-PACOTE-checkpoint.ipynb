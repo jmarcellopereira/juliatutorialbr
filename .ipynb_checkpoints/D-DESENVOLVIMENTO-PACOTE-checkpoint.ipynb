{
 "cells": [
  {
   "cell_type": "markdown",
   "metadata": {},
   "source": [
    "# DESENVOLVIMENTO DE UM PACOTE\n",
    "\n",
    "Para criar um pacote na linguagem Julia é necessário no mínimo:\n",
    "- Pasta `src` : Contém os códigos fontes do pacote\n",
    "- Pasta `test`: Contém os códigos de testes do pacote\n",
    "- Arquivo markdown `LICENSE.md`: Arquivo contendo a licença de uso e informações sobre os direitos autorais listando os autores do pacote.\n",
    "- Arquivo markdown `README.md`: Informações gerais sobre o pacote\t"
   ]
  },
  {
   "cell_type": "markdown",
   "metadata": {},
   "source": [
    "## PACOTE LOCAL\n",
    "\n",
    "Vamos criar um pacote que calcula a área e volume de um cilindro passado o raio da base e altura. Será criado três funções: \n",
    " - Função 'area lateral' : Calcula a área lateral do cilindro dado ao raio da base e altura.\n",
    " - Função 'area total' : Soma a área lateral com duas vezes a área da base do cilindro\n",
    " - Função 'volume cilindro' : Calcula o volume do cilindro multiplicando a área da base com a altura.\n",
    " - Função 'area base cilindro' : Calcula a área da base circular do cilindro\n",
    " \n",
    "Antes, devemos instalar o pacote `PkgDev`:\n",
    "```julia\n",
    "Pkg.add(\"PkgDev\")\n",
    "```\n",
    "Os nomes dos pacotes devem iniciar em maiúsculo, sem espaços, sem acentos e caracteres especiais."
   ]
  },
  {
   "cell_type": "code",
   "execution_count": 1,
   "metadata": {
    "collapsed": true
   },
   "outputs": [],
   "source": [
    "using PkgDev"
   ]
  },
  {
   "cell_type": "markdown",
   "metadata": {},
   "source": [
    "**Configurando o `PkgDev` **\n",
    "\n",
    "A função `PkgDev.config()` configura os dados do desenvolvedor para inserir na licensa de uso."
   ]
  },
  {
   "cell_type": "code",
   "execution_count": 3,
   "metadata": {
    "collapsed": false,
    "scrolled": true
   },
   "outputs": [
    {
     "name": "stdout",
     "output_type": "stream",
     "text": [
      "PkgDev.jl configuration:\n",
      "User name: jmarcellopereira\n",
      "User email: jmarcellopereira@ufpi.edu.br\n",
      "GitHub user: jmarcellopereira\n",
      "Do you want to change this configuration? [N]:STDIN> N\n"
     ]
    }
   ],
   "source": [
    "PkgDev.config()"
   ]
  },
  {
   "cell_type": "markdown",
   "metadata": {},
   "source": [
    "**Gerando o Pacote**\n",
    "\n",
    "A função `PkgDev.generate()` cria um repositório git no disco local para o novo pacote e dentro dele é criado as pastas `src(códigos fontes do pacote)` e `test(códigos de testes do pacote)` e os arquivos LICENSE.md, README.md, REQUIRE e outros. As licença de software podem ser: \"MIT\", \"BSD\", \"ASL\", \"MPL\", \"GPL-2.0+\", \"GPL-3.0+\", \"LGPL-2.1+ \"LGPL-3.0+\" e a escolha depende do projeto do desenvolvedor. Em geral a licença mais utilizada a \"MIT\" oi \"GPL\". Veja no anexo XX mais informações sobre as licenças de software. Sintaxe:\n",
    "```julia\n",
    "PkgDev.generate(\"NomePacote\",\"MIT\")\n",
    "\n",
    "```"
   ]
  },
  {
   "cell_type": "code",
   "execution_count": 4,
   "metadata": {
    "collapsed": false,
    "scrolled": true
   },
   "outputs": [
    {
     "name": "stderr",
     "output_type": "stream",
     "text": [
      "INFO: Initializing CalCL1 repo: /home/jmarcellopereira/.julia/v0.5/CalCL1\n",
      "INFO: Origin: https://github.com/jmarcellopereira/CalCL1.jl.git\n",
      "INFO: Generating LICENSE.md\n",
      "INFO: Generating README.md\n",
      "INFO: Generating src/CalCL1.jl\n",
      "INFO: Generating test/runtests.jl\n",
      "INFO: Generating REQUIRE\n",
      "INFO: Generating .gitignore\n",
      "INFO: Generating .travis.yml\n",
      "INFO: Generating appveyor.yml\n",
      "INFO: Generating .codecov.yml\n",
      "INFO: Committing CalCL1 generated files\n"
     ]
    }
   ],
   "source": [
    "using PkgDev\n",
    "\n",
    "PkgDev.generate(\"CalCL1\",\"LGPL-3.0+\")"
   ]
  },
  {
   "cell_type": "markdown",
   "metadata": {},
   "source": [
    "**Configurando o novo pacote**"
   ]
  },
  {
   "cell_type": "markdown",
   "metadata": {},
   "source": [
    "Entre na pasta `~/.julia/v0.5/CalCL` e veja que todos os arquivos gerados estão dentro desta pasta. Crie na pasta `src` o arquivo `areaBC.jl` e cole o código abaixo:\n",
    "```julia\n",
    "#calcular área da base do cilindro\n",
    "function areaBC(r)\n",
    "    return pi.*r.^2    # o ponto serve para calcular arrays\n",
    "end\n",
    "\n",
    "```\n",
    "Abra o arquivo `CalCL.jl`. Veja que há somente o código abaixo:\n",
    "```julia\n",
    "module CalCL\n",
    "\n",
    "# package code goes here\n",
    "\n",
    "end # module\n",
    "```\n",
    "\n",
    "\n",
    "Apague o conteúdo do arquivo e cole o código abaixo\n",
    "\n",
    "```julia\n",
    "module CalCL\n",
    "\n",
    "# O código do pacote\n",
    "\n",
    "export arealateral\n",
    "export volcilindro\n",
    "\n",
    "#importa a função área base do cilindro do script areaBC.jl\n",
    "include(\"areaBC.jl\")\n",
    "\n",
    "function arealateral(raio, altura)\n",
    "    return  2.*pi.*raio.*altura\n",
    "end\n",
    "\n",
    "function areatotal(raio, altura)\n",
    "    println(\"Área total:\")\n",
    "    return arealateral(raio, altura) + 2.*areaBC(raio)\n",
    "end\n",
    "\n",
    "function volcilindro(raio, altura)\n",
    "    area_base = areaBC(raio)\n",
    "    println(\"Volume do Cilindro\")\n",
    "    return  area_base.*altura\n",
    "end\n",
    "\n",
    "end\n",
    "\n",
    "```\n",
    "\n"
   ]
  },
  {
   "cell_type": "markdown",
   "metadata": {},
   "source": [
    "Importe o pacote"
   ]
  },
  {
   "cell_type": "code",
   "execution_count": 1,
   "metadata": {
    "collapsed": false
   },
   "outputs": [],
   "source": [
    "using CalCL"
   ]
  },
  {
   "cell_type": "code",
   "execution_count": 2,
   "metadata": {
    "collapsed": false
   },
   "outputs": [
    {
     "name": "stdout",
     "output_type": "stream",
     "text": [
      "Volume do Cilindro\n"
     ]
    },
    {
     "data": {
      "text/plain": [
       "12.566370614359172"
      ]
     },
     "execution_count": 2,
     "metadata": {},
     "output_type": "execute_result"
    }
   ],
   "source": [
    "# valor numerico\n",
    "volcilindro(2,1)"
   ]
  },
  {
   "cell_type": "code",
   "execution_count": 3,
   "metadata": {
    "collapsed": false,
    "scrolled": true
   },
   "outputs": [
    {
     "name": "stdout",
     "output_type": "stream",
     "text": [
      "Volume do Cilindro\n"
     ]
    },
    {
     "data": {
      "text/plain": [
       "3-element Array{Float64,1}:\n",
       "  0.0   \n",
       " 12.5664\n",
       " 56.5487"
      ]
     },
     "execution_count": 3,
     "metadata": {},
     "output_type": "execute_result"
    }
   ],
   "source": [
    "# passando vetores\n",
    "volcilindro([1,2,3],[0,1,2])"
   ]
  },
  {
   "cell_type": "code",
   "execution_count": 4,
   "metadata": {
    "collapsed": false
   },
   "outputs": [
    {
     "data": {
      "text/plain": [
       "12.566370614359172"
      ]
     },
     "execution_count": 4,
     "metadata": {},
     "output_type": "execute_result"
    }
   ],
   "source": [
    "arealateral(2,1)"
   ]
  },
  {
   "cell_type": "markdown",
   "metadata": {},
   "source": [
    "As funções `areatotal()` e `areaBC` não foram \"exportadas\" pelo comando `export` como ocorreu com as outras funções, dessa forma não funcionam diretamente. Isto foi feito de proprósito para demonstrar essa característica. Para funcionar é necessário utilizar `CalcCL.areatotal(valor_raio,valor_altura)` e `CalCL.areaBC(valor_raio)`"
   ]
  },
  {
   "cell_type": "code",
   "execution_count": 6,
   "metadata": {
    "collapsed": false
   },
   "outputs": [
    {
     "ename": "LoadError",
     "evalue": "LoadError: UndefVarError: areatotal not defined\nwhile loading In[6], in expression starting on line 1",
     "output_type": "error",
     "traceback": [
      "LoadError: UndefVarError: areatotal not defined\nwhile loading In[6], in expression starting on line 1",
      ""
     ]
    }
   ],
   "source": [
    "areatotal(2,1) "
   ]
  },
  {
   "cell_type": "code",
   "execution_count": 7,
   "metadata": {
    "collapsed": false
   },
   "outputs": [
    {
     "ename": "LoadError",
     "evalue": "LoadError: UndefVarError: areaBC not defined\nwhile loading In[7], in expression starting on line 1",
     "output_type": "error",
     "traceback": [
      "LoadError: UndefVarError: areaBC not defined\nwhile loading In[7], in expression starting on line 1",
      ""
     ]
    }
   ],
   "source": [
    "areaBC(2)"
   ]
  },
  {
   "cell_type": "code",
   "execution_count": 8,
   "metadata": {
    "collapsed": false
   },
   "outputs": [
    {
     "name": "stdout",
     "output_type": "stream",
     "text": [
      "Área total:\n"
     ]
    },
    {
     "data": {
      "text/plain": [
       "37.69911184307752"
      ]
     },
     "execution_count": 8,
     "metadata": {},
     "output_type": "execute_result"
    }
   ],
   "source": [
    "CalCL.areatotal(2,1)"
   ]
  },
  {
   "cell_type": "code",
   "execution_count": 9,
   "metadata": {
    "collapsed": false,
    "scrolled": true
   },
   "outputs": [
    {
     "data": {
      "text/plain": [
       "12.566370614359172"
      ]
     },
     "execution_count": 9,
     "metadata": {},
     "output_type": "execute_result"
    }
   ],
   "source": [
    "CalCL.areaBC(2)"
   ]
  },
  {
   "cell_type": "markdown",
   "metadata": {},
   "source": [
    "Os arquivos `TestePacote.jl e areaBC.jl` podem ter o conteúdo alterado. Depois, basta restartar o kernel e importar novamente."
   ]
  },
  {
   "cell_type": "markdown",
   "metadata": {},
   "source": [
    "## PUBLICANDO O PACOTE NO GITHUB"
   ]
  },
  {
   "cell_type": "markdown",
   "metadata": {},
   "source": [
    "Para publicar no `GitHub` é necessário ter uma conta no serviço e um repositório criado. O repositório criado deve ter o mesmo nome do pacote a ser enviado (CalCL)."
   ]
  },
  {
   "cell_type": "markdown",
   "metadata": {},
   "source": [
    "Acesse via terminal a pasta do pacote: \n",
    "\n",
    "> cd ~/.julia/v0.5/CalCL\n",
    "\n",
    "Commit para salvar tudo que foi realizado\n",
    "> git commit -m \"ok\"\n",
    "\n",
    "Adicionar todos os arquivos e pastas que serão enviados\n",
    "> git add .\n",
    "\n",
    "Adicionar o repositório remoto\n",
    "> git remote add origin https://github.com/jmarcellopereira/CalCL.jl.git\n",
    "\n",
    "Enviar os arquivos. Será pedido o nome de usuário e senha\n",
    "> git push -u origin master\n",
    "\n",
    "> Username for 'https://github.com': jmarcellopereira\n",
    "\n",
    "> Password for 'https://jmarcellopereira@github.com': `******`\n",
    "\n",
    "Feito isto, aparecerá os arquivos no repositório do `GitHub`\n",
    "\n",
    "Antes de instalar via `Pkg.clone()` o pacote deve ser removido do disco pois a pasta e os arquivos clonados são os mesmos do pacote local. Para isto use: `Pkg.rm(\"CalCL\")`."
   ]
  },
  {
   "cell_type": "code",
   "execution_count": 3,
   "metadata": {
    "collapsed": false
   },
   "outputs": [
    {
     "name": "stderr",
     "output_type": "stream",
     "text": [
      "INFO: Removing CalCL (unregistered)\n"
     ]
    }
   ],
   "source": [
    "Pkg.rm(\"CalCL\")"
   ]
  },
  {
   "cell_type": "code",
   "execution_count": 4,
   "metadata": {
    "collapsed": false
   },
   "outputs": [
    {
     "name": "stderr",
     "output_type": "stream",
     "text": [
      "INFO: Cloning CalCL from https://github.com/jmarcellopereira/CalCL.jl.git\n",
      "INFO: Computing changes...\n",
      "INFO: No packages to install, update or remove\n"
     ]
    }
   ],
   "source": [
    "Pkg.clone(\"https://github.com/jmarcellopereira/CalCL.jl.git\")"
   ]
  },
  {
   "cell_type": "code",
   "execution_count": 5,
   "metadata": {
    "collapsed": true
   },
   "outputs": [],
   "source": [
    "using CalCL"
   ]
  },
  {
   "cell_type": "code",
   "execution_count": 6,
   "metadata": {
    "collapsed": false
   },
   "outputs": [
    {
     "data": {
      "text/plain": [
       "12.566370614359172"
      ]
     },
     "execution_count": 6,
     "metadata": {},
     "output_type": "execute_result"
    }
   ],
   "source": [
    "arealateral(2,1)"
   ]
  },
  {
   "cell_type": "code",
   "execution_count": 7,
   "metadata": {
    "collapsed": false
   },
   "outputs": [
    {
     "name": "stdout",
     "output_type": "stream",
     "text": [
      "Volume do Cilindro\n"
     ]
    },
    {
     "data": {
      "text/plain": [
       "12.566370614359172"
      ]
     },
     "execution_count": 7,
     "metadata": {},
     "output_type": "execute_result"
    }
   ],
   "source": [
    "volcilindro(2,1)"
   ]
  },
  {
   "cell_type": "code",
   "execution_count": 8,
   "metadata": {
    "collapsed": false
   },
   "outputs": [
    {
     "name": "stdout",
     "output_type": "stream",
     "text": [
      "Área total:\n"
     ]
    },
    {
     "data": {
      "text/plain": [
       "37.69911184307752"
      ]
     },
     "execution_count": 8,
     "metadata": {},
     "output_type": "execute_result"
    }
   ],
   "source": [
    "CalCL.areatotal(2,1)"
   ]
  },
  {
   "cell_type": "markdown",
   "metadata": {},
   "source": [
    "Após fazer o clone do projeto, é possível alterar o pacote e reenviar para o `GitHub` novamente com os comandos anteriores."
   ]
  },
  {
   "cell_type": "code",
   "execution_count": null,
   "metadata": {
    "collapsed": true
   },
   "outputs": [],
   "source": []
  }
 ],
 "metadata": {
  "anaconda-cloud": {},
  "kernelspec": {
   "display_name": "Julia 0.5.0",
   "language": "julia",
   "name": "julia-0.5"
  },
  "language_info": {
   "file_extension": ".jl",
   "mimetype": "application/julia",
   "name": "julia",
   "version": "0.5.0"
  }
 },
 "nbformat": 4,
 "nbformat_minor": 1
}
