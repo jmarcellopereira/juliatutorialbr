{
 "cells": [
  {
   "cell_type": "markdown",
   "metadata": {
    "collapsed": true
   },
   "source": [
    "# OPTIMIZANDO CODIGOS PARA ALTA PERFORMANCE\n",
    "\n",
    "O pacote `BenchmarkTools` facilita o acompanhamento de desempenho do código em Julia, fornecendo uma estrutura para escrever e executar grupos de benchmarks, bem como comparar resultados. `BenchmarkTools` foi criado para facilitar as seguintes tarefas:\n",
    "\n",
    "+ Organizar coleções de benchmarks em conjuntos de benchmarks gerenciáveis\n",
    "+ Configurar, salvar e recarregar parâmetros de referência para conveniência, precisão e consistência\n",
    "+ Executar benchmarks de forma a obter previsões de desempenho razoáveis e consistentes\n",
    "+ Analisar e comparar resultados para determinar se uma alteração de código causou prejuízos ou melhorias\n",
    "\n",
    "Sintaxe Básica:\n",
    "```julia\n",
    "@benchmark comando/função\n",
    "\n",
    "Out:\n",
    "  BenchmarkTools.Trial: \n",
    "      samples:          1270\n",
    "      evals/sample:     1\n",
    "      time tolerance:   5.00%\n",
    "      memory tolerance: 1.00%\n",
    "      memory estimate:  7.63 mb\n",
    "      allocs estimate:  3\n",
    "      minimum time:     3.03 ms (0.00% GC)\n",
    "      median time:      3.80 ms (0.00% GC)\n",
    "      mean time:        3.93 ms (3.97% GC)\n",
    "      maximum time:     6.94 ms (6.20% GC)\n",
    "  \n",
    "```"
   ]
  },
  {
   "cell_type": "code",
   "execution_count": 1,
   "metadata": {
    "collapsed": true
   },
   "outputs": [],
   "source": [
    "using BenchmarkTools"
   ]
  },
  {
   "cell_type": "markdown",
   "metadata": {},
   "source": [
    "## TIPOS DEFINIDOS EM FUNÇÕES"
   ]
  },
  {
   "cell_type": "markdown",
   "metadata": {},
   "source": [
    "Julia é uma linguagem dinamicamente tipada que ao contrário Java ou C, o programador não precisa, necessariamente, especificar o tipo de cada variável no código. Porém, os tipos são muito importantes em Julia, de tal forma que o melhor desempenho ocorre quando são utilizadas informações do tipo para todos os dados no código. Um tipo mal definido pode atrasar muito o desempenho de uma função/codigo. A melhor forma de obter um bom desempenho é associar o tipo do dado a ser trabalhado com o tipo que a função vai calcular.\n",
    "\n",
    "No exemplo abaixo, temos uma função que soma elementos de um vetor. No primeiro teste a função `soma_vetor1` recebe um vetor de qualquer tipo e trabalha com \"soma\" do tipo `Float(soma = 0.0)`. No segundo teste a mesma função e vetores, porém a variável soma é do tipo Int(soma = 0)."
   ]
  },
  {
   "cell_type": "code",
   "execution_count": 2,
   "metadata": {
    "collapsed": false
   },
   "outputs": [
    {
     "data": {
      "text/plain": [
       "soma_vetor1 (generic function with 1 method)"
      ]
     },
     "execution_count": 2,
     "metadata": {},
     "output_type": "execute_result"
    }
   ],
   "source": [
    "function soma_vetor1(x)\n",
    "    soma = 0.0        # cuidado! soma é tipo float\n",
    "    for i = x\n",
    "        soma =+\n",
    "    end\n",
    "    return soma\n",
    "end"
   ]
  },
  {
   "cell_type": "code",
   "execution_count": 3,
   "metadata": {
    "collapsed": false
   },
   "outputs": [
    {
     "data": {
      "text/plain": [
       "(50000001, 50000001, 50000001)"
      ]
     },
     "execution_count": 3,
     "metadata": {},
     "output_type": "execute_result"
    }
   ],
   "source": [
    "x1 = collect(0:0.0001:5000)    # Array{Float64,1},\n",
    "x2 = LinRange(0,5000,50000001) # LinRange{Float64}\n",
    "x3 = 0:0.0001:5000             # StepRangeLen{Float64}\n",
    "\n",
    "length(x1) , length(x2) , length(x3)"
   ]
  },
  {
   "cell_type": "code",
   "execution_count": 4,
   "metadata": {
    "collapsed": false,
    "scrolled": true
   },
   "outputs": [
    {
     "data": {
      "text/plain": [
       "Array{Float64,1}"
      ]
     },
     "metadata": {},
     "output_type": "display_data"
    },
    {
     "data": {
      "text/plain": [
       "LinRange{Float64}"
      ]
     },
     "metadata": {},
     "output_type": "display_data"
    },
    {
     "data": {
      "text/plain": [
       "StepRangeLen{Float64,Base.TwicePrecision{Float64},Base.TwicePrecision{Float64}}"
      ]
     },
     "metadata": {},
     "output_type": "display_data"
    }
   ],
   "source": [
    "# confirmando o tipo\n",
    "\n",
    "display(typeof(x1))\n",
    "display(typeof(x2))\n",
    "display(typeof(x3))"
   ]
  },
  {
   "cell_type": "code",
   "execution_count": 5,
   "metadata": {
    "collapsed": false,
    "scrolled": false
   },
   "outputs": [
    {
     "data": {
      "text/plain": [
       "BenchmarkTools.Trial: \n",
       "  memory estimate:  0 bytes\n",
       "  allocs estimate:  0\n",
       "  --------------\n",
       "  minimum time:     11.385 ns (0.00% GC)\n",
       "  median time:      11.795 ns (0.00% GC)\n",
       "  mean time:        12.306 ns (0.00% GC)\n",
       "  maximum time:     61.468 ns (0.00% GC)\n",
       "  --------------\n",
       "  samples:          10000\n",
       "  evals/sample:     999"
      ]
     },
     "execution_count": 5,
     "metadata": {},
     "output_type": "execute_result"
    }
   ],
   "source": [
    "@benchmark soma_vetor1(x1)"
   ]
  },
  {
   "cell_type": "code",
   "execution_count": 6,
   "metadata": {
    "collapsed": false,
    "scrolled": true
   },
   "outputs": [
    {
     "data": {
      "text/plain": [
       "BenchmarkTools.Trial: \n",
       "  memory estimate:  0 bytes\n",
       "  allocs estimate:  0\n",
       "  --------------\n",
       "  minimum time:     13.303 ms (0.00% GC)\n",
       "  median time:      13.507 ms (0.00% GC)\n",
       "  mean time:        13.562 ms (0.00% GC)\n",
       "  maximum time:     15.849 ms (0.00% GC)\n",
       "  --------------\n",
       "  samples:          369\n",
       "  evals/sample:     1"
      ]
     },
     "execution_count": 6,
     "metadata": {},
     "output_type": "execute_result"
    }
   ],
   "source": [
    "@benchmark soma_vetor1(x2)"
   ]
  },
  {
   "cell_type": "code",
   "execution_count": 7,
   "metadata": {
    "collapsed": false,
    "scrolled": false
   },
   "outputs": [
    {
     "data": {
      "text/plain": [
       "BenchmarkTools.Trial: \n",
       "  memory estimate:  0 bytes\n",
       "  allocs estimate:  0\n",
       "  --------------\n",
       "  minimum time:     13.301 ms (0.00% GC)\n",
       "  median time:      13.561 ms (0.00% GC)\n",
       "  mean time:        13.658 ms (0.00% GC)\n",
       "  maximum time:     16.297 ms (0.00% GC)\n",
       "  --------------\n",
       "  samples:          367\n",
       "  evals/sample:     1"
      ]
     },
     "execution_count": 7,
     "metadata": {},
     "output_type": "execute_result"
    }
   ],
   "source": [
    "@benchmark soma_vetor1(x3)"
   ]
  },
  {
   "cell_type": "markdown",
   "metadata": {},
   "source": []
  },
  {
   "cell_type": "code",
   "execution_count": 65,
   "metadata": {
    "collapsed": false
   },
   "outputs": [
    {
     "data": {
      "text/plain": [
       "soma_vetorG (generic function with 1 method)"
      ]
     },
     "execution_count": 65,
     "metadata": {},
     "output_type": "execute_result"
    }
   ],
   "source": [
    "function soma_vetorG(x)\n",
    "    soma = 0.0        # cuidado! soma é tipo float\n",
    "    for i = x\n",
    "        soma =+\n",
    "    end\n",
    "    return soma\n",
    "end"
   ]
  },
  {
   "cell_type": "code",
   "execution_count": 67,
   "metadata": {
    "collapsed": false
   },
   "outputs": [
    {
     "data": {
      "text/plain": [
       "BenchmarkTools.Trial: \n",
       "  memory estimate:  381.47 MiB\n",
       "  allocs estimate:  2\n",
       "  --------------\n",
       "  minimum time:     198.954 ms (4.81% GC)\n",
       "  median time:      203.721 ms (4.78% GC)\n",
       "  mean time:        206.893 ms (5.56% GC)\n",
       "  maximum time:     248.967 ms (20.86% GC)\n",
       "  --------------\n",
       "  samples:          25\n",
       "  evals/sample:     1"
      ]
     },
     "execution_count": 67,
     "metadata": {},
     "output_type": "execute_result"
    }
   ],
   "source": [
    "@benchmark soma_vetorG(collect(0:0.0001:5000))"
   ]
  },
  {
   "cell_type": "code",
   "execution_count": 62,
   "metadata": {
    "collapsed": false
   },
   "outputs": [
    {
     "data": {
      "text/plain": [
       "soma_vetorT (generic function with 1 method)"
      ]
     },
     "execution_count": 62,
     "metadata": {},
     "output_type": "execute_result"
    }
   ],
   "source": [
    "function soma_vetorT(x::Array{Float64,1})\n",
    "    soma = 0.0        # cuidado! soma é tipo float\n",
    "    for i = x\n",
    "        soma =+\n",
    "    end\n",
    "    return soma\n",
    "end"
   ]
  },
  {
   "cell_type": "code",
   "execution_count": 68,
   "metadata": {
    "collapsed": false
   },
   "outputs": [
    {
     "data": {
      "text/plain": [
       "BenchmarkTools.Trial: \n",
       "  memory estimate:  381.47 MiB\n",
       "  allocs estimate:  2\n",
       "  --------------\n",
       "  minimum time:     196.232 ms (4.82% GC)\n",
       "  median time:      199.103 ms (4.78% GC)\n",
       "  mean time:        201.213 ms (5.60% GC)\n",
       "  maximum time:     245.693 ms (22.08% GC)\n",
       "  --------------\n",
       "  samples:          25\n",
       "  evals/sample:     1"
      ]
     },
     "execution_count": 68,
     "metadata": {},
     "output_type": "execute_result"
    }
   ],
   "source": [
    "@benchmark soma_vetorT(collect(0:0.0001:5000))"
   ]
  },
  {
   "cell_type": "markdown",
   "metadata": {},
   "source": [
    "**A função soma_vetor modificada**\n",
    "\n",
    "Note que a variável \"soma\" agora é definido como `soma = soma + i`. Só esta construção já é suficiente para reduzir o desempelho do código. \n",
    "\n",
    "obs: O código pode ficar pior se `soma = 0` (tipo inteiro)."
   ]
  },
  {
   "cell_type": "code",
   "execution_count": 8,
   "metadata": {
    "collapsed": false,
    "scrolled": true
   },
   "outputs": [
    {
     "data": {
      "text/plain": [
       "soma_vetor2 (generic function with 1 method)"
      ]
     },
     "execution_count": 8,
     "metadata": {},
     "output_type": "execute_result"
    }
   ],
   "source": [
    "function soma_vetor2(x)\n",
    "    soma = 0.0          # cuidado! soma é tipo float\n",
    "    for i in x\n",
    "        soma = soma + i # só este datalhe ja é suficiente para reduzir o desempenho\n",
    "    end\n",
    "    return soma\n",
    "end"
   ]
  },
  {
   "cell_type": "code",
   "execution_count": 9,
   "metadata": {
    "collapsed": false
   },
   "outputs": [
    {
     "data": {
      "text/plain": [
       "BenchmarkTools.Trial: \n",
       "  memory estimate:  16 bytes\n",
       "  allocs estimate:  1\n",
       "  --------------\n",
       "  minimum time:     56.218 ms (0.00% GC)\n",
       "  median time:      56.978 ms (0.00% GC)\n",
       "  mean time:        57.373 ms (0.00% GC)\n",
       "  maximum time:     61.862 ms (0.00% GC)\n",
       "  --------------\n",
       "  samples:          88\n",
       "  evals/sample:     1"
      ]
     },
     "execution_count": 9,
     "metadata": {},
     "output_type": "execute_result"
    }
   ],
   "source": [
    "@benchmark soma_vetor2(x1)"
   ]
  },
  {
   "cell_type": "code",
   "execution_count": 10,
   "metadata": {
    "collapsed": false
   },
   "outputs": [
    {
     "data": {
      "text/plain": [
       "BenchmarkTools.Trial: \n",
       "  memory estimate:  16 bytes\n",
       "  allocs estimate:  1\n",
       "  --------------\n",
       "  minimum time:     62.247 ms (0.00% GC)\n",
       "  median time:      63.176 ms (0.00% GC)\n",
       "  mean time:        63.686 ms (0.00% GC)\n",
       "  maximum time:     69.015 ms (0.00% GC)\n",
       "  --------------\n",
       "  samples:          79\n",
       "  evals/sample:     1"
      ]
     },
     "execution_count": 10,
     "metadata": {},
     "output_type": "execute_result"
    }
   ],
   "source": [
    "@benchmark soma_vetor2(x2)"
   ]
  },
  {
   "cell_type": "code",
   "execution_count": 11,
   "metadata": {
    "collapsed": false,
    "scrolled": true
   },
   "outputs": [
    {
     "data": {
      "text/plain": [
       "BenchmarkTools.Trial: \n",
       "  memory estimate:  16 bytes\n",
       "  allocs estimate:  1\n",
       "  --------------\n",
       "  minimum time:     101.034 ms (0.00% GC)\n",
       "  median time:      102.842 ms (0.00% GC)\n",
       "  mean time:        103.965 ms (0.00% GC)\n",
       "  maximum time:     120.240 ms (0.00% GC)\n",
       "  --------------\n",
       "  samples:          49\n",
       "  evals/sample:     1"
      ]
     },
     "execution_count": 11,
     "metadata": {},
     "output_type": "execute_result"
    }
   ],
   "source": [
    "@benchmark soma_vetor2(x3)"
   ]
  },
  {
   "cell_type": "markdown",
   "metadata": {},
   "source": [
    "O tipo Array{Float64,1} definido pelo ` collect` apresentou melhor desempenho de tempo. Veja que todos os testes apresentaram resultados muito ruins em função da construção `soma = soma + i`."
   ]
  },
  {
   "cell_type": "markdown",
   "metadata": {
    "collapsed": true
   },
   "source": [
    "## NÃO USE VARIÁVEIS GLOBAIS EM FUNÇÕES\n",
    "\n",
    "Variáveis globais são uma tentação na vida de qualquer programador. Porém..."
   ]
  },
  {
   "cell_type": "code",
   "execution_count": 12,
   "metadata": {
    "collapsed": true
   },
   "outputs": [],
   "source": [
    "using BenchmarkTools"
   ]
  },
  {
   "cell_type": "code",
   "execution_count": 14,
   "metadata": {
    "collapsed": false
   },
   "outputs": [
    {
     "data": {
      "text/plain": [
       "soma_vetor_Global (generic function with 1 method)"
      ]
     },
     "execution_count": 14,
     "metadata": {},
     "output_type": "execute_result"
    }
   ],
   "source": [
    "# função calcula a soma a partir de uma variável global x\n",
    "\n",
    "function soma_vetor_Global()\n",
    "    soma = 0.0             # cuidado! soma é tipo float\n",
    "    for i in x\n",
    "        soma =+\n",
    "    end\n",
    "    return soma\n",
    "end"
   ]
  },
  {
   "cell_type": "code",
   "execution_count": 15,
   "metadata": {
    "collapsed": true
   },
   "outputs": [],
   "source": [
    "x = collect(0:0.0001:5000);"
   ]
  },
  {
   "cell_type": "code",
   "execution_count": 16,
   "metadata": {
    "collapsed": false
   },
   "outputs": [
    {
     "data": {
      "text/plain": [
       "BenchmarkTools.Trial: \n",
       "  memory estimate:  2.98 GiB\n",
       "  allocs estimate:  149999493\n",
       "  --------------\n",
       "  minimum time:     2.499 s (6.10% GC)\n",
       "  median time:      2.505 s (6.11% GC)\n",
       "  mean time:        2.505 s (6.11% GC)\n",
       "  maximum time:     2.511 s (6.13% GC)\n",
       "  --------------\n",
       "  samples:          2\n",
       "  evals/sample:     1"
      ]
     },
     "execution_count": 16,
     "metadata": {},
     "output_type": "execute_result"
    }
   ],
   "source": [
    "@benchmark soma_vetor_Global()"
   ]
  },
  {
   "cell_type": "markdown",
   "metadata": {
    "collapsed": true
   },
   "source": [
    "A mesma função só que usando variável local passada para função"
   ]
  },
  {
   "cell_type": "code",
   "execution_count": 17,
   "metadata": {
    "collapsed": false
   },
   "outputs": [
    {
     "data": {
      "text/plain": [
       "soma_vetor_Local (generic function with 1 method)"
      ]
     },
     "execution_count": 17,
     "metadata": {},
     "output_type": "execute_result"
    }
   ],
   "source": [
    "# função calcula a soma a partir de uma variável local X passada como valor\n",
    "\n",
    "function soma_vetor_Local(x)\n",
    "    soma = 0.0             # cuidado! soma é tipo float\n",
    "    for i in x\n",
    "        soma =+\n",
    "    end\n",
    "    return soma\n",
    "end"
   ]
  },
  {
   "cell_type": "code",
   "execution_count": 56,
   "metadata": {
    "collapsed": false
   },
   "outputs": [
    {
     "data": {
      "text/plain": [
       "BenchmarkTools.Trial: \n",
       "  memory estimate:  381.47 MiB\n",
       "  allocs estimate:  2\n",
       "  --------------\n",
       "  minimum time:     199.364 ms (4.74% GC)\n",
       "  median time:      207.686 ms (4.61% GC)\n",
       "  mean time:        208.911 ms (5.50% GC)\n",
       "  maximum time:     246.763 ms (21.83% GC)\n",
       "  --------------\n",
       "  samples:          24\n",
       "  evals/sample:     1"
      ]
     },
     "execution_count": 56,
     "metadata": {},
     "output_type": "execute_result"
    }
   ],
   "source": [
    "@benchmark soma_vetor_Local(collect(0:0.0001:5000))"
   ]
  },
  {
   "cell_type": "markdown",
   "metadata": {},
   "source": [
    "Diferença absurda de tempo de alocação de memória entre o primeiro caso e segundo caso. "
   ]
  },
  {
   "cell_type": "markdown",
   "metadata": {
    "collapsed": true
   },
   "source": [
    "## UTILIZE FUNÇÕES PARA SUBSTITUIR BLOCOS DE CÓDIGO"
   ]
  },
  {
   "cell_type": "code",
   "execution_count": 21,
   "metadata": {
    "collapsed": true
   },
   "outputs": [],
   "source": [
    "using BenchmarkTools"
   ]
  },
  {
   "cell_type": "markdown",
   "metadata": {},
   "source": [
    "Bloco de código que utiliza variáveis globais para calcular a soma todos os elementos de um vetor"
   ]
  },
  {
   "cell_type": "code",
   "execution_count": 57,
   "metadata": {
    "collapsed": false,
    "scrolled": false
   },
   "outputs": [
    {
     "data": {
      "text/plain": [
       "+ (generic function with 170 methods)"
      ]
     },
     "metadata": {},
     "output_type": "display_data"
    },
    {
     "data": {
      "text/plain": [
       "+ (generic function with 170 methods)"
      ]
     },
     "metadata": {},
     "output_type": "display_data"
    },
    {
     "data": {
      "text/plain": [
       "+ (generic function with 170 methods)"
      ]
     },
     "metadata": {},
     "output_type": "display_data"
    },
    {
     "data": {
      "text/plain": [
       "+ (generic function with 170 methods)"
      ]
     },
     "metadata": {},
     "output_type": "display_data"
    },
    {
     "data": {
      "text/plain": [
       "+ (generic function with 170 methods)"
      ]
     },
     "metadata": {},
     "output_type": "display_data"
    },
    {
     "data": {
      "text/plain": [
       "+ (generic function with 170 methods)"
      ]
     },
     "metadata": {},
     "output_type": "display_data"
    },
    {
     "data": {
      "text/plain": [
       "+ (generic function with 170 methods)"
      ]
     },
     "metadata": {},
     "output_type": "display_data"
    },
    {
     "data": {
      "text/plain": [
       "BenchmarkTools.Trial: \n",
       "  memory estimate:  3.35 GiB\n",
       "  allocs estimate:  150000116\n",
       "  --------------\n",
       "  minimum time:     2.966 s (9.46% GC)\n",
       "  median time:      3.195 s (9.23% GC)\n",
       "  mean time:        3.195 s (9.23% GC)\n",
       "  maximum time:     3.423 s (9.02% GC)\n",
       "  --------------\n",
       "  samples:          2\n",
       "  evals/sample:     1"
      ]
     },
     "execution_count": 57,
     "metadata": {},
     "output_type": "execute_result"
    }
   ],
   "source": [
    "@benchmark begin\n",
    "x = collect(0:0.0001:5000)\n",
    "\n",
    "soma = 0.0             # cuidado! soma é tipo float\n",
    "for i in x1\n",
    "    soma =+\n",
    "end\n",
    "\n",
    "display(soma)\n",
    "    \n",
    "end"
   ]
  },
  {
   "cell_type": "markdown",
   "metadata": {},
   "source": [
    "Função que substitui o procedimento acima e usa variáveis locais"
   ]
  },
  {
   "cell_type": "code",
   "execution_count": 30,
   "metadata": {
    "collapsed": false
   },
   "outputs": [
    {
     "data": {
      "text/plain": [
       "soma_vetorL (generic function with 1 method)"
      ]
     },
     "execution_count": 30,
     "metadata": {},
     "output_type": "execute_result"
    }
   ],
   "source": [
    "# função calcula a soma a partir de uma variável local X passada como valor\n",
    "\n",
    "function soma_vetorL(x)\n",
    "    soma = 0.0             # cuidado! soma é tipo float\n",
    "    for i in x\n",
    "        soma =+\n",
    "    end\n",
    "    return soma\n",
    "end"
   ]
  },
  {
   "cell_type": "code",
   "execution_count": 59,
   "metadata": {
    "collapsed": false,
    "scrolled": false
   },
   "outputs": [
    {
     "data": {
      "text/plain": [
       "BenchmarkTools.Trial: \n",
       "  memory estimate:  381.47 MiB\n",
       "  allocs estimate:  2\n",
       "  --------------\n",
       "  minimum time:     196.840 ms (4.81% GC)\n",
       "  median time:      198.905 ms (4.72% GC)\n",
       "  mean time:        201.207 ms (5.53% GC)\n",
       "  maximum time:     245.111 ms (20.95% GC)\n",
       "  --------------\n",
       "  samples:          25\n",
       "  evals/sample:     1"
      ]
     },
     "execution_count": 59,
     "metadata": {},
     "output_type": "execute_result"
    }
   ],
   "source": [
    "@benchmark soma_vetorL(collect(0:0.0001:5000))"
   ]
  },
  {
   "cell_type": "markdown",
   "metadata": {},
   "source": [
    "Veja que a diferença de tempo é absurda!"
   ]
  },
  {
   "cell_type": "code",
   "execution_count": 60,
   "metadata": {
    "collapsed": true
   },
   "outputs": [],
   "source": [
    "GC.gc()"
   ]
  },
  {
   "cell_type": "markdown",
   "metadata": {},
   "source": [
    "## CRIAÇÃO DE MATRIZES\n",
    "\n",
    "Quando for criar uma matriz a partir de uma função, use List Compreehsion ao invés de laços `for`, além de deixar mais claro o código é bem mais rápido."
   ]
  },
  {
   "cell_type": "code",
   "execution_count": 17,
   "metadata": {
    "collapsed": true
   },
   "outputs": [],
   "source": [
    "using BenchmarkTools"
   ]
  },
  {
   "cell_type": "code",
   "execution_count": 33,
   "metadata": {
    "collapsed": false
   },
   "outputs": [
    {
     "data": {
      "text/plain": [
       "matriz_for (generic function with 1 method)"
      ]
     },
     "execution_count": 33,
     "metadata": {},
     "output_type": "execute_result"
    }
   ],
   "source": [
    "# função for\n",
    "function matriz_for(n)\n",
    "    matriz  = ones(n,n)\n",
    "    for i = 1:n\n",
    "        for j = 1:n\n",
    "            matriz[i,j] = 0.5*i^2 + 0.3j^2\n",
    "        end\n",
    "    end\n",
    "    return matriz\n",
    "end"
   ]
  },
  {
   "cell_type": "code",
   "execution_count": 34,
   "metadata": {
    "collapsed": false,
    "scrolled": false
   },
   "outputs": [
    {
     "data": {
      "text/plain": [
       "BenchmarkTools.Trial: \n",
       "  memory estimate:  762.94 MiB\n",
       "  allocs estimate:  2\n",
       "  --------------\n",
       "  minimum time:     1.007 s (2.46% GC)\n",
       "  median time:      1.013 s (2.44% GC)\n",
       "  mean time:        1.025 s (2.69% GC)\n",
       "  maximum time:     1.056 s (3.49% GC)\n",
       "  --------------\n",
       "  samples:          5\n",
       "  evals/sample:     1"
      ]
     },
     "execution_count": 34,
     "metadata": {},
     "output_type": "execute_result"
    }
   ],
   "source": [
    "@benchmark matriz_for(10000)"
   ]
  },
  {
   "cell_type": "code",
   "execution_count": 40,
   "metadata": {
    "collapsed": true
   },
   "outputs": [],
   "source": [
    "matriz  = nothing"
   ]
  },
  {
   "cell_type": "code",
   "execution_count": 41,
   "metadata": {
    "collapsed": false
   },
   "outputs": [],
   "source": [
    "# use o garbage collector para remover o lixo da memória\n",
    "GC.gc()\n",
    "GC.gc()"
   ]
  },
  {
   "cell_type": "code",
   "execution_count": 42,
   "metadata": {
    "collapsed": false,
    "scrolled": true
   },
   "outputs": [
    {
     "data": {
      "text/plain": [
       "matriz_lc (generic function with 1 method)"
      ]
     },
     "execution_count": 42,
     "metadata": {},
     "output_type": "execute_result"
    }
   ],
   "source": [
    "# função LC\n",
    "function matriz_lc(n)\n",
    "   return [0.5*i^2 + 0.3*j^2 for i = 1:n, j = 1:n]\n",
    "end"
   ]
  },
  {
   "cell_type": "code",
   "execution_count": 43,
   "metadata": {
    "collapsed": false,
    "scrolled": false
   },
   "outputs": [
    {
     "data": {
      "text/plain": [
       "BenchmarkTools.Trial: \n",
       "  memory estimate:  762.94 MiB\n",
       "  allocs estimate:  2\n",
       "  --------------\n",
       "  minimum time:     320.497 ms (2.17% GC)\n",
       "  median time:      332.733 ms (5.29% GC)\n",
       "  mean time:        335.638 ms (6.21% GC)\n",
       "  maximum time:     366.133 ms (14.30% GC)\n",
       "  --------------\n",
       "  samples:          15\n",
       "  evals/sample:     1"
      ]
     },
     "execution_count": 43,
     "metadata": {},
     "output_type": "execute_result"
    }
   ],
   "source": [
    "@benchmark matriz_lc(10000)"
   ]
  },
  {
   "cell_type": "code",
   "execution_count": 44,
   "metadata": {
    "collapsed": true
   },
   "outputs": [],
   "source": [
    "matriz  = nothing"
   ]
  },
  {
   "cell_type": "code",
   "execution_count": 45,
   "metadata": {
    "collapsed": false
   },
   "outputs": [],
   "source": [
    "# use o garbage collector para remover o lixo da memória\n",
    "GC.gc()\n",
    "GC.gc()"
   ]
  },
  {
   "cell_type": "markdown",
   "metadata": {
    "collapsed": true
   },
   "source": [
    "## QUAL A MELHOR: FUNÇÕES GENÉRICAS, FUNÇÕES ANÔNIMAS OU EXPRESÕES SIMBÓLICAS?\n",
    "\n",
    "Uma dúvida que ocorre devido as possibilidades de escolhas é qual função apresenta melhor desenpenho de cálculo. As funções anônimas foram otimizadas na versão 0.5 e não há necessidade do pacote `FastAnonymous` como era nas versões anteriores.\n",
    "\n",
    "* **Funções Genéricas**\n",
    "\n",
    "|Vantagens   |Desvantagens |\n",
    "|------------|-------------|\n",
    "|Fáceis de escrever e bem próximas da escrita de uma função da matemática |Só permitem cálculo de funções definidas|\n",
    "|Rápidas |A redefinição pode ser um problema|\n",
    "\n",
    "* **Expressões Simbólicas**\n",
    "\n",
    "|Vantagens   |Desvantagens |\n",
    "|------------|-------------|\n",
    "|Permitem o cálculo simbólico entre variáveis|Muito lentas em relação as funções genéricas e anônimas        |\n",
    "|Podem ser utilizadas em conjunto com funções genéricas e variáveis simbólicas|Não são funções de acordo com a definição de função|\n",
    "\n",
    "* **Funções Anônimas**\n",
    "\n",
    "|Vantagens   |Desvantagens |\n",
    "|------------|-------------|\n",
    "|Velocidade praticamente iqual às funções genéricas|afdasdfa|\n",
    "|asdfasdf|afdasdfa|"
   ]
  },
  {
   "cell_type": "code",
   "execution_count": 46,
   "metadata": {
    "collapsed": true
   },
   "outputs": [],
   "source": [
    "using BenchmarkTools"
   ]
  },
  {
   "cell_type": "code",
   "execution_count": 47,
   "metadata": {
    "collapsed": false,
    "scrolled": true
   },
   "outputs": [
    {
     "data": {
      "text/plain": [
       "f_gen (generic function with 1 method)"
      ]
     },
     "execution_count": 47,
     "metadata": {},
     "output_type": "execute_result"
    }
   ],
   "source": [
    "# Genérica\n",
    "f_gen(x , y) = x^2 + y^3 + x^5 + y^7 + x^9 + y^11"
   ]
  },
  {
   "cell_type": "code",
   "execution_count": 48,
   "metadata": {
    "collapsed": false,
    "scrolled": false
   },
   "outputs": [
    {
     "data": {
      "text/plain": [
       "(x, y)"
      ]
     },
     "execution_count": 48,
     "metadata": {},
     "output_type": "execute_result"
    }
   ],
   "source": [
    "using SymPy\n",
    "@syms x y"
   ]
  },
  {
   "cell_type": "code",
   "execution_count": 55,
   "metadata": {
    "collapsed": false
   },
   "outputs": [
    {
     "data": {
      "text/latex": [
       "\\begin{equation*}x^{9} + x^{5} + x^{2} + y^{11} + y^{7} + y^{3}\\end{equation*}"
      ],
      "text/plain": [
       " 9    5    2    11    7    3\n",
       "x  + x  + x  + y   + y  + y "
      ]
     },
     "execution_count": 55,
     "metadata": {},
     "output_type": "execute_result"
    }
   ],
   "source": [
    "# Simbólica\n",
    "exp_simb = x^2 + y^3 + x^5 + y^7 + x^9 + y^11"
   ]
  },
  {
   "cell_type": "code",
   "execution_count": 50,
   "metadata": {
    "collapsed": true
   },
   "outputs": [],
   "source": [
    "x_vetor = rand(100, 100)\n",
    "y_vetor = rand(100, 100);"
   ]
  },
  {
   "cell_type": "code",
   "execution_count": 51,
   "metadata": {
    "collapsed": false,
    "scrolled": true
   },
   "outputs": [
    {
     "data": {
      "text/plain": [
       "BenchmarkTools.Trial: \n",
       "  memory estimate:  78.25 KiB\n",
       "  allocs estimate:  4\n",
       "  --------------\n",
       "  minimum time:     2.097 ms (0.00% GC)\n",
       "  median time:      2.172 ms (0.00% GC)\n",
       "  mean time:        2.190 ms (0.12% GC)\n",
       "  maximum time:     3.372 ms (0.00% GC)\n",
       "  --------------\n",
       "  samples:          2282\n",
       "  evals/sample:     1"
      ]
     },
     "execution_count": 51,
     "metadata": {},
     "output_type": "execute_result"
    }
   ],
   "source": [
    "# Função Genérica\n",
    "@benchmark f_gen.(x_vetor,y_vetor)"
   ]
  },
  {
   "cell_type": "code",
   "execution_count": 54,
   "metadata": {
    "collapsed": false
   },
   "outputs": [
    {
     "data": {
      "text/plain": [
       "BenchmarkTools.Trial: \n",
       "  memory estimate:  33.49 MiB\n",
       "  allocs estimate:  1060011\n",
       "  --------------\n",
       "  minimum time:     13.929 s (0.05% GC)\n",
       "  median time:      13.929 s (0.05% GC)\n",
       "  mean time:        13.929 s (0.05% GC)\n",
       "  maximum time:     13.929 s (0.05% GC)\n",
       "  --------------\n",
       "  samples:          1\n",
       "  evals/sample:     1"
      ]
     },
     "execution_count": 54,
     "metadata": {},
     "output_type": "execute_result"
    }
   ],
   "source": [
    "# Expressão Simbólica\n",
    "@benchmark exp_simb.(x_vetor,y_vetor)"
   ]
  },
  {
   "cell_type": "code",
   "execution_count": 53,
   "metadata": {
    "collapsed": false,
    "scrolled": false
   },
   "outputs": [
    {
     "data": {
      "text/plain": [
       "BenchmarkTools.Trial: \n",
       "  memory estimate:  78.25 KiB\n",
       "  allocs estimate:  4\n",
       "  --------------\n",
       "  minimum time:     2.097 ms (0.00% GC)\n",
       "  median time:      2.205 ms (0.00% GC)\n",
       "  mean time:        2.234 ms (0.10% GC)\n",
       "  maximum time:     4.127 ms (18.19% GC)\n",
       "  --------------\n",
       "  samples:          2237\n",
       "  evals/sample:     1"
      ]
     },
     "execution_count": 53,
     "metadata": {},
     "output_type": "execute_result"
    }
   ],
   "source": [
    "# Função Anônima\n",
    "@benchmark ((x,y) -> x^2 + y^3 + x^5 + y^7 + x^9 + y^11).(x_vetor,y_vetor)"
   ]
  },
  {
   "cell_type": "markdown",
   "metadata": {},
   "source": [
    "## OTIMIZANDO UBUNTU E DERIVADOS"
   ]
  },
  {
   "cell_type": "markdown",
   "metadata": {},
   "source": [
    "O Ubuntu e outros sistemas linux, possuem uma configuração de **\"Concurrency\"** que permite habilitar todos os núcleos, isso faz com que o Boot do seu sistema seja mais rápido que o normal e pode melhorar o desempenho do processamento numérico da Julia. Para habilitar o recurso, digite no shell:\n",
    "\n",
    "```bash\n",
    "sudo gedit /etc/init.d/rc\n",
    "```\n",
    "Para evitar problemas, salve o arquivo original como **rc.back**, caso ocorra algum erro ou instabilidade do sistema. Procure as linhas **CONCURRENCY=makefile** e descomente, e comente a linha **#CONCURRENCY=none**. Veja o código abaixo:\n",
    "\n",
    "    # Check if we are able to use make like booting.  It require the\n",
    "    # insserv package to be enabled. Boot concurrency also requires\n",
    "    # startpar to be installed.\n",
    "    #\n",
    "    CONCURRENCY=makefile # descomente a linha\n",
    "    # disable startpar, incompatible with \"task\" upstart jobs\n",
    "    #CONCURRENCY=none   # comente a linha\n",
    "    \n",
    "Reinicie e veja a diferença :)"
   ]
  },
  {
   "cell_type": "code",
   "execution_count": null,
   "metadata": {
    "collapsed": true
   },
   "outputs": [],
   "source": []
  }
 ],
 "metadata": {
  "anaconda-cloud": {},
  "kernelspec": {
   "display_name": "Julia 1.0.2",
   "language": "julia",
   "name": "julia-1.0"
  },
  "language_info": {
   "file_extension": ".jl",
   "mimetype": "application/julia",
   "name": "julia",
   "version": "1.0.2"
  },
  "latex_envs": {
   "LaTeX_envs_menu_present": true,
   "autocomplete": true,
   "bibliofile": "biblio.bib",
   "cite_by": "apalike",
   "current_citInitial": 1,
   "eqLabelWithNumbers": true,
   "eqNumInitial": 1,
   "hotkeys": {
    "equation": "Ctrl-E",
    "itemize": "Ctrl-I"
   },
   "labels_anchors": false,
   "latex_user_defs": false,
   "report_style_numbering": false,
   "user_envs_cfg": false
  }
 },
 "nbformat": 4,
 "nbformat_minor": 1
}
