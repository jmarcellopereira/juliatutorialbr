{
 "cells": [
  {
   "cell_type": "markdown",
   "metadata": {
    "collapsed": true
   },
   "source": [
    "## PARALELISMO E CLUSTER"
   ]
  },
  {
   "cell_type": "markdown",
   "metadata": {},
   "source": [
    "### TRABALHAR COM CORES\n",
    "Para adicionar cores utilize:\n",
    "```julia\n",
    "addproces(n)\n",
    "```\n",
    "Sendo **n** o número de cores que deseja criar as instâncias. Uma boa dica é usar ``addroces()`` dessa forma Julia cria automaticamente o número de cores que melhor se ajusta à máquina."
   ]
  },
  {
   "cell_type": "code",
   "execution_count": 5,
   "metadata": {
    "collapsed": true
   },
   "outputs": [],
   "source": [
    "using Distributed"
   ]
  },
  {
   "cell_type": "code",
   "execution_count": 39,
   "metadata": {
    "collapsed": false,
    "scrolled": false
   },
   "outputs": [
    {
     "name": "stdout",
     "output_type": "stream",
     "text": [
      "Intel(R) Core(TM) i7-7700HQ CPU @ 2.80GHz: \n",
      "       speed         user         nice          sys         idle          irq\n",
      "#1  3346 MHz      13220 s         16 s       3009 s      77949 s          0 s\n",
      "#2  2622 MHz      12725 s         15 s       2394 s      58512 s          0 s\n",
      "#3  2903 MHz      11831 s         24 s       2266 s      59926 s          0 s\n",
      "#4  3304 MHz      12284 s         18 s       2254 s      59405 s          0 s\n",
      "#5  3372 MHz      11560 s         15 s       2060 s      59812 s          0 s\n",
      "#6  3310 MHz      11997 s         17 s       2044 s      59591 s          0 s\n",
      "#7  2336 MHz      12966 s         21 s       2043 s      58567 s          0 s\n",
      "#8  1997 MHz      11750 s         12 s       2172 s      59569 s          0 s\n"
     ]
    }
   ],
   "source": [
    "# visualizar o numero de cores do processador físico\n",
    "Sys.cpu_summary()"
   ]
  },
  {
   "cell_type": "code",
   "execution_count": 7,
   "metadata": {
    "collapsed": false,
    "scrolled": true
   },
   "outputs": [
    {
     "data": {
      "text/plain": [
       "1-element Array{Int64,1}:\n",
       " 1"
      ]
     },
     "execution_count": 7,
     "metadata": {},
     "output_type": "execute_result"
    }
   ],
   "source": [
    "# verificar o número de cores alocados e ID\n",
    "procs()"
   ]
  },
  {
   "cell_type": "code",
   "execution_count": 9,
   "metadata": {
    "collapsed": false,
    "scrolled": true
   },
   "outputs": [
    {
     "data": {
      "text/plain": [
       "8-element Array{Int64,1}:\n",
       "  4\n",
       "  5\n",
       "  6\n",
       "  7\n",
       "  8\n",
       "  9\n",
       " 10\n",
       " 11"
      ]
     },
     "execution_count": 9,
     "metadata": {},
     "output_type": "execute_result"
    }
   ],
   "source": [
    "# adicionar o numero de cores do computador\n",
    "addprocs()"
   ]
  },
  {
   "cell_type": "code",
   "execution_count": 10,
   "metadata": {
    "collapsed": false,
    "scrolled": true
   },
   "outputs": [
    {
     "name": "stderr",
     "output_type": "stream",
     "text": [
      "┌ Warning: rmprocs: process 1 not removed\n",
      "└ @ Distributed /buildworker/worker/package_linux64/build/usr/share/julia/stdlib/v1.0/Distributed/src/cluster.jl:932\n"
     ]
    },
    {
     "data": {
      "text/plain": [
       "Task (done) @0x00007f7571068a90"
      ]
     },
     "execution_count": 10,
     "metadata": {},
     "output_type": "execute_result"
    }
   ],
   "source": [
    "# remover cores rmprocs(ID_CORE)\n",
    "# para remover mais de um core use rmprocess([vetor_IDCORE])\n",
    "# Para remover todos os alocados use rmprocs(procs()) \n",
    "rmprocs(procs())"
   ]
  },
  {
   "cell_type": "code",
   "execution_count": 11,
   "metadata": {
    "collapsed": false
   },
   "outputs": [
    {
     "data": {
      "text/plain": [
       "1-element Array{Int64,1}:\n",
       " 1"
      ]
     },
     "execution_count": 11,
     "metadata": {},
     "output_type": "execute_result"
    }
   ],
   "source": [
    "procs()"
   ]
  },
  {
   "cell_type": "markdown",
   "metadata": {},
   "source": [
    "### PARALLEL FOR E  PARALLEL MAP\n",
    "\n",
    "Um loop for com um grande número de iterações e compreensões de lista, são melhores desempenhados com execução paralela através  da macro `@parallel`. Sintaxe:\n",
    "```julia\n",
    "@parallel (operador) for var = range\n",
    "    instruções\n",
    "end\n",
    "```"
   ]
  },
  {
   "cell_type": "code",
   "execution_count": 40,
   "metadata": {
    "collapsed": false
   },
   "outputs": [],
   "source": [
    "using BenchmarkTools"
   ]
  },
  {
   "cell_type": "markdown",
   "metadata": {},
   "source": [
    "**Função Somatório**"
   ]
  },
  {
   "cell_type": "code",
   "execution_count": 41,
   "metadata": {
    "collapsed": false,
    "scrolled": true
   },
   "outputs": [
    {
     "data": {
      "text/plain": [
       "serial_add (generic function with 1 method)"
      ]
     },
     "execution_count": 41,
     "metadata": {},
     "output_type": "execute_result"
    }
   ],
   "source": [
    "# Função Soma sem paralelismo\n",
    "# Laço for de uma soma de 1 a 1000000000\n",
    "# de números aleatórios\n",
    "\n",
    "function serial_add(n::Int64)\n",
    "    s = 0.0\n",
    "    for i = 1:n\n",
    "        s = s + randn()\n",
    "    end\n",
    "    return s\n",
    "end "
   ]
  },
  {
   "cell_type": "code",
   "execution_count": 42,
   "metadata": {
    "collapsed": false,
    "scrolled": false
   },
   "outputs": [
    {
     "data": {
      "text/plain": [
       "BenchmarkTools.Trial: \n",
       "  memory estimate:  0 bytes\n",
       "  allocs estimate:  0\n",
       "  --------------\n",
       "  minimum time:     4.134 s (0.00% GC)\n",
       "  median time:      4.212 s (0.00% GC)\n",
       "  mean time:        4.212 s (0.00% GC)\n",
       "  maximum time:     4.291 s (0.00% GC)\n",
       "  --------------\n",
       "  samples:          2\n",
       "  evals/sample:     1"
      ]
     },
     "execution_count": 42,
     "metadata": {},
     "output_type": "execute_result"
    }
   ],
   "source": [
    "# execute mais de uma vez\n",
    "@benchmark serial_add(1000000000)"
   ]
  },
  {
   "cell_type": "markdown",
   "metadata": {},
   "source": [
    "Preparando o paralelismo"
   ]
  },
  {
   "cell_type": "code",
   "execution_count": 45,
   "metadata": {
    "collapsed": false,
    "scrolled": false
   },
   "outputs": [
    {
     "data": {
      "text/plain": [
       "1-element Array{Int64,1}:\n",
       " 1"
      ]
     },
     "execution_count": 45,
     "metadata": {},
     "output_type": "execute_result"
    }
   ],
   "source": [
    "# verificar o número de processadores\n",
    "procs()"
   ]
  },
  {
   "cell_type": "code",
   "execution_count": 46,
   "metadata": {
    "collapsed": false
   },
   "outputs": [
    {
     "data": {
      "text/plain": [
       "8-element Array{Int64,1}:\n",
       " 10\n",
       " 11\n",
       " 12\n",
       " 13\n",
       " 14\n",
       " 15\n",
       " 16\n",
       " 17"
      ]
     },
     "execution_count": 46,
     "metadata": {},
     "output_type": "execute_result"
    }
   ],
   "source": [
    "addprocs()"
   ]
  },
  {
   "cell_type": "code",
   "execution_count": 47,
   "metadata": {
    "collapsed": false
   },
   "outputs": [
    {
     "data": {
      "text/plain": [
       "paralelo_add (generic function with 1 method)"
      ]
     },
     "execution_count": 47,
     "metadata": {},
     "output_type": "execute_result"
    }
   ],
   "source": [
    "# função paralela\n",
    "\n",
    "function paralelo_add(n::Int64)\n",
    "    \n",
    "  @distributed (+) for i = 1:n\n",
    "        randn()                  \n",
    "    end\n",
    "    \n",
    "end"
   ]
  },
  {
   "cell_type": "code",
   "execution_count": 48,
   "metadata": {
    "collapsed": false,
    "scrolled": false
   },
   "outputs": [
    {
     "data": {
      "text/plain": [
       "BenchmarkTools.Trial: \n",
       "  memory estimate:  67.81 KiB\n",
       "  allocs estimate:  816\n",
       "  --------------\n",
       "  minimum time:     912.697 ms (0.00% GC)\n",
       "  median time:      940.306 ms (0.00% GC)\n",
       "  mean time:        938.593 ms (0.00% GC)\n",
       "  maximum time:     957.156 ms (0.00% GC)\n",
       "  --------------\n",
       "  samples:          6\n",
       "  evals/sample:     1"
      ]
     },
     "execution_count": 48,
     "metadata": {},
     "output_type": "execute_result"
    }
   ],
   "source": [
    "# execute mais de uma vez\n",
    "@benchmark paralelo_add(1000000000)"
   ]
  },
  {
   "cell_type": "markdown",
   "metadata": {},
   "source": [
    "**Função alocação de dados em uma Matriz**"
   ]
  },
  {
   "cell_type": "code",
   "execution_count": 27,
   "metadata": {
    "collapsed": false
   },
   "outputs": [
    {
     "data": {
      "text/plain": [
       "alo_matriz2 (generic function with 1 method)"
      ]
     },
     "execution_count": 27,
     "metadata": {},
     "output_type": "execute_result"
    }
   ],
   "source": [
    "# Função sem paralelismo\n",
    "\n",
    "function alo_matriz2(n::Int64)\n",
    "    matriz = zeros(n, n)\n",
    "    for i = 1:n\n",
    "        for j = 1:n\n",
    "            matriz[i, j] = rand()*0.25\n",
    "        end\n",
    "    end\n",
    "    return matriz\n",
    "end"
   ]
  },
  {
   "cell_type": "code",
   "execution_count": 25,
   "metadata": {
    "collapsed": false
   },
   "outputs": [
    {
     "data": {
      "text/plain": [
       "BenchmarkTools.Trial: \n",
       "  memory estimate:  762.94 MiB\n",
       "  allocs estimate:  2\n",
       "  --------------\n",
       "  minimum time:     1.090 s (2.54% GC)\n",
       "  median time:      1.120 s (4.42% GC)\n",
       "  mean time:        1.128 s (3.70% GC)\n",
       "  maximum time:     1.195 s (4.70% GC)\n",
       "  --------------\n",
       "  samples:          5\n",
       "  evals/sample:     1"
      ]
     },
     "execution_count": 25,
     "metadata": {},
     "output_type": "execute_result"
    }
   ],
   "source": [
    "@benchmark alo_matriz2(10000)"
   ]
  },
  {
   "cell_type": "code",
   "execution_count": 52,
   "metadata": {
    "collapsed": false
   },
   "outputs": [
    {
     "name": "stderr",
     "output_type": "stream",
     "text": [
      "Worker 11 terminated.\n",
      "Worker 10 terminated.\n",
      "Worker 13 terminated.\n",
      "Worker 16 terminated.\n",
      "Worker 15 terminated.\n",
      "Worker 14 terminated.\n",
      "Worker 12 terminated.\n"
     ]
    }
   ],
   "source": [
    "GC.gc()"
   ]
  },
  {
   "cell_type": "code",
   "execution_count": 49,
   "metadata": {
    "collapsed": false,
    "scrolled": true
   },
   "outputs": [
    {
     "data": {
      "text/plain": [
       "alo_matriz1 (generic function with 1 method)"
      ]
     },
     "execution_count": 49,
     "metadata": {},
     "output_type": "execute_result"
    }
   ],
   "source": [
    "# Função paralela\n",
    "\n",
    "function alo_matriz1(n::Int64)\n",
    "    matriz = zeros(n, n)\n",
    "    @distributed for i = 1:n\n",
    "                for j = 1:n\n",
    "                    matriz[i, j] = rand()*0.25\n",
    "                end\n",
    "              end\n",
    "    return matriz\n",
    "end"
   ]
  },
  {
   "cell_type": "code",
   "execution_count": 50,
   "metadata": {
    "collapsed": false,
    "scrolled": false
   },
   "outputs": [
    {
     "ename": "OutOfMemoryError",
     "evalue": "OutOfMemoryError()",
     "output_type": "error",
     "traceback": [
      "OutOfMemoryError()",
      "",
      "Stacktrace:",
      " [1] Type at ./boot.jl:396 [inlined]",
      " [2] Type at ./boot.jl:404 [inlined]",
      " [3] zeros at ./array.jl:467 [inlined]",
      " [4] zeros at ./array.jl:465 [inlined]",
      " [5] zeros at ./array.jl:463 [inlined]",
      " [6] alo_matriz1(::Int64) at ./In[49]:4",
      " [7] ##core#390() at /home/jmarcellopereira/.julia/packages/BenchmarkTools/dtwnm/src/execution.jl:293",
      " [8] ##sample#391(::BenchmarkTools.Parameters) at /home/jmarcellopereira/.julia/packages/BenchmarkTools/dtwnm/src/execution.jl:301",
      " [9] sample at /home/jmarcellopereira/.julia/packages/BenchmarkTools/dtwnm/src/execution.jl:316 [inlined]",
      " [10] #_lineartrial#20(::Int64, ::Base.Iterators.Pairs{Union{},Union{},Tuple{},NamedTuple{(),Tuple{}}}, ::Function, ::BenchmarkTools.Benchmark{Symbol(\"##benchmark#389\")}, ::BenchmarkTools.Parameters) at /home/jmarcellopereira/.julia/packages/BenchmarkTools/dtwnm/src/execution.jl:71",
      " [11] _lineartrial(::BenchmarkTools.Benchmark{Symbol(\"##benchmark#389\")}, ::BenchmarkTools.Parameters) at /home/jmarcellopereira/.julia/packages/BenchmarkTools/dtwnm/src/execution.jl:63",
      " [12] #invokelatest#1 at ./essentials.jl:697 [inlined]",
      " [13] invokelatest at ./essentials.jl:696 [inlined]",
      " [14] #lineartrial#17 at /home/jmarcellopereira/.julia/packages/BenchmarkTools/dtwnm/src/execution.jl:33 [inlined]",
      " [15] lineartrial at /home/jmarcellopereira/.julia/packages/BenchmarkTools/dtwnm/src/execution.jl:33 [inlined]",
      " [16] #tune!#23(::Bool, ::String, ::Base.Iterators.Pairs{Union{},Union{},Tuple{},NamedTuple{(),Tuple{}}}, ::Function, ::BenchmarkTools.Benchmark{Symbol(\"##benchmark#389\")}, ::BenchmarkTools.Parameters) at /home/jmarcellopereira/.julia/packages/BenchmarkTools/dtwnm/src/execution.jl:135",
      " [17] tune! at /home/jmarcellopereira/.julia/packages/BenchmarkTools/dtwnm/src/execution.jl:134 [inlined] (repeats 2 times)",
      " [18] top-level scope at /home/jmarcellopereira/.julia/packages/BenchmarkTools/dtwnm/src/execution.jl:214",
      " [19] top-level scope at In[50]:1"
     ]
    }
   ],
   "source": [
    "@benchmark alo_matriz1(10000)"
   ]
  },
  {
   "cell_type": "code",
   "execution_count": 40,
   "metadata": {
    "collapsed": false
   },
   "outputs": [
    {
     "data": {
      "text/plain": [
       "0.223852437"
      ]
     },
     "execution_count": 40,
     "metadata": {},
     "output_type": "execute_result"
    }
   ],
   "source": [
    "@elapsed alo_matriz1(10000)"
   ]
  },
  {
   "cell_type": "code",
   "execution_count": 44,
   "metadata": {
    "collapsed": false
   },
   "outputs": [],
   "source": [
    "# use o garbage collector para remover o lixo da memória\n",
    "GC.gc()\n",
    "GC.gc()"
   ]
  },
  {
   "cell_type": "markdown",
   "metadata": {},
   "source": [
    "### ParallelAccelerator\n",
    "\n",
    "ParallelAccelerator é um pacote para acelerar programas de Julia voltados principalmente para o cálculo de matrizes e vetores. Através da macro `@acc` **ParallelAccelerator** compila partes do programa e elimina automaticamente funções desnecessárias e também paraleliza e vetoriza muitas operações de dados em paralelo. Além de acelerar o cálculo, `@acc` optimiza o consumo de memória, logo é muito útil para grandes matrizes. \n",
    "\n",
    "ParallelAccelerator é parte do projeto de script de alto desempenho (HPS) da Intel Labs. \n",
    "\n"
   ]
  },
  {
   "cell_type": "code",
   "execution_count": 51,
   "metadata": {
    "collapsed": false,
    "scrolled": true
   },
   "outputs": [
    {
     "name": "stdout",
     "output_type": "stream",
     "text": [
      "\u001b[32m\u001b[1m Resolving\u001b[22m\u001b[39m package versions...\n"
     ]
    },
    {
     "ename": "Pkg.Types.ResolverError",
     "evalue": "Unsatisfiable requirements detected for package CompilerTools [98f049d2]:\n CompilerTools [98f049d2] log:\n ├─possible versions are: [0.1.0-0.1.7, 0.2.0-0.2.1, 0.3.0-0.3.1] or uninstalled\n ├─restricted by compatibility requirements with ParallelAccelerator [ee84a2f6] to versions: [0.1.0-0.1.7, 0.2.0-0.2.1, 0.3.0-0.3.1]\n │ └─ParallelAccelerator [ee84a2f6] log:\n │   ├─possible versions are: [0.1.0-0.1.9, 0.2.0-0.2.2, 0.3.2] or uninstalled\n │   └─restricted to versions * by an explicit requirement, leaving only versions [0.1.0-0.1.9, 0.2.0-0.2.2, 0.3.2]\n └─restricted by julia compatibility requirements to versions: uninstalled — no versions left",
     "output_type": "error",
     "traceback": [
      "Unsatisfiable requirements detected for package CompilerTools [98f049d2]:\n CompilerTools [98f049d2] log:\n ├─possible versions are: [0.1.0-0.1.7, 0.2.0-0.2.1, 0.3.0-0.3.1] or uninstalled\n ├─restricted by compatibility requirements with ParallelAccelerator [ee84a2f6] to versions: [0.1.0-0.1.7, 0.2.0-0.2.1, 0.3.0-0.3.1]\n │ └─ParallelAccelerator [ee84a2f6] log:\n │   ├─possible versions are: [0.1.0-0.1.9, 0.2.0-0.2.2, 0.3.2] or uninstalled\n │   └─restricted to versions * by an explicit requirement, leaving only versions [0.1.0-0.1.9, 0.2.0-0.2.2, 0.3.2]\n └─restricted by julia compatibility requirements to versions: uninstalled — no versions left",
      "",
      "Stacktrace:",
      " [1] #propagate_constraints!#61(::Bool, ::Function, ::Pkg.GraphType.Graph, ::Set{Int64}) at /buildworker/worker/package_linux64/build/usr/share/julia/stdlib/v1.0/Pkg/src/GraphType.jl:1005",
      " [2] propagate_constraints! at /buildworker/worker/package_linux64/build/usr/share/julia/stdlib/v1.0/Pkg/src/GraphType.jl:946 [inlined]",
      " [3] #simplify_graph!#121(::Bool, ::Function, ::Pkg.GraphType.Graph, ::Set{Int64}) at /buildworker/worker/package_linux64/build/usr/share/julia/stdlib/v1.0/Pkg/src/GraphType.jl:1460",
      " [4] simplify_graph! at /buildworker/worker/package_linux64/build/usr/share/julia/stdlib/v1.0/Pkg/src/GraphType.jl:1460 [inlined] (repeats 2 times)",
      " [5] macro expansion at ./logging.jl:317 [inlined]",
      " [6] resolve_versions!(::Pkg.Types.Context, ::Array{Pkg.Types.PackageSpec,1}, ::Nothing) at /buildworker/worker/package_linux64/build/usr/share/julia/stdlib/v1.0/Pkg/src/Operations.jl:353",
      " [7] resolve_versions! at /buildworker/worker/package_linux64/build/usr/share/julia/stdlib/v1.0/Pkg/src/Operations.jl:316 [inlined]",
      " [8] #add_or_develop#62(::Array{Base.UUID,1}, ::Symbol, ::Function, ::Pkg.Types.Context, ::Array{Pkg.Types.PackageSpec,1}) at /buildworker/worker/package_linux64/build/usr/share/julia/stdlib/v1.0/Pkg/src/Operations.jl:1201",
      " [9] #add_or_develop at ./none:0 [inlined]",
      " [10] #add_or_develop#13(::Symbol, ::Bool, ::Base.Iterators.Pairs{Union{},Union{},Tuple{},NamedTuple{(),Tuple{}}}, ::Function, ::Pkg.Types.Context, ::Array{Pkg.Types.PackageSpec,1}) at /buildworker/worker/package_linux64/build/usr/share/julia/stdlib/v1.0/Pkg/src/API.jl:64",
      " [11] #add_or_develop at ./none:0 [inlined]",
      " [12] #add_or_develop#12 at /buildworker/worker/package_linux64/build/usr/share/julia/stdlib/v1.0/Pkg/src/API.jl:29 [inlined]",
      " [13] #add_or_develop at ./none:0 [inlined]",
      " [14] #add_or_develop#11 at /buildworker/worker/package_linux64/build/usr/share/julia/stdlib/v1.0/Pkg/src/API.jl:28 [inlined]",
      " [15] #add_or_develop at ./none:0 [inlined]",
      " [16] #add_or_develop#10 at /buildworker/worker/package_linux64/build/usr/share/julia/stdlib/v1.0/Pkg/src/API.jl:27 [inlined]",
      " [17] #add_or_develop at ./none:0 [inlined]",
      " [18] #add#18 at /buildworker/worker/package_linux64/build/usr/share/julia/stdlib/v1.0/Pkg/src/API.jl:69 [inlined]",
      " [19] add(::String) at /buildworker/worker/package_linux64/build/usr/share/julia/stdlib/v1.0/Pkg/src/API.jl:69",
      " [20] top-level scope at In[51]:1"
     ]
    }
   ],
   "source": [
    "Pkg.add(\"ParallelAccelerator\")"
   ]
  },
  {
   "cell_type": "code",
   "execution_count": null,
   "metadata": {
    "collapsed": true
   },
   "outputs": [],
   "source": [
    "using BenchmarkTools"
   ]
  },
  {
   "cell_type": "code",
   "execution_count": 23,
   "metadata": {
    "collapsed": true
   },
   "outputs": [],
   "source": [
    "NP(n) = [i^2 + j^3 + i^5 + j^7 + i^9 + j^11 for i = 1:n, j = 1:n];"
   ]
  },
  {
   "cell_type": "code",
   "execution_count": 24,
   "metadata": {
    "collapsed": false
   },
   "outputs": [
    {
     "data": {
      "text/plain": [
       "BenchmarkTools.Trial: \n",
       "  samples:          2\n",
       "  evals/sample:     1\n",
       "  time tolerance:   5.00%\n",
       "  memory tolerance: 1.00%\n",
       "  memory estimate:  762.94 mb\n",
       "  allocs estimate:  3\n",
       "  minimum time:     3.91 s (0.32% GC)\n",
       "  median time:      3.93 s (1.31% GC)\n",
       "  mean time:        3.93 s (1.31% GC)\n",
       "  maximum time:     3.96 s (2.29% GC)"
      ]
     },
     "execution_count": 24,
     "metadata": {},
     "output_type": "execute_result"
    }
   ],
   "source": [
    "@benchmark NP(10000)"
   ]
  },
  {
   "cell_type": "code",
   "execution_count": 25,
   "metadata": {
    "collapsed": true
   },
   "outputs": [],
   "source": [
    "# use o garbage collector para remover o lixo da memória\n",
    "gc()\n",
    "gc()"
   ]
  },
  {
   "cell_type": "code",
   "execution_count": 26,
   "metadata": {
    "collapsed": false
   },
   "outputs": [
    {
     "data": {
      "text/plain": [
       "5-element Array{Int64,1}:\n",
       "  1\n",
       " 10\n",
       " 11\n",
       " 12\n",
       " 13"
      ]
     },
     "execution_count": 26,
     "metadata": {},
     "output_type": "execute_result"
    }
   ],
   "source": [
    "# verificar os cores alocados. Se houver mais de um até o número de cores físicos OK.\n",
    "procs()"
   ]
  },
  {
   "cell_type": "code",
   "execution_count": 14,
   "metadata": {
    "collapsed": false,
    "scrolled": false
   },
   "outputs": [
    {
     "data": {
      "text/plain": [
       "4-element Array{Int64,1}:\n",
       " 6\n",
       " 7\n",
       " 8\n",
       " 9"
      ]
     },
     "execution_count": 14,
     "metadata": {},
     "output_type": "execute_result"
    }
   ],
   "source": [
    "# se houver apenas um cores execute\n",
    "addprocs()"
   ]
  },
  {
   "cell_type": "code",
   "execution_count": 104,
   "metadata": {
    "collapsed": false
   },
   "outputs": [
    {
     "name": "stderr",
     "output_type": "stream",
     "text": [
      "INFO: Nothing to be done\n",
      "INFO: METADATA is out-of-date — you may not have the latest version of ParallelAccelerator\n",
      "INFO: Use `Pkg.update()` to get the latest versions of your packages\n"
     ]
    }
   ],
   "source": [
    "Pkg.add(\"ParallelAccelerator\")"
   ]
  },
  {
   "cell_type": "code",
   "execution_count": 29,
   "metadata": {
    "collapsed": false
   },
   "outputs": [
    {
     "ename": "ArgumentError",
     "evalue": "ArgumentError: Package ParallelAccelerator not found in current path:\n- Run `import Pkg; Pkg.add(\"ParallelAccelerator\")` to install the ParallelAccelerator package.\n",
     "output_type": "error",
     "traceback": [
      "ArgumentError: Package ParallelAccelerator not found in current path:\n- Run `import Pkg; Pkg.add(\"ParallelAccelerator\")` to install the ParallelAccelerator package.\n",
      "",
      "Stacktrace:",
      " [1] require(::Module, ::Symbol) at ./loading.jl:823",
      " [2] top-level scope at In[29]:1"
     ]
    }
   ],
   "source": [
    "using ParallelAccelerator"
   ]
  },
  {
   "cell_type": "code",
   "execution_count": 30,
   "metadata": {
    "collapsed": false
   },
   "outputs": [
    {
     "ename": "LoadError",
     "evalue": "UndefVarError: @acc not defined",
     "output_type": "error",
     "traceback": [
      "UndefVarError: @acc not defined",
      ""
     ]
    }
   ],
   "source": [
    "@acc PA(n) = [i.^2 + j.^3 + i.^5 + j.^7 + i.^9 + j^.11 for i = 1:n, j = 1:n];"
   ]
  },
  {
   "cell_type": "code",
   "execution_count": 29,
   "metadata": {
    "collapsed": false,
    "scrolled": true
   },
   "outputs": [
    {
     "name": "stdout",
     "output_type": "stream",
     "text": [
      " 35.374035 seconds (26.60 M allocations: 1.831 GB, 1.86% gc time)\n",
      "elapsed time (ns): 35374034717\n",
      "gc time (ns):      656413004\n",
      "bytes allocated:   1965542385\n",
      "pool allocs:       26599117\n",
      "non-pool GC allocs:1370\n",
      "malloc() calls:    47\n",
      "GC pauses:         51\n",
      "full collections:  3\n"
     ]
    }
   ],
   "source": [
    "# execute sempre mais de uma vez para obter o melhor resultado\n",
    "@timev PA(10000);"
   ]
  },
  {
   "cell_type": "code",
   "execution_count": 30,
   "metadata": {
    "collapsed": true
   },
   "outputs": [],
   "source": [
    "# use o garbage collector para remover o lixo da memória\n",
    "gc()\n",
    "gc()"
   ]
  },
  {
   "cell_type": "markdown",
   "metadata": {},
   "source": [
    "### DistributedArrays"
   ]
  },
  {
   "cell_type": "code",
   "execution_count": 1,
   "metadata": {
    "collapsed": true
   },
   "outputs": [],
   "source": [
    "using BenchmarkTools"
   ]
  },
  {
   "cell_type": "code",
   "execution_count": 2,
   "metadata": {
    "collapsed": false
   },
   "outputs": [
    {
     "data": {
      "text/plain": [
       "array (generic function with 1 method)"
      ]
     },
     "execution_count": 2,
     "metadata": {},
     "output_type": "execute_result"
    }
   ],
   "source": [
    "function array(n)\n",
    "    return ([i^2 + j^3 + i^5 + j^7 + i^9 + j^11 for i = 1:n, j = 1:n]);\n",
    "end"
   ]
  },
  {
   "cell_type": "code",
   "execution_count": 18,
   "metadata": {
    "collapsed": false,
    "scrolled": false
   },
   "outputs": [
    {
     "data": {
      "text/plain": [
       "BenchmarkTools.Trial: \n",
       "  memory estimate:  373.84 MiB\n",
       "  allocs estimate:  2\n",
       "  --------------\n",
       "  minimum time:     891.679 ms (1.04% GC)\n",
       "  median time:      906.971 ms (3.34% GC)\n",
       "  mean time:        911.770 ms (3.17% GC)\n",
       "  maximum time:     938.516 ms (4.96% GC)\n",
       "  --------------\n",
       "  samples:          6\n",
       "  evals/sample:     1"
      ]
     },
     "execution_count": 18,
     "metadata": {},
     "output_type": "execute_result"
    }
   ],
   "source": [
    "@benchmark array(7000)"
   ]
  },
  {
   "cell_type": "code",
   "execution_count": 19,
   "metadata": {
    "collapsed": true
   },
   "outputs": [],
   "source": [
    "# use o garbage collector para remover o lixo da memória\n",
    "GC.gc()\n",
    "GC.gc()"
   ]
  },
  {
   "cell_type": "markdown",
   "metadata": {},
   "source": [
    "![Execução Sem Paralelismo](Figuras/Arrays-sem-paralelismo.png)"
   ]
  },
  {
   "cell_type": "markdown",
   "metadata": {},
   "source": [
    "Antes de executar o código é necesário verificar se há outros cores disponíveis. Caso exista somente 1, é necessário adicionar novos cores e vincular o `DistributedArrays` ao macro `@everywhere` seguindo a ordem:\n",
    "\n",
    "    1º adicione os cores addprocs(n*)\n",
    "    2º use @everywhere using DistributedArrays\n",
    "    3º execute o código com o macro @Darray \n",
    "**n** corresponde ao número de cores. Utilizando `addprocs()`(o mesmo que usar ``addprocs(Sys.CPU_CORES)``) Julia cria automaticamente o número de cores que melhor se ajustam à máquina. Sempre execute uma segunda vez o código, a primeira tem péssimo desempenho.\n",
    "\n",
    "Caso execute novamente `addprocs(n)` e depois `@Darray`, os cores novos serão eliminados da lista de processos e será utilizado somente os cores vinculados ao macro `@everywhere`. "
   ]
  },
  {
   "cell_type": "code",
   "execution_count": 7,
   "metadata": {
    "collapsed": true
   },
   "outputs": [],
   "source": [
    "using Distributed"
   ]
  },
  {
   "cell_type": "code",
   "execution_count": 8,
   "metadata": {
    "collapsed": false,
    "scrolled": true
   },
   "outputs": [
    {
     "ename": "UndefVarError",
     "evalue": "UndefVarError: CPU_CORES not defined",
     "output_type": "error",
     "traceback": [
      "UndefVarError: CPU_CORES not defined",
      "",
      "Stacktrace:",
      " [1] getproperty(::Module, ::Symbol) at ./sysimg.jl:13",
      " [2] top-level scope at In[8]:1"
     ]
    }
   ],
   "source": [
    "# visualizar o numero de cores do processador físico\n",
    "Sys.CPU_CORES"
   ]
  },
  {
   "cell_type": "code",
   "execution_count": 9,
   "metadata": {
    "collapsed": false,
    "scrolled": false
   },
   "outputs": [
    {
     "data": {
      "text/plain": [
       "1-element Array{Int64,1}:\n",
       " 1"
      ]
     },
     "execution_count": 9,
     "metadata": {},
     "output_type": "execute_result"
    }
   ],
   "source": [
    "# verificar o número de cores disponíveis e ID\n",
    "procs()"
   ]
  },
  {
   "cell_type": "code",
   "execution_count": 10,
   "metadata": {
    "collapsed": false
   },
   "outputs": [
    {
     "data": {
      "text/plain": [
       "8-element Array{Int64,1}:\n",
       " 2\n",
       " 3\n",
       " 4\n",
       " 5\n",
       " 6\n",
       " 7\n",
       " 8\n",
       " 9"
      ]
     },
     "execution_count": 10,
     "metadata": {},
     "output_type": "execute_result"
    }
   ],
   "source": [
    "# adiciona automaticanente a melhor quantidade de acordo com a quantidade de cores disponíveisa\n",
    "addprocs()"
   ]
  },
  {
   "cell_type": "code",
   "execution_count": 11,
   "metadata": {
    "collapsed": false,
    "scrolled": true
   },
   "outputs": [],
   "source": [
    "# vincular aos cores\n",
    "@everywhere using DistributedArrays"
   ]
  },
  {
   "cell_type": "code",
   "execution_count": 20,
   "metadata": {
    "collapsed": false
   },
   "outputs": [
    {
     "data": {
      "text/plain": [
       "Darray (generic function with 1 method)"
      ]
     },
     "execution_count": 20,
     "metadata": {},
     "output_type": "execute_result"
    }
   ],
   "source": [
    "function Darray(n)\n",
    "    return @DArray ([i^2 + j^3 + i^5 + j^7 + i^9 + j^11 for i = 1:n, j = 1:n]);\n",
    "end"
   ]
  },
  {
   "cell_type": "code",
   "execution_count": 21,
   "metadata": {
    "collapsed": false,
    "scrolled": true
   },
   "outputs": [
    {
     "data": {
      "text/plain": [
       "BenchmarkTools.Trial: \n",
       "  memory estimate:  95.61 KiB\n",
       "  allocs estimate:  1054\n",
       "  --------------\n",
       "  minimum time:     216.889 ms (0.00% GC)\n",
       "  median time:      276.754 ms (0.00% GC)\n",
       "  mean time:        271.786 ms (0.00% GC)\n",
       "  maximum time:     365.115 ms (0.00% GC)\n",
       "  --------------\n",
       "  samples:          19\n",
       "  evals/sample:     1"
      ]
     },
     "execution_count": 21,
     "metadata": {},
     "output_type": "execute_result"
    }
   ],
   "source": [
    "@benchmark  Darray(7000)"
   ]
  },
  {
   "cell_type": "markdown",
   "metadata": {},
   "source": [
    "![](Figuras/Arrays-com-paralelismo.png)"
   ]
  },
  {
   "cell_type": "code",
   "execution_count": 22,
   "metadata": {
    "collapsed": true
   },
   "outputs": [],
   "source": [
    "# use o garbage collector para remover o lixo da memória\n",
    "GC.gc()\n",
    "GC.gc()"
   ]
  },
  {
   "cell_type": "code",
   "execution_count": 23,
   "metadata": {
    "collapsed": false
   },
   "outputs": [
    {
     "name": "stderr",
     "output_type": "stream",
     "text": [
      "┌ Warning: rmprocs: process 1 not removed\n",
      "└ @ Distributed /buildworker/worker/package_linux64/build/usr/share/julia/stdlib/v1.0/Distributed/src/cluster.jl:932\n"
     ]
    },
    {
     "data": {
      "text/plain": [
       "Task (done) @0x00007f3201443730"
      ]
     },
     "execution_count": 23,
     "metadata": {},
     "output_type": "execute_result"
    }
   ],
   "source": [
    "#remover os nucleos alocados \n",
    "rmprocs(procs())"
   ]
  },
  {
   "cell_type": "markdown",
   "metadata": {
    "collapsed": true
   },
   "source": [
    "## CLUSTER"
   ]
  },
  {
   "cell_type": "code",
   "execution_count": null,
   "metadata": {
    "collapsed": true
   },
   "outputs": [],
   "source": []
  }
 ],
 "metadata": {
  "anaconda-cloud": {},
  "kernelspec": {
   "display_name": "Julia 1.0.2",
   "language": "julia",
   "name": "julia-1.0"
  },
  "language_info": {
   "file_extension": ".jl",
   "mimetype": "application/julia",
   "name": "julia",
   "version": "1.0.2"
  },
  "latex_envs": {
   "LaTeX_envs_menu_present": true,
   "autocomplete": true,
   "bibliofile": "biblio.bib",
   "cite_by": "apalike",
   "current_citInitial": 1,
   "eqLabelWithNumbers": true,
   "eqNumInitial": 1,
   "hotkeys": {
    "equation": "Ctrl-E",
    "itemize": "Ctrl-I"
   },
   "labels_anchors": false,
   "latex_user_defs": false,
   "report_style_numbering": false,
   "user_envs_cfg": false
  }
 },
 "nbformat": 4,
 "nbformat_minor": 1
}
