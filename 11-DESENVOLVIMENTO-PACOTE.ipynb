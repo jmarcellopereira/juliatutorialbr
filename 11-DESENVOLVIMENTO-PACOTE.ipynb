{
 "cells": [
  {
   "cell_type": "markdown",
   "metadata": {},
   "source": [
    "# DESENVOLVIMENTO DE UM PACOTE\n",
    "\n",
    "A linguagem de programação Julia é relativamente jovem (surgiu em 2012) e ainda possui \"poucos\" pacotes desenvolvidos quando comparada com Python, R , MatLab e Fortran. Dessa forma, muitos desenvolvedores e/ou pesquisadores poderão passar pela necessidade de criar seus próprios pacotes para fins específicos. Diferente dessas linguagens citadas, o desenvolvimento e disponibilidade de um pacote na internet é prático e ainda pode ser agregados outros pacotes ao projeto desenvolvido. Para criar um pacote na linguagem Julia é necessário no mínimo uma pasta com o nome do pacote no diretório `.Julia` contendo os seguintes arquivos e pastas: \n",
    "- Pasta `src` : Contém os códigos fontes do pacote\n",
    "- Pasta `test`: Contém os códigos de testes do pacote\n",
    "- Arquivo markdown `LICENSE.md`: Arquivo contendo a licença de uso e informações sobre os direitos autorais listando os autores do pacote.\n",
    "- Arquivo markdown `README.md`: Informações gerais sobre o pacote\t"
   ]
  },
  {
   "cell_type": "markdown",
   "metadata": {},
   "source": [
    "## PACOTE LOCAL\n",
    "\n",
    "Vamos criar um pacote que calcula a área e volume de um cilindro passado o raio da base e altura como argumentos. Será criado três funções: \n",
    " - Função 'area lateral' : Calcula a área lateral do cilindro dado ao raio da base e altura.\n",
    " - Função 'area total' : Soma a área lateral com duas vezes a área da base do cilindro\n",
    " - Função 'area base cilindro' : Calcula a área da base circular do cilindro\n",
    " - Função 'volume cilindro' : Calcula o volume do cilindro multiplicando a área da base com a altura.\n",
    "\n",
    " \n",
    "Antes, devemos instalar o pacote `PkgDev`:\n",
    "```julia\n",
    "using Pkg\n",
    "Pkg.add(\"PkgDev\")\n",
    "```\n",
    "Os nomes dos pacotes devem iniciar em maiúsculo, sem espaços, sem acentos e caracteres especiais."
   ]
  },
  {
   "cell_type": "markdown",
   "metadata": {},
   "source": [
    "Quando executado , PkgDev informa: \n",
    "\n",
    "\n",
    "`INFO: Precompiling module PkgDev.`\n",
    "\n",
    "`WARNING: PkgDev.jl is not configured. Please, run `PkgDev.config()` before performing any operations.`"
   ]
  },
  {
   "cell_type": "markdown",
   "metadata": {},
   "source": [
    "**Configurando o `PkgDev` **\n",
    "\n",
    "A função `PkgDev.config()` configura os dados do desenvolvedor para inserir na licensa de uso.\n",
    "```\n",
    "User name: \"Nome usuário\"\n",
    "User email: \"Email do usuário\"\n",
    "GitHub user: \"Nome de usuário do GitHub\"\n",
    "```\n",
    "Após insirir os dados confirme com \"y\". Para alterar os dados existentes basta executar novamente `PkgDev.config()` e teclar \"y\" no campo `\"Do you want to change this configuration? [N]:\"`."
   ]
  },
  {
   "cell_type": "code",
   "execution_count": 4,
   "metadata": {
    "collapsed": false
   },
   "outputs": [
    {
     "name": "stdout",
     "output_type": "stream",
     "text": [
      "\u001b[32m\u001b[1m Resolving\u001b[22m\u001b[39m package versions...\n"
     ]
    },
    {
     "ename": "Pkg.Types.ResolverError",
     "evalue": "Unsatisfiable requirements detected for package PkgDev [149e707d]:\n PkgDev [149e707d] log:\n ├─possible versions are: [0.1.0-0.1.6, 0.2.0-0.2.1] or uninstalled\n ├─restricted to versions * by an explicit requirement, leaving only versions [0.1.0-0.1.6, 0.2.0-0.2.1]\n └─restricted by julia compatibility requirements to versions: uninstalled — no versions left",
     "output_type": "error",
     "traceback": [
      "Unsatisfiable requirements detected for package PkgDev [149e707d]:\n PkgDev [149e707d] log:\n ├─possible versions are: [0.1.0-0.1.6, 0.2.0-0.2.1] or uninstalled\n ├─restricted to versions * by an explicit requirement, leaving only versions [0.1.0-0.1.6, 0.2.0-0.2.1]\n └─restricted by julia compatibility requirements to versions: uninstalled — no versions left",
      "",
      "Stacktrace:",
      " [1] #propagate_constraints!#61(::Bool, ::Function, ::Pkg.GraphType.Graph, ::Set{Int64}) at /buildworker/worker/package_linux64/build/usr/share/julia/stdlib/v1.0/Pkg/src/GraphType.jl:1005",
      " [2] propagate_constraints! at /buildworker/worker/package_linux64/build/usr/share/julia/stdlib/v1.0/Pkg/src/GraphType.jl:946 [inlined]",
      " [3] #simplify_graph!#121(::Bool, ::Function, ::Pkg.GraphType.Graph, ::Set{Int64}) at /buildworker/worker/package_linux64/build/usr/share/julia/stdlib/v1.0/Pkg/src/GraphType.jl:1460",
      " [4] simplify_graph! at /buildworker/worker/package_linux64/build/usr/share/julia/stdlib/v1.0/Pkg/src/GraphType.jl:1460 [inlined] (repeats 2 times)",
      " [5] macro expansion at ./logging.jl:317 [inlined]",
      " [6] resolve_versions!(::Pkg.Types.Context, ::Array{Pkg.Types.PackageSpec,1}, ::Nothing) at /buildworker/worker/package_linux64/build/usr/share/julia/stdlib/v1.0/Pkg/src/Operations.jl:353",
      " [7] resolve_versions! at /buildworker/worker/package_linux64/build/usr/share/julia/stdlib/v1.0/Pkg/src/Operations.jl:316 [inlined]",
      " [8] #add_or_develop#62(::Array{Base.UUID,1}, ::Symbol, ::Function, ::Pkg.Types.Context, ::Array{Pkg.Types.PackageSpec,1}) at /buildworker/worker/package_linux64/build/usr/share/julia/stdlib/v1.0/Pkg/src/Operations.jl:1201",
      " [9] #add_or_develop at ./none:0 [inlined]",
      " [10] #add_or_develop#13(::Symbol, ::Bool, ::Base.Iterators.Pairs{Union{},Union{},Tuple{},NamedTuple{(),Tuple{}}}, ::Function, ::Pkg.Types.Context, ::Array{Pkg.Types.PackageSpec,1}) at /buildworker/worker/package_linux64/build/usr/share/julia/stdlib/v1.0/Pkg/src/API.jl:64",
      " [11] #add_or_develop at ./none:0 [inlined]",
      " [12] #add_or_develop#12 at /buildworker/worker/package_linux64/build/usr/share/julia/stdlib/v1.0/Pkg/src/API.jl:29 [inlined]",
      " [13] #add_or_develop at ./none:0 [inlined]",
      " [14] #add_or_develop#11 at /buildworker/worker/package_linux64/build/usr/share/julia/stdlib/v1.0/Pkg/src/API.jl:28 [inlined]",
      " [15] #add_or_develop at ./none:0 [inlined]",
      " [16] #add_or_develop#10 at /buildworker/worker/package_linux64/build/usr/share/julia/stdlib/v1.0/Pkg/src/API.jl:27 [inlined]",
      " [17] #add_or_develop at ./none:0 [inlined]",
      " [18] #add#18 at /buildworker/worker/package_linux64/build/usr/share/julia/stdlib/v1.0/Pkg/src/API.jl:69 [inlined]",
      " [19] add(::String) at /buildworker/worker/package_linux64/build/usr/share/julia/stdlib/v1.0/Pkg/src/API.jl:69",
      " [20] top-level scope at In[4]:1"
     ]
    }
   ],
   "source": [
    "import Pkg; Pkg.add(\"PkgDev\")"
   ]
  },
  {
   "cell_type": "code",
   "execution_count": 5,
   "metadata": {
    "collapsed": false
   },
   "outputs": [
    {
     "ename": "ArgumentError",
     "evalue": "ArgumentError: Package PkgDev not found in current path:\n- Run `import Pkg; Pkg.add(\"PkgDev\")` to install the PkgDev package.\n",
     "output_type": "error",
     "traceback": [
      "ArgumentError: Package PkgDev not found in current path:\n- Run `import Pkg; Pkg.add(\"PkgDev\")` to install the PkgDev package.\n",
      "",
      "Stacktrace:",
      " [1] require(::Module, ::Symbol) at ./loading.jl:823",
      " [2] top-level scope at In[5]:1"
     ]
    }
   ],
   "source": [
    "using PkgDev"
   ]
  },
  {
   "cell_type": "code",
   "execution_count": 25,
   "metadata": {
    "collapsed": false
   },
   "outputs": [
    {
     "name": "stderr",
     "output_type": "stream",
     "text": [
      "┌ Info: new environment will be placed at /home/jmarcellopereira/teste\n",
      "└ @ Pkg.API /buildworker/worker/package_linux64/build/usr/share/julia/stdlib/v1.0/Pkg/src/API.jl:575\n"
     ]
    },
    {
     "data": {
      "text/plain": [
       "\"/home/jmarcellopereira/teste\""
      ]
     },
     "execution_count": 25,
     "metadata": {},
     "output_type": "execute_result"
    }
   ],
   "source": [
    "Pkg.activate(\"/home/jmarcellopereira/teste\")"
   ]
  },
  {
   "cell_type": "code",
   "execution_count": 26,
   "metadata": {
    "collapsed": false
   },
   "outputs": [
    {
     "name": "stdout",
     "output_type": "stream",
     "text": [
      "/run/media/jmarcellopereira/COISAS/jmarcello/ESTUDOS/COMPUTACAO-CIENTIFICA-NOTEBOOKS/JULIA/git_julia/julia-tutorial-niveis-6/juliatutorialbr-v6-nivel-2/teste\n"
     ]
    }
   ],
   "source": [
    ";cd \"teste\""
   ]
  },
  {
   "cell_type": "code",
   "execution_count": 34,
   "metadata": {
    "collapsed": false,
    "scrolled": true
   },
   "outputs": [
    {
     "data": {
      "text/markdown": [
       "```\n",
       "Pkg.develop(pkg::Union{String, Vector{String})\n",
       "Pkg.develop(pkgs::Union{Packagespec, Vector{Packagespec}})\n",
       "```\n",
       "\n",
       "Make a package available for development by tracking it by path. If `pkg` is given with only a name or by a URL the packages will be downloaded to the location by the environment variable `JULIA_PKG_DEVDIR` with `.julia/dev` as the default.\n",
       "\n",
       "If `pkg` is given as a local path, the package at that path will be tracked.\n",
       "\n",
       "# Examples\n",
       "\n",
       "```julia\n",
       "# By name\n",
       "Pkg.develop(\"Example\")\n",
       "\n",
       "# By url\n",
       "Pkg.develop(PackageSpec(url=\"https://github.com/JuliaLang/Compat.jl\", rev=\"master\"))\n",
       "\n",
       "# By path (also uses url keyword to PackageSpec)\n",
       "Pkg.develop(PackageSpec(url=\"MyJuliaPackages/Package.jl\")\n",
       "```\n",
       "\n",
       "See also [`PackageSpec`](@ref)\n"
      ],
      "text/plain": [
       "\u001b[36m  Pkg.develop(pkg::Union{String, Vector{String})\u001b[39m\n",
       "\u001b[36m  Pkg.develop(pkgs::Union{Packagespec, Vector{Packagespec}})\u001b[39m\n",
       "\n",
       "  Make a package available for development by tracking it by path. If \u001b[36mpkg\u001b[39m is\n",
       "  given with only a name or by a URL the packages will be downloaded to the\n",
       "  location by the environment variable \u001b[36mJULIA_PKG_DEVDIR\u001b[39m with \u001b[36m.julia/dev\u001b[39m as the\n",
       "  default.\n",
       "\n",
       "  If \u001b[36mpkg\u001b[39m is given as a local path, the package at that path will be tracked.\n",
       "\n",
       "\u001b[1m  Examples\u001b[22m\n",
       "\u001b[1m  ≡≡≡≡≡≡≡≡≡≡\u001b[22m\n",
       "\n",
       "\u001b[36m  # By name\u001b[39m\n",
       "\u001b[36m  Pkg.develop(\"Example\")\u001b[39m\n",
       "\u001b[36m  \u001b[39m\n",
       "\u001b[36m  # By url\u001b[39m\n",
       "\u001b[36m  Pkg.develop(PackageSpec(url=\"https://github.com/JuliaLang/Compat.jl\", rev=\"master\"))\u001b[39m\n",
       "\u001b[36m  \u001b[39m\n",
       "\u001b[36m  # By path (also uses url keyword to PackageSpec)\u001b[39m\n",
       "\u001b[36m  Pkg.develop(PackageSpec(url=\"MyJuliaPackages/Package.jl\")\u001b[39m\n",
       "\n",
       "  See also \u001b[36mPackageSpec\u001b[39m"
      ]
     },
     "execution_count": 34,
     "metadata": {},
     "output_type": "execute_result"
    }
   ],
   "source": [
    "?Pkg.develop"
   ]
  },
  {
   "cell_type": "markdown",
   "metadata": {},
   "source": [
    "**Gerando o Pacote**\n",
    "\n",
    "A função `PkgDev.generate()` cria um repositório git no disco local para o novo pacote e dentro dele é criado as pastas `src(códigos fontes do pacote)` e `test(códigos de testes do pacote)` e os arquivos `LICENSE.md`, `README.md`, REQUIRE e outros. As licença de software podem ser: \"MIT\", \"BSD\", \"ASL\", \"MPL\", \"GPL-2.0+\", \"GPL-3.0+\", \"LGPL-2.1+ `LGPL-3.0+` e a escolha depende do projeto do desenvolvedor. Em geral a licença mais utilizada a \"MIT\" ou \"GPL\". Veja no anexo XX mais informações sobre as licenças de software. Sintaxe:\n",
    "```julia\n",
    "PkgDev.generate(\"NomePacote\",\"MIT\")\n",
    "\n",
    "```"
   ]
  },
  {
   "cell_type": "code",
   "execution_count": 3,
   "metadata": {
    "collapsed": false
   },
   "outputs": [
    {
     "name": "stdout",
     "output_type": "stream",
     "text": [
      "\u001b[32m\u001b[1m  Updating\u001b[22m\u001b[39m registry at `~/.julia/registries/General`\n",
      "\u001b[32m\u001b[1m  Updating\u001b[22m\u001b[39m git-repo `https://github.com/JuliaRegistries/General.git`\n",
      "\u001b[?25l\u001b[2K\u001b[?25h\u001b[32m\u001b[1m Resolving\u001b[22m\u001b[39m package versions...\n"
     ]
    },
    {
     "ename": "Pkg.Types.ResolverError",
     "evalue": "Unsatisfiable requirements detected for package PkgDev [149e707d]:\n PkgDev [149e707d] log:\n ├─possible versions are: [0.1.0-0.1.6, 0.2.0-0.2.1] or uninstalled\n ├─restricted to versions * by an explicit requirement, leaving only versions [0.1.0-0.1.6, 0.2.0-0.2.1]\n └─restricted by julia compatibility requirements to versions: uninstalled — no versions left",
     "output_type": "error",
     "traceback": [
      "Unsatisfiable requirements detected for package PkgDev [149e707d]:\n PkgDev [149e707d] log:\n ├─possible versions are: [0.1.0-0.1.6, 0.2.0-0.2.1] or uninstalled\n ├─restricted to versions * by an explicit requirement, leaving only versions [0.1.0-0.1.6, 0.2.0-0.2.1]\n └─restricted by julia compatibility requirements to versions: uninstalled — no versions left",
      "",
      "Stacktrace:",
      " [1] #propagate_constraints!#61(::Bool, ::Function, ::Pkg.GraphType.Graph, ::Set{Int64}) at /buildworker/worker/package_linux64/build/usr/share/julia/stdlib/v1.0/Pkg/src/GraphType.jl:1005",
      " [2] propagate_constraints! at /buildworker/worker/package_linux64/build/usr/share/julia/stdlib/v1.0/Pkg/src/GraphType.jl:946 [inlined]",
      " [3] #simplify_graph!#121(::Bool, ::Function, ::Pkg.GraphType.Graph, ::Set{Int64}) at /buildworker/worker/package_linux64/build/usr/share/julia/stdlib/v1.0/Pkg/src/GraphType.jl:1460",
      " [4] simplify_graph! at /buildworker/worker/package_linux64/build/usr/share/julia/stdlib/v1.0/Pkg/src/GraphType.jl:1460 [inlined] (repeats 2 times)",
      " [5] macro expansion at ./logging.jl:317 [inlined]",
      " [6] resolve_versions!(::Pkg.Types.Context, ::Array{Pkg.Types.PackageSpec,1}, ::Nothing) at /buildworker/worker/package_linux64/build/usr/share/julia/stdlib/v1.0/Pkg/src/Operations.jl:353",
      " [7] resolve_versions! at /buildworker/worker/package_linux64/build/usr/share/julia/stdlib/v1.0/Pkg/src/Operations.jl:316 [inlined]",
      " [8] #add_or_develop#62(::Array{Base.UUID,1}, ::Symbol, ::Function, ::Pkg.Types.Context, ::Array{Pkg.Types.PackageSpec,1}) at /buildworker/worker/package_linux64/build/usr/share/julia/stdlib/v1.0/Pkg/src/Operations.jl:1201",
      " [9] #add_or_develop at ./none:0 [inlined]",
      " [10] #add_or_develop#13(::Symbol, ::Bool, ::Base.Iterators.Pairs{Union{},Union{},Tuple{},NamedTuple{(),Tuple{}}}, ::Function, ::Pkg.Types.Context, ::Array{Pkg.Types.PackageSpec,1}) at /buildworker/worker/package_linux64/build/usr/share/julia/stdlib/v1.0/Pkg/src/API.jl:64",
      " [11] #add_or_develop at ./none:0 [inlined]",
      " [12] #add_or_develop#12 at /buildworker/worker/package_linux64/build/usr/share/julia/stdlib/v1.0/Pkg/src/API.jl:29 [inlined]",
      " [13] #add_or_develop at ./none:0 [inlined]",
      " [14] #add_or_develop#11 at /buildworker/worker/package_linux64/build/usr/share/julia/stdlib/v1.0/Pkg/src/API.jl:28 [inlined]",
      " [15] #add_or_develop at ./none:0 [inlined]",
      " [16] #add_or_develop#10 at /buildworker/worker/package_linux64/build/usr/share/julia/stdlib/v1.0/Pkg/src/API.jl:27 [inlined]",
      " [17] #add_or_develop at ./none:0 [inlined]",
      " [18] #add#18 at /buildworker/worker/package_linux64/build/usr/share/julia/stdlib/v1.0/Pkg/src/API.jl:69 [inlined]",
      " [19] add(::String) at /buildworker/worker/package_linux64/build/usr/share/julia/stdlib/v1.0/Pkg/src/API.jl:69",
      " [20] top-level scope at In[3]:1"
     ]
    }
   ],
   "source": [
    "import Pkg; Pkg.add(\"PkgDev\")"
   ]
  },
  {
   "cell_type": "code",
   "execution_count": 2,
   "metadata": {
    "collapsed": false,
    "scrolled": true
   },
   "outputs": [
    {
     "ename": "ArgumentError",
     "evalue": "ArgumentError: Package PkgDev not found in current path:\n- Run `import Pkg; Pkg.add(\"PkgDev\")` to install the PkgDev package.\n",
     "output_type": "error",
     "traceback": [
      "ArgumentError: Package PkgDev not found in current path:\n- Run `import Pkg; Pkg.add(\"PkgDev\")` to install the PkgDev package.\n",
      "",
      "Stacktrace:",
      " [1] require(::Module, ::Symbol) at ./loading.jl:823",
      " [2] top-level scope at In[2]:1"
     ]
    }
   ],
   "source": [
    "using PkgDev\n",
    "\n",
    "PkgDev.generate(\"CalCL1\",\"MIT\")"
   ]
  },
  {
   "cell_type": "markdown",
   "metadata": {},
   "source": [
    "**Configurando o novo pacote**"
   ]
  },
  {
   "cell_type": "markdown",
   "metadata": {},
   "source": [
    "Entre na pasta `/home/nome_usuario/.julia/v0.6.x/CalCL` (Linux) ou `C:\\Users\\usuario\\.julia\\v0.6.x` (Windows) e veja que todos os arquivos gerados estão dentro desta pasta:\n",
    "\n",
    "- LICENSE.md\n",
    "- README.md\n",
    "- src/CalCL1.jl\n",
    "- test/runtests.jl\n",
    "- REQUIRE\n",
    "- .gitignore\n",
    "- .travis.yml\n",
    "- appveyor.yml\n",
    "- .codecov.yml"
   ]
  },
  {
   "cell_type": "markdown",
   "metadata": {},
   "source": [
    "Vamos agora criar um novo arquivo contendo uma função extra que será importada pelo importada pelo módulo principal (CalCL.jl). Na pasta `src`, crie o arquivo `areaBC.jl` e cole o código abaixo:\n",
    "```julia\n",
    "##################### início codigo ########################\n",
    "#calcular área da base do cilindro\n",
    "function areaBC(r)\n",
    "    return pi.*r.^2    # o ponto serve para calcular arrays\n",
    "end\n",
    "######################### fim código #######################\n",
    "```"
   ]
  },
  {
   "cell_type": "markdown",
   "metadata": {},
   "source": [
    "O próximo passo é inserir o código principal no arquivo `CalCL.jl`. Ao abrir este arquivo, há somente o código abaixo:\n",
    "<img src=\"Figuras/CalcCL.png\" align=\"center\" width=\"500\">\n",
    "\n",
    "Apague o conteúdo do arquivo. Copie o código abaixo (código definitivo do pacote) e cole no arquivo `CalCL.jl`.\n",
    "\n",
    "```julia\n",
    "##################### início codigo ########################\n",
    "module CalCL\n",
    "\n",
    "# O código do pacote\n",
    "\n",
    "export arealateral\n",
    "export volcilindro\n",
    "\n",
    "#importa a função área base do cilindro do script areaBC.jl\n",
    "include(\"areaBC.jl\")\n",
    "\n",
    "function arealateral(raio, altura)\n",
    "    return  2.*pi.*raio.*altura\n",
    "end\n",
    "\n",
    "function areatotal(raio, altura)\n",
    "    println(\"Área total:\")\n",
    "    return arealateral(raio, altura) + 2.*areaBC(raio)\n",
    "end\n",
    "\n",
    "function volcilindro(raio, altura)\n",
    "    area_base = areaBC(raio)\n",
    "    println(\"Volume do Cilindro\")\n",
    "    return  area_base.*altura\n",
    "end\n",
    "\n",
    "end\n",
    "######################### fim código #######################\n",
    "\n",
    "```\n"
   ]
  },
  {
   "cell_type": "markdown",
   "metadata": {},
   "source": [
    "O projeto está pronto! Agora é só importar o pacote:"
   ]
  },
  {
   "cell_type": "code",
   "execution_count": 2,
   "metadata": {
    "collapsed": false
   },
   "outputs": [
    {
     "ename": "ArgumentError",
     "evalue": "ArgumentError: Package CalCL not found in current path:\n- Run `Pkg.add(\"CalCL\")` to install the CalCL package.\n",
     "output_type": "error",
     "traceback": [
      "ArgumentError: Package CalCL not found in current path:\n- Run `Pkg.add(\"CalCL\")` to install the CalCL package.\n",
      "",
      "Stacktrace:",
      " [1] require(::Module, ::Symbol) at ./loading.jl:817",
      " [2] top-level scope at In[2]:1"
     ]
    }
   ],
   "source": [
    "using CalCL"
   ]
  },
  {
   "cell_type": "code",
   "execution_count": 2,
   "metadata": {
    "collapsed": false
   },
   "outputs": [
    {
     "name": "stdout",
     "output_type": "stream",
     "text": [
      "Volume do Cilindro\n"
     ]
    },
    {
     "data": {
      "text/plain": [
       "12.566370614359172"
      ]
     },
     "execution_count": 2,
     "metadata": {},
     "output_type": "execute_result"
    }
   ],
   "source": [
    "# valor numerico\n",
    "volcilindro(2, 1)"
   ]
  },
  {
   "cell_type": "code",
   "execution_count": 3,
   "metadata": {
    "collapsed": false,
    "scrolled": true
   },
   "outputs": [
    {
     "name": "stdout",
     "output_type": "stream",
     "text": [
      "Volume do Cilindro\n"
     ]
    },
    {
     "data": {
      "text/plain": [
       "3-element Array{Float64,1}:\n",
       "  0.0   \n",
       " 12.5664\n",
       " 56.5487"
      ]
     },
     "execution_count": 3,
     "metadata": {},
     "output_type": "execute_result"
    }
   ],
   "source": [
    "# passando vetores\n",
    "volcilindro([1, 2, 3],[0, 1, 2])"
   ]
  },
  {
   "cell_type": "code",
   "execution_count": 4,
   "metadata": {
    "collapsed": false
   },
   "outputs": [
    {
     "data": {
      "text/plain": [
       "12.566370614359172"
      ]
     },
     "execution_count": 4,
     "metadata": {},
     "output_type": "execute_result"
    }
   ],
   "source": [
    "arealateral(2, 1)"
   ]
  },
  {
   "cell_type": "markdown",
   "metadata": {},
   "source": [
    "As funções `areatotal()` e `areaBC` não foram \"exportadas\" pelo comando `export` como ocorreu com as outras funções, dessa forma não funcionam diretamente. Isto foi feito de proprósito para demonstrar essa característica. Para funcionar é necessário utilizar `CalcCL.areatotal(valor_raio,valor_altura)` e `CalCL.areaBC(valor_raio)`"
   ]
  },
  {
   "cell_type": "code",
   "execution_count": 6,
   "metadata": {
    "collapsed": false
   },
   "outputs": [
    {
     "ename": "LoadError",
     "evalue": "LoadError: UndefVarError: areatotal not defined\nwhile loading In[6], in expression starting on line 1",
     "output_type": "error",
     "traceback": [
      "LoadError: UndefVarError: areatotal not defined\nwhile loading In[6], in expression starting on line 1",
      ""
     ]
    }
   ],
   "source": [
    "areatotal(2, 1) "
   ]
  },
  {
   "cell_type": "code",
   "execution_count": 7,
   "metadata": {
    "collapsed": false
   },
   "outputs": [
    {
     "ename": "LoadError",
     "evalue": "LoadError: UndefVarError: areaBC not defined\nwhile loading In[7], in expression starting on line 1",
     "output_type": "error",
     "traceback": [
      "LoadError: UndefVarError: areaBC not defined\nwhile loading In[7], in expression starting on line 1",
      ""
     ]
    }
   ],
   "source": [
    "areaBC(2)"
   ]
  },
  {
   "cell_type": "code",
   "execution_count": 8,
   "metadata": {
    "collapsed": false
   },
   "outputs": [
    {
     "name": "stdout",
     "output_type": "stream",
     "text": [
      "Área total:\n"
     ]
    },
    {
     "data": {
      "text/plain": [
       "37.69911184307752"
      ]
     },
     "execution_count": 8,
     "metadata": {},
     "output_type": "execute_result"
    }
   ],
   "source": [
    "CalCL.areatotal(2, 1)"
   ]
  },
  {
   "cell_type": "code",
   "execution_count": 9,
   "metadata": {
    "collapsed": false,
    "scrolled": true
   },
   "outputs": [
    {
     "data": {
      "text/plain": [
       "12.566370614359172"
      ]
     },
     "execution_count": 9,
     "metadata": {},
     "output_type": "execute_result"
    }
   ],
   "source": [
    "CalCL.areaBC(2)"
   ]
  },
  {
   "cell_type": "markdown",
   "metadata": {},
   "source": [
    "Os arquivos `TestePacote.jl e areaBC.jl` podem ter o conteúdo alterado. Depois, basta restartar o kernel e importar novamente."
   ]
  },
  {
   "cell_type": "markdown",
   "metadata": {},
   "source": [
    "## PUBLICANDO O PACOTE NO GITHUB"
   ]
  },
  {
   "cell_type": "markdown",
   "metadata": {},
   "source": [
    "Para publicar no GitHub é necessário ter uma conta no serviço e um repositório criado. O repositório criado deve ter o mesmo nome do pacote a ser enviado (CalCL)."
   ]
  },
  {
   "cell_type": "markdown",
   "metadata": {},
   "source": [
    "Acesse via terminal a pasta do pacote: \n",
    "```sh\n",
    "cd ~/.julia/v0.5/CalCL\n",
    "```\n",
    "\n",
    "Adicionar todos os arquivos e pastas que serão enviados. Observe que há um ponto depois do `add`.\n",
    "```sh\n",
    "git add .\n",
    "```\n",
    "\n",
    "Se fizer alguma alteração no código após adiciondo os arquivos, realize o commit para salvar tudo que foi realizado\n",
    "```sh\n",
    "git commit -m \"ok\"\n",
    "```\n",
    "\n",
    "Adicionar o repositório remoto\n",
    "```sh\n",
    "git remote add origin https://github.com/jmarcellopereira/CalCL.jl.git\n",
    "```\n",
    "\n",
    "Enviar os arquivos. Será pedido o nome de usuário e senha\n",
    "```sh\n",
    "git push -u origin master\n",
    "```\n",
    "```sh\n",
    "Username for 'https://github.com': jmarcellopereira\n",
    "```\n",
    "```sh\n",
    "Password for 'https://jmarcellopereira@github.com': ******\n",
    "```\n",
    "Feito isto, aparecerá os arquivos no repositório do `GitHub`\n",
    "\n",
    "Antes de instalar via `Pkg.clone()` o pacote deve ser removido do disco pois a pasta e os arquivos clonados são os mesmos do pacote local. Para isto use: `Pkg.rm(\"CalCL\")`."
   ]
  },
  {
   "cell_type": "code",
   "execution_count": 5,
   "metadata": {
    "collapsed": false
   },
   "outputs": [
    {
     "name": "stderr",
     "output_type": "stream",
     "text": [
      "\u001b[1m\u001b[34mINFO: Removing CalCL (unregistered)\n",
      "\u001b[0m"
     ]
    }
   ],
   "source": [
    "Pkg.rm(\"CalCL\")"
   ]
  },
  {
   "cell_type": "code",
   "execution_count": 11,
   "metadata": {
    "collapsed": false
   },
   "outputs": [
    {
     "name": "stderr",
     "output_type": "stream",
     "text": [
      "\u001b[1m\u001b[34mINFO: Cloning CalCL from https://github.com/jmarcellopereira/CalCL.jl\n",
      "\u001b[0m"
     ]
    },
    {
     "ename": "LoadError",
     "evalue": "CalCL already exists",
     "output_type": "error",
     "traceback": [
      "CalCL already exists",
      "",
      " in clone(::String, ::SubString{String}) at ./pkg/entry.jl:193",
      " in (::Base.Pkg.Dir.##2#3{Array{Any,1},Base.Pkg.Entry.#clone,Tuple{String}})() at ./pkg/dir.jl:31",
      " in cd(::Base.Pkg.Dir.##2#3{Array{Any,1},Base.Pkg.Entry.#clone,Tuple{String}}, ::String) at ./file.jl:59",
      " in #cd#1(::Array{Any,1}, ::Function, ::Function, ::String, ::Vararg{Any,N}) at ./pkg/dir.jl:31",
      " in clone(::String) at ./pkg/pkg.jl:151"
     ]
    }
   ],
   "source": [
    "Pkg.clone(\"https://github.com/jmarcellopereira/CalCL.jl\")"
   ]
  },
  {
   "cell_type": "code",
   "execution_count": 12,
   "metadata": {
    "collapsed": true
   },
   "outputs": [],
   "source": [
    "using CalCL"
   ]
  },
  {
   "cell_type": "code",
   "execution_count": 18,
   "metadata": {
    "collapsed": false
   },
   "outputs": [
    {
     "data": {
      "text/plain": [
       "12.566370614359172"
      ]
     },
     "execution_count": 18,
     "metadata": {},
     "output_type": "execute_result"
    }
   ],
   "source": [
    "arealateral(1,2)"
   ]
  },
  {
   "cell_type": "code",
   "execution_count": 19,
   "metadata": {
    "collapsed": false
   },
   "outputs": [
    {
     "name": "stdout",
     "output_type": "stream",
     "text": [
      "Volume do Cilindro\n"
     ]
    },
    {
     "data": {
      "text/plain": [
       "6.283185307179586"
      ]
     },
     "execution_count": 19,
     "metadata": {},
     "output_type": "execute_result"
    }
   ],
   "source": [
    "volcilindro(1,2)"
   ]
  },
  {
   "cell_type": "code",
   "execution_count": 20,
   "metadata": {
    "collapsed": false
   },
   "outputs": [
    {
     "name": "stdout",
     "output_type": "stream",
     "text": [
      "Área total:\n"
     ]
    },
    {
     "data": {
      "text/plain": [
       "12.566370614359172"
      ]
     },
     "execution_count": 20,
     "metadata": {},
     "output_type": "execute_result"
    }
   ],
   "source": [
    "CalCL.areatotal(1,1)"
   ]
  },
  {
   "cell_type": "markdown",
   "metadata": {},
   "source": [
    "Após fazer o clone do projeto, é possível alterar o pacote e reenviar para o $GitHub$ novamente com os comandos anteriores."
   ]
  },
  {
   "cell_type": "code",
   "execution_count": null,
   "metadata": {
    "collapsed": true
   },
   "outputs": [],
   "source": []
  }
 ],
 "metadata": {
  "anaconda-cloud": {},
  "kernelspec": {
   "display_name": "Julia 1.0.2",
   "language": "julia",
   "name": "julia-1.0"
  },
  "language_info": {
   "file_extension": ".jl",
   "mimetype": "application/julia",
   "name": "julia",
   "version": "1.0.2"
  },
  "latex_envs": {
   "LaTeX_envs_menu_present": true,
   "autocomplete": true,
   "bibliofile": "biblio.bib",
   "cite_by": "apalike",
   "current_citInitial": 1,
   "eqLabelWithNumbers": true,
   "eqNumInitial": 1,
   "hotkeys": {
    "equation": "Ctrl-E",
    "itemize": "Ctrl-I"
   },
   "labels_anchors": false,
   "latex_user_defs": false,
   "report_style_numbering": false,
   "user_envs_cfg": false
  }
 },
 "nbformat": 4,
 "nbformat_minor": 1
}
