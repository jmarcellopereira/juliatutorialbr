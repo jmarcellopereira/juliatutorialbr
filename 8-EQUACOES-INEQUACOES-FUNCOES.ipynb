{
 "cells": [
  {
   "cell_type": "markdown",
   "metadata": {
    "collapsed": true
   },
   "source": [
    "# EQUAÇÕES, INEQUAÇÕES E FUNÇÕES#"
   ]
  },
  {
   "cell_type": "markdown",
   "metadata": {},
   "source": [
    "De acordo com o dicionario matemático disponível em \"http://www.somatematica.com.br/dicionarioMatematico\" temos que:\n",
    "\n",
    "**Equação:** Expressão algébrica indicada por uma igualdade, onde há valores desconhecidos expressos por letras (incógnitas). Logo, todo conjunto de expressões no qual há uma igualdade cuja(s) incógita(s) satisfaçam a um conjunto limitado de soluções, então temos uma equação. \n",
    "\n",
    "Ex: $x + 2 =0$, $xy - 2x = 2$, $x^2 + y^2 =2^2$.\n",
    "\n",
    "**Inequação:** Desigualdade verificada a determinado(s) valor(es) atribuídos à variável. Uma inequação é uma equação no qual há uma desigualdade do tipo <, >, >=, =< ou #. \n",
    "\n",
    "Ex: $x + 2 > 0,xy - 2x < 2, x^2 + y^2 + 2^2 $.\n",
    "\n",
    "**Função:** É uma correspondência unívoca entre dois conjuntos em que a cada elemento do primeiro conjunto corresponde a um e somente um elemento do segundo. Dessa forma, temos que uma função é uma relação entre das variáveis, sendo uma dependente e outra independente. \n",
    "\n",
    "Ex: $y(x) = x + 2, z = xy - 2x, f(x) = x^2 + y^2$\n"
   ]
  },
  {
   "cell_type": "markdown",
   "metadata": {},
   "source": [
    "## EQUAÇÕES ##"
   ]
  },
  {
   "cell_type": "code",
   "execution_count": 9,
   "metadata": {
    "collapsed": false
   },
   "outputs": [
    {
     "data": {
      "text/plain": [
       "(x,y)"
      ]
     },
     "execution_count": 9,
     "metadata": {},
     "output_type": "execute_result"
    }
   ],
   "source": [
    "using SymPy\n",
    "\n",
    "@vars x,y \n",
    "\n",
    "# ou @syms ou x,y = Sym(\"x,y\")"
   ]
  },
  {
   "cell_type": "code",
   "execution_count": 58,
   "metadata": {
    "collapsed": false
   },
   "outputs": [
    {
     "data": {
      "text/plain": [
       "3"
      ]
     },
     "execution_count": 58,
     "metadata": {},
     "output_type": "execute_result"
    }
   ],
   "source": [
    "exp1 = 2^x; x = 3"
   ]
  },
  {
   "cell_type": "code",
   "execution_count": 59,
   "metadata": {
    "collapsed": false,
    "scrolled": true
   },
   "outputs": [
    {
     "data": {
      "text/plain": [
       "8"
      ]
     },
     "execution_count": 59,
     "metadata": {},
     "output_type": "execute_result"
    }
   ],
   "source": [
    "eval(exp1)"
   ]
  },
  {
   "cell_type": "markdown",
   "metadata": {},
   "source": [
    "Outra forma"
   ]
  },
  {
   "cell_type": "code",
   "execution_count": 67,
   "metadata": {
    "collapsed": false
   },
   "outputs": [
    {
     "data": {
      "text/latex": [
       "$$8.0$$"
      ],
      "text/plain": [
       "8.00000000000000"
      ]
     },
     "execution_count": 67,
     "metadata": {},
     "output_type": "execute_result"
    }
   ],
   "source": [
    "evalf(2^y, subs=Dict([(y,3)]))"
   ]
  },
  {
   "cell_type": "markdown",
   "metadata": {},
   "source": [
    "Ou sem o uso do SymPy - uso de uma variável sem declarar como simbólico"
   ]
  },
  {
   "cell_type": "code",
   "execution_count": 2,
   "metadata": {
    "collapsed": false
   },
   "outputs": [
    {
     "data": {
      "text/plain": [
       "3"
      ]
     },
     "execution_count": 2,
     "metadata": {},
     "output_type": "execute_result"
    }
   ],
   "source": [
    "exp2 = :(2^w)\n",
    "\n",
    "w = 3"
   ]
  },
  {
   "cell_type": "code",
   "execution_count": 3,
   "metadata": {
    "collapsed": false
   },
   "outputs": [
    {
     "data": {
      "text/plain": [
       "8"
      ]
     },
     "execution_count": 3,
     "metadata": {},
     "output_type": "execute_result"
    }
   ],
   "source": [
    "eval(exp2)"
   ]
  },
  {
   "cell_type": "markdown",
   "metadata": {},
   "source": [
    "## INEQUAÇÕES ## "
   ]
  },
  {
   "cell_type": "code",
   "execution_count": 44,
   "metadata": {
    "collapsed": true
   },
   "outputs": [],
   "source": [
    "using SymPy"
   ]
  },
  {
   "cell_type": "code",
   "execution_count": 4,
   "metadata": {
    "collapsed": false
   },
   "outputs": [
    {
     "data": {
      "text/plain": [
       "(x,y)"
      ]
     },
     "execution_count": 4,
     "metadata": {},
     "output_type": "execute_result"
    }
   ],
   "source": [
    "@vars x y \n",
    "\n",
    "# ou @syms ou x,y = Sym(\"x,y\")"
   ]
  },
  {
   "cell_type": "code",
   "execution_count": 49,
   "metadata": {
    "collapsed": false
   },
   "outputs": [
    {
     "data": {
      "text/latex": [
       "$$x - 5 \\geq 5$$"
      ],
      "text/plain": [
       "x - 5 >= 5"
      ]
     },
     "metadata": {},
     "output_type": "display_data"
    },
    {
     "data": {
      "text/latex": [
       "$$x + y \\leq 0$$"
      ],
      "text/plain": [
       "x + y <= 0"
      ]
     },
     "metadata": {},
     "output_type": "display_data"
    }
   ],
   "source": [
    "ineq1 = x - 5 >= 5\n",
    "\n",
    "ineq2 = x + y <= 0\n",
    "\n",
    "display(ineq1)\n",
    "display(ineq2)"
   ]
  },
  {
   "cell_type": "code",
   "execution_count": 47,
   "metadata": {
    "collapsed": false
   },
   "outputs": [
    {
     "data": {
      "text/plain": [
       "false"
      ]
     },
     "execution_count": 47,
     "metadata": {},
     "output_type": "execute_result"
    }
   ],
   "source": [
    "ineq1 == ineq2"
   ]
  },
  {
   "cell_type": "markdown",
   "metadata": {},
   "source": [
    "## FUNÇÕES##\n",
    "\n",
    "**Simbólicas, Genéricas e Anônimas**"
   ]
  },
  {
   "cell_type": "markdown",
   "metadata": {},
   "source": [
    "### FUNÇÕES MATEMÁTICAS SIMBÓLICAS###\n",
    "\n",
    "Funções Simbólicas são..não use a forma ** F(X) = EXPRESSAO **, esta é a forma da função genérica"
   ]
  },
  {
   "cell_type": "markdown",
   "metadata": {},
   "source": [
    "#### FUNÇÃO DE UMA VARIÁVEL ####"
   ]
  },
  {
   "cell_type": "code",
   "execution_count": 2,
   "metadata": {
    "collapsed": false
   },
   "outputs": [
    {
     "data": {
      "text/plain": [
       "(x,y)"
      ]
     },
     "execution_count": 2,
     "metadata": {},
     "output_type": "execute_result"
    }
   ],
   "source": [
    "using SymPy\n",
    "\n",
    "@vars x,y\n",
    "\n",
    "# ou @syms ou x,y = Sym(\"x,y\")"
   ]
  },
  {
   "cell_type": "code",
   "execution_count": 3,
   "metadata": {
    "collapsed": false
   },
   "outputs": [
    {
     "data": {
      "text/latex": [
       "$$x^{2} + 1$$"
      ],
      "text/plain": [
       " 2    \n",
       "x  + 1"
      ]
     },
     "execution_count": 3,
     "metadata": {},
     "output_type": "execute_result"
    }
   ],
   "source": [
    "f = x^2 + 1"
   ]
  },
  {
   "cell_type": "code",
   "execution_count": 22,
   "metadata": {
    "collapsed": false
   },
   "outputs": [
    {
     "data": {
      "text/plain": [
       "SymPy.Sym"
      ]
     },
     "execution_count": 22,
     "metadata": {},
     "output_type": "execute_result"
    }
   ],
   "source": [
    "typeof(f)"
   ]
  },
  {
   "cell_type": "code",
   "execution_count": 23,
   "metadata": {
    "collapsed": false
   },
   "outputs": [
    {
     "name": "stdout",
     "output_type": "stream",
     "text": [
      "                          Base  26780 KB     Module\n",
      "                       BinDeps    206 KB     Module\n",
      "                    ColorTypes    223 KB     Module\n",
      "                        Colors    554 KB     Module\n",
      "                        Compat    197 KB     Module\n",
      "                         Conda     64 KB     Module\n",
      "                          Core   3286 KB     Module\n",
      "             FixedPointNumbers     33 KB     Module\n",
      "               FixedSizeArrays    129 KB     Module\n",
      "                        IJulia    348 KB     Module\n",
      "                IPythonDisplay     43 KB     Module\n",
      "                          JSON    201 KB     Module\n",
      "                 JuliaBoxUtils   8972 bytes  Module\n",
      "                    MacroTools    162 KB     Module\n",
      "                          Main  35859 KB     Module\n",
      "                        Nettle     59 KB     Module\n",
      "                         Plots   1536 KB     Module\n",
      "                        PyCall    416 KB     Module\n",
      "                      Reexport   3628 bytes  Module\n",
      "                      Requires     32 KB     Module\n",
      "                           SHA     49 KB     Module\n",
      "                         SymPy   2681 KB     Module\n",
      "                     URIParser     93 KB     Module\n",
      "                           ZMQ     82 KB     Module\n",
      "                      __META__     10 KB     ObjectIdDict with 4 entries\n",
      "                             f     16 bytes  SymPy.Sym\n",
      "                           fa1    252 bytes  Function\n",
      "                     ffiboR_JL   1514 bytes  Function\n",
      "                    fmetbissec     11 KB     Function\n",
      "                             g    629 bytes  Function\n",
      "                     metbissec   2282 bytes  Function\n",
      "                             x     16 bytes  SymPy.Sym\n"
     ]
    }
   ],
   "source": [
    "# observe a criação da função f como simbolica(SymPy.Sym)\n",
    "\n",
    "whos()"
   ]
  },
  {
   "cell_type": "markdown",
   "metadata": {},
   "source": [
    "Observe que o comando Whos() informa que \"F\" e \"f\" são diferentes. \"F\" é uma função e \"f\" é uma expressão simbólica"
   ]
  },
  {
   "cell_type": "code",
   "execution_count": 69,
   "metadata": {
    "collapsed": false
   },
   "outputs": [
    {
     "data": {
      "text/latex": [
       "$$5$$"
      ],
      "text/plain": [
       "5"
      ]
     },
     "metadata": {},
     "output_type": "display_data"
    },
    {
     "data": {
      "text/latex": [
       "$$1 + \\pi^{2}$$"
      ],
      "text/plain": [
       "      2\n",
       "1 + pi "
      ]
     },
     "metadata": {},
     "output_type": "display_data"
    },
    {
     "data": {
      "text/plain": [
       "10.869604401089358"
      ]
     },
     "metadata": {},
     "output_type": "display_data"
    },
    {
     "data": {
      "text/plain": [
       "10.869604401089358"
      ]
     },
     "metadata": {},
     "output_type": "display_data"
    }
   ],
   "source": [
    "display(f(2))\n",
    "\n",
    "display(f(pi))\n",
    "\n",
    "display(float(f(pi)))\n",
    "\n",
    "display(N(f(pi)))"
   ]
  },
  {
   "cell_type": "code",
   "execution_count": 4,
   "metadata": {
    "collapsed": false
   },
   "outputs": [
    {
     "data": {
      "text/latex": [
       "$$x^{3} + 1$$"
      ],
      "text/plain": [
       " 3    \n",
       "x  + 1"
      ]
     },
     "execution_count": 4,
     "metadata": {},
     "output_type": "execute_result"
    }
   ],
   "source": [
    "g = x^3 + 1"
   ]
  },
  {
   "cell_type": "code",
   "execution_count": 5,
   "metadata": {
    "collapsed": false
   },
   "outputs": [
    {
     "data": {
      "text/latex": [
       "$$x^{3} + x^{2} + 2$$"
      ],
      "text/plain": [
       " 3    2    \n",
       "x  + x  + 2"
      ]
     },
     "execution_count": 5,
     "metadata": {},
     "output_type": "execute_result"
    }
   ],
   "source": [
    "g + f"
   ]
  },
  {
   "cell_type": "markdown",
   "metadata": {},
   "source": [
    "#### FUNÇÃO DE DUAS VARIÁVEIS f(x,y) ####"
   ]
  },
  {
   "cell_type": "code",
   "execution_count": 6,
   "metadata": {
    "collapsed": false
   },
   "outputs": [
    {
     "data": {
      "text/plain": [
       "(x,y)"
      ]
     },
     "execution_count": 6,
     "metadata": {},
     "output_type": "execute_result"
    }
   ],
   "source": [
    "using SymPy\n",
    "\n",
    "@syms x,y\n",
    "\n",
    "# ou @vars ou x,y = Sym(\"x,y\")"
   ]
  },
  {
   "cell_type": "code",
   "execution_count": 4,
   "metadata": {
    "collapsed": false,
    "scrolled": true
   },
   "outputs": [
    {
     "data": {
      "text/latex": [
       "$$x y - x + y$$"
      ],
      "text/plain": [
       "x*y - x + y"
      ]
     },
     "execution_count": 4,
     "metadata": {},
     "output_type": "execute_result"
    }
   ],
   "source": [
    "fxy = x*y - x + y"
   ]
  },
  {
   "cell_type": "code",
   "execution_count": 5,
   "metadata": {
    "collapsed": false
   },
   "outputs": [
    {
     "data": {
      "text/latex": [
       "$$1$$"
      ],
      "text/plain": [
       "1"
      ]
     },
     "execution_count": 5,
     "metadata": {},
     "output_type": "execute_result"
    }
   ],
   "source": [
    "fxy(0,1)"
   ]
  },
  {
   "cell_type": "code",
   "execution_count": 6,
   "metadata": {
    "collapsed": false
   },
   "outputs": [
    {
     "data": {
      "text/latex": [
       "$$x^{3} + x y + y^{3}$$"
      ],
      "text/plain": [
       " 3          3\n",
       "x  + x*y + y "
      ]
     },
     "execution_count": 6,
     "metadata": {},
     "output_type": "execute_result"
    }
   ],
   "source": [
    "gxy = x^3 + y^3 + x*y"
   ]
  },
  {
   "cell_type": "markdown",
   "metadata": {
    "collapsed": true
   },
   "source": [
    "#### AS VARIAS FORMAS DE CALCULAR A FUNÇÃO SIMBÓLICA A PARTIR DE UM VETOR OU MATRIZ  ####"
   ]
  },
  {
   "cell_type": "markdown",
   "metadata": {},
   "source": [
    "* ** Usando o comando map **"
   ]
  },
  {
   "cell_type": "code",
   "execution_count": 10,
   "metadata": {
    "collapsed": false
   },
   "outputs": [
    {
     "data": {
      "text/latex": [
       "$$\\frac{\\sqrt{2 x + \\cos^{3}{\\left (x \\right )}}}{\\sin{\\left (x^{2} + 1 \\right )}}$$"
      ],
      "text/plain": [
       "   _______________\n",
       "  /          3    \n",
       "\\/  2*x + cos (x) \n",
       "------------------\n",
       "      / 2    \\    \n",
       "   sin\\x  + 1/    "
      ]
     },
     "execution_count": 10,
     "metadata": {},
     "output_type": "execute_result"
    }
   ],
   "source": [
    "using SymPy\n",
    "\n",
    "@syms x\n",
    "# ou @syms ou x = Sym(\"x\")\n",
    "\n",
    "fsimv = sqrt(2*x + cos(x)^3)/sin(x^2+1)"
   ]
  },
  {
   "cell_type": "code",
   "execution_count": 8,
   "metadata": {
    "collapsed": false,
    "scrolled": true
   },
   "outputs": [
    {
     "data": {
      "text/plain": [
       "4-element Array{Float64,1}:\n",
       "  1.1884 \n",
       "  1.61545\n",
       " -2.0668 \n",
       " -4.12246"
      ]
     },
     "execution_count": 8,
     "metadata": {},
     "output_type": "execute_result"
    }
   ],
   "source": [
    "x = 0:3\n",
    "\n",
    "N(map(fsimv,x)) \n",
    "# N() escreve o resultado na forma numérica"
   ]
  },
  {
   "cell_type": "code",
   "execution_count": 12,
   "metadata": {
    "collapsed": false
   },
   "outputs": [
    {
     "data": {
      "text/plain": [
       "-3.3854136841642637"
      ]
     },
     "execution_count": 12,
     "metadata": {},
     "output_type": "execute_result"
    }
   ],
   "source": [
    "# utilizando uma função simbolica para calcular os valores de 0 a 2*pi somar os resultados\n",
    "\n",
    "N(mapreduce(fsimv, +, 0:3))"
   ]
  },
  {
   "cell_type": "markdown",
   "metadata": {},
   "source": [
    "* ** Usando o comando Eval **"
   ]
  },
  {
   "cell_type": "code",
   "execution_count": 11,
   "metadata": {
    "collapsed": false,
    "scrolled": true
   },
   "outputs": [
    {
     "data": {
      "text/plain": [
       "4-element Array{Float64,1}:\n",
       "  1.1884 \n",
       "  1.61545\n",
       " -2.0668 \n",
       " -4.12246"
      ]
     },
     "execution_count": 11,
     "metadata": {},
     "output_type": "execute_result"
    }
   ],
   "source": [
    "x = 0:3\n",
    "\n",
    "SymPy.eval(sqrt(2.*x + cos(x).^3)./sin(x.^2+1))"
   ]
  },
  {
   "cell_type": "markdown",
   "metadata": {},
   "source": [
    "* ** Função direta **"
   ]
  },
  {
   "cell_type": "code",
   "execution_count": 39,
   "metadata": {
    "collapsed": false,
    "scrolled": true
   },
   "outputs": [
    {
     "data": {
      "text/plain": [
       "4-element Array{Float64,1}:\n",
       "  1.1884 \n",
       "  1.61545\n",
       " -2.0668 \n",
       " -4.12246"
      ]
     },
     "execution_count": 39,
     "metadata": {},
     "output_type": "execute_result"
    }
   ],
   "source": [
    "x = 0:3\n",
    "\n",
    "sqrt(2.*x + cos(x).^3)./sin(x.^2+1)"
   ]
  },
  {
   "cell_type": "markdown",
   "metadata": {},
   "source": []
  },
  {
   "cell_type": "markdown",
   "metadata": {},
   "source": [
    "### FUNÇÕES GENÉRICAS ###\n",
    "\n",
    "As funções genéricas não apresentam variáveis simbolicas definidas pelo SymPy. Usam a seguinte sintaxe:\n",
    "\n",
    "**nome_funcao**(variável ou variáveis) = **expressão_da_função**\n",
    "\n",
    "Sendo a \"expressão_da_função\" uma expressão em função de uma ou mais variáveis."
   ]
  },
  {
   "cell_type": "code",
   "execution_count": 38,
   "metadata": {
    "collapsed": true
   },
   "outputs": [],
   "source": [
    "# resetar todas as variáveis\n",
    "\n",
    "workspace()"
   ]
  },
  {
   "cell_type": "code",
   "execution_count": 18,
   "metadata": {
    "collapsed": false,
    "scrolled": true
   },
   "outputs": [
    {
     "data": {
      "text/plain": [
       "F (generic function with 1 method)"
      ]
     },
     "execution_count": 18,
     "metadata": {},
     "output_type": "execute_result"
    }
   ],
   "source": [
    "# criando a função genérica F(x)\n",
    "\n",
    "F(x) = x^2 + 2*x + 1"
   ]
  },
  {
   "cell_type": "code",
   "execution_count": 19,
   "metadata": {
    "collapsed": false
   },
   "outputs": [
    {
     "data": {
      "text/plain": [
       "G (generic function with 1 method)"
      ]
     },
     "execution_count": 19,
     "metadata": {},
     "output_type": "execute_result"
    }
   ],
   "source": [
    "# criando a função genérica G(x)\n",
    "\n",
    "G(x) = x^3 + 2*x^2 + x + 1"
   ]
  },
  {
   "cell_type": "code",
   "execution_count": 20,
   "metadata": {
    "collapsed": false
   },
   "outputs": [
    {
     "data": {
      "text/plain": [
       "H (generic function with 1 method)"
      ]
     },
     "execution_count": 20,
     "metadata": {},
     "output_type": "execute_result"
    }
   ],
   "source": [
    "# criando a função genérica H(r,s)\n",
    "\n",
    "H(r,s) = r*s + r + s"
   ]
  },
  {
   "cell_type": "code",
   "execution_count": 21,
   "metadata": {
    "collapsed": false,
    "scrolled": true
   },
   "outputs": [
    {
     "data": {
      "text/plain": [
       "(Function,Function,Function)"
      ]
     },
     "execution_count": 21,
     "metadata": {},
     "output_type": "execute_result"
    }
   ],
   "source": [
    "# verificando o tipo de dado da funções criadas: tipo função\n",
    "\n",
    "typeof(F), typeof(G), typeof(H)"
   ]
  },
  {
   "cell_type": "code",
   "execution_count": 23,
   "metadata": {
    "collapsed": false
   },
   "outputs": [
    {
     "name": "stdout",
     "output_type": "stream",
     "text": [
      "                          Base  27477 KB     Module\n",
      "                       BinDeps    214 KB     Module\n",
      "                    ColorTypes    256 KB     Module\n",
      "                        Colors    589 KB     Module\n",
      "                        Compat    112 KB     Module\n",
      "                         Conda     60 KB     Module\n",
      "                          Core   3303 KB     Module\n",
      "                             F    467 bytes  Function\n",
      "                            Fg    467 bytes  Function\n",
      "             FixedPointNumbers     33 KB     Module\n",
      "               FixedSizeArrays    131 KB     Module\n",
      "                             G    479 bytes  Function\n",
      "                             H    486 bytes  Function\n",
      "                        IJulia    374 KB     Module\n",
      "                IPythonDisplay     44 KB     Module\n",
      "                          JSON    212 KB     Module\n",
      "                    MacroTools    168 KB     Module\n",
      "                          Main  36658 KB     Module\n",
      "                        Nettle     60 KB     Module\n",
      "                         Plots   1605 KB     Module\n",
      "                        PyCall    424 KB     Module\n",
      "                      Reexport   3738 bytes  Module\n",
      "                      Requires     33 KB     Module\n",
      "                           SHA     52 KB     Module\n",
      "                         SymPy   2748 KB     Module\n",
      "                     URIParser     98 KB     Module\n",
      "                           ZMQ     83 KB     Module\n",
      "                             f     16 bytes  SymPy.Sym\n",
      "                         fsimv     16 bytes  SymPy.Sym\n",
      "                             g     16 bytes  SymPy.Sym\n",
      "                             x     16 bytes  4-element UnitRange{Int64}\n",
      "                             y     16 bytes  SymPy.Sym\n"
     ]
    }
   ],
   "source": [
    "# verificando o tipo de dado das variáveis criadas\n",
    "# observe que F,G e H são do tipo function\n",
    "\n",
    "whos()"
   ]
  },
  {
   "cell_type": "code",
   "execution_count": 24,
   "metadata": {
    "collapsed": false
   },
   "outputs": [
    {
     "data": {
      "text/plain": [
       "9"
      ]
     },
     "metadata": {},
     "output_type": "display_data"
    },
    {
     "data": {
      "text/plain": [
       "17.152789708268944"
      ]
     },
     "metadata": {},
     "output_type": "display_data"
    },
    {
     "data": {
      "text/plain": [
       "19"
      ]
     },
     "metadata": {},
     "output_type": "display_data"
    },
    {
     "data": {
      "text/plain": [
       "1"
      ]
     },
     "metadata": {},
     "output_type": "display_data"
    },
    {
     "data": {
      "text/plain": [
       "7.283185307179586"
      ]
     },
     "metadata": {},
     "output_type": "display_data"
    }
   ],
   "source": [
    "# testando as funções genéricas criadas passando um valor\n",
    "\n",
    "display(F(2))\n",
    "\n",
    "display(F(pi))\n",
    "\n",
    "display(G(2))\n",
    "\n",
    "display(H(0,1))\n",
    "\n",
    "display(H(1,pi));"
   ]
  },
  {
   "cell_type": "markdown",
   "metadata": {},
   "source": [
    "*Obs: Não é possível operar funções genéricas indefinidas, ou seja, sem um valor especificado. Só é possível se x for simbólico definido pelo SymPy. O calculo abaixo ocorrerá erro*"
   ]
  },
  {
   "cell_type": "code",
   "execution_count": 25,
   "metadata": {
    "collapsed": false
   },
   "outputs": [
    {
     "ename": "LoadError",
     "evalue": "LoadError: MethodError: `*` has no method matching *(::UnitRange{Int64}, ::UnitRange{Int64})\nClosest candidates are:\n  *(::Any, ::Any, !Matched::Any, !Matched::Any...)\n  *{T}(!Matched::Bidiagonal{T}, ::AbstractArray{T,1})\n  *(!Matched::Number, ::AbstractArray{T,N})\n  ...\nwhile loading In[25], in expression starting on line 1",
     "output_type": "error",
     "traceback": [
      "LoadError: MethodError: `*` has no method matching *(::UnitRange{Int64}, ::UnitRange{Int64})\nClosest candidates are:\n  *(::Any, ::Any, !Matched::Any, !Matched::Any...)\n  *{T}(!Matched::Bidiagonal{T}, ::AbstractArray{T,1})\n  *(!Matched::Number, ::AbstractArray{T,N})\n  ...\nwhile loading In[25], in expression starting on line 1",
      "",
      " in power_by_squaring at intfuncs.jl:80",
      " in F at In[18]:3"
     ]
    }
   ],
   "source": [
    "F(x) + G(x), F + G"
   ]
  },
  {
   "cell_type": "code",
   "execution_count": 26,
   "metadata": {
    "collapsed": false
   },
   "outputs": [
    {
     "data": {
      "text/latex": [
       "$$33$$"
      ],
      "text/plain": [
       "33"
      ]
     },
     "execution_count": 26,
     "metadata": {},
     "output_type": "execute_result"
    }
   ],
   "source": [
    "# agora um valor foi repassado, então será possível realizar o calculo\n",
    "\n",
    "f(2) + g(3)"
   ]
  },
  {
   "cell_type": "markdown",
   "metadata": {},
   "source": [
    "#### EXEMPLO DE FUNÇÃO DE DUAS VARIÁVEIS DEFINIDA ####"
   ]
  },
  {
   "cell_type": "code",
   "execution_count": 28,
   "metadata": {
    "collapsed": false
   },
   "outputs": [
    {
     "data": {
      "text/plain": [
       "F (generic function with 2 methods)"
      ]
     },
     "execution_count": 28,
     "metadata": {},
     "output_type": "execute_result"
    }
   ],
   "source": [
    "F(x,y) = 9*x*y - 2*x + y"
   ]
  },
  {
   "cell_type": "code",
   "execution_count": 29,
   "metadata": {
    "collapsed": false,
    "scrolled": false
   },
   "outputs": [
    {
     "data": {
      "text/plain": [
       "55.690260418206066"
      ]
     },
     "execution_count": 29,
     "metadata": {},
     "output_type": "execute_result"
    }
   ],
   "source": [
    "F(2,pi)"
   ]
  },
  {
   "cell_type": "markdown",
   "metadata": {},
   "source": [
    "#### FORMA EQUIVALENTE AO \"FOR\" USANDO A FUNÇÃO \"MAP\"####\n",
    "\n",
    "A função \"map\" vai cacular o valor de h(x) de 1 a 5. "
   ]
  },
  {
   "cell_type": "code",
   "execution_count": 31,
   "metadata": {
    "collapsed": false,
    "scrolled": true
   },
   "outputs": [
    {
     "data": {
      "text/plain": [
       "5-element Array{Int64,1}:\n",
       "  2\n",
       "  5\n",
       " 10\n",
       " 17\n",
       " 26"
      ]
     },
     "execution_count": 31,
     "metadata": {},
     "output_type": "execute_result"
    }
   ],
   "source": [
    "H(x) = x^2+1\n",
    "\n",
    "map(H, 1:5)"
   ]
  },
  {
   "cell_type": "markdown",
   "metadata": {},
   "source": [
    " Outro exemplo com \"map\"\n",
    " \n",
    "a função \"map\" vai cacular o valor de h(x) de 1 a 5 e somar os resultados"
   ]
  },
  {
   "cell_type": "code",
   "execution_count": 32,
   "metadata": {
    "collapsed": false
   },
   "outputs": [
    {
     "data": {
      "text/plain": [
       "60"
      ]
     },
     "execution_count": 32,
     "metadata": {},
     "output_type": "execute_result"
    }
   ],
   "source": [
    "H(x) = x^2+1\n",
    "\n",
    "mapreduce(H, +, 1:5)"
   ]
  },
  {
   "cell_type": "markdown",
   "metadata": {},
   "source": [
    "#### TRANSFORMANDO UMA STRING EM UMA FUNÇÃO GENÉRICA ####\n",
    "\n",
    "É possível transformar um texto de uma função em uma função genérica manipulável"
   ]
  },
  {
   "cell_type": "code",
   "execution_count": 1,
   "metadata": {
    "collapsed": false,
    "scrolled": true
   },
   "outputs": [
    {
     "data": {
      "text/plain": [
       "fsg (generic function with 1 method)"
      ]
     },
     "execution_count": 1,
     "metadata": {},
     "output_type": "execute_result"
    }
   ],
   "source": [
    "@eval fsg(x) = $(parse(\"x^2-2*x-1\"))"
   ]
  },
  {
   "cell_type": "code",
   "execution_count": 2,
   "metadata": {
    "collapsed": false
   },
   "outputs": [
    {
     "data": {
      "text/plain": [
       "-1"
      ]
     },
     "execution_count": 2,
     "metadata": {},
     "output_type": "execute_result"
    }
   ],
   "source": [
    "fsg(0)"
   ]
  },
  {
   "cell_type": "markdown",
   "metadata": {},
   "source": [
    "#### FUNÇÃO GENÉRICA DO TIPO FUNCTION ####"
   ]
  },
  {
   "cell_type": "code",
   "execution_count": 39,
   "metadata": {
    "collapsed": false
   },
   "outputs": [
    {
     "data": {
      "text/plain": [
       "metbissec (generic function with 2 methods)"
      ]
     },
     "execution_count": 39,
     "metadata": {},
     "output_type": "execute_result"
    }
   ],
   "source": [
    "\"\"\"\n",
    "Metodo da Bisseccao\n",
    "\n",
    "Calcula uma aproximação para uma raiz da função de f(x)\n",
    "\n",
    "Entre os intervalo [ao,bo] e a tolerencia de erro daddo por tol.\n",
    "\n",
    "ex metbissec(\"x^2 - 2*x - 8\",-5,5,0.000001)\n",
    "\n",
    "adaptado de http://goo.gl/pQNh6z \n",
    "\"\"\"\n",
    "\n",
    "function metbissec(funcao, a, b, tol = 0.00001)\n",
    "    \n",
    "println(\"f(x) = \",funcao)\n",
    "println()\n",
    "    \n",
    "@eval g(x) = $(parse(funcao)) # transforma a string em uma formula manipulável\n",
    "   \n",
    "iteracao = 0\n",
    "    \n",
    "    while b - a >= tol\n",
    "        \n",
    "    medio = (a + b)/2.0\n",
    "        \n",
    "        println(\"interação: \", iteracao , \" : \", medio, \", valor função: \",g(medio))\n",
    "        \n",
    "        if g(medio)*g(a) > 0.0\n",
    "            a = medio            \n",
    "        else\n",
    "            b = medio            \n",
    "        end\n",
    "        iteracao += 1\n",
    "end\n",
    "    medio = (a + b)/2.0\n",
    "    println(\"interação: \", iteracao , \" : \", medio, \", valor função: \",g(medio))\n",
    "    \n",
    "return medio\n",
    "    \n",
    "end"
   ]
  },
  {
   "cell_type": "code",
   "execution_count": 40,
   "metadata": {
    "collapsed": false,
    "scrolled": false
   },
   "outputs": [
    {
     "name": "stdout",
     "output_type": "stream",
     "text": [
      "f(x) = x^2-4\n",
      "\n",
      "interação: 0 : 2.0, valor função: 0.0\n",
      "interação: 1 : 1.75, valor função: -0.9375\n",
      "interação: 2 : 1.875, valor função: -0.484375\n",
      "interação: 3 : 1.9375, valor função: -0.24609375\n",
      "interação: 4 : 1.96875, valor função: -0.1240234375\n",
      "interação: 5 : 1.984375, valor função: -0.062255859375\n",
      "interação: 6 : 1.9921875, valor função: -0.03118896484375\n",
      "interação: 7 : 1.99609375, valor função: -0.0156097412109375\n",
      "interação: 8 : 1.998046875, valor função: -0.007808685302734375\n",
      "interação: 9 : 1.9990234375, valor função: -0.0039052963256835938\n",
      "interação: 10 : 1.99951171875, valor função: -0.0019528865814208984\n",
      "interação: 11 : 1.999755859375, valor função: -0.0009765028953552246\n",
      "interação: 12 : 1.9998779296875, valor função: -0.00048826634883880615\n",
      "interação: 13 : 1.99993896484375, valor função: -0.00024413689970970154\n",
      "interação: 14 : 1.999969482421875, valor função: -0.00012206938117742538\n",
      "  0.104123 seconds (35.28 k allocations: 1.680 MB)\n"
     ]
    },
    {
     "data": {
      "text/plain": [
       "1.999969482421875"
      ]
     },
     "execution_count": 40,
     "metadata": {},
     "output_type": "execute_result"
    }
   ],
   "source": [
    "# a função é passada na forma de string, pois sem as aspas, julia entente que o \"x\" é uma variável\n",
    "\n",
    "@time metbissec(\"x^2-4\",1.5,2.5,0.0001)"
   ]
  },
  {
   "cell_type": "markdown",
   "metadata": {},
   "source": [
    "O texto de ajuda entre aspas pode ser acessado pelo comando help (?) "
   ]
  },
  {
   "cell_type": "code",
   "execution_count": 41,
   "metadata": {
    "collapsed": false
   },
   "outputs": [
    {
     "name": "stdout",
     "output_type": "stream",
     "text": [
      "search: metbissec\n",
      "\n"
     ]
    },
    {
     "data": {
      "text/latex": [
       "Metodo da Bisseccao\n",
       "Calcula uma aproximação para uma raiz da função de f(x)\n",
       "Entre os intervalo [ao,bo] e a tolerencia de erro daddo por tol.\n",
       "ex metbissec(\"x\\^{}2 - 2*x - 8\",-5,5,0.000001)\n",
       "adaptado de http://goo.gl/pQNh6z \n"
      ],
      "text/markdown": [
       "Metodo da Bisseccao\n",
       "\n",
       "Calcula uma aproximação para uma raiz da função de f(x)\n",
       "\n",
       "Entre os intervalo [ao,bo] e a tolerencia de erro daddo por tol.\n",
       "\n",
       "ex metbissec(\"x^2 - 2*x - 8\",-5,5,0.000001)\n",
       "\n",
       "adaptado de http://goo.gl/pQNh6z \n"
      ],
      "text/plain": [
       "Metodo da Bisseccao\n",
       "\n",
       "Calcula uma aproximação para uma raiz da função de f(x)\n",
       "\n",
       "Entre os intervalo [ao,bo] e a tolerencia de erro daddo por tol.\n",
       "\n",
       "ex metbissec(\"x^2 - 2*x - 8\",-5,5,0.000001)\n",
       "\n",
       "adaptado de http://goo.gl/pQNh6z \n"
      ]
     },
     "execution_count": 41,
     "metadata": {},
     "output_type": "execute_result"
    }
   ],
   "source": [
    "? metbissec"
   ]
  },
  {
   "cell_type": "markdown",
   "metadata": {},
   "source": [
    "#### IMPORTANDO UMA FUNÇÃO NO FORMATO DE ARQUIVO ####"
   ]
  },
  {
   "cell_type": "code",
   "execution_count": 46,
   "metadata": {
    "collapsed": false,
    "scrolled": true
   },
   "outputs": [
    {
     "data": {
      "text/plain": [
       "fmetbissec (generic function with 2 methods)"
      ]
     },
     "execution_count": 46,
     "metadata": {},
     "output_type": "execute_result"
    }
   ],
   "source": [
    "# É interessante salvar o arquivo da função com o mesmo nome da função\n",
    "\n",
    "include(\"fmetbissec.jl\")"
   ]
  },
  {
   "cell_type": "code",
   "execution_count": 47,
   "metadata": {
    "collapsed": false,
    "scrolled": true
   },
   "outputs": [
    {
     "name": "stdout",
     "output_type": "stream",
     "text": [
      "search: fmetbissec\n",
      "\n"
     ]
    },
    {
     "data": {
      "text/latex": [
       "Metodo da Bisseccao\n",
       "Calcula uma aproximação para uma raiz da função de f(x)\n",
       "Entre os intervalo [ao,bo] e a tolerencia de erro daddo por tol.\n",
       "ex metbissec(\"x\\^{}2 - 2*x - 8\",-5,5,0.000001)\n",
       "adaptado de http://goo.gl/pQNh6z\n"
      ],
      "text/markdown": [
       "Metodo da Bisseccao\n",
       "\n",
       "Calcula uma aproximação para uma raiz da função de f(x)\n",
       "\n",
       "Entre os intervalo [ao,bo] e a tolerencia de erro daddo por tol.\n",
       "\n",
       "ex metbissec(\"x^2 - 2*x - 8\",-5,5,0.000001)\n",
       "\n",
       "adaptado de http://goo.gl/pQNh6z\n"
      ],
      "text/plain": [
       "Metodo da Bisseccao\n",
       "\n",
       "Calcula uma aproximação para uma raiz da função de f(x)\n",
       "\n",
       "Entre os intervalo [ao,bo] e a tolerencia de erro daddo por tol.\n",
       "\n",
       "ex metbissec(\"x^2 - 2*x - 8\",-5,5,0.000001)\n",
       "\n",
       "adaptado de http://goo.gl/pQNh6z\n"
      ]
     },
     "execution_count": 47,
     "metadata": {},
     "output_type": "execute_result"
    }
   ],
   "source": [
    "?fmetbissec"
   ]
  },
  {
   "cell_type": "code",
   "execution_count": 48,
   "metadata": {
    "collapsed": false
   },
   "outputs": [
    {
     "name": "stdout",
     "output_type": "stream",
     "text": [
      "f(x) = x^2 - 2*x\n",
      "\n",
      "interação: 0 : 2.0, valor função: 0.0\n",
      "interação: 1 : 1.75, valor função: -0.9375\n",
      "interação: 2 : 1.875, valor função: -0.484375\n",
      "interação: 3 : 1.9375, valor função: -0.24609375\n",
      "interação: 4 : 1.96875, valor função: -0.1240234375\n",
      "interação: 5 : 1.984375, valor função: -0.062255859375\n",
      "interação: 6 : 1.9921875, valor função: -0.03118896484375\n",
      "interação: 7 : 1.99609375, valor função: -0.0156097412109375\n",
      "interação: 8 : 1.998046875, valor função: -0.007808685302734375\n",
      "interação: 9 : 1.9990234375, valor função: -0.0039052963256835938\n",
      "interação: 10 : 1.99951171875, valor função: -0.0019528865814208984\n",
      "interação: 11 : 1.999755859375, valor função: -0.0009765028953552246\n",
      "interação: 12 : 1.9998779296875, valor função: -0.00048826634883880615\n",
      "interação: 13 : 1.99993896484375, valor função: -0.00024413689970970154\n",
      "interação: 14 : 1.999969482421875, valor função: -0.00012206938117742538\n",
      "  0.031182 seconds (10.17 k allocations: 461.568 KB, 18.09% gc time)\n"
     ]
    },
    {
     "data": {
      "text/plain": [
       "1.999969482421875"
      ]
     },
     "execution_count": 48,
     "metadata": {},
     "output_type": "execute_result"
    }
   ],
   "source": [
    "@time fmetbissec(\"x^2 - 2*x\",1.5,2.5,0.0001)"
   ]
  },
  {
   "cell_type": "markdown",
   "metadata": {},
   "source": [
    "<body><strong>Função Fibonacci</strong><br>\n",
    "    <p>A Sequência de Fibonacci consiste em uma sucessão de números inteiros, de\n",
    "      tal forma que, partindo dos dois primeiros números da sequência 0 e 1, os\n",
    "      números posteriores serão obtidos por meio da soma dos seus dois\n",
    "      antecessores. Dessa forma, teremos a sequencia: <br>\n",
    "      <br>\n",
    "      Termo:0, 1, 2, 3, 4, 5, 6, 7 ,&nbsp; 8 ,&nbsp;&nbsp; 9 ,&nbsp; 10,&nbsp;\n",
    "      11,&nbsp; 12 ,&nbsp; 13 ,...<br>\n",
    "      <br>\n",
    "      Valor_:0, 1, 1, 2, 3, 5, 8, 13, 21, 34, 55, 89, 144, 233,...<br>\n",
    "      <br>\n",
    "      A função abaixo utiliza a forma recursiva de Fibonacci para encontrar os\n",
    "      termos da sequencia. A forma recursiva é utilizada em testes de Benchmark\n",
    "      para testar a velocidade de processamento de uma linguagem de programação,\n",
    "      de tal forma que quanto menor o tempo para calcular um termo, melhor o\n",
    "      desempenho da linguagem neste procedimento. <br>\n",
    "      <br>\n",
    "      Comparação com outras linguagens utilizando mesmo algoritmo para encontrar\n",
    "      o 35 termo:</p>\n",
    "    <table style=\"width: 674px; height: 54px;\" border=\"1\">\n",
    "      <tbody>\n",
    "        <tr>\n",
    "          <td style=\"width: 81.697px;\">Julia:</td>\n",
    "          <td style=\"width: 98.067px;\">Octave</td>\n",
    "          <td style=\"width: 125.067px;\">SageMath</td>\n",
    "          <td style=\"width: 99.5px;\">Scilab</td>\n",
    "          <td style=\"width: 175.6px;\">Maxima</td>\n",
    "          <td style=\"width: 170.7px;\">MatLab</td>\n",
    "        </tr>\n",
    "        <tr>\n",
    "          <td><br>\n",
    "          </td>\n",
    "          <td><br>\n",
    "          </td>\n",
    "          <td><br>\n",
    "          </td>\n",
    "          <td><br>\n",
    "          </td>\n",
    "          <td><br>\n",
    "          </td>\n",
    "          <td><br>\n",
    "          </td>\n",
    "        </tr>\n",
    "      </tbody>\n",
    "    </table>\n",
    "  </body>"
   ]
  },
  {
   "cell_type": "code",
   "execution_count": 49,
   "metadata": {
    "collapsed": false
   },
   "outputs": [
    {
     "data": {
      "text/plain": [
       "fiboR (generic function with 1 method)"
      ]
     },
     "execution_count": 49,
     "metadata": {},
     "output_type": "execute_result"
    }
   ],
   "source": [
    "function fiboR(n) \n",
    "    if n < 2 \n",
    "        return n\n",
    "    else\n",
    "        fiboR(n-1) + fiboR(n-2)\n",
    "    end\n",
    "end"
   ]
  },
  {
   "cell_type": "code",
   "execution_count": 50,
   "metadata": {
    "collapsed": false
   },
   "outputs": [
    {
     "name": "stdout",
     "output_type": "stream",
     "text": [
      "  0.122354 seconds (699 allocations: 37.609 KB)\n"
     ]
    },
    {
     "data": {
      "text/plain": [
       "9227465"
      ]
     },
     "execution_count": 50,
     "metadata": {},
     "output_type": "execute_result"
    }
   ],
   "source": [
    "@time fiboR(35)"
   ]
  },
  {
   "cell_type": "code",
   "execution_count": 51,
   "metadata": {
    "collapsed": false,
    "scrolled": true
   },
   "outputs": [
    {
     "data": {
      "text/plain": [
       "ffiboR_JL (generic function with 1 method)"
      ]
     },
     "execution_count": 51,
     "metadata": {},
     "output_type": "execute_result"
    }
   ],
   "source": [
    "include(\"ffiboR_JL.jl\")"
   ]
  },
  {
   "cell_type": "code",
   "execution_count": 52,
   "metadata": {
    "collapsed": false
   },
   "outputs": [
    {
     "name": "stdout",
     "output_type": "stream",
     "text": [
      "search: ffiboR_JL\n",
      "\n"
     ]
    },
    {
     "data": {
      "text/latex": [
       "Função calcula serie de fibonacci\n",
       "ffiboR\\_JL(valor)\n"
      ],
      "text/markdown": [
       "Função calcula serie de fibonacci\n",
       "\n",
       "ffiboR_JL(valor)\n"
      ],
      "text/plain": [
       "Função calcula serie de fibonacci\n",
       "\n",
       "ffiboR_JL(valor)\n"
      ]
     },
     "execution_count": 52,
     "metadata": {},
     "output_type": "execute_result"
    }
   ],
   "source": [
    "? ffiboR_JL"
   ]
  },
  {
   "cell_type": "code",
   "execution_count": 53,
   "metadata": {
    "collapsed": false,
    "scrolled": false
   },
   "outputs": [
    {
     "name": "stdout",
     "output_type": "stream",
     "text": [
      "  1.125254 seconds (697 allocations: 37.835 KB)\n"
     ]
    },
    {
     "data": {
      "text/plain": [
       "102334155"
      ]
     },
     "execution_count": 53,
     "metadata": {},
     "output_type": "execute_result"
    }
   ],
   "source": [
    "@time ffiboR_JL(40)"
   ]
  },
  {
   "cell_type": "markdown",
   "metadata": {},
   "source": [
    "#### FORMA \"JULITRONICA\" DE CRIAR IF...ELSE...END PARA A FUNÇÃO NA FORMA:  ####\n",
    "\n",
    "$~\n",
    "f(x) = \\begin{cases}\n",
    "\\cos(x) & x \\geq 0\\\\\n",
    "1 - e^{-1/x^2} & \\text{x < 0}.\n",
    "\\end{cases}\n",
    "~$"
   ]
  },
  {
   "cell_type": "code",
   "execution_count": 54,
   "metadata": {
    "collapsed": false
   },
   "outputs": [
    {
     "data": {
      "text/plain": [
       "g (generic function with 1 method)"
      ]
     },
     "execution_count": 54,
     "metadata": {},
     "output_type": "execute_result"
    }
   ],
   "source": [
    "# função(variável)  = condiçao1 ? comandoA : senao comandoB \n",
    "\n",
    "# Significa que: se condição \"1\" satisfeita, então comandoA, senão comandoB\n",
    "\n",
    "# no código abaixo, temos que:\n",
    "\n",
    "# se x>=0 então imprima o calculo de g = cos(x) = \",cos(x), senão imprima o cálculo de g = exp(-1/x^2) \n",
    "\n",
    "g(x) = x >= 0  ?  print(\"g = cos(x) = \",cos(x)) : print(\"g = exp(-1/x^2) = \",exp(-1/x^2))"
   ]
  },
  {
   "cell_type": "code",
   "execution_count": 55,
   "metadata": {
    "collapsed": false
   },
   "outputs": [
    {
     "name": "stdout",
     "output_type": "stream",
     "text": [
      "g = cos(x) = -0.4161468365471424"
     ]
    }
   ],
   "source": [
    "# passando um valor de x maior que 0\n",
    "\n",
    "g(2)"
   ]
  },
  {
   "cell_type": "code",
   "execution_count": 56,
   "metadata": {
    "collapsed": false
   },
   "outputs": [
    {
     "name": "stdout",
     "output_type": "stream",
     "text": [
      "g = exp(-1/x^2) = 0.36787944117144233"
     ]
    }
   ],
   "source": [
    "# passando um valor de x menor que 0\n",
    "\n",
    "g(-1)"
   ]
  },
  {
   "cell_type": "markdown",
   "metadata": {},
   "source": [
    "#### AS VARIAS FORMAS DE CALCULAR A FUNÇÃO A PARTIR DE UM VETOR OU MATRIZ ####"
   ]
  },
  {
   "cell_type": "code",
   "execution_count": 57,
   "metadata": {
    "collapsed": true
   },
   "outputs": [],
   "source": [
    "workspace()"
   ]
  },
  {
   "cell_type": "code",
   "execution_count": 58,
   "metadata": {
    "collapsed": false
   },
   "outputs": [
    {
     "data": {
      "text/plain": [
       "fgv (generic function with 1 method)"
      ]
     },
     "execution_count": 58,
     "metadata": {},
     "output_type": "execute_result"
    }
   ],
   "source": [
    "x = 0:3\n",
    "\n",
    "fgv(x) = sqrt(2*x + cos(x)^3)/sin(x^2+1)"
   ]
  },
  {
   "cell_type": "markdown",
   "metadata": {},
   "source": [
    "* ** Usando o comando map **"
   ]
  },
  {
   "cell_type": "code",
   "execution_count": 59,
   "metadata": {
    "collapsed": false
   },
   "outputs": [
    {
     "data": {
      "text/plain": [
       "4-element Array{Float64,1}:\n",
       "  1.1884 \n",
       "  1.61545\n",
       " -2.0668 \n",
       " -4.12246"
      ]
     },
     "execution_count": 59,
     "metadata": {},
     "output_type": "execute_result"
    }
   ],
   "source": [
    "map(fgv,x)"
   ]
  },
  {
   "cell_type": "code",
   "execution_count": 60,
   "metadata": {
    "collapsed": false
   },
   "outputs": [
    {
     "data": {
      "text/plain": [
       "-3.3854136841642646"
      ]
     },
     "execution_count": 60,
     "metadata": {},
     "output_type": "execute_result"
    }
   ],
   "source": [
    "# utilizando uma função anonima para calcular os valores de 0 a 2*pi somar os resultados\n",
    "\n",
    "mapreduce(fgv, +, 0:3)"
   ]
  },
  {
   "cell_type": "markdown",
   "metadata": {},
   "source": [
    "* ** Comando eval **"
   ]
  },
  {
   "cell_type": "code",
   "execution_count": 61,
   "metadata": {
    "collapsed": false
   },
   "outputs": [
    {
     "data": {
      "text/plain": [
       "4-element Array{Float64,1}:\n",
       "  1.1884 \n",
       "  1.61545\n",
       " -2.0668 \n",
       " -4.12246"
      ]
     },
     "execution_count": 61,
     "metadata": {},
     "output_type": "execute_result"
    }
   ],
   "source": [
    "x = 0:3\n",
    "fgV(x) = sqrt(2.*x + cos(x).^3)./sin(x.^2+1)\n",
    "\n",
    "eval(fgV(x))"
   ]
  },
  {
   "cell_type": "markdown",
   "metadata": {},
   "source": [
    "* ** Comando direto **"
   ]
  },
  {
   "cell_type": "code",
   "execution_count": 62,
   "metadata": {
    "collapsed": false
   },
   "outputs": [
    {
     "data": {
      "text/plain": [
       "4-element Array{Float64,1}:\n",
       "  1.1884 \n",
       "  1.61545\n",
       " -2.0668 \n",
       " -4.12246"
      ]
     },
     "execution_count": 62,
     "metadata": {},
     "output_type": "execute_result"
    }
   ],
   "source": [
    "x = 0:3\n",
    "fgV(x) = sqrt(2.*x + cos(x).^3)./sin(x.^2+1)\n",
    "\n",
    "fgV(x)"
   ]
  },
  {
   "cell_type": "markdown",
   "metadata": {},
   "source": [
    "### FUNÇÕES ANÔNIMAS ###\n",
    "\n",
    "Funções anônimas - funções sem nome - são funções no qual não há nome para defini-las. Um bom exemplo são as funções **map()** e compreensões de lista. Não precisam usar o SymPy ou a forma de função genérica (funcao(variavel) = expressao). O uso principal para funções anônimas é passá-los para funções que assumem outras funções como argumentos. Em geral são mais lentas que as funções genéricas ou simbólicas. São escritas na forma:\n",
    "\n",
    "** variavel ->  expressao **"
   ]
  },
  {
   "cell_type": "markdown",
   "metadata": {},
   "source": [
    "#### FUNÇÃO ANONIMA SEM ATRIBUIÇÃO DE UMA VARIÁVEL ####"
   ]
  },
  {
   "cell_type": "markdown",
   "metadata": {},
   "source": [
    "* ** Subistituindo por um valor** "
   ]
  },
  {
   "cell_type": "code",
   "execution_count": 63,
   "metadata": {
    "collapsed": false,
    "scrolled": true
   },
   "outputs": [
    {
     "data": {
      "text/plain": [
       "-1"
      ]
     },
     "execution_count": 63,
     "metadata": {},
     "output_type": "execute_result"
    }
   ],
   "source": [
    "(x -> x^3-2*x^2-1)(0)"
   ]
  },
  {
   "cell_type": "markdown",
   "metadata": {},
   "source": [
    "* ** Subistituindo por um vetor ou matriz **\n",
    "\n",
    "É necessário colocar o '.*'   e '.^' para efeturar a operação elemento por elemento do vetor"
   ]
  },
  {
   "cell_type": "code",
   "execution_count": 3,
   "metadata": {
    "collapsed": false,
    "scrolled": true
   },
   "outputs": [
    {
     "data": {
      "text/plain": [
       "1x3 Array{Int64,2}:\n",
       " -2  -1  8"
      ]
     },
     "execution_count": 3,
     "metadata": {},
     "output_type": "execute_result"
    }
   ],
   "source": [
    "(x -> x.^3 - 2.*x.^2 - 1)([1 2 3])"
   ]
  },
  {
   "cell_type": "code",
   "execution_count": 100,
   "metadata": {
    "collapsed": false,
    "scrolled": false
   },
   "outputs": [
    {
     "data": {
      "text/plain": [
       "2x3 Array{Int64,2}:\n",
       " -2  -1    8\n",
       " 31  74  143"
      ]
     },
     "execution_count": 100,
     "metadata": {},
     "output_type": "execute_result"
    }
   ],
   "source": [
    "(x -> x.^3-2.*x.^2-1)([1 2 3; 4 5 6])"
   ]
  },
  {
   "cell_type": "markdown",
   "metadata": {},
   "source": [
    "* ** Função de duas variáveis **\n",
    "\n",
    "É necessário colocar o '.*'   e '.^' para efeturar a operação elemento por elemento do vetor"
   ]
  },
  {
   "cell_type": "code",
   "execution_count": 4,
   "metadata": {
    "collapsed": false,
    "scrolled": false
   },
   "outputs": [
    {
     "data": {
      "text/plain": [
       "-1"
      ]
     },
     "execution_count": 4,
     "metadata": {},
     "output_type": "execute_result"
    }
   ],
   "source": [
    "((x,y)-> 2*y - 1 + x)(0,0)"
   ]
  },
  {
   "cell_type": "code",
   "execution_count": 8,
   "metadata": {
    "collapsed": false
   },
   "outputs": [
    {
     "data": {
      "text/plain": [
       "1x3 Array{Int64,2}:\n",
       " -1  2  9"
      ]
     },
     "execution_count": 8,
     "metadata": {},
     "output_type": "execute_result"
    }
   ],
   "source": [
    "((x,y)-> 2*y.^2 - 1 + x)([0 1 2],[0 1 2])"
   ]
  },
  {
   "cell_type": "markdown",
   "metadata": {},
   "source": [
    "#### FUNÇÃO ANONIMA COM ATRIBUIÇÃO DE UMA VARIÁVEL ####\n",
    "\n",
    "Não use a forma **funcao(variavel) = (funcao_anonima)**! Ocorre erro."
   ]
  },
  {
   "cell_type": "markdown",
   "metadata": {},
   "source": [
    "* ** Subistituindo por um valor **"
   ]
  },
  {
   "cell_type": "code",
   "execution_count": 66,
   "metadata": {
    "collapsed": false
   },
   "outputs": [
    {
     "data": {
      "text/plain": [
       "(anonymous function)"
      ]
     },
     "execution_count": 66,
     "metadata": {},
     "output_type": "execute_result"
    }
   ],
   "source": [
    "fa1 = (x -> x^3 - 2*x^2 - 1)"
   ]
  },
  {
   "cell_type": "code",
   "execution_count": 67,
   "metadata": {
    "collapsed": false,
    "scrolled": true
   },
   "outputs": [
    {
     "data": {
      "text/plain": [
       "-1"
      ]
     },
     "execution_count": 67,
     "metadata": {},
     "output_type": "execute_result"
    }
   ],
   "source": [
    "fa1(0)"
   ]
  },
  {
   "cell_type": "markdown",
   "metadata": {},
   "source": [
    "* ** Subistituindo por um vetor ou matriz **\n",
    "\n",
    "É necessário colocar o ' .* ' e ' .^ ' para efeturar a operação elemento por elemento do vetor\n"
   ]
  },
  {
   "cell_type": "code",
   "execution_count": 68,
   "metadata": {
    "collapsed": false,
    "scrolled": true
   },
   "outputs": [
    {
     "data": {
      "text/plain": [
       "(anonymous function)"
      ]
     },
     "execution_count": 68,
     "metadata": {},
     "output_type": "execute_result"
    }
   ],
   "source": [
    "fa2 = (x -> x.^3 - 2.*x.^2 - 1)"
   ]
  },
  {
   "cell_type": "code",
   "execution_count": 69,
   "metadata": {
    "collapsed": false
   },
   "outputs": [
    {
     "data": {
      "text/plain": [
       "(\n",
       "1x3 Array{Int64,2}:\n",
       " -2  -1  8,\n",
       "\n",
       "2x3 Array{Int64,2}:\n",
       " -2  -1    8\n",
       " 31  74  143)"
      ]
     },
     "execution_count": 69,
     "metadata": {},
     "output_type": "execute_result"
    }
   ],
   "source": [
    "fa2([1 2 3]) , fa2([1 2 3; 4 5 6])"
   ]
  },
  {
   "cell_type": "markdown",
   "metadata": {},
   "source": [
    "* **Função de duas variáveis **\n",
    "\n",
    "É necessário colocar o ' .* ' e ' .^ ' para efeturar a operação elemento por elemento do vetor"
   ]
  },
  {
   "cell_type": "code",
   "execution_count": 23,
   "metadata": {
    "collapsed": false
   },
   "outputs": [
    {
     "data": {
      "text/plain": [
       "(anonymous function)"
      ]
     },
     "execution_count": 23,
     "metadata": {},
     "output_type": "execute_result"
    }
   ],
   "source": [
    "faxy = ((x,y)-> 2.*y.^2 - 1 + x)"
   ]
  },
  {
   "cell_type": "code",
   "execution_count": 24,
   "metadata": {
    "collapsed": false
   },
   "outputs": [
    {
     "data": {
      "text/plain": [
       "-1"
      ]
     },
     "execution_count": 24,
     "metadata": {},
     "output_type": "execute_result"
    }
   ],
   "source": [
    "faxy(0,0)"
   ]
  },
  {
   "cell_type": "code",
   "execution_count": 25,
   "metadata": {
    "collapsed": false
   },
   "outputs": [
    {
     "data": {
      "text/plain": [
       "1x2 Array{Int64,2}:\n",
       " -1  2"
      ]
     },
     "execution_count": 25,
     "metadata": {},
     "output_type": "execute_result"
    }
   ],
   "source": [
    "faxy([0 1],[0 1])"
   ]
  },
  {
   "cell_type": "markdown",
   "metadata": {},
   "source": [
    "#### AS VARIAS FORMAS DE CALCULAR A FUNÇÃO A PARTIR DE UM VETOR OU MATRIZ #####"
   ]
  },
  {
   "cell_type": "markdown",
   "metadata": {},
   "source": [
    "* ** Usando o comando map **"
   ]
  },
  {
   "cell_type": "code",
   "execution_count": 48,
   "metadata": {
    "collapsed": false
   },
   "outputs": [
    {
     "data": {
      "text/plain": [
       "4-element Array{Float64,1}:\n",
       "  1.1884 \n",
       "  1.61545\n",
       " -2.0668 \n",
       " -4.12246"
      ]
     },
     "execution_count": 48,
     "metadata": {},
     "output_type": "execute_result"
    }
   ],
   "source": [
    "x = 0:3\n",
    "\n",
    "fanx = (x -> sqrt(2*x + cos(x)^3)/sin(x^2+1))\n",
    "\n",
    "map(fanx,x)"
   ]
  },
  {
   "cell_type": "code",
   "execution_count": 49,
   "metadata": {
    "collapsed": false
   },
   "outputs": [
    {
     "data": {
      "text/plain": [
       "-3.3854136841642646"
      ]
     },
     "execution_count": 49,
     "metadata": {},
     "output_type": "execute_result"
    }
   ],
   "source": [
    "# utilizando uma função anonima para calcular os valores de 0 a 2*pi somar os resultados\n",
    "\n",
    "mapreduce(fanx, +, 0:3)"
   ]
  },
  {
   "cell_type": "markdown",
   "metadata": {},
   "source": [
    "* ** Utilizando o Eval **"
   ]
  },
  {
   "cell_type": "code",
   "execution_count": 52,
   "metadata": {
    "collapsed": false,
    "scrolled": true
   },
   "outputs": [
    {
     "data": {
      "text/plain": [
       "4-element Array{Float64,1}:\n",
       "  1.1884 \n",
       "  1.61545\n",
       " -2.0668 \n",
       " -4.12246"
      ]
     },
     "execution_count": 52,
     "metadata": {},
     "output_type": "execute_result"
    }
   ],
   "source": [
    "funan = x -> sqrt(2.*x + cos(x).^3)./sin(x.^2+1)\n",
    "\n",
    "x = 0:3\n",
    "\n",
    "eval(funan(x))"
   ]
  },
  {
   "cell_type": "markdown",
   "metadata": {},
   "source": [
    "* ** Comando direto **"
   ]
  },
  {
   "cell_type": "code",
   "execution_count": 54,
   "metadata": {
    "collapsed": false
   },
   "outputs": [
    {
     "data": {
      "text/plain": [
       "4-element Array{Float64,1}:\n",
       "  1.1884 \n",
       "  1.61545\n",
       " -2.0668 \n",
       " -4.12246"
      ]
     },
     "execution_count": 54,
     "metadata": {},
     "output_type": "execute_result"
    }
   ],
   "source": [
    "funan = x -> sqrt(2.*x + cos(x).^3)./sin(x.^2+1)\n",
    "\n",
    "x = 0:3\n",
    "\n",
    "funan(x)"
   ]
  },
  {
   "cell_type": "markdown",
   "metadata": {},
   "source": [
    "### QUAL É O MELHOR? FUNÇÃO GENÉRICA, ANÔNIMA OU SIMBÓLICA? ###\n",
    "\n",
    "Vamos fazer um benchmark das funções utilizando 3 métodos: map, eval e direto"
   ]
  },
  {
   "cell_type": "markdown",
   "metadata": {},
   "source": [
    "#### USANDO O COMANDO MAP####"
   ]
  },
  {
   "cell_type": "markdown",
   "metadata": {},
   "source": [
    "* ** Definindo as funções **"
   ]
  },
  {
   "cell_type": "code",
   "execution_count": 34,
   "metadata": {
    "collapsed": false
   },
   "outputs": [
    {
     "data": {
      "text/latex": [
       "$$- 2 x^{3} - x^{2} + 2 x + 8$$"
      ],
      "text/plain": [
       "     3    2          \n",
       "- 2*x  - x  + 2*x + 8"
      ]
     },
     "execution_count": 34,
     "metadata": {},
     "output_type": "execute_result"
    }
   ],
   "source": [
    "# Simbólica \n",
    "\n",
    "using SymPy\n",
    "@syms x\n",
    "\n",
    "fsimb = -2*x^3 - x^2 + 2*x + 8"
   ]
  },
  {
   "cell_type": "code",
   "execution_count": 35,
   "metadata": {
    "collapsed": false
   },
   "outputs": [
    {
     "data": {
      "text/plain": [
       "fgen (generic function with 1 method)"
      ]
     },
     "execution_count": 35,
     "metadata": {},
     "output_type": "execute_result"
    }
   ],
   "source": [
    "# Genérica\n",
    "\n",
    "fgen(w) = -2*w^3 - w^2 + 2*w + 8"
   ]
  },
  {
   "cell_type": "code",
   "execution_count": 36,
   "metadata": {
    "collapsed": false,
    "scrolled": true
   },
   "outputs": [
    {
     "data": {
      "text/plain": [
       "(anonymous function)"
      ]
     },
     "execution_count": 36,
     "metadata": {},
     "output_type": "execute_result"
    }
   ],
   "source": [
    "# Anonima \n",
    "\n",
    "fanon = (t ->-2*t^3 - t^2 + 2*t + 8)"
   ]
  },
  {
   "cell_type": "markdown",
   "metadata": {},
   "source": [
    "* ** Definidndo os vetores **\n",
    "\n",
    "Será definido vetores diferentes para as funções com o objetivo de evitar erros. "
   ]
  },
  {
   "cell_type": "code",
   "execution_count": 37,
   "metadata": {
    "collapsed": false,
    "scrolled": true
   },
   "outputs": [
    {
     "data": {
      "text/plain": [
       "(0.0:0.001:10.0,0.0:0.001:10.0,0.0:0.001:10.0)"
      ]
     },
     "execution_count": 37,
     "metadata": {},
     "output_type": "execute_result"
    }
   ],
   "source": [
    "x = w = t = 0:0.001:10\n",
    "\n",
    "x , w , t"
   ]
  },
  {
   "cell_type": "markdown",
   "metadata": {},
   "source": [
    "* ** Executando os cálculos**"
   ]
  },
  {
   "cell_type": "code",
   "execution_count": 38,
   "metadata": {
    "collapsed": false,
    "scrolled": true
   },
   "outputs": [
    {
     "data": {
      "text/plain": [
       "15.934101484"
      ]
     },
     "execution_count": 38,
     "metadata": {},
     "output_type": "execute_result"
    }
   ],
   "source": [
    "# função simbólica. O resultado foi omitido\n",
    "\n",
    "fsmt = @elapsed map(fsimb,x)"
   ]
  },
  {
   "cell_type": "code",
   "execution_count": 39,
   "metadata": {
    "collapsed": false
   },
   "outputs": [
    {
     "data": {
      "text/plain": [
       "0.00208556"
      ]
     },
     "execution_count": 39,
     "metadata": {},
     "output_type": "execute_result"
    }
   ],
   "source": [
    "# função genérica. O resultado foi omitido\n",
    "\n",
    "fgmt = @elapsed map(fgen,w)"
   ]
  },
  {
   "cell_type": "code",
   "execution_count": 40,
   "metadata": {
    "collapsed": false,
    "scrolled": true
   },
   "outputs": [
    {
     "data": {
      "text/plain": [
       "0.004246161"
      ]
     },
     "execution_count": 40,
     "metadata": {},
     "output_type": "execute_result"
    }
   ],
   "source": [
    "# função anonima. O resultado foi omitido\n",
    "\n",
    "famt = @elapsed map(fanon,t)"
   ]
  },
  {
   "cell_type": "markdown",
   "metadata": {},
   "source": [
    "Vantagem para a função genérica usando o comando **map**"
   ]
  },
  {
   "cell_type": "markdown",
   "metadata": {},
   "source": [
    "#### USANDO O COMANDO EVAL ####"
   ]
  },
  {
   "cell_type": "code",
   "execution_count": null,
   "metadata": {
    "collapsed": true
   },
   "outputs": [],
   "source": [
    "# workspace()"
   ]
  },
  {
   "cell_type": "code",
   "execution_count": 41,
   "metadata": {
    "collapsed": false,
    "scrolled": true
   },
   "outputs": [
    {
     "data": {
      "text/plain": [
       "(x,)"
      ]
     },
     "execution_count": 41,
     "metadata": {},
     "output_type": "execute_result"
    }
   ],
   "source": [
    "using SymPy\n",
    "@syms x"
   ]
  },
  {
   "cell_type": "markdown",
   "metadata": {},
   "source": [
    "* ** Calculando as funçoes **"
   ]
  },
  {
   "cell_type": "code",
   "execution_count": 45,
   "metadata": {
    "collapsed": false,
    "scrolled": true
   },
   "outputs": [
    {
     "data": {
      "text/plain": [
       "3.666e-6"
      ]
     },
     "execution_count": 45,
     "metadata": {},
     "output_type": "execute_result"
    }
   ],
   "source": [
    "# função simbólica. Retire o \";\" para ver os resultados\n",
    "\n",
    "fsimb = -2.*x.^3 - x.^2 + 2.*x + 8\n",
    "\n",
    "x = 0:0.001:10\n",
    "\n",
    "fset = @elapsed SymPy.eval(fsimb)"
   ]
  },
  {
   "cell_type": "code",
   "execution_count": 46,
   "metadata": {
    "collapsed": false,
    "scrolled": true
   },
   "outputs": [
    {
     "data": {
      "text/plain": [
       "0.003787536"
      ]
     },
     "execution_count": 46,
     "metadata": {},
     "output_type": "execute_result"
    }
   ],
   "source": [
    "# função genérica. Retire o \";\" para ver os resultados\n",
    "\n",
    "fgen(w) = -2.*w.^3 - w.^2 + 2.*w + 8\n",
    "\n",
    "w = 0:0.001:10\n",
    "\n",
    "fget = @elapsed eval(fgen(w))"
   ]
  },
  {
   "cell_type": "code",
   "execution_count": 47,
   "metadata": {
    "collapsed": false,
    "scrolled": true
   },
   "outputs": [
    {
     "data": {
      "text/plain": [
       "0.003556069"
      ]
     },
     "execution_count": 47,
     "metadata": {},
     "output_type": "execute_result"
    }
   ],
   "source": [
    "# função anonima. Retire o \";\" para ver os resultados\n",
    "\n",
    "fanon = (t ->-2.*t.^3 - t.^2 + 2.*t + 8)\n",
    "\n",
    "t = 0:0.001:10\n",
    "\n",
    "faet = @elapsed eval(fanon(t))"
   ]
  },
  {
   "cell_type": "markdown",
   "metadata": {},
   "source": [
    "Vantagem para a função simbolica usando o eval"
   ]
  },
  {
   "cell_type": "markdown",
   "metadata": {},
   "source": [
    "#### USANDO O COMANDO DIRETO ####"
   ]
  },
  {
   "cell_type": "code",
   "execution_count": 48,
   "metadata": {
    "collapsed": false,
    "scrolled": true
   },
   "outputs": [
    {
     "data": {
      "text/plain": [
       "(x,)"
      ]
     },
     "execution_count": 48,
     "metadata": {},
     "output_type": "execute_result"
    }
   ],
   "source": [
    "using SymPy\n",
    "@syms x"
   ]
  },
  {
   "cell_type": "markdown",
   "metadata": {},
   "source": [
    "* ** Calculando as Funções **"
   ]
  },
  {
   "cell_type": "code",
   "execution_count": 52,
   "metadata": {
    "collapsed": false
   },
   "outputs": [
    {
     "data": {
      "text/plain": [
       "0.000956323"
      ]
     },
     "execution_count": 52,
     "metadata": {},
     "output_type": "execute_result"
    }
   ],
   "source": [
    "# função simbólica. Retire o \";\" para ver os resultados\n",
    "\n",
    "x = 0:0.001:10\n",
    "\n",
    "fsdt = @elapsed -2.*x.^3 - x.^2 + 2.*x + 8"
   ]
  },
  {
   "cell_type": "code",
   "execution_count": 53,
   "metadata": {
    "collapsed": false
   },
   "outputs": [
    {
     "data": {
      "text/plain": [
       "0.003508928"
      ]
     },
     "execution_count": 53,
     "metadata": {},
     "output_type": "execute_result"
    }
   ],
   "source": [
    "# função genérica. Retire o \";\" para ver os resultados\n",
    "\n",
    "fgen(w) = -2.*w.^3 - w.^2 + 2.*w + 8\n",
    "\n",
    "w = 0:0.001:10\n",
    "\n",
    "fgdt = @elapsed fgen(w)"
   ]
  },
  {
   "cell_type": "code",
   "execution_count": 54,
   "metadata": {
    "collapsed": false,
    "scrolled": false
   },
   "outputs": [
    {
     "data": {
      "text/plain": [
       "0.002592068"
      ]
     },
     "execution_count": 54,
     "metadata": {},
     "output_type": "execute_result"
    }
   ],
   "source": [
    "# função anonima. Retire o \";\" para ver os resultados\n",
    "\n",
    "t = 0:0.001:10\n",
    "\n",
    "fan = (t -> -2.*t.^3 - t.^2 + 2.*t + 8)\n",
    "\n",
    "fadt = @elapsed fan(t)"
   ]
  },
  {
   "cell_type": "markdown",
   "metadata": {},
   "source": [
    "#### RESULTADOS ####"
   ]
  },
  {
   "cell_type": "code",
   "execution_count": 55,
   "metadata": {
    "collapsed": false
   },
   "outputs": [
    {
     "data": {
      "text/plain": [
       "\"Resultados\""
      ]
     },
     "metadata": {},
     "output_type": "display_data"
    },
    {
     "data": {
      "text/plain": [
       "4x4 Array{Any,2}:\n",
       " \"---\"     \"map\"       \"eval\"      \"dir\"     \n",
       " \"Sim\"   15.9341      3.666e-6    0.000956323\n",
       " \"Ggen\"   0.00208556  0.00378754  0.00350893 \n",
       " \"Ano\"    0.00424616  0.00355607  0.00259207 "
      ]
     },
     "metadata": {},
     "output_type": "display_data"
    }
   ],
   "source": [
    "resultados = [\"---\" \"map\" \"eval\" \"dir\";\"Sim\" fsmt fset fsdt; \"Ggen\" fgmt fget fgdt; \"Ano\" famt faet fadt]\n",
    "\n",
    "display(\"Resultados\")\n",
    "\n",
    "display(resultados)"
   ]
  },
  {
   "cell_type": "markdown",
   "metadata": {},
   "source": [
    "Conforme a tabela acima, a função simbolica usando \"eval\" e \"direta\" são as mais rapidas. Em geral, a função genérica é a mais usada, assim o melhor uso é a generica \"direta\"."
   ]
  },
  {
   "cell_type": "markdown",
   "metadata": {},
   "source": [
    "### CALCULOS DIVERSOS COM EQUAÇÕES, INEQUAÇÕES E FUNÇÕES###"
   ]
  },
  {
   "cell_type": "code",
   "execution_count": 56,
   "metadata": {
    "collapsed": false
   },
   "outputs": [
    {
     "data": {
      "text/plain": [
       "(x,y)"
      ]
     },
     "execution_count": 56,
     "metadata": {},
     "output_type": "execute_result"
    }
   ],
   "source": [
    "using SymPy\n",
    "\n",
    "@syms x,y"
   ]
  },
  {
   "cell_type": "markdown",
   "metadata": {},
   "source": [
    "** Expansão dos termos de uma expressões **"
   ]
  },
  {
   "cell_type": "code",
   "execution_count": 57,
   "metadata": {
    "collapsed": false
   },
   "outputs": [
    {
     "data": {
      "text/latex": [
       "$$\\left(x - 3\\right)^{3} \\left(x - 2\\right)^{4}$$"
      ],
      "text/plain": [
       "       3        4\n",
       "(x - 3) *(x - 2) "
      ]
     },
     "execution_count": 57,
     "metadata": {},
     "output_type": "execute_result"
    }
   ],
   "source": [
    "y = (x-2)^4 * (x-3)^3"
   ]
  },
  {
   "cell_type": "code",
   "execution_count": 58,
   "metadata": {
    "collapsed": false
   },
   "outputs": [
    {
     "data": {
      "text/latex": [
       "$$x^{7} - 17 x^{6} + 123 x^{5} - 491 x^{4} + 1168 x^{3} - 1656 x^{2} + 1296 x - 432$$"
      ],
      "text/plain": [
       " 7       6        5        4         3         2               \n",
       "x  - 17*x  + 123*x  - 491*x  + 1168*x  - 1656*x  + 1296*x - 432"
      ]
     },
     "execution_count": 58,
     "metadata": {},
     "output_type": "execute_result"
    }
   ],
   "source": [
    "SymPy.expand(y)"
   ]
  },
  {
   "cell_type": "markdown",
   "metadata": {},
   "source": [
    "<strong>Fatorização</strong>"
   ]
  },
  {
   "cell_type": "code",
   "execution_count": 59,
   "metadata": {
    "collapsed": false
   },
   "outputs": [
    {
     "data": {
      "text/latex": [
       "$$x^{7} - 17 x^{6} + 123 x^{5} - 491 x^{4} + 1168 x^{3} - 1656 x^{2} + 1296 x - 432$$"
      ],
      "text/plain": [
       " 7       6        5        4         3         2               \n",
       "x  - 17*x  + 123*x  - 491*x  + 1168*x  - 1656*x  + 1296*x - 432"
      ]
     },
     "execution_count": 59,
     "metadata": {},
     "output_type": "execute_result"
    }
   ],
   "source": [
    "y = x^7 - 17*x^6 + 123*x^5 - 491*x^4 + 1168*x^3 - 1656*x^2 + 1296*x - 432"
   ]
  },
  {
   "cell_type": "code",
   "execution_count": 60,
   "metadata": {
    "collapsed": false
   },
   "outputs": [
    {
     "data": {
      "text/latex": [
       "$$\\left(x - 3\\right)^{3} \\left(x - 2\\right)^{4}$$"
      ],
      "text/plain": [
       "       3        4\n",
       "(x - 3) *(x - 2) "
      ]
     },
     "execution_count": 60,
     "metadata": {},
     "output_type": "execute_result"
    }
   ],
   "source": [
    "SymPy.factor(y)"
   ]
  },
  {
   "cell_type": "markdown",
   "metadata": {},
   "source": [
    "<strong>Frações parciais</strong>"
   ]
  },
  {
   "cell_type": "code",
   "execution_count": 61,
   "metadata": {
    "collapsed": false
   },
   "outputs": [
    {
     "data": {
      "text/latex": [
       "$$\\frac{2 x^{2} + 3 x - 1}{x^{2} - 3 x + 2}$$"
      ],
      "text/plain": [
       "   2          \n",
       "2*x  + 3*x - 1\n",
       "--------------\n",
       "  2           \n",
       " x  - 3*x + 2 "
      ]
     },
     "execution_count": 61,
     "metadata": {},
     "output_type": "execute_result"
    }
   ],
   "source": [
    "fx = (2*x^2 +3*x -1) / (x^2 - 3*x + 2)"
   ]
  },
  {
   "cell_type": "code",
   "execution_count": 62,
   "metadata": {
    "collapsed": false
   },
   "outputs": [
    {
     "data": {
      "text/latex": [
       "$$2 - \\frac{4}{x - 1} + \\frac{13}{x - 2}$$"
      ],
      "text/plain": [
       "      4       13 \n",
       "2 - ----- + -----\n",
       "    x - 1   x - 2"
      ]
     },
     "execution_count": 62,
     "metadata": {},
     "output_type": "execute_result"
    }
   ],
   "source": [
    "# fraçõs parciais\n",
    "\n",
    "SymPy.apart(fx)"
   ]
  },
  {
   "cell_type": "markdown",
   "metadata": {},
   "source": [
    "<strong>Simplificação de expressões</strong>"
   ]
  },
  {
   "cell_type": "code",
   "execution_count": 63,
   "metadata": {
    "collapsed": false,
    "scrolled": false
   },
   "outputs": [
    {
     "data": {
      "text/latex": [
       "$$2 - \\frac{4}{x - 1} + \\frac{13}{x - 2}$$"
      ],
      "text/plain": [
       "      4       13 \n",
       "2 - ----- + -----\n",
       "    x - 1   x - 2"
      ]
     },
     "execution_count": 63,
     "metadata": {},
     "output_type": "execute_result"
    }
   ],
   "source": [
    "frac_fx = 13/(x-2) + -4/(x-1) +2"
   ]
  },
  {
   "cell_type": "code",
   "execution_count": 64,
   "metadata": {
    "collapsed": false
   },
   "outputs": [
    {
     "data": {
      "text/latex": [
       "$$\\frac{2 x^{2} + 3 x - 1}{x^{2} - 3 x + 2}$$"
      ],
      "text/plain": [
       "   2          \n",
       "2*x  + 3*x - 1\n",
       "--------------\n",
       "  2           \n",
       " x  - 3*x + 2 "
      ]
     },
     "execution_count": 64,
     "metadata": {},
     "output_type": "execute_result"
    }
   ],
   "source": [
    "SymPy.simplify(frac_fx)"
   ]
  },
  {
   "cell_type": "markdown",
   "metadata": {},
   "source": []
  },
  {
   "cell_type": "markdown",
   "metadata": {
    "collapsed": true
   },
   "source": [
    "** Substituir variável por um valor ou outra variável**\n",
    "\n",
    "Para substituir o valor de X na equação acima, utilizamos o comando **subs(variável, variável_expressão, variavel/valor)**\n",
    "\n",
    "Observe no exemplo 1, que a expressão de Y continua a mesma, só o valor de X que é alterado para o valor (2) e o cálculo é realizado (Y = 2). No exemplo 2, a variável X é alterada para W. E no exemplo 3, as variáveis X e W são substituídas por valores e outras variáveis"
   ]
  },
  {
   "cell_type": "markdown",
   "metadata": {},
   "source": [
    "* ** Exemplo 1: substituição por um valor numérico **"
   ]
  },
  {
   "cell_type": "code",
   "execution_count": 65,
   "metadata": {
    "collapsed": false,
    "scrolled": true
   },
   "outputs": [
    {
     "data": {
      "text/plain": [
       "(x,y)"
      ]
     },
     "execution_count": 65,
     "metadata": {},
     "output_type": "execute_result"
    }
   ],
   "source": [
    "using SymPy\n",
    "\n",
    "@vars x,y"
   ]
  },
  {
   "cell_type": "code",
   "execution_count": 66,
   "metadata": {
    "collapsed": false,
    "scrolled": false
   },
   "outputs": [
    {
     "data": {
      "text/latex": [
       "$$2$$"
      ],
      "text/plain": [
       "2"
      ]
     },
     "execution_count": 66,
     "metadata": {},
     "output_type": "execute_result"
    }
   ],
   "source": [
    "# x = 0\n",
    "\n",
    "SymPy.subs(x^2-3*x+2,(x,0))"
   ]
  },
  {
   "cell_type": "code",
   "execution_count": 67,
   "metadata": {
    "collapsed": false,
    "scrolled": true
   },
   "outputs": [
    {
     "ename": "LoadError",
     "evalue": "LoadError: MethodError: `convert` has no method matching convert(::Type{SymPy.Sym}, ::Array{Int64,2})\nThis may have arisen from a call to the constructor SymPy.Sym(...),\nsince type constructors fall back to convert methods.\nClosest candidates are:\n  SymPy.Sym(::Any)\n  SymPy.Sym(::Any...)\n  call{T}(::Type{T}, ::Any)\n  ...\nwhile loading In[67], in expression starting on line 3",
     "output_type": "error",
     "traceback": [
      "LoadError: MethodError: `convert` has no method matching convert(::Type{SymPy.Sym}, ::Array{Int64,2})\nThis may have arisen from a call to the constructor SymPy.Sym(...),\nsince type constructors fall back to convert methods.\nClosest candidates are:\n  SymPy.Sym(::Any)\n  SymPy.Sym(::Any...)\n  call{T}(::Type{T}, ::Any)\n  ...\nwhile loading In[67], in expression starting on line 3",
      ""
     ]
    }
   ],
   "source": [
    "# O comando subs do julia não substitui por um vetor x = [1, -1, 0]. OCORRE ERRO!\n",
    "\n",
    "SymPy.subs(x^2 - 3*x + 2,(x,[1 -1 0]))"
   ]
  },
  {
   "cell_type": "markdown",
   "metadata": {},
   "source": [
    "* ** Exemplo 2: substituição por uma variável **"
   ]
  },
  {
   "cell_type": "code",
   "execution_count": 68,
   "metadata": {
    "collapsed": false,
    "scrolled": true
   },
   "outputs": [
    {
     "data": {
      "text/latex": [
       "$$w^{2} - 3 w + 2$$"
      ],
      "text/plain": [
       " 2          \n",
       "w  - 3*w + 2"
      ]
     },
     "execution_count": 68,
     "metadata": {},
     "output_type": "execute_result"
    }
   ],
   "source": [
    "# x por w\n",
    "\n",
    "@syms w\n",
    "\n",
    "y_w = SymPy.subs(x^2-3*x+2,x,w)"
   ]
  },
  {
   "cell_type": "markdown",
   "metadata": {},
   "source": [
    "* ** Exemplo 3: Para substituir mais de uma variável: **"
   ]
  },
  {
   "cell_type": "code",
   "execution_count": 69,
   "metadata": {
    "collapsed": false
   },
   "outputs": [
    {
     "data": {
      "text/plain": [
       "(4,4)"
      ]
     },
     "execution_count": 69,
     "metadata": {},
     "output_type": "execute_result"
    }
   ],
   "source": [
    "# Substitui x e w por 2 e 1 e efetua o cálculo\n",
    "\n",
    "r = x*w+2\n",
    "\n",
    "SymPy.subs(r,(x,2),(w,1)), SymPy.subs(r,x=>2,w=>1)"
   ]
  },
  {
   "cell_type": "code",
   "execution_count": 70,
   "metadata": {
    "collapsed": false
   },
   "outputs": [
    {
     "data": {
      "text/latex": [
       "$$4$$"
      ],
      "text/plain": [
       "4"
      ]
     },
     "execution_count": 70,
     "metadata": {},
     "output_type": "execute_result"
    }
   ],
   "source": [
    "# Substitui x e w por p e q e efetua o cálculo\n",
    "\n",
    "@vars p,q\n",
    "\n",
    "SymPy.subs(r,x=>p=2,w=>q=1)"
   ]
  },
  {
   "cell_type": "markdown",
   "metadata": {},
   "source": [
    "Resetar o valor das variáveis X e Y"
   ]
  },
  {
   "cell_type": "markdown",
   "metadata": {},
   "source": []
  }
 ],
 "metadata": {
  "kernelspec": {
   "display_name": "Julia 0.4.5",
   "language": "julia",
   "name": "julia-0.4"
  },
  "language_info": {
   "file_extension": ".jl",
   "mimetype": "application/julia",
   "name": "julia",
   "version": "0.4.5"
  }
 },
 "nbformat": 4,
 "nbformat_minor": 0
}
